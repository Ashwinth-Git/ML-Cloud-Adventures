{
 "cells": [
  {
   "cell_type": "markdown",
   "metadata": {
    "colab_type": "text",
    "id": "zKmFmyaGunc7"
   },
   "source": [
    "# IMPORT KEY LIBRARIES/DATASETS AND PREPARE THE DATA FOR TRAINING"
   ]
  },
  {
   "cell_type": "code",
   "execution_count": 2,
   "metadata": {
    "tags": []
   },
   "outputs": [
    {
     "name": "stdout",
     "output_type": "stream",
     "text": [
      "Requirement already satisfied: Seaborn in /opt/conda/lib/python3.11/site-packages (0.13.2)\n",
      "Requirement already satisfied: numpy!=1.24.0,>=1.20 in /opt/conda/lib/python3.11/site-packages (from Seaborn) (2.1.3)\n",
      "Requirement already satisfied: pandas>=1.2 in /opt/conda/lib/python3.11/site-packages (from Seaborn) (2.2.3)\n",
      "Requirement already satisfied: matplotlib!=3.6.1,>=3.4 in /opt/conda/lib/python3.11/site-packages (from Seaborn) (3.8.4)\n",
      "Requirement already satisfied: contourpy>=1.0.1 in /opt/conda/lib/python3.11/site-packages (from matplotlib!=3.6.1,>=3.4->Seaborn) (1.2.1)\n",
      "Requirement already satisfied: cycler>=0.10 in /opt/conda/lib/python3.11/site-packages (from matplotlib!=3.6.1,>=3.4->Seaborn) (0.12.1)\n",
      "Requirement already satisfied: fonttools>=4.22.0 in /opt/conda/lib/python3.11/site-packages (from matplotlib!=3.6.1,>=3.4->Seaborn) (4.53.0)\n",
      "Requirement already satisfied: kiwisolver>=1.3.1 in /opt/conda/lib/python3.11/site-packages (from matplotlib!=3.6.1,>=3.4->Seaborn) (1.4.5)\n",
      "Requirement already satisfied: packaging>=20.0 in /opt/conda/lib/python3.11/site-packages (from matplotlib!=3.6.1,>=3.4->Seaborn) (23.2)\n",
      "Requirement already satisfied: pillow>=8 in /opt/conda/lib/python3.11/site-packages (from matplotlib!=3.6.1,>=3.4->Seaborn) (10.3.0)\n",
      "Requirement already satisfied: pyparsing>=2.3.1 in /opt/conda/lib/python3.11/site-packages (from matplotlib!=3.6.1,>=3.4->Seaborn) (3.1.2)\n",
      "Requirement already satisfied: python-dateutil>=2.7 in /opt/conda/lib/python3.11/site-packages (from matplotlib!=3.6.1,>=3.4->Seaborn) (2.9.0)\n",
      "Requirement already satisfied: pytz>=2020.1 in /opt/conda/lib/python3.11/site-packages (from pandas>=1.2->Seaborn) (2024.1)\n",
      "Requirement already satisfied: tzdata>=2022.7 in /opt/conda/lib/python3.11/site-packages (from pandas>=1.2->Seaborn) (2024.1)\n",
      "Requirement already satisfied: six>=1.5 in /opt/conda/lib/python3.11/site-packages (from python-dateutil>=2.7->matplotlib!=3.6.1,>=3.4->Seaborn) (1.16.0)\n",
      "\u001b[33mWARNING: Running pip as the 'root' user can result in broken permissions and conflicting behaviour with the system package manager. It is recommended to use a virtual environment instead: https://pip.pypa.io/warnings/venv\u001b[0m\u001b[33m\n",
      "\u001b[0m"
     ]
    }
   ],
   "source": [
    "# Install seaborn library\n",
    "!pip install --upgrade Seaborn\n",
    "\n",
    "# Import required libraries\n",
    "import pandas as pd\n",
    "import numpy as np\n",
    "import seaborn as sns\n",
    "import matplotlib.pyplot as plt\n"
   ]
  },
  {
   "cell_type": "code",
   "execution_count": 3,
   "metadata": {
    "colab": {},
    "colab_type": "code",
    "id": "tjIiJdM4u1IE",
    "tags": []
   },
   "outputs": [],
   "source": [
    "# Read the data using Pandas \n",
    "icecream_sales_df = pd.read_csv('IceCreamData.csv')"
   ]
  },
  {
   "cell_type": "code",
   "execution_count": 4,
   "metadata": {
    "colab": {
     "base_uri": "https://localhost:8080/",
     "height": 204
    },
    "colab_type": "code",
    "id": "q4_wPDKCu5Uc",
    "outputId": "886d2aaf-0205-4f46-96a7-629d0f367d2f",
    "tags": []
   },
   "outputs": [
    {
     "data": {
      "text/html": [
       "<div>\n",
       "<style scoped>\n",
       "    .dataframe tbody tr th:only-of-type {\n",
       "        vertical-align: middle;\n",
       "    }\n",
       "\n",
       "    .dataframe tbody tr th {\n",
       "        vertical-align: top;\n",
       "    }\n",
       "\n",
       "    .dataframe thead th {\n",
       "        text-align: right;\n",
       "    }\n",
       "</style>\n",
       "<table border=\"1\" class=\"dataframe\">\n",
       "  <thead>\n",
       "    <tr style=\"text-align: right;\">\n",
       "      <th></th>\n",
       "      <th>Temperature</th>\n",
       "      <th>Revenue</th>\n",
       "    </tr>\n",
       "  </thead>\n",
       "  <tbody>\n",
       "    <tr>\n",
       "      <th>0</th>\n",
       "      <td>24.566884</td>\n",
       "      <td>534.799028</td>\n",
       "    </tr>\n",
       "    <tr>\n",
       "      <th>1</th>\n",
       "      <td>26.005191</td>\n",
       "      <td>625.190122</td>\n",
       "    </tr>\n",
       "    <tr>\n",
       "      <th>2</th>\n",
       "      <td>27.790554</td>\n",
       "      <td>660.632289</td>\n",
       "    </tr>\n",
       "    <tr>\n",
       "      <th>3</th>\n",
       "      <td>20.595335</td>\n",
       "      <td>487.706960</td>\n",
       "    </tr>\n",
       "    <tr>\n",
       "      <th>4</th>\n",
       "      <td>11.503498</td>\n",
       "      <td>316.240194</td>\n",
       "    </tr>\n",
       "    <tr>\n",
       "      <th>...</th>\n",
       "      <td>...</td>\n",
       "      <td>...</td>\n",
       "    </tr>\n",
       "    <tr>\n",
       "      <th>495</th>\n",
       "      <td>22.274899</td>\n",
       "      <td>524.746364</td>\n",
       "    </tr>\n",
       "    <tr>\n",
       "      <th>496</th>\n",
       "      <td>32.893092</td>\n",
       "      <td>755.818399</td>\n",
       "    </tr>\n",
       "    <tr>\n",
       "      <th>497</th>\n",
       "      <td>12.588157</td>\n",
       "      <td>306.090719</td>\n",
       "    </tr>\n",
       "    <tr>\n",
       "      <th>498</th>\n",
       "      <td>22.362402</td>\n",
       "      <td>566.217304</td>\n",
       "    </tr>\n",
       "    <tr>\n",
       "      <th>499</th>\n",
       "      <td>28.957736</td>\n",
       "      <td>655.660388</td>\n",
       "    </tr>\n",
       "  </tbody>\n",
       "</table>\n",
       "<p>500 rows × 2 columns</p>\n",
       "</div>"
      ],
      "text/plain": [
       "     Temperature     Revenue\n",
       "0      24.566884  534.799028\n",
       "1      26.005191  625.190122\n",
       "2      27.790554  660.632289\n",
       "3      20.595335  487.706960\n",
       "4      11.503498  316.240194\n",
       "..           ...         ...\n",
       "495    22.274899  524.746364\n",
       "496    32.893092  755.818399\n",
       "497    12.588157  306.090719\n",
       "498    22.362402  566.217304\n",
       "499    28.957736  655.660388\n",
       "\n",
       "[500 rows x 2 columns]"
      ]
     },
     "execution_count": 4,
     "metadata": {},
     "output_type": "execute_result"
    }
   ],
   "source": [
    "# View the DataFrame\n",
    "icecream_sales_df"
   ]
  },
  {
   "cell_type": "code",
   "execution_count": 5,
   "metadata": {
    "tags": []
   },
   "outputs": [
    {
     "data": {
      "text/html": [
       "<div>\n",
       "<style scoped>\n",
       "    .dataframe tbody tr th:only-of-type {\n",
       "        vertical-align: middle;\n",
       "    }\n",
       "\n",
       "    .dataframe tbody tr th {\n",
       "        vertical-align: top;\n",
       "    }\n",
       "\n",
       "    .dataframe thead th {\n",
       "        text-align: right;\n",
       "    }\n",
       "</style>\n",
       "<table border=\"1\" class=\"dataframe\">\n",
       "  <thead>\n",
       "    <tr style=\"text-align: right;\">\n",
       "      <th></th>\n",
       "      <th>Temperature</th>\n",
       "      <th>Revenue</th>\n",
       "    </tr>\n",
       "  </thead>\n",
       "  <tbody>\n",
       "    <tr>\n",
       "      <th>0</th>\n",
       "      <td>24.566884</td>\n",
       "      <td>534.799028</td>\n",
       "    </tr>\n",
       "    <tr>\n",
       "      <th>1</th>\n",
       "      <td>26.005191</td>\n",
       "      <td>625.190122</td>\n",
       "    </tr>\n",
       "    <tr>\n",
       "      <th>2</th>\n",
       "      <td>27.790554</td>\n",
       "      <td>660.632289</td>\n",
       "    </tr>\n",
       "    <tr>\n",
       "      <th>3</th>\n",
       "      <td>20.595335</td>\n",
       "      <td>487.706960</td>\n",
       "    </tr>\n",
       "    <tr>\n",
       "      <th>4</th>\n",
       "      <td>11.503498</td>\n",
       "      <td>316.240194</td>\n",
       "    </tr>\n",
       "  </tbody>\n",
       "</table>\n",
       "</div>"
      ],
      "text/plain": [
       "   Temperature     Revenue\n",
       "0    24.566884  534.799028\n",
       "1    26.005191  625.190122\n",
       "2    27.790554  660.632289\n",
       "3    20.595335  487.706960\n",
       "4    11.503498  316.240194"
      ]
     },
     "execution_count": 5,
     "metadata": {},
     "output_type": "execute_result"
    }
   ],
   "source": [
    "icecream_sales_df.head()"
   ]
  },
  {
   "cell_type": "code",
   "execution_count": 6,
   "metadata": {
    "tags": []
   },
   "outputs": [
    {
     "data": {
      "text/html": [
       "<div>\n",
       "<style scoped>\n",
       "    .dataframe tbody tr th:only-of-type {\n",
       "        vertical-align: middle;\n",
       "    }\n",
       "\n",
       "    .dataframe tbody tr th {\n",
       "        vertical-align: top;\n",
       "    }\n",
       "\n",
       "    .dataframe thead th {\n",
       "        text-align: right;\n",
       "    }\n",
       "</style>\n",
       "<table border=\"1\" class=\"dataframe\">\n",
       "  <thead>\n",
       "    <tr style=\"text-align: right;\">\n",
       "      <th></th>\n",
       "      <th>Temperature</th>\n",
       "      <th>Revenue</th>\n",
       "    </tr>\n",
       "  </thead>\n",
       "  <tbody>\n",
       "    <tr>\n",
       "      <th>495</th>\n",
       "      <td>22.274899</td>\n",
       "      <td>524.746364</td>\n",
       "    </tr>\n",
       "    <tr>\n",
       "      <th>496</th>\n",
       "      <td>32.893092</td>\n",
       "      <td>755.818399</td>\n",
       "    </tr>\n",
       "    <tr>\n",
       "      <th>497</th>\n",
       "      <td>12.588157</td>\n",
       "      <td>306.090719</td>\n",
       "    </tr>\n",
       "    <tr>\n",
       "      <th>498</th>\n",
       "      <td>22.362402</td>\n",
       "      <td>566.217304</td>\n",
       "    </tr>\n",
       "    <tr>\n",
       "      <th>499</th>\n",
       "      <td>28.957736</td>\n",
       "      <td>655.660388</td>\n",
       "    </tr>\n",
       "  </tbody>\n",
       "</table>\n",
       "</div>"
      ],
      "text/plain": [
       "     Temperature     Revenue\n",
       "495    22.274899  524.746364\n",
       "496    32.893092  755.818399\n",
       "497    12.588157  306.090719\n",
       "498    22.362402  566.217304\n",
       "499    28.957736  655.660388"
      ]
     },
     "execution_count": 6,
     "metadata": {},
     "output_type": "execute_result"
    }
   ],
   "source": [
    "icecream_sales_df.tail()"
   ]
  },
  {
   "cell_type": "code",
   "execution_count": 7,
   "metadata": {
    "colab": {},
    "colab_type": "code",
    "id": "4OXZB2F21e4H",
    "tags": []
   },
   "outputs": [],
   "source": [
    "# Separate the data into input X and output y\n",
    "X = icecream_sales_df[['Temperature']]\n",
    "y = icecream_sales_df[['Revenue']]"
   ]
  },
  {
   "cell_type": "code",
   "execution_count": 8,
   "metadata": {
    "scrolled": true,
    "tags": []
   },
   "outputs": [
    {
     "data": {
      "text/html": [
       "<div>\n",
       "<style scoped>\n",
       "    .dataframe tbody tr th:only-of-type {\n",
       "        vertical-align: middle;\n",
       "    }\n",
       "\n",
       "    .dataframe tbody tr th {\n",
       "        vertical-align: top;\n",
       "    }\n",
       "\n",
       "    .dataframe thead th {\n",
       "        text-align: right;\n",
       "    }\n",
       "</style>\n",
       "<table border=\"1\" class=\"dataframe\">\n",
       "  <thead>\n",
       "    <tr style=\"text-align: right;\">\n",
       "      <th></th>\n",
       "      <th>Temperature</th>\n",
       "    </tr>\n",
       "  </thead>\n",
       "  <tbody>\n",
       "    <tr>\n",
       "      <th>0</th>\n",
       "      <td>24.566884</td>\n",
       "    </tr>\n",
       "    <tr>\n",
       "      <th>1</th>\n",
       "      <td>26.005191</td>\n",
       "    </tr>\n",
       "    <tr>\n",
       "      <th>2</th>\n",
       "      <td>27.790554</td>\n",
       "    </tr>\n",
       "    <tr>\n",
       "      <th>3</th>\n",
       "      <td>20.595335</td>\n",
       "    </tr>\n",
       "    <tr>\n",
       "      <th>4</th>\n",
       "      <td>11.503498</td>\n",
       "    </tr>\n",
       "    <tr>\n",
       "      <th>...</th>\n",
       "      <td>...</td>\n",
       "    </tr>\n",
       "    <tr>\n",
       "      <th>495</th>\n",
       "      <td>22.274899</td>\n",
       "    </tr>\n",
       "    <tr>\n",
       "      <th>496</th>\n",
       "      <td>32.893092</td>\n",
       "    </tr>\n",
       "    <tr>\n",
       "      <th>497</th>\n",
       "      <td>12.588157</td>\n",
       "    </tr>\n",
       "    <tr>\n",
       "      <th>498</th>\n",
       "      <td>22.362402</td>\n",
       "    </tr>\n",
       "    <tr>\n",
       "      <th>499</th>\n",
       "      <td>28.957736</td>\n",
       "    </tr>\n",
       "  </tbody>\n",
       "</table>\n",
       "<p>500 rows × 1 columns</p>\n",
       "</div>"
      ],
      "text/plain": [
       "     Temperature\n",
       "0      24.566884\n",
       "1      26.005191\n",
       "2      27.790554\n",
       "3      20.595335\n",
       "4      11.503498\n",
       "..           ...\n",
       "495    22.274899\n",
       "496    32.893092\n",
       "497    12.588157\n",
       "498    22.362402\n",
       "499    28.957736\n",
       "\n",
       "[500 rows x 1 columns]"
      ]
     },
     "execution_count": 8,
     "metadata": {},
     "output_type": "execute_result"
    }
   ],
   "source": [
    "X"
   ]
  },
  {
   "cell_type": "code",
   "execution_count": 9,
   "metadata": {
    "tags": []
   },
   "outputs": [
    {
     "data": {
      "text/html": [
       "<div>\n",
       "<style scoped>\n",
       "    .dataframe tbody tr th:only-of-type {\n",
       "        vertical-align: middle;\n",
       "    }\n",
       "\n",
       "    .dataframe tbody tr th {\n",
       "        vertical-align: top;\n",
       "    }\n",
       "\n",
       "    .dataframe thead th {\n",
       "        text-align: right;\n",
       "    }\n",
       "</style>\n",
       "<table border=\"1\" class=\"dataframe\">\n",
       "  <thead>\n",
       "    <tr style=\"text-align: right;\">\n",
       "      <th></th>\n",
       "      <th>Revenue</th>\n",
       "    </tr>\n",
       "  </thead>\n",
       "  <tbody>\n",
       "    <tr>\n",
       "      <th>0</th>\n",
       "      <td>534.799028</td>\n",
       "    </tr>\n",
       "    <tr>\n",
       "      <th>1</th>\n",
       "      <td>625.190122</td>\n",
       "    </tr>\n",
       "    <tr>\n",
       "      <th>2</th>\n",
       "      <td>660.632289</td>\n",
       "    </tr>\n",
       "    <tr>\n",
       "      <th>3</th>\n",
       "      <td>487.706960</td>\n",
       "    </tr>\n",
       "    <tr>\n",
       "      <th>4</th>\n",
       "      <td>316.240194</td>\n",
       "    </tr>\n",
       "    <tr>\n",
       "      <th>...</th>\n",
       "      <td>...</td>\n",
       "    </tr>\n",
       "    <tr>\n",
       "      <th>495</th>\n",
       "      <td>524.746364</td>\n",
       "    </tr>\n",
       "    <tr>\n",
       "      <th>496</th>\n",
       "      <td>755.818399</td>\n",
       "    </tr>\n",
       "    <tr>\n",
       "      <th>497</th>\n",
       "      <td>306.090719</td>\n",
       "    </tr>\n",
       "    <tr>\n",
       "      <th>498</th>\n",
       "      <td>566.217304</td>\n",
       "    </tr>\n",
       "    <tr>\n",
       "      <th>499</th>\n",
       "      <td>655.660388</td>\n",
       "    </tr>\n",
       "  </tbody>\n",
       "</table>\n",
       "<p>500 rows × 1 columns</p>\n",
       "</div>"
      ],
      "text/plain": [
       "        Revenue\n",
       "0    534.799028\n",
       "1    625.190122\n",
       "2    660.632289\n",
       "3    487.706960\n",
       "4    316.240194\n",
       "..          ...\n",
       "495  524.746364\n",
       "496  755.818399\n",
       "497  306.090719\n",
       "498  566.217304\n",
       "499  655.660388\n",
       "\n",
       "[500 rows x 1 columns]"
      ]
     },
     "execution_count": 9,
     "metadata": {},
     "output_type": "execute_result"
    }
   ],
   "source": [
    "y"
   ]
  },
  {
   "cell_type": "code",
   "execution_count": 10,
   "metadata": {
    "colab": {
     "base_uri": "https://localhost:8080/",
     "height": 34
    },
    "colab_type": "code",
    "id": "XpGU63Ne1e9P",
    "outputId": "e16c74ca-dc1c-416c-dc44-7f927bb99bc6",
    "tags": []
   },
   "outputs": [
    {
     "data": {
      "text/plain": [
       "(500, 1)"
      ]
     },
     "execution_count": 10,
     "metadata": {},
     "output_type": "execute_result"
    }
   ],
   "source": [
    "# Check out the shape of the input\n",
    "X.shape"
   ]
  },
  {
   "cell_type": "code",
   "execution_count": 11,
   "metadata": {
    "colab": {
     "base_uri": "https://localhost:8080/",
     "height": 34
    },
    "colab_type": "code",
    "id": "OjGj0RALA0qZ",
    "outputId": "26559a6c-880b-45b4-a1e8-3c4b92bea889",
    "tags": []
   },
   "outputs": [
    {
     "data": {
      "text/plain": [
       "(500, 1)"
      ]
     },
     "execution_count": 11,
     "metadata": {},
     "output_type": "execute_result"
    }
   ],
   "source": [
    "# Check out the shape of the output\n",
    "y.shape"
   ]
  },
  {
   "cell_type": "code",
   "execution_count": 12,
   "metadata": {
    "colab": {},
    "colab_type": "code",
    "id": "jIeiK1maA6mm",
    "tags": []
   },
   "outputs": [],
   "source": [
    "# Convert the datatype to float32\n",
    "X = np.array(X).astype('float32')\n",
    "y = np.array(y).astype('float32')"
   ]
  },
  {
   "cell_type": "code",
   "execution_count": 13,
   "metadata": {
    "colab": {},
    "colab_type": "code",
    "id": "GoReLFfnA6uF",
    "tags": []
   },
   "outputs": [],
   "source": [
    "# split the data into training and testing(20%) using SkLearn Library\n",
    "from sklearn.model_selection import train_test_split\n",
    "X_train, X_test, y_train, y_test = train_test_split(X, y, test_size = 0.2)"
   ]
  },
  {
   "cell_type": "markdown",
   "metadata": {},
   "source": [
    "# TRAIN A LINEAR LEARNER MODEL USING AWS SAGEMAKER "
   ]
  },
  {
   "cell_type": "code",
   "execution_count": 14,
   "metadata": {
    "tags": []
   },
   "outputs": [
    {
     "name": "stdout",
     "output_type": "stream",
     "text": [
      "sagemaker.config INFO - Not applying SDK defaults from location: /etc/xdg/sagemaker/config.yaml\n",
      "sagemaker.config INFO - Not applying SDK defaults from location: /root/.config/sagemaker/config.yaml\n",
      "arn:aws:iam::588738589118:role/service-role/AmazonSageMaker-ExecutionRole-20241129T190553\n"
     ]
    }
   ],
   "source": [
    "import sagemaker\n",
    "import boto3\n",
    "\n",
    "# Create a Sagemaker session\n",
    "sagemaker_session = sagemaker.Session()\n",
    "\n",
    "# Let's define the S3 bucket and prefix that we want to use in this session\n",
    "bucket = 'ml-lab-sagemaker' # bucket need to be created beforehand\n",
    "prefix = 'simple_linear_learner' # prefix is the subfolder within the bucket.\n",
    "\n",
    "# Create a sagemekaer execution role\n",
    "role = sagemaker.get_execution_role()\n",
    "print(role)"
   ]
  },
  {
   "cell_type": "code",
   "execution_count": 15,
   "metadata": {
    "tags": []
   },
   "outputs": [
    {
     "data": {
      "text/plain": [
       "(400, 1)"
      ]
     },
     "execution_count": 15,
     "metadata": {},
     "output_type": "execute_result"
    }
   ],
   "source": [
    "X_train.shape"
   ]
  },
  {
   "cell_type": "code",
   "execution_count": 19,
   "metadata": {
    "tags": []
   },
   "outputs": [],
   "source": [
    "# Make sure that the target label is a vector\n",
    "y_train = y_train[:,0] "
   ]
  },
  {
   "cell_type": "code",
   "execution_count": 20,
   "metadata": {
    "tags": []
   },
   "outputs": [
    {
     "data": {
      "text/plain": [
       "(400,)"
      ]
     },
     "execution_count": 20,
     "metadata": {},
     "output_type": "execute_result"
    }
   ],
   "source": [
    "y_train.shape"
   ]
  },
  {
   "cell_type": "code",
   "execution_count": 25,
   "metadata": {
    "tags": []
   },
   "outputs": [
    {
     "data": {
      "text/plain": [
       "0"
      ]
     },
     "execution_count": 25,
     "metadata": {},
     "output_type": "execute_result"
    }
   ],
   "source": [
    "import io # The io module allows for dealing with various types of I/O (text I/O, binary I/O and raw I/O). \n",
    "import numpy as np\n",
    "import sagemaker.amazon.common as smac # sagemaker common libary\n",
    "\n",
    "# Code below converts the data in numpy array format to RecordIO format\n",
    "# This is the format required by Sagemaker Linear Learner (one of many available options!)\n",
    "\n",
    "buf = io.BytesIO() # create an in-memory byte array (buf is a buffer I will be writing to)\n",
    "smac.write_numpy_to_dense_tensor(buf, X_train, y_train)\n",
    "buf.seek(0) \n",
    "# When you write to in-memory byte arrays, it increments 1 every time you write to it\n",
    "# Let's reset that back to zero \n"
   ]
  },
  {
   "cell_type": "code",
   "execution_count": 26,
   "metadata": {
    "tags": []
   },
   "outputs": [
    {
     "name": "stdout",
     "output_type": "stream",
     "text": [
      "uploaded training data location: s3://ml-lab-sagemaker/simple_linear_learner/train/linear-train-data\n"
     ]
    }
   ],
   "source": [
    "import os\n",
    "\n",
    "# Code to upload RecordIO data to S3\n",
    " \n",
    "# Key refers to the name of the file    \n",
    "key = 'linear-train-data'\n",
    "\n",
    "# The following code uploads the data in record-io format to S3 bucket to be accessed later for training\n",
    "boto3.resource('s3').Bucket(bucket).Object(os.path.join(prefix, 'train', key)).upload_fileobj(buf)\n",
    "\n",
    "# Let's print out the training data location in s3\n",
    "s3_train_data = 's3://{}/{}/train/{}'.format(bucket, prefix, key)\n",
    "print('uploaded training data location: {}'.format(s3_train_data))"
   ]
  },
  {
   "cell_type": "code",
   "execution_count": 27,
   "metadata": {
    "tags": []
   },
   "outputs": [
    {
     "data": {
      "text/plain": [
       "(100, 1)"
      ]
     },
     "execution_count": 27,
     "metadata": {},
     "output_type": "execute_result"
    }
   ],
   "source": [
    "X_test.shape"
   ]
  },
  {
   "cell_type": "code",
   "execution_count": 31,
   "metadata": {
    "tags": []
   },
   "outputs": [
    {
     "data": {
      "text/plain": [
       "(100, 1)"
      ]
     },
     "execution_count": 31,
     "metadata": {},
     "output_type": "execute_result"
    }
   ],
   "source": [
    "y_test.shape"
   ]
  },
  {
   "cell_type": "code",
   "execution_count": 32,
   "metadata": {
    "tags": []
   },
   "outputs": [],
   "source": [
    "# Make sure that the target label is a vector\n",
    "y_test = y_test[:,0]\n"
   ]
  },
  {
   "cell_type": "code",
   "execution_count": 33,
   "metadata": {
    "tags": []
   },
   "outputs": [
    {
     "data": {
      "text/plain": [
       "0"
      ]
     },
     "execution_count": 33,
     "metadata": {},
     "output_type": "execute_result"
    }
   ],
   "source": [
    "# Code to upload RecordIO data to S3\n",
    "\n",
    "buf = io.BytesIO() # create an in-memory byte array (buf is a buffer I will be writing to)\n",
    "smac.write_numpy_to_dense_tensor(buf, X_test, y_test)\n",
    "buf.seek(0) \n",
    "# When you write to in-memory byte arrays, it increments 1 every time you write to it\n",
    "# Let's reset that back to zero \n"
   ]
  },
  {
   "cell_type": "code",
   "execution_count": 34,
   "metadata": {
    "tags": []
   },
   "outputs": [
    {
     "name": "stdout",
     "output_type": "stream",
     "text": [
      "uploaded training data location: s3://ml-lab-sagemaker/simple_linear_learner/test/linear-test-data\n"
     ]
    }
   ],
   "source": [
    "# Key refers to the name of the file    \n",
    "key = 'linear-test-data'\n",
    "\n",
    "# The following code uploads the data in record-io format to S3 bucket to be accessed later for training\n",
    "boto3.resource('s3').Bucket(bucket).Object(os.path.join(prefix, 'test', key)).upload_fileobj(buf)\n",
    "\n",
    "# Let's print out the testing data location in s3\n",
    "s3_test_data = 's3://{}/{}/test/{}'.format(bucket, prefix, key)\n",
    "print('uploaded training data location: {}'.format(s3_test_data))"
   ]
  },
  {
   "cell_type": "code",
   "execution_count": 35,
   "metadata": {
    "tags": []
   },
   "outputs": [
    {
     "name": "stdout",
     "output_type": "stream",
     "text": [
      "Training artifacts will be uploaded to: s3://ml-lab-sagemaker/simple_linear_learner/output\n"
     ]
    }
   ],
   "source": [
    "# create an output placeholder in S3 bucket to store the linear learner output\n",
    "\n",
    "output_location = 's3://{}/{}/output'.format(bucket, prefix)\n",
    "print('Training artifacts will be uploaded to: {}'.format(output_location))"
   ]
  },
  {
   "cell_type": "code",
   "execution_count": 36,
   "metadata": {
    "tags": []
   },
   "outputs": [],
   "source": [
    "# Obtain a reference to the linearLearner container image\n",
    "\n",
    "container = sagemaker.image_uris.retrieve(\"linear-learner\", boto3.Session().region_name)"
   ]
  },
  {
   "cell_type": "code",
   "execution_count": 37,
   "metadata": {
    "tags": []
   },
   "outputs": [
    {
     "name": "stderr",
     "output_type": "stream",
     "text": [
      "INFO:sagemaker:Creating training-job with name: linear-learner-2024-12-04-20-55-43-423\n"
     ]
    },
    {
     "name": "stdout",
     "output_type": "stream",
     "text": [
      "2024-12-04 20:55:43 Starting - Starting the training job...\n",
      "2024-12-04 20:55:58 Starting - Preparing the instances for training...\n",
      "2024-12-04 20:56:35 Downloading - Downloading input data...\n",
      "2024-12-04 20:57:05 Downloading - Downloading the training image.........\n",
      "2024-12-04 20:58:16 Training - Training image download completed. Training in progress..\u001b[34mDocker entrypoint called with argument(s): train\u001b[0m\n",
      "\u001b[34mRunning default environment configuration script\u001b[0m\n",
      "\u001b[34m[12/04/2024 20:58:38 INFO 140003444303680] Reading default configuration from /opt/amazon/lib/python3.8/site-packages/algorithm/resources/default-input.json: {'mini_batch_size': '1000', 'epochs': '15', 'feature_dim': 'auto', 'use_bias': 'true', 'binary_classifier_model_selection_criteria': 'accuracy', 'f_beta': '1.0', 'target_recall': '0.8', 'target_precision': '0.8', 'num_models': 'auto', 'num_calibration_samples': '10000000', 'init_method': 'uniform', 'init_scale': '0.07', 'init_sigma': '0.01', 'init_bias': '0.0', 'optimizer': 'auto', 'loss': 'auto', 'margin': '1.0', 'quantile': '0.5', 'loss_insensitivity': '0.01', 'huber_delta': '1.0', 'num_classes': '1', 'accuracy_top_k': '3', 'wd': 'auto', 'l1': 'auto', 'momentum': 'auto', 'learning_rate': 'auto', 'beta_1': 'auto', 'beta_2': 'auto', 'bias_lr_mult': 'auto', 'bias_wd_mult': 'auto', 'use_lr_scheduler': 'true', 'lr_scheduler_step': 'auto', 'lr_scheduler_factor': 'auto', 'lr_scheduler_minimum_lr': 'auto', 'positive_example_weight_mult': '1.0', 'balance_multiclass_weights': 'false', 'normalize_data': 'true', 'normalize_label': 'auto', 'unbias_data': 'auto', 'unbias_label': 'auto', 'num_point_for_scaler': '10000', '_kvstore': 'auto', '_num_gpus': 'auto', '_num_kv_servers': 'auto', '_log_level': 'info', '_tuning_objective_metric': '', 'early_stopping_patience': '3', 'early_stopping_tolerance': '0.001', '_enable_profiler': 'false'}\u001b[0m\n",
      "\u001b[34m[12/04/2024 20:58:38 INFO 140003444303680] Merging with provided configuration from /opt/ml/input/config/hyperparameters.json: {'epochs': '5', 'feature_dim': '1', 'loss': 'absolute_loss', 'mini_batch_size': '5', 'num_models': '32', 'predictor_type': 'regressor'}\u001b[0m\n",
      "\u001b[34m[12/04/2024 20:58:38 INFO 140003444303680] Final configuration: {'mini_batch_size': '5', 'epochs': '5', 'feature_dim': '1', 'use_bias': 'true', 'binary_classifier_model_selection_criteria': 'accuracy', 'f_beta': '1.0', 'target_recall': '0.8', 'target_precision': '0.8', 'num_models': '32', 'num_calibration_samples': '10000000', 'init_method': 'uniform', 'init_scale': '0.07', 'init_sigma': '0.01', 'init_bias': '0.0', 'optimizer': 'auto', 'loss': 'absolute_loss', 'margin': '1.0', 'quantile': '0.5', 'loss_insensitivity': '0.01', 'huber_delta': '1.0', 'num_classes': '1', 'accuracy_top_k': '3', 'wd': 'auto', 'l1': 'auto', 'momentum': 'auto', 'learning_rate': 'auto', 'beta_1': 'auto', 'beta_2': 'auto', 'bias_lr_mult': 'auto', 'bias_wd_mult': 'auto', 'use_lr_scheduler': 'true', 'lr_scheduler_step': 'auto', 'lr_scheduler_factor': 'auto', 'lr_scheduler_minimum_lr': 'auto', 'positive_example_weight_mult': '1.0', 'balance_multiclass_weights': 'false', 'normalize_data': 'true', 'normalize_label': 'auto', 'unbias_data': 'auto', 'unbias_label': 'auto', 'num_point_for_scaler': '10000', '_kvstore': 'auto', '_num_gpus': 'auto', '_num_kv_servers': 'auto', '_log_level': 'info', '_tuning_objective_metric': '', 'early_stopping_patience': '3', 'early_stopping_tolerance': '0.001', '_enable_profiler': 'false', 'predictor_type': 'regressor'}\u001b[0m\n",
      "\u001b[34m/opt/amazon/lib/python3.8/site-packages/mxnet/model.py:97: SyntaxWarning: \"is\" with a literal. Did you mean \"==\"?\n",
      "  if num_device is 1 and 'dist' not in kvstore:\u001b[0m\n",
      "\u001b[34m/opt/amazon/lib/python3.8/site-packages/scipy/optimize/_shgo.py:495: SyntaxWarning: \"is\" with a literal. Did you mean \"==\"?\n",
      "  if cons['type'] is 'ineq':\u001b[0m\n",
      "\u001b[34m/opt/amazon/lib/python3.8/site-packages/scipy/optimize/_shgo.py:743: SyntaxWarning: \"is not\" with a literal. Did you mean \"!=\"?\n",
      "  if len(self.X_min) is not 0:\u001b[0m\n",
      "\u001b[34m[12/04/2024 20:58:41 WARNING 140003444303680] Loggers have already been setup.\u001b[0m\n",
      "\u001b[34m[12/04/2024 20:58:41 INFO 140003444303680] Final configuration: {'mini_batch_size': '5', 'epochs': '5', 'feature_dim': '1', 'use_bias': 'true', 'binary_classifier_model_selection_criteria': 'accuracy', 'f_beta': '1.0', 'target_recall': '0.8', 'target_precision': '0.8', 'num_models': '32', 'num_calibration_samples': '10000000', 'init_method': 'uniform', 'init_scale': '0.07', 'init_sigma': '0.01', 'init_bias': '0.0', 'optimizer': 'auto', 'loss': 'absolute_loss', 'margin': '1.0', 'quantile': '0.5', 'loss_insensitivity': '0.01', 'huber_delta': '1.0', 'num_classes': '1', 'accuracy_top_k': '3', 'wd': 'auto', 'l1': 'auto', 'momentum': 'auto', 'learning_rate': 'auto', 'beta_1': 'auto', 'beta_2': 'auto', 'bias_lr_mult': 'auto', 'bias_wd_mult': 'auto', 'use_lr_scheduler': 'true', 'lr_scheduler_step': 'auto', 'lr_scheduler_factor': 'auto', 'lr_scheduler_minimum_lr': 'auto', 'positive_example_weight_mult': '1.0', 'balance_multiclass_weights': 'false', 'normalize_data': 'true', 'normalize_label': 'auto', 'unbias_data': 'auto', 'unbias_label': 'auto', 'num_point_for_scaler': '10000', '_kvstore': 'auto', '_num_gpus': 'auto', '_num_kv_servers': 'auto', '_log_level': 'info', '_tuning_objective_metric': '', 'early_stopping_patience': '3', 'early_stopping_tolerance': '0.001', '_enable_profiler': 'false', 'predictor_type': 'regressor'}\u001b[0m\n",
      "\u001b[34m[12/04/2024 20:58:41 WARNING 140003444303680] Loggers have already been setup.\u001b[0m\n",
      "\u001b[34mProcess 7 is a worker.\u001b[0m\n",
      "\u001b[34m[12/04/2024 20:58:41 INFO 140003444303680] Using default worker.\u001b[0m\n",
      "\u001b[34m[12/04/2024 20:58:41 INFO 140003444303680] Checkpoint loading and saving are disabled.\u001b[0m\n",
      "\u001b[34m[2024-12-04 20:58:41.770] [tensorio] [info] epoch_stats={\"data_pipeline\": \"/opt/ml/input/data/train\", \"epoch\": 0, \"duration\": 12, \"num_examples\": 1, \"num_bytes\": 240}\u001b[0m\n",
      "\u001b[34m[12/04/2024 20:58:41 INFO 140003444303680] Create Store: local\u001b[0m\n",
      "\u001b[34m[2024-12-04 20:58:42.151] [tensorio] [info] epoch_stats={\"data_pipeline\": \"/opt/ml/input/data/train\", \"epoch\": 1, \"duration\": 380, \"num_examples\": 80, \"num_bytes\": 19200}\u001b[0m\n",
      "\u001b[34m[12/04/2024 20:58:42 INFO 140003444303680] Scaler algorithm parameters\n",
      " <algorithm.scaler.ScalerAlgorithmStable object at 0x7f5486fff5e0>\u001b[0m\n",
      "\u001b[34m[12/04/2024 20:58:42 INFO 140003444303680] Scaling model computed with parameters:\n",
      " {'stdev_label': \u001b[0m\n",
      "\u001b[34m[176.11504]\u001b[0m\n",
      "\u001b[34m<NDArray 1 @cpu(0)>, 'stdev_weight': \u001b[0m\n",
      "\u001b[34m[8.104644]\u001b[0m\n",
      "\u001b[34m<NDArray 1 @cpu(0)>, 'mean_label': \u001b[0m\n",
      "\u001b[34m[525.6257]\u001b[0m\n",
      "\u001b[34m<NDArray 1 @cpu(0)>, 'mean_weight': \u001b[0m\n",
      "\u001b[34m[22.435238]\u001b[0m\n",
      "\u001b[34m<NDArray 1 @cpu(0)>}\u001b[0m\n",
      "\u001b[34m/opt/amazon/python3.8/lib/python3.8/subprocess.py:848: RuntimeWarning: line buffering (buffering=1) isn't supported in binary mode, the default buffer size will be used\n",
      "  self.stdout = io.open(c2pread, 'rb', bufsize)\u001b[0m\n",
      "\u001b[34m[12/04/2024 20:58:42 INFO 140003444303680] nvidia-smi: took 0.033 seconds to run.\u001b[0m\n",
      "\u001b[34m[12/04/2024 20:58:42 INFO 140003444303680] nvidia-smi identified 0 GPUs.\u001b[0m\n",
      "\u001b[34m[12/04/2024 20:58:42 INFO 140003444303680] Number of GPUs being used: 0\u001b[0m\n",
      "\u001b[34m#metrics {\"StartTime\": 1733345922.2474961, \"EndTime\": 1733345922.248323, \"Dimensions\": {\"Algorithm\": \"Linear Learner\", \"Host\": \"algo-1\", \"Operation\": \"training\", \"Meta\": \"init_train_data_iter\"}, \"Metrics\": {\"Total Records Seen\": {\"sum\": 405.0, \"count\": 1, \"min\": 405, \"max\": 405}, \"Total Batches Seen\": {\"sum\": 81.0, \"count\": 1, \"min\": 81, \"max\": 81}, \"Max Records Seen Between Resets\": {\"sum\": 400.0, \"count\": 1, \"min\": 400, \"max\": 400}, \"Max Batches Seen Between Resets\": {\"sum\": 80.0, \"count\": 1, \"min\": 80, \"max\": 80}, \"Reset Count\": {\"sum\": 2.0, \"count\": 1, \"min\": 2, \"max\": 2}, \"Number of Records Since Last Reset\": {\"sum\": 0.0, \"count\": 1, \"min\": 0, \"max\": 0}, \"Number of Batches Since Last Reset\": {\"sum\": 0.0, \"count\": 1, \"min\": 0, \"max\": 0}}}\u001b[0m\n",
      "\u001b[34m[2024-12-04 20:58:43.276] [tensorio] [info] epoch_stats={\"data_pipeline\": \"/opt/ml/input/data/train\", \"epoch\": 4, \"duration\": 1028, \"num_examples\": 80, \"num_bytes\": 19200}\u001b[0m\n",
      "\u001b[34m#metrics {\"StartTime\": 1733345923.2769413, \"EndTime\": 1733345923.2770069, \"Dimensions\": {\"Algorithm\": \"Linear Learner\", \"Host\": \"algo-1\", \"Operation\": \"training\", \"epoch\": 0, \"model\": 0}, \"Metrics\": {\"train_absolute_loss_objective\": {\"sum\": 0.6549239861965179, \"count\": 1, \"min\": 0.6549239861965179, \"max\": 0.6549239861965179}}}\u001b[0m\n",
      "\u001b[34m#metrics {\"StartTime\": 1733345923.2770793, \"EndTime\": 1733345923.2770896, \"Dimensions\": {\"Algorithm\": \"Linear Learner\", \"Host\": \"algo-1\", \"Operation\": \"training\", \"epoch\": 0, \"model\": 1}, \"Metrics\": {\"train_absolute_loss_objective\": {\"sum\": 0.6704650494456291, \"count\": 1, \"min\": 0.6704650494456291, \"max\": 0.6704650494456291}}}\u001b[0m\n",
      "\u001b[34m#metrics {\"StartTime\": 1733345923.2771153, \"EndTime\": 1733345923.277122, \"Dimensions\": {\"Algorithm\": \"Linear Learner\", \"Host\": \"algo-1\", \"Operation\": \"training\", \"epoch\": 0, \"model\": 2}, \"Metrics\": {\"train_absolute_loss_objective\": {\"sum\": 0.6570951665937901, \"count\": 1, \"min\": 0.6570951665937901, \"max\": 0.6570951665937901}}}\u001b[0m\n",
      "\u001b[34m#metrics {\"StartTime\": 1733345923.2771494, \"EndTime\": 1733345923.2771878, \"Dimensions\": {\"Algorithm\": \"Linear Learner\", \"Host\": \"algo-1\", \"Operation\": \"training\", \"epoch\": 0, \"model\": 3}, \"Metrics\": {\"train_absolute_loss_objective\": {\"sum\": 0.6695473450422287, \"count\": 1, \"min\": 0.6695473450422287, \"max\": 0.6695473450422287}}}\u001b[0m\n",
      "\u001b[34m#metrics {\"StartTime\": 1733345923.2772195, \"EndTime\": 1733345923.277227, \"Dimensions\": {\"Algorithm\": \"Linear Learner\", \"Host\": \"algo-1\", \"Operation\": \"training\", \"epoch\": 0, \"model\": 4}, \"Metrics\": {\"train_absolute_loss_objective\": {\"sum\": 0.23702806375920774, \"count\": 1, \"min\": 0.23702806375920774, \"max\": 0.23702806375920774}}}\u001b[0m\n",
      "\u001b[34m#metrics {\"StartTime\": 1733345923.2772543, \"EndTime\": 1733345923.2772608, \"Dimensions\": {\"Algorithm\": \"Linear Learner\", \"Host\": \"algo-1\", \"Operation\": \"training\", \"epoch\": 0, \"model\": 5}, \"Metrics\": {\"train_absolute_loss_objective\": {\"sum\": 0.24857573211193085, \"count\": 1, \"min\": 0.24857573211193085, \"max\": 0.24857573211193085}}}\u001b[0m\n",
      "\u001b[34m#metrics {\"StartTime\": 1733345923.277288, \"EndTime\": 1733345923.2772942, \"Dimensions\": {\"Algorithm\": \"Linear Learner\", \"Host\": \"algo-1\", \"Operation\": \"training\", \"epoch\": 0, \"model\": 6}, \"Metrics\": {\"train_absolute_loss_objective\": {\"sum\": 0.23960905730724336, \"count\": 1, \"min\": 0.23960905730724336, \"max\": 0.23960905730724336}}}\u001b[0m\n",
      "\u001b[34m#metrics {\"StartTime\": 1733345923.2773154, \"EndTime\": 1733345923.2773216, \"Dimensions\": {\"Algorithm\": \"Linear Learner\", \"Host\": \"algo-1\", \"Operation\": \"training\", \"epoch\": 0, \"model\": 7}, \"Metrics\": {\"train_absolute_loss_objective\": {\"sum\": 0.23190140403807163, \"count\": 1, \"min\": 0.23190140403807163, \"max\": 0.23190140403807163}}}\u001b[0m\n",
      "\u001b[34m#metrics {\"StartTime\": 1733345923.2773447, \"EndTime\": 1733345923.2773507, \"Dimensions\": {\"Algorithm\": \"Linear Learner\", \"Host\": \"algo-1\", \"Operation\": \"training\", \"epoch\": 0, \"model\": 8}, \"Metrics\": {\"train_absolute_loss_objective\": {\"sum\": 0.7050376665592194, \"count\": 1, \"min\": 0.7050376665592194, \"max\": 0.7050376665592194}}}\u001b[0m\n",
      "\u001b[34m#metrics {\"StartTime\": 1733345923.2773714, \"EndTime\": 1733345923.2773776, \"Dimensions\": {\"Algorithm\": \"Linear Learner\", \"Host\": \"algo-1\", \"Operation\": \"training\", \"epoch\": 0, \"model\": 9}, \"Metrics\": {\"train_absolute_loss_objective\": {\"sum\": 0.6413815954327583, \"count\": 1, \"min\": 0.6413815954327583, \"max\": 0.6413815954327583}}}\u001b[0m\n",
      "\u001b[34m#metrics {\"StartTime\": 1733345923.2773979, \"EndTime\": 1733345923.2774036, \"Dimensions\": {\"Algorithm\": \"Linear Learner\", \"Host\": \"algo-1\", \"Operation\": \"training\", \"epoch\": 0, \"model\": 10}, \"Metrics\": {\"train_absolute_loss_objective\": {\"sum\": 0.6499690988659859, \"count\": 1, \"min\": 0.6499690988659859, \"max\": 0.6499690988659859}}}\u001b[0m\n",
      "\u001b[34m#metrics {\"StartTime\": 1733345923.2774243, \"EndTime\": 1733345923.2774305, \"Dimensions\": {\"Algorithm\": \"Linear Learner\", \"Host\": \"algo-1\", \"Operation\": \"training\", \"epoch\": 0, \"model\": 11}, \"Metrics\": {\"train_absolute_loss_objective\": {\"sum\": 0.6341060103476047, \"count\": 1, \"min\": 0.6341060103476047, \"max\": 0.6341060103476047}}}\u001b[0m\n",
      "\u001b[34m#metrics {\"StartTime\": 1733345923.277456, \"EndTime\": 1733345923.277462, \"Dimensions\": {\"Algorithm\": \"Linear Learner\", \"Host\": \"algo-1\", \"Operation\": \"training\", \"epoch\": 0, \"model\": 12}, \"Metrics\": {\"train_absolute_loss_objective\": {\"sum\": 0.24137919262051583, \"count\": 1, \"min\": 0.24137919262051583, \"max\": 0.24137919262051583}}}\u001b[0m\n",
      "\u001b[34m#metrics {\"StartTime\": 1733345923.2774823, \"EndTime\": 1733345923.2774882, \"Dimensions\": {\"Algorithm\": \"Linear Learner\", \"Host\": \"algo-1\", \"Operation\": \"training\", \"epoch\": 0, \"model\": 13}, \"Metrics\": {\"train_absolute_loss_objective\": {\"sum\": 0.22472854506224393, \"count\": 1, \"min\": 0.22472854506224393, \"max\": 0.22472854506224393}}}\u001b[0m\n",
      "\u001b[34m#metrics {\"StartTime\": 1733345923.277513, \"EndTime\": 1733345923.2775187, \"Dimensions\": {\"Algorithm\": \"Linear Learner\", \"Host\": \"algo-1\", \"Operation\": \"training\", \"epoch\": 0, \"model\": 14}, \"Metrics\": {\"train_absolute_loss_objective\": {\"sum\": 0.24133946798741818, \"count\": 1, \"min\": 0.24133946798741818, \"max\": 0.24133946798741818}}}\u001b[0m\n",
      "\u001b[34m#metrics {\"StartTime\": 1733345923.2775393, \"EndTime\": 1733345923.2775452, \"Dimensions\": {\"Algorithm\": \"Linear Learner\", \"Host\": \"algo-1\", \"Operation\": \"training\", \"epoch\": 0, \"model\": 15}, \"Metrics\": {\"train_absolute_loss_objective\": {\"sum\": 0.2425030452013016, \"count\": 1, \"min\": 0.2425030452013016, \"max\": 0.2425030452013016}}}\u001b[0m\n",
      "\u001b[34m#metrics {\"StartTime\": 1733345923.2775652, \"EndTime\": 1733345923.2775714, \"Dimensions\": {\"Algorithm\": \"Linear Learner\", \"Host\": \"algo-1\", \"Operation\": \"training\", \"epoch\": 0, \"model\": 16}, \"Metrics\": {\"train_absolute_loss_objective\": {\"sum\": 0.6308268989622593, \"count\": 1, \"min\": 0.6308268989622593, \"max\": 0.6308268989622593}}}\u001b[0m\n",
      "\u001b[34m#metrics {\"StartTime\": 1733345923.2775962, \"EndTime\": 1733345923.2776022, \"Dimensions\": {\"Algorithm\": \"Linear Learner\", \"Host\": \"algo-1\", \"Operation\": \"training\", \"epoch\": 0, \"model\": 17}, \"Metrics\": {\"train_absolute_loss_objective\": {\"sum\": 0.6721965040266514, \"count\": 1, \"min\": 0.6721965040266514, \"max\": 0.6721965040266514}}}\u001b[0m\n",
      "\u001b[34m#metrics {\"StartTime\": 1733345923.2776222, \"EndTime\": 1733345923.2776282, \"Dimensions\": {\"Algorithm\": \"Linear Learner\", \"Host\": \"algo-1\", \"Operation\": \"training\", \"epoch\": 0, \"model\": 18}, \"Metrics\": {\"train_absolute_loss_objective\": {\"sum\": 0.65384710252285, \"count\": 1, \"min\": 0.65384710252285, \"max\": 0.65384710252285}}}\u001b[0m\n",
      "\u001b[34m#metrics {\"StartTime\": 1733345923.2776527, \"EndTime\": 1733345923.277659, \"Dimensions\": {\"Algorithm\": \"Linear Learner\", \"Host\": \"algo-1\", \"Operation\": \"training\", \"epoch\": 0, \"model\": 19}, \"Metrics\": {\"train_absolute_loss_objective\": {\"sum\": 0.6493091225624085, \"count\": 1, \"min\": 0.6493091225624085, \"max\": 0.6493091225624085}}}\u001b[0m\n",
      "\u001b[34m#metrics {\"StartTime\": 1733345923.2776794, \"EndTime\": 1733345923.2776852, \"Dimensions\": {\"Algorithm\": \"Linear Learner\", \"Host\": \"algo-1\", \"Operation\": \"training\", \"epoch\": 0, \"model\": 20}, \"Metrics\": {\"train_absolute_loss_objective\": {\"sum\": 0.4757299916446209, \"count\": 1, \"min\": 0.4757299916446209, \"max\": 0.4757299916446209}}}\u001b[0m\n",
      "\u001b[34m#metrics {\"StartTime\": 1733345923.2777054, \"EndTime\": 1733345923.2777114, \"Dimensions\": {\"Algorithm\": \"Linear Learner\", \"Host\": \"algo-1\", \"Operation\": \"training\", \"epoch\": 0, \"model\": 21}, \"Metrics\": {\"train_absolute_loss_objective\": {\"sum\": 0.4833872880041599, \"count\": 1, \"min\": 0.4833872880041599, \"max\": 0.4833872880041599}}}\u001b[0m\n",
      "\u001b[34m#metrics {\"StartTime\": 1733345923.2777362, \"EndTime\": 1733345923.2777421, \"Dimensions\": {\"Algorithm\": \"Linear Learner\", \"Host\": \"algo-1\", \"Operation\": \"training\", \"epoch\": 0, \"model\": 22}, \"Metrics\": {\"train_absolute_loss_objective\": {\"sum\": 0.5005671364068985, \"count\": 1, \"min\": 0.5005671364068985, \"max\": 0.5005671364068985}}}\u001b[0m\n",
      "\u001b[34m#metrics {\"StartTime\": 1733345923.277767, \"EndTime\": 1733345923.2777731, \"Dimensions\": {\"Algorithm\": \"Linear Learner\", \"Host\": \"algo-1\", \"Operation\": \"training\", \"epoch\": 0, \"model\": 23}, \"Metrics\": {\"train_absolute_loss_objective\": {\"sum\": 0.49944101050496104, \"count\": 1, \"min\": 0.49944101050496104, \"max\": 0.49944101050496104}}}\u001b[0m\n",
      "\u001b[34m#metrics {\"StartTime\": 1733345923.2777965, \"EndTime\": 1733345923.2778025, \"Dimensions\": {\"Algorithm\": \"Linear Learner\", \"Host\": \"algo-1\", \"Operation\": \"training\", \"epoch\": 0, \"model\": 24}, \"Metrics\": {\"train_absolute_loss_objective\": {\"sum\": 0.7874507892131806, \"count\": 1, \"min\": 0.7874507892131806, \"max\": 0.7874507892131806}}}\u001b[0m\n",
      "\u001b[34m#metrics {\"StartTime\": 1733345923.2778227, \"EndTime\": 1733345923.2778287, \"Dimensions\": {\"Algorithm\": \"Linear Learner\", \"Host\": \"algo-1\", \"Operation\": \"training\", \"epoch\": 0, \"model\": 25}, \"Metrics\": {\"train_absolute_loss_objective\": {\"sum\": 0.7910717296600341, \"count\": 1, \"min\": 0.7910717296600341, \"max\": 0.7910717296600341}}}\u001b[0m\n",
      "\u001b[34m#metrics {\"StartTime\": 1733345923.2778492, \"EndTime\": 1733345923.277855, \"Dimensions\": {\"Algorithm\": \"Linear Learner\", \"Host\": \"algo-1\", \"Operation\": \"training\", \"epoch\": 0, \"model\": 26}, \"Metrics\": {\"train_absolute_loss_objective\": {\"sum\": 0.7901136192679405, \"count\": 1, \"min\": 0.7901136192679405, \"max\": 0.7901136192679405}}}\u001b[0m\n",
      "\u001b[34m#metrics {\"StartTime\": 1733345923.27788, \"EndTime\": 1733345923.277886, \"Dimensions\": {\"Algorithm\": \"Linear Learner\", \"Host\": \"algo-1\", \"Operation\": \"training\", \"epoch\": 0, \"model\": 27}, \"Metrics\": {\"train_absolute_loss_objective\": {\"sum\": 0.7899167013168334, \"count\": 1, \"min\": 0.7899167013168334, \"max\": 0.7899167013168334}}}\u001b[0m\n",
      "\u001b[34m#metrics {\"StartTime\": 1733345923.2779064, \"EndTime\": 1733345923.2779124, \"Dimensions\": {\"Algorithm\": \"Linear Learner\", \"Host\": \"algo-1\", \"Operation\": \"training\", \"epoch\": 0, \"model\": 28}, \"Metrics\": {\"train_absolute_loss_objective\": {\"sum\": 0.9033439728617668, \"count\": 1, \"min\": 0.9033439728617668, \"max\": 0.9033439728617668}}}\u001b[0m\n",
      "\u001b[34m#metrics {\"StartTime\": 1733345923.277935, \"EndTime\": 1733345923.277941, \"Dimensions\": {\"Algorithm\": \"Linear Learner\", \"Host\": \"algo-1\", \"Operation\": \"training\", \"epoch\": 0, \"model\": 29}, \"Metrics\": {\"train_absolute_loss_objective\": {\"sum\": 0.9107163572311401, \"count\": 1, \"min\": 0.9107163572311401, \"max\": 0.9107163572311401}}}\u001b[0m\n",
      "\u001b[34m#metrics {\"StartTime\": 1733345923.2779615, \"EndTime\": 1733345923.2779675, \"Dimensions\": {\"Algorithm\": \"Linear Learner\", \"Host\": \"algo-1\", \"Operation\": \"training\", \"epoch\": 0, \"model\": 30}, \"Metrics\": {\"train_absolute_loss_objective\": {\"sum\": 0.8827376985549926, \"count\": 1, \"min\": 0.8827376985549926, \"max\": 0.8827376985549926}}}\u001b[0m\n",
      "\u001b[34m#metrics {\"StartTime\": 1733345923.2779925, \"EndTime\": 1733345923.2779984, \"Dimensions\": {\"Algorithm\": \"Linear Learner\", \"Host\": \"algo-1\", \"Operation\": \"training\", \"epoch\": 0, \"model\": 31}, \"Metrics\": {\"train_absolute_loss_objective\": {\"sum\": 0.8828207096457481, \"count\": 1, \"min\": 0.8828207096457481, \"max\": 0.8828207096457481}}}\u001b[0m\n",
      "\u001b[34m[12/04/2024 20:58:43 INFO 140003444303680] #quality_metric: host=algo-1, epoch=0, train absolute_loss_objective <loss>=0.6549239861965179\u001b[0m\n",
      "\u001b[34m[12/04/2024 20:58:43 INFO 140003444303680] #early_stopping_criteria_metric: host=algo-1, epoch=0, criteria=absolute_loss_objective, value=0.22472854506224393\u001b[0m\n",
      "\u001b[34m[12/04/2024 20:58:43 INFO 140003444303680] Epoch 0: Loss improved. Updating best model\u001b[0m\n",
      "\u001b[34m[12/04/2024 20:58:43 INFO 140003444303680] Saving model for epoch: 0\u001b[0m\n",
      "\u001b[34m[12/04/2024 20:58:43 INFO 140003444303680] Saved checkpoint to \"/tmp/tmphgmqhsyf/mx-mod-0000.params\"\u001b[0m\n",
      "\u001b[34m[12/04/2024 20:58:43 INFO 140003444303680] #progress_metric: host=algo-1, completed 20.0 % of epochs\u001b[0m\n",
      "\u001b[34m#metrics {\"StartTime\": 1733345922.2485926, \"EndTime\": 1733345923.2867172, \"Dimensions\": {\"Algorithm\": \"Linear Learner\", \"Host\": \"algo-1\", \"Operation\": \"training\", \"epoch\": 0, \"Meta\": \"training_data_iter\"}, \"Metrics\": {\"Total Records Seen\": {\"sum\": 805.0, \"count\": 1, \"min\": 805, \"max\": 805}, \"Total Batches Seen\": {\"sum\": 161.0, \"count\": 1, \"min\": 161, \"max\": 161}, \"Max Records Seen Between Resets\": {\"sum\": 400.0, \"count\": 1, \"min\": 400, \"max\": 400}, \"Max Batches Seen Between Resets\": {\"sum\": 80.0, \"count\": 1, \"min\": 80, \"max\": 80}, \"Reset Count\": {\"sum\": 3.0, \"count\": 1, \"min\": 3, \"max\": 3}, \"Number of Records Since Last Reset\": {\"sum\": 400.0, \"count\": 1, \"min\": 400, \"max\": 400}, \"Number of Batches Since Last Reset\": {\"sum\": 80.0, \"count\": 1, \"min\": 80, \"max\": 80}}}\u001b[0m\n",
      "\u001b[34m[12/04/2024 20:58:43 INFO 140003444303680] #throughput_metric: host=algo-1, train throughput=385.2727003004156 records/second\u001b[0m\n",
      "\u001b[34m[2024-12-04 20:58:44.509] [tensorio] [info] epoch_stats={\"data_pipeline\": \"/opt/ml/input/data/train\", \"epoch\": 6, \"duration\": 1222, \"num_examples\": 80, \"num_bytes\": 19200}\u001b[0m\n",
      "\u001b[34m#metrics {\"StartTime\": 1733345924.5098267, \"EndTime\": 1733345924.5098858, \"Dimensions\": {\"Algorithm\": \"Linear Learner\", \"Host\": \"algo-1\", \"Operation\": \"training\", \"epoch\": 1, \"model\": 0}, \"Metrics\": {\"train_absolute_loss_objective\": {\"sum\": 0.397561923712492, \"count\": 1, \"min\": 0.397561923712492, \"max\": 0.397561923712492}}}\u001b[0m\n",
      "\u001b[34m#metrics {\"StartTime\": 1733345924.5099528, \"EndTime\": 1733345924.5099628, \"Dimensions\": {\"Algorithm\": \"Linear Learner\", \"Host\": \"algo-1\", \"Operation\": \"training\", \"epoch\": 1, \"model\": 1}, \"Metrics\": {\"train_absolute_loss_objective\": {\"sum\": 0.39475918337702753, \"count\": 1, \"min\": 0.39475918337702753, \"max\": 0.39475918337702753}}}\u001b[0m\n",
      "\u001b[34m#metrics {\"StartTime\": 1733345924.5099888, \"EndTime\": 1733345924.5099957, \"Dimensions\": {\"Algorithm\": \"Linear Learner\", \"Host\": \"algo-1\", \"Operation\": \"training\", \"epoch\": 1, \"model\": 2}, \"Metrics\": {\"train_absolute_loss_objective\": {\"sum\": 0.3996320302784443, \"count\": 1, \"min\": 0.3996320302784443, \"max\": 0.3996320302784443}}}\u001b[0m\n",
      "\u001b[34m#metrics {\"StartTime\": 1733345924.5100183, \"EndTime\": 1733345924.510039, \"Dimensions\": {\"Algorithm\": \"Linear Learner\", \"Host\": \"algo-1\", \"Operation\": \"training\", \"epoch\": 1, \"model\": 3}, \"Metrics\": {\"train_absolute_loss_objective\": {\"sum\": 0.39388569325208667, \"count\": 1, \"min\": 0.39388569325208667, \"max\": 0.39388569325208667}}}\u001b[0m\n",
      "\u001b[34m#metrics {\"StartTime\": 1733345924.5100622, \"EndTime\": 1733345924.5100677, \"Dimensions\": {\"Algorithm\": \"Linear Learner\", \"Host\": \"algo-1\", \"Operation\": \"training\", \"epoch\": 1, \"model\": 4}, \"Metrics\": {\"train_absolute_loss_objective\": {\"sum\": 0.15488210014998913, \"count\": 1, \"min\": 0.15488210014998913, \"max\": 0.15488210014998913}}}\u001b[0m\n",
      "\u001b[34m#metrics {\"StartTime\": 1733345924.5100849, \"EndTime\": 1733345924.5100896, \"Dimensions\": {\"Algorithm\": \"Linear Learner\", \"Host\": \"algo-1\", \"Operation\": \"training\", \"epoch\": 1, \"model\": 5}, \"Metrics\": {\"train_absolute_loss_objective\": {\"sum\": 0.15193733934313058, \"count\": 1, \"min\": 0.15193733934313058, \"max\": 0.15193733934313058}}}\u001b[0m\n",
      "\u001b[34m#metrics {\"StartTime\": 1733345924.5101063, \"EndTime\": 1733345924.510111, \"Dimensions\": {\"Algorithm\": \"Linear Learner\", \"Host\": \"algo-1\", \"Operation\": \"training\", \"epoch\": 1, \"model\": 6}, \"Metrics\": {\"train_absolute_loss_objective\": {\"sum\": 0.1545743066072464, \"count\": 1, \"min\": 0.1545743066072464, \"max\": 0.1545743066072464}}}\u001b[0m\n",
      "\u001b[34m#metrics {\"StartTime\": 1733345924.5101273, \"EndTime\": 1733345924.5101316, \"Dimensions\": {\"Algorithm\": \"Linear Learner\", \"Host\": \"algo-1\", \"Operation\": \"training\", \"epoch\": 1, \"model\": 7}, \"Metrics\": {\"train_absolute_loss_objective\": {\"sum\": 0.15734283603727817, \"count\": 1, \"min\": 0.15734283603727817, \"max\": 0.15734283603727817}}}\u001b[0m\n",
      "\u001b[34m#metrics {\"StartTime\": 1733345924.510148, \"EndTime\": 1733345924.5101528, \"Dimensions\": {\"Algorithm\": \"Linear Learner\", \"Host\": \"algo-1\", \"Operation\": \"training\", \"epoch\": 1, \"model\": 8}, \"Metrics\": {\"train_absolute_loss_objective\": {\"sum\": 0.4467665545642376, \"count\": 1, \"min\": 0.4467665545642376, \"max\": 0.4467665545642376}}}\u001b[0m\n",
      "\u001b[34m#metrics {\"StartTime\": 1733345924.5101688, \"EndTime\": 1733345924.5101736, \"Dimensions\": {\"Algorithm\": \"Linear Learner\", \"Host\": \"algo-1\", \"Operation\": \"training\", \"epoch\": 1, \"model\": 9}, \"Metrics\": {\"train_absolute_loss_objective\": {\"sum\": 0.3696262088418007, \"count\": 1, \"min\": 0.3696262088418007, \"max\": 0.3696262088418007}}}\u001b[0m\n",
      "\u001b[34m#metrics {\"StartTime\": 1733345924.5101893, \"EndTime\": 1733345924.5101938, \"Dimensions\": {\"Algorithm\": \"Linear Learner\", \"Host\": \"algo-1\", \"Operation\": \"training\", \"epoch\": 1, \"model\": 10}, \"Metrics\": {\"train_absolute_loss_objective\": {\"sum\": 0.3937344565987587, \"count\": 1, \"min\": 0.3937344565987587, \"max\": 0.3937344565987587}}}\u001b[0m\n",
      "\u001b[34m#metrics {\"StartTime\": 1733345924.5102103, \"EndTime\": 1733345924.5102177, \"Dimensions\": {\"Algorithm\": \"Linear Learner\", \"Host\": \"algo-1\", \"Operation\": \"training\", \"epoch\": 1, \"model\": 11}, \"Metrics\": {\"train_absolute_loss_objective\": {\"sum\": 0.3625070576369762, \"count\": 1, \"min\": 0.3625070576369762, \"max\": 0.3625070576369762}}}\u001b[0m\n",
      "\u001b[34m#metrics {\"StartTime\": 1733345924.5102363, \"EndTime\": 1733345924.5102413, \"Dimensions\": {\"Algorithm\": \"Linear Learner\", \"Host\": \"algo-1\", \"Operation\": \"training\", \"epoch\": 1, \"model\": 12}, \"Metrics\": {\"train_absolute_loss_objective\": {\"sum\": 0.17876525815576316, \"count\": 1, \"min\": 0.17876525815576316, \"max\": 0.17876525815576316}}}\u001b[0m\n",
      "\u001b[34m#metrics {\"StartTime\": 1733345924.51026, \"EndTime\": 1733345924.5102649, \"Dimensions\": {\"Algorithm\": \"Linear Learner\", \"Host\": \"algo-1\", \"Operation\": \"training\", \"epoch\": 1, \"model\": 13}, \"Metrics\": {\"train_absolute_loss_objective\": {\"sum\": 0.15561911225318908, \"count\": 1, \"min\": 0.15561911225318908, \"max\": 0.15561911225318908}}}\u001b[0m\n",
      "\u001b[34m#metrics {\"StartTime\": 1733345924.5102813, \"EndTime\": 1733345924.5102859, \"Dimensions\": {\"Algorithm\": \"Linear Learner\", \"Host\": \"algo-1\", \"Operation\": \"training\", \"epoch\": 1, \"model\": 14}, \"Metrics\": {\"train_absolute_loss_objective\": {\"sum\": 0.15693873673677444, \"count\": 1, \"min\": 0.15693873673677444, \"max\": 0.15693873673677444}}}\u001b[0m\n",
      "\u001b[34m#metrics {\"StartTime\": 1733345924.5103016, \"EndTime\": 1733345924.5103064, \"Dimensions\": {\"Algorithm\": \"Linear Learner\", \"Host\": \"algo-1\", \"Operation\": \"training\", \"epoch\": 1, \"model\": 15}, \"Metrics\": {\"train_absolute_loss_objective\": {\"sum\": 0.2393732700496912, \"count\": 1, \"min\": 0.2393732700496912, \"max\": 0.2393732700496912}}}\u001b[0m\n",
      "\u001b[34m#metrics {\"StartTime\": 1733345924.510322, \"EndTime\": 1733345924.5103269, \"Dimensions\": {\"Algorithm\": \"Linear Learner\", \"Host\": \"algo-1\", \"Operation\": \"training\", \"epoch\": 1, \"model\": 16}, \"Metrics\": {\"train_absolute_loss_objective\": {\"sum\": 0.43807107001543044, \"count\": 1, \"min\": 0.43807107001543044, \"max\": 0.43807107001543044}}}\u001b[0m\n",
      "\u001b[34m#metrics {\"StartTime\": 1733345924.5103428, \"EndTime\": 1733345924.5103476, \"Dimensions\": {\"Algorithm\": \"Linear Learner\", \"Host\": \"algo-1\", \"Operation\": \"training\", \"epoch\": 1, \"model\": 17}, \"Metrics\": {\"train_absolute_loss_objective\": {\"sum\": 0.4607848247885704, \"count\": 1, \"min\": 0.4607848247885704, \"max\": 0.4607848247885704}}}\u001b[0m\n",
      "\u001b[34m#metrics {\"StartTime\": 1733345924.5103633, \"EndTime\": 1733345924.5103676, \"Dimensions\": {\"Algorithm\": \"Linear Learner\", \"Host\": \"algo-1\", \"Operation\": \"training\", \"epoch\": 1, \"model\": 18}, \"Metrics\": {\"train_absolute_loss_objective\": {\"sum\": 0.4563194939494133, \"count\": 1, \"min\": 0.4563194939494133, \"max\": 0.4563194939494133}}}\u001b[0m\n",
      "\u001b[34m#metrics {\"StartTime\": 1733345924.5103836, \"EndTime\": 1733345924.5103905, \"Dimensions\": {\"Algorithm\": \"Linear Learner\", \"Host\": \"algo-1\", \"Operation\": \"training\", \"epoch\": 1, \"model\": 19}, \"Metrics\": {\"train_absolute_loss_objective\": {\"sum\": 0.44260919854044917, \"count\": 1, \"min\": 0.44260919854044917, \"max\": 0.44260919854044917}}}\u001b[0m\n",
      "\u001b[34m#metrics {\"StartTime\": 1733345924.5104282, \"EndTime\": 1733345924.5104334, \"Dimensions\": {\"Algorithm\": \"Linear Learner\", \"Host\": \"algo-1\", \"Operation\": \"training\", \"epoch\": 1, \"model\": 20}, \"Metrics\": {\"train_absolute_loss_objective\": {\"sum\": 0.4209242931008339, \"count\": 1, \"min\": 0.4209242931008339, \"max\": 0.4209242931008339}}}\u001b[0m\n",
      "\u001b[34m#metrics {\"StartTime\": 1733345924.5104501, \"EndTime\": 1733345924.510455, \"Dimensions\": {\"Algorithm\": \"Linear Learner\", \"Host\": \"algo-1\", \"Operation\": \"training\", \"epoch\": 1, \"model\": 21}, \"Metrics\": {\"train_absolute_loss_objective\": {\"sum\": 0.4218263652920723, \"count\": 1, \"min\": 0.4218263652920723, \"max\": 0.4218263652920723}}}\u001b[0m\n",
      "\u001b[34m#metrics {\"StartTime\": 1733345924.5104709, \"EndTime\": 1733345924.5104752, \"Dimensions\": {\"Algorithm\": \"Linear Learner\", \"Host\": \"algo-1\", \"Operation\": \"training\", \"epoch\": 1, \"model\": 22}, \"Metrics\": {\"train_absolute_loss_objective\": {\"sum\": 0.4024855075776577, \"count\": 1, \"min\": 0.4024855075776577, \"max\": 0.4024855075776577}}}\u001b[0m\n",
      "\u001b[34m#metrics {\"StartTime\": 1733345924.5104916, \"EndTime\": 1733345924.5104961, \"Dimensions\": {\"Algorithm\": \"Linear Learner\", \"Host\": \"algo-1\", \"Operation\": \"training\", \"epoch\": 1, \"model\": 23}, \"Metrics\": {\"train_absolute_loss_objective\": {\"sum\": 0.4396051988005638, \"count\": 1, \"min\": 0.4396051988005638, \"max\": 0.4396051988005638}}}\u001b[0m\n",
      "\u001b[34m#metrics {\"StartTime\": 1733345924.510512, \"EndTime\": 1733345924.5105166, \"Dimensions\": {\"Algorithm\": \"Linear Learner\", \"Host\": \"algo-1\", \"Operation\": \"training\", \"epoch\": 1, \"model\": 24}, \"Metrics\": {\"train_absolute_loss_objective\": {\"sum\": 0.7879670751094818, \"count\": 1, \"min\": 0.7879670751094818, \"max\": 0.7879670751094818}}}\u001b[0m\n",
      "\u001b[34m#metrics {\"StartTime\": 1733345924.5105343, \"EndTime\": 1733345924.5105479, \"Dimensions\": {\"Algorithm\": \"Linear Learner\", \"Host\": \"algo-1\", \"Operation\": \"training\", \"epoch\": 1, \"model\": 25}, \"Metrics\": {\"train_absolute_loss_objective\": {\"sum\": 0.7887568005919456, \"count\": 1, \"min\": 0.7887568005919456, \"max\": 0.7887568005919456}}}\u001b[0m\n",
      "\u001b[34m#metrics {\"StartTime\": 1733345924.5105681, \"EndTime\": 1733345924.5105734, \"Dimensions\": {\"Algorithm\": \"Linear Learner\", \"Host\": \"algo-1\", \"Operation\": \"training\", \"epoch\": 1, \"model\": 26}, \"Metrics\": {\"train_absolute_loss_objective\": {\"sum\": 0.7880153971910476, \"count\": 1, \"min\": 0.7880153971910476, \"max\": 0.7880153971910476}}}\u001b[0m\n",
      "\u001b[34m#metrics {\"StartTime\": 1733345924.5105898, \"EndTime\": 1733345924.5105946, \"Dimensions\": {\"Algorithm\": \"Linear Learner\", \"Host\": \"algo-1\", \"Operation\": \"training\", \"epoch\": 1, \"model\": 27}, \"Metrics\": {\"train_absolute_loss_objective\": {\"sum\": 0.7887432971596717, \"count\": 1, \"min\": 0.7887432971596717, \"max\": 0.7887432971596717}}}\u001b[0m\n",
      "\u001b[34m#metrics {\"StartTime\": 1733345924.5106122, \"EndTime\": 1733345924.5106168, \"Dimensions\": {\"Algorithm\": \"Linear Learner\", \"Host\": \"algo-1\", \"Operation\": \"training\", \"epoch\": 1, \"model\": 28}, \"Metrics\": {\"train_absolute_loss_objective\": {\"sum\": 0.8627408936619758, \"count\": 1, \"min\": 0.8627408936619758, \"max\": 0.8627408936619758}}}\u001b[0m\n",
      "\u001b[34m#metrics {\"StartTime\": 1733345924.5106335, \"EndTime\": 1733345924.510638, \"Dimensions\": {\"Algorithm\": \"Linear Learner\", \"Host\": \"algo-1\", \"Operation\": \"training\", \"epoch\": 1, \"model\": 29}, \"Metrics\": {\"train_absolute_loss_objective\": {\"sum\": 0.8696610215306282, \"count\": 1, \"min\": 0.8696610215306282, \"max\": 0.8696610215306282}}}\u001b[0m\n",
      "\u001b[34m#metrics {\"StartTime\": 1733345924.510657, \"EndTime\": 1733345924.5106616, \"Dimensions\": {\"Algorithm\": \"Linear Learner\", \"Host\": \"algo-1\", \"Operation\": \"training\", \"epoch\": 1, \"model\": 30}, \"Metrics\": {\"train_absolute_loss_objective\": {\"sum\": 0.8677894148230553, \"count\": 1, \"min\": 0.8677894148230553, \"max\": 0.8677894148230553}}}\u001b[0m\n",
      "\u001b[34m#metrics {\"StartTime\": 1733345924.510678, \"EndTime\": 1733345924.5106826, \"Dimensions\": {\"Algorithm\": \"Linear Learner\", \"Host\": \"algo-1\", \"Operation\": \"training\", \"epoch\": 1, \"model\": 31}, \"Metrics\": {\"train_absolute_loss_objective\": {\"sum\": 0.8618289652466774, \"count\": 1, \"min\": 0.8618289652466774, \"max\": 0.8618289652466774}}}\u001b[0m\n",
      "\u001b[34m[12/04/2024 20:58:44 INFO 140003444303680] #quality_metric: host=algo-1, epoch=1, train absolute_loss_objective <loss>=0.397561923712492\u001b[0m\n",
      "\u001b[34m[12/04/2024 20:58:44 INFO 140003444303680] #early_stopping_criteria_metric: host=algo-1, epoch=1, criteria=absolute_loss_objective, value=0.15193733934313058\u001b[0m\n",
      "\u001b[34m[12/04/2024 20:58:44 INFO 140003444303680] Epoch 1: Loss improved. Updating best model\u001b[0m\n",
      "\u001b[34m[12/04/2024 20:58:44 INFO 140003444303680] Saving model for epoch: 1\u001b[0m\n",
      "\u001b[34m[12/04/2024 20:58:44 INFO 140003444303680] Saved checkpoint to \"/tmp/tmptlmx7uc7/mx-mod-0000.params\"\u001b[0m\n",
      "\u001b[34m[12/04/2024 20:58:44 INFO 140003444303680] #progress_metric: host=algo-1, completed 40.0 % of epochs\u001b[0m\n",
      "\u001b[34m#metrics {\"StartTime\": 1733345923.2869096, \"EndTime\": 1733345924.5188186, \"Dimensions\": {\"Algorithm\": \"Linear Learner\", \"Host\": \"algo-1\", \"Operation\": \"training\", \"epoch\": 1, \"Meta\": \"training_data_iter\"}, \"Metrics\": {\"Total Records Seen\": {\"sum\": 1205.0, \"count\": 1, \"min\": 1205, \"max\": 1205}, \"Total Batches Seen\": {\"sum\": 241.0, \"count\": 1, \"min\": 241, \"max\": 241}, \"Max Records Seen Between Resets\": {\"sum\": 400.0, \"count\": 1, \"min\": 400, \"max\": 400}, \"Max Batches Seen Between Resets\": {\"sum\": 80.0, \"count\": 1, \"min\": 80, \"max\": 80}, \"Reset Count\": {\"sum\": 4.0, \"count\": 1, \"min\": 4, \"max\": 4}, \"Number of Records Since Last Reset\": {\"sum\": 400.0, \"count\": 1, \"min\": 400, \"max\": 400}, \"Number of Batches Since Last Reset\": {\"sum\": 80.0, \"count\": 1, \"min\": 80, \"max\": 80}}}\u001b[0m\n",
      "\u001b[34m[12/04/2024 20:58:44 INFO 140003444303680] #throughput_metric: host=algo-1, train throughput=324.67353574159284 records/second\u001b[0m\n",
      "\u001b[34m[2024-12-04 20:58:45.948] [tensorio] [info] epoch_stats={\"data_pipeline\": \"/opt/ml/input/data/train\", \"epoch\": 8, \"duration\": 1429, \"num_examples\": 80, \"num_bytes\": 19200}\u001b[0m\n",
      "\u001b[34m#metrics {\"StartTime\": 1733345925.948719, \"EndTime\": 1733345925.948789, \"Dimensions\": {\"Algorithm\": \"Linear Learner\", \"Host\": \"algo-1\", \"Operation\": \"training\", \"epoch\": 2, \"model\": 0}, \"Metrics\": {\"train_absolute_loss_objective\": {\"sum\": 0.1992308037728071, \"count\": 1, \"min\": 0.1992308037728071, \"max\": 0.1992308037728071}}}\u001b[0m\n",
      "\u001b[34m#metrics {\"StartTime\": 1733345925.9488564, \"EndTime\": 1733345925.9488702, \"Dimensions\": {\"Algorithm\": \"Linear Learner\", \"Host\": \"algo-1\", \"Operation\": \"training\", \"epoch\": 2, \"model\": 1}, \"Metrics\": {\"train_absolute_loss_objective\": {\"sum\": 0.1876854982227087, \"count\": 1, \"min\": 0.1876854982227087, \"max\": 0.1876854982227087}}}\u001b[0m\n",
      "\u001b[34m#metrics {\"StartTime\": 1733345925.948904, \"EndTime\": 1733345925.9489138, \"Dimensions\": {\"Algorithm\": \"Linear Learner\", \"Host\": \"algo-1\", \"Operation\": \"training\", \"epoch\": 2, \"model\": 2}, \"Metrics\": {\"train_absolute_loss_objective\": {\"sum\": 0.20123085729777812, \"count\": 1, \"min\": 0.20123085729777812, \"max\": 0.20123085729777812}}}\u001b[0m\n",
      "\u001b[34m#metrics {\"StartTime\": 1733345925.948952, \"EndTime\": 1733345925.9489632, \"Dimensions\": {\"Algorithm\": \"Linear Learner\", \"Host\": \"algo-1\", \"Operation\": \"training\", \"epoch\": 2, \"model\": 3}, \"Metrics\": {\"train_absolute_loss_objective\": {\"sum\": 0.18710272796452046, \"count\": 1, \"min\": 0.18710272796452046, \"max\": 0.18710272796452046}}}\u001b[0m\n",
      "\u001b[34m#metrics {\"StartTime\": 1733345925.9489934, \"EndTime\": 1733345925.9490032, \"Dimensions\": {\"Algorithm\": \"Linear Learner\", \"Host\": \"algo-1\", \"Operation\": \"training\", \"epoch\": 2, \"model\": 4}, \"Metrics\": {\"train_absolute_loss_objective\": {\"sum\": 0.22480633355677127, \"count\": 1, \"min\": 0.22480633355677127, \"max\": 0.22480633355677127}}}\u001b[0m\n",
      "\u001b[34m#metrics {\"StartTime\": 1733345925.9490335, \"EndTime\": 1733345925.9490433, \"Dimensions\": {\"Algorithm\": \"Linear Learner\", \"Host\": \"algo-1\", \"Operation\": \"training\", \"epoch\": 2, \"model\": 5}, \"Metrics\": {\"train_absolute_loss_objective\": {\"sum\": 0.1956537676602602, \"count\": 1, \"min\": 0.1956537676602602, \"max\": 0.1956537676602602}}}\u001b[0m\n",
      "\u001b[34m#metrics {\"StartTime\": 1733345925.9490755, \"EndTime\": 1733345925.9490848, \"Dimensions\": {\"Algorithm\": \"Linear Learner\", \"Host\": \"algo-1\", \"Operation\": \"training\", \"epoch\": 2, \"model\": 6}, \"Metrics\": {\"train_absolute_loss_objective\": {\"sum\": 0.18761954717338086, \"count\": 1, \"min\": 0.18761954717338086, \"max\": 0.18761954717338086}}}\u001b[0m\n",
      "\u001b[34m#metrics {\"StartTime\": 1733345925.9491134, \"EndTime\": 1733345925.949122, \"Dimensions\": {\"Algorithm\": \"Linear Learner\", \"Host\": \"algo-1\", \"Operation\": \"training\", \"epoch\": 2, \"model\": 7}, \"Metrics\": {\"train_absolute_loss_objective\": {\"sum\": 0.14589987218379974, \"count\": 1, \"min\": 0.14589987218379974, \"max\": 0.14589987218379974}}}\u001b[0m\n",
      "\u001b[34m#metrics {\"StartTime\": 1733345925.949152, \"EndTime\": 1733345925.9491622, \"Dimensions\": {\"Algorithm\": \"Linear Learner\", \"Host\": \"algo-1\", \"Operation\": \"training\", \"epoch\": 2, \"model\": 8}, \"Metrics\": {\"train_absolute_loss_objective\": {\"sum\": 0.233410954400897, \"count\": 1, \"min\": 0.233410954400897, \"max\": 0.233410954400897}}}\u001b[0m\n",
      "\u001b[34m#metrics {\"StartTime\": 1733345925.9491959, \"EndTime\": 1733345925.9492047, \"Dimensions\": {\"Algorithm\": \"Linear Learner\", \"Host\": \"algo-1\", \"Operation\": \"training\", \"epoch\": 2, \"model\": 9}, \"Metrics\": {\"train_absolute_loss_objective\": {\"sum\": 0.1695592499151826, \"count\": 1, \"min\": 0.1695592499151826, \"max\": 0.1695592499151826}}}\u001b[0m\n",
      "\u001b[34m#metrics {\"StartTime\": 1733345925.9492338, \"EndTime\": 1733345925.9492414, \"Dimensions\": {\"Algorithm\": \"Linear Learner\", \"Host\": \"algo-1\", \"Operation\": \"training\", \"epoch\": 2, \"model\": 10}, \"Metrics\": {\"train_absolute_loss_objective\": {\"sum\": 0.2001673375815153, \"count\": 1, \"min\": 0.2001673375815153, \"max\": 0.2001673375815153}}}\u001b[0m\n",
      "\u001b[34m#metrics {\"StartTime\": 1733345925.949272, \"EndTime\": 1733345925.9492805, \"Dimensions\": {\"Algorithm\": \"Linear Learner\", \"Host\": \"algo-1\", \"Operation\": \"training\", \"epoch\": 2, \"model\": 11}, \"Metrics\": {\"train_absolute_loss_objective\": {\"sum\": 0.16597582191228866, \"count\": 1, \"min\": 0.16597582191228866, \"max\": 0.16597582191228866}}}\u001b[0m\n",
      "\u001b[34m#metrics {\"StartTime\": 1733345925.949318, \"EndTime\": 1733345925.949327, \"Dimensions\": {\"Algorithm\": \"Linear Learner\", \"Host\": \"algo-1\", \"Operation\": \"training\", \"epoch\": 2, \"model\": 12}, \"Metrics\": {\"train_absolute_loss_objective\": {\"sum\": 0.16131816625595094, \"count\": 1, \"min\": 0.16131816625595094, \"max\": 0.16131816625595094}}}\u001b[0m\n",
      "\u001b[34m#metrics {\"StartTime\": 1733345925.9493635, \"EndTime\": 1733345925.949373, \"Dimensions\": {\"Algorithm\": \"Linear Learner\", \"Host\": \"algo-1\", \"Operation\": \"training\", \"epoch\": 2, \"model\": 13}, \"Metrics\": {\"train_absolute_loss_objective\": {\"sum\": 0.14678243979811667, \"count\": 1, \"min\": 0.14678243979811667, \"max\": 0.14678243979811667}}}\u001b[0m\n",
      "\u001b[34m#metrics {\"StartTime\": 1733345925.9494116, \"EndTime\": 1733345925.9494216, \"Dimensions\": {\"Algorithm\": \"Linear Learner\", \"Host\": \"algo-1\", \"Operation\": \"training\", \"epoch\": 2, \"model\": 14}, \"Metrics\": {\"train_absolute_loss_objective\": {\"sum\": 0.1570483484119177, \"count\": 1, \"min\": 0.1570483484119177, \"max\": 0.1570483484119177}}}\u001b[0m\n",
      "\u001b[34m#metrics {\"StartTime\": 1733345925.9494574, \"EndTime\": 1733345925.9494677, \"Dimensions\": {\"Algorithm\": \"Linear Learner\", \"Host\": \"algo-1\", \"Operation\": \"training\", \"epoch\": 2, \"model\": 15}, \"Metrics\": {\"train_absolute_loss_objective\": {\"sum\": 0.18741593301296233, \"count\": 1, \"min\": 0.18741593301296233, \"max\": 0.18741593301296233}}}\u001b[0m\n",
      "\u001b[34m#metrics {\"StartTime\": 1733345925.9495032, \"EndTime\": 1733345925.949513, \"Dimensions\": {\"Algorithm\": \"Linear Learner\", \"Host\": \"algo-1\", \"Operation\": \"training\", \"epoch\": 2, \"model\": 16}, \"Metrics\": {\"train_absolute_loss_objective\": {\"sum\": 0.33239629700779916, \"count\": 1, \"min\": 0.33239629700779916, \"max\": 0.33239629700779916}}}\u001b[0m\n",
      "\u001b[34m#metrics {\"StartTime\": 1733345925.949551, \"EndTime\": 1733345925.9495606, \"Dimensions\": {\"Algorithm\": \"Linear Learner\", \"Host\": \"algo-1\", \"Operation\": \"training\", \"epoch\": 2, \"model\": 17}, \"Metrics\": {\"train_absolute_loss_objective\": {\"sum\": 0.33844433292746545, \"count\": 1, \"min\": 0.33844433292746545, \"max\": 0.33844433292746545}}}\u001b[0m\n",
      "\u001b[34m#metrics {\"StartTime\": 1733345925.949601, \"EndTime\": 1733345925.9496114, \"Dimensions\": {\"Algorithm\": \"Linear Learner\", \"Host\": \"algo-1\", \"Operation\": \"training\", \"epoch\": 2, \"model\": 18}, \"Metrics\": {\"train_absolute_loss_objective\": {\"sum\": 0.3428024610877037, \"count\": 1, \"min\": 0.3428024610877037, \"max\": 0.3428024610877037}}}\u001b[0m\n",
      "\u001b[34m#metrics {\"StartTime\": 1733345925.9496503, \"EndTime\": 1733345925.9496593, \"Dimensions\": {\"Algorithm\": \"Linear Learner\", \"Host\": \"algo-1\", \"Operation\": \"training\", \"epoch\": 2, \"model\": 19}, \"Metrics\": {\"train_absolute_loss_objective\": {\"sum\": 0.3269525371491909, \"count\": 1, \"min\": 0.3269525371491909, \"max\": 0.3269525371491909}}}\u001b[0m\n",
      "\u001b[34m#metrics {\"StartTime\": 1733345925.9496975, \"EndTime\": 1733345925.9497066, \"Dimensions\": {\"Algorithm\": \"Linear Learner\", \"Host\": \"algo-1\", \"Operation\": \"training\", \"epoch\": 2, \"model\": 20}, \"Metrics\": {\"train_absolute_loss_objective\": {\"sum\": 0.37553764402866363, \"count\": 1, \"min\": 0.37553764402866363, \"max\": 0.37553764402866363}}}\u001b[0m\n",
      "\u001b[34m#metrics {\"StartTime\": 1733345925.9497466, \"EndTime\": 1733345925.9497564, \"Dimensions\": {\"Algorithm\": \"Linear Learner\", \"Host\": \"algo-1\", \"Operation\": \"training\", \"epoch\": 2, \"model\": 21}, \"Metrics\": {\"train_absolute_loss_objective\": {\"sum\": 0.4369356270134449, \"count\": 1, \"min\": 0.4369356270134449, \"max\": 0.4369356270134449}}}\u001b[0m\n",
      "\u001b[34m#metrics {\"StartTime\": 1733345925.9497905, \"EndTime\": 1733345925.9497995, \"Dimensions\": {\"Algorithm\": \"Linear Learner\", \"Host\": \"algo-1\", \"Operation\": \"training\", \"epoch\": 2, \"model\": 22}, \"Metrics\": {\"train_absolute_loss_objective\": {\"sum\": 0.399895688444376, \"count\": 1, \"min\": 0.399895688444376, \"max\": 0.399895688444376}}}\u001b[0m\n",
      "\u001b[34m#metrics {\"StartTime\": 1733345925.949833, \"EndTime\": 1733345925.9498422, \"Dimensions\": {\"Algorithm\": \"Linear Learner\", \"Host\": \"algo-1\", \"Operation\": \"training\", \"epoch\": 2, \"model\": 23}, \"Metrics\": {\"train_absolute_loss_objective\": {\"sum\": 0.4534365858137608, \"count\": 1, \"min\": 0.4534365858137608, \"max\": 0.4534365858137608}}}\u001b[0m\n",
      "\u001b[34m#metrics {\"StartTime\": 1733345925.9498694, \"EndTime\": 1733345925.9498773, \"Dimensions\": {\"Algorithm\": \"Linear Learner\", \"Host\": \"algo-1\", \"Operation\": \"training\", \"epoch\": 2, \"model\": 24}, \"Metrics\": {\"train_absolute_loss_objective\": {\"sum\": 0.7880286744236946, \"count\": 1, \"min\": 0.7880286744236946, \"max\": 0.7880286744236946}}}\u001b[0m\n",
      "\u001b[34m#metrics {\"StartTime\": 1733345925.9499085, \"EndTime\": 1733345925.9499166, \"Dimensions\": {\"Algorithm\": \"Linear Learner\", \"Host\": \"algo-1\", \"Operation\": \"training\", \"epoch\": 2, \"model\": 25}, \"Metrics\": {\"train_absolute_loss_objective\": {\"sum\": 0.7887730485200882, \"count\": 1, \"min\": 0.7887730485200882, \"max\": 0.7887730485200882}}}\u001b[0m\n",
      "\u001b[34m#metrics {\"StartTime\": 1733345925.949944, \"EndTime\": 1733345925.9499528, \"Dimensions\": {\"Algorithm\": \"Linear Learner\", \"Host\": \"algo-1\", \"Operation\": \"training\", \"epoch\": 2, \"model\": 26}, \"Metrics\": {\"train_absolute_loss_objective\": {\"sum\": 0.7880136641860008, \"count\": 1, \"min\": 0.7880136641860008, \"max\": 0.7880136641860008}}}\u001b[0m\n",
      "\u001b[34m#metrics {\"StartTime\": 1733345925.9499836, \"EndTime\": 1733345925.9499927, \"Dimensions\": {\"Algorithm\": \"Linear Learner\", \"Host\": \"algo-1\", \"Operation\": \"training\", \"epoch\": 2, \"model\": 27}, \"Metrics\": {\"train_absolute_loss_objective\": {\"sum\": 0.7887955585122108, \"count\": 1, \"min\": 0.7887955585122108, \"max\": 0.7887955585122108}}}\u001b[0m\n",
      "\u001b[34m#metrics {\"StartTime\": 1733345925.9500227, \"EndTime\": 1733345925.9500308, \"Dimensions\": {\"Algorithm\": \"Linear Learner\", \"Host\": \"algo-1\", \"Operation\": \"training\", \"epoch\": 2, \"model\": 28}, \"Metrics\": {\"train_absolute_loss_objective\": {\"sum\": 0.831062397658825, \"count\": 1, \"min\": 0.831062397658825, \"max\": 0.831062397658825}}}\u001b[0m\n",
      "\u001b[34m#metrics {\"StartTime\": 1733345925.9500608, \"EndTime\": 1733345925.9500694, \"Dimensions\": {\"Algorithm\": \"Linear Learner\", \"Host\": \"algo-1\", \"Operation\": \"training\", \"epoch\": 2, \"model\": 29}, \"Metrics\": {\"train_absolute_loss_objective\": {\"sum\": 0.8691678702831268, \"count\": 1, \"min\": 0.8691678702831268, \"max\": 0.8691678702831268}}}\u001b[0m\n",
      "\u001b[34m#metrics {\"StartTime\": 1733345925.9500985, \"EndTime\": 1733345925.9501045, \"Dimensions\": {\"Algorithm\": \"Linear Learner\", \"Host\": \"algo-1\", \"Operation\": \"training\", \"epoch\": 2, \"model\": 30}, \"Metrics\": {\"train_absolute_loss_objective\": {\"sum\": 0.8286697843670845, \"count\": 1, \"min\": 0.8286697843670845, \"max\": 0.8286697843670845}}}\u001b[0m\n",
      "\u001b[34m#metrics {\"StartTime\": 1733345925.9501343, \"EndTime\": 1733345925.9501426, \"Dimensions\": {\"Algorithm\": \"Linear Learner\", \"Host\": \"algo-1\", \"Operation\": \"training\", \"epoch\": 2, \"model\": 31}, \"Metrics\": {\"train_absolute_loss_objective\": {\"sum\": 0.8735895845293998, \"count\": 1, \"min\": 0.8735895845293998, \"max\": 0.8735895845293998}}}\u001b[0m\n",
      "\u001b[34m[12/04/2024 20:58:45 INFO 140003444303680] #quality_metric: host=algo-1, epoch=2, train absolute_loss_objective <loss>=0.1992308037728071\u001b[0m\n",
      "\u001b[34m[12/04/2024 20:58:45 INFO 140003444303680] #early_stopping_criteria_metric: host=algo-1, epoch=2, criteria=absolute_loss_objective, value=0.14589987218379974\u001b[0m\n",
      "\u001b[34m[12/04/2024 20:58:45 INFO 140003444303680] Epoch 2: Loss improved. Updating best model\u001b[0m\n",
      "\u001b[34m[12/04/2024 20:58:45 INFO 140003444303680] Saving model for epoch: 2\u001b[0m\n",
      "\u001b[34m[12/04/2024 20:58:45 INFO 140003444303680] Saved checkpoint to \"/tmp/tmpfa2oy8dk/mx-mod-0000.params\"\u001b[0m\n",
      "\u001b[34m[12/04/2024 20:58:45 INFO 140003444303680] #progress_metric: host=algo-1, completed 60.0 % of epochs\u001b[0m\n",
      "\u001b[34m#metrics {\"StartTime\": 1733345924.5190015, \"EndTime\": 1733345925.9573336, \"Dimensions\": {\"Algorithm\": \"Linear Learner\", \"Host\": \"algo-1\", \"Operation\": \"training\", \"epoch\": 2, \"Meta\": \"training_data_iter\"}, \"Metrics\": {\"Total Records Seen\": {\"sum\": 1605.0, \"count\": 1, \"min\": 1605, \"max\": 1605}, \"Total Batches Seen\": {\"sum\": 321.0, \"count\": 1, \"min\": 321, \"max\": 321}, \"Max Records Seen Between Resets\": {\"sum\": 400.0, \"count\": 1, \"min\": 400, \"max\": 400}, \"Max Batches Seen Between Resets\": {\"sum\": 80.0, \"count\": 1, \"min\": 80, \"max\": 80}, \"Reset Count\": {\"sum\": 5.0, \"count\": 1, \"min\": 5, \"max\": 5}, \"Number of Records Since Last Reset\": {\"sum\": 400.0, \"count\": 1, \"min\": 400, \"max\": 400}, \"Number of Batches Since Last Reset\": {\"sum\": 80.0, \"count\": 1, \"min\": 80, \"max\": 80}}}\u001b[0m\n",
      "\u001b[34m[12/04/2024 20:58:45 INFO 140003444303680] #throughput_metric: host=algo-1, train throughput=278.07952073544516 records/second\u001b[0m\n",
      "\u001b[34m[2024-12-04 20:58:47.031] [tensorio] [info] epoch_stats={\"data_pipeline\": \"/opt/ml/input/data/train\", \"epoch\": 10, \"duration\": 1074, \"num_examples\": 80, \"num_bytes\": 19200}\u001b[0m\n",
      "\u001b[34m#metrics {\"StartTime\": 1733345927.0317373, \"EndTime\": 1733345927.031806, \"Dimensions\": {\"Algorithm\": \"Linear Learner\", \"Host\": \"algo-1\", \"Operation\": \"training\", \"epoch\": 3, \"model\": 0}, \"Metrics\": {\"train_absolute_loss_objective\": {\"sum\": 0.1247192519530654, \"count\": 1, \"min\": 0.1247192519530654, \"max\": 0.1247192519530654}}}\u001b[0m\n",
      "\u001b[34m#metrics {\"StartTime\": 1733345927.0318787, \"EndTime\": 1733345927.0318918, \"Dimensions\": {\"Algorithm\": \"Linear Learner\", \"Host\": \"algo-1\", \"Operation\": \"training\", \"epoch\": 3, \"model\": 1}, \"Metrics\": {\"train_absolute_loss_objective\": {\"sum\": 0.122991908416152, \"count\": 1, \"min\": 0.122991908416152, \"max\": 0.122991908416152}}}\u001b[0m\n",
      "\u001b[34m#metrics {\"StartTime\": 1733345927.0321698, \"EndTime\": 1733345927.032192, \"Dimensions\": {\"Algorithm\": \"Linear Learner\", \"Host\": \"algo-1\", \"Operation\": \"training\", \"epoch\": 3, \"model\": 2}, \"Metrics\": {\"train_absolute_loss_objective\": {\"sum\": 0.1254803816229105, \"count\": 1, \"min\": 0.1254803816229105, \"max\": 0.1254803816229105}}}\u001b[0m\n",
      "\u001b[34m#metrics {\"StartTime\": 1733345927.0322402, \"EndTime\": 1733345927.0322514, \"Dimensions\": {\"Algorithm\": \"Linear Learner\", \"Host\": \"algo-1\", \"Operation\": \"training\", \"epoch\": 3, \"model\": 3}, \"Metrics\": {\"train_absolute_loss_objective\": {\"sum\": 0.12297638110816479, \"count\": 1, \"min\": 0.12297638110816479, \"max\": 0.12297638110816479}}}\u001b[0m\n",
      "\u001b[34m#metrics {\"StartTime\": 1733345927.0322888, \"EndTime\": 1733345927.0322976, \"Dimensions\": {\"Algorithm\": \"Linear Learner\", \"Host\": \"algo-1\", \"Operation\": \"training\", \"epoch\": 3, \"model\": 4}, \"Metrics\": {\"train_absolute_loss_objective\": {\"sum\": 0.15319882035255433, \"count\": 1, \"min\": 0.15319882035255433, \"max\": 0.15319882035255433}}}\u001b[0m\n",
      "\u001b[34m#metrics {\"StartTime\": 1733345927.0323253, \"EndTime\": 1733345927.0323334, \"Dimensions\": {\"Algorithm\": \"Linear Learner\", \"Host\": \"algo-1\", \"Operation\": \"training\", \"epoch\": 3, \"model\": 5}, \"Metrics\": {\"train_absolute_loss_objective\": {\"sum\": 0.19347434341907502, \"count\": 1, \"min\": 0.19347434341907502, \"max\": 0.19347434341907502}}}\u001b[0m\n",
      "\u001b[34m#metrics {\"StartTime\": 1733345927.032362, \"EndTime\": 1733345927.0323708, \"Dimensions\": {\"Algorithm\": \"Linear Learner\", \"Host\": \"algo-1\", \"Operation\": \"training\", \"epoch\": 3, \"model\": 6}, \"Metrics\": {\"train_absolute_loss_objective\": {\"sum\": 0.16271166644990445, \"count\": 1, \"min\": 0.16271166644990445, \"max\": 0.16271166644990445}}}\u001b[0m\n",
      "\u001b[34m#metrics {\"StartTime\": 1733345927.032399, \"EndTime\": 1733345927.0324073, \"Dimensions\": {\"Algorithm\": \"Linear Learner\", \"Host\": \"algo-1\", \"Operation\": \"training\", \"epoch\": 3, \"model\": 7}, \"Metrics\": {\"train_absolute_loss_objective\": {\"sum\": 0.15035530019551516, \"count\": 1, \"min\": 0.15035530019551516, \"max\": 0.15035530019551516}}}\u001b[0m\n",
      "\u001b[34m#metrics {\"StartTime\": 1733345927.0324426, \"EndTime\": 1733345927.0324519, \"Dimensions\": {\"Algorithm\": \"Linear Learner\", \"Host\": \"algo-1\", \"Operation\": \"training\", \"epoch\": 3, \"model\": 8}, \"Metrics\": {\"train_absolute_loss_objective\": {\"sum\": 0.13230025880038737, \"count\": 1, \"min\": 0.13230025880038737, \"max\": 0.13230025880038737}}}\u001b[0m\n",
      "\u001b[34m#metrics {\"StartTime\": 1733345927.0324895, \"EndTime\": 1733345927.0324993, \"Dimensions\": {\"Algorithm\": \"Linear Learner\", \"Host\": \"algo-1\", \"Operation\": \"training\", \"epoch\": 3, \"model\": 9}, \"Metrics\": {\"train_absolute_loss_objective\": {\"sum\": 0.12120407175272703, \"count\": 1, \"min\": 0.12120407175272703, \"max\": 0.12120407175272703}}}\u001b[0m\n",
      "\u001b[34m#metrics {\"StartTime\": 1733345927.0325313, \"EndTime\": 1733345927.0325396, \"Dimensions\": {\"Algorithm\": \"Linear Learner\", \"Host\": \"algo-1\", \"Operation\": \"training\", \"epoch\": 3, \"model\": 10}, \"Metrics\": {\"train_absolute_loss_objective\": {\"sum\": 0.1254230148345232, \"count\": 1, \"min\": 0.1254230148345232, \"max\": 0.1254230148345232}}}\u001b[0m\n",
      "\u001b[34m#metrics {\"StartTime\": 1733345927.0325727, \"EndTime\": 1733345927.032582, \"Dimensions\": {\"Algorithm\": \"Linear Learner\", \"Host\": \"algo-1\", \"Operation\": \"training\", \"epoch\": 3, \"model\": 11}, \"Metrics\": {\"train_absolute_loss_objective\": {\"sum\": 0.12008743867278099, \"count\": 1, \"min\": 0.12008743867278099, \"max\": 0.12008743867278099}}}\u001b[0m\n",
      "\u001b[34m#metrics {\"StartTime\": 1733345927.0326097, \"EndTime\": 1733345927.032618, \"Dimensions\": {\"Algorithm\": \"Linear Learner\", \"Host\": \"algo-1\", \"Operation\": \"training\", \"epoch\": 3, \"model\": 12}, \"Metrics\": {\"train_absolute_loss_objective\": {\"sum\": 0.1651002801209688, \"count\": 1, \"min\": 0.1651002801209688, \"max\": 0.1651002801209688}}}\u001b[0m\n",
      "\u001b[34m#metrics {\"StartTime\": 1733345927.0326457, \"EndTime\": 1733345927.0326543, \"Dimensions\": {\"Algorithm\": \"Linear Learner\", \"Host\": \"algo-1\", \"Operation\": \"training\", \"epoch\": 3, \"model\": 13}, \"Metrics\": {\"train_absolute_loss_objective\": {\"sum\": 0.1850793857872486, \"count\": 1, \"min\": 0.1850793857872486, \"max\": 0.1850793857872486}}}\u001b[0m\n",
      "\u001b[34m#metrics {\"StartTime\": 1733345927.032686, \"EndTime\": 1733345927.0326943, \"Dimensions\": {\"Algorithm\": \"Linear Learner\", \"Host\": \"algo-1\", \"Operation\": \"training\", \"epoch\": 3, \"model\": 14}, \"Metrics\": {\"train_absolute_loss_objective\": {\"sum\": 0.15994097240269184, \"count\": 1, \"min\": 0.15994097240269184, \"max\": 0.15994097240269184}}}\u001b[0m\n",
      "\u001b[34m#metrics {\"StartTime\": 1733345927.0327313, \"EndTime\": 1733345927.032741, \"Dimensions\": {\"Algorithm\": \"Linear Learner\", \"Host\": \"algo-1\", \"Operation\": \"training\", \"epoch\": 3, \"model\": 15}, \"Metrics\": {\"train_absolute_loss_objective\": {\"sum\": 0.1712414063513279, \"count\": 1, \"min\": 0.1712414063513279, \"max\": 0.1712414063513279}}}\u001b[0m\n",
      "\u001b[34m#metrics {\"StartTime\": 1733345927.0327752, \"EndTime\": 1733345927.0327852, \"Dimensions\": {\"Algorithm\": \"Linear Learner\", \"Host\": \"algo-1\", \"Operation\": \"training\", \"epoch\": 3, \"model\": 16}, \"Metrics\": {\"train_absolute_loss_objective\": {\"sum\": 0.28774401783943176, \"count\": 1, \"min\": 0.28774401783943176, \"max\": 0.28774401783943176}}}\u001b[0m\n",
      "\u001b[34m#metrics {\"StartTime\": 1733345927.0328183, \"EndTime\": 1733345927.0328276, \"Dimensions\": {\"Algorithm\": \"Linear Learner\", \"Host\": \"algo-1\", \"Operation\": \"training\", \"epoch\": 3, \"model\": 17}, \"Metrics\": {\"train_absolute_loss_objective\": {\"sum\": 0.2886184868216515, \"count\": 1, \"min\": 0.2886184868216515, \"max\": 0.2886184868216515}}}\u001b[0m\n",
      "\u001b[34m#metrics {\"StartTime\": 1733345927.032857, \"EndTime\": 1733345927.0328658, \"Dimensions\": {\"Algorithm\": \"Linear Learner\", \"Host\": \"algo-1\", \"Operation\": \"training\", \"epoch\": 3, \"model\": 18}, \"Metrics\": {\"train_absolute_loss_objective\": {\"sum\": 0.2914872254431248, \"count\": 1, \"min\": 0.2914872254431248, \"max\": 0.2914872254431248}}}\u001b[0m\n",
      "\u001b[34m#metrics {\"StartTime\": 1733345927.032901, \"EndTime\": 1733345927.0329108, \"Dimensions\": {\"Algorithm\": \"Linear Learner\", \"Host\": \"algo-1\", \"Operation\": \"training\", \"epoch\": 3, \"model\": 19}, \"Metrics\": {\"train_absolute_loss_objective\": {\"sum\": 0.284272820353508, \"count\": 1, \"min\": 0.284272820353508, \"max\": 0.284272820353508}}}\u001b[0m\n",
      "\u001b[34m#metrics {\"StartTime\": 1733345927.0329463, \"EndTime\": 1733345927.0329561, \"Dimensions\": {\"Algorithm\": \"Linear Learner\", \"Host\": \"algo-1\", \"Operation\": \"training\", \"epoch\": 3, \"model\": 20}, \"Metrics\": {\"train_absolute_loss_objective\": {\"sum\": 0.39601177655160424, \"count\": 1, \"min\": 0.39601177655160424, \"max\": 0.39601177655160424}}}\u001b[0m\n",
      "\u001b[34m#metrics {\"StartTime\": 1733345927.032987, \"EndTime\": 1733345927.0329974, \"Dimensions\": {\"Algorithm\": \"Linear Learner\", \"Host\": \"algo-1\", \"Operation\": \"training\", \"epoch\": 3, \"model\": 21}, \"Metrics\": {\"train_absolute_loss_objective\": {\"sum\": 0.41888844944536685, \"count\": 1, \"min\": 0.41888844944536685, \"max\": 0.41888844944536685}}}\u001b[0m\n",
      "\u001b[34m#metrics {\"StartTime\": 1733345927.0330281, \"EndTime\": 1733345927.0330365, \"Dimensions\": {\"Algorithm\": \"Linear Learner\", \"Host\": \"algo-1\", \"Operation\": \"training\", \"epoch\": 3, \"model\": 22}, \"Metrics\": {\"train_absolute_loss_objective\": {\"sum\": 0.3533422727882862, \"count\": 1, \"min\": 0.3533422727882862, \"max\": 0.3533422727882862}}}\u001b[0m\n",
      "\u001b[34m#metrics {\"StartTime\": 1733345927.0330725, \"EndTime\": 1733345927.0330813, \"Dimensions\": {\"Algorithm\": \"Linear Learner\", \"Host\": \"algo-1\", \"Operation\": \"training\", \"epoch\": 3, \"model\": 23}, \"Metrics\": {\"train_absolute_loss_objective\": {\"sum\": 0.43707153379917146, \"count\": 1, \"min\": 0.43707153379917146, \"max\": 0.43707153379917146}}}\u001b[0m\n",
      "\u001b[34m#metrics {\"StartTime\": 1733345927.0331194, \"EndTime\": 1733345927.0331297, \"Dimensions\": {\"Algorithm\": \"Linear Learner\", \"Host\": \"algo-1\", \"Operation\": \"training\", \"epoch\": 3, \"model\": 24}, \"Metrics\": {\"train_absolute_loss_objective\": {\"sum\": 0.78746436804533, \"count\": 1, \"min\": 0.78746436804533, \"max\": 0.78746436804533}}}\u001b[0m\n",
      "\u001b[34m#metrics {\"StartTime\": 1733345927.0331674, \"EndTime\": 1733345927.0331774, \"Dimensions\": {\"Algorithm\": \"Linear Learner\", \"Host\": \"algo-1\", \"Operation\": \"training\", \"epoch\": 3, \"model\": 25}, \"Metrics\": {\"train_absolute_loss_objective\": {\"sum\": 0.7886966121196747, \"count\": 1, \"min\": 0.7886966121196747, \"max\": 0.7886966121196747}}}\u001b[0m\n",
      "\u001b[34m#metrics {\"StartTime\": 1733345927.0332155, \"EndTime\": 1733345927.0332248, \"Dimensions\": {\"Algorithm\": \"Linear Learner\", \"Host\": \"algo-1\", \"Operation\": \"training\", \"epoch\": 3, \"model\": 26}, \"Metrics\": {\"train_absolute_loss_objective\": {\"sum\": 0.7874577495455742, \"count\": 1, \"min\": 0.7874577495455742, \"max\": 0.7874577495455742}}}\u001b[0m\n",
      "\u001b[34m#metrics {\"StartTime\": 1733345927.0332625, \"EndTime\": 1733345927.033273, \"Dimensions\": {\"Algorithm\": \"Linear Learner\", \"Host\": \"algo-1\", \"Operation\": \"training\", \"epoch\": 3, \"model\": 27}, \"Metrics\": {\"train_absolute_loss_objective\": {\"sum\": 0.7887306427955627, \"count\": 1, \"min\": 0.7887306427955627, \"max\": 0.7887306427955627}}}\u001b[0m\n",
      "\u001b[34m#metrics {\"StartTime\": 1733345927.0333054, \"EndTime\": 1733345927.0333145, \"Dimensions\": {\"Algorithm\": \"Linear Learner\", \"Host\": \"algo-1\", \"Operation\": \"training\", \"epoch\": 3, \"model\": 28}, \"Metrics\": {\"train_absolute_loss_objective\": {\"sum\": 0.8688683062791824, \"count\": 1, \"min\": 0.8688683062791824, \"max\": 0.8688683062791824}}}\u001b[0m\n",
      "\u001b[34m#metrics {\"StartTime\": 1733345927.033344, \"EndTime\": 1733345927.0333526, \"Dimensions\": {\"Algorithm\": \"Linear Learner\", \"Host\": \"algo-1\", \"Operation\": \"training\", \"epoch\": 3, \"model\": 29}, \"Metrics\": {\"train_absolute_loss_objective\": {\"sum\": 0.8683041706681252, \"count\": 1, \"min\": 0.8683041706681252, \"max\": 0.8683041706681252}}}\u001b[0m\n",
      "\u001b[34m#metrics {\"StartTime\": 1733345927.0333846, \"EndTime\": 1733345927.0333936, \"Dimensions\": {\"Algorithm\": \"Linear Learner\", \"Host\": \"algo-1\", \"Operation\": \"training\", \"epoch\": 3, \"model\": 30}, \"Metrics\": {\"train_absolute_loss_objective\": {\"sum\": 0.8251874047517777, \"count\": 1, \"min\": 0.8251874047517777, \"max\": 0.8251874047517777}}}\u001b[0m\n",
      "\u001b[34m#metrics {\"StartTime\": 1733345927.0334246, \"EndTime\": 1733345927.033434, \"Dimensions\": {\"Algorithm\": \"Linear Learner\", \"Host\": \"algo-1\", \"Operation\": \"training\", \"epoch\": 3, \"model\": 31}, \"Metrics\": {\"train_absolute_loss_objective\": {\"sum\": 0.8788917011022568, \"count\": 1, \"min\": 0.8788917011022568, \"max\": 0.8788917011022568}}}\u001b[0m\n",
      "\u001b[34m[12/04/2024 20:58:47 INFO 140003444303680] #quality_metric: host=algo-1, epoch=3, train absolute_loss_objective <loss>=0.1247192519530654\u001b[0m\n",
      "\u001b[34m[12/04/2024 20:58:47 INFO 140003444303680] #early_stopping_criteria_metric: host=algo-1, epoch=3, criteria=absolute_loss_objective, value=0.12008743867278099\u001b[0m\n",
      "\u001b[34m[12/04/2024 20:58:47 INFO 140003444303680] Epoch 3: Loss improved. Updating best model\u001b[0m\n",
      "\u001b[34m[12/04/2024 20:58:47 INFO 140003444303680] Saving model for epoch: 3\u001b[0m\n",
      "\u001b[34m[12/04/2024 20:58:47 INFO 140003444303680] Saved checkpoint to \"/tmp/tmpvfb53jle/mx-mod-0000.params\"\u001b[0m\n",
      "\u001b[34m[12/04/2024 20:58:47 INFO 140003444303680] #progress_metric: host=algo-1, completed 80.0 % of epochs\u001b[0m\n",
      "\u001b[34m#metrics {\"StartTime\": 1733345925.957556, \"EndTime\": 1733345927.0404356, \"Dimensions\": {\"Algorithm\": \"Linear Learner\", \"Host\": \"algo-1\", \"Operation\": \"training\", \"epoch\": 3, \"Meta\": \"training_data_iter\"}, \"Metrics\": {\"Total Records Seen\": {\"sum\": 2005.0, \"count\": 1, \"min\": 2005, \"max\": 2005}, \"Total Batches Seen\": {\"sum\": 401.0, \"count\": 1, \"min\": 401, \"max\": 401}, \"Max Records Seen Between Resets\": {\"sum\": 400.0, \"count\": 1, \"min\": 400, \"max\": 400}, \"Max Batches Seen Between Resets\": {\"sum\": 80.0, \"count\": 1, \"min\": 80, \"max\": 80}, \"Reset Count\": {\"sum\": 6.0, \"count\": 1, \"min\": 6, \"max\": 6}, \"Number of Records Since Last Reset\": {\"sum\": 400.0, \"count\": 1, \"min\": 400, \"max\": 400}, \"Number of Batches Since Last Reset\": {\"sum\": 80.0, \"count\": 1, \"min\": 80, \"max\": 80}}}\u001b[0m\n",
      "\u001b[34m[12/04/2024 20:58:47 INFO 140003444303680] #throughput_metric: host=algo-1, train throughput=369.34508300966246 records/second\u001b[0m\n",
      "\u001b[34m[2024-12-04 20:58:48.081] [tensorio] [info] epoch_stats={\"data_pipeline\": \"/opt/ml/input/data/train\", \"epoch\": 12, \"duration\": 1040, \"num_examples\": 80, \"num_bytes\": 19200}\u001b[0m\n",
      "\u001b[34m#metrics {\"StartTime\": 1733345928.0811226, \"EndTime\": 1733345928.0811813, \"Dimensions\": {\"Algorithm\": \"Linear Learner\", \"Host\": \"algo-1\", \"Operation\": \"training\", \"epoch\": 4, \"model\": 0}, \"Metrics\": {\"train_absolute_loss_objective\": {\"sum\": 0.12011647999286651, \"count\": 1, \"min\": 0.12011647999286651, \"max\": 0.12011647999286651}}}\u001b[0m\n",
      "\u001b[34m#metrics {\"StartTime\": 1733345928.0812542, \"EndTime\": 1733345928.0812676, \"Dimensions\": {\"Algorithm\": \"Linear Learner\", \"Host\": \"algo-1\", \"Operation\": \"training\", \"epoch\": 4, \"model\": 1}, \"Metrics\": {\"train_absolute_loss_objective\": {\"sum\": 0.12060866229236127, \"count\": 1, \"min\": 0.12060866229236127, \"max\": 0.12060866229236127}}}\u001b[0m\n",
      "\u001b[34m#metrics {\"StartTime\": 1733345928.0813034, \"EndTime\": 1733345928.081314, \"Dimensions\": {\"Algorithm\": \"Linear Learner\", \"Host\": \"algo-1\", \"Operation\": \"training\", \"epoch\": 4, \"model\": 2}, \"Metrics\": {\"train_absolute_loss_objective\": {\"sum\": 0.1185301198065281, \"count\": 1, \"min\": 0.1185301198065281, \"max\": 0.1185301198065281}}}\u001b[0m\n",
      "\u001b[34m#metrics {\"StartTime\": 1733345928.081346, \"EndTime\": 1733345928.0813544, \"Dimensions\": {\"Algorithm\": \"Linear Learner\", \"Host\": \"algo-1\", \"Operation\": \"training\", \"epoch\": 4, \"model\": 3}, \"Metrics\": {\"train_absolute_loss_objective\": {\"sum\": 0.1206083057448268, \"count\": 1, \"min\": 0.1206083057448268, \"max\": 0.1206083057448268}}}\u001b[0m\n",
      "\u001b[34m#metrics {\"StartTime\": 1733345928.081383, \"EndTime\": 1733345928.0813904, \"Dimensions\": {\"Algorithm\": \"Linear Learner\", \"Host\": \"algo-1\", \"Operation\": \"training\", \"epoch\": 4, \"model\": 4}, \"Metrics\": {\"train_absolute_loss_objective\": {\"sum\": 0.14916538916528224, \"count\": 1, \"min\": 0.14916538916528224, \"max\": 0.14916538916528224}}}\u001b[0m\n",
      "\u001b[34m#metrics {\"StartTime\": 1733345928.0814183, \"EndTime\": 1733345928.0814269, \"Dimensions\": {\"Algorithm\": \"Linear Learner\", \"Host\": \"algo-1\", \"Operation\": \"training\", \"epoch\": 4, \"model\": 5}, \"Metrics\": {\"train_absolute_loss_objective\": {\"sum\": 0.20146632097661496, \"count\": 1, \"min\": 0.20146632097661496, \"max\": 0.20146632097661496}}}\u001b[0m\n",
      "\u001b[34m#metrics {\"StartTime\": 1733345928.0814567, \"EndTime\": 1733345928.0814664, \"Dimensions\": {\"Algorithm\": \"Linear Learner\", \"Host\": \"algo-1\", \"Operation\": \"training\", \"epoch\": 4, \"model\": 6}, \"Metrics\": {\"train_absolute_loss_objective\": {\"sum\": 0.15427255786955357, \"count\": 1, \"min\": 0.15427255786955357, \"max\": 0.15427255786955357}}}\u001b[0m\n",
      "\u001b[34m#metrics {\"StartTime\": 1733345928.0814953, \"EndTime\": 1733345928.081504, \"Dimensions\": {\"Algorithm\": \"Linear Learner\", \"Host\": \"algo-1\", \"Operation\": \"training\", \"epoch\": 4, \"model\": 7}, \"Metrics\": {\"train_absolute_loss_objective\": {\"sum\": 0.19003073632717132, \"count\": 1, \"min\": 0.19003073632717132, \"max\": 0.19003073632717132}}}\u001b[0m\n",
      "\u001b[34m#metrics {\"StartTime\": 1733345928.0815349, \"EndTime\": 1733345928.081544, \"Dimensions\": {\"Algorithm\": \"Linear Learner\", \"Host\": \"algo-1\", \"Operation\": \"training\", \"epoch\": 4, \"model\": 8}, \"Metrics\": {\"train_absolute_loss_objective\": {\"sum\": 0.12057809602469206, \"count\": 1, \"min\": 0.12057809602469206, \"max\": 0.12057809602469206}}}\u001b[0m\n",
      "\u001b[34m#metrics {\"StartTime\": 1733345928.081576, \"EndTime\": 1733345928.0815861, \"Dimensions\": {\"Algorithm\": \"Linear Learner\", \"Host\": \"algo-1\", \"Operation\": \"training\", \"epoch\": 4, \"model\": 9}, \"Metrics\": {\"train_absolute_loss_objective\": {\"sum\": 0.12093431122601032, \"count\": 1, \"min\": 0.12093431122601032, \"max\": 0.12093431122601032}}}\u001b[0m\n",
      "\u001b[34m#metrics {\"StartTime\": 1733345928.081623, \"EndTime\": 1733345928.081632, \"Dimensions\": {\"Algorithm\": \"Linear Learner\", \"Host\": \"algo-1\", \"Operation\": \"training\", \"epoch\": 4, \"model\": 10}, \"Metrics\": {\"train_absolute_loss_objective\": {\"sum\": 0.12009964298456907, \"count\": 1, \"min\": 0.12009964298456907, \"max\": 0.12009964298456907}}}\u001b[0m\n",
      "\u001b[34m#metrics {\"StartTime\": 1733345928.081663, \"EndTime\": 1733345928.0816717, \"Dimensions\": {\"Algorithm\": \"Linear Learner\", \"Host\": \"algo-1\", \"Operation\": \"training\", \"epoch\": 4, \"model\": 11}, \"Metrics\": {\"train_absolute_loss_objective\": {\"sum\": 0.12506364714354276, \"count\": 1, \"min\": 0.12506364714354276, \"max\": 0.12506364714354276}}}\u001b[0m\n",
      "\u001b[34m#metrics {\"StartTime\": 1733345928.0817044, \"EndTime\": 1733345928.0817142, \"Dimensions\": {\"Algorithm\": \"Linear Learner\", \"Host\": \"algo-1\", \"Operation\": \"training\", \"epoch\": 4, \"model\": 12}, \"Metrics\": {\"train_absolute_loss_objective\": {\"sum\": 0.13690765008330344, \"count\": 1, \"min\": 0.13690765008330344, \"max\": 0.13690765008330344}}}\u001b[0m\n",
      "\u001b[34m#metrics {\"StartTime\": 1733345928.0817406, \"EndTime\": 1733345928.0817502, \"Dimensions\": {\"Algorithm\": \"Linear Learner\", \"Host\": \"algo-1\", \"Operation\": \"training\", \"epoch\": 4, \"model\": 13}, \"Metrics\": {\"train_absolute_loss_objective\": {\"sum\": 0.19011566124856472, \"count\": 1, \"min\": 0.19011566124856472, \"max\": 0.19011566124856472}}}\u001b[0m\n",
      "\u001b[34m#metrics {\"StartTime\": 1733345928.0817738, \"EndTime\": 1733345928.0817807, \"Dimensions\": {\"Algorithm\": \"Linear Learner\", \"Host\": \"algo-1\", \"Operation\": \"training\", \"epoch\": 4, \"model\": 14}, \"Metrics\": {\"train_absolute_loss_objective\": {\"sum\": 0.14646995030343532, \"count\": 1, \"min\": 0.14646995030343532, \"max\": 0.14646995030343532}}}\u001b[0m\n",
      "\u001b[34m#metrics {\"StartTime\": 1733345928.0818067, \"EndTime\": 1733345928.0818138, \"Dimensions\": {\"Algorithm\": \"Linear Learner\", \"Host\": \"algo-1\", \"Operation\": \"training\", \"epoch\": 4, \"model\": 15}, \"Metrics\": {\"train_absolute_loss_objective\": {\"sum\": 0.17110058702528477, \"count\": 1, \"min\": 0.17110058702528477, \"max\": 0.17110058702528477}}}\u001b[0m\n",
      "\u001b[34m#metrics {\"StartTime\": 1733345928.0818427, \"EndTime\": 1733345928.081852, \"Dimensions\": {\"Algorithm\": \"Linear Learner\", \"Host\": \"algo-1\", \"Operation\": \"training\", \"epoch\": 4, \"model\": 16}, \"Metrics\": {\"train_absolute_loss_objective\": {\"sum\": 0.2725065653026104, \"count\": 1, \"min\": 0.2725065653026104, \"max\": 0.2725065653026104}}}\u001b[0m\n",
      "\u001b[34m#metrics {\"StartTime\": 1733345928.0818834, \"EndTime\": 1733345928.0818934, \"Dimensions\": {\"Algorithm\": \"Linear Learner\", \"Host\": \"algo-1\", \"Operation\": \"training\", \"epoch\": 4, \"model\": 17}, \"Metrics\": {\"train_absolute_loss_objective\": {\"sum\": 0.27401390582323076, \"count\": 1, \"min\": 0.27401390582323076, \"max\": 0.27401390582323076}}}\u001b[0m\n",
      "\u001b[34m#metrics {\"StartTime\": 1733345928.0827854, \"EndTime\": 1733345928.0828037, \"Dimensions\": {\"Algorithm\": \"Linear Learner\", \"Host\": \"algo-1\", \"Operation\": \"training\", \"epoch\": 4, \"model\": 18}, \"Metrics\": {\"train_absolute_loss_objective\": {\"sum\": 0.27065642476081847, \"count\": 1, \"min\": 0.27065642476081847, \"max\": 0.27065642476081847}}}\u001b[0m\n",
      "\u001b[34m#metrics {\"StartTime\": 1733345928.0828376, \"EndTime\": 1733345928.082847, \"Dimensions\": {\"Algorithm\": \"Linear Learner\", \"Host\": \"algo-1\", \"Operation\": \"training\", \"epoch\": 4, \"model\": 19}, \"Metrics\": {\"train_absolute_loss_objective\": {\"sum\": 0.2712609928846359, \"count\": 1, \"min\": 0.2712609928846359, \"max\": 0.2712609928846359}}}\u001b[0m\n",
      "\u001b[34m#metrics {\"StartTime\": 1733345928.0828757, \"EndTime\": 1733345928.0828843, \"Dimensions\": {\"Algorithm\": \"Linear Learner\", \"Host\": \"algo-1\", \"Operation\": \"training\", \"epoch\": 4, \"model\": 20}, \"Metrics\": {\"train_absolute_loss_objective\": {\"sum\": 0.39004490979015827, \"count\": 1, \"min\": 0.39004490979015827, \"max\": 0.39004490979015827}}}\u001b[0m\n",
      "\u001b[34m#metrics {\"StartTime\": 1733345928.0829144, \"EndTime\": 1733345928.082923, \"Dimensions\": {\"Algorithm\": \"Linear Learner\", \"Host\": \"algo-1\", \"Operation\": \"training\", \"epoch\": 4, \"model\": 21}, \"Metrics\": {\"train_absolute_loss_objective\": {\"sum\": 0.4249285487830639, \"count\": 1, \"min\": 0.4249285487830639, \"max\": 0.4249285487830639}}}\u001b[0m\n",
      "\u001b[34m#metrics {\"StartTime\": 1733345928.082953, \"EndTime\": 1733345928.0829625, \"Dimensions\": {\"Algorithm\": \"Linear Learner\", \"Host\": \"algo-1\", \"Operation\": \"training\", \"epoch\": 4, \"model\": 22}, \"Metrics\": {\"train_absolute_loss_objective\": {\"sum\": 0.37813076466321943, \"count\": 1, \"min\": 0.37813076466321943, \"max\": 0.37813076466321943}}}\u001b[0m\n",
      "\u001b[34m#metrics {\"StartTime\": 1733345928.0829866, \"EndTime\": 1733345928.0829964, \"Dimensions\": {\"Algorithm\": \"Linear Learner\", \"Host\": \"algo-1\", \"Operation\": \"training\", \"epoch\": 4, \"model\": 23}, \"Metrics\": {\"train_absolute_loss_objective\": {\"sum\": 0.4479523704946041, \"count\": 1, \"min\": 0.4479523704946041, \"max\": 0.4479523704946041}}}\u001b[0m\n",
      "\u001b[34m#metrics {\"StartTime\": 1733345928.0830271, \"EndTime\": 1733345928.0830357, \"Dimensions\": {\"Algorithm\": \"Linear Learner\", \"Host\": \"algo-1\", \"Operation\": \"training\", \"epoch\": 4, \"model\": 24}, \"Metrics\": {\"train_absolute_loss_objective\": {\"sum\": 0.7871889689564705, \"count\": 1, \"min\": 0.7871889689564705, \"max\": 0.7871889689564705}}}\u001b[0m\n",
      "\u001b[34m#metrics {\"StartTime\": 1733345928.0830655, \"EndTime\": 1733345928.083074, \"Dimensions\": {\"Algorithm\": \"Linear Learner\", \"Host\": \"algo-1\", \"Operation\": \"training\", \"epoch\": 4, \"model\": 25}, \"Metrics\": {\"train_absolute_loss_objective\": {\"sum\": 0.7886565464735031, \"count\": 1, \"min\": 0.7886565464735031, \"max\": 0.7886565464735031}}}\u001b[0m\n",
      "\u001b[34m#metrics {\"StartTime\": 1733345928.083102, \"EndTime\": 1733345928.0831099, \"Dimensions\": {\"Algorithm\": \"Linear Learner\", \"Host\": \"algo-1\", \"Operation\": \"training\", \"epoch\": 4, \"model\": 26}, \"Metrics\": {\"train_absolute_loss_objective\": {\"sum\": 0.7871807795763016, \"count\": 1, \"min\": 0.7871807795763016, \"max\": 0.7871807795763016}}}\u001b[0m\n",
      "\u001b[34m#metrics {\"StartTime\": 1733345928.0831385, \"EndTime\": 1733345928.0831482, \"Dimensions\": {\"Algorithm\": \"Linear Learner\", \"Host\": \"algo-1\", \"Operation\": \"training\", \"epoch\": 4, \"model\": 27}, \"Metrics\": {\"train_absolute_loss_objective\": {\"sum\": 0.7886873251199722, \"count\": 1, \"min\": 0.7886873251199722, \"max\": 0.7886873251199722}}}\u001b[0m\n",
      "\u001b[34m#metrics {\"StartTime\": 1733345928.0831773, \"EndTime\": 1733345928.0831866, \"Dimensions\": {\"Algorithm\": \"Linear Learner\", \"Host\": \"algo-1\", \"Operation\": \"training\", \"epoch\": 4, \"model\": 28}, \"Metrics\": {\"train_absolute_loss_objective\": {\"sum\": 0.8213141342997551, \"count\": 1, \"min\": 0.8213141342997551, \"max\": 0.8213141342997551}}}\u001b[0m\n",
      "\u001b[34m#metrics {\"StartTime\": 1733345928.0832114, \"EndTime\": 1733345928.083221, \"Dimensions\": {\"Algorithm\": \"Linear Learner\", \"Host\": \"algo-1\", \"Operation\": \"training\", \"epoch\": 4, \"model\": 29}, \"Metrics\": {\"train_absolute_loss_objective\": {\"sum\": 0.867317915558815, \"count\": 1, \"min\": 0.867317915558815, \"max\": 0.867317915558815}}}\u001b[0m\n",
      "\u001b[34m#metrics {\"StartTime\": 1733345928.083248, \"EndTime\": 1733345928.083256, \"Dimensions\": {\"Algorithm\": \"Linear Learner\", \"Host\": \"algo-1\", \"Operation\": \"training\", \"epoch\": 4, \"model\": 30}, \"Metrics\": {\"train_absolute_loss_objective\": {\"sum\": 0.8518488395214081, \"count\": 1, \"min\": 0.8518488395214081, \"max\": 0.8518488395214081}}}\u001b[0m\n",
      "\u001b[34m#metrics {\"StartTime\": 1733345928.0832841, \"EndTime\": 1733345928.0832922, \"Dimensions\": {\"Algorithm\": \"Linear Learner\", \"Host\": \"algo-1\", \"Operation\": \"training\", \"epoch\": 4, \"model\": 31}, \"Metrics\": {\"train_absolute_loss_objective\": {\"sum\": 0.866387277841568, \"count\": 1, \"min\": 0.866387277841568, \"max\": 0.866387277841568}}}\u001b[0m\n",
      "\u001b[34m[12/04/2024 20:58:48 INFO 140003444303680] #quality_metric: host=algo-1, epoch=4, train absolute_loss_objective <loss>=0.12011647999286651\u001b[0m\n",
      "\u001b[34m[12/04/2024 20:58:48 INFO 140003444303680] #early_stopping_criteria_metric: host=algo-1, epoch=4, criteria=absolute_loss_objective, value=0.1185301198065281\u001b[0m\n",
      "\u001b[34m[12/04/2024 20:58:48 INFO 140003444303680] Epoch 4: Loss improved. Updating best model\u001b[0m\n",
      "\u001b[34m[12/04/2024 20:58:48 INFO 140003444303680] Saving model for epoch: 4\u001b[0m\n",
      "\u001b[34m[12/04/2024 20:58:48 INFO 140003444303680] Saved checkpoint to \"/tmp/tmpu501kash/mx-mod-0000.params\"\u001b[0m\n",
      "\u001b[34m[12/04/2024 20:58:48 INFO 140003444303680] #progress_metric: host=algo-1, completed 100.0 % of epochs\u001b[0m\n",
      "\u001b[34m#metrics {\"StartTime\": 1733345927.0406623, \"EndTime\": 1733345928.0904438, \"Dimensions\": {\"Algorithm\": \"Linear Learner\", \"Host\": \"algo-1\", \"Operation\": \"training\", \"epoch\": 4, \"Meta\": \"training_data_iter\"}, \"Metrics\": {\"Total Records Seen\": {\"sum\": 2405.0, \"count\": 1, \"min\": 2405, \"max\": 2405}, \"Total Batches Seen\": {\"sum\": 481.0, \"count\": 1, \"min\": 481, \"max\": 481}, \"Max Records Seen Between Resets\": {\"sum\": 400.0, \"count\": 1, \"min\": 400, \"max\": 400}, \"Max Batches Seen Between Resets\": {\"sum\": 80.0, \"count\": 1, \"min\": 80, \"max\": 80}, \"Reset Count\": {\"sum\": 7.0, \"count\": 1, \"min\": 7, \"max\": 7}, \"Number of Records Since Last Reset\": {\"sum\": 400.0, \"count\": 1, \"min\": 400, \"max\": 400}, \"Number of Batches Since Last Reset\": {\"sum\": 80.0, \"count\": 1, \"min\": 80, \"max\": 80}}}\u001b[0m\n",
      "\u001b[34m[12/04/2024 20:58:48 INFO 140003444303680] #throughput_metric: host=algo-1, train throughput=380.98726137792215 records/second\u001b[0m\n",
      "\u001b[34m[12/04/2024 20:58:48 WARNING 140003444303680] wait_for_all_workers will not sync workers since the kv store is not running distributed\u001b[0m\n",
      "\u001b[34m[12/04/2024 20:58:48 WARNING 140003444303680] wait_for_all_workers will not sync workers since the kv store is not running distributed\u001b[0m\n",
      "\u001b[34m[2024-12-04 20:58:48.091] [tensorio] [info] epoch_stats={\"data_pipeline\": \"/opt/ml/input/data/train\", \"epoch\": 14, \"duration\": 0, \"num_examples\": 1, \"num_bytes\": 240}\u001b[0m\n",
      "\u001b[34m[2024-12-04 20:58:48.196] [tensorio] [info] epoch_stats={\"data_pipeline\": \"/opt/ml/input/data/train\", \"epoch\": 16, \"duration\": 97, \"num_examples\": 80, \"num_bytes\": 19200}\u001b[0m\n",
      "\u001b[34m[12/04/2024 20:58:48 INFO 140003444303680] #train_score (algo-1) : ('absolute_loss_objective', 20.96660672187805)\u001b[0m\n",
      "\u001b[34m[12/04/2024 20:58:48 INFO 140003444303680] #train_score (algo-1) : ('mse', 705.4845690917969)\u001b[0m\n",
      "\u001b[34m[12/04/2024 20:58:48 INFO 140003444303680] #train_score (algo-1) : ('absolute_loss', 20.96660672187805)\u001b[0m\n",
      "\u001b[34m[12/04/2024 20:58:48 INFO 140003444303680] #train_score (algo-1) : ('rmse', 26.560959491174202)\u001b[0m\n",
      "\u001b[34m[12/04/2024 20:58:48 INFO 140003444303680] #train_score (algo-1) : ('r2', 0.9772545366562395)\u001b[0m\n",
      "\u001b[34m[12/04/2024 20:58:48 INFO 140003444303680] #train_score (algo-1) : ('mae', 20.96660672187805)\u001b[0m\n",
      "\u001b[34m[12/04/2024 20:58:48 INFO 140003444303680] #quality_metric: host=algo-1, train absolute_loss_objective <loss>=20.96660672187805\u001b[0m\n",
      "\u001b[34m[12/04/2024 20:58:48 INFO 140003444303680] #quality_metric: host=algo-1, train mse <loss>=705.4845690917969\u001b[0m\n",
      "\u001b[34m[12/04/2024 20:58:48 INFO 140003444303680] #quality_metric: host=algo-1, train absolute_loss <loss>=20.96660672187805\u001b[0m\n",
      "\u001b[34m[12/04/2024 20:58:48 INFO 140003444303680] #quality_metric: host=algo-1, train rmse <loss>=26.560959491174202\u001b[0m\n",
      "\u001b[34m[12/04/2024 20:58:48 INFO 140003444303680] #quality_metric: host=algo-1, train r2 <loss>=0.9772545366562395\u001b[0m\n",
      "\u001b[34m[12/04/2024 20:58:48 INFO 140003444303680] #quality_metric: host=algo-1, train mae <loss>=20.96660672187805\u001b[0m\n",
      "\u001b[34m[12/04/2024 20:58:48 INFO 140003444303680] Best model found for hyperparameters: {\"optimizer\": \"adam\", \"learning_rate\": 0.005, \"wd\": 0.0001, \"l1\": 0.0, \"lr_scheduler_step\": 10, \"lr_scheduler_factor\": 0.99, \"lr_scheduler_minimum_lr\": 0.0001}\u001b[0m\n",
      "\u001b[34m[12/04/2024 20:58:48 INFO 140003444303680] Saved checkpoint to \"/tmp/tmpplvps1tn/mx-mod-0000.params\"\u001b[0m\n",
      "\u001b[34m[12/04/2024 20:58:48 INFO 140003444303680] Test data is not provided.\u001b[0m\n",
      "\u001b[34m#metrics {\"StartTime\": 1733345921.75768, \"EndTime\": 1733345928.2030835, \"Dimensions\": {\"Algorithm\": \"Linear Learner\", \"Host\": \"algo-1\", \"Operation\": \"training\"}, \"Metrics\": {\"initialize.time\": {\"sum\": 488.97600173950195, \"count\": 1, \"min\": 488.97600173950195, \"max\": 488.97600173950195}, \"epochs\": {\"sum\": 5.0, \"count\": 1, \"min\": 5, \"max\": 5}, \"check_early_stopping.time\": {\"sum\": 4.220724105834961, \"count\": 5, \"min\": 0.7746219635009766, \"max\": 0.9889602661132812}, \"update.time\": {\"sum\": 5828.260660171509, \"count\": 5, \"min\": 1035.5920791625977, \"max\": 1435.9915256500244}, \"finalize.time\": {\"sum\": 106.92167282104492, \"count\": 1, \"min\": 106.92167282104492, \"max\": 106.92167282104492}, \"setuptime\": {\"sum\": 2.3374557495117188, \"count\": 1, \"min\": 2.3374557495117188, \"max\": 2.3374557495117188}, \"totaltime\": {\"sum\": 6556.588888168335, \"count\": 1, \"min\": 6556.588888168335, \"max\": 6556.588888168335}}}\u001b[0m\n",
      "\n",
      "2024-12-04 20:59:10 Uploading - Uploading generated training model\n",
      "2024-12-04 20:59:10 Completed - Training job completed\n",
      "Training seconds: 155\n",
      "Billable seconds: 155\n"
     ]
    }
   ],
   "source": [
    "linear = sagemaker.estimator.Estimator(container,\n",
    "                                       role, \n",
    "                                       instance_count = 1, \n",
    "                                       instance_type = 'ml.m4.xlarge',\n",
    "                                       output_path = output_location,\n",
    "                                       sagemaker_session = sagemaker_session)\n",
    "\n",
    "linear.set_hyperparameters(feature_dim = 1,\n",
    "                           predictor_type = 'regressor',\n",
    "                           mini_batch_size = 5,\n",
    "                           epochs = 5,\n",
    "                           num_models = 32,\n",
    "                           loss = 'absolute_loss')\n",
    "\n",
    "# Now we are ready to pass in the training data from S3 to train the linear learner model\n",
    "\n",
    "linear.fit({'train': s3_train_data})"
   ]
  },
  {
   "cell_type": "markdown",
   "metadata": {},
   "source": [
    "# DEPLOY AND TEST TRAINED LINEAR LEARNER MODEL "
   ]
  },
  {
   "cell_type": "code",
   "execution_count": 39,
   "metadata": {
    "tags": []
   },
   "outputs": [
    {
     "name": "stderr",
     "output_type": "stream",
     "text": [
      "INFO:sagemaker:Creating model with name: linear-learner-2024-12-04-21-01-37-765\n",
      "INFO:sagemaker:Creating endpoint-config with name linear-learner-2024-12-04-21-01-37-765\n",
      "INFO:sagemaker:Creating endpoint with name linear-learner-2024-12-04-21-01-37-765\n"
     ]
    },
    {
     "name": "stdout",
     "output_type": "stream",
     "text": [
      "---------!"
     ]
    }
   ],
   "source": [
    "# Deploying the model to perform inference \n",
    "# serializer: A serializer object is used to encode data for an inference endpoint.\n",
    "# deserializer: A deserializer object is used to decode data from an inference endpoint.\n",
    "\n",
    "from sagemaker.deserializers import JSONDeserializer\n",
    "from sagemaker.serializers import CSVSerializer\n",
    "\n",
    "\n",
    "linear_regressor = linear.deploy(initial_instance_count = 1,\n",
    "                                 instance_type = 'ml.m4.xlarge',\n",
    "                                 serializer = CSVSerializer(),\n",
    "                                 deserializer = JSONDeserializer())"
   ]
  },
  {
   "cell_type": "code",
   "execution_count": 40,
   "metadata": {
    "tags": []
   },
   "outputs": [],
   "source": [
    "# Making prediction on the test data\n",
    "result = linear_regressor.predict(X_test)"
   ]
  },
  {
   "cell_type": "code",
   "execution_count": 41,
   "metadata": {
    "tags": []
   },
   "outputs": [
    {
     "data": {
      "text/plain": [
       "{'predictions': [{'score': 403.442626953125},\n",
       "  {'score': 602.5214233398438},\n",
       "  {'score': 769.68310546875},\n",
       "  {'score': 675.1608276367188},\n",
       "  {'score': 538.4176635742188},\n",
       "  {'score': 459.13519287109375},\n",
       "  {'score': 660.58984375},\n",
       "  {'score': 794.7659301757812},\n",
       "  {'score': 135.95718383789062},\n",
       "  {'score': 441.7228698730469},\n",
       "  {'score': 706.6998901367188},\n",
       "  {'score': 461.1871337890625},\n",
       "  {'score': 298.4532775878906},\n",
       "  {'score': 537.937744140625},\n",
       "  {'score': 169.12319946289062},\n",
       "  {'score': 568.1857299804688},\n",
       "  {'score': 484.7461853027344},\n",
       "  {'score': 521.611083984375},\n",
       "  {'score': 157.502197265625},\n",
       "  {'score': 296.6925964355469},\n",
       "  {'score': 639.1152954101562},\n",
       "  {'score': 722.5765380859375},\n",
       "  {'score': 145.54330444335938},\n",
       "  {'score': 531.4805908203125},\n",
       "  {'score': 499.4202575683594},\n",
       "  {'score': 505.7557373046875},\n",
       "  {'score': 216.72706604003906},\n",
       "  {'score': 249.4966278076172},\n",
       "  {'score': 683.3693237304688},\n",
       "  {'score': 553.74951171875},\n",
       "  {'score': 752.0844116210938},\n",
       "  {'score': 582.7193603515625},\n",
       "  {'score': 797.23974609375},\n",
       "  {'score': 633.3435668945312},\n",
       "  {'score': 456.2689514160156},\n",
       "  {'score': 652.199462890625},\n",
       "  {'score': 564.63818359375},\n",
       "  {'score': 409.2210998535156},\n",
       "  {'score': 467.78802490234375},\n",
       "  {'score': 257.1042175292969},\n",
       "  {'score': 281.46966552734375},\n",
       "  {'score': 488.9683837890625},\n",
       "  {'score': 703.8846435546875},\n",
       "  {'score': 374.2278747558594},\n",
       "  {'score': 378.0905456542969},\n",
       "  {'score': 306.1076354980469},\n",
       "  {'score': 531.1104736328125},\n",
       "  {'score': 607.6121826171875},\n",
       "  {'score': 526.7681274414062},\n",
       "  {'score': 753.4757690429688},\n",
       "  {'score': 353.69287109375},\n",
       "  {'score': 384.2025451660156},\n",
       "  {'score': 336.6034240722656},\n",
       "  {'score': 270.7945861816406},\n",
       "  {'score': 731.38623046875},\n",
       "  {'score': 450.6360778808594},\n",
       "  {'score': 431.3585205078125},\n",
       "  {'score': 493.1634216308594},\n",
       "  {'score': 501.44561767578125},\n",
       "  {'score': 493.9368896484375},\n",
       "  {'score': 757.8070678710938},\n",
       "  {'score': 495.3810729980469},\n",
       "  {'score': 644.0070190429688},\n",
       "  {'score': 656.1188354492188},\n",
       "  {'score': 627.8895263671875},\n",
       "  {'score': 583.8359985351562},\n",
       "  {'score': 553.4894409179688},\n",
       "  {'score': 797.8594970703125},\n",
       "  {'score': 629.4053344726562},\n",
       "  {'score': 486.3185119628906},\n",
       "  {'score': 448.2158508300781},\n",
       "  {'score': 177.40126037597656},\n",
       "  {'score': 402.2237854003906},\n",
       "  {'score': 678.9148559570312},\n",
       "  {'score': 620.4351806640625},\n",
       "  {'score': 342.0682373046875},\n",
       "  {'score': 246.4081268310547},\n",
       "  {'score': 655.2001953125},\n",
       "  {'score': 511.1837463378906},\n",
       "  {'score': 751.75390625},\n",
       "  {'score': 226.10215759277344},\n",
       "  {'score': 375.82666015625},\n",
       "  {'score': 790.7766723632812},\n",
       "  {'score': 36.134315490722656},\n",
       "  {'score': 339.94354248046875},\n",
       "  {'score': 717.7576904296875},\n",
       "  {'score': 414.3191833496094},\n",
       "  {'score': 358.4947814941406},\n",
       "  {'score': 546.1055297851562},\n",
       "  {'score': 444.1988830566406},\n",
       "  {'score': 405.8358459472656},\n",
       "  {'score': 314.95794677734375},\n",
       "  {'score': 725.0270385742188},\n",
       "  {'score': 510.4482727050781},\n",
       "  {'score': 445.2204284667969},\n",
       "  {'score': 432.0356750488281},\n",
       "  {'score': 437.8377380371094},\n",
       "  {'score': 444.0403137207031},\n",
       "  {'score': 617.8911743164062},\n",
       "  {'score': 477.38189697265625}]}"
      ]
     },
     "execution_count": 41,
     "metadata": {},
     "output_type": "execute_result"
    }
   ],
   "source": [
    "result # results are in Json format"
   ]
  },
  {
   "cell_type": "code",
   "execution_count": 42,
   "metadata": {
    "tags": []
   },
   "outputs": [],
   "source": [
    "# Since the result is in json format, we access the scores by iterating through the scores in the predictions\n",
    "predictions = np.array([r['score'] for r in result['predictions']])"
   ]
  },
  {
   "cell_type": "code",
   "execution_count": 43,
   "metadata": {
    "tags": []
   },
   "outputs": [
    {
     "data": {
      "text/plain": [
       "array([403.44262695, 602.52142334, 769.68310547, 675.16082764,\n",
       "       538.41766357, 459.13519287, 660.58984375, 794.76593018,\n",
       "       135.95718384, 441.72286987, 706.69989014, 461.18713379,\n",
       "       298.45327759, 537.93774414, 169.12319946, 568.18572998,\n",
       "       484.7461853 , 521.61108398, 157.50219727, 296.69259644,\n",
       "       639.11529541, 722.57653809, 145.54330444, 531.48059082,\n",
       "       499.42025757, 505.7557373 , 216.72706604, 249.49662781,\n",
       "       683.36932373, 553.74951172, 752.08441162, 582.71936035,\n",
       "       797.23974609, 633.34356689, 456.26895142, 652.19946289,\n",
       "       564.63818359, 409.22109985, 467.7880249 , 257.10421753,\n",
       "       281.46966553, 488.96838379, 703.88464355, 374.22787476,\n",
       "       378.09054565, 306.1076355 , 531.11047363, 607.61218262,\n",
       "       526.76812744, 753.47576904, 353.69287109, 384.20254517,\n",
       "       336.60342407, 270.79458618, 731.38623047, 450.63607788,\n",
       "       431.35852051, 493.16342163, 501.44561768, 493.93688965,\n",
       "       757.80706787, 495.381073  , 644.00701904, 656.11883545,\n",
       "       627.88952637, 583.83599854, 553.48944092, 797.85949707,\n",
       "       629.40533447, 486.31851196, 448.21585083, 177.40126038,\n",
       "       402.2237854 , 678.91485596, 620.43518066, 342.0682373 ,\n",
       "       246.40812683, 655.20019531, 511.18374634, 751.75390625,\n",
       "       226.10215759, 375.82666016, 790.77667236,  36.13431549,\n",
       "       339.94354248, 717.75769043, 414.31918335, 358.49478149,\n",
       "       546.10552979, 444.19888306, 405.83584595, 314.95794678,\n",
       "       725.02703857, 510.44827271, 445.22042847, 432.03567505,\n",
       "       437.83773804, 444.04031372, 617.89117432, 477.38189697])"
      ]
     },
     "execution_count": 43,
     "metadata": {},
     "output_type": "execute_result"
    }
   ],
   "source": [
    "predictions"
   ]
  },
  {
   "cell_type": "code",
   "execution_count": 44,
   "metadata": {
    "scrolled": true,
    "tags": []
   },
   "outputs": [
    {
     "data": {
      "text/plain": [
       "(100,)"
      ]
     },
     "execution_count": 44,
     "metadata": {},
     "output_type": "execute_result"
    }
   ],
   "source": [
    "predictions.shape"
   ]
  },
  {
   "cell_type": "code",
   "execution_count": 45,
   "metadata": {
    "tags": []
   },
   "outputs": [
    {
     "data": {
      "image/png": "[encoded data removed]",
      "text/plain": [
       "<Figure size 1000x600 with 1 Axes>"
      ]
     },
     "metadata": {},
     "output_type": "display_data"
    }
   ],
   "source": [
    "# VISUALIZE TEST SET RESULTS\n",
    "plt.figure(figsize = (10, 6))\n",
    "plt.scatter(X_test, y_test, color = 'blue')\n",
    "plt.plot(X_test, predictions, color = 'red')\n",
    "plt.xlabel('Temperature [DegC]')\n",
    "plt.ylabel('Revenue [$]')\n",
    "plt.title('Temperature vs. Revenue (Testing Dataset)')\n",
    "plt.grid()"
   ]
  },
  {
   "cell_type": "code",
   "execution_count": 46,
   "metadata": {
    "tags": []
   },
   "outputs": [
    {
     "name": "stdout",
     "output_type": "stream",
     "text": [
      "{'predictions': [{'score': 247.39886474609375}]}\n",
      "{'predictions': [{'score': 790.050537109375}]}\n"
     ]
    }
   ],
   "source": [
    "# Testing the model with the following temperatures: 10 degC and 35 degC\n",
    "temperature = [[10]]\n",
    "revenue = linear_regressor.predict(temperature)\n",
    "print(revenue)\n",
    "\n",
    "temperature = [[35]] \n",
    "revenue = linear_regressor.predict(temperature)\n",
    "print(revenue)"
   ]
  },
  {
   "cell_type": "code",
   "execution_count": 47,
   "metadata": {
    "tags": []
   },
   "outputs": [
    {
     "name": "stderr",
     "output_type": "stream",
     "text": [
      "INFO:sagemaker:Deleting endpoint configuration with name: linear-learner-2024-12-04-21-01-37-765\n",
      "INFO:sagemaker:Deleting endpoint with name: linear-learner-2024-12-04-21-01-37-765\n"
     ]
    }
   ],
   "source": [
    "# Delete the end-point\n",
    "linear_regressor.delete_endpoint()"
   ]
  },
  {
   "cell_type": "markdown",
   "metadata": {},
   "source": [
    "# TRAINING A NEW MODEL WITH 25% TEST DATA AND OPTIMISED COST"
   ]
  },
  {
   "cell_type": "code",
   "execution_count": 48,
   "metadata": {
    "tags": []
   },
   "outputs": [],
   "source": [
    "# split the data into training and testing(25%) using SkLearn Library\n",
    "from sklearn.model_selection import train_test_split\n",
    "X_train, X_test, y_train, y_test = train_test_split(X, y, test_size = 0.25, shuffle = False)\n"
   ]
  },
  {
   "cell_type": "code",
   "execution_count": 49,
   "metadata": {
    "tags": []
   },
   "outputs": [
    {
     "data": {
      "text/plain": [
       "(375, 1)"
      ]
     },
     "execution_count": 49,
     "metadata": {},
     "output_type": "execute_result"
    }
   ],
   "source": [
    "X_train.shape"
   ]
  },
  {
   "cell_type": "code",
   "execution_count": 50,
   "metadata": {
    "tags": []
   },
   "outputs": [
    {
     "data": {
      "text/plain": [
       "(125, 1)"
      ]
     },
     "execution_count": 50,
     "metadata": {},
     "output_type": "execute_result"
    }
   ],
   "source": [
    "X_test.shape"
   ]
  },
  {
   "cell_type": "code",
   "execution_count": 51,
   "metadata": {
    "tags": []
   },
   "outputs": [
    {
     "data": {
      "text/plain": [
       "(375, 1)"
      ]
     },
     "execution_count": 51,
     "metadata": {},
     "output_type": "execute_result"
    }
   ],
   "source": [
    "y_train.shape"
   ]
  },
  {
   "cell_type": "code",
   "execution_count": 52,
   "metadata": {
    "tags": []
   },
   "outputs": [
    {
     "data": {
      "text/plain": [
       "(125, 1)"
      ]
     },
     "execution_count": 52,
     "metadata": {},
     "output_type": "execute_result"
    }
   ],
   "source": [
    "y_test.shape"
   ]
  },
  {
   "cell_type": "code",
   "execution_count": 54,
   "metadata": {
    "tags": []
   },
   "outputs": [
    {
     "name": "stderr",
     "output_type": "stream",
     "text": [
      "INFO:sagemaker:Creating training-job with name: linear-learner-2024-12-04-21-09-23-429\n"
     ]
    },
    {
     "name": "stdout",
     "output_type": "stream",
     "text": [
      "2024-12-04 21:09:23 Starting - Starting the training job...\n",
      "2024-12-04 21:09:52 Starting - Preparing the instances for training......\n",
      "2024-12-04 21:10:40 Downloading - Downloading input data...\n",
      "2024-12-04 21:11:11 Downloading - Downloading the training image.........\n",
      "2024-12-04 21:12:32 Training - Training image download completed. Training in progress..\u001b[34mDocker entrypoint called with argument(s): train\u001b[0m\n",
      "\u001b[34mRunning default environment configuration script\u001b[0m\n",
      "\u001b[34m[12/04/2024 21:12:48 INFO 140614134814528] Reading default configuration from /opt/amazon/lib/python3.8/site-packages/algorithm/resources/default-input.json: {'mini_batch_size': '1000', 'epochs': '15', 'feature_dim': 'auto', 'use_bias': 'true', 'binary_classifier_model_selection_criteria': 'accuracy', 'f_beta': '1.0', 'target_recall': '0.8', 'target_precision': '0.8', 'num_models': 'auto', 'num_calibration_samples': '10000000', 'init_method': 'uniform', 'init_scale': '0.07', 'init_sigma': '0.01', 'init_bias': '0.0', 'optimizer': 'auto', 'loss': 'auto', 'margin': '1.0', 'quantile': '0.5', 'loss_insensitivity': '0.01', 'huber_delta': '1.0', 'num_classes': '1', 'accuracy_top_k': '3', 'wd': 'auto', 'l1': 'auto', 'momentum': 'auto', 'learning_rate': 'auto', 'beta_1': 'auto', 'beta_2': 'auto', 'bias_lr_mult': 'auto', 'bias_wd_mult': 'auto', 'use_lr_scheduler': 'true', 'lr_scheduler_step': 'auto', 'lr_scheduler_factor': 'auto', 'lr_scheduler_minimum_lr': 'auto', 'positive_example_weight_mult': '1.0', 'balance_multiclass_weights': 'false', 'normalize_data': 'true', 'normalize_label': 'auto', 'unbias_data': 'auto', 'unbias_label': 'auto', 'num_point_for_scaler': '10000', '_kvstore': 'auto', '_num_gpus': 'auto', '_num_kv_servers': 'auto', '_log_level': 'info', '_tuning_objective_metric': '', 'early_stopping_patience': '3', 'early_stopping_tolerance': '0.001', '_enable_profiler': 'false'}\u001b[0m\n",
      "\u001b[34m[12/04/2024 21:12:48 INFO 140614134814528] Merging with provided configuration from /opt/ml/input/config/hyperparameters.json: {'epochs': '5', 'feature_dim': '1', 'loss': 'absolute_loss', 'mini_batch_size': '5', 'num_models': '32', 'predictor_type': 'regressor'}\u001b[0m\n",
      "\u001b[34m[12/04/2024 21:12:48 INFO 140614134814528] Final configuration: {'mini_batch_size': '5', 'epochs': '5', 'feature_dim': '1', 'use_bias': 'true', 'binary_classifier_model_selection_criteria': 'accuracy', 'f_beta': '1.0', 'target_recall': '0.8', 'target_precision': '0.8', 'num_models': '32', 'num_calibration_samples': '10000000', 'init_method': 'uniform', 'init_scale': '0.07', 'init_sigma': '0.01', 'init_bias': '0.0', 'optimizer': 'auto', 'loss': 'absolute_loss', 'margin': '1.0', 'quantile': '0.5', 'loss_insensitivity': '0.01', 'huber_delta': '1.0', 'num_classes': '1', 'accuracy_top_k': '3', 'wd': 'auto', 'l1': 'auto', 'momentum': 'auto', 'learning_rate': 'auto', 'beta_1': 'auto', 'beta_2': 'auto', 'bias_lr_mult': 'auto', 'bias_wd_mult': 'auto', 'use_lr_scheduler': 'true', 'lr_scheduler_step': 'auto', 'lr_scheduler_factor': 'auto', 'lr_scheduler_minimum_lr': 'auto', 'positive_example_weight_mult': '1.0', 'balance_multiclass_weights': 'false', 'normalize_data': 'true', 'normalize_label': 'auto', 'unbias_data': 'auto', 'unbias_label': 'auto', 'num_point_for_scaler': '10000', '_kvstore': 'auto', '_num_gpus': 'auto', '_num_kv_servers': 'auto', '_log_level': 'info', '_tuning_objective_metric': '', 'early_stopping_patience': '3', 'early_stopping_tolerance': '0.001', '_enable_profiler': 'false', 'predictor_type': 'regressor'}\u001b[0m\n",
      "\u001b[34m/opt/amazon/lib/python3.8/site-packages/mxnet/model.py:97: SyntaxWarning: \"is\" with a literal. Did you mean \"==\"?\n",
      "  if num_device is 1 and 'dist' not in kvstore:\u001b[0m\n",
      "\u001b[34m/opt/amazon/lib/python3.8/site-packages/scipy/optimize/_shgo.py:495: SyntaxWarning: \"is\" with a literal. Did you mean \"==\"?\n",
      "  if cons['type'] is 'ineq':\u001b[0m\n",
      "\u001b[34m/opt/amazon/lib/python3.8/site-packages/scipy/optimize/_shgo.py:743: SyntaxWarning: \"is not\" with a literal. Did you mean \"!=\"?\n",
      "  if len(self.X_min) is not 0:\u001b[0m\n",
      "\u001b[34m[12/04/2024 21:12:51 WARNING 140614134814528] Loggers have already been setup.\u001b[0m\n",
      "\u001b[34m[12/04/2024 21:12:51 INFO 140614134814528] Final configuration: {'mini_batch_size': '5', 'epochs': '5', 'feature_dim': '1', 'use_bias': 'true', 'binary_classifier_model_selection_criteria': 'accuracy', 'f_beta': '1.0', 'target_recall': '0.8', 'target_precision': '0.8', 'num_models': '32', 'num_calibration_samples': '10000000', 'init_method': 'uniform', 'init_scale': '0.07', 'init_sigma': '0.01', 'init_bias': '0.0', 'optimizer': 'auto', 'loss': 'absolute_loss', 'margin': '1.0', 'quantile': '0.5', 'loss_insensitivity': '0.01', 'huber_delta': '1.0', 'num_classes': '1', 'accuracy_top_k': '3', 'wd': 'auto', 'l1': 'auto', 'momentum': 'auto', 'learning_rate': 'auto', 'beta_1': 'auto', 'beta_2': 'auto', 'bias_lr_mult': 'auto', 'bias_wd_mult': 'auto', 'use_lr_scheduler': 'true', 'lr_scheduler_step': 'auto', 'lr_scheduler_factor': 'auto', 'lr_scheduler_minimum_lr': 'auto', 'positive_example_weight_mult': '1.0', 'balance_multiclass_weights': 'false', 'normalize_data': 'true', 'normalize_label': 'auto', 'unbias_data': 'auto', 'unbias_label': 'auto', 'num_point_for_scaler': '10000', '_kvstore': 'auto', '_num_gpus': 'auto', '_num_kv_servers': 'auto', '_log_level': 'info', '_tuning_objective_metric': '', 'early_stopping_patience': '3', 'early_stopping_tolerance': '0.001', '_enable_profiler': 'false', 'predictor_type': 'regressor'}\u001b[0m\n",
      "\u001b[34m[12/04/2024 21:12:51 WARNING 140614134814528] Loggers have already been setup.\u001b[0m\n",
      "\u001b[34mProcess 7 is a worker.\u001b[0m\n",
      "\u001b[34m[12/04/2024 21:12:51 INFO 140614134814528] Using default worker.\u001b[0m\n",
      "\u001b[34m[12/04/2024 21:12:51 INFO 140614134814528] Checkpoint loading and saving are disabled.\u001b[0m\n",
      "\u001b[34m[2024-12-04 21:12:51.714] [tensorio] [info] epoch_stats={\"data_pipeline\": \"/opt/ml/input/data/train\", \"epoch\": 0, \"duration\": 14, \"num_examples\": 1, \"num_bytes\": 240}\u001b[0m\n",
      "\u001b[34m[12/04/2024 21:12:51 INFO 140614134814528] Create Store: local\u001b[0m\n",
      "\u001b[34m[2024-12-04 21:12:52.305] [tensorio] [info] epoch_stats={\"data_pipeline\": \"/opt/ml/input/data/train\", \"epoch\": 1, \"duration\": 590, \"num_examples\": 80, \"num_bytes\": 19200}\u001b[0m\n",
      "\u001b[34m[12/04/2024 21:12:52 INFO 140614134814528] Scaler algorithm parameters\n",
      " <algorithm.scaler.ScalerAlgorithmStable object at 0x7fe2b7862430>\u001b[0m\n",
      "\u001b[34m[12/04/2024 21:12:52 INFO 140614134814528] Scaling model computed with parameters:\n",
      " {'stdev_label': \u001b[0m\n",
      "\u001b[34m[176.11504]\u001b[0m\n",
      "\u001b[34m<NDArray 1 @cpu(0)>, 'stdev_weight': \u001b[0m\n",
      "\u001b[34m[8.104644]\u001b[0m\n",
      "\u001b[34m<NDArray 1 @cpu(0)>, 'mean_label': \u001b[0m\n",
      "\u001b[34m[525.6257]\u001b[0m\n",
      "\u001b[34m<NDArray 1 @cpu(0)>, 'mean_weight': \u001b[0m\n",
      "\u001b[34m[22.435238]\u001b[0m\n",
      "\u001b[34m<NDArray 1 @cpu(0)>}\u001b[0m\n",
      "\u001b[34m/opt/amazon/python3.8/lib/python3.8/subprocess.py:848: RuntimeWarning: line buffering (buffering=1) isn't supported in binary mode, the default buffer size will be used\n",
      "  self.stdout = io.open(c2pread, 'rb', bufsize)\u001b[0m\n",
      "\u001b[34m[12/04/2024 21:12:52 INFO 140614134814528] nvidia-smi: took 0.034 seconds to run.\u001b[0m\n",
      "\u001b[34m[12/04/2024 21:12:52 INFO 140614134814528] nvidia-smi identified 0 GPUs.\u001b[0m\n",
      "\u001b[34m[12/04/2024 21:12:52 INFO 140614134814528] Number of GPUs being used: 0\u001b[0m\n",
      "\u001b[34m#metrics {\"StartTime\": 1733346772.4176898, \"EndTime\": 1733346772.4177287, \"Dimensions\": {\"Algorithm\": \"Linear Learner\", \"Host\": \"algo-1\", \"Operation\": \"training\", \"Meta\": \"init_train_data_iter\"}, \"Metrics\": {\"Total Records Seen\": {\"sum\": 405.0, \"count\": 1, \"min\": 405, \"max\": 405}, \"Total Batches Seen\": {\"sum\": 81.0, \"count\": 1, \"min\": 81, \"max\": 81}, \"Max Records Seen Between Resets\": {\"sum\": 400.0, \"count\": 1, \"min\": 400, \"max\": 400}, \"Max Batches Seen Between Resets\": {\"sum\": 80.0, \"count\": 1, \"min\": 80, \"max\": 80}, \"Reset Count\": {\"sum\": 2.0, \"count\": 1, \"min\": 2, \"max\": 2}, \"Number of Records Since Last Reset\": {\"sum\": 0.0, \"count\": 1, \"min\": 0, \"max\": 0}, \"Number of Batches Since Last Reset\": {\"sum\": 0.0, \"count\": 1, \"min\": 0, \"max\": 0}}}\u001b[0m\n",
      "\u001b[34m[2024-12-04 21:12:53.953] [tensorio] [info] epoch_stats={\"data_pipeline\": \"/opt/ml/input/data/train\", \"epoch\": 4, \"duration\": 1534, \"num_examples\": 80, \"num_bytes\": 19200}\u001b[0m\n",
      "\u001b[34m#metrics {\"StartTime\": 1733346773.953288, \"EndTime\": 1733346773.9533894, \"Dimensions\": {\"Algorithm\": \"Linear Learner\", \"Host\": \"algo-1\", \"Operation\": \"training\", \"epoch\": 0, \"model\": 0}, \"Metrics\": {\"train_absolute_loss_objective\": {\"sum\": 0.6549239861965179, \"count\": 1, \"min\": 0.6549239861965179, \"max\": 0.6549239861965179}}}\u001b[0m\n",
      "\u001b[34m#metrics {\"StartTime\": 1733346773.953496, \"EndTime\": 1733346773.953516, \"Dimensions\": {\"Algorithm\": \"Linear Learner\", \"Host\": \"algo-1\", \"Operation\": \"training\", \"epoch\": 0, \"model\": 1}, \"Metrics\": {\"train_absolute_loss_objective\": {\"sum\": 0.6704650494456291, \"count\": 1, \"min\": 0.6704650494456291, \"max\": 0.6704650494456291}}}\u001b[0m\n",
      "\u001b[34m#metrics {\"StartTime\": 1733346773.9535768, \"EndTime\": 1733346773.953592, \"Dimensions\": {\"Algorithm\": \"Linear Learner\", \"Host\": \"algo-1\", \"Operation\": \"training\", \"epoch\": 0, \"model\": 2}, \"Metrics\": {\"train_absolute_loss_objective\": {\"sum\": 0.6570951665937901, \"count\": 1, \"min\": 0.6570951665937901, \"max\": 0.6570951665937901}}}\u001b[0m\n",
      "\u001b[34m#metrics {\"StartTime\": 1733346773.9536507, \"EndTime\": 1733346773.9536676, \"Dimensions\": {\"Algorithm\": \"Linear Learner\", \"Host\": \"algo-1\", \"Operation\": \"training\", \"epoch\": 0, \"model\": 3}, \"Metrics\": {\"train_absolute_loss_objective\": {\"sum\": 0.6695473450422287, \"count\": 1, \"min\": 0.6695473450422287, \"max\": 0.6695473450422287}}}\u001b[0m\n",
      "\u001b[34m#metrics {\"StartTime\": 1733346773.9537196, \"EndTime\": 1733346773.9537363, \"Dimensions\": {\"Algorithm\": \"Linear Learner\", \"Host\": \"algo-1\", \"Operation\": \"training\", \"epoch\": 0, \"model\": 4}, \"Metrics\": {\"train_absolute_loss_objective\": {\"sum\": 0.23702806375920774, \"count\": 1, \"min\": 0.23702806375920774, \"max\": 0.23702806375920774}}}\u001b[0m\n",
      "\u001b[34m#metrics {\"StartTime\": 1733346773.9537892, \"EndTime\": 1733346773.9538033, \"Dimensions\": {\"Algorithm\": \"Linear Learner\", \"Host\": \"algo-1\", \"Operation\": \"training\", \"epoch\": 0, \"model\": 5}, \"Metrics\": {\"train_absolute_loss_objective\": {\"sum\": 0.24857573211193085, \"count\": 1, \"min\": 0.24857573211193085, \"max\": 0.24857573211193085}}}\u001b[0m\n",
      "\u001b[34m#metrics {\"StartTime\": 1733346773.9538548, \"EndTime\": 1733346773.9538696, \"Dimensions\": {\"Algorithm\": \"Linear Learner\", \"Host\": \"algo-1\", \"Operation\": \"training\", \"epoch\": 0, \"model\": 6}, \"Metrics\": {\"train_absolute_loss_objective\": {\"sum\": 0.23960905730724336, \"count\": 1, \"min\": 0.23960905730724336, \"max\": 0.23960905730724336}}}\u001b[0m\n",
      "\u001b[34m#metrics {\"StartTime\": 1733346773.953921, \"EndTime\": 1733346773.9539351, \"Dimensions\": {\"Algorithm\": \"Linear Learner\", \"Host\": \"algo-1\", \"Operation\": \"training\", \"epoch\": 0, \"model\": 7}, \"Metrics\": {\"train_absolute_loss_objective\": {\"sum\": 0.23190140403807163, \"count\": 1, \"min\": 0.23190140403807163, \"max\": 0.23190140403807163}}}\u001b[0m\n",
      "\u001b[34m#metrics {\"StartTime\": 1733346773.9539847, \"EndTime\": 1733346773.9539971, \"Dimensions\": {\"Algorithm\": \"Linear Learner\", \"Host\": \"algo-1\", \"Operation\": \"training\", \"epoch\": 0, \"model\": 8}, \"Metrics\": {\"train_absolute_loss_objective\": {\"sum\": 0.7050376665592194, \"count\": 1, \"min\": 0.7050376665592194, \"max\": 0.7050376665592194}}}\u001b[0m\n",
      "\u001b[34m#metrics {\"StartTime\": 1733346773.9540434, \"EndTime\": 1733346773.954058, \"Dimensions\": {\"Algorithm\": \"Linear Learner\", \"Host\": \"algo-1\", \"Operation\": \"training\", \"epoch\": 0, \"model\": 9}, \"Metrics\": {\"train_absolute_loss_objective\": {\"sum\": 0.6413815954327583, \"count\": 1, \"min\": 0.6413815954327583, \"max\": 0.6413815954327583}}}\u001b[0m\n",
      "\u001b[34m#metrics {\"StartTime\": 1733346773.9540958, \"EndTime\": 1733346773.9541097, \"Dimensions\": {\"Algorithm\": \"Linear Learner\", \"Host\": \"algo-1\", \"Operation\": \"training\", \"epoch\": 0, \"model\": 10}, \"Metrics\": {\"train_absolute_loss_objective\": {\"sum\": 0.6499690988659859, \"count\": 1, \"min\": 0.6499690988659859, \"max\": 0.6499690988659859}}}\u001b[0m\n",
      "\u001b[34m#metrics {\"StartTime\": 1733346773.9541547, \"EndTime\": 1733346773.954169, \"Dimensions\": {\"Algorithm\": \"Linear Learner\", \"Host\": \"algo-1\", \"Operation\": \"training\", \"epoch\": 0, \"model\": 11}, \"Metrics\": {\"train_absolute_loss_objective\": {\"sum\": 0.6341060103476047, \"count\": 1, \"min\": 0.6341060103476047, \"max\": 0.6341060103476047}}}\u001b[0m\n",
      "\u001b[34m#metrics {\"StartTime\": 1733346773.95421, \"EndTime\": 1733346773.9542236, \"Dimensions\": {\"Algorithm\": \"Linear Learner\", \"Host\": \"algo-1\", \"Operation\": \"training\", \"epoch\": 0, \"model\": 12}, \"Metrics\": {\"train_absolute_loss_objective\": {\"sum\": 0.24137919262051583, \"count\": 1, \"min\": 0.24137919262051583, \"max\": 0.24137919262051583}}}\u001b[0m\n",
      "\u001b[34m#metrics {\"StartTime\": 1733346773.9542694, \"EndTime\": 1733346773.9542828, \"Dimensions\": {\"Algorithm\": \"Linear Learner\", \"Host\": \"algo-1\", \"Operation\": \"training\", \"epoch\": 0, \"model\": 13}, \"Metrics\": {\"train_absolute_loss_objective\": {\"sum\": 0.22472854506224393, \"count\": 1, \"min\": 0.22472854506224393, \"max\": 0.22472854506224393}}}\u001b[0m\n",
      "\u001b[34m#metrics {\"StartTime\": 1733346773.954311, \"EndTime\": 1733346773.9543233, \"Dimensions\": {\"Algorithm\": \"Linear Learner\", \"Host\": \"algo-1\", \"Operation\": \"training\", \"epoch\": 0, \"model\": 14}, \"Metrics\": {\"train_absolute_loss_objective\": {\"sum\": 0.24133946798741818, \"count\": 1, \"min\": 0.24133946798741818, \"max\": 0.24133946798741818}}}\u001b[0m\n",
      "\u001b[34m#metrics {\"StartTime\": 1733346773.9543633, \"EndTime\": 1733346773.954377, \"Dimensions\": {\"Algorithm\": \"Linear Learner\", \"Host\": \"algo-1\", \"Operation\": \"training\", \"epoch\": 0, \"model\": 15}, \"Metrics\": {\"train_absolute_loss_objective\": {\"sum\": 0.2425030452013016, \"count\": 1, \"min\": 0.2425030452013016, \"max\": 0.2425030452013016}}}\u001b[0m\n",
      "\u001b[34m#metrics {\"StartTime\": 1733346773.9544113, \"EndTime\": 1733346773.9544241, \"Dimensions\": {\"Algorithm\": \"Linear Learner\", \"Host\": \"algo-1\", \"Operation\": \"training\", \"epoch\": 0, \"model\": 16}, \"Metrics\": {\"train_absolute_loss_objective\": {\"sum\": 0.6308268989622593, \"count\": 1, \"min\": 0.6308268989622593, \"max\": 0.6308268989622593}}}\u001b[0m\n",
      "\u001b[34m#metrics {\"StartTime\": 1733346773.954466, \"EndTime\": 1733346773.954475, \"Dimensions\": {\"Algorithm\": \"Linear Learner\", \"Host\": \"algo-1\", \"Operation\": \"training\", \"epoch\": 0, \"model\": 17}, \"Metrics\": {\"train_absolute_loss_objective\": {\"sum\": 0.6721965040266514, \"count\": 1, \"min\": 0.6721965040266514, \"max\": 0.6721965040266514}}}\u001b[0m\n",
      "\u001b[34m#metrics {\"StartTime\": 1733346773.9545057, \"EndTime\": 1733346773.954518, \"Dimensions\": {\"Algorithm\": \"Linear Learner\", \"Host\": \"algo-1\", \"Operation\": \"training\", \"epoch\": 0, \"model\": 18}, \"Metrics\": {\"train_absolute_loss_objective\": {\"sum\": 0.65384710252285, \"count\": 1, \"min\": 0.65384710252285, \"max\": 0.65384710252285}}}\u001b[0m\n",
      "\u001b[34m#metrics {\"StartTime\": 1733346773.954547, \"EndTime\": 1733346773.9545548, \"Dimensions\": {\"Algorithm\": \"Linear Learner\", \"Host\": \"algo-1\", \"Operation\": \"training\", \"epoch\": 0, \"model\": 19}, \"Metrics\": {\"train_absolute_loss_objective\": {\"sum\": 0.6493091225624085, \"count\": 1, \"min\": 0.6493091225624085, \"max\": 0.6493091225624085}}}\u001b[0m\n",
      "\u001b[34m#metrics {\"StartTime\": 1733346773.9545777, \"EndTime\": 1733346773.9545844, \"Dimensions\": {\"Algorithm\": \"Linear Learner\", \"Host\": \"algo-1\", \"Operation\": \"training\", \"epoch\": 0, \"model\": 20}, \"Metrics\": {\"train_absolute_loss_objective\": {\"sum\": 0.4757299916446209, \"count\": 1, \"min\": 0.4757299916446209, \"max\": 0.4757299916446209}}}\u001b[0m\n",
      "\u001b[34m#metrics {\"StartTime\": 1733346773.9546237, \"EndTime\": 1733346773.9546378, \"Dimensions\": {\"Algorithm\": \"Linear Learner\", \"Host\": \"algo-1\", \"Operation\": \"training\", \"epoch\": 0, \"model\": 21}, \"Metrics\": {\"train_absolute_loss_objective\": {\"sum\": 0.4833872880041599, \"count\": 1, \"min\": 0.4833872880041599, \"max\": 0.4833872880041599}}}\u001b[0m\n",
      "\u001b[34m#metrics {\"StartTime\": 1733346773.954687, \"EndTime\": 1733346773.9547026, \"Dimensions\": {\"Algorithm\": \"Linear Learner\", \"Host\": \"algo-1\", \"Operation\": \"training\", \"epoch\": 0, \"model\": 22}, \"Metrics\": {\"train_absolute_loss_objective\": {\"sum\": 0.5005671364068985, \"count\": 1, \"min\": 0.5005671364068985, \"max\": 0.5005671364068985}}}\u001b[0m\n",
      "\u001b[34m#metrics {\"StartTime\": 1733346773.9547527, \"EndTime\": 1733346773.954767, \"Dimensions\": {\"Algorithm\": \"Linear Learner\", \"Host\": \"algo-1\", \"Operation\": \"training\", \"epoch\": 0, \"model\": 23}, \"Metrics\": {\"train_absolute_loss_objective\": {\"sum\": 0.49944101050496104, \"count\": 1, \"min\": 0.49944101050496104, \"max\": 0.49944101050496104}}}\u001b[0m\n",
      "\u001b[34m#metrics {\"StartTime\": 1733346773.9548156, \"EndTime\": 1733346773.954831, \"Dimensions\": {\"Algorithm\": \"Linear Learner\", \"Host\": \"algo-1\", \"Operation\": \"training\", \"epoch\": 0, \"model\": 24}, \"Metrics\": {\"train_absolute_loss_objective\": {\"sum\": 0.7874507892131806, \"count\": 1, \"min\": 0.7874507892131806, \"max\": 0.7874507892131806}}}\u001b[0m\n",
      "\u001b[34m#metrics {\"StartTime\": 1733346773.9548752, \"EndTime\": 1733346773.95489, \"Dimensions\": {\"Algorithm\": \"Linear Learner\", \"Host\": \"algo-1\", \"Operation\": \"training\", \"epoch\": 0, \"model\": 25}, \"Metrics\": {\"train_absolute_loss_objective\": {\"sum\": 0.7910717296600341, \"count\": 1, \"min\": 0.7910717296600341, \"max\": 0.7910717296600341}}}\u001b[0m\n",
      "\u001b[34m#metrics {\"StartTime\": 1733346773.9549387, \"EndTime\": 1733346773.9549532, \"Dimensions\": {\"Algorithm\": \"Linear Learner\", \"Host\": \"algo-1\", \"Operation\": \"training\", \"epoch\": 0, \"model\": 26}, \"Metrics\": {\"train_absolute_loss_objective\": {\"sum\": 0.7901136192679405, \"count\": 1, \"min\": 0.7901136192679405, \"max\": 0.7901136192679405}}}\u001b[0m\n",
      "\u001b[34m#metrics {\"StartTime\": 1733346773.9550002, \"EndTime\": 1733346773.9550152, \"Dimensions\": {\"Algorithm\": \"Linear Learner\", \"Host\": \"algo-1\", \"Operation\": \"training\", \"epoch\": 0, \"model\": 27}, \"Metrics\": {\"train_absolute_loss_objective\": {\"sum\": 0.7899167013168334, \"count\": 1, \"min\": 0.7899167013168334, \"max\": 0.7899167013168334}}}\u001b[0m\n",
      "\u001b[34m#metrics {\"StartTime\": 1733346773.955062, \"EndTime\": 1733346773.955077, \"Dimensions\": {\"Algorithm\": \"Linear Learner\", \"Host\": \"algo-1\", \"Operation\": \"training\", \"epoch\": 0, \"model\": 28}, \"Metrics\": {\"train_absolute_loss_objective\": {\"sum\": 0.9033439728617668, \"count\": 1, \"min\": 0.9033439728617668, \"max\": 0.9033439728617668}}}\u001b[0m\n",
      "\u001b[34m#metrics {\"StartTime\": 1733346773.95511, \"EndTime\": 1733346773.9551184, \"Dimensions\": {\"Algorithm\": \"Linear Learner\", \"Host\": \"algo-1\", \"Operation\": \"training\", \"epoch\": 0, \"model\": 29}, \"Metrics\": {\"train_absolute_loss_objective\": {\"sum\": 0.9107163572311401, \"count\": 1, \"min\": 0.9107163572311401, \"max\": 0.9107163572311401}}}\u001b[0m\n",
      "\u001b[34m#metrics {\"StartTime\": 1733346773.9551466, \"EndTime\": 1733346773.9551597, \"Dimensions\": {\"Algorithm\": \"Linear Learner\", \"Host\": \"algo-1\", \"Operation\": \"training\", \"epoch\": 0, \"model\": 30}, \"Metrics\": {\"train_absolute_loss_objective\": {\"sum\": 0.8827376985549926, \"count\": 1, \"min\": 0.8827376985549926, \"max\": 0.8827376985549926}}}\u001b[0m\n",
      "\u001b[34m#metrics {\"StartTime\": 1733346773.9552102, \"EndTime\": 1733346773.955225, \"Dimensions\": {\"Algorithm\": \"Linear Learner\", \"Host\": \"algo-1\", \"Operation\": \"training\", \"epoch\": 0, \"model\": 31}, \"Metrics\": {\"train_absolute_loss_objective\": {\"sum\": 0.8828207096457481, \"count\": 1, \"min\": 0.8828207096457481, \"max\": 0.8828207096457481}}}\u001b[0m\n",
      "\u001b[34m[12/04/2024 21:12:53 INFO 140614134814528] #quality_metric: host=algo-1, epoch=0, train absolute_loss_objective <loss>=0.6549239861965179\u001b[0m\n",
      "\u001b[34m[12/04/2024 21:12:53 INFO 140614134814528] #early_stopping_criteria_metric: host=algo-1, epoch=0, criteria=absolute_loss_objective, value=0.22472854506224393\u001b[0m\n",
      "\u001b[34m[12/04/2024 21:12:53 INFO 140614134814528] Epoch 0: Loss improved. Updating best model\u001b[0m\n",
      "\u001b[34m[12/04/2024 21:12:53 INFO 140614134814528] Saving model for epoch: 0\u001b[0m\n",
      "\u001b[34m[12/04/2024 21:12:53 INFO 140614134814528] Saved checkpoint to \"/tmp/tmppimvbvai/mx-mod-0000.params\"\u001b[0m\n",
      "\u001b[34m[12/04/2024 21:12:53 INFO 140614134814528] #progress_metric: host=algo-1, completed 20.0 % of epochs\u001b[0m\n",
      "\u001b[34m#metrics {\"StartTime\": 1733346772.418043, \"EndTime\": 1733346773.9660578, \"Dimensions\": {\"Algorithm\": \"Linear Learner\", \"Host\": \"algo-1\", \"Operation\": \"training\", \"epoch\": 0, \"Meta\": \"training_data_iter\"}, \"Metrics\": {\"Total Records Seen\": {\"sum\": 805.0, \"count\": 1, \"min\": 805, \"max\": 805}, \"Total Batches Seen\": {\"sum\": 161.0, \"count\": 1, \"min\": 161, \"max\": 161}, \"Max Records Seen Between Resets\": {\"sum\": 400.0, \"count\": 1, \"min\": 400, \"max\": 400}, \"Max Batches Seen Between Resets\": {\"sum\": 80.0, \"count\": 1, \"min\": 80, \"max\": 80}, \"Reset Count\": {\"sum\": 3.0, \"count\": 1, \"min\": 3, \"max\": 3}, \"Number of Records Since Last Reset\": {\"sum\": 400.0, \"count\": 1, \"min\": 400, \"max\": 400}, \"Number of Batches Since Last Reset\": {\"sum\": 80.0, \"count\": 1, \"min\": 80, \"max\": 80}}}\u001b[0m\n",
      "\u001b[34m[12/04/2024 21:12:53 INFO 140614134814528] #throughput_metric: host=algo-1, train throughput=258.3690266695557 records/second\u001b[0m\n",
      "\u001b[34m[2024-12-04 21:12:55.509] [tensorio] [info] epoch_stats={\"data_pipeline\": \"/opt/ml/input/data/train\", \"epoch\": 6, \"duration\": 1542, \"num_examples\": 80, \"num_bytes\": 19200}\u001b[0m\n",
      "\u001b[34m#metrics {\"StartTime\": 1733346775.5093336, \"EndTime\": 1733346775.5094178, \"Dimensions\": {\"Algorithm\": \"Linear Learner\", \"Host\": \"algo-1\", \"Operation\": \"training\", \"epoch\": 1, \"model\": 0}, \"Metrics\": {\"train_absolute_loss_objective\": {\"sum\": 0.397561923712492, \"count\": 1, \"min\": 0.397561923712492, \"max\": 0.397561923712492}}}\u001b[0m\n",
      "\u001b[34m#metrics {\"StartTime\": 1733346775.5095224, \"EndTime\": 1733346775.5095432, \"Dimensions\": {\"Algorithm\": \"Linear Learner\", \"Host\": \"algo-1\", \"Operation\": \"training\", \"epoch\": 1, \"model\": 1}, \"Metrics\": {\"train_absolute_loss_objective\": {\"sum\": 0.39475918337702753, \"count\": 1, \"min\": 0.39475918337702753, \"max\": 0.39475918337702753}}}\u001b[0m\n",
      "\u001b[34m#metrics {\"StartTime\": 1733346775.5096016, \"EndTime\": 1733346775.5096176, \"Dimensions\": {\"Algorithm\": \"Linear Learner\", \"Host\": \"algo-1\", \"Operation\": \"training\", \"epoch\": 1, \"model\": 2}, \"Metrics\": {\"train_absolute_loss_objective\": {\"sum\": 0.3996320302784443, \"count\": 1, \"min\": 0.3996320302784443, \"max\": 0.3996320302784443}}}\u001b[0m\n",
      "\u001b[34m#metrics {\"StartTime\": 1733346775.5096614, \"EndTime\": 1733346775.5096753, \"Dimensions\": {\"Algorithm\": \"Linear Learner\", \"Host\": \"algo-1\", \"Operation\": \"training\", \"epoch\": 1, \"model\": 3}, \"Metrics\": {\"train_absolute_loss_objective\": {\"sum\": 0.39388569325208667, \"count\": 1, \"min\": 0.39388569325208667, \"max\": 0.39388569325208667}}}\u001b[0m\n",
      "\u001b[34m#metrics {\"StartTime\": 1733346775.509716, \"EndTime\": 1733346775.5097294, \"Dimensions\": {\"Algorithm\": \"Linear Learner\", \"Host\": \"algo-1\", \"Operation\": \"training\", \"epoch\": 1, \"model\": 4}, \"Metrics\": {\"train_absolute_loss_objective\": {\"sum\": 0.15488210014998913, \"count\": 1, \"min\": 0.15488210014998913, \"max\": 0.15488210014998913}}}\u001b[0m\n",
      "\u001b[34m#metrics {\"StartTime\": 1733346775.5097814, \"EndTime\": 1733346775.509797, \"Dimensions\": {\"Algorithm\": \"Linear Learner\", \"Host\": \"algo-1\", \"Operation\": \"training\", \"epoch\": 1, \"model\": 5}, \"Metrics\": {\"train_absolute_loss_objective\": {\"sum\": 0.15193733934313058, \"count\": 1, \"min\": 0.15193733934313058, \"max\": 0.15193733934313058}}}\u001b[0m\n",
      "\u001b[34m#metrics {\"StartTime\": 1733346775.5098462, \"EndTime\": 1733346775.5098622, \"Dimensions\": {\"Algorithm\": \"Linear Learner\", \"Host\": \"algo-1\", \"Operation\": \"training\", \"epoch\": 1, \"model\": 6}, \"Metrics\": {\"train_absolute_loss_objective\": {\"sum\": 0.1545743066072464, \"count\": 1, \"min\": 0.1545743066072464, \"max\": 0.1545743066072464}}}\u001b[0m\n",
      "\u001b[34m#metrics {\"StartTime\": 1733346775.509911, \"EndTime\": 1733346775.5099266, \"Dimensions\": {\"Algorithm\": \"Linear Learner\", \"Host\": \"algo-1\", \"Operation\": \"training\", \"epoch\": 1, \"model\": 7}, \"Metrics\": {\"train_absolute_loss_objective\": {\"sum\": 0.15734283603727817, \"count\": 1, \"min\": 0.15734283603727817, \"max\": 0.15734283603727817}}}\u001b[0m\n",
      "\u001b[34m#metrics {\"StartTime\": 1733346775.5099723, \"EndTime\": 1733346775.5099869, \"Dimensions\": {\"Algorithm\": \"Linear Learner\", \"Host\": \"algo-1\", \"Operation\": \"training\", \"epoch\": 1, \"model\": 8}, \"Metrics\": {\"train_absolute_loss_objective\": {\"sum\": 0.4467665545642376, \"count\": 1, \"min\": 0.4467665545642376, \"max\": 0.4467665545642376}}}\u001b[0m\n",
      "\u001b[34m#metrics {\"StartTime\": 1733346775.5100355, \"EndTime\": 1733346775.510051, \"Dimensions\": {\"Algorithm\": \"Linear Learner\", \"Host\": \"algo-1\", \"Operation\": \"training\", \"epoch\": 1, \"model\": 9}, \"Metrics\": {\"train_absolute_loss_objective\": {\"sum\": 0.3696262088418007, \"count\": 1, \"min\": 0.3696262088418007, \"max\": 0.3696262088418007}}}\u001b[0m\n",
      "\u001b[34m#metrics {\"StartTime\": 1733346775.5101018, \"EndTime\": 1733346775.5101173, \"Dimensions\": {\"Algorithm\": \"Linear Learner\", \"Host\": \"algo-1\", \"Operation\": \"training\", \"epoch\": 1, \"model\": 10}, \"Metrics\": {\"train_absolute_loss_objective\": {\"sum\": 0.3937344565987587, \"count\": 1, \"min\": 0.3937344565987587, \"max\": 0.3937344565987587}}}\u001b[0m\n",
      "\u001b[34m#metrics {\"StartTime\": 1733346775.5101726, \"EndTime\": 1733346775.5101876, \"Dimensions\": {\"Algorithm\": \"Linear Learner\", \"Host\": \"algo-1\", \"Operation\": \"training\", \"epoch\": 1, \"model\": 11}, \"Metrics\": {\"train_absolute_loss_objective\": {\"sum\": 0.3625070576369762, \"count\": 1, \"min\": 0.3625070576369762, \"max\": 0.3625070576369762}}}\u001b[0m\n",
      "\u001b[34m#metrics {\"StartTime\": 1733346775.5102332, \"EndTime\": 1733346775.5102477, \"Dimensions\": {\"Algorithm\": \"Linear Learner\", \"Host\": \"algo-1\", \"Operation\": \"training\", \"epoch\": 1, \"model\": 12}, \"Metrics\": {\"train_absolute_loss_objective\": {\"sum\": 0.17876525815576316, \"count\": 1, \"min\": 0.17876525815576316, \"max\": 0.17876525815576316}}}\u001b[0m\n",
      "\u001b[34m#metrics {\"StartTime\": 1733346775.510298, \"EndTime\": 1733346775.5103137, \"Dimensions\": {\"Algorithm\": \"Linear Learner\", \"Host\": \"algo-1\", \"Operation\": \"training\", \"epoch\": 1, \"model\": 13}, \"Metrics\": {\"train_absolute_loss_objective\": {\"sum\": 0.15561911225318908, \"count\": 1, \"min\": 0.15561911225318908, \"max\": 0.15561911225318908}}}\u001b[0m\n",
      "\u001b[34m#metrics {\"StartTime\": 1733346775.5103633, \"EndTime\": 1733346775.5103793, \"Dimensions\": {\"Algorithm\": \"Linear Learner\", \"Host\": \"algo-1\", \"Operation\": \"training\", \"epoch\": 1, \"model\": 14}, \"Metrics\": {\"train_absolute_loss_objective\": {\"sum\": 0.15693873673677444, \"count\": 1, \"min\": 0.15693873673677444, \"max\": 0.15693873673677444}}}\u001b[0m\n",
      "\u001b[34m#metrics {\"StartTime\": 1733346775.5104275, \"EndTime\": 1733346775.510443, \"Dimensions\": {\"Algorithm\": \"Linear Learner\", \"Host\": \"algo-1\", \"Operation\": \"training\", \"epoch\": 1, \"model\": 15}, \"Metrics\": {\"train_absolute_loss_objective\": {\"sum\": 0.2393732700496912, \"count\": 1, \"min\": 0.2393732700496912, \"max\": 0.2393732700496912}}}\u001b[0m\n",
      "\u001b[34m#metrics {\"StartTime\": 1733346775.5105116, \"EndTime\": 1733346775.510527, \"Dimensions\": {\"Algorithm\": \"Linear Learner\", \"Host\": \"algo-1\", \"Operation\": \"training\", \"epoch\": 1, \"model\": 16}, \"Metrics\": {\"train_absolute_loss_objective\": {\"sum\": 0.43807107001543044, \"count\": 1, \"min\": 0.43807107001543044, \"max\": 0.43807107001543044}}}\u001b[0m\n",
      "\u001b[34m#metrics {\"StartTime\": 1733346775.5105772, \"EndTime\": 1733346775.5105925, \"Dimensions\": {\"Algorithm\": \"Linear Learner\", \"Host\": \"algo-1\", \"Operation\": \"training\", \"epoch\": 1, \"model\": 17}, \"Metrics\": {\"train_absolute_loss_objective\": {\"sum\": 0.4607848247885704, \"count\": 1, \"min\": 0.4607848247885704, \"max\": 0.4607848247885704}}}\u001b[0m\n",
      "\u001b[34m#metrics {\"StartTime\": 1733346775.5106478, \"EndTime\": 1733346775.510664, \"Dimensions\": {\"Algorithm\": \"Linear Learner\", \"Host\": \"algo-1\", \"Operation\": \"training\", \"epoch\": 1, \"model\": 18}, \"Metrics\": {\"train_absolute_loss_objective\": {\"sum\": 0.4563194939494133, \"count\": 1, \"min\": 0.4563194939494133, \"max\": 0.4563194939494133}}}\u001b[0m\n",
      "\u001b[34m#metrics {\"StartTime\": 1733346775.5107038, \"EndTime\": 1733346775.5107179, \"Dimensions\": {\"Algorithm\": \"Linear Learner\", \"Host\": \"algo-1\", \"Operation\": \"training\", \"epoch\": 1, \"model\": 19}, \"Metrics\": {\"train_absolute_loss_objective\": {\"sum\": 0.44260919854044917, \"count\": 1, \"min\": 0.44260919854044917, \"max\": 0.44260919854044917}}}\u001b[0m\n",
      "\u001b[34m#metrics {\"StartTime\": 1733346775.5107634, \"EndTime\": 1733346775.510778, \"Dimensions\": {\"Algorithm\": \"Linear Learner\", \"Host\": \"algo-1\", \"Operation\": \"training\", \"epoch\": 1, \"model\": 20}, \"Metrics\": {\"train_absolute_loss_objective\": {\"sum\": 0.4209242931008339, \"count\": 1, \"min\": 0.4209242931008339, \"max\": 0.4209242931008339}}}\u001b[0m\n",
      "\u001b[34m#metrics {\"StartTime\": 1733346775.5108297, \"EndTime\": 1733346775.5108442, \"Dimensions\": {\"Algorithm\": \"Linear Learner\", \"Host\": \"algo-1\", \"Operation\": \"training\", \"epoch\": 1, \"model\": 21}, \"Metrics\": {\"train_absolute_loss_objective\": {\"sum\": 0.4218263652920723, \"count\": 1, \"min\": 0.4218263652920723, \"max\": 0.4218263652920723}}}\u001b[0m\n",
      "\u001b[34m#metrics {\"StartTime\": 1733346775.5108986, \"EndTime\": 1733346775.5109158, \"Dimensions\": {\"Algorithm\": \"Linear Learner\", \"Host\": \"algo-1\", \"Operation\": \"training\", \"epoch\": 1, \"model\": 22}, \"Metrics\": {\"train_absolute_loss_objective\": {\"sum\": 0.4024855075776577, \"count\": 1, \"min\": 0.4024855075776577, \"max\": 0.4024855075776577}}}\u001b[0m\n",
      "\u001b[34m#metrics {\"StartTime\": 1733346775.5109682, \"EndTime\": 1733346775.5109835, \"Dimensions\": {\"Algorithm\": \"Linear Learner\", \"Host\": \"algo-1\", \"Operation\": \"training\", \"epoch\": 1, \"model\": 23}, \"Metrics\": {\"train_absolute_loss_objective\": {\"sum\": 0.4396051988005638, \"count\": 1, \"min\": 0.4396051988005638, \"max\": 0.4396051988005638}}}\u001b[0m\n",
      "\u001b[34m#metrics {\"StartTime\": 1733346775.5110312, \"EndTime\": 1733346775.5110455, \"Dimensions\": {\"Algorithm\": \"Linear Learner\", \"Host\": \"algo-1\", \"Operation\": \"training\", \"epoch\": 1, \"model\": 24}, \"Metrics\": {\"train_absolute_loss_objective\": {\"sum\": 0.7879670751094818, \"count\": 1, \"min\": 0.7879670751094818, \"max\": 0.7879670751094818}}}\u001b[0m\n",
      "\u001b[34m#metrics {\"StartTime\": 1733346775.5110908, \"EndTime\": 1733346775.5111048, \"Dimensions\": {\"Algorithm\": \"Linear Learner\", \"Host\": \"algo-1\", \"Operation\": \"training\", \"epoch\": 1, \"model\": 25}, \"Metrics\": {\"train_absolute_loss_objective\": {\"sum\": 0.7887568005919456, \"count\": 1, \"min\": 0.7887568005919456, \"max\": 0.7887568005919456}}}\u001b[0m\n",
      "\u001b[34m#metrics {\"StartTime\": 1733346775.51115, \"EndTime\": 1733346775.5111635, \"Dimensions\": {\"Algorithm\": \"Linear Learner\", \"Host\": \"algo-1\", \"Operation\": \"training\", \"epoch\": 1, \"model\": 26}, \"Metrics\": {\"train_absolute_loss_objective\": {\"sum\": 0.7880153971910476, \"count\": 1, \"min\": 0.7880153971910476, \"max\": 0.7880153971910476}}}\u001b[0m\n",
      "\u001b[34m#metrics {\"StartTime\": 1733346775.5112076, \"EndTime\": 1733346775.5112216, \"Dimensions\": {\"Algorithm\": \"Linear Learner\", \"Host\": \"algo-1\", \"Operation\": \"training\", \"epoch\": 1, \"model\": 27}, \"Metrics\": {\"train_absolute_loss_objective\": {\"sum\": 0.7887432971596717, \"count\": 1, \"min\": 0.7887432971596717, \"max\": 0.7887432971596717}}}\u001b[0m\n",
      "\u001b[34m#metrics {\"StartTime\": 1733346775.5112665, \"EndTime\": 1733346775.5112805, \"Dimensions\": {\"Algorithm\": \"Linear Learner\", \"Host\": \"algo-1\", \"Operation\": \"training\", \"epoch\": 1, \"model\": 28}, \"Metrics\": {\"train_absolute_loss_objective\": {\"sum\": 0.8627408936619758, \"count\": 1, \"min\": 0.8627408936619758, \"max\": 0.8627408936619758}}}\u001b[0m\n",
      "\u001b[34m#metrics {\"StartTime\": 1733346775.5113382, \"EndTime\": 1733346775.511354, \"Dimensions\": {\"Algorithm\": \"Linear Learner\", \"Host\": \"algo-1\", \"Operation\": \"training\", \"epoch\": 1, \"model\": 29}, \"Metrics\": {\"train_absolute_loss_objective\": {\"sum\": 0.8696610215306282, \"count\": 1, \"min\": 0.8696610215306282, \"max\": 0.8696610215306282}}}\u001b[0m\n",
      "\u001b[34m#metrics {\"StartTime\": 1733346775.511401, \"EndTime\": 1733346775.5114155, \"Dimensions\": {\"Algorithm\": \"Linear Learner\", \"Host\": \"algo-1\", \"Operation\": \"training\", \"epoch\": 1, \"model\": 30}, \"Metrics\": {\"train_absolute_loss_objective\": {\"sum\": 0.8677894148230553, \"count\": 1, \"min\": 0.8677894148230553, \"max\": 0.8677894148230553}}}\u001b[0m\n",
      "\u001b[34m#metrics {\"StartTime\": 1733346775.5114646, \"EndTime\": 1733346775.5114794, \"Dimensions\": {\"Algorithm\": \"Linear Learner\", \"Host\": \"algo-1\", \"Operation\": \"training\", \"epoch\": 1, \"model\": 31}, \"Metrics\": {\"train_absolute_loss_objective\": {\"sum\": 0.8618289652466774, \"count\": 1, \"min\": 0.8618289652466774, \"max\": 0.8618289652466774}}}\u001b[0m\n",
      "\u001b[34m[12/04/2024 21:12:55 INFO 140614134814528] #quality_metric: host=algo-1, epoch=1, train absolute_loss_objective <loss>=0.397561923712492\u001b[0m\n",
      "\u001b[34m[12/04/2024 21:12:55 INFO 140614134814528] #early_stopping_criteria_metric: host=algo-1, epoch=1, criteria=absolute_loss_objective, value=0.15193733934313058\u001b[0m\n",
      "\u001b[34m[12/04/2024 21:12:55 INFO 140614134814528] Epoch 1: Loss improved. Updating best model\u001b[0m\n",
      "\u001b[34m[12/04/2024 21:12:55 INFO 140614134814528] Saving model for epoch: 1\u001b[0m\n",
      "\u001b[34m[12/04/2024 21:12:55 INFO 140614134814528] Saved checkpoint to \"/tmp/tmpuszxejgt/mx-mod-0000.params\"\u001b[0m\n",
      "\u001b[34m[12/04/2024 21:12:55 INFO 140614134814528] #progress_metric: host=algo-1, completed 40.0 % of epochs\u001b[0m\n",
      "\u001b[34m#metrics {\"StartTime\": 1733346773.9664066, \"EndTime\": 1733346775.521056, \"Dimensions\": {\"Algorithm\": \"Linear Learner\", \"Host\": \"algo-1\", \"Operation\": \"training\", \"epoch\": 1, \"Meta\": \"training_data_iter\"}, \"Metrics\": {\"Total Records Seen\": {\"sum\": 1205.0, \"count\": 1, \"min\": 1205, \"max\": 1205}, \"Total Batches Seen\": {\"sum\": 241.0, \"count\": 1, \"min\": 241, \"max\": 241}, \"Max Records Seen Between Resets\": {\"sum\": 400.0, \"count\": 1, \"min\": 400, \"max\": 400}, \"Max Batches Seen Between Resets\": {\"sum\": 80.0, \"count\": 1, \"min\": 80, \"max\": 80}, \"Reset Count\": {\"sum\": 4.0, \"count\": 1, \"min\": 4, \"max\": 4}, \"Number of Records Since Last Reset\": {\"sum\": 400.0, \"count\": 1, \"min\": 400, \"max\": 400}, \"Number of Batches Since Last Reset\": {\"sum\": 80.0, \"count\": 1, \"min\": 80, \"max\": 80}}}\u001b[0m\n",
      "\u001b[34m[12/04/2024 21:12:55 INFO 140614134814528] #throughput_metric: host=algo-1, train throughput=257.26548269127176 records/second\u001b[0m\n",
      "\u001b[34m[2024-12-04 21:12:57.119] [tensorio] [info] epoch_stats={\"data_pipeline\": \"/opt/ml/input/data/train\", \"epoch\": 8, \"duration\": 1598, \"num_examples\": 80, \"num_bytes\": 19200}\u001b[0m\n",
      "\u001b[34m#metrics {\"StartTime\": 1733346777.1199303, \"EndTime\": 1733346777.1200533, \"Dimensions\": {\"Algorithm\": \"Linear Learner\", \"Host\": \"algo-1\", \"Operation\": \"training\", \"epoch\": 2, \"model\": 0}, \"Metrics\": {\"train_absolute_loss_objective\": {\"sum\": 0.1992308037728071, \"count\": 1, \"min\": 0.1992308037728071, \"max\": 0.1992308037728071}}}\u001b[0m\n",
      "\u001b[34m#metrics {\"StartTime\": 1733346777.1201763, \"EndTime\": 1733346777.1201968, \"Dimensions\": {\"Algorithm\": \"Linear Learner\", \"Host\": \"algo-1\", \"Operation\": \"training\", \"epoch\": 2, \"model\": 1}, \"Metrics\": {\"train_absolute_loss_objective\": {\"sum\": 0.1876854982227087, \"count\": 1, \"min\": 0.1876854982227087, \"max\": 0.1876854982227087}}}\u001b[0m\n",
      "\u001b[34m#metrics {\"StartTime\": 1733346777.1202545, \"EndTime\": 1733346777.1202695, \"Dimensions\": {\"Algorithm\": \"Linear Learner\", \"Host\": \"algo-1\", \"Operation\": \"training\", \"epoch\": 2, \"model\": 2}, \"Metrics\": {\"train_absolute_loss_objective\": {\"sum\": 0.20123085729777812, \"count\": 1, \"min\": 0.20123085729777812, \"max\": 0.20123085729777812}}}\u001b[0m\n",
      "\u001b[34m#metrics {\"StartTime\": 1733346777.1203187, \"EndTime\": 1733346777.1203353, \"Dimensions\": {\"Algorithm\": \"Linear Learner\", \"Host\": \"algo-1\", \"Operation\": \"training\", \"epoch\": 2, \"model\": 3}, \"Metrics\": {\"train_absolute_loss_objective\": {\"sum\": 0.18710272796452046, \"count\": 1, \"min\": 0.18710272796452046, \"max\": 0.18710272796452046}}}\u001b[0m\n",
      "\u001b[34m#metrics {\"StartTime\": 1733346777.120382, \"EndTime\": 1733346777.1203969, \"Dimensions\": {\"Algorithm\": \"Linear Learner\", \"Host\": \"algo-1\", \"Operation\": \"training\", \"epoch\": 2, \"model\": 4}, \"Metrics\": {\"train_absolute_loss_objective\": {\"sum\": 0.22480633355677127, \"count\": 1, \"min\": 0.22480633355677127, \"max\": 0.22480633355677127}}}\u001b[0m\n",
      "\u001b[34m#metrics {\"StartTime\": 1733346777.1204383, \"EndTime\": 1733346777.120447, \"Dimensions\": {\"Algorithm\": \"Linear Learner\", \"Host\": \"algo-1\", \"Operation\": \"training\", \"epoch\": 2, \"model\": 5}, \"Metrics\": {\"train_absolute_loss_objective\": {\"sum\": 0.1956537676602602, \"count\": 1, \"min\": 0.1956537676602602, \"max\": 0.1956537676602602}}}\u001b[0m\n",
      "\u001b[34m#metrics {\"StartTime\": 1733346777.120471, \"EndTime\": 1733346777.120478, \"Dimensions\": {\"Algorithm\": \"Linear Learner\", \"Host\": \"algo-1\", \"Operation\": \"training\", \"epoch\": 2, \"model\": 6}, \"Metrics\": {\"train_absolute_loss_objective\": {\"sum\": 0.18761954717338086, \"count\": 1, \"min\": 0.18761954717338086, \"max\": 0.18761954717338086}}}\u001b[0m\n",
      "\u001b[34m#metrics {\"StartTime\": 1733346777.1205003, \"EndTime\": 1733346777.1205084, \"Dimensions\": {\"Algorithm\": \"Linear Learner\", \"Host\": \"algo-1\", \"Operation\": \"training\", \"epoch\": 2, \"model\": 7}, \"Metrics\": {\"train_absolute_loss_objective\": {\"sum\": 0.14589987218379974, \"count\": 1, \"min\": 0.14589987218379974, \"max\": 0.14589987218379974}}}\u001b[0m\n",
      "\u001b[34m#metrics {\"StartTime\": 1733346777.1205568, \"EndTime\": 1733346777.1205711, \"Dimensions\": {\"Algorithm\": \"Linear Learner\", \"Host\": \"algo-1\", \"Operation\": \"training\", \"epoch\": 2, \"model\": 8}, \"Metrics\": {\"train_absolute_loss_objective\": {\"sum\": 0.233410954400897, \"count\": 1, \"min\": 0.233410954400897, \"max\": 0.233410954400897}}}\u001b[0m\n",
      "\u001b[34m#metrics {\"StartTime\": 1733346777.1206212, \"EndTime\": 1733346777.120636, \"Dimensions\": {\"Algorithm\": \"Linear Learner\", \"Host\": \"algo-1\", \"Operation\": \"training\", \"epoch\": 2, \"model\": 9}, \"Metrics\": {\"train_absolute_loss_objective\": {\"sum\": 0.1695592499151826, \"count\": 1, \"min\": 0.1695592499151826, \"max\": 0.1695592499151826}}}\u001b[0m\n",
      "\u001b[34m#metrics {\"StartTime\": 1733346777.1206968, \"EndTime\": 1733346777.120712, \"Dimensions\": {\"Algorithm\": \"Linear Learner\", \"Host\": \"algo-1\", \"Operation\": \"training\", \"epoch\": 2, \"model\": 10}, \"Metrics\": {\"train_absolute_loss_objective\": {\"sum\": 0.2001673375815153, \"count\": 1, \"min\": 0.2001673375815153, \"max\": 0.2001673375815153}}}\u001b[0m\n",
      "\u001b[34m#metrics {\"StartTime\": 1733346777.120772, \"EndTime\": 1733346777.1207879, \"Dimensions\": {\"Algorithm\": \"Linear Learner\", \"Host\": \"algo-1\", \"Operation\": \"training\", \"epoch\": 2, \"model\": 11}, \"Metrics\": {\"train_absolute_loss_objective\": {\"sum\": 0.16597582191228866, \"count\": 1, \"min\": 0.16597582191228866, \"max\": 0.16597582191228866}}}\u001b[0m\n",
      "\u001b[34m#metrics {\"StartTime\": 1733346777.1208475, \"EndTime\": 1733346777.1208625, \"Dimensions\": {\"Algorithm\": \"Linear Learner\", \"Host\": \"algo-1\", \"Operation\": \"training\", \"epoch\": 2, \"model\": 12}, \"Metrics\": {\"train_absolute_loss_objective\": {\"sum\": 0.16131816625595094, \"count\": 1, \"min\": 0.16131816625595094, \"max\": 0.16131816625595094}}}\u001b[0m\n",
      "\u001b[34m#metrics {\"StartTime\": 1733346777.1209228, \"EndTime\": 1733346777.1209388, \"Dimensions\": {\"Algorithm\": \"Linear Learner\", \"Host\": \"algo-1\", \"Operation\": \"training\", \"epoch\": 2, \"model\": 13}, \"Metrics\": {\"train_absolute_loss_objective\": {\"sum\": 0.14678243979811667, \"count\": 1, \"min\": 0.14678243979811667, \"max\": 0.14678243979811667}}}\u001b[0m\n",
      "\u001b[34m#metrics {\"StartTime\": 1733346777.1209967, \"EndTime\": 1733346777.1210113, \"Dimensions\": {\"Algorithm\": \"Linear Learner\", \"Host\": \"algo-1\", \"Operation\": \"training\", \"epoch\": 2, \"model\": 14}, \"Metrics\": {\"train_absolute_loss_objective\": {\"sum\": 0.1570483484119177, \"count\": 1, \"min\": 0.1570483484119177, \"max\": 0.1570483484119177}}}\u001b[0m\n",
      "\u001b[34m#metrics {\"StartTime\": 1733346777.1210723, \"EndTime\": 1733346777.1210887, \"Dimensions\": {\"Algorithm\": \"Linear Learner\", \"Host\": \"algo-1\", \"Operation\": \"training\", \"epoch\": 2, \"model\": 15}, \"Metrics\": {\"train_absolute_loss_objective\": {\"sum\": 0.18741593301296233, \"count\": 1, \"min\": 0.18741593301296233, \"max\": 0.18741593301296233}}}\u001b[0m\n",
      "\u001b[34m#metrics {\"StartTime\": 1733346777.1211534, \"EndTime\": 1733346777.1211705, \"Dimensions\": {\"Algorithm\": \"Linear Learner\", \"Host\": \"algo-1\", \"Operation\": \"training\", \"epoch\": 2, \"model\": 16}, \"Metrics\": {\"train_absolute_loss_objective\": {\"sum\": 0.33239629700779916, \"count\": 1, \"min\": 0.33239629700779916, \"max\": 0.33239629700779916}}}\u001b[0m\n",
      "\u001b[34m#metrics {\"StartTime\": 1733346777.121238, \"EndTime\": 1733346777.121253, \"Dimensions\": {\"Algorithm\": \"Linear Learner\", \"Host\": \"algo-1\", \"Operation\": \"training\", \"epoch\": 2, \"model\": 17}, \"Metrics\": {\"train_absolute_loss_objective\": {\"sum\": 0.33844433292746545, \"count\": 1, \"min\": 0.33844433292746545, \"max\": 0.33844433292746545}}}\u001b[0m\n",
      "\u001b[34m#metrics {\"StartTime\": 1733346777.1213126, \"EndTime\": 1733346777.1213295, \"Dimensions\": {\"Algorithm\": \"Linear Learner\", \"Host\": \"algo-1\", \"Operation\": \"training\", \"epoch\": 2, \"model\": 18}, \"Metrics\": {\"train_absolute_loss_objective\": {\"sum\": 0.3428024610877037, \"count\": 1, \"min\": 0.3428024610877037, \"max\": 0.3428024610877037}}}\u001b[0m\n",
      "\u001b[34m#metrics {\"StartTime\": 1733346777.1213875, \"EndTime\": 1733346777.1214044, \"Dimensions\": {\"Algorithm\": \"Linear Learner\", \"Host\": \"algo-1\", \"Operation\": \"training\", \"epoch\": 2, \"model\": 19}, \"Metrics\": {\"train_absolute_loss_objective\": {\"sum\": 0.3269525371491909, \"count\": 1, \"min\": 0.3269525371491909, \"max\": 0.3269525371491909}}}\u001b[0m\n",
      "\u001b[34m#metrics {\"StartTime\": 1733346777.1214528, \"EndTime\": 1733346777.1214683, \"Dimensions\": {\"Algorithm\": \"Linear Learner\", \"Host\": \"algo-1\", \"Operation\": \"training\", \"epoch\": 2, \"model\": 20}, \"Metrics\": {\"train_absolute_loss_objective\": {\"sum\": 0.37553764402866363, \"count\": 1, \"min\": 0.37553764402866363, \"max\": 0.37553764402866363}}}\u001b[0m\n",
      "\u001b[34m#metrics {\"StartTime\": 1733346777.1215258, \"EndTime\": 1733346777.1215427, \"Dimensions\": {\"Algorithm\": \"Linear Learner\", \"Host\": \"algo-1\", \"Operation\": \"training\", \"epoch\": 2, \"model\": 21}, \"Metrics\": {\"train_absolute_loss_objective\": {\"sum\": 0.4369356270134449, \"count\": 1, \"min\": 0.4369356270134449, \"max\": 0.4369356270134449}}}\u001b[0m\n",
      "\u001b[34m#metrics {\"StartTime\": 1733346777.1216025, \"EndTime\": 1733346777.1216195, \"Dimensions\": {\"Algorithm\": \"Linear Learner\", \"Host\": \"algo-1\", \"Operation\": \"training\", \"epoch\": 2, \"model\": 22}, \"Metrics\": {\"train_absolute_loss_objective\": {\"sum\": 0.399895688444376, \"count\": 1, \"min\": 0.399895688444376, \"max\": 0.399895688444376}}}\u001b[0m\n",
      "\u001b[34m#metrics {\"StartTime\": 1733346777.121666, \"EndTime\": 1733346777.1216755, \"Dimensions\": {\"Algorithm\": \"Linear Learner\", \"Host\": \"algo-1\", \"Operation\": \"training\", \"epoch\": 2, \"model\": 23}, \"Metrics\": {\"train_absolute_loss_objective\": {\"sum\": 0.4534365858137608, \"count\": 1, \"min\": 0.4534365858137608, \"max\": 0.4534365858137608}}}\u001b[0m\n",
      "\u001b[34m#metrics {\"StartTime\": 1733346777.1217086, \"EndTime\": 1733346777.1217215, \"Dimensions\": {\"Algorithm\": \"Linear Learner\", \"Host\": \"algo-1\", \"Operation\": \"training\", \"epoch\": 2, \"model\": 24}, \"Metrics\": {\"train_absolute_loss_objective\": {\"sum\": 0.7880286744236946, \"count\": 1, \"min\": 0.7880286744236946, \"max\": 0.7880286744236946}}}\u001b[0m\n",
      "\u001b[34m#metrics {\"StartTime\": 1733346777.1217768, \"EndTime\": 1733346777.121792, \"Dimensions\": {\"Algorithm\": \"Linear Learner\", \"Host\": \"algo-1\", \"Operation\": \"training\", \"epoch\": 2, \"model\": 25}, \"Metrics\": {\"train_absolute_loss_objective\": {\"sum\": 0.7887730485200882, \"count\": 1, \"min\": 0.7887730485200882, \"max\": 0.7887730485200882}}}\u001b[0m\n",
      "\u001b[34m#metrics {\"StartTime\": 1733346777.121848, \"EndTime\": 1733346777.1218653, \"Dimensions\": {\"Algorithm\": \"Linear Learner\", \"Host\": \"algo-1\", \"Operation\": \"training\", \"epoch\": 2, \"model\": 26}, \"Metrics\": {\"train_absolute_loss_objective\": {\"sum\": 0.7880136641860008, \"count\": 1, \"min\": 0.7880136641860008, \"max\": 0.7880136641860008}}}\u001b[0m\n",
      "\u001b[34m#metrics {\"StartTime\": 1733346777.1219223, \"EndTime\": 1733346777.1219368, \"Dimensions\": {\"Algorithm\": \"Linear Learner\", \"Host\": \"algo-1\", \"Operation\": \"training\", \"epoch\": 2, \"model\": 27}, \"Metrics\": {\"train_absolute_loss_objective\": {\"sum\": 0.7887955585122108, \"count\": 1, \"min\": 0.7887955585122108, \"max\": 0.7887955585122108}}}\u001b[0m\n",
      "\u001b[34m#metrics {\"StartTime\": 1733346777.1219847, \"EndTime\": 1733346777.1219985, \"Dimensions\": {\"Algorithm\": \"Linear Learner\", \"Host\": \"algo-1\", \"Operation\": \"training\", \"epoch\": 2, \"model\": 28}, \"Metrics\": {\"train_absolute_loss_objective\": {\"sum\": 0.831062397658825, \"count\": 1, \"min\": 0.831062397658825, \"max\": 0.831062397658825}}}\u001b[0m\n",
      "\u001b[34m#metrics {\"StartTime\": 1733346777.1220539, \"EndTime\": 1733346777.1220686, \"Dimensions\": {\"Algorithm\": \"Linear Learner\", \"Host\": \"algo-1\", \"Operation\": \"training\", \"epoch\": 2, \"model\": 29}, \"Metrics\": {\"train_absolute_loss_objective\": {\"sum\": 0.8691678702831268, \"count\": 1, \"min\": 0.8691678702831268, \"max\": 0.8691678702831268}}}\u001b[0m\n",
      "\u001b[34m#metrics {\"StartTime\": 1733346777.1221192, \"EndTime\": 1733346777.1221335, \"Dimensions\": {\"Algorithm\": \"Linear Learner\", \"Host\": \"algo-1\", \"Operation\": \"training\", \"epoch\": 2, \"model\": 30}, \"Metrics\": {\"train_absolute_loss_objective\": {\"sum\": 0.8286697843670845, \"count\": 1, \"min\": 0.8286697843670845, \"max\": 0.8286697843670845}}}\u001b[0m\n",
      "\u001b[34m#metrics {\"StartTime\": 1733346777.1221788, \"EndTime\": 1733346777.1221933, \"Dimensions\": {\"Algorithm\": \"Linear Learner\", \"Host\": \"algo-1\", \"Operation\": \"training\", \"epoch\": 2, \"model\": 31}, \"Metrics\": {\"train_absolute_loss_objective\": {\"sum\": 0.8735895845293998, \"count\": 1, \"min\": 0.8735895845293998, \"max\": 0.8735895845293998}}}\u001b[0m\n",
      "\u001b[34m[12/04/2024 21:12:57 INFO 140614134814528] #quality_metric: host=algo-1, epoch=2, train absolute_loss_objective <loss>=0.1992308037728071\u001b[0m\n",
      "\u001b[34m[12/04/2024 21:12:57 INFO 140614134814528] #early_stopping_criteria_metric: host=algo-1, epoch=2, criteria=absolute_loss_objective, value=0.14589987218379974\u001b[0m\n",
      "\u001b[34m[12/04/2024 21:12:57 INFO 140614134814528] Epoch 2: Loss improved. Updating best model\u001b[0m\n",
      "\u001b[34m[12/04/2024 21:12:57 INFO 140614134814528] Saving model for epoch: 2\u001b[0m\n",
      "\u001b[34m[12/04/2024 21:12:57 INFO 140614134814528] Saved checkpoint to \"/tmp/tmpmwwlem5p/mx-mod-0000.params\"\u001b[0m\n",
      "\u001b[34m[12/04/2024 21:12:57 INFO 140614134814528] #progress_metric: host=algo-1, completed 60.0 % of epochs\u001b[0m\n",
      "\u001b[34m#metrics {\"StartTime\": 1733346775.5214021, \"EndTime\": 1733346777.1310565, \"Dimensions\": {\"Algorithm\": \"Linear Learner\", \"Host\": \"algo-1\", \"Operation\": \"training\", \"epoch\": 2, \"Meta\": \"training_data_iter\"}, \"Metrics\": {\"Total Records Seen\": {\"sum\": 1605.0, \"count\": 1, \"min\": 1605, \"max\": 1605}, \"Total Batches Seen\": {\"sum\": 321.0, \"count\": 1, \"min\": 321, \"max\": 321}, \"Max Records Seen Between Resets\": {\"sum\": 400.0, \"count\": 1, \"min\": 400, \"max\": 400}, \"Max Batches Seen Between Resets\": {\"sum\": 80.0, \"count\": 1, \"min\": 80, \"max\": 80}, \"Reset Count\": {\"sum\": 5.0, \"count\": 1, \"min\": 5, \"max\": 5}, \"Number of Records Since Last Reset\": {\"sum\": 400.0, \"count\": 1, \"min\": 400, \"max\": 400}, \"Number of Batches Since Last Reset\": {\"sum\": 80.0, \"count\": 1, \"min\": 80, \"max\": 80}}}\u001b[0m\n",
      "\u001b[34m[12/04/2024 21:12:57 INFO 140614134814528] #throughput_metric: host=algo-1, train throughput=248.47706270925227 records/second\u001b[0m\n",
      "\u001b[34m[2024-12-04 21:12:59.124] [tensorio] [info] epoch_stats={\"data_pipeline\": \"/opt/ml/input/data/train\", \"epoch\": 10, \"duration\": 1993, \"num_examples\": 80, \"num_bytes\": 19200}\u001b[0m\n",
      "\u001b[34m#metrics {\"StartTime\": 1733346779.1249049, \"EndTime\": 1733346779.1249995, \"Dimensions\": {\"Algorithm\": \"Linear Learner\", \"Host\": \"algo-1\", \"Operation\": \"training\", \"epoch\": 3, \"model\": 0}, \"Metrics\": {\"train_absolute_loss_objective\": {\"sum\": 0.1247192519530654, \"count\": 1, \"min\": 0.1247192519530654, \"max\": 0.1247192519530654}}}\u001b[0m\n",
      "\u001b[34m#metrics {\"StartTime\": 1733346779.1251926, \"EndTime\": 1733346779.1252131, \"Dimensions\": {\"Algorithm\": \"Linear Learner\", \"Host\": \"algo-1\", \"Operation\": \"training\", \"epoch\": 3, \"model\": 1}, \"Metrics\": {\"train_absolute_loss_objective\": {\"sum\": 0.122991908416152, \"count\": 1, \"min\": 0.122991908416152, \"max\": 0.122991908416152}}}\u001b[0m\n",
      "\u001b[34m#metrics {\"StartTime\": 1733346779.1252959, \"EndTime\": 1733346779.1253352, \"Dimensions\": {\"Algorithm\": \"Linear Learner\", \"Host\": \"algo-1\", \"Operation\": \"training\", \"epoch\": 3, \"model\": 2}, \"Metrics\": {\"train_absolute_loss_objective\": {\"sum\": 0.1254803816229105, \"count\": 1, \"min\": 0.1254803816229105, \"max\": 0.1254803816229105}}}\u001b[0m\n",
      "\u001b[34m#metrics {\"StartTime\": 1733346779.125443, \"EndTime\": 1733346779.1254594, \"Dimensions\": {\"Algorithm\": \"Linear Learner\", \"Host\": \"algo-1\", \"Operation\": \"training\", \"epoch\": 3, \"model\": 3}, \"Metrics\": {\"train_absolute_loss_objective\": {\"sum\": 0.12297638110816479, \"count\": 1, \"min\": 0.12297638110816479, \"max\": 0.12297638110816479}}}\u001b[0m\n",
      "\u001b[34m#metrics {\"StartTime\": 1733346779.12555, \"EndTime\": 1733346779.125588, \"Dimensions\": {\"Algorithm\": \"Linear Learner\", \"Host\": \"algo-1\", \"Operation\": \"training\", \"epoch\": 3, \"model\": 4}, \"Metrics\": {\"train_absolute_loss_objective\": {\"sum\": 0.15319882035255433, \"count\": 1, \"min\": 0.15319882035255433, \"max\": 0.15319882035255433}}}\u001b[0m\n",
      "\u001b[34m#metrics {\"StartTime\": 1733346779.125692, \"EndTime\": 1733346779.1257079, \"Dimensions\": {\"Algorithm\": \"Linear Learner\", \"Host\": \"algo-1\", \"Operation\": \"training\", \"epoch\": 3, \"model\": 5}, \"Metrics\": {\"train_absolute_loss_objective\": {\"sum\": 0.19347434341907502, \"count\": 1, \"min\": 0.19347434341907502, \"max\": 0.19347434341907502}}}\u001b[0m\n",
      "\u001b[34m#metrics {\"StartTime\": 1733346779.1257932, \"EndTime\": 1733346779.1258068, \"Dimensions\": {\"Algorithm\": \"Linear Learner\", \"Host\": \"algo-1\", \"Operation\": \"training\", \"epoch\": 3, \"model\": 6}, \"Metrics\": {\"train_absolute_loss_objective\": {\"sum\": 0.16271166644990445, \"count\": 1, \"min\": 0.16271166644990445, \"max\": 0.16271166644990445}}}\u001b[0m\n",
      "\u001b[34m#metrics {\"StartTime\": 1733346779.125939, \"EndTime\": 1733346779.1259549, \"Dimensions\": {\"Algorithm\": \"Linear Learner\", \"Host\": \"algo-1\", \"Operation\": \"training\", \"epoch\": 3, \"model\": 7}, \"Metrics\": {\"train_absolute_loss_objective\": {\"sum\": 0.15035530019551516, \"count\": 1, \"min\": 0.15035530019551516, \"max\": 0.15035530019551516}}}\u001b[0m\n",
      "\u001b[34m#metrics {\"StartTime\": 1733346779.1260345, \"EndTime\": 1733346779.1260471, \"Dimensions\": {\"Algorithm\": \"Linear Learner\", \"Host\": \"algo-1\", \"Operation\": \"training\", \"epoch\": 3, \"model\": 8}, \"Metrics\": {\"train_absolute_loss_objective\": {\"sum\": 0.13230025880038737, \"count\": 1, \"min\": 0.13230025880038737, \"max\": 0.13230025880038737}}}\u001b[0m\n",
      "\u001b[34m#metrics {\"StartTime\": 1733346779.1261678, \"EndTime\": 1733346779.1261833, \"Dimensions\": {\"Algorithm\": \"Linear Learner\", \"Host\": \"algo-1\", \"Operation\": \"training\", \"epoch\": 3, \"model\": 9}, \"Metrics\": {\"train_absolute_loss_objective\": {\"sum\": 0.12120407175272703, \"count\": 1, \"min\": 0.12120407175272703, \"max\": 0.12120407175272703}}}\u001b[0m\n",
      "\u001b[34m#metrics {\"StartTime\": 1733346779.126258, \"EndTime\": 1733346779.1262703, \"Dimensions\": {\"Algorithm\": \"Linear Learner\", \"Host\": \"algo-1\", \"Operation\": \"training\", \"epoch\": 3, \"model\": 10}, \"Metrics\": {\"train_absolute_loss_objective\": {\"sum\": 0.1254230148345232, \"count\": 1, \"min\": 0.1254230148345232, \"max\": 0.1254230148345232}}}\u001b[0m\n",
      "\u001b[34m#metrics {\"StartTime\": 1733346779.1263885, \"EndTime\": 1733346779.1264038, \"Dimensions\": {\"Algorithm\": \"Linear Learner\", \"Host\": \"algo-1\", \"Operation\": \"training\", \"epoch\": 3, \"model\": 11}, \"Metrics\": {\"train_absolute_loss_objective\": {\"sum\": 0.12008743867278099, \"count\": 1, \"min\": 0.12008743867278099, \"max\": 0.12008743867278099}}}\u001b[0m\n",
      "\u001b[34m#metrics {\"StartTime\": 1733346779.126479, \"EndTime\": 1733346779.1264908, \"Dimensions\": {\"Algorithm\": \"Linear Learner\", \"Host\": \"algo-1\", \"Operation\": \"training\", \"epoch\": 3, \"model\": 12}, \"Metrics\": {\"train_absolute_loss_objective\": {\"sum\": 0.1651002801209688, \"count\": 1, \"min\": 0.1651002801209688, \"max\": 0.1651002801209688}}}\u001b[0m\n",
      "\u001b[34m#metrics {\"StartTime\": 1733346779.126571, \"EndTime\": 1733346779.126588, \"Dimensions\": {\"Algorithm\": \"Linear Learner\", \"Host\": \"algo-1\", \"Operation\": \"training\", \"epoch\": 3, \"model\": 13}, \"Metrics\": {\"train_absolute_loss_objective\": {\"sum\": 0.1850793857872486, \"count\": 1, \"min\": 0.1850793857872486, \"max\": 0.1850793857872486}}}\u001b[0m\n",
      "\u001b[34m#metrics {\"StartTime\": 1733346779.126659, \"EndTime\": 1733346779.1266756, \"Dimensions\": {\"Algorithm\": \"Linear Learner\", \"Host\": \"algo-1\", \"Operation\": \"training\", \"epoch\": 3, \"model\": 14}, \"Metrics\": {\"train_absolute_loss_objective\": {\"sum\": 0.15994097240269184, \"count\": 1, \"min\": 0.15994097240269184, \"max\": 0.15994097240269184}}}\u001b[0m\n",
      "\u001b[34m#metrics {\"StartTime\": 1733346779.1267173, \"EndTime\": 1733346779.1267323, \"Dimensions\": {\"Algorithm\": \"Linear Learner\", \"Host\": \"algo-1\", \"Operation\": \"training\", \"epoch\": 3, \"model\": 15}, \"Metrics\": {\"train_absolute_loss_objective\": {\"sum\": 0.1712414063513279, \"count\": 1, \"min\": 0.1712414063513279, \"max\": 0.1712414063513279}}}\u001b[0m\n",
      "\u001b[34m#metrics {\"StartTime\": 1733346779.126802, \"EndTime\": 1733346779.1268175, \"Dimensions\": {\"Algorithm\": \"Linear Learner\", \"Host\": \"algo-1\", \"Operation\": \"training\", \"epoch\": 3, \"model\": 16}, \"Metrics\": {\"train_absolute_loss_objective\": {\"sum\": 0.28774401783943176, \"count\": 1, \"min\": 0.28774401783943176, \"max\": 0.28774401783943176}}}\u001b[0m\n",
      "\u001b[34m#metrics {\"StartTime\": 1733346779.1268642, \"EndTime\": 1733346779.1268795, \"Dimensions\": {\"Algorithm\": \"Linear Learner\", \"Host\": \"algo-1\", \"Operation\": \"training\", \"epoch\": 3, \"model\": 17}, \"Metrics\": {\"train_absolute_loss_objective\": {\"sum\": 0.2886184868216515, \"count\": 1, \"min\": 0.2886184868216515, \"max\": 0.2886184868216515}}}\u001b[0m\n",
      "\u001b[34m#metrics {\"StartTime\": 1733346779.1269243, \"EndTime\": 1733346779.1269367, \"Dimensions\": {\"Algorithm\": \"Linear Learner\", \"Host\": \"algo-1\", \"Operation\": \"training\", \"epoch\": 3, \"model\": 18}, \"Metrics\": {\"train_absolute_loss_objective\": {\"sum\": 0.2914872254431248, \"count\": 1, \"min\": 0.2914872254431248, \"max\": 0.2914872254431248}}}\u001b[0m\n",
      "\u001b[34m#metrics {\"StartTime\": 1733346779.1269772, \"EndTime\": 1733346779.126992, \"Dimensions\": {\"Algorithm\": \"Linear Learner\", \"Host\": \"algo-1\", \"Operation\": \"training\", \"epoch\": 3, \"model\": 19}, \"Metrics\": {\"train_absolute_loss_objective\": {\"sum\": 0.284272820353508, \"count\": 1, \"min\": 0.284272820353508, \"max\": 0.284272820353508}}}\u001b[0m\n",
      "\u001b[34m#metrics {\"StartTime\": 1733346779.1270387, \"EndTime\": 1733346779.127053, \"Dimensions\": {\"Algorithm\": \"Linear Learner\", \"Host\": \"algo-1\", \"Operation\": \"training\", \"epoch\": 3, \"model\": 20}, \"Metrics\": {\"train_absolute_loss_objective\": {\"sum\": 0.39601177655160424, \"count\": 1, \"min\": 0.39601177655160424, \"max\": 0.39601177655160424}}}\u001b[0m\n",
      "\u001b[34m#metrics {\"StartTime\": 1733346779.127099, \"EndTime\": 1733346779.127115, \"Dimensions\": {\"Algorithm\": \"Linear Learner\", \"Host\": \"algo-1\", \"Operation\": \"training\", \"epoch\": 3, \"model\": 21}, \"Metrics\": {\"train_absolute_loss_objective\": {\"sum\": 0.41888844944536685, \"count\": 1, \"min\": 0.41888844944536685, \"max\": 0.41888844944536685}}}\u001b[0m\n",
      "\u001b[34m#metrics {\"StartTime\": 1733346779.1271605, \"EndTime\": 1733346779.1271763, \"Dimensions\": {\"Algorithm\": \"Linear Learner\", \"Host\": \"algo-1\", \"Operation\": \"training\", \"epoch\": 3, \"model\": 22}, \"Metrics\": {\"train_absolute_loss_objective\": {\"sum\": 0.3533422727882862, \"count\": 1, \"min\": 0.3533422727882862, \"max\": 0.3533422727882862}}}\u001b[0m\n",
      "\u001b[34m#metrics {\"StartTime\": 1733346779.127219, \"EndTime\": 1733346779.1272342, \"Dimensions\": {\"Algorithm\": \"Linear Learner\", \"Host\": \"algo-1\", \"Operation\": \"training\", \"epoch\": 3, \"model\": 23}, \"Metrics\": {\"train_absolute_loss_objective\": {\"sum\": 0.43707153379917146, \"count\": 1, \"min\": 0.43707153379917146, \"max\": 0.43707153379917146}}}\u001b[0m\n",
      "\u001b[34m#metrics {\"StartTime\": 1733346779.1272757, \"EndTime\": 1733346779.1272898, \"Dimensions\": {\"Algorithm\": \"Linear Learner\", \"Host\": \"algo-1\", \"Operation\": \"training\", \"epoch\": 3, \"model\": 24}, \"Metrics\": {\"train_absolute_loss_objective\": {\"sum\": 0.78746436804533, \"count\": 1, \"min\": 0.78746436804533, \"max\": 0.78746436804533}}}\u001b[0m\n",
      "\u001b[34m#metrics {\"StartTime\": 1733346779.1273406, \"EndTime\": 1733346779.1273558, \"Dimensions\": {\"Algorithm\": \"Linear Learner\", \"Host\": \"algo-1\", \"Operation\": \"training\", \"epoch\": 3, \"model\": 25}, \"Metrics\": {\"train_absolute_loss_objective\": {\"sum\": 0.7886966121196747, \"count\": 1, \"min\": 0.7886966121196747, \"max\": 0.7886966121196747}}}\u001b[0m\n",
      "\u001b[34m#metrics {\"StartTime\": 1733346779.1274104, \"EndTime\": 1733346779.1274266, \"Dimensions\": {\"Algorithm\": \"Linear Learner\", \"Host\": \"algo-1\", \"Operation\": \"training\", \"epoch\": 3, \"model\": 26}, \"Metrics\": {\"train_absolute_loss_objective\": {\"sum\": 0.7874577495455742, \"count\": 1, \"min\": 0.7874577495455742, \"max\": 0.7874577495455742}}}\u001b[0m\n",
      "\u001b[34m#metrics {\"StartTime\": 1733346779.127468, \"EndTime\": 1733346779.1274822, \"Dimensions\": {\"Algorithm\": \"Linear Learner\", \"Host\": \"algo-1\", \"Operation\": \"training\", \"epoch\": 3, \"model\": 27}, \"Metrics\": {\"train_absolute_loss_objective\": {\"sum\": 0.7887306427955627, \"count\": 1, \"min\": 0.7887306427955627, \"max\": 0.7887306427955627}}}\u001b[0m\n",
      "\u001b[34m#metrics {\"StartTime\": 1733346779.127528, \"EndTime\": 1733346779.1275423, \"Dimensions\": {\"Algorithm\": \"Linear Learner\", \"Host\": \"algo-1\", \"Operation\": \"training\", \"epoch\": 3, \"model\": 28}, \"Metrics\": {\"train_absolute_loss_objective\": {\"sum\": 0.8688683062791824, \"count\": 1, \"min\": 0.8688683062791824, \"max\": 0.8688683062791824}}}\u001b[0m\n",
      "\u001b[34m#metrics {\"StartTime\": 1733346779.1275954, \"EndTime\": 1733346779.1276114, \"Dimensions\": {\"Algorithm\": \"Linear Learner\", \"Host\": \"algo-1\", \"Operation\": \"training\", \"epoch\": 3, \"model\": 29}, \"Metrics\": {\"train_absolute_loss_objective\": {\"sum\": 0.8683041706681252, \"count\": 1, \"min\": 0.8683041706681252, \"max\": 0.8683041706681252}}}\u001b[0m\n",
      "\u001b[34m#metrics {\"StartTime\": 1733346779.127658, \"EndTime\": 1733346779.1276736, \"Dimensions\": {\"Algorithm\": \"Linear Learner\", \"Host\": \"algo-1\", \"Operation\": \"training\", \"epoch\": 3, \"model\": 30}, \"Metrics\": {\"train_absolute_loss_objective\": {\"sum\": 0.8251874047517777, \"count\": 1, \"min\": 0.8251874047517777, \"max\": 0.8251874047517777}}}\u001b[0m\n",
      "\u001b[34m#metrics {\"StartTime\": 1733346779.1277156, \"EndTime\": 1733346779.1277306, \"Dimensions\": {\"Algorithm\": \"Linear Learner\", \"Host\": \"algo-1\", \"Operation\": \"training\", \"epoch\": 3, \"model\": 31}, \"Metrics\": {\"train_absolute_loss_objective\": {\"sum\": 0.8788917011022568, \"count\": 1, \"min\": 0.8788917011022568, \"max\": 0.8788917011022568}}}\u001b[0m\n",
      "\u001b[34m[12/04/2024 21:12:59 INFO 140614134814528] #quality_metric: host=algo-1, epoch=3, train absolute_loss_objective <loss>=0.1247192519530654\u001b[0m\n",
      "\u001b[34m[12/04/2024 21:12:59 INFO 140614134814528] #early_stopping_criteria_metric: host=algo-1, epoch=3, criteria=absolute_loss_objective, value=0.12008743867278099\u001b[0m\n",
      "\u001b[34m[12/04/2024 21:12:59 INFO 140614134814528] Epoch 3: Loss improved. Updating best model\u001b[0m\n",
      "\u001b[34m[12/04/2024 21:12:59 INFO 140614134814528] Saving model for epoch: 3\u001b[0m\n",
      "\u001b[34m[12/04/2024 21:12:59 INFO 140614134814528] Saved checkpoint to \"/tmp/tmpnh0jif7z/mx-mod-0000.params\"\u001b[0m\n",
      "\u001b[34m[12/04/2024 21:12:59 INFO 140614134814528] #progress_metric: host=algo-1, completed 80.0 % of epochs\u001b[0m\n",
      "\u001b[34m#metrics {\"StartTime\": 1733346777.1313758, \"EndTime\": 1733346779.140613, \"Dimensions\": {\"Algorithm\": \"Linear Learner\", \"Host\": \"algo-1\", \"Operation\": \"training\", \"epoch\": 3, \"Meta\": \"training_data_iter\"}, \"Metrics\": {\"Total Records Seen\": {\"sum\": 2005.0, \"count\": 1, \"min\": 2005, \"max\": 2005}, \"Total Batches Seen\": {\"sum\": 401.0, \"count\": 1, \"min\": 401, \"max\": 401}, \"Max Records Seen Between Resets\": {\"sum\": 400.0, \"count\": 1, \"min\": 400, \"max\": 400}, \"Max Batches Seen Between Resets\": {\"sum\": 80.0, \"count\": 1, \"min\": 80, \"max\": 80}, \"Reset Count\": {\"sum\": 6.0, \"count\": 1, \"min\": 6, \"max\": 6}, \"Number of Records Since Last Reset\": {\"sum\": 400.0, \"count\": 1, \"min\": 400, \"max\": 400}, \"Number of Batches Since Last Reset\": {\"sum\": 80.0, \"count\": 1, \"min\": 80, \"max\": 80}}}\u001b[0m\n",
      "\u001b[34m[12/04/2024 21:12:59 INFO 140614134814528] #throughput_metric: host=algo-1, train throughput=199.06372318289505 records/second\u001b[0m\n",
      "\u001b[34m[2024-12-04 21:13:01.016] [tensorio] [info] epoch_stats={\"data_pipeline\": \"/opt/ml/input/data/train\", \"epoch\": 12, \"duration\": 1875, \"num_examples\": 80, \"num_bytes\": 19200}\u001b[0m\n",
      "\u001b[34m#metrics {\"StartTime\": 1733346781.0167964, \"EndTime\": 1733346781.0168831, \"Dimensions\": {\"Algorithm\": \"Linear Learner\", \"Host\": \"algo-1\", \"Operation\": \"training\", \"epoch\": 4, \"model\": 0}, \"Metrics\": {\"train_absolute_loss_objective\": {\"sum\": 0.12011647999286651, \"count\": 1, \"min\": 0.12011647999286651, \"max\": 0.12011647999286651}}}\u001b[0m\n",
      "\u001b[34m#metrics {\"StartTime\": 1733346781.0169759, \"EndTime\": 1733346781.0169961, \"Dimensions\": {\"Algorithm\": \"Linear Learner\", \"Host\": \"algo-1\", \"Operation\": \"training\", \"epoch\": 4, \"model\": 1}, \"Metrics\": {\"train_absolute_loss_objective\": {\"sum\": 0.12060866229236127, \"count\": 1, \"min\": 0.12060866229236127, \"max\": 0.12060866229236127}}}\u001b[0m\n",
      "\u001b[34m#metrics {\"StartTime\": 1733346781.017059, \"EndTime\": 1733346781.0170777, \"Dimensions\": {\"Algorithm\": \"Linear Learner\", \"Host\": \"algo-1\", \"Operation\": \"training\", \"epoch\": 4, \"model\": 2}, \"Metrics\": {\"train_absolute_loss_objective\": {\"sum\": 0.1185301198065281, \"count\": 1, \"min\": 0.1185301198065281, \"max\": 0.1185301198065281}}}\u001b[0m\n",
      "\u001b[34m#metrics {\"StartTime\": 1733346781.017129, \"EndTime\": 1733346781.0171456, \"Dimensions\": {\"Algorithm\": \"Linear Learner\", \"Host\": \"algo-1\", \"Operation\": \"training\", \"epoch\": 4, \"model\": 3}, \"Metrics\": {\"train_absolute_loss_objective\": {\"sum\": 0.1206083057448268, \"count\": 1, \"min\": 0.1206083057448268, \"max\": 0.1206083057448268}}}\u001b[0m\n",
      "\u001b[34m#metrics {\"StartTime\": 1733346781.017194, \"EndTime\": 1733346781.0172088, \"Dimensions\": {\"Algorithm\": \"Linear Learner\", \"Host\": \"algo-1\", \"Operation\": \"training\", \"epoch\": 4, \"model\": 4}, \"Metrics\": {\"train_absolute_loss_objective\": {\"sum\": 0.14916538916528224, \"count\": 1, \"min\": 0.14916538916528224, \"max\": 0.14916538916528224}}}\u001b[0m\n",
      "\u001b[34m#metrics {\"StartTime\": 1733346781.0172634, \"EndTime\": 1733346781.0172791, \"Dimensions\": {\"Algorithm\": \"Linear Learner\", \"Host\": \"algo-1\", \"Operation\": \"training\", \"epoch\": 4, \"model\": 5}, \"Metrics\": {\"train_absolute_loss_objective\": {\"sum\": 0.20146632097661496, \"count\": 1, \"min\": 0.20146632097661496, \"max\": 0.20146632097661496}}}\u001b[0m\n",
      "\u001b[34m#metrics {\"StartTime\": 1733346781.0173275, \"EndTime\": 1733346781.0173433, \"Dimensions\": {\"Algorithm\": \"Linear Learner\", \"Host\": \"algo-1\", \"Operation\": \"training\", \"epoch\": 4, \"model\": 6}, \"Metrics\": {\"train_absolute_loss_objective\": {\"sum\": 0.15427255786955357, \"count\": 1, \"min\": 0.15427255786955357, \"max\": 0.15427255786955357}}}\u001b[0m\n",
      "\u001b[34m#metrics {\"StartTime\": 1733346781.0173852, \"EndTime\": 1733346781.0173984, \"Dimensions\": {\"Algorithm\": \"Linear Learner\", \"Host\": \"algo-1\", \"Operation\": \"training\", \"epoch\": 4, \"model\": 7}, \"Metrics\": {\"train_absolute_loss_objective\": {\"sum\": 0.19003073632717132, \"count\": 1, \"min\": 0.19003073632717132, \"max\": 0.19003073632717132}}}\u001b[0m\n",
      "\u001b[34m#metrics {\"StartTime\": 1733346781.017453, \"EndTime\": 1733346781.0174694, \"Dimensions\": {\"Algorithm\": \"Linear Learner\", \"Host\": \"algo-1\", \"Operation\": \"training\", \"epoch\": 4, \"model\": 8}, \"Metrics\": {\"train_absolute_loss_objective\": {\"sum\": 0.12057809602469206, \"count\": 1, \"min\": 0.12057809602469206, \"max\": 0.12057809602469206}}}\u001b[0m\n",
      "\u001b[34m#metrics {\"StartTime\": 1733346781.0175164, \"EndTime\": 1733346781.017532, \"Dimensions\": {\"Algorithm\": \"Linear Learner\", \"Host\": \"algo-1\", \"Operation\": \"training\", \"epoch\": 4, \"model\": 9}, \"Metrics\": {\"train_absolute_loss_objective\": {\"sum\": 0.12093431122601032, \"count\": 1, \"min\": 0.12093431122601032, \"max\": 0.12093431122601032}}}\u001b[0m\n",
      "\u001b[34m#metrics {\"StartTime\": 1733346781.0175738, \"EndTime\": 1733346781.0175889, \"Dimensions\": {\"Algorithm\": \"Linear Learner\", \"Host\": \"algo-1\", \"Operation\": \"training\", \"epoch\": 4, \"model\": 10}, \"Metrics\": {\"train_absolute_loss_objective\": {\"sum\": 0.12009964298456907, \"count\": 1, \"min\": 0.12009964298456907, \"max\": 0.12009964298456907}}}\u001b[0m\n",
      "\u001b[34m#metrics {\"StartTime\": 1733346781.0176265, \"EndTime\": 1733346781.0176396, \"Dimensions\": {\"Algorithm\": \"Linear Learner\", \"Host\": \"algo-1\", \"Operation\": \"training\", \"epoch\": 4, \"model\": 11}, \"Metrics\": {\"train_absolute_loss_objective\": {\"sum\": 0.12506364714354276, \"count\": 1, \"min\": 0.12506364714354276, \"max\": 0.12506364714354276}}}\u001b[0m\n",
      "\u001b[34m#metrics {\"StartTime\": 1733346781.0176818, \"EndTime\": 1733346781.0176952, \"Dimensions\": {\"Algorithm\": \"Linear Learner\", \"Host\": \"algo-1\", \"Operation\": \"training\", \"epoch\": 4, \"model\": 12}, \"Metrics\": {\"train_absolute_loss_objective\": {\"sum\": 0.13690765008330344, \"count\": 1, \"min\": 0.13690765008330344, \"max\": 0.13690765008330344}}}\u001b[0m\n",
      "\u001b[34m#metrics {\"StartTime\": 1733346781.0177417, \"EndTime\": 1733346781.017756, \"Dimensions\": {\"Algorithm\": \"Linear Learner\", \"Host\": \"algo-1\", \"Operation\": \"training\", \"epoch\": 4, \"model\": 13}, \"Metrics\": {\"train_absolute_loss_objective\": {\"sum\": 0.19011566124856472, \"count\": 1, \"min\": 0.19011566124856472, \"max\": 0.19011566124856472}}}\u001b[0m\n",
      "\u001b[34m#metrics {\"StartTime\": 1733346781.0177991, \"EndTime\": 1733346781.0178134, \"Dimensions\": {\"Algorithm\": \"Linear Learner\", \"Host\": \"algo-1\", \"Operation\": \"training\", \"epoch\": 4, \"model\": 14}, \"Metrics\": {\"train_absolute_loss_objective\": {\"sum\": 0.14646995030343532, \"count\": 1, \"min\": 0.14646995030343532, \"max\": 0.14646995030343532}}}\u001b[0m\n",
      "\u001b[34m#metrics {\"StartTime\": 1733346781.0178618, \"EndTime\": 1733346781.0178783, \"Dimensions\": {\"Algorithm\": \"Linear Learner\", \"Host\": \"algo-1\", \"Operation\": \"training\", \"epoch\": 4, \"model\": 15}, \"Metrics\": {\"train_absolute_loss_objective\": {\"sum\": 0.17110058702528477, \"count\": 1, \"min\": 0.17110058702528477, \"max\": 0.17110058702528477}}}\u001b[0m\n",
      "\u001b[34m#metrics {\"StartTime\": 1733346781.0179317, \"EndTime\": 1733346781.017947, \"Dimensions\": {\"Algorithm\": \"Linear Learner\", \"Host\": \"algo-1\", \"Operation\": \"training\", \"epoch\": 4, \"model\": 16}, \"Metrics\": {\"train_absolute_loss_objective\": {\"sum\": 0.2725065653026104, \"count\": 1, \"min\": 0.2725065653026104, \"max\": 0.2725065653026104}}}\u001b[0m\n",
      "\u001b[34m#metrics {\"StartTime\": 1733346781.0179996, \"EndTime\": 1733346781.018014, \"Dimensions\": {\"Algorithm\": \"Linear Learner\", \"Host\": \"algo-1\", \"Operation\": \"training\", \"epoch\": 4, \"model\": 17}, \"Metrics\": {\"train_absolute_loss_objective\": {\"sum\": 0.27401390582323076, \"count\": 1, \"min\": 0.27401390582323076, \"max\": 0.27401390582323076}}}\u001b[0m\n",
      "\u001b[34m#metrics {\"StartTime\": 1733346781.0180593, \"EndTime\": 1733346781.018074, \"Dimensions\": {\"Algorithm\": \"Linear Learner\", \"Host\": \"algo-1\", \"Operation\": \"training\", \"epoch\": 4, \"model\": 18}, \"Metrics\": {\"train_absolute_loss_objective\": {\"sum\": 0.27065642476081847, \"count\": 1, \"min\": 0.27065642476081847, \"max\": 0.27065642476081847}}}\u001b[0m\n",
      "\u001b[34m#metrics {\"StartTime\": 1733346781.0181298, \"EndTime\": 1733346781.018145, \"Dimensions\": {\"Algorithm\": \"Linear Learner\", \"Host\": \"algo-1\", \"Operation\": \"training\", \"epoch\": 4, \"model\": 19}, \"Metrics\": {\"train_absolute_loss_objective\": {\"sum\": 0.2712609928846359, \"count\": 1, \"min\": 0.2712609928846359, \"max\": 0.2712609928846359}}}\u001b[0m\n",
      "\u001b[34m#metrics {\"StartTime\": 1733346781.0181994, \"EndTime\": 1733346781.0182152, \"Dimensions\": {\"Algorithm\": \"Linear Learner\", \"Host\": \"algo-1\", \"Operation\": \"training\", \"epoch\": 4, \"model\": 20}, \"Metrics\": {\"train_absolute_loss_objective\": {\"sum\": 0.39004490979015827, \"count\": 1, \"min\": 0.39004490979015827, \"max\": 0.39004490979015827}}}\u001b[0m\n",
      "\u001b[34m#metrics {\"StartTime\": 1733346781.0182712, \"EndTime\": 1733346781.0182867, \"Dimensions\": {\"Algorithm\": \"Linear Learner\", \"Host\": \"algo-1\", \"Operation\": \"training\", \"epoch\": 4, \"model\": 21}, \"Metrics\": {\"train_absolute_loss_objective\": {\"sum\": 0.4249285487830639, \"count\": 1, \"min\": 0.4249285487830639, \"max\": 0.4249285487830639}}}\u001b[0m\n",
      "\u001b[34m#metrics {\"StartTime\": 1733346781.018341, \"EndTime\": 1733346781.0183568, \"Dimensions\": {\"Algorithm\": \"Linear Learner\", \"Host\": \"algo-1\", \"Operation\": \"training\", \"epoch\": 4, \"model\": 22}, \"Metrics\": {\"train_absolute_loss_objective\": {\"sum\": 0.37813076466321943, \"count\": 1, \"min\": 0.37813076466321943, \"max\": 0.37813076466321943}}}\u001b[0m\n",
      "\u001b[34m#metrics {\"StartTime\": 1733346781.0184116, \"EndTime\": 1733346781.0184264, \"Dimensions\": {\"Algorithm\": \"Linear Learner\", \"Host\": \"algo-1\", \"Operation\": \"training\", \"epoch\": 4, \"model\": 23}, \"Metrics\": {\"train_absolute_loss_objective\": {\"sum\": 0.4479523704946041, \"count\": 1, \"min\": 0.4479523704946041, \"max\": 0.4479523704946041}}}\u001b[0m\n",
      "\u001b[34m#metrics {\"StartTime\": 1733346781.018483, \"EndTime\": 1733346781.0184994, \"Dimensions\": {\"Algorithm\": \"Linear Learner\", \"Host\": \"algo-1\", \"Operation\": \"training\", \"epoch\": 4, \"model\": 24}, \"Metrics\": {\"train_absolute_loss_objective\": {\"sum\": 0.7871889689564705, \"count\": 1, \"min\": 0.7871889689564705, \"max\": 0.7871889689564705}}}\u001b[0m\n",
      "\u001b[34m#metrics {\"StartTime\": 1733346781.018552, \"EndTime\": 1733346781.018568, \"Dimensions\": {\"Algorithm\": \"Linear Learner\", \"Host\": \"algo-1\", \"Operation\": \"training\", \"epoch\": 4, \"model\": 25}, \"Metrics\": {\"train_absolute_loss_objective\": {\"sum\": 0.7886565464735031, \"count\": 1, \"min\": 0.7886565464735031, \"max\": 0.7886565464735031}}}\u001b[0m\n",
      "\u001b[34m#metrics {\"StartTime\": 1733346781.018625, \"EndTime\": 1733346781.0186412, \"Dimensions\": {\"Algorithm\": \"Linear Learner\", \"Host\": \"algo-1\", \"Operation\": \"training\", \"epoch\": 4, \"model\": 26}, \"Metrics\": {\"train_absolute_loss_objective\": {\"sum\": 0.7871807795763016, \"count\": 1, \"min\": 0.7871807795763016, \"max\": 0.7871807795763016}}}\u001b[0m\n",
      "\u001b[34m#metrics {\"StartTime\": 1733346781.0187001, \"EndTime\": 1733346781.0187156, \"Dimensions\": {\"Algorithm\": \"Linear Learner\", \"Host\": \"algo-1\", \"Operation\": \"training\", \"epoch\": 4, \"model\": 27}, \"Metrics\": {\"train_absolute_loss_objective\": {\"sum\": 0.7886873251199722, \"count\": 1, \"min\": 0.7886873251199722, \"max\": 0.7886873251199722}}}\u001b[0m\n",
      "\u001b[34m#metrics {\"StartTime\": 1733346781.018773, \"EndTime\": 1733346781.01879, \"Dimensions\": {\"Algorithm\": \"Linear Learner\", \"Host\": \"algo-1\", \"Operation\": \"training\", \"epoch\": 4, \"model\": 28}, \"Metrics\": {\"train_absolute_loss_objective\": {\"sum\": 0.8213141342997551, \"count\": 1, \"min\": 0.8213141342997551, \"max\": 0.8213141342997551}}}\u001b[0m\n",
      "\u001b[34m#metrics {\"StartTime\": 1733346781.0188472, \"EndTime\": 1733346781.0188618, \"Dimensions\": {\"Algorithm\": \"Linear Learner\", \"Host\": \"algo-1\", \"Operation\": \"training\", \"epoch\": 4, \"model\": 29}, \"Metrics\": {\"train_absolute_loss_objective\": {\"sum\": 0.867317915558815, \"count\": 1, \"min\": 0.867317915558815, \"max\": 0.867317915558815}}}\u001b[0m\n",
      "\u001b[34m#metrics {\"StartTime\": 1733346781.018918, \"EndTime\": 1733346781.0189323, \"Dimensions\": {\"Algorithm\": \"Linear Learner\", \"Host\": \"algo-1\", \"Operation\": \"training\", \"epoch\": 4, \"model\": 30}, \"Metrics\": {\"train_absolute_loss_objective\": {\"sum\": 0.8518488395214081, \"count\": 1, \"min\": 0.8518488395214081, \"max\": 0.8518488395214081}}}\u001b[0m\n",
      "\u001b[34m#metrics {\"StartTime\": 1733346781.01898, \"EndTime\": 1733346781.0189943, \"Dimensions\": {\"Algorithm\": \"Linear Learner\", \"Host\": \"algo-1\", \"Operation\": \"training\", \"epoch\": 4, \"model\": 31}, \"Metrics\": {\"train_absolute_loss_objective\": {\"sum\": 0.866387277841568, \"count\": 1, \"min\": 0.866387277841568, \"max\": 0.866387277841568}}}\u001b[0m\n",
      "\u001b[34m[12/04/2024 21:13:01 INFO 140614134814528] #quality_metric: host=algo-1, epoch=4, train absolute_loss_objective <loss>=0.12011647999286651\u001b[0m\n",
      "\u001b[34m[12/04/2024 21:13:01 INFO 140614134814528] #early_stopping_criteria_metric: host=algo-1, epoch=4, criteria=absolute_loss_objective, value=0.1185301198065281\u001b[0m\n",
      "\u001b[34m[12/04/2024 21:13:01 INFO 140614134814528] Epoch 4: Loss improved. Updating best model\u001b[0m\n",
      "\u001b[34m[12/04/2024 21:13:01 INFO 140614134814528] Saving model for epoch: 4\u001b[0m\n",
      "\u001b[34m[12/04/2024 21:13:01 INFO 140614134814528] Saved checkpoint to \"/tmp/tmpxp_olios/mx-mod-0000.params\"\u001b[0m\n",
      "\u001b[34m[12/04/2024 21:13:01 INFO 140614134814528] #progress_metric: host=algo-1, completed 100.0 % of epochs\u001b[0m\n",
      "\u001b[34m#metrics {\"StartTime\": 1733346779.1409416, \"EndTime\": 1733346781.027813, \"Dimensions\": {\"Algorithm\": \"Linear Learner\", \"Host\": \"algo-1\", \"Operation\": \"training\", \"epoch\": 4, \"Meta\": \"training_data_iter\"}, \"Metrics\": {\"Total Records Seen\": {\"sum\": 2405.0, \"count\": 1, \"min\": 2405, \"max\": 2405}, \"Total Batches Seen\": {\"sum\": 481.0, \"count\": 1, \"min\": 481, \"max\": 481}, \"Max Records Seen Between Resets\": {\"sum\": 400.0, \"count\": 1, \"min\": 400, \"max\": 400}, \"Max Batches Seen Between Resets\": {\"sum\": 80.0, \"count\": 1, \"min\": 80, \"max\": 80}, \"Reset Count\": {\"sum\": 7.0, \"count\": 1, \"min\": 7, \"max\": 7}, \"Number of Records Since Last Reset\": {\"sum\": 400.0, \"count\": 1, \"min\": 400, \"max\": 400}, \"Number of Batches Since Last Reset\": {\"sum\": 80.0, \"count\": 1, \"min\": 80, \"max\": 80}}}\u001b[0m\n",
      "\u001b[34m[12/04/2024 21:13:01 INFO 140614134814528] #throughput_metric: host=algo-1, train throughput=211.9750929629648 records/second\u001b[0m\n",
      "\u001b[34m[12/04/2024 21:13:01 WARNING 140614134814528] wait_for_all_workers will not sync workers since the kv store is not running distributed\u001b[0m\n",
      "\u001b[34m[12/04/2024 21:13:01 WARNING 140614134814528] wait_for_all_workers will not sync workers since the kv store is not running distributed\u001b[0m\n",
      "\u001b[34m[2024-12-04 21:13:01.029] [tensorio] [info] epoch_stats={\"data_pipeline\": \"/opt/ml/input/data/train\", \"epoch\": 14, \"duration\": 0, \"num_examples\": 1, \"num_bytes\": 240}\u001b[0m\n",
      "\u001b[34m[2024-12-04 21:13:01.167] [tensorio] [info] epoch_stats={\"data_pipeline\": \"/opt/ml/input/data/train\", \"epoch\": 16, \"duration\": 136, \"num_examples\": 80, \"num_bytes\": 19200}\u001b[0m\n",
      "\u001b[34m[12/04/2024 21:13:01 INFO 140614134814528] #train_score (algo-1) : ('absolute_loss_objective', 20.96660672187805)\u001b[0m\n",
      "\u001b[34m[12/04/2024 21:13:01 INFO 140614134814528] #train_score (algo-1) : ('mse', 705.4845690917969)\u001b[0m\n",
      "\u001b[34m[12/04/2024 21:13:01 INFO 140614134814528] #train_score (algo-1) : ('absolute_loss', 20.96660672187805)\u001b[0m\n",
      "\u001b[34m[12/04/2024 21:13:01 INFO 140614134814528] #train_score (algo-1) : ('rmse', 26.560959491174202)\u001b[0m\n",
      "\u001b[34m[12/04/2024 21:13:01 INFO 140614134814528] #train_score (algo-1) : ('r2', 0.9772545366562395)\u001b[0m\n",
      "\u001b[34m[12/04/2024 21:13:01 INFO 140614134814528] #train_score (algo-1) : ('mae', 20.96660672187805)\u001b[0m\n",
      "\u001b[34m[12/04/2024 21:13:01 INFO 140614134814528] #quality_metric: host=algo-1, train absolute_loss_objective <loss>=20.96660672187805\u001b[0m\n",
      "\u001b[34m[12/04/2024 21:13:01 INFO 140614134814528] #quality_metric: host=algo-1, train mse <loss>=705.4845690917969\u001b[0m\n",
      "\u001b[34m[12/04/2024 21:13:01 INFO 140614134814528] #quality_metric: host=algo-1, train absolute_loss <loss>=20.96660672187805\u001b[0m\n",
      "\u001b[34m[12/04/2024 21:13:01 INFO 140614134814528] #quality_metric: host=algo-1, train rmse <loss>=26.560959491174202\u001b[0m\n",
      "\u001b[34m[12/04/2024 21:13:01 INFO 140614134814528] #quality_metric: host=algo-1, train r2 <loss>=0.9772545366562395\u001b[0m\n",
      "\u001b[34m[12/04/2024 21:13:01 INFO 140614134814528] #quality_metric: host=algo-1, train mae <loss>=20.96660672187805\u001b[0m\n",
      "\u001b[34m[12/04/2024 21:13:01 INFO 140614134814528] Best model found for hyperparameters: {\"optimizer\": \"adam\", \"learning_rate\": 0.005, \"wd\": 0.0001, \"l1\": 0.0, \"lr_scheduler_step\": 10, \"lr_scheduler_factor\": 0.99, \"lr_scheduler_minimum_lr\": 0.0001}\u001b[0m\n",
      "\u001b[34m[12/04/2024 21:13:01 INFO 140614134814528] Saved checkpoint to \"/tmp/tmpil7wh2hh/mx-mod-0000.params\"\u001b[0m\n",
      "\u001b[34m[12/04/2024 21:13:01 INFO 140614134814528] Test data is not provided.\u001b[0m\n",
      "\u001b[34m#metrics {\"StartTime\": 1733346771.6989121, \"EndTime\": 1733346781.176347, \"Dimensions\": {\"Algorithm\": \"Linear Learner\", \"Host\": \"algo-1\", \"Operation\": \"training\"}, \"Metrics\": {\"initialize.time\": {\"sum\": 717.7295684814453, \"count\": 1, \"min\": 717.7295684814453, \"max\": 717.7295684814453}, \"epochs\": {\"sum\": 5.0, \"count\": 1, \"min\": 5, \"max\": 5}, \"check_early_stopping.time\": {\"sum\": 6.416797637939453, \"count\": 5, \"min\": 1.1494159698486328, \"max\": 1.5308856964111328}, \"update.time\": {\"sum\": 8592.735767364502, \"count\": 5, \"min\": 1544.5523262023926, \"max\": 2005.558967590332}, \"finalize.time\": {\"sum\": 142.14801788330078, \"count\": 1, \"min\": 142.14801788330078, \"max\": 142.14801788330078}, \"setuptime\": {\"sum\": 2.517223358154297, \"count\": 1, \"min\": 2.517223358154297, \"max\": 2.517223358154297}, \"totaltime\": {\"sum\": 9601.714134216309, \"count\": 1, \"min\": 9601.714134216309, \"max\": 9601.714134216309}}}\u001b[0m\n",
      "\n",
      "2024-12-04 21:13:20 Uploading - Uploading generated training model\n",
      "2024-12-04 21:13:20 Completed - Training job completed\n",
      "Training seconds: 160\n",
      "Billable seconds: 74\n",
      "Managed Spot Training savings: 53.8%\n"
     ]
    }
   ],
   "source": [
    "linear = sagemaker.estimator.Estimator(container,\n",
    "                                       role, \n",
    "                                       instance_count = 1, \n",
    "                                       instance_type = 'ml.m4.xlarge',\n",
    "                                       output_path = output_location,\n",
    "                                       sagemaker_session = sagemaker_session,\n",
    "                                       use_spot_instances = True,\n",
    "                                       max_run = 300,\n",
    "                                       max_wait = 600)\n",
    "\n",
    "linear.set_hyperparameters(feature_dim = 1,\n",
    "                           predictor_type = 'regressor',\n",
    "                           mini_batch_size = 5,\n",
    "                           epochs = 5,\n",
    "                           num_models = 32,\n",
    "                           loss = 'absolute_loss')\n",
    "\n",
    "# Now we are ready to pass in the training data from S3 to train the linear learner model\n",
    "\n",
    "linear.fit({'train': s3_train_data})"
   ]
  },
  {
   "cell_type": "code",
   "execution_count": 55,
   "metadata": {
    "tags": []
   },
   "outputs": [
    {
     "name": "stderr",
     "output_type": "stream",
     "text": [
      "INFO:sagemaker:Creating model with name: linear-learner-2024-12-04-21-13-38-139\n",
      "INFO:sagemaker:Creating endpoint-config with name linear-learner-2024-12-04-21-13-38-139\n",
      "INFO:sagemaker:Creating endpoint with name linear-learner-2024-12-04-21-13-38-139\n"
     ]
    },
    {
     "name": "stdout",
     "output_type": "stream",
     "text": [
      "-------!"
     ]
    }
   ],
   "source": [
    "from sagemaker.deserializers import JSONDeserializer\n",
    "from sagemaker.serializers import CSVSerializer\n",
    "\n",
    "\n",
    "linear_regressor = linear.deploy(initial_instance_count = 1,\n",
    "                                 instance_type = 'ml.m4.xlarge',\n",
    "                                 serializer = CSVSerializer(),\n",
    "                                 deserializer = JSONDeserializer())"
   ]
  },
  {
   "cell_type": "code",
   "execution_count": 56,
   "metadata": {
    "tags": []
   },
   "outputs": [],
   "source": [
    "result = linear_regressor.predict(X_test)"
   ]
  },
  {
   "cell_type": "code",
   "execution_count": 57,
   "metadata": {
    "tags": []
   },
   "outputs": [],
   "source": [
    "predictions = np.array([r['score'] for r in result['predictions']])\n"
   ]
  },
  {
   "cell_type": "code",
   "execution_count": 58,
   "metadata": {
    "tags": []
   },
   "outputs": [
    {
     "data": {
      "text/plain": [
       "array([ 665.26501465,  787.02685547,  272.95019531,  597.43609619,\n",
       "        895.52893066,  473.38140869,  418.25161743,  428.57546997,\n",
       "        245.23461914,  574.21148682,  292.64733887,  833.39935303,\n",
       "        350.1081543 ,  184.61386108,  857.26568604,  614.74377441,\n",
       "        300.21273804,  249.99786377,  411.80569458,  292.16708374,\n",
       "        690.36791992,  189.56184387,  521.61108398,  639.11529541,\n",
       "        757.80706787,  556.50128174,  868.81890869,   30.3381958 ,\n",
       "        558.8614502 ,  598.36120605,  145.54330444,  420.98260498,\n",
       "        702.46838379,  675.41027832,  739.03985596,  488.96838379,\n",
       "        433.02130127,  346.18777466,  936.92657471,  618.9576416 ,\n",
       "        464.81515503,  476.68035889,  627.61633301,  686.47143555,\n",
       "        500.92349243,  465.54885864,  405.83584595,  403.67016602,\n",
       "        799.6998291 ,  445.22042847,  441.72286987,  597.3470459 ,\n",
       "        464.08764648,  632.06158447,  486.73858643,  581.24768066,\n",
       "        553.74951172,  629.40533447,  220.39660645,  628.16583252,\n",
       "        375.82666016,  403.44262695,  655.32440186,  402.2237854 ,\n",
       "        221.22792053,  703.88464355,  447.15914917,  619.21099854,\n",
       "        683.28027344, 1007.11114502,  440.76712036,  358.16320801,\n",
       "        505.64532471,  670.84503174,  448.80230713,  678.91485596,\n",
       "        499.42025757,  572.74066162,  706.69989014,  783.06219482,\n",
       "        484.00747681,  836.22088623,  602.52142334,  797.23974609,\n",
       "        561.80926514,  869.67272949,  657.64770508,  293.48114014,\n",
       "        282.02224731,  409.22109985,  483.92160034,  905.17443848,\n",
       "        606.20489502,  888.01330566,  516.51019287,  232.40745544,\n",
       "        453.49237061,  512.75817871,  440.3041687 ,  502.49053955,\n",
       "        424.50332642,  353.02282715,  656.11883545,  580.22711182,\n",
       "        432.08187866,  518.35131836,  683.36932373,  399.29550171,\n",
       "        622.50274658,  135.95718384,  538.41766357,  297.35784912,\n",
       "        738.66918945,  392.91311646,  615.62530518,  547.48352051,\n",
       "        778.59338379,  530.79785156,  354.44244385,  575.42236328,\n",
       "        513.83862305,  744.31787109,  303.57754517,  515.73797607,\n",
       "        658.89672852])"
      ]
     },
     "execution_count": 58,
     "metadata": {},
     "output_type": "execute_result"
    }
   ],
   "source": [
    "predictions"
   ]
  },
  {
   "cell_type": "code",
   "execution_count": 59,
   "metadata": {
    "tags": []
   },
   "outputs": [
    {
     "data": {
      "text/plain": [
       "(125,)"
      ]
     },
     "execution_count": 59,
     "metadata": {},
     "output_type": "execute_result"
    }
   ],
   "source": [
    "predictions.shape"
   ]
  },
  {
   "cell_type": "code",
   "execution_count": 60,
   "metadata": {
    "tags": []
   },
   "outputs": [
    {
     "data": {
      "image/png": "[encoded data removed]",
      "text/plain": [
       "<Figure size 1000x600 with 1 Axes>"
      ]
     },
     "metadata": {},
     "output_type": "display_data"
    }
   ],
   "source": [
    "plt.figure(figsize = (10, 6))\n",
    "plt.scatter(X_test, y_test, color = 'blue')\n",
    "plt.plot(X_test, predictions, color = 'red')\n",
    "plt.xlabel('Temperature [DegC]')\n",
    "plt.ylabel('Revenue [$]')\n",
    "plt.title('Temperature vs. Revenue (Testing Dataset)')\n",
    "plt.grid()"
   ]
  },
  {
   "cell_type": "code",
   "execution_count": 61,
   "metadata": {
    "tags": []
   },
   "outputs": [
    {
     "name": "stdout",
     "output_type": "stream",
     "text": [
      "{'predictions': [{'score': 247.39886474609375}]}\n",
      "{'predictions': [{'score': 790.050537109375}]}\n"
     ]
    }
   ],
   "source": [
    "temperature = [[10]]\n",
    "revenue = linear_regressor.predict(temperature)\n",
    "print(revenue)\n",
    "\n",
    "temperature = [[35]] \n",
    "revenue = linear_regressor.predict(temperature)\n",
    "print(revenue)\n"
   ]
  },
  {
   "cell_type": "code",
   "execution_count": 70,
   "metadata": {
    "tags": []
   },
   "outputs": [
    {
     "name": "stderr",
     "output_type": "stream",
     "text": [
      "INFO:sagemaker:Deleting endpoint configuration with name: linear-learner-2024-12-02-11-12-03-752\n",
      "INFO:sagemaker:Deleting endpoint with name: linear-learner-2024-12-02-11-12-03-752\n"
     ]
    }
   ],
   "source": [
    "# Delete the end-point\n",
    "linear_regressor.delete_endpoint()"
   ]
  },
  {
   "cell_type": "markdown",
   "metadata": {},
   "source": [
    "# TRAINING A MODEL WITH 25% TEST DATA MORE EPOCHS "
   ]
  },
  {
   "cell_type": "code",
   "execution_count": 64,
   "metadata": {
    "tags": []
   },
   "outputs": [
    {
     "name": "stderr",
     "output_type": "stream",
     "text": [
      "INFO:sagemaker:Creating training-job with name: linear-learner-2024-12-04-21-19-36-472\n"
     ]
    },
    {
     "name": "stdout",
     "output_type": "stream",
     "text": [
      "2024-12-04 21:19:36 Starting - Starting the training job...\n",
      "2024-12-04 21:19:54 Starting - Preparing the instances for training...\n",
      "2024-12-04 21:20:25 Downloading - Downloading input data...\n",
      "2024-12-04 21:20:55 Downloading - Downloading the training image......\n",
      "2024-12-04 21:22:02 Training - Training image download completed. Training in progress....\u001b[34mDocker entrypoint called with argument(s): train\u001b[0m\n",
      "\u001b[34mRunning default environment configuration script\u001b[0m\n",
      "\u001b[34m[12/04/2024 21:22:26 INFO 139730080646976] Reading default configuration from /opt/amazon/lib/python3.8/site-packages/algorithm/resources/default-input.json: {'mini_batch_size': '1000', 'epochs': '15', 'feature_dim': 'auto', 'use_bias': 'true', 'binary_classifier_model_selection_criteria': 'accuracy', 'f_beta': '1.0', 'target_recall': '0.8', 'target_precision': '0.8', 'num_models': 'auto', 'num_calibration_samples': '10000000', 'init_method': 'uniform', 'init_scale': '0.07', 'init_sigma': '0.01', 'init_bias': '0.0', 'optimizer': 'auto', 'loss': 'auto', 'margin': '1.0', 'quantile': '0.5', 'loss_insensitivity': '0.01', 'huber_delta': '1.0', 'num_classes': '1', 'accuracy_top_k': '3', 'wd': 'auto', 'l1': 'auto', 'momentum': 'auto', 'learning_rate': 'auto', 'beta_1': 'auto', 'beta_2': 'auto', 'bias_lr_mult': 'auto', 'bias_wd_mult': 'auto', 'use_lr_scheduler': 'true', 'lr_scheduler_step': 'auto', 'lr_scheduler_factor': 'auto', 'lr_scheduler_minimum_lr': 'auto', 'positive_example_weight_mult': '1.0', 'balance_multiclass_weights': 'false', 'normalize_data': 'true', 'normalize_label': 'auto', 'unbias_data': 'auto', 'unbias_label': 'auto', 'num_point_for_scaler': '10000', '_kvstore': 'auto', '_num_gpus': 'auto', '_num_kv_servers': 'auto', '_log_level': 'info', '_tuning_objective_metric': '', 'early_stopping_patience': '3', 'early_stopping_tolerance': '0.001', '_enable_profiler': 'false'}\u001b[0m\n",
      "\u001b[34m[12/04/2024 21:22:26 INFO 139730080646976] Merging with provided configuration from /opt/ml/input/config/hyperparameters.json: {'epochs': '10', 'feature_dim': '1', 'loss': 'absolute_loss', 'mini_batch_size': '5', 'num_models': '32', 'predictor_type': 'regressor'}\u001b[0m\n",
      "\u001b[34m[12/04/2024 21:22:26 INFO 139730080646976] Final configuration: {'mini_batch_size': '5', 'epochs': '10', 'feature_dim': '1', 'use_bias': 'true', 'binary_classifier_model_selection_criteria': 'accuracy', 'f_beta': '1.0', 'target_recall': '0.8', 'target_precision': '0.8', 'num_models': '32', 'num_calibration_samples': '10000000', 'init_method': 'uniform', 'init_scale': '0.07', 'init_sigma': '0.01', 'init_bias': '0.0', 'optimizer': 'auto', 'loss': 'absolute_loss', 'margin': '1.0', 'quantile': '0.5', 'loss_insensitivity': '0.01', 'huber_delta': '1.0', 'num_classes': '1', 'accuracy_top_k': '3', 'wd': 'auto', 'l1': 'auto', 'momentum': 'auto', 'learning_rate': 'auto', 'beta_1': 'auto', 'beta_2': 'auto', 'bias_lr_mult': 'auto', 'bias_wd_mult': 'auto', 'use_lr_scheduler': 'true', 'lr_scheduler_step': 'auto', 'lr_scheduler_factor': 'auto', 'lr_scheduler_minimum_lr': 'auto', 'positive_example_weight_mult': '1.0', 'balance_multiclass_weights': 'false', 'normalize_data': 'true', 'normalize_label': 'auto', 'unbias_data': 'auto', 'unbias_label': 'auto', 'num_point_for_scaler': '10000', '_kvstore': 'auto', '_num_gpus': 'auto', '_num_kv_servers': 'auto', '_log_level': 'info', '_tuning_objective_metric': '', 'early_stopping_patience': '3', 'early_stopping_tolerance': '0.001', '_enable_profiler': 'false', 'predictor_type': 'regressor'}\u001b[0m\n",
      "\u001b[34m/opt/amazon/lib/python3.8/site-packages/mxnet/model.py:97: SyntaxWarning: \"is\" with a literal. Did you mean \"==\"?\n",
      "  if num_device is 1 and 'dist' not in kvstore:\u001b[0m\n",
      "\u001b[34m/opt/amazon/lib/python3.8/site-packages/scipy/optimize/_shgo.py:495: SyntaxWarning: \"is\" with a literal. Did you mean \"==\"?\n",
      "  if cons['type'] is 'ineq':\u001b[0m\n",
      "\u001b[34m/opt/amazon/lib/python3.8/site-packages/scipy/optimize/_shgo.py:743: SyntaxWarning: \"is not\" with a literal. Did you mean \"!=\"?\n",
      "  if len(self.X_min) is not 0:\u001b[0m\n",
      "\u001b[34m[12/04/2024 21:22:29 WARNING 139730080646976] Loggers have already been setup.\u001b[0m\n",
      "\u001b[34m[12/04/2024 21:22:29 INFO 139730080646976] Final configuration: {'mini_batch_size': '5', 'epochs': '10', 'feature_dim': '1', 'use_bias': 'true', 'binary_classifier_model_selection_criteria': 'accuracy', 'f_beta': '1.0', 'target_recall': '0.8', 'target_precision': '0.8', 'num_models': '32', 'num_calibration_samples': '10000000', 'init_method': 'uniform', 'init_scale': '0.07', 'init_sigma': '0.01', 'init_bias': '0.0', 'optimizer': 'auto', 'loss': 'absolute_loss', 'margin': '1.0', 'quantile': '0.5', 'loss_insensitivity': '0.01', 'huber_delta': '1.0', 'num_classes': '1', 'accuracy_top_k': '3', 'wd': 'auto', 'l1': 'auto', 'momentum': 'auto', 'learning_rate': 'auto', 'beta_1': 'auto', 'beta_2': 'auto', 'bias_lr_mult': 'auto', 'bias_wd_mult': 'auto', 'use_lr_scheduler': 'true', 'lr_scheduler_step': 'auto', 'lr_scheduler_factor': 'auto', 'lr_scheduler_minimum_lr': 'auto', 'positive_example_weight_mult': '1.0', 'balance_multiclass_weights': 'false', 'normalize_data': 'true', 'normalize_label': 'auto', 'unbias_data': 'auto', 'unbias_label': 'auto', 'num_point_for_scaler': '10000', '_kvstore': 'auto', '_num_gpus': 'auto', '_num_kv_servers': 'auto', '_log_level': 'info', '_tuning_objective_metric': '', 'early_stopping_patience': '3', 'early_stopping_tolerance': '0.001', '_enable_profiler': 'false', 'predictor_type': 'regressor'}\u001b[0m\n",
      "\u001b[34m[12/04/2024 21:22:29 WARNING 139730080646976] Loggers have already been setup.\u001b[0m\n",
      "\u001b[34mProcess 7 is a worker.\u001b[0m\n",
      "\u001b[34m[12/04/2024 21:22:29 INFO 139730080646976] Using default worker.\u001b[0m\n",
      "\u001b[34m[12/04/2024 21:22:29 INFO 139730080646976] Checkpoint loading and saving are disabled.\u001b[0m\n",
      "\u001b[34m[2024-12-04 21:22:29.736] [tensorio] [info] epoch_stats={\"data_pipeline\": \"/opt/ml/input/data/train\", \"epoch\": 0, \"duration\": 13, \"num_examples\": 1, \"num_bytes\": 240}\u001b[0m\n",
      "\u001b[34m[12/04/2024 21:22:29 INFO 139730080646976] Create Store: local\u001b[0m\n",
      "\u001b[34m[2024-12-04 21:22:30.122] [tensorio] [info] epoch_stats={\"data_pipeline\": \"/opt/ml/input/data/train\", \"epoch\": 1, \"duration\": 384, \"num_examples\": 80, \"num_bytes\": 19200}\u001b[0m\n",
      "\u001b[34m[12/04/2024 21:22:30 INFO 139730080646976] Scaler algorithm parameters\n",
      " <algorithm.scaler.ScalerAlgorithmStable object at 0x7f14e0efb490>\u001b[0m\n",
      "\u001b[34m[12/04/2024 21:22:30 INFO 139730080646976] Scaling model computed with parameters:\n",
      " {'stdev_label': \u001b[0m\n",
      "\u001b[34m[176.11504]\u001b[0m\n",
      "\u001b[34m<NDArray 1 @cpu(0)>, 'stdev_weight': \u001b[0m\n",
      "\u001b[34m[8.104644]\u001b[0m\n",
      "\u001b[34m<NDArray 1 @cpu(0)>, 'mean_label': \u001b[0m\n",
      "\u001b[34m[525.6257]\u001b[0m\n",
      "\u001b[34m<NDArray 1 @cpu(0)>, 'mean_weight': \u001b[0m\n",
      "\u001b[34m[22.435238]\u001b[0m\n",
      "\u001b[34m<NDArray 1 @cpu(0)>}\u001b[0m\n",
      "\u001b[34m/opt/amazon/python3.8/lib/python3.8/subprocess.py:848: RuntimeWarning: line buffering (buffering=1) isn't supported in binary mode, the default buffer size will be used\n",
      "  self.stdout = io.open(c2pread, 'rb', bufsize)\u001b[0m\n",
      "\u001b[34m[12/04/2024 21:22:30 INFO 139730080646976] nvidia-smi: took 0.034 seconds to run.\u001b[0m\n",
      "\u001b[34m[12/04/2024 21:22:30 INFO 139730080646976] nvidia-smi identified 0 GPUs.\u001b[0m\n",
      "\u001b[34m[12/04/2024 21:22:30 INFO 139730080646976] Number of GPUs being used: 0\u001b[0m\n",
      "\u001b[34m#metrics {\"StartTime\": 1733347350.2209451, \"EndTime\": 1733347350.2209804, \"Dimensions\": {\"Algorithm\": \"Linear Learner\", \"Host\": \"algo-1\", \"Operation\": \"training\", \"Meta\": \"init_train_data_iter\"}, \"Metrics\": {\"Total Records Seen\": {\"sum\": 405.0, \"count\": 1, \"min\": 405, \"max\": 405}, \"Total Batches Seen\": {\"sum\": 81.0, \"count\": 1, \"min\": 81, \"max\": 81}, \"Max Records Seen Between Resets\": {\"sum\": 400.0, \"count\": 1, \"min\": 400, \"max\": 400}, \"Max Batches Seen Between Resets\": {\"sum\": 80.0, \"count\": 1, \"min\": 80, \"max\": 80}, \"Reset Count\": {\"sum\": 2.0, \"count\": 1, \"min\": 2, \"max\": 2}, \"Number of Records Since Last Reset\": {\"sum\": 0.0, \"count\": 1, \"min\": 0, \"max\": 0}, \"Number of Batches Since Last Reset\": {\"sum\": 0.0, \"count\": 1, \"min\": 0, \"max\": 0}}}\u001b[0m\n",
      "\u001b[34m[2024-12-04 21:22:31.434] [tensorio] [info] epoch_stats={\"data_pipeline\": \"/opt/ml/input/data/train\", \"epoch\": 4, \"duration\": 1213, \"num_examples\": 80, \"num_bytes\": 19200}\u001b[0m\n",
      "\u001b[34m#metrics {\"StartTime\": 1733347351.4349082, \"EndTime\": 1733347351.4349926, \"Dimensions\": {\"Algorithm\": \"Linear Learner\", \"Host\": \"algo-1\", \"Operation\": \"training\", \"epoch\": 0, \"model\": 0}, \"Metrics\": {\"train_absolute_loss_objective\": {\"sum\": 0.6549239861965179, \"count\": 1, \"min\": 0.6549239861965179, \"max\": 0.6549239861965179}}}\u001b[0m\n",
      "\u001b[34m#metrics {\"StartTime\": 1733347351.4350762, \"EndTime\": 1733347351.435091, \"Dimensions\": {\"Algorithm\": \"Linear Learner\", \"Host\": \"algo-1\", \"Operation\": \"training\", \"epoch\": 0, \"model\": 1}, \"Metrics\": {\"train_absolute_loss_objective\": {\"sum\": 0.6704650494456291, \"count\": 1, \"min\": 0.6704650494456291, \"max\": 0.6704650494456291}}}\u001b[0m\n",
      "\u001b[34m#metrics {\"StartTime\": 1733347351.4351375, \"EndTime\": 1733347351.4351475, \"Dimensions\": {\"Algorithm\": \"Linear Learner\", \"Host\": \"algo-1\", \"Operation\": \"training\", \"epoch\": 0, \"model\": 2}, \"Metrics\": {\"train_absolute_loss_objective\": {\"sum\": 0.6570951665937901, \"count\": 1, \"min\": 0.6570951665937901, \"max\": 0.6570951665937901}}}\u001b[0m\n",
      "\u001b[34m#metrics {\"StartTime\": 1733347351.4351828, \"EndTime\": 1733347351.4351938, \"Dimensions\": {\"Algorithm\": \"Linear Learner\", \"Host\": \"algo-1\", \"Operation\": \"training\", \"epoch\": 0, \"model\": 3}, \"Metrics\": {\"train_absolute_loss_objective\": {\"sum\": 0.6695473450422287, \"count\": 1, \"min\": 0.6695473450422287, \"max\": 0.6695473450422287}}}\u001b[0m\n",
      "\u001b[34m#metrics {\"StartTime\": 1733347351.435223, \"EndTime\": 1733347351.4352314, \"Dimensions\": {\"Algorithm\": \"Linear Learner\", \"Host\": \"algo-1\", \"Operation\": \"training\", \"epoch\": 0, \"model\": 4}, \"Metrics\": {\"train_absolute_loss_objective\": {\"sum\": 0.23702806375920774, \"count\": 1, \"min\": 0.23702806375920774, \"max\": 0.23702806375920774}}}\u001b[0m\n",
      "\u001b[34m#metrics {\"StartTime\": 1733347351.4352636, \"EndTime\": 1733347351.4352727, \"Dimensions\": {\"Algorithm\": \"Linear Learner\", \"Host\": \"algo-1\", \"Operation\": \"training\", \"epoch\": 0, \"model\": 5}, \"Metrics\": {\"train_absolute_loss_objective\": {\"sum\": 0.24857573211193085, \"count\": 1, \"min\": 0.24857573211193085, \"max\": 0.24857573211193085}}}\u001b[0m\n",
      "\u001b[34m#metrics {\"StartTime\": 1733347351.4353025, \"EndTime\": 1733347351.435311, \"Dimensions\": {\"Algorithm\": \"Linear Learner\", \"Host\": \"algo-1\", \"Operation\": \"training\", \"epoch\": 0, \"model\": 6}, \"Metrics\": {\"train_absolute_loss_objective\": {\"sum\": 0.23960905730724336, \"count\": 1, \"min\": 0.23960905730724336, \"max\": 0.23960905730724336}}}\u001b[0m\n",
      "\u001b[34m#metrics {\"StartTime\": 1733347351.4353404, \"EndTime\": 1733347351.4353495, \"Dimensions\": {\"Algorithm\": \"Linear Learner\", \"Host\": \"algo-1\", \"Operation\": \"training\", \"epoch\": 0, \"model\": 7}, \"Metrics\": {\"train_absolute_loss_objective\": {\"sum\": 0.23190140403807163, \"count\": 1, \"min\": 0.23190140403807163, \"max\": 0.23190140403807163}}}\u001b[0m\n",
      "\u001b[34m#metrics {\"StartTime\": 1733347351.4353824, \"EndTime\": 1733347351.435391, \"Dimensions\": {\"Algorithm\": \"Linear Learner\", \"Host\": \"algo-1\", \"Operation\": \"training\", \"epoch\": 0, \"model\": 8}, \"Metrics\": {\"train_absolute_loss_objective\": {\"sum\": 0.7050376665592194, \"count\": 1, \"min\": 0.7050376665592194, \"max\": 0.7050376665592194}}}\u001b[0m\n",
      "\u001b[34m#metrics {\"StartTime\": 1733347351.4354215, \"EndTime\": 1733347351.435431, \"Dimensions\": {\"Algorithm\": \"Linear Learner\", \"Host\": \"algo-1\", \"Operation\": \"training\", \"epoch\": 0, \"model\": 9}, \"Metrics\": {\"train_absolute_loss_objective\": {\"sum\": 0.6413815954327583, \"count\": 1, \"min\": 0.6413815954327583, \"max\": 0.6413815954327583}}}\u001b[0m\n",
      "\u001b[34m#metrics {\"StartTime\": 1733347351.4354634, \"EndTime\": 1733347351.4354727, \"Dimensions\": {\"Algorithm\": \"Linear Learner\", \"Host\": \"algo-1\", \"Operation\": \"training\", \"epoch\": 0, \"model\": 10}, \"Metrics\": {\"train_absolute_loss_objective\": {\"sum\": 0.6499690988659859, \"count\": 1, \"min\": 0.6499690988659859, \"max\": 0.6499690988659859}}}\u001b[0m\n",
      "\u001b[34m#metrics {\"StartTime\": 1733347351.4355037, \"EndTime\": 1733347351.4355125, \"Dimensions\": {\"Algorithm\": \"Linear Learner\", \"Host\": \"algo-1\", \"Operation\": \"training\", \"epoch\": 0, \"model\": 11}, \"Metrics\": {\"train_absolute_loss_objective\": {\"sum\": 0.6341060103476047, \"count\": 1, \"min\": 0.6341060103476047, \"max\": 0.6341060103476047}}}\u001b[0m\n",
      "\u001b[34m#metrics {\"StartTime\": 1733347351.4355462, \"EndTime\": 1733347351.435556, \"Dimensions\": {\"Algorithm\": \"Linear Learner\", \"Host\": \"algo-1\", \"Operation\": \"training\", \"epoch\": 0, \"model\": 12}, \"Metrics\": {\"train_absolute_loss_objective\": {\"sum\": 0.24137919262051583, \"count\": 1, \"min\": 0.24137919262051583, \"max\": 0.24137919262051583}}}\u001b[0m\n",
      "\u001b[34m#metrics {\"StartTime\": 1733347351.4355855, \"EndTime\": 1733347351.435594, \"Dimensions\": {\"Algorithm\": \"Linear Learner\", \"Host\": \"algo-1\", \"Operation\": \"training\", \"epoch\": 0, \"model\": 13}, \"Metrics\": {\"train_absolute_loss_objective\": {\"sum\": 0.22472854506224393, \"count\": 1, \"min\": 0.22472854506224393, \"max\": 0.22472854506224393}}}\u001b[0m\n",
      "\u001b[34m#metrics {\"StartTime\": 1733347351.4356236, \"EndTime\": 1733347351.4356325, \"Dimensions\": {\"Algorithm\": \"Linear Learner\", \"Host\": \"algo-1\", \"Operation\": \"training\", \"epoch\": 0, \"model\": 14}, \"Metrics\": {\"train_absolute_loss_objective\": {\"sum\": 0.24133946798741818, \"count\": 1, \"min\": 0.24133946798741818, \"max\": 0.24133946798741818}}}\u001b[0m\n",
      "\u001b[34m#metrics {\"StartTime\": 1733347351.4356616, \"EndTime\": 1733347351.4356716, \"Dimensions\": {\"Algorithm\": \"Linear Learner\", \"Host\": \"algo-1\", \"Operation\": \"training\", \"epoch\": 0, \"model\": 15}, \"Metrics\": {\"train_absolute_loss_objective\": {\"sum\": 0.2425030452013016, \"count\": 1, \"min\": 0.2425030452013016, \"max\": 0.2425030452013016}}}\u001b[0m\n",
      "\u001b[34m#metrics {\"StartTime\": 1733347351.4357026, \"EndTime\": 1733347351.435712, \"Dimensions\": {\"Algorithm\": \"Linear Learner\", \"Host\": \"algo-1\", \"Operation\": \"training\", \"epoch\": 0, \"model\": 16}, \"Metrics\": {\"train_absolute_loss_objective\": {\"sum\": 0.6308268989622593, \"count\": 1, \"min\": 0.6308268989622593, \"max\": 0.6308268989622593}}}\u001b[0m\n",
      "\u001b[34m#metrics {\"StartTime\": 1733347351.4357438, \"EndTime\": 1733347351.4357536, \"Dimensions\": {\"Algorithm\": \"Linear Learner\", \"Host\": \"algo-1\", \"Operation\": \"training\", \"epoch\": 0, \"model\": 17}, \"Metrics\": {\"train_absolute_loss_objective\": {\"sum\": 0.6721965040266514, \"count\": 1, \"min\": 0.6721965040266514, \"max\": 0.6721965040266514}}}\u001b[0m\n",
      "\u001b[34m#metrics {\"StartTime\": 1733347351.435787, \"EndTime\": 1733347351.4357967, \"Dimensions\": {\"Algorithm\": \"Linear Learner\", \"Host\": \"algo-1\", \"Operation\": \"training\", \"epoch\": 0, \"model\": 18}, \"Metrics\": {\"train_absolute_loss_objective\": {\"sum\": 0.65384710252285, \"count\": 1, \"min\": 0.65384710252285, \"max\": 0.65384710252285}}}\u001b[0m\n",
      "\u001b[34m#metrics {\"StartTime\": 1733347351.4358294, \"EndTime\": 1733347351.4358385, \"Dimensions\": {\"Algorithm\": \"Linear Learner\", \"Host\": \"algo-1\", \"Operation\": \"training\", \"epoch\": 0, \"model\": 19}, \"Metrics\": {\"train_absolute_loss_objective\": {\"sum\": 0.6493091225624085, \"count\": 1, \"min\": 0.6493091225624085, \"max\": 0.6493091225624085}}}\u001b[0m\n",
      "\u001b[34m#metrics {\"StartTime\": 1733347351.4358692, \"EndTime\": 1733347351.4358778, \"Dimensions\": {\"Algorithm\": \"Linear Learner\", \"Host\": \"algo-1\", \"Operation\": \"training\", \"epoch\": 0, \"model\": 20}, \"Metrics\": {\"train_absolute_loss_objective\": {\"sum\": 0.4757299916446209, \"count\": 1, \"min\": 0.4757299916446209, \"max\": 0.4757299916446209}}}\u001b[0m\n",
      "\u001b[34m#metrics {\"StartTime\": 1733347351.4359086, \"EndTime\": 1733347351.4359179, \"Dimensions\": {\"Algorithm\": \"Linear Learner\", \"Host\": \"algo-1\", \"Operation\": \"training\", \"epoch\": 0, \"model\": 21}, \"Metrics\": {\"train_absolute_loss_objective\": {\"sum\": 0.4833872880041599, \"count\": 1, \"min\": 0.4833872880041599, \"max\": 0.4833872880041599}}}\u001b[0m\n",
      "\u001b[34m#metrics {\"StartTime\": 1733347351.4359517, \"EndTime\": 1733347351.435961, \"Dimensions\": {\"Algorithm\": \"Linear Learner\", \"Host\": \"algo-1\", \"Operation\": \"training\", \"epoch\": 0, \"model\": 22}, \"Metrics\": {\"train_absolute_loss_objective\": {\"sum\": 0.5005671364068985, \"count\": 1, \"min\": 0.5005671364068985, \"max\": 0.5005671364068985}}}\u001b[0m\n",
      "\u001b[34m#metrics {\"StartTime\": 1733347351.4359906, \"EndTime\": 1733347351.436, \"Dimensions\": {\"Algorithm\": \"Linear Learner\", \"Host\": \"algo-1\", \"Operation\": \"training\", \"epoch\": 0, \"model\": 23}, \"Metrics\": {\"train_absolute_loss_objective\": {\"sum\": 0.49944101050496104, \"count\": 1, \"min\": 0.49944101050496104, \"max\": 0.49944101050496104}}}\u001b[0m\n",
      "\u001b[34m#metrics {\"StartTime\": 1733347351.4360287, \"EndTime\": 1733347351.4360373, \"Dimensions\": {\"Algorithm\": \"Linear Learner\", \"Host\": \"algo-1\", \"Operation\": \"training\", \"epoch\": 0, \"model\": 24}, \"Metrics\": {\"train_absolute_loss_objective\": {\"sum\": 0.7874507892131806, \"count\": 1, \"min\": 0.7874507892131806, \"max\": 0.7874507892131806}}}\u001b[0m\n",
      "\u001b[34m#metrics {\"StartTime\": 1733347351.4360707, \"EndTime\": 1733347351.4360802, \"Dimensions\": {\"Algorithm\": \"Linear Learner\", \"Host\": \"algo-1\", \"Operation\": \"training\", \"epoch\": 0, \"model\": 25}, \"Metrics\": {\"train_absolute_loss_objective\": {\"sum\": 0.7910717296600341, \"count\": 1, \"min\": 0.7910717296600341, \"max\": 0.7910717296600341}}}\u001b[0m\n",
      "\u001b[34m#metrics {\"StartTime\": 1733347351.4361126, \"EndTime\": 1733347351.4361222, \"Dimensions\": {\"Algorithm\": \"Linear Learner\", \"Host\": \"algo-1\", \"Operation\": \"training\", \"epoch\": 0, \"model\": 26}, \"Metrics\": {\"train_absolute_loss_objective\": {\"sum\": 0.7901136192679405, \"count\": 1, \"min\": 0.7901136192679405, \"max\": 0.7901136192679405}}}\u001b[0m\n",
      "\u001b[34m#metrics {\"StartTime\": 1733347351.4361541, \"EndTime\": 1733347351.4361632, \"Dimensions\": {\"Algorithm\": \"Linear Learner\", \"Host\": \"algo-1\", \"Operation\": \"training\", \"epoch\": 0, \"model\": 27}, \"Metrics\": {\"train_absolute_loss_objective\": {\"sum\": 0.7899167013168334, \"count\": 1, \"min\": 0.7899167013168334, \"max\": 0.7899167013168334}}}\u001b[0m\n",
      "\u001b[34m#metrics {\"StartTime\": 1733347351.4361918, \"EndTime\": 1733347351.4362006, \"Dimensions\": {\"Algorithm\": \"Linear Learner\", \"Host\": \"algo-1\", \"Operation\": \"training\", \"epoch\": 0, \"model\": 28}, \"Metrics\": {\"train_absolute_loss_objective\": {\"sum\": 0.9033439728617668, \"count\": 1, \"min\": 0.9033439728617668, \"max\": 0.9033439728617668}}}\u001b[0m\n",
      "\u001b[34m#metrics {\"StartTime\": 1733347351.4362338, \"EndTime\": 1733347351.4362435, \"Dimensions\": {\"Algorithm\": \"Linear Learner\", \"Host\": \"algo-1\", \"Operation\": \"training\", \"epoch\": 0, \"model\": 29}, \"Metrics\": {\"train_absolute_loss_objective\": {\"sum\": 0.9107163572311401, \"count\": 1, \"min\": 0.9107163572311401, \"max\": 0.9107163572311401}}}\u001b[0m\n",
      "\u001b[34m#metrics {\"StartTime\": 1733347351.4362767, \"EndTime\": 1733347351.436286, \"Dimensions\": {\"Algorithm\": \"Linear Learner\", \"Host\": \"algo-1\", \"Operation\": \"training\", \"epoch\": 0, \"model\": 30}, \"Metrics\": {\"train_absolute_loss_objective\": {\"sum\": 0.8827376985549926, \"count\": 1, \"min\": 0.8827376985549926, \"max\": 0.8827376985549926}}}\u001b[0m\n",
      "\u001b[34m#metrics {\"StartTime\": 1733347351.4363153, \"EndTime\": 1733347351.4363241, \"Dimensions\": {\"Algorithm\": \"Linear Learner\", \"Host\": \"algo-1\", \"Operation\": \"training\", \"epoch\": 0, \"model\": 31}, \"Metrics\": {\"train_absolute_loss_objective\": {\"sum\": 0.8828207096457481, \"count\": 1, \"min\": 0.8828207096457481, \"max\": 0.8828207096457481}}}\u001b[0m\n",
      "\u001b[34m[12/04/2024 21:22:31 INFO 139730080646976] #quality_metric: host=algo-1, epoch=0, train absolute_loss_objective <loss>=0.6549239861965179\u001b[0m\n",
      "\u001b[34m[12/04/2024 21:22:31 INFO 139730080646976] #early_stopping_criteria_metric: host=algo-1, epoch=0, criteria=absolute_loss_objective, value=0.22472854506224393\u001b[0m\n",
      "\u001b[34m[12/04/2024 21:22:31 INFO 139730080646976] Epoch 0: Loss improved. Updating best model\u001b[0m\n",
      "\u001b[34m[12/04/2024 21:22:31 INFO 139730080646976] Saving model for epoch: 0\u001b[0m\n",
      "\u001b[34m[12/04/2024 21:22:31 INFO 139730080646976] Saved checkpoint to \"/tmp/tmp0ta32qu9/mx-mod-0000.params\"\u001b[0m\n",
      "\u001b[34m[12/04/2024 21:22:31 INFO 139730080646976] #progress_metric: host=algo-1, completed 10.0 % of epochs\u001b[0m\n",
      "\u001b[34m#metrics {\"StartTime\": 1733347350.221247, \"EndTime\": 1733347351.4469025, \"Dimensions\": {\"Algorithm\": \"Linear Learner\", \"Host\": \"algo-1\", \"Operation\": \"training\", \"epoch\": 0, \"Meta\": \"training_data_iter\"}, \"Metrics\": {\"Total Records Seen\": {\"sum\": 805.0, \"count\": 1, \"min\": 805, \"max\": 805}, \"Total Batches Seen\": {\"sum\": 161.0, \"count\": 1, \"min\": 161, \"max\": 161}, \"Max Records Seen Between Resets\": {\"sum\": 400.0, \"count\": 1, \"min\": 400, \"max\": 400}, \"Max Batches Seen Between Resets\": {\"sum\": 80.0, \"count\": 1, \"min\": 80, \"max\": 80}, \"Reset Count\": {\"sum\": 3.0, \"count\": 1, \"min\": 3, \"max\": 3}, \"Number of Records Since Last Reset\": {\"sum\": 400.0, \"count\": 1, \"min\": 400, \"max\": 400}, \"Number of Batches Since Last Reset\": {\"sum\": 80.0, \"count\": 1, \"min\": 80, \"max\": 80}}}\u001b[0m\n",
      "\u001b[34m[12/04/2024 21:22:31 INFO 139730080646976] #throughput_metric: host=algo-1, train throughput=326.32397093639787 records/second\u001b[0m\n",
      "\u001b[34m[2024-12-04 21:22:32.635] [tensorio] [info] epoch_stats={\"data_pipeline\": \"/opt/ml/input/data/train\", \"epoch\": 6, \"duration\": 1188, \"num_examples\": 80, \"num_bytes\": 19200}\u001b[0m\n",
      "\u001b[34m#metrics {\"StartTime\": 1733347352.6359506, \"EndTime\": 1733347352.6360242, \"Dimensions\": {\"Algorithm\": \"Linear Learner\", \"Host\": \"algo-1\", \"Operation\": \"training\", \"epoch\": 1, \"model\": 0}, \"Metrics\": {\"train_absolute_loss_objective\": {\"sum\": 0.397561923712492, \"count\": 1, \"min\": 0.397561923712492, \"max\": 0.397561923712492}}}\u001b[0m\n",
      "\u001b[34m#metrics {\"StartTime\": 1733347352.6361072, \"EndTime\": 1733347352.6361206, \"Dimensions\": {\"Algorithm\": \"Linear Learner\", \"Host\": \"algo-1\", \"Operation\": \"training\", \"epoch\": 1, \"model\": 1}, \"Metrics\": {\"train_absolute_loss_objective\": {\"sum\": 0.39475918337702753, \"count\": 1, \"min\": 0.39475918337702753, \"max\": 0.39475918337702753}}}\u001b[0m\n",
      "\u001b[34m#metrics {\"StartTime\": 1733347352.6361575, \"EndTime\": 1733347352.6361666, \"Dimensions\": {\"Algorithm\": \"Linear Learner\", \"Host\": \"algo-1\", \"Operation\": \"training\", \"epoch\": 1, \"model\": 2}, \"Metrics\": {\"train_absolute_loss_objective\": {\"sum\": 0.3996320302784443, \"count\": 1, \"min\": 0.3996320302784443, \"max\": 0.3996320302784443}}}\u001b[0m\n",
      "\u001b[34m#metrics {\"StartTime\": 1733347352.636201, \"EndTime\": 1733347352.6362102, \"Dimensions\": {\"Algorithm\": \"Linear Learner\", \"Host\": \"algo-1\", \"Operation\": \"training\", \"epoch\": 1, \"model\": 3}, \"Metrics\": {\"train_absolute_loss_objective\": {\"sum\": 0.39388569325208667, \"count\": 1, \"min\": 0.39388569325208667, \"max\": 0.39388569325208667}}}\u001b[0m\n",
      "\u001b[34m#metrics {\"StartTime\": 1733347352.6362422, \"EndTime\": 1733347352.6362507, \"Dimensions\": {\"Algorithm\": \"Linear Learner\", \"Host\": \"algo-1\", \"Operation\": \"training\", \"epoch\": 1, \"model\": 4}, \"Metrics\": {\"train_absolute_loss_objective\": {\"sum\": 0.15488210014998913, \"count\": 1, \"min\": 0.15488210014998913, \"max\": 0.15488210014998913}}}\u001b[0m\n",
      "\u001b[34m#metrics {\"StartTime\": 1733347352.6362822, \"EndTime\": 1733347352.6362906, \"Dimensions\": {\"Algorithm\": \"Linear Learner\", \"Host\": \"algo-1\", \"Operation\": \"training\", \"epoch\": 1, \"model\": 5}, \"Metrics\": {\"train_absolute_loss_objective\": {\"sum\": 0.15193733934313058, \"count\": 1, \"min\": 0.15193733934313058, \"max\": 0.15193733934313058}}}\u001b[0m\n",
      "\u001b[34m#metrics {\"StartTime\": 1733347352.636325, \"EndTime\": 1733347352.6363347, \"Dimensions\": {\"Algorithm\": \"Linear Learner\", \"Host\": \"algo-1\", \"Operation\": \"training\", \"epoch\": 1, \"model\": 6}, \"Metrics\": {\"train_absolute_loss_objective\": {\"sum\": 0.1545743066072464, \"count\": 1, \"min\": 0.1545743066072464, \"max\": 0.1545743066072464}}}\u001b[0m\n",
      "\u001b[34m#metrics {\"StartTime\": 1733347352.6363657, \"EndTime\": 1733347352.6363738, \"Dimensions\": {\"Algorithm\": \"Linear Learner\", \"Host\": \"algo-1\", \"Operation\": \"training\", \"epoch\": 1, \"model\": 7}, \"Metrics\": {\"train_absolute_loss_objective\": {\"sum\": 0.15734283603727817, \"count\": 1, \"min\": 0.15734283603727817, \"max\": 0.15734283603727817}}}\u001b[0m\n",
      "\u001b[34m#metrics {\"StartTime\": 1733347352.636406, \"EndTime\": 1733347352.6364152, \"Dimensions\": {\"Algorithm\": \"Linear Learner\", \"Host\": \"algo-1\", \"Operation\": \"training\", \"epoch\": 1, \"model\": 8}, \"Metrics\": {\"train_absolute_loss_objective\": {\"sum\": 0.4467665545642376, \"count\": 1, \"min\": 0.4467665545642376, \"max\": 0.4467665545642376}}}\u001b[0m\n",
      "\u001b[34m#metrics {\"StartTime\": 1733347352.636449, \"EndTime\": 1733347352.6364582, \"Dimensions\": {\"Algorithm\": \"Linear Learner\", \"Host\": \"algo-1\", \"Operation\": \"training\", \"epoch\": 1, \"model\": 9}, \"Metrics\": {\"train_absolute_loss_objective\": {\"sum\": 0.3696262088418007, \"count\": 1, \"min\": 0.3696262088418007, \"max\": 0.3696262088418007}}}\u001b[0m\n",
      "\u001b[34m#metrics {\"StartTime\": 1733347352.6364932, \"EndTime\": 1733347352.636503, \"Dimensions\": {\"Algorithm\": \"Linear Learner\", \"Host\": \"algo-1\", \"Operation\": \"training\", \"epoch\": 1, \"model\": 10}, \"Metrics\": {\"train_absolute_loss_objective\": {\"sum\": 0.3937344565987587, \"count\": 1, \"min\": 0.3937344565987587, \"max\": 0.3937344565987587}}}\u001b[0m\n",
      "\u001b[34m#metrics {\"StartTime\": 1733347352.636532, \"EndTime\": 1733347352.63654, \"Dimensions\": {\"Algorithm\": \"Linear Learner\", \"Host\": \"algo-1\", \"Operation\": \"training\", \"epoch\": 1, \"model\": 11}, \"Metrics\": {\"train_absolute_loss_objective\": {\"sum\": 0.3625070576369762, \"count\": 1, \"min\": 0.3625070576369762, \"max\": 0.3625070576369762}}}\u001b[0m\n",
      "\u001b[34m#metrics {\"StartTime\": 1733347352.6365726, \"EndTime\": 1733347352.6365821, \"Dimensions\": {\"Algorithm\": \"Linear Learner\", \"Host\": \"algo-1\", \"Operation\": \"training\", \"epoch\": 1, \"model\": 12}, \"Metrics\": {\"train_absolute_loss_objective\": {\"sum\": 0.17876525815576316, \"count\": 1, \"min\": 0.17876525815576316, \"max\": 0.17876525815576316}}}\u001b[0m\n",
      "\u001b[34m#metrics {\"StartTime\": 1733347352.6366203, \"EndTime\": 1733347352.6366305, \"Dimensions\": {\"Algorithm\": \"Linear Learner\", \"Host\": \"algo-1\", \"Operation\": \"training\", \"epoch\": 1, \"model\": 13}, \"Metrics\": {\"train_absolute_loss_objective\": {\"sum\": 0.15561911225318908, \"count\": 1, \"min\": 0.15561911225318908, \"max\": 0.15561911225318908}}}\u001b[0m\n",
      "\u001b[34m#metrics {\"StartTime\": 1733347352.6366668, \"EndTime\": 1733347352.6366756, \"Dimensions\": {\"Algorithm\": \"Linear Learner\", \"Host\": \"algo-1\", \"Operation\": \"training\", \"epoch\": 1, \"model\": 14}, \"Metrics\": {\"train_absolute_loss_objective\": {\"sum\": 0.15693873673677444, \"count\": 1, \"min\": 0.15693873673677444, \"max\": 0.15693873673677444}}}\u001b[0m\n",
      "\u001b[34m#metrics {\"StartTime\": 1733347352.6367102, \"EndTime\": 1733347352.6367202, \"Dimensions\": {\"Algorithm\": \"Linear Learner\", \"Host\": \"algo-1\", \"Operation\": \"training\", \"epoch\": 1, \"model\": 15}, \"Metrics\": {\"train_absolute_loss_objective\": {\"sum\": 0.2393732700496912, \"count\": 1, \"min\": 0.2393732700496912, \"max\": 0.2393732700496912}}}\u001b[0m\n",
      "\u001b[34m#metrics {\"StartTime\": 1733347352.6367588, \"EndTime\": 1733347352.6367688, \"Dimensions\": {\"Algorithm\": \"Linear Learner\", \"Host\": \"algo-1\", \"Operation\": \"training\", \"epoch\": 1, \"model\": 16}, \"Metrics\": {\"train_absolute_loss_objective\": {\"sum\": 0.43807107001543044, \"count\": 1, \"min\": 0.43807107001543044, \"max\": 0.43807107001543044}}}\u001b[0m\n",
      "\u001b[34m#metrics {\"StartTime\": 1733347352.636803, \"EndTime\": 1733347352.6368127, \"Dimensions\": {\"Algorithm\": \"Linear Learner\", \"Host\": \"algo-1\", \"Operation\": \"training\", \"epoch\": 1, \"model\": 17}, \"Metrics\": {\"train_absolute_loss_objective\": {\"sum\": 0.4607848247885704, \"count\": 1, \"min\": 0.4607848247885704, \"max\": 0.4607848247885704}}}\u001b[0m\n",
      "\u001b[34m#metrics {\"StartTime\": 1733347352.6368449, \"EndTime\": 1733347352.6368551, \"Dimensions\": {\"Algorithm\": \"Linear Learner\", \"Host\": \"algo-1\", \"Operation\": \"training\", \"epoch\": 1, \"model\": 18}, \"Metrics\": {\"train_absolute_loss_objective\": {\"sum\": 0.4563194939494133, \"count\": 1, \"min\": 0.4563194939494133, \"max\": 0.4563194939494133}}}\u001b[0m\n",
      "\u001b[34m#metrics {\"StartTime\": 1733347352.6368866, \"EndTime\": 1733347352.6368964, \"Dimensions\": {\"Algorithm\": \"Linear Learner\", \"Host\": \"algo-1\", \"Operation\": \"training\", \"epoch\": 1, \"model\": 19}, \"Metrics\": {\"train_absolute_loss_objective\": {\"sum\": 0.44260919854044917, \"count\": 1, \"min\": 0.44260919854044917, \"max\": 0.44260919854044917}}}\u001b[0m\n",
      "\u001b[34m#metrics {\"StartTime\": 1733347352.6369376, \"EndTime\": 1733347352.6369479, \"Dimensions\": {\"Algorithm\": \"Linear Learner\", \"Host\": \"algo-1\", \"Operation\": \"training\", \"epoch\": 1, \"model\": 20}, \"Metrics\": {\"train_absolute_loss_objective\": {\"sum\": 0.4209242931008339, \"count\": 1, \"min\": 0.4209242931008339, \"max\": 0.4209242931008339}}}\u001b[0m\n",
      "\u001b[34m#metrics {\"StartTime\": 1733347352.6369824, \"EndTime\": 1733347352.6369917, \"Dimensions\": {\"Algorithm\": \"Linear Learner\", \"Host\": \"algo-1\", \"Operation\": \"training\", \"epoch\": 1, \"model\": 21}, \"Metrics\": {\"train_absolute_loss_objective\": {\"sum\": 0.4218263652920723, \"count\": 1, \"min\": 0.4218263652920723, \"max\": 0.4218263652920723}}}\u001b[0m\n",
      "\u001b[34m#metrics {\"StartTime\": 1733347352.6370234, \"EndTime\": 1733347352.637033, \"Dimensions\": {\"Algorithm\": \"Linear Learner\", \"Host\": \"algo-1\", \"Operation\": \"training\", \"epoch\": 1, \"model\": 22}, \"Metrics\": {\"train_absolute_loss_objective\": {\"sum\": 0.4024855075776577, \"count\": 1, \"min\": 0.4024855075776577, \"max\": 0.4024855075776577}}}\u001b[0m\n",
      "\u001b[34m#metrics {\"StartTime\": 1733347352.6370661, \"EndTime\": 1733347352.6370757, \"Dimensions\": {\"Algorithm\": \"Linear Learner\", \"Host\": \"algo-1\", \"Operation\": \"training\", \"epoch\": 1, \"model\": 23}, \"Metrics\": {\"train_absolute_loss_objective\": {\"sum\": 0.4396051988005638, \"count\": 1, \"min\": 0.4396051988005638, \"max\": 0.4396051988005638}}}\u001b[0m\n",
      "\u001b[34m#metrics {\"StartTime\": 1733347352.637112, \"EndTime\": 1733347352.6371214, \"Dimensions\": {\"Algorithm\": \"Linear Learner\", \"Host\": \"algo-1\", \"Operation\": \"training\", \"epoch\": 1, \"model\": 24}, \"Metrics\": {\"train_absolute_loss_objective\": {\"sum\": 0.7879670751094818, \"count\": 1, \"min\": 0.7879670751094818, \"max\": 0.7879670751094818}}}\u001b[0m\n",
      "\u001b[34m#metrics {\"StartTime\": 1733347352.6371517, \"EndTime\": 1733347352.6371608, \"Dimensions\": {\"Algorithm\": \"Linear Learner\", \"Host\": \"algo-1\", \"Operation\": \"training\", \"epoch\": 1, \"model\": 25}, \"Metrics\": {\"train_absolute_loss_objective\": {\"sum\": 0.7887568005919456, \"count\": 1, \"min\": 0.7887568005919456, \"max\": 0.7887568005919456}}}\u001b[0m\n",
      "\u001b[34m#metrics {\"StartTime\": 1733347352.6371975, \"EndTime\": 1733347352.6372063, \"Dimensions\": {\"Algorithm\": \"Linear Learner\", \"Host\": \"algo-1\", \"Operation\": \"training\", \"epoch\": 1, \"model\": 26}, \"Metrics\": {\"train_absolute_loss_objective\": {\"sum\": 0.7880153971910476, \"count\": 1, \"min\": 0.7880153971910476, \"max\": 0.7880153971910476}}}\u001b[0m\n",
      "\u001b[34m#metrics {\"StartTime\": 1733347352.6372452, \"EndTime\": 1733347352.6372547, \"Dimensions\": {\"Algorithm\": \"Linear Learner\", \"Host\": \"algo-1\", \"Operation\": \"training\", \"epoch\": 1, \"model\": 27}, \"Metrics\": {\"train_absolute_loss_objective\": {\"sum\": 0.7887432971596717, \"count\": 1, \"min\": 0.7887432971596717, \"max\": 0.7887432971596717}}}\u001b[0m\n",
      "\u001b[34m#metrics {\"StartTime\": 1733347352.6372879, \"EndTime\": 1733347352.6372979, \"Dimensions\": {\"Algorithm\": \"Linear Learner\", \"Host\": \"algo-1\", \"Operation\": \"training\", \"epoch\": 1, \"model\": 28}, \"Metrics\": {\"train_absolute_loss_objective\": {\"sum\": 0.8627408936619758, \"count\": 1, \"min\": 0.8627408936619758, \"max\": 0.8627408936619758}}}\u001b[0m\n",
      "\u001b[34m#metrics {\"StartTime\": 1733347352.637328, \"EndTime\": 1733347352.6373367, \"Dimensions\": {\"Algorithm\": \"Linear Learner\", \"Host\": \"algo-1\", \"Operation\": \"training\", \"epoch\": 1, \"model\": 29}, \"Metrics\": {\"train_absolute_loss_objective\": {\"sum\": 0.8696610215306282, \"count\": 1, \"min\": 0.8696610215306282, \"max\": 0.8696610215306282}}}\u001b[0m\n",
      "\u001b[34m#metrics {\"StartTime\": 1733347352.6373746, \"EndTime\": 1733347352.6373847, \"Dimensions\": {\"Algorithm\": \"Linear Learner\", \"Host\": \"algo-1\", \"Operation\": \"training\", \"epoch\": 1, \"model\": 30}, \"Metrics\": {\"train_absolute_loss_objective\": {\"sum\": 0.8677894148230553, \"count\": 1, \"min\": 0.8677894148230553, \"max\": 0.8677894148230553}}}\u001b[0m\n",
      "\u001b[34m#metrics {\"StartTime\": 1733347352.6374187, \"EndTime\": 1733347352.6374278, \"Dimensions\": {\"Algorithm\": \"Linear Learner\", \"Host\": \"algo-1\", \"Operation\": \"training\", \"epoch\": 1, \"model\": 31}, \"Metrics\": {\"train_absolute_loss_objective\": {\"sum\": 0.8618289652466774, \"count\": 1, \"min\": 0.8618289652466774, \"max\": 0.8618289652466774}}}\u001b[0m\n",
      "\u001b[34m[12/04/2024 21:22:32 INFO 139730080646976] #quality_metric: host=algo-1, epoch=1, train absolute_loss_objective <loss>=0.397561923712492\u001b[0m\n",
      "\u001b[34m[12/04/2024 21:22:32 INFO 139730080646976] #early_stopping_criteria_metric: host=algo-1, epoch=1, criteria=absolute_loss_objective, value=0.15193733934313058\u001b[0m\n",
      "\u001b[34m[12/04/2024 21:22:32 INFO 139730080646976] Epoch 1: Loss improved. Updating best model\u001b[0m\n",
      "\u001b[34m[12/04/2024 21:22:32 INFO 139730080646976] Saving model for epoch: 1\u001b[0m\n",
      "\u001b[34m[12/04/2024 21:22:32 INFO 139730080646976] Saved checkpoint to \"/tmp/tmpehf1ato_/mx-mod-0000.params\"\u001b[0m\n",
      "\u001b[34m[12/04/2024 21:22:32 INFO 139730080646976] #progress_metric: host=algo-1, completed 20.0 % of epochs\u001b[0m\n",
      "\u001b[34m#metrics {\"StartTime\": 1733347351.4475152, \"EndTime\": 1733347352.646147, \"Dimensions\": {\"Algorithm\": \"Linear Learner\", \"Host\": \"algo-1\", \"Operation\": \"training\", \"epoch\": 1, \"Meta\": \"training_data_iter\"}, \"Metrics\": {\"Total Records Seen\": {\"sum\": 1205.0, \"count\": 1, \"min\": 1205, \"max\": 1205}, \"Total Batches Seen\": {\"sum\": 241.0, \"count\": 1, \"min\": 241, \"max\": 241}, \"Max Records Seen Between Resets\": {\"sum\": 400.0, \"count\": 1, \"min\": 400, \"max\": 400}, \"Max Batches Seen Between Resets\": {\"sum\": 80.0, \"count\": 1, \"min\": 80, \"max\": 80}, \"Reset Count\": {\"sum\": 4.0, \"count\": 1, \"min\": 4, \"max\": 4}, \"Number of Records Since Last Reset\": {\"sum\": 400.0, \"count\": 1, \"min\": 400, \"max\": 400}, \"Number of Batches Since Last Reset\": {\"sum\": 80.0, \"count\": 1, \"min\": 80, \"max\": 80}}}\u001b[0m\n",
      "\u001b[34m[12/04/2024 21:22:32 INFO 139730080646976] #throughput_metric: host=algo-1, train throughput=333.67766043201124 records/second\u001b[0m\n",
      "\u001b[34m[2024-12-04 21:22:33.865] [tensorio] [info] epoch_stats={\"data_pipeline\": \"/opt/ml/input/data/train\", \"epoch\": 8, \"duration\": 1218, \"num_examples\": 80, \"num_bytes\": 19200}\u001b[0m\n",
      "\u001b[34m#metrics {\"StartTime\": 1733347353.8653193, \"EndTime\": 1733347353.8653836, \"Dimensions\": {\"Algorithm\": \"Linear Learner\", \"Host\": \"algo-1\", \"Operation\": \"training\", \"epoch\": 2, \"model\": 0}, \"Metrics\": {\"train_absolute_loss_objective\": {\"sum\": 0.1992308037728071, \"count\": 1, \"min\": 0.1992308037728071, \"max\": 0.1992308037728071}}}\u001b[0m\n",
      "\u001b[34m#metrics {\"StartTime\": 1733347353.8654547, \"EndTime\": 1733347353.865465, \"Dimensions\": {\"Algorithm\": \"Linear Learner\", \"Host\": \"algo-1\", \"Operation\": \"training\", \"epoch\": 2, \"model\": 1}, \"Metrics\": {\"train_absolute_loss_objective\": {\"sum\": 0.1876854982227087, \"count\": 1, \"min\": 0.1876854982227087, \"max\": 0.1876854982227087}}}\u001b[0m\n",
      "\u001b[34m#metrics {\"StartTime\": 1733347353.8654919, \"EndTime\": 1733347353.865499, \"Dimensions\": {\"Algorithm\": \"Linear Learner\", \"Host\": \"algo-1\", \"Operation\": \"training\", \"epoch\": 2, \"model\": 2}, \"Metrics\": {\"train_absolute_loss_objective\": {\"sum\": 0.20123085729777812, \"count\": 1, \"min\": 0.20123085729777812, \"max\": 0.20123085729777812}}}\u001b[0m\n",
      "\u001b[34m#metrics {\"StartTime\": 1733347353.8655243, \"EndTime\": 1733347353.8655307, \"Dimensions\": {\"Algorithm\": \"Linear Learner\", \"Host\": \"algo-1\", \"Operation\": \"training\", \"epoch\": 2, \"model\": 3}, \"Metrics\": {\"train_absolute_loss_objective\": {\"sum\": 0.18710272796452046, \"count\": 1, \"min\": 0.18710272796452046, \"max\": 0.18710272796452046}}}\u001b[0m\n",
      "\u001b[34m#metrics {\"StartTime\": 1733347353.8655558, \"EndTime\": 1733347353.865562, \"Dimensions\": {\"Algorithm\": \"Linear Learner\", \"Host\": \"algo-1\", \"Operation\": \"training\", \"epoch\": 2, \"model\": 4}, \"Metrics\": {\"train_absolute_loss_objective\": {\"sum\": 0.22480633355677127, \"count\": 1, \"min\": 0.22480633355677127, \"max\": 0.22480633355677127}}}\u001b[0m\n",
      "\u001b[34m#metrics {\"StartTime\": 1733347353.8655837, \"EndTime\": 1733347353.865609, \"Dimensions\": {\"Algorithm\": \"Linear Learner\", \"Host\": \"algo-1\", \"Operation\": \"training\", \"epoch\": 2, \"model\": 5}, \"Metrics\": {\"train_absolute_loss_objective\": {\"sum\": 0.1956537676602602, \"count\": 1, \"min\": 0.1956537676602602, \"max\": 0.1956537676602602}}}\u001b[0m\n",
      "\u001b[34m#metrics {\"StartTime\": 1733347353.8656332, \"EndTime\": 1733347353.8656402, \"Dimensions\": {\"Algorithm\": \"Linear Learner\", \"Host\": \"algo-1\", \"Operation\": \"training\", \"epoch\": 2, \"model\": 6}, \"Metrics\": {\"train_absolute_loss_objective\": {\"sum\": 0.18761954717338086, \"count\": 1, \"min\": 0.18761954717338086, \"max\": 0.18761954717338086}}}\u001b[0m\n",
      "\u001b[34m#metrics {\"StartTime\": 1733347353.865668, \"EndTime\": 1733347353.8656745, \"Dimensions\": {\"Algorithm\": \"Linear Learner\", \"Host\": \"algo-1\", \"Operation\": \"training\", \"epoch\": 2, \"model\": 7}, \"Metrics\": {\"train_absolute_loss_objective\": {\"sum\": 0.14589987218379974, \"count\": 1, \"min\": 0.14589987218379974, \"max\": 0.14589987218379974}}}\u001b[0m\n",
      "\u001b[34m#metrics {\"StartTime\": 1733347353.8656957, \"EndTime\": 1733347353.8657022, \"Dimensions\": {\"Algorithm\": \"Linear Learner\", \"Host\": \"algo-1\", \"Operation\": \"training\", \"epoch\": 2, \"model\": 8}, \"Metrics\": {\"train_absolute_loss_objective\": {\"sum\": 0.233410954400897, \"count\": 1, \"min\": 0.233410954400897, \"max\": 0.233410954400897}}}\u001b[0m\n",
      "\u001b[34m#metrics {\"StartTime\": 1733347353.8657262, \"EndTime\": 1733347353.8657324, \"Dimensions\": {\"Algorithm\": \"Linear Learner\", \"Host\": \"algo-1\", \"Operation\": \"training\", \"epoch\": 2, \"model\": 9}, \"Metrics\": {\"train_absolute_loss_objective\": {\"sum\": 0.1695592499151826, \"count\": 1, \"min\": 0.1695592499151826, \"max\": 0.1695592499151826}}}\u001b[0m\n",
      "\u001b[34m#metrics {\"StartTime\": 1733347353.865754, \"EndTime\": 1733347353.86576, \"Dimensions\": {\"Algorithm\": \"Linear Learner\", \"Host\": \"algo-1\", \"Operation\": \"training\", \"epoch\": 2, \"model\": 10}, \"Metrics\": {\"train_absolute_loss_objective\": {\"sum\": 0.2001673375815153, \"count\": 1, \"min\": 0.2001673375815153, \"max\": 0.2001673375815153}}}\u001b[0m\n",
      "\u001b[34m#metrics {\"StartTime\": 1733347353.8657835, \"EndTime\": 1733347353.8657897, \"Dimensions\": {\"Algorithm\": \"Linear Learner\", \"Host\": \"algo-1\", \"Operation\": \"training\", \"epoch\": 2, \"model\": 11}, \"Metrics\": {\"train_absolute_loss_objective\": {\"sum\": 0.16597582191228866, \"count\": 1, \"min\": 0.16597582191228866, \"max\": 0.16597582191228866}}}\u001b[0m\n",
      "\u001b[34m#metrics {\"StartTime\": 1733347353.8658109, \"EndTime\": 1733347353.8658175, \"Dimensions\": {\"Algorithm\": \"Linear Learner\", \"Host\": \"algo-1\", \"Operation\": \"training\", \"epoch\": 2, \"model\": 12}, \"Metrics\": {\"train_absolute_loss_objective\": {\"sum\": 0.16131816625595094, \"count\": 1, \"min\": 0.16131816625595094, \"max\": 0.16131816625595094}}}\u001b[0m\n",
      "\u001b[34m#metrics {\"StartTime\": 1733347353.8658388, \"EndTime\": 1733347353.865845, \"Dimensions\": {\"Algorithm\": \"Linear Learner\", \"Host\": \"algo-1\", \"Operation\": \"training\", \"epoch\": 2, \"model\": 13}, \"Metrics\": {\"train_absolute_loss_objective\": {\"sum\": 0.14678243979811667, \"count\": 1, \"min\": 0.14678243979811667, \"max\": 0.14678243979811667}}}\u001b[0m\n",
      "\u001b[34m#metrics {\"StartTime\": 1733347353.865872, \"EndTime\": 1733347353.8658783, \"Dimensions\": {\"Algorithm\": \"Linear Learner\", \"Host\": \"algo-1\", \"Operation\": \"training\", \"epoch\": 2, \"model\": 14}, \"Metrics\": {\"train_absolute_loss_objective\": {\"sum\": 0.1570483484119177, \"count\": 1, \"min\": 0.1570483484119177, \"max\": 0.1570483484119177}}}\u001b[0m\n",
      "\u001b[34m#metrics {\"StartTime\": 1733347353.86592, \"EndTime\": 1733347353.8659267, \"Dimensions\": {\"Algorithm\": \"Linear Learner\", \"Host\": \"algo-1\", \"Operation\": \"training\", \"epoch\": 2, \"model\": 15}, \"Metrics\": {\"train_absolute_loss_objective\": {\"sum\": 0.18741593301296233, \"count\": 1, \"min\": 0.18741593301296233, \"max\": 0.18741593301296233}}}\u001b[0m\n",
      "\u001b[34m#metrics {\"StartTime\": 1733347353.8659475, \"EndTime\": 1733347353.8659527, \"Dimensions\": {\"Algorithm\": \"Linear Learner\", \"Host\": \"algo-1\", \"Operation\": \"training\", \"epoch\": 2, \"model\": 16}, \"Metrics\": {\"train_absolute_loss_objective\": {\"sum\": 0.33239629700779916, \"count\": 1, \"min\": 0.33239629700779916, \"max\": 0.33239629700779916}}}\u001b[0m\n",
      "\u001b[34m#metrics {\"StartTime\": 1733347353.8659728, \"EndTime\": 1733347353.8659778, \"Dimensions\": {\"Algorithm\": \"Linear Learner\", \"Host\": \"algo-1\", \"Operation\": \"training\", \"epoch\": 2, \"model\": 17}, \"Metrics\": {\"train_absolute_loss_objective\": {\"sum\": 0.33844433292746545, \"count\": 1, \"min\": 0.33844433292746545, \"max\": 0.33844433292746545}}}\u001b[0m\n",
      "\u001b[34m#metrics {\"StartTime\": 1733347353.866, \"EndTime\": 1733347353.8660052, \"Dimensions\": {\"Algorithm\": \"Linear Learner\", \"Host\": \"algo-1\", \"Operation\": \"training\", \"epoch\": 2, \"model\": 18}, \"Metrics\": {\"train_absolute_loss_objective\": {\"sum\": 0.3428024610877037, \"count\": 1, \"min\": 0.3428024610877037, \"max\": 0.3428024610877037}}}\u001b[0m\n",
      "\u001b[34m#metrics {\"StartTime\": 1733347353.8660274, \"EndTime\": 1733347353.8660324, \"Dimensions\": {\"Algorithm\": \"Linear Learner\", \"Host\": \"algo-1\", \"Operation\": \"training\", \"epoch\": 2, \"model\": 19}, \"Metrics\": {\"train_absolute_loss_objective\": {\"sum\": 0.3269525371491909, \"count\": 1, \"min\": 0.3269525371491909, \"max\": 0.3269525371491909}}}\u001b[0m\n",
      "\u001b[34m#metrics {\"StartTime\": 1733347353.866054, \"EndTime\": 1733347353.8660595, \"Dimensions\": {\"Algorithm\": \"Linear Learner\", \"Host\": \"algo-1\", \"Operation\": \"training\", \"epoch\": 2, \"model\": 20}, \"Metrics\": {\"train_absolute_loss_objective\": {\"sum\": 0.37553764402866363, \"count\": 1, \"min\": 0.37553764402866363, \"max\": 0.37553764402866363}}}\u001b[0m\n",
      "\u001b[34m#metrics {\"StartTime\": 1733347353.8660772, \"EndTime\": 1733347353.866082, \"Dimensions\": {\"Algorithm\": \"Linear Learner\", \"Host\": \"algo-1\", \"Operation\": \"training\", \"epoch\": 2, \"model\": 21}, \"Metrics\": {\"train_absolute_loss_objective\": {\"sum\": 0.4369356270134449, \"count\": 1, \"min\": 0.4369356270134449, \"max\": 0.4369356270134449}}}\u001b[0m\n",
      "\u001b[34m#metrics {\"StartTime\": 1733347353.8661048, \"EndTime\": 1733347353.8661122, \"Dimensions\": {\"Algorithm\": \"Linear Learner\", \"Host\": \"algo-1\", \"Operation\": \"training\", \"epoch\": 2, \"model\": 22}, \"Metrics\": {\"train_absolute_loss_objective\": {\"sum\": 0.399895688444376, \"count\": 1, \"min\": 0.399895688444376, \"max\": 0.399895688444376}}}\u001b[0m\n",
      "\u001b[34m#metrics {\"StartTime\": 1733347353.8661392, \"EndTime\": 1733347353.8661456, \"Dimensions\": {\"Algorithm\": \"Linear Learner\", \"Host\": \"algo-1\", \"Operation\": \"training\", \"epoch\": 2, \"model\": 23}, \"Metrics\": {\"train_absolute_loss_objective\": {\"sum\": 0.4534365858137608, \"count\": 1, \"min\": 0.4534365858137608, \"max\": 0.4534365858137608}}}\u001b[0m\n",
      "\u001b[34m#metrics {\"StartTime\": 1733347353.8661714, \"EndTime\": 1733347353.8661776, \"Dimensions\": {\"Algorithm\": \"Linear Learner\", \"Host\": \"algo-1\", \"Operation\": \"training\", \"epoch\": 2, \"model\": 24}, \"Metrics\": {\"train_absolute_loss_objective\": {\"sum\": 0.7880286744236946, \"count\": 1, \"min\": 0.7880286744236946, \"max\": 0.7880286744236946}}}\u001b[0m\n",
      "\u001b[34m#metrics {\"StartTime\": 1733347353.8662014, \"EndTime\": 1733347353.8662071, \"Dimensions\": {\"Algorithm\": \"Linear Learner\", \"Host\": \"algo-1\", \"Operation\": \"training\", \"epoch\": 2, \"model\": 25}, \"Metrics\": {\"train_absolute_loss_objective\": {\"sum\": 0.7887730485200882, \"count\": 1, \"min\": 0.7887730485200882, \"max\": 0.7887730485200882}}}\u001b[0m\n",
      "\u001b[34m#metrics {\"StartTime\": 1733347353.8662336, \"EndTime\": 1733347353.86624, \"Dimensions\": {\"Algorithm\": \"Linear Learner\", \"Host\": \"algo-1\", \"Operation\": \"training\", \"epoch\": 2, \"model\": 26}, \"Metrics\": {\"train_absolute_loss_objective\": {\"sum\": 0.7880136641860008, \"count\": 1, \"min\": 0.7880136641860008, \"max\": 0.7880136641860008}}}\u001b[0m\n",
      "\u001b[34m#metrics {\"StartTime\": 1733347353.866266, \"EndTime\": 1733347353.8662724, \"Dimensions\": {\"Algorithm\": \"Linear Learner\", \"Host\": \"algo-1\", \"Operation\": \"training\", \"epoch\": 2, \"model\": 27}, \"Metrics\": {\"train_absolute_loss_objective\": {\"sum\": 0.7887955585122108, \"count\": 1, \"min\": 0.7887955585122108, \"max\": 0.7887955585122108}}}\u001b[0m\n",
      "\u001b[34m#metrics {\"StartTime\": 1733347353.8662958, \"EndTime\": 1733347353.866302, \"Dimensions\": {\"Algorithm\": \"Linear Learner\", \"Host\": \"algo-1\", \"Operation\": \"training\", \"epoch\": 2, \"model\": 28}, \"Metrics\": {\"train_absolute_loss_objective\": {\"sum\": 0.831062397658825, \"count\": 1, \"min\": 0.831062397658825, \"max\": 0.831062397658825}}}\u001b[0m\n",
      "\u001b[34m#metrics {\"StartTime\": 1733347353.866323, \"EndTime\": 1733347353.8663287, \"Dimensions\": {\"Algorithm\": \"Linear Learner\", \"Host\": \"algo-1\", \"Operation\": \"training\", \"epoch\": 2, \"model\": 29}, \"Metrics\": {\"train_absolute_loss_objective\": {\"sum\": 0.8691678702831268, \"count\": 1, \"min\": 0.8691678702831268, \"max\": 0.8691678702831268}}}\u001b[0m\n",
      "\u001b[34m#metrics {\"StartTime\": 1733347353.8663554, \"EndTime\": 1733347353.8663616, \"Dimensions\": {\"Algorithm\": \"Linear Learner\", \"Host\": \"algo-1\", \"Operation\": \"training\", \"epoch\": 2, \"model\": 30}, \"Metrics\": {\"train_absolute_loss_objective\": {\"sum\": 0.8286697843670845, \"count\": 1, \"min\": 0.8286697843670845, \"max\": 0.8286697843670845}}}\u001b[0m\n",
      "\u001b[34m#metrics {\"StartTime\": 1733347353.8663855, \"EndTime\": 1733347353.8663912, \"Dimensions\": {\"Algorithm\": \"Linear Learner\", \"Host\": \"algo-1\", \"Operation\": \"training\", \"epoch\": 2, \"model\": 31}, \"Metrics\": {\"train_absolute_loss_objective\": {\"sum\": 0.8735895845293998, \"count\": 1, \"min\": 0.8735895845293998, \"max\": 0.8735895845293998}}}\u001b[0m\n",
      "\u001b[34m[12/04/2024 21:22:33 INFO 139730080646976] #quality_metric: host=algo-1, epoch=2, train absolute_loss_objective <loss>=0.1992308037728071\u001b[0m\n",
      "\u001b[34m[12/04/2024 21:22:33 INFO 139730080646976] #early_stopping_criteria_metric: host=algo-1, epoch=2, criteria=absolute_loss_objective, value=0.14589987218379974\u001b[0m\n",
      "\u001b[34m[12/04/2024 21:22:33 INFO 139730080646976] Epoch 2: Loss improved. Updating best model\u001b[0m\n",
      "\u001b[34m[12/04/2024 21:22:33 INFO 139730080646976] Saving model for epoch: 2\u001b[0m\n",
      "\u001b[34m[12/04/2024 21:22:33 INFO 139730080646976] Saved checkpoint to \"/tmp/tmprw_m2ouc/mx-mod-0000.params\"\u001b[0m\n",
      "\u001b[34m[12/04/2024 21:22:33 INFO 139730080646976] #progress_metric: host=algo-1, completed 30.0 % of epochs\u001b[0m\n",
      "\u001b[34m#metrics {\"StartTime\": 1733347352.6464272, \"EndTime\": 1733347353.8750706, \"Dimensions\": {\"Algorithm\": \"Linear Learner\", \"Host\": \"algo-1\", \"Operation\": \"training\", \"epoch\": 2, \"Meta\": \"training_data_iter\"}, \"Metrics\": {\"Total Records Seen\": {\"sum\": 1605.0, \"count\": 1, \"min\": 1605, \"max\": 1605}, \"Total Batches Seen\": {\"sum\": 321.0, \"count\": 1, \"min\": 321, \"max\": 321}, \"Max Records Seen Between Resets\": {\"sum\": 400.0, \"count\": 1, \"min\": 400, \"max\": 400}, \"Max Batches Seen Between Resets\": {\"sum\": 80.0, \"count\": 1, \"min\": 80, \"max\": 80}, \"Reset Count\": {\"sum\": 5.0, \"count\": 1, \"min\": 5, \"max\": 5}, \"Number of Records Since Last Reset\": {\"sum\": 400.0, \"count\": 1, \"min\": 400, \"max\": 400}, \"Number of Batches Since Last Reset\": {\"sum\": 80.0, \"count\": 1, \"min\": 80, \"max\": 80}}}\u001b[0m\n",
      "\u001b[34m[12/04/2024 21:22:33 INFO 139730080646976] #throughput_metric: host=algo-1, train throughput=325.52713392930076 records/second\u001b[0m\n",
      "\u001b[34m[2024-12-04 21:22:35.221] [tensorio] [info] epoch_stats={\"data_pipeline\": \"/opt/ml/input/data/train\", \"epoch\": 10, \"duration\": 1344, \"num_examples\": 80, \"num_bytes\": 19200}\u001b[0m\n",
      "\u001b[34m#metrics {\"StartTime\": 1733347355.2211287, \"EndTime\": 1733347355.2211938, \"Dimensions\": {\"Algorithm\": \"Linear Learner\", \"Host\": \"algo-1\", \"Operation\": \"training\", \"epoch\": 3, \"model\": 0}, \"Metrics\": {\"train_absolute_loss_objective\": {\"sum\": 0.1247192519530654, \"count\": 1, \"min\": 0.1247192519530654, \"max\": 0.1247192519530654}}}\u001b[0m\n",
      "\u001b[34m#metrics {\"StartTime\": 1733347355.221266, \"EndTime\": 1733347355.221276, \"Dimensions\": {\"Algorithm\": \"Linear Learner\", \"Host\": \"algo-1\", \"Operation\": \"training\", \"epoch\": 3, \"model\": 1}, \"Metrics\": {\"train_absolute_loss_objective\": {\"sum\": 0.122991908416152, \"count\": 1, \"min\": 0.122991908416152, \"max\": 0.122991908416152}}}\u001b[0m\n",
      "\u001b[34m#metrics {\"StartTime\": 1733347355.2213023, \"EndTime\": 1733347355.2213097, \"Dimensions\": {\"Algorithm\": \"Linear Learner\", \"Host\": \"algo-1\", \"Operation\": \"training\", \"epoch\": 3, \"model\": 2}, \"Metrics\": {\"train_absolute_loss_objective\": {\"sum\": 0.1254803816229105, \"count\": 1, \"min\": 0.1254803816229105, \"max\": 0.1254803816229105}}}\u001b[0m\n",
      "\u001b[34m#metrics {\"StartTime\": 1733347355.2213335, \"EndTime\": 1733347355.2213402, \"Dimensions\": {\"Algorithm\": \"Linear Learner\", \"Host\": \"algo-1\", \"Operation\": \"training\", \"epoch\": 3, \"model\": 3}, \"Metrics\": {\"train_absolute_loss_objective\": {\"sum\": 0.12297638110816479, \"count\": 1, \"min\": 0.12297638110816479, \"max\": 0.12297638110816479}}}\u001b[0m\n",
      "\u001b[34m#metrics {\"StartTime\": 1733347355.2213666, \"EndTime\": 1733347355.2213726, \"Dimensions\": {\"Algorithm\": \"Linear Learner\", \"Host\": \"algo-1\", \"Operation\": \"training\", \"epoch\": 3, \"model\": 4}, \"Metrics\": {\"train_absolute_loss_objective\": {\"sum\": 0.15319882035255433, \"count\": 1, \"min\": 0.15319882035255433, \"max\": 0.15319882035255433}}}\u001b[0m\n",
      "\u001b[34m#metrics {\"StartTime\": 1733347355.2213953, \"EndTime\": 1733347355.2214017, \"Dimensions\": {\"Algorithm\": \"Linear Learner\", \"Host\": \"algo-1\", \"Operation\": \"training\", \"epoch\": 3, \"model\": 5}, \"Metrics\": {\"train_absolute_loss_objective\": {\"sum\": 0.19347434341907502, \"count\": 1, \"min\": 0.19347434341907502, \"max\": 0.19347434341907502}}}\u001b[0m\n",
      "\u001b[34m#metrics {\"StartTime\": 1733347355.2214253, \"EndTime\": 1733347355.2214317, \"Dimensions\": {\"Algorithm\": \"Linear Learner\", \"Host\": \"algo-1\", \"Operation\": \"training\", \"epoch\": 3, \"model\": 6}, \"Metrics\": {\"train_absolute_loss_objective\": {\"sum\": 0.16271166644990445, \"count\": 1, \"min\": 0.16271166644990445, \"max\": 0.16271166644990445}}}\u001b[0m\n",
      "\u001b[34m#metrics {\"StartTime\": 1733347355.221453, \"EndTime\": 1733347355.2214594, \"Dimensions\": {\"Algorithm\": \"Linear Learner\", \"Host\": \"algo-1\", \"Operation\": \"training\", \"epoch\": 3, \"model\": 7}, \"Metrics\": {\"train_absolute_loss_objective\": {\"sum\": 0.15035530019551516, \"count\": 1, \"min\": 0.15035530019551516, \"max\": 0.15035530019551516}}}\u001b[0m\n",
      "\u001b[34m#metrics {\"StartTime\": 1733347355.2214832, \"EndTime\": 1733347355.2214897, \"Dimensions\": {\"Algorithm\": \"Linear Learner\", \"Host\": \"algo-1\", \"Operation\": \"training\", \"epoch\": 3, \"model\": 8}, \"Metrics\": {\"train_absolute_loss_objective\": {\"sum\": 0.13230025880038737, \"count\": 1, \"min\": 0.13230025880038737, \"max\": 0.13230025880038737}}}\u001b[0m\n",
      "\u001b[34m#metrics {\"StartTime\": 1733347355.2215135, \"EndTime\": 1733347355.2215197, \"Dimensions\": {\"Algorithm\": \"Linear Learner\", \"Host\": \"algo-1\", \"Operation\": \"training\", \"epoch\": 3, \"model\": 9}, \"Metrics\": {\"train_absolute_loss_objective\": {\"sum\": 0.12120407175272703, \"count\": 1, \"min\": 0.12120407175272703, \"max\": 0.12120407175272703}}}\u001b[0m\n",
      "\u001b[34m#metrics {\"StartTime\": 1733347355.2215416, \"EndTime\": 1733347355.2215478, \"Dimensions\": {\"Algorithm\": \"Linear Learner\", \"Host\": \"algo-1\", \"Operation\": \"training\", \"epoch\": 3, \"model\": 10}, \"Metrics\": {\"train_absolute_loss_objective\": {\"sum\": 0.1254230148345232, \"count\": 1, \"min\": 0.1254230148345232, \"max\": 0.1254230148345232}}}\u001b[0m\n",
      "\u001b[34m#metrics {\"StartTime\": 1733347355.221569, \"EndTime\": 1733347355.2215753, \"Dimensions\": {\"Algorithm\": \"Linear Learner\", \"Host\": \"algo-1\", \"Operation\": \"training\", \"epoch\": 3, \"model\": 11}, \"Metrics\": {\"train_absolute_loss_objective\": {\"sum\": 0.12008743867278099, \"count\": 1, \"min\": 0.12008743867278099, \"max\": 0.12008743867278099}}}\u001b[0m\n",
      "\u001b[34m#metrics {\"StartTime\": 1733347355.2216175, \"EndTime\": 1733347355.2216249, \"Dimensions\": {\"Algorithm\": \"Linear Learner\", \"Host\": \"algo-1\", \"Operation\": \"training\", \"epoch\": 3, \"model\": 12}, \"Metrics\": {\"train_absolute_loss_objective\": {\"sum\": 0.1651002801209688, \"count\": 1, \"min\": 0.1651002801209688, \"max\": 0.1651002801209688}}}\u001b[0m\n",
      "\u001b[34m#metrics {\"StartTime\": 1733347355.2216496, \"EndTime\": 1733347355.2216558, \"Dimensions\": {\"Algorithm\": \"Linear Learner\", \"Host\": \"algo-1\", \"Operation\": \"training\", \"epoch\": 3, \"model\": 13}, \"Metrics\": {\"train_absolute_loss_objective\": {\"sum\": 0.1850793857872486, \"count\": 1, \"min\": 0.1850793857872486, \"max\": 0.1850793857872486}}}\u001b[0m\n",
      "\u001b[34m#metrics {\"StartTime\": 1733347355.2216768, \"EndTime\": 1733347355.2216833, \"Dimensions\": {\"Algorithm\": \"Linear Learner\", \"Host\": \"algo-1\", \"Operation\": \"training\", \"epoch\": 3, \"model\": 14}, \"Metrics\": {\"train_absolute_loss_objective\": {\"sum\": 0.15994097240269184, \"count\": 1, \"min\": 0.15994097240269184, \"max\": 0.15994097240269184}}}\u001b[0m\n",
      "\u001b[34m#metrics {\"StartTime\": 1733347355.2217076, \"EndTime\": 1733347355.221714, \"Dimensions\": {\"Algorithm\": \"Linear Learner\", \"Host\": \"algo-1\", \"Operation\": \"training\", \"epoch\": 3, \"model\": 15}, \"Metrics\": {\"train_absolute_loss_objective\": {\"sum\": 0.1712414063513279, \"count\": 1, \"min\": 0.1712414063513279, \"max\": 0.1712414063513279}}}\u001b[0m\n",
      "\u001b[34m#metrics {\"StartTime\": 1733347355.2217371, \"EndTime\": 1733347355.2217436, \"Dimensions\": {\"Algorithm\": \"Linear Learner\", \"Host\": \"algo-1\", \"Operation\": \"training\", \"epoch\": 3, \"model\": 16}, \"Metrics\": {\"train_absolute_loss_objective\": {\"sum\": 0.28774401783943176, \"count\": 1, \"min\": 0.28774401783943176, \"max\": 0.28774401783943176}}}\u001b[0m\n",
      "\u001b[34m#metrics {\"StartTime\": 1733347355.2217646, \"EndTime\": 1733347355.2217708, \"Dimensions\": {\"Algorithm\": \"Linear Learner\", \"Host\": \"algo-1\", \"Operation\": \"training\", \"epoch\": 3, \"model\": 17}, \"Metrics\": {\"train_absolute_loss_objective\": {\"sum\": 0.2886184868216515, \"count\": 1, \"min\": 0.2886184868216515, \"max\": 0.2886184868216515}}}\u001b[0m\n",
      "\u001b[34m#metrics {\"StartTime\": 1733347355.2217915, \"EndTime\": 1733347355.2217977, \"Dimensions\": {\"Algorithm\": \"Linear Learner\", \"Host\": \"algo-1\", \"Operation\": \"training\", \"epoch\": 3, \"model\": 18}, \"Metrics\": {\"train_absolute_loss_objective\": {\"sum\": 0.2914872254431248, \"count\": 1, \"min\": 0.2914872254431248, \"max\": 0.2914872254431248}}}\u001b[0m\n",
      "\u001b[34m#metrics {\"StartTime\": 1733347355.2218182, \"EndTime\": 1733347355.2218242, \"Dimensions\": {\"Algorithm\": \"Linear Learner\", \"Host\": \"algo-1\", \"Operation\": \"training\", \"epoch\": 3, \"model\": 19}, \"Metrics\": {\"train_absolute_loss_objective\": {\"sum\": 0.284272820353508, \"count\": 1, \"min\": 0.284272820353508, \"max\": 0.284272820353508}}}\u001b[0m\n",
      "\u001b[34m#metrics {\"StartTime\": 1733347355.221845, \"EndTime\": 1733347355.221851, \"Dimensions\": {\"Algorithm\": \"Linear Learner\", \"Host\": \"algo-1\", \"Operation\": \"training\", \"epoch\": 3, \"model\": 20}, \"Metrics\": {\"train_absolute_loss_objective\": {\"sum\": 0.39601177655160424, \"count\": 1, \"min\": 0.39601177655160424, \"max\": 0.39601177655160424}}}\u001b[0m\n",
      "\u001b[34m#metrics {\"StartTime\": 1733347355.2218745, \"EndTime\": 1733347355.2218807, \"Dimensions\": {\"Algorithm\": \"Linear Learner\", \"Host\": \"algo-1\", \"Operation\": \"training\", \"epoch\": 3, \"model\": 21}, \"Metrics\": {\"train_absolute_loss_objective\": {\"sum\": 0.41888844944536685, \"count\": 1, \"min\": 0.41888844944536685, \"max\": 0.41888844944536685}}}\u001b[0m\n",
      "\u001b[34m#metrics {\"StartTime\": 1733347355.221904, \"EndTime\": 1733347355.22191, \"Dimensions\": {\"Algorithm\": \"Linear Learner\", \"Host\": \"algo-1\", \"Operation\": \"training\", \"epoch\": 3, \"model\": 22}, \"Metrics\": {\"train_absolute_loss_objective\": {\"sum\": 0.3533422727882862, \"count\": 1, \"min\": 0.3533422727882862, \"max\": 0.3533422727882862}}}\u001b[0m\n",
      "\u001b[34m#metrics {\"StartTime\": 1733347355.2219312, \"EndTime\": 1733347355.2219372, \"Dimensions\": {\"Algorithm\": \"Linear Learner\", \"Host\": \"algo-1\", \"Operation\": \"training\", \"epoch\": 3, \"model\": 23}, \"Metrics\": {\"train_absolute_loss_objective\": {\"sum\": 0.43707153379917146, \"count\": 1, \"min\": 0.43707153379917146, \"max\": 0.43707153379917146}}}\u001b[0m\n",
      "\u001b[34m#metrics {\"StartTime\": 1733347355.2219603, \"EndTime\": 1733347355.2219665, \"Dimensions\": {\"Algorithm\": \"Linear Learner\", \"Host\": \"algo-1\", \"Operation\": \"training\", \"epoch\": 3, \"model\": 24}, \"Metrics\": {\"train_absolute_loss_objective\": {\"sum\": 0.78746436804533, \"count\": 1, \"min\": 0.78746436804533, \"max\": 0.78746436804533}}}\u001b[0m\n",
      "\u001b[34m#metrics {\"StartTime\": 1733347355.2219896, \"EndTime\": 1733347355.2219958, \"Dimensions\": {\"Algorithm\": \"Linear Learner\", \"Host\": \"algo-1\", \"Operation\": \"training\", \"epoch\": 3, \"model\": 25}, \"Metrics\": {\"train_absolute_loss_objective\": {\"sum\": 0.7886966121196747, \"count\": 1, \"min\": 0.7886966121196747, \"max\": 0.7886966121196747}}}\u001b[0m\n",
      "\u001b[34m#metrics {\"StartTime\": 1733347355.2220168, \"EndTime\": 1733347355.222023, \"Dimensions\": {\"Algorithm\": \"Linear Learner\", \"Host\": \"algo-1\", \"Operation\": \"training\", \"epoch\": 3, \"model\": 26}, \"Metrics\": {\"train_absolute_loss_objective\": {\"sum\": 0.7874577495455742, \"count\": 1, \"min\": 0.7874577495455742, \"max\": 0.7874577495455742}}}\u001b[0m\n",
      "\u001b[34m#metrics {\"StartTime\": 1733347355.2220438, \"EndTime\": 1733347355.2220495, \"Dimensions\": {\"Algorithm\": \"Linear Learner\", \"Host\": \"algo-1\", \"Operation\": \"training\", \"epoch\": 3, \"model\": 27}, \"Metrics\": {\"train_absolute_loss_objective\": {\"sum\": 0.7887306427955627, \"count\": 1, \"min\": 0.7887306427955627, \"max\": 0.7887306427955627}}}\u001b[0m\n",
      "\u001b[34m#metrics {\"StartTime\": 1733347355.2220702, \"EndTime\": 1733347355.2220762, \"Dimensions\": {\"Algorithm\": \"Linear Learner\", \"Host\": \"algo-1\", \"Operation\": \"training\", \"epoch\": 3, \"model\": 28}, \"Metrics\": {\"train_absolute_loss_objective\": {\"sum\": 0.8688683062791824, \"count\": 1, \"min\": 0.8688683062791824, \"max\": 0.8688683062791824}}}\u001b[0m\n",
      "\u001b[34m#metrics {\"StartTime\": 1733347355.2220972, \"EndTime\": 1733347355.2221034, \"Dimensions\": {\"Algorithm\": \"Linear Learner\", \"Host\": \"algo-1\", \"Operation\": \"training\", \"epoch\": 3, \"model\": 29}, \"Metrics\": {\"train_absolute_loss_objective\": {\"sum\": 0.8683041706681252, \"count\": 1, \"min\": 0.8683041706681252, \"max\": 0.8683041706681252}}}\u001b[0m\n",
      "\u001b[34m#metrics {\"StartTime\": 1733347355.2221248, \"EndTime\": 1733347355.2221308, \"Dimensions\": {\"Algorithm\": \"Linear Learner\", \"Host\": \"algo-1\", \"Operation\": \"training\", \"epoch\": 3, \"model\": 30}, \"Metrics\": {\"train_absolute_loss_objective\": {\"sum\": 0.8251874047517777, \"count\": 1, \"min\": 0.8251874047517777, \"max\": 0.8251874047517777}}}\u001b[0m\n",
      "\u001b[34m#metrics {\"StartTime\": 1733347355.2224658, \"EndTime\": 1733347355.2224734, \"Dimensions\": {\"Algorithm\": \"Linear Learner\", \"Host\": \"algo-1\", \"Operation\": \"training\", \"epoch\": 3, \"model\": 31}, \"Metrics\": {\"train_absolute_loss_objective\": {\"sum\": 0.8788917011022568, \"count\": 1, \"min\": 0.8788917011022568, \"max\": 0.8788917011022568}}}\u001b[0m\n",
      "\u001b[34m[12/04/2024 21:22:35 INFO 139730080646976] #quality_metric: host=algo-1, epoch=3, train absolute_loss_objective <loss>=0.1247192519530654\u001b[0m\n",
      "\u001b[34m[12/04/2024 21:22:35 INFO 139730080646976] #early_stopping_criteria_metric: host=algo-1, epoch=3, criteria=absolute_loss_objective, value=0.12008743867278099\u001b[0m\n",
      "\u001b[34m[12/04/2024 21:22:35 INFO 139730080646976] Epoch 3: Loss improved. Updating best model\u001b[0m\n",
      "\u001b[34m[12/04/2024 21:22:35 INFO 139730080646976] Saving model for epoch: 3\u001b[0m\n",
      "\u001b[34m[12/04/2024 21:22:35 INFO 139730080646976] Saved checkpoint to \"/tmp/tmpubb8580j/mx-mod-0000.params\"\u001b[0m\n",
      "\u001b[34m[12/04/2024 21:22:35 INFO 139730080646976] #progress_metric: host=algo-1, completed 40.0 % of epochs\u001b[0m\n",
      "\u001b[34m#metrics {\"StartTime\": 1733347353.8753061, \"EndTime\": 1733347355.2303061, \"Dimensions\": {\"Algorithm\": \"Linear Learner\", \"Host\": \"algo-1\", \"Operation\": \"training\", \"epoch\": 3, \"Meta\": \"training_data_iter\"}, \"Metrics\": {\"Total Records Seen\": {\"sum\": 2005.0, \"count\": 1, \"min\": 2005, \"max\": 2005}, \"Total Batches Seen\": {\"sum\": 401.0, \"count\": 1, \"min\": 401, \"max\": 401}, \"Max Records Seen Between Resets\": {\"sum\": 400.0, \"count\": 1, \"min\": 400, \"max\": 400}, \"Max Batches Seen Between Resets\": {\"sum\": 80.0, \"count\": 1, \"min\": 80, \"max\": 80}, \"Reset Count\": {\"sum\": 6.0, \"count\": 1, \"min\": 6, \"max\": 6}, \"Number of Records Since Last Reset\": {\"sum\": 400.0, \"count\": 1, \"min\": 400, \"max\": 400}, \"Number of Batches Since Last Reset\": {\"sum\": 80.0, \"count\": 1, \"min\": 80, \"max\": 80}}}\u001b[0m\n",
      "\u001b[34m[12/04/2024 21:22:35 INFO 139730080646976] #throughput_metric: host=algo-1, train throughput=295.1794718049789 records/second\u001b[0m\n",
      "\u001b[34m[2024-12-04 21:22:36.607] [tensorio] [info] epoch_stats={\"data_pipeline\": \"/opt/ml/input/data/train\", \"epoch\": 12, \"duration\": 1377, \"num_examples\": 80, \"num_bytes\": 19200}\u001b[0m\n",
      "\u001b[34m#metrics {\"StartTime\": 1733347356.6078398, \"EndTime\": 1733347356.6079123, \"Dimensions\": {\"Algorithm\": \"Linear Learner\", \"Host\": \"algo-1\", \"Operation\": \"training\", \"epoch\": 4, \"model\": 0}, \"Metrics\": {\"train_absolute_loss_objective\": {\"sum\": 0.12011647999286651, \"count\": 1, \"min\": 0.12011647999286651, \"max\": 0.12011647999286651}}}\u001b[0m\n",
      "\u001b[34m#metrics {\"StartTime\": 1733347356.607984, \"EndTime\": 1733347356.6079993, \"Dimensions\": {\"Algorithm\": \"Linear Learner\", \"Host\": \"algo-1\", \"Operation\": \"training\", \"epoch\": 4, \"model\": 1}, \"Metrics\": {\"train_absolute_loss_objective\": {\"sum\": 0.12060866229236127, \"count\": 1, \"min\": 0.12060866229236127, \"max\": 0.12060866229236127}}}\u001b[0m\n",
      "\u001b[34m#metrics {\"StartTime\": 1733347356.6080422, \"EndTime\": 1733347356.6080534, \"Dimensions\": {\"Algorithm\": \"Linear Learner\", \"Host\": \"algo-1\", \"Operation\": \"training\", \"epoch\": 4, \"model\": 2}, \"Metrics\": {\"train_absolute_loss_objective\": {\"sum\": 0.1185301198065281, \"count\": 1, \"min\": 0.1185301198065281, \"max\": 0.1185301198065281}}}\u001b[0m\n",
      "\u001b[34m#metrics {\"StartTime\": 1733347356.6080828, \"EndTime\": 1733347356.6080933, \"Dimensions\": {\"Algorithm\": \"Linear Learner\", \"Host\": \"algo-1\", \"Operation\": \"training\", \"epoch\": 4, \"model\": 3}, \"Metrics\": {\"train_absolute_loss_objective\": {\"sum\": 0.1206083057448268, \"count\": 1, \"min\": 0.1206083057448268, \"max\": 0.1206083057448268}}}\u001b[0m\n",
      "\u001b[34m#metrics {\"StartTime\": 1733347356.6081207, \"EndTime\": 1733347356.6081293, \"Dimensions\": {\"Algorithm\": \"Linear Learner\", \"Host\": \"algo-1\", \"Operation\": \"training\", \"epoch\": 4, \"model\": 4}, \"Metrics\": {\"train_absolute_loss_objective\": {\"sum\": 0.14916538916528224, \"count\": 1, \"min\": 0.14916538916528224, \"max\": 0.14916538916528224}}}\u001b[0m\n",
      "\u001b[34m#metrics {\"StartTime\": 1733347356.6081648, \"EndTime\": 1733347356.608175, \"Dimensions\": {\"Algorithm\": \"Linear Learner\", \"Host\": \"algo-1\", \"Operation\": \"training\", \"epoch\": 4, \"model\": 5}, \"Metrics\": {\"train_absolute_loss_objective\": {\"sum\": 0.20146632097661496, \"count\": 1, \"min\": 0.20146632097661496, \"max\": 0.20146632097661496}}}\u001b[0m\n",
      "\u001b[34m#metrics {\"StartTime\": 1733347356.608201, \"EndTime\": 1733347356.6082103, \"Dimensions\": {\"Algorithm\": \"Linear Learner\", \"Host\": \"algo-1\", \"Operation\": \"training\", \"epoch\": 4, \"model\": 6}, \"Metrics\": {\"train_absolute_loss_objective\": {\"sum\": 0.15427255786955357, \"count\": 1, \"min\": 0.15427255786955357, \"max\": 0.15427255786955357}}}\u001b[0m\n",
      "\u001b[34m#metrics {\"StartTime\": 1733347356.608237, \"EndTime\": 1733347356.6082463, \"Dimensions\": {\"Algorithm\": \"Linear Learner\", \"Host\": \"algo-1\", \"Operation\": \"training\", \"epoch\": 4, \"model\": 7}, \"Metrics\": {\"train_absolute_loss_objective\": {\"sum\": 0.19003073632717132, \"count\": 1, \"min\": 0.19003073632717132, \"max\": 0.19003073632717132}}}\u001b[0m\n",
      "\u001b[34m#metrics {\"StartTime\": 1733347356.608279, \"EndTime\": 1733347356.6082885, \"Dimensions\": {\"Algorithm\": \"Linear Learner\", \"Host\": \"algo-1\", \"Operation\": \"training\", \"epoch\": 4, \"model\": 8}, \"Metrics\": {\"train_absolute_loss_objective\": {\"sum\": 0.12057809602469206, \"count\": 1, \"min\": 0.12057809602469206, \"max\": 0.12057809602469206}}}\u001b[0m\n",
      "\u001b[34m#metrics {\"StartTime\": 1733347356.6083238, \"EndTime\": 1733347356.608334, \"Dimensions\": {\"Algorithm\": \"Linear Learner\", \"Host\": \"algo-1\", \"Operation\": \"training\", \"epoch\": 4, \"model\": 9}, \"Metrics\": {\"train_absolute_loss_objective\": {\"sum\": 0.12093431122601032, \"count\": 1, \"min\": 0.12093431122601032, \"max\": 0.12093431122601032}}}\u001b[0m\n",
      "\u001b[34m#metrics {\"StartTime\": 1733347356.6083624, \"EndTime\": 1733347356.6083698, \"Dimensions\": {\"Algorithm\": \"Linear Learner\", \"Host\": \"algo-1\", \"Operation\": \"training\", \"epoch\": 4, \"model\": 10}, \"Metrics\": {\"train_absolute_loss_objective\": {\"sum\": 0.12009964298456907, \"count\": 1, \"min\": 0.12009964298456907, \"max\": 0.12009964298456907}}}\u001b[0m\n",
      "\u001b[34m#metrics {\"StartTime\": 1733347356.6083968, \"EndTime\": 1733347356.6084042, \"Dimensions\": {\"Algorithm\": \"Linear Learner\", \"Host\": \"algo-1\", \"Operation\": \"training\", \"epoch\": 4, \"model\": 11}, \"Metrics\": {\"train_absolute_loss_objective\": {\"sum\": 0.12506364714354276, \"count\": 1, \"min\": 0.12506364714354276, \"max\": 0.12506364714354276}}}\u001b[0m\n",
      "\u001b[34m#metrics {\"StartTime\": 1733347356.608429, \"EndTime\": 1733347356.6084366, \"Dimensions\": {\"Algorithm\": \"Linear Learner\", \"Host\": \"algo-1\", \"Operation\": \"training\", \"epoch\": 4, \"model\": 12}, \"Metrics\": {\"train_absolute_loss_objective\": {\"sum\": 0.13690765008330344, \"count\": 1, \"min\": 0.13690765008330344, \"max\": 0.13690765008330344}}}\u001b[0m\n",
      "\u001b[34m#metrics {\"StartTime\": 1733347356.608465, \"EndTime\": 1733347356.6084738, \"Dimensions\": {\"Algorithm\": \"Linear Learner\", \"Host\": \"algo-1\", \"Operation\": \"training\", \"epoch\": 4, \"model\": 13}, \"Metrics\": {\"train_absolute_loss_objective\": {\"sum\": 0.19011566124856472, \"count\": 1, \"min\": 0.19011566124856472, \"max\": 0.19011566124856472}}}\u001b[0m\n",
      "\u001b[34m#metrics {\"StartTime\": 1733347356.6085093, \"EndTime\": 1733347356.6085193, \"Dimensions\": {\"Algorithm\": \"Linear Learner\", \"Host\": \"algo-1\", \"Operation\": \"training\", \"epoch\": 4, \"model\": 14}, \"Metrics\": {\"train_absolute_loss_objective\": {\"sum\": 0.14646995030343532, \"count\": 1, \"min\": 0.14646995030343532, \"max\": 0.14646995030343532}}}\u001b[0m\n",
      "\u001b[34m#metrics {\"StartTime\": 1733347356.6085465, \"EndTime\": 1733347356.6085563, \"Dimensions\": {\"Algorithm\": \"Linear Learner\", \"Host\": \"algo-1\", \"Operation\": \"training\", \"epoch\": 4, \"model\": 15}, \"Metrics\": {\"train_absolute_loss_objective\": {\"sum\": 0.17110058702528477, \"count\": 1, \"min\": 0.17110058702528477, \"max\": 0.17110058702528477}}}\u001b[0m\n",
      "\u001b[34m#metrics {\"StartTime\": 1733347356.6085818, \"EndTime\": 1733347356.6085908, \"Dimensions\": {\"Algorithm\": \"Linear Learner\", \"Host\": \"algo-1\", \"Operation\": \"training\", \"epoch\": 4, \"model\": 16}, \"Metrics\": {\"train_absolute_loss_objective\": {\"sum\": 0.2725065653026104, \"count\": 1, \"min\": 0.2725065653026104, \"max\": 0.2725065653026104}}}\u001b[0m\n",
      "\u001b[34m#metrics {\"StartTime\": 1733347356.6086261, \"EndTime\": 1733347356.6086364, \"Dimensions\": {\"Algorithm\": \"Linear Learner\", \"Host\": \"algo-1\", \"Operation\": \"training\", \"epoch\": 4, \"model\": 17}, \"Metrics\": {\"train_absolute_loss_objective\": {\"sum\": 0.27401390582323076, \"count\": 1, \"min\": 0.27401390582323076, \"max\": 0.27401390582323076}}}\u001b[0m\n",
      "\u001b[34m#metrics {\"StartTime\": 1733347356.6086657, \"EndTime\": 1733347356.6086755, \"Dimensions\": {\"Algorithm\": \"Linear Learner\", \"Host\": \"algo-1\", \"Operation\": \"training\", \"epoch\": 4, \"model\": 18}, \"Metrics\": {\"train_absolute_loss_objective\": {\"sum\": 0.27065642476081847, \"count\": 1, \"min\": 0.27065642476081847, \"max\": 0.27065642476081847}}}\u001b[0m\n",
      "\u001b[34m#metrics {\"StartTime\": 1733347356.6087015, \"EndTime\": 1733347356.6087115, \"Dimensions\": {\"Algorithm\": \"Linear Learner\", \"Host\": \"algo-1\", \"Operation\": \"training\", \"epoch\": 4, \"model\": 19}, \"Metrics\": {\"train_absolute_loss_objective\": {\"sum\": 0.2712609928846359, \"count\": 1, \"min\": 0.2712609928846359, \"max\": 0.2712609928846359}}}\u001b[0m\n",
      "\u001b[34m#metrics {\"StartTime\": 1733347356.6087468, \"EndTime\": 1733347356.608756, \"Dimensions\": {\"Algorithm\": \"Linear Learner\", \"Host\": \"algo-1\", \"Operation\": \"training\", \"epoch\": 4, \"model\": 20}, \"Metrics\": {\"train_absolute_loss_objective\": {\"sum\": 0.39004490979015827, \"count\": 1, \"min\": 0.39004490979015827, \"max\": 0.39004490979015827}}}\u001b[0m\n",
      "\u001b[34m#metrics {\"StartTime\": 1733347356.608786, \"EndTime\": 1733347356.6087961, \"Dimensions\": {\"Algorithm\": \"Linear Learner\", \"Host\": \"algo-1\", \"Operation\": \"training\", \"epoch\": 4, \"model\": 21}, \"Metrics\": {\"train_absolute_loss_objective\": {\"sum\": 0.4249285487830639, \"count\": 1, \"min\": 0.4249285487830639, \"max\": 0.4249285487830639}}}\u001b[0m\n",
      "\u001b[34m#metrics {\"StartTime\": 1733347356.6088226, \"EndTime\": 1733347356.6088324, \"Dimensions\": {\"Algorithm\": \"Linear Learner\", \"Host\": \"algo-1\", \"Operation\": \"training\", \"epoch\": 4, \"model\": 22}, \"Metrics\": {\"train_absolute_loss_objective\": {\"sum\": 0.37813076466321943, \"count\": 1, \"min\": 0.37813076466321943, \"max\": 0.37813076466321943}}}\u001b[0m\n",
      "\u001b[34m#metrics {\"StartTime\": 1733347356.6088655, \"EndTime\": 1733347356.6088753, \"Dimensions\": {\"Algorithm\": \"Linear Learner\", \"Host\": \"algo-1\", \"Operation\": \"training\", \"epoch\": 4, \"model\": 23}, \"Metrics\": {\"train_absolute_loss_objective\": {\"sum\": 0.4479523704946041, \"count\": 1, \"min\": 0.4479523704946041, \"max\": 0.4479523704946041}}}\u001b[0m\n",
      "\u001b[34m#metrics {\"StartTime\": 1733347356.608904, \"EndTime\": 1733347356.6089137, \"Dimensions\": {\"Algorithm\": \"Linear Learner\", \"Host\": \"algo-1\", \"Operation\": \"training\", \"epoch\": 4, \"model\": 24}, \"Metrics\": {\"train_absolute_loss_objective\": {\"sum\": 0.7871889689564705, \"count\": 1, \"min\": 0.7871889689564705, \"max\": 0.7871889689564705}}}\u001b[0m\n",
      "\u001b[34m#metrics {\"StartTime\": 1733347356.6089394, \"EndTime\": 1733347356.608949, \"Dimensions\": {\"Algorithm\": \"Linear Learner\", \"Host\": \"algo-1\", \"Operation\": \"training\", \"epoch\": 4, \"model\": 25}, \"Metrics\": {\"train_absolute_loss_objective\": {\"sum\": 0.7886565464735031, \"count\": 1, \"min\": 0.7886565464735031, \"max\": 0.7886565464735031}}}\u001b[0m\n",
      "\u001b[34m#metrics {\"StartTime\": 1733347356.6089807, \"EndTime\": 1733347356.6089904, \"Dimensions\": {\"Algorithm\": \"Linear Learner\", \"Host\": \"algo-1\", \"Operation\": \"training\", \"epoch\": 4, \"model\": 26}, \"Metrics\": {\"train_absolute_loss_objective\": {\"sum\": 0.7871807795763016, \"count\": 1, \"min\": 0.7871807795763016, \"max\": 0.7871807795763016}}}\u001b[0m\n",
      "\u001b[34m#metrics {\"StartTime\": 1733347356.6090188, \"EndTime\": 1733347356.609028, \"Dimensions\": {\"Algorithm\": \"Linear Learner\", \"Host\": \"algo-1\", \"Operation\": \"training\", \"epoch\": 4, \"model\": 27}, \"Metrics\": {\"train_absolute_loss_objective\": {\"sum\": 0.7886873251199722, \"count\": 1, \"min\": 0.7886873251199722, \"max\": 0.7886873251199722}}}\u001b[0m\n",
      "\u001b[34m#metrics {\"StartTime\": 1733347356.609063, \"EndTime\": 1733347356.6090727, \"Dimensions\": {\"Algorithm\": \"Linear Learner\", \"Host\": \"algo-1\", \"Operation\": \"training\", \"epoch\": 4, \"model\": 28}, \"Metrics\": {\"train_absolute_loss_objective\": {\"sum\": 0.8213141342997551, \"count\": 1, \"min\": 0.8213141342997551, \"max\": 0.8213141342997551}}}\u001b[0m\n",
      "\u001b[34m#metrics {\"StartTime\": 1733347356.6091065, \"EndTime\": 1733347356.6091151, \"Dimensions\": {\"Algorithm\": \"Linear Learner\", \"Host\": \"algo-1\", \"Operation\": \"training\", \"epoch\": 4, \"model\": 29}, \"Metrics\": {\"train_absolute_loss_objective\": {\"sum\": 0.867317915558815, \"count\": 1, \"min\": 0.867317915558815, \"max\": 0.867317915558815}}}\u001b[0m\n",
      "\u001b[34m#metrics {\"StartTime\": 1733347356.6091433, \"EndTime\": 1733347356.6091511, \"Dimensions\": {\"Algorithm\": \"Linear Learner\", \"Host\": \"algo-1\", \"Operation\": \"training\", \"epoch\": 4, \"model\": 30}, \"Metrics\": {\"train_absolute_loss_objective\": {\"sum\": 0.8518488395214081, \"count\": 1, \"min\": 0.8518488395214081, \"max\": 0.8518488395214081}}}\u001b[0m\n",
      "\u001b[34m#metrics {\"StartTime\": 1733347356.6091766, \"EndTime\": 1733347356.6091847, \"Dimensions\": {\"Algorithm\": \"Linear Learner\", \"Host\": \"algo-1\", \"Operation\": \"training\", \"epoch\": 4, \"model\": 31}, \"Metrics\": {\"train_absolute_loss_objective\": {\"sum\": 0.866387277841568, \"count\": 1, \"min\": 0.866387277841568, \"max\": 0.866387277841568}}}\u001b[0m\n",
      "\u001b[34m[12/04/2024 21:22:36 INFO 139730080646976] #quality_metric: host=algo-1, epoch=4, train absolute_loss_objective <loss>=0.12011647999286651\u001b[0m\n",
      "\u001b[34m[12/04/2024 21:22:36 INFO 139730080646976] #early_stopping_criteria_metric: host=algo-1, epoch=4, criteria=absolute_loss_objective, value=0.1185301198065281\u001b[0m\n",
      "\u001b[34m[12/04/2024 21:22:36 INFO 139730080646976] Epoch 4: Loss improved. Updating best model\u001b[0m\n",
      "\u001b[34m[12/04/2024 21:22:36 INFO 139730080646976] Saving model for epoch: 4\u001b[0m\n",
      "\u001b[34m[12/04/2024 21:22:36 INFO 139730080646976] Saved checkpoint to \"/tmp/tmpnhqoeevm/mx-mod-0000.params\"\u001b[0m\n",
      "\u001b[34m[12/04/2024 21:22:36 INFO 139730080646976] #progress_metric: host=algo-1, completed 50.0 % of epochs\u001b[0m\n",
      "\u001b[34m#metrics {\"StartTime\": 1733347355.2305024, \"EndTime\": 1733347356.617679, \"Dimensions\": {\"Algorithm\": \"Linear Learner\", \"Host\": \"algo-1\", \"Operation\": \"training\", \"epoch\": 4, \"Meta\": \"training_data_iter\"}, \"Metrics\": {\"Total Records Seen\": {\"sum\": 2405.0, \"count\": 1, \"min\": 2405, \"max\": 2405}, \"Total Batches Seen\": {\"sum\": 481.0, \"count\": 1, \"min\": 481, \"max\": 481}, \"Max Records Seen Between Resets\": {\"sum\": 400.0, \"count\": 1, \"min\": 400, \"max\": 400}, \"Max Batches Seen Between Resets\": {\"sum\": 80.0, \"count\": 1, \"min\": 80, \"max\": 80}, \"Reset Count\": {\"sum\": 7.0, \"count\": 1, \"min\": 7, \"max\": 7}, \"Number of Records Since Last Reset\": {\"sum\": 400.0, \"count\": 1, \"min\": 400, \"max\": 400}, \"Number of Batches Since Last Reset\": {\"sum\": 80.0, \"count\": 1, \"min\": 80, \"max\": 80}}}\u001b[0m\n",
      "\u001b[34m[12/04/2024 21:22:36 INFO 139730080646976] #throughput_metric: host=algo-1, train throughput=288.33004454218207 records/second\u001b[0m\n",
      "\u001b[34m[2024-12-04 21:22:37.806] [tensorio] [info] epoch_stats={\"data_pipeline\": \"/opt/ml/input/data/train\", \"epoch\": 14, \"duration\": 1188, \"num_examples\": 80, \"num_bytes\": 19200}\u001b[0m\n",
      "\u001b[34m#metrics {\"StartTime\": 1733347357.8062317, \"EndTime\": 1733347357.806292, \"Dimensions\": {\"Algorithm\": \"Linear Learner\", \"Host\": \"algo-1\", \"Operation\": \"training\", \"epoch\": 5, \"model\": 0}, \"Metrics\": {\"train_absolute_loss_objective\": {\"sum\": 0.1196117465943098, \"count\": 1, \"min\": 0.1196117465943098, \"max\": 0.1196117465943098}}}\u001b[0m\n",
      "\u001b[34m#metrics {\"StartTime\": 1733347357.8063583, \"EndTime\": 1733347357.8063693, \"Dimensions\": {\"Algorithm\": \"Linear Learner\", \"Host\": \"algo-1\", \"Operation\": \"training\", \"epoch\": 5, \"model\": 1}, \"Metrics\": {\"train_absolute_loss_objective\": {\"sum\": 0.12358197938650846, \"count\": 1, \"min\": 0.12358197938650846, \"max\": 0.12358197938650846}}}\u001b[0m\n",
      "\u001b[34m#metrics {\"StartTime\": 1733347357.8063955, \"EndTime\": 1733347357.806403, \"Dimensions\": {\"Algorithm\": \"Linear Learner\", \"Host\": \"algo-1\", \"Operation\": \"training\", \"epoch\": 5, \"model\": 2}, \"Metrics\": {\"train_absolute_loss_objective\": {\"sum\": 0.11912969820201397, \"count\": 1, \"min\": 0.11912969820201397, \"max\": 0.11912969820201397}}}\u001b[0m\n",
      "\u001b[34m#metrics {\"StartTime\": 1733347357.8064268, \"EndTime\": 1733347357.8064332, \"Dimensions\": {\"Algorithm\": \"Linear Learner\", \"Host\": \"algo-1\", \"Operation\": \"training\", \"epoch\": 5, \"model\": 3}, \"Metrics\": {\"train_absolute_loss_objective\": {\"sum\": 0.1224130468815565, \"count\": 1, \"min\": 0.1224130468815565, \"max\": 0.1224130468815565}}}\u001b[0m\n",
      "\u001b[34m#metrics {\"StartTime\": 1733347357.8064578, \"EndTime\": 1733347357.8064642, \"Dimensions\": {\"Algorithm\": \"Linear Learner\", \"Host\": \"algo-1\", \"Operation\": \"training\", \"epoch\": 5, \"model\": 4}, \"Metrics\": {\"train_absolute_loss_objective\": {\"sum\": 0.14435787357389926, \"count\": 1, \"min\": 0.14435787357389926, \"max\": 0.14435787357389926}}}\u001b[0m\n",
      "\u001b[34m#metrics {\"StartTime\": 1733347357.8064861, \"EndTime\": 1733347357.806492, \"Dimensions\": {\"Algorithm\": \"Linear Learner\", \"Host\": \"algo-1\", \"Operation\": \"training\", \"epoch\": 5, \"model\": 5}, \"Metrics\": {\"train_absolute_loss_objective\": {\"sum\": 0.19291883889585734, \"count\": 1, \"min\": 0.19291883889585734, \"max\": 0.19291883889585734}}}\u001b[0m\n",
      "\u001b[34m#metrics {\"StartTime\": 1733347357.8065748, \"EndTime\": 1733347357.806584, \"Dimensions\": {\"Algorithm\": \"Linear Learner\", \"Host\": \"algo-1\", \"Operation\": \"training\", \"epoch\": 5, \"model\": 6}, \"Metrics\": {\"train_absolute_loss_objective\": {\"sum\": 0.14571063816547394, \"count\": 1, \"min\": 0.14571063816547394, \"max\": 0.14571063816547394}}}\u001b[0m\n",
      "\u001b[34m#metrics {\"StartTime\": 1733347357.8066113, \"EndTime\": 1733347357.8066177, \"Dimensions\": {\"Algorithm\": \"Linear Learner\", \"Host\": \"algo-1\", \"Operation\": \"training\", \"epoch\": 5, \"model\": 7}, \"Metrics\": {\"train_absolute_loss_objective\": {\"sum\": 0.2493644169718027, \"count\": 1, \"min\": 0.2493644169718027, \"max\": 0.2493644169718027}}}\u001b[0m\n",
      "\u001b[34m#metrics {\"StartTime\": 1733347357.8066442, \"EndTime\": 1733347357.8066509, \"Dimensions\": {\"Algorithm\": \"Linear Learner\", \"Host\": \"algo-1\", \"Operation\": \"training\", \"epoch\": 5, \"model\": 8}, \"Metrics\": {\"train_absolute_loss_objective\": {\"sum\": 0.11940423171967268, \"count\": 1, \"min\": 0.11940423171967268, \"max\": 0.11940423171967268}}}\u001b[0m\n",
      "\u001b[34m#metrics {\"StartTime\": 1733347357.8066773, \"EndTime\": 1733347357.806684, \"Dimensions\": {\"Algorithm\": \"Linear Learner\", \"Host\": \"algo-1\", \"Operation\": \"training\", \"epoch\": 5, \"model\": 9}, \"Metrics\": {\"train_absolute_loss_objective\": {\"sum\": 0.12343487057834863, \"count\": 1, \"min\": 0.12343487057834863, \"max\": 0.12343487057834863}}}\u001b[0m\n",
      "\u001b[34m#metrics {\"StartTime\": 1733347357.8067102, \"EndTime\": 1733347357.806717, \"Dimensions\": {\"Algorithm\": \"Linear Learner\", \"Host\": \"algo-1\", \"Operation\": \"training\", \"epoch\": 5, \"model\": 10}, \"Metrics\": {\"train_absolute_loss_objective\": {\"sum\": 0.11890456836670638, \"count\": 1, \"min\": 0.11890456836670638, \"max\": 0.11890456836670638}}}\u001b[0m\n",
      "\u001b[34m#metrics {\"StartTime\": 1733347357.8067434, \"EndTime\": 1733347357.80675, \"Dimensions\": {\"Algorithm\": \"Linear Learner\", \"Host\": \"algo-1\", \"Operation\": \"training\", \"epoch\": 5, \"model\": 11}, \"Metrics\": {\"train_absolute_loss_objective\": {\"sum\": 0.1234282784536481, \"count\": 1, \"min\": 0.1234282784536481, \"max\": 0.1234282784536481}}}\u001b[0m\n",
      "\u001b[34m#metrics {\"StartTime\": 1733347357.8067765, \"EndTime\": 1733347357.8067832, \"Dimensions\": {\"Algorithm\": \"Linear Learner\", \"Host\": \"algo-1\", \"Operation\": \"training\", \"epoch\": 5, \"model\": 12}, \"Metrics\": {\"train_absolute_loss_objective\": {\"sum\": 0.15128774121403693, \"count\": 1, \"min\": 0.15128774121403693, \"max\": 0.15128774121403693}}}\u001b[0m\n",
      "\u001b[34m#metrics {\"StartTime\": 1733347357.8068097, \"EndTime\": 1733347357.8068159, \"Dimensions\": {\"Algorithm\": \"Linear Learner\", \"Host\": \"algo-1\", \"Operation\": \"training\", \"epoch\": 5, \"model\": 13}, \"Metrics\": {\"train_absolute_loss_objective\": {\"sum\": 0.19972678869962693, \"count\": 1, \"min\": 0.19972678869962693, \"max\": 0.19972678869962693}}}\u001b[0m\n",
      "\u001b[34m#metrics {\"StartTime\": 1733347357.8068423, \"EndTime\": 1733347357.8068488, \"Dimensions\": {\"Algorithm\": \"Linear Learner\", \"Host\": \"algo-1\", \"Operation\": \"training\", \"epoch\": 5, \"model\": 14}, \"Metrics\": {\"train_absolute_loss_objective\": {\"sum\": 0.16081692751497031, \"count\": 1, \"min\": 0.16081692751497031, \"max\": 0.16081692751497031}}}\u001b[0m\n",
      "\u001b[34m#metrics {\"StartTime\": 1733347357.806875, \"EndTime\": 1733347357.8068814, \"Dimensions\": {\"Algorithm\": \"Linear Learner\", \"Host\": \"algo-1\", \"Operation\": \"training\", \"epoch\": 5, \"model\": 15}, \"Metrics\": {\"train_absolute_loss_objective\": {\"sum\": 0.14386418517678976, \"count\": 1, \"min\": 0.14386418517678976, \"max\": 0.14386418517678976}}}\u001b[0m\n",
      "\u001b[34m#metrics {\"StartTime\": 1733347357.8069077, \"EndTime\": 1733347357.806914, \"Dimensions\": {\"Algorithm\": \"Linear Learner\", \"Host\": \"algo-1\", \"Operation\": \"training\", \"epoch\": 5, \"model\": 16}, \"Metrics\": {\"train_absolute_loss_objective\": {\"sum\": 0.26569041311740876, \"count\": 1, \"min\": 0.26569041311740876, \"max\": 0.26569041311740876}}}\u001b[0m\n",
      "\u001b[34m#metrics {\"StartTime\": 1733347357.80694, \"EndTime\": 1733347357.8069463, \"Dimensions\": {\"Algorithm\": \"Linear Learner\", \"Host\": \"algo-1\", \"Operation\": \"training\", \"epoch\": 5, \"model\": 17}, \"Metrics\": {\"train_absolute_loss_objective\": {\"sum\": 0.26894968897104266, \"count\": 1, \"min\": 0.26894968897104266, \"max\": 0.26894968897104266}}}\u001b[0m\n",
      "\u001b[34m#metrics {\"StartTime\": 1733347357.8069723, \"EndTime\": 1733347357.8069785, \"Dimensions\": {\"Algorithm\": \"Linear Learner\", \"Host\": \"algo-1\", \"Operation\": \"training\", \"epoch\": 5, \"model\": 18}, \"Metrics\": {\"train_absolute_loss_objective\": {\"sum\": 0.2661569195985794, \"count\": 1, \"min\": 0.2661569195985794, \"max\": 0.2661569195985794}}}\u001b[0m\n",
      "\u001b[34m#metrics {\"StartTime\": 1733347357.8070047, \"EndTime\": 1733347357.8070111, \"Dimensions\": {\"Algorithm\": \"Linear Learner\", \"Host\": \"algo-1\", \"Operation\": \"training\", \"epoch\": 5, \"model\": 19}, \"Metrics\": {\"train_absolute_loss_objective\": {\"sum\": 0.2676125368475914, \"count\": 1, \"min\": 0.2676125368475914, \"max\": 0.2676125368475914}}}\u001b[0m\n",
      "\u001b[34m#metrics {\"StartTime\": 1733347357.8070366, \"EndTime\": 1733347357.807043, \"Dimensions\": {\"Algorithm\": \"Linear Learner\", \"Host\": \"algo-1\", \"Operation\": \"training\", \"epoch\": 5, \"model\": 20}, \"Metrics\": {\"train_absolute_loss_objective\": {\"sum\": 0.3442973025143147, \"count\": 1, \"min\": 0.3442973025143147, \"max\": 0.3442973025143147}}}\u001b[0m\n",
      "\u001b[34m#metrics {\"StartTime\": 1733347357.8070688, \"EndTime\": 1733347357.8070753, \"Dimensions\": {\"Algorithm\": \"Linear Learner\", \"Host\": \"algo-1\", \"Operation\": \"training\", \"epoch\": 5, \"model\": 21}, \"Metrics\": {\"train_absolute_loss_objective\": {\"sum\": 0.42613603472709655, \"count\": 1, \"min\": 0.42613603472709655, \"max\": 0.42613603472709655}}}\u001b[0m\n",
      "\u001b[34m#metrics {\"StartTime\": 1733347357.807101, \"EndTime\": 1733347357.8071184, \"Dimensions\": {\"Algorithm\": \"Linear Learner\", \"Host\": \"algo-1\", \"Operation\": \"training\", \"epoch\": 5, \"model\": 22}, \"Metrics\": {\"train_absolute_loss_objective\": {\"sum\": 0.337064163684845, \"count\": 1, \"min\": 0.337064163684845, \"max\": 0.337064163684845}}}\u001b[0m\n",
      "\u001b[34m#metrics {\"StartTime\": 1733347357.8071458, \"EndTime\": 1733347357.8071523, \"Dimensions\": {\"Algorithm\": \"Linear Learner\", \"Host\": \"algo-1\", \"Operation\": \"training\", \"epoch\": 5, \"model\": 23}, \"Metrics\": {\"train_absolute_loss_objective\": {\"sum\": 0.4579750233888626, \"count\": 1, \"min\": 0.4579750233888626, \"max\": 0.4579750233888626}}}\u001b[0m\n",
      "\u001b[34m#metrics {\"StartTime\": 1733347357.8071785, \"EndTime\": 1733347357.8071852, \"Dimensions\": {\"Algorithm\": \"Linear Learner\", \"Host\": \"algo-1\", \"Operation\": \"training\", \"epoch\": 5, \"model\": 24}, \"Metrics\": {\"train_absolute_loss_objective\": {\"sum\": 0.7869325724244117, \"count\": 1, \"min\": 0.7869325724244117, \"max\": 0.7869325724244117}}}\u001b[0m\n",
      "\u001b[34m#metrics {\"StartTime\": 1733347357.807211, \"EndTime\": 1733347357.8072174, \"Dimensions\": {\"Algorithm\": \"Linear Learner\", \"Host\": \"algo-1\", \"Operation\": \"training\", \"epoch\": 5, \"model\": 25}, \"Metrics\": {\"train_absolute_loss_objective\": {\"sum\": 0.7886000087857247, \"count\": 1, \"min\": 0.7886000087857247, \"max\": 0.7886000087857247}}}\u001b[0m\n",
      "\u001b[34m#metrics {\"StartTime\": 1733347357.8072433, \"EndTime\": 1733347357.8072495, \"Dimensions\": {\"Algorithm\": \"Linear Learner\", \"Host\": \"algo-1\", \"Operation\": \"training\", \"epoch\": 5, \"model\": 26}, \"Metrics\": {\"train_absolute_loss_objective\": {\"sum\": 0.7869235268235206, \"count\": 1, \"min\": 0.7869235268235206, \"max\": 0.7869235268235206}}}\u001b[0m\n",
      "\u001b[34m#metrics {\"StartTime\": 1733347357.8072755, \"EndTime\": 1733347357.807282, \"Dimensions\": {\"Algorithm\": \"Linear Learner\", \"Host\": \"algo-1\", \"Operation\": \"training\", \"epoch\": 5, \"model\": 27}, \"Metrics\": {\"train_absolute_loss_objective\": {\"sum\": 0.7886336255073547, \"count\": 1, \"min\": 0.7886336255073547, \"max\": 0.7886336255073547}}}\u001b[0m\n",
      "\u001b[34m#metrics {\"StartTime\": 1733347357.8073077, \"EndTime\": 1733347357.8073144, \"Dimensions\": {\"Algorithm\": \"Linear Learner\", \"Host\": \"algo-1\", \"Operation\": \"training\", \"epoch\": 5, \"model\": 28}, \"Metrics\": {\"train_absolute_loss_objective\": {\"sum\": 0.837886318564415, \"count\": 1, \"min\": 0.837886318564415, \"max\": 0.837886318564415}}}\u001b[0m\n",
      "\u001b[34m#metrics {\"StartTime\": 1733347357.8073401, \"EndTime\": 1733347357.8073466, \"Dimensions\": {\"Algorithm\": \"Linear Learner\", \"Host\": \"algo-1\", \"Operation\": \"training\", \"epoch\": 5, \"model\": 29}, \"Metrics\": {\"train_absolute_loss_objective\": {\"sum\": 0.8639233204722404, \"count\": 1, \"min\": 0.8639233204722404, \"max\": 0.8639233204722404}}}\u001b[0m\n",
      "\u001b[34m#metrics {\"StartTime\": 1733347357.8073726, \"EndTime\": 1733347357.807379, \"Dimensions\": {\"Algorithm\": \"Linear Learner\", \"Host\": \"algo-1\", \"Operation\": \"training\", \"epoch\": 5, \"model\": 30}, \"Metrics\": {\"train_absolute_loss_objective\": {\"sum\": 0.82370738863945, \"count\": 1, \"min\": 0.82370738863945, \"max\": 0.82370738863945}}}\u001b[0m\n",
      "\u001b[34m#metrics {\"StartTime\": 1733347357.8074045, \"EndTime\": 1733347357.807411, \"Dimensions\": {\"Algorithm\": \"Linear Learner\", \"Host\": \"algo-1\", \"Operation\": \"training\", \"epoch\": 5, \"model\": 31}, \"Metrics\": {\"train_absolute_loss_objective\": {\"sum\": 0.8711895895004272, \"count\": 1, \"min\": 0.8711895895004272, \"max\": 0.8711895895004272}}}\u001b[0m\n",
      "\u001b[34m[12/04/2024 21:22:37 INFO 139730080646976] #quality_metric: host=algo-1, epoch=5, train absolute_loss_objective <loss>=0.1196117465943098\u001b[0m\n",
      "\u001b[34m[12/04/2024 21:22:37 INFO 139730080646976] #early_stopping_criteria_metric: host=algo-1, epoch=5, criteria=absolute_loss_objective, value=0.11890456836670638\u001b[0m\n",
      "\u001b[34m[12/04/2024 21:22:37 INFO 139730080646976] Saving model for epoch: 5\u001b[0m\n",
      "\u001b[34m[12/04/2024 21:22:37 INFO 139730080646976] Saved checkpoint to \"/tmp/tmpimvl54xi/mx-mod-0000.params\"\u001b[0m\n",
      "\u001b[34m[12/04/2024 21:22:37 INFO 139730080646976] #progress_metric: host=algo-1, completed 60.0 % of epochs\u001b[0m\n",
      "\u001b[34m#metrics {\"StartTime\": 1733347356.617942, \"EndTime\": 1733347357.8147256, \"Dimensions\": {\"Algorithm\": \"Linear Learner\", \"Host\": \"algo-1\", \"Operation\": \"training\", \"epoch\": 5, \"Meta\": \"training_data_iter\"}, \"Metrics\": {\"Total Records Seen\": {\"sum\": 2805.0, \"count\": 1, \"min\": 2805, \"max\": 2805}, \"Total Batches Seen\": {\"sum\": 561.0, \"count\": 1, \"min\": 561, \"max\": 561}, \"Max Records Seen Between Resets\": {\"sum\": 400.0, \"count\": 1, \"min\": 400, \"max\": 400}, \"Max Batches Seen Between Resets\": {\"sum\": 80.0, \"count\": 1, \"min\": 80, \"max\": 80}, \"Reset Count\": {\"sum\": 8.0, \"count\": 1, \"min\": 8, \"max\": 8}, \"Number of Records Since Last Reset\": {\"sum\": 400.0, \"count\": 1, \"min\": 400, \"max\": 400}, \"Number of Batches Since Last Reset\": {\"sum\": 80.0, \"count\": 1, \"min\": 80, \"max\": 80}}}\u001b[0m\n",
      "\u001b[34m[12/04/2024 21:22:37 INFO 139730080646976] #throughput_metric: host=algo-1, train throughput=334.198236343655 records/second\u001b[0m\n",
      "\u001b[34m[2024-12-04 21:22:38.935] [tensorio] [info] epoch_stats={\"data_pipeline\": \"/opt/ml/input/data/train\", \"epoch\": 16, \"duration\": 1120, \"num_examples\": 80, \"num_bytes\": 19200}\u001b[0m\n",
      "\u001b[34m#metrics {\"StartTime\": 1733347358.9360263, \"EndTime\": 1733347358.9361029, \"Dimensions\": {\"Algorithm\": \"Linear Learner\", \"Host\": \"algo-1\", \"Operation\": \"training\", \"epoch\": 6, \"model\": 0}, \"Metrics\": {\"train_absolute_loss_objective\": {\"sum\": 0.12078396406024694, \"count\": 1, \"min\": 0.12078396406024694, \"max\": 0.12078396406024694}}}\u001b[0m\n",
      "\u001b[34m#metrics {\"StartTime\": 1733347358.9361784, \"EndTime\": 1733347358.9361918, \"Dimensions\": {\"Algorithm\": \"Linear Learner\", \"Host\": \"algo-1\", \"Operation\": \"training\", \"epoch\": 6, \"model\": 1}, \"Metrics\": {\"train_absolute_loss_objective\": {\"sum\": 0.12122550822794437, \"count\": 1, \"min\": 0.12122550822794437, \"max\": 0.12122550822794437}}}\u001b[0m\n",
      "\u001b[34m#metrics {\"StartTime\": 1733347358.9362292, \"EndTime\": 1733347358.9362392, \"Dimensions\": {\"Algorithm\": \"Linear Learner\", \"Host\": \"algo-1\", \"Operation\": \"training\", \"epoch\": 6, \"model\": 2}, \"Metrics\": {\"train_absolute_loss_objective\": {\"sum\": 0.12102537754923105, \"count\": 1, \"min\": 0.12102537754923105, \"max\": 0.12102537754923105}}}\u001b[0m\n",
      "\u001b[34m#metrics {\"StartTime\": 1733347358.9362805, \"EndTime\": 1733347358.9362903, \"Dimensions\": {\"Algorithm\": \"Linear Learner\", \"Host\": \"algo-1\", \"Operation\": \"training\", \"epoch\": 6, \"model\": 3}, \"Metrics\": {\"train_absolute_loss_objective\": {\"sum\": 0.12050176128745078, \"count\": 1, \"min\": 0.12050176128745078, \"max\": 0.12050176128745078}}}\u001b[0m\n",
      "\u001b[34m#metrics {\"StartTime\": 1733347358.9363267, \"EndTime\": 1733347358.9363368, \"Dimensions\": {\"Algorithm\": \"Linear Learner\", \"Host\": \"algo-1\", \"Operation\": \"training\", \"epoch\": 6, \"model\": 4}, \"Metrics\": {\"train_absolute_loss_objective\": {\"sum\": 0.13820384681224823, \"count\": 1, \"min\": 0.13820384681224823, \"max\": 0.13820384681224823}}}\u001b[0m\n",
      "\u001b[34m#metrics {\"StartTime\": 1733347358.936376, \"EndTime\": 1733347358.936386, \"Dimensions\": {\"Algorithm\": \"Linear Learner\", \"Host\": \"algo-1\", \"Operation\": \"training\", \"epoch\": 6, \"model\": 5}, \"Metrics\": {\"train_absolute_loss_objective\": {\"sum\": 0.22902272567152976, \"count\": 1, \"min\": 0.22902272567152976, \"max\": 0.22902272567152976}}}\u001b[0m\n",
      "\u001b[34m#metrics {\"StartTime\": 1733347358.9364285, \"EndTime\": 1733347358.936439, \"Dimensions\": {\"Algorithm\": \"Linear Learner\", \"Host\": \"algo-1\", \"Operation\": \"training\", \"epoch\": 6, \"model\": 6}, \"Metrics\": {\"train_absolute_loss_objective\": {\"sum\": 0.15701991774141788, \"count\": 1, \"min\": 0.15701991774141788, \"max\": 0.15701991774141788}}}\u001b[0m\n",
      "\u001b[34m#metrics {\"StartTime\": 1733347358.9364812, \"EndTime\": 1733347358.9364924, \"Dimensions\": {\"Algorithm\": \"Linear Learner\", \"Host\": \"algo-1\", \"Operation\": \"training\", \"epoch\": 6, \"model\": 7}, \"Metrics\": {\"train_absolute_loss_objective\": {\"sum\": 0.1518010414391756, \"count\": 1, \"min\": 0.1518010414391756, \"max\": 0.1518010414391756}}}\u001b[0m\n",
      "\u001b[34m#metrics {\"StartTime\": 1733347358.9365342, \"EndTime\": 1733347358.9365451, \"Dimensions\": {\"Algorithm\": \"Linear Learner\", \"Host\": \"algo-1\", \"Operation\": \"training\", \"epoch\": 6, \"model\": 8}, \"Metrics\": {\"train_absolute_loss_objective\": {\"sum\": 0.12074697565287351, \"count\": 1, \"min\": 0.12074697565287351, \"max\": 0.12074697565287351}}}\u001b[0m\n",
      "\u001b[34m#metrics {\"StartTime\": 1733347358.9365857, \"EndTime\": 1733347358.9365952, \"Dimensions\": {\"Algorithm\": \"Linear Learner\", \"Host\": \"algo-1\", \"Operation\": \"training\", \"epoch\": 6, \"model\": 9}, \"Metrics\": {\"train_absolute_loss_objective\": {\"sum\": 0.12300736330449581, \"count\": 1, \"min\": 0.12300736330449581, \"max\": 0.12300736330449581}}}\u001b[0m\n",
      "\u001b[34m#metrics {\"StartTime\": 1733347358.936627, \"EndTime\": 1733347358.9366357, \"Dimensions\": {\"Algorithm\": \"Linear Learner\", \"Host\": \"algo-1\", \"Operation\": \"training\", \"epoch\": 6, \"model\": 10}, \"Metrics\": {\"train_absolute_loss_objective\": {\"sum\": 0.1218234307691455, \"count\": 1, \"min\": 0.1218234307691455, \"max\": 0.1218234307691455}}}\u001b[0m\n",
      "\u001b[34m#metrics {\"StartTime\": 1733347358.9366684, \"EndTime\": 1733347358.9366763, \"Dimensions\": {\"Algorithm\": \"Linear Learner\", \"Host\": \"algo-1\", \"Operation\": \"training\", \"epoch\": 6, \"model\": 11}, \"Metrics\": {\"train_absolute_loss_objective\": {\"sum\": 0.12046132806688548, \"count\": 1, \"min\": 0.12046132806688548, \"max\": 0.12046132806688548}}}\u001b[0m\n",
      "\u001b[34m#metrics {\"StartTime\": 1733347358.9367077, \"EndTime\": 1733347358.9367156, \"Dimensions\": {\"Algorithm\": \"Linear Learner\", \"Host\": \"algo-1\", \"Operation\": \"training\", \"epoch\": 6, \"model\": 12}, \"Metrics\": {\"train_absolute_loss_objective\": {\"sum\": 0.14669886961579323, \"count\": 1, \"min\": 0.14669886961579323, \"max\": 0.14669886961579323}}}\u001b[0m\n",
      "\u001b[34m#metrics {\"StartTime\": 1733347358.9367483, \"EndTime\": 1733347358.9367576, \"Dimensions\": {\"Algorithm\": \"Linear Learner\", \"Host\": \"algo-1\", \"Operation\": \"training\", \"epoch\": 6, \"model\": 13}, \"Metrics\": {\"train_absolute_loss_objective\": {\"sum\": 0.1601066379994154, \"count\": 1, \"min\": 0.1601066379994154, \"max\": 0.1601066379994154}}}\u001b[0m\n",
      "\u001b[34m#metrics {\"StartTime\": 1733347358.9367945, \"EndTime\": 1733347358.9368045, \"Dimensions\": {\"Algorithm\": \"Linear Learner\", \"Host\": \"algo-1\", \"Operation\": \"training\", \"epoch\": 6, \"model\": 14}, \"Metrics\": {\"train_absolute_loss_objective\": {\"sum\": 0.13633217424154281, \"count\": 1, \"min\": 0.13633217424154281, \"max\": 0.13633217424154281}}}\u001b[0m\n",
      "\u001b[34m#metrics {\"StartTime\": 1733347358.9368408, \"EndTime\": 1733347358.9368505, \"Dimensions\": {\"Algorithm\": \"Linear Learner\", \"Host\": \"algo-1\", \"Operation\": \"training\", \"epoch\": 6, \"model\": 15}, \"Metrics\": {\"train_absolute_loss_objective\": {\"sum\": 0.1719964434951544, \"count\": 1, \"min\": 0.1719964434951544, \"max\": 0.1719964434951544}}}\u001b[0m\n",
      "\u001b[34m#metrics {\"StartTime\": 1733347358.9368894, \"EndTime\": 1733347358.9368992, \"Dimensions\": {\"Algorithm\": \"Linear Learner\", \"Host\": \"algo-1\", \"Operation\": \"training\", \"epoch\": 6, \"model\": 16}, \"Metrics\": {\"train_absolute_loss_objective\": {\"sum\": 0.26379684448242186, \"count\": 1, \"min\": 0.26379684448242186, \"max\": 0.26379684448242186}}}\u001b[0m\n",
      "\u001b[34m#metrics {\"StartTime\": 1733347358.9369354, \"EndTime\": 1733347358.9369454, \"Dimensions\": {\"Algorithm\": \"Linear Learner\", \"Host\": \"algo-1\", \"Operation\": \"training\", \"epoch\": 6, \"model\": 17}, \"Metrics\": {\"train_absolute_loss_objective\": {\"sum\": 0.2667882817983627, \"count\": 1, \"min\": 0.2667882817983627, \"max\": 0.2667882817983627}}}\u001b[0m\n",
      "\u001b[34m#metrics {\"StartTime\": 1733347358.9369845, \"EndTime\": 1733347358.936995, \"Dimensions\": {\"Algorithm\": \"Linear Learner\", \"Host\": \"algo-1\", \"Operation\": \"training\", \"epoch\": 6, \"model\": 18}, \"Metrics\": {\"train_absolute_loss_objective\": {\"sum\": 0.26512083157896993, \"count\": 1, \"min\": 0.26512083157896993, \"max\": 0.26512083157896993}}}\u001b[0m\n",
      "\u001b[34m#metrics {\"StartTime\": 1733347358.937034, \"EndTime\": 1733347358.937044, \"Dimensions\": {\"Algorithm\": \"Linear Learner\", \"Host\": \"algo-1\", \"Operation\": \"training\", \"epoch\": 6, \"model\": 19}, \"Metrics\": {\"train_absolute_loss_objective\": {\"sum\": 0.2662916024029255, \"count\": 1, \"min\": 0.2662916024029255, \"max\": 0.2662916024029255}}}\u001b[0m\n",
      "\u001b[34m#metrics {\"StartTime\": 1733347358.9370844, \"EndTime\": 1733347358.937094, \"Dimensions\": {\"Algorithm\": \"Linear Learner\", \"Host\": \"algo-1\", \"Operation\": \"training\", \"epoch\": 6, \"model\": 20}, \"Metrics\": {\"train_absolute_loss_objective\": {\"sum\": 0.3813295763731003, \"count\": 1, \"min\": 0.3813295763731003, \"max\": 0.3813295763731003}}}\u001b[0m\n",
      "\u001b[34m#metrics {\"StartTime\": 1733347358.937127, \"EndTime\": 1733347358.9371364, \"Dimensions\": {\"Algorithm\": \"Linear Learner\", \"Host\": \"algo-1\", \"Operation\": \"training\", \"epoch\": 6, \"model\": 21}, \"Metrics\": {\"train_absolute_loss_objective\": {\"sum\": 0.4328461743891239, \"count\": 1, \"min\": 0.4328461743891239, \"max\": 0.4328461743891239}}}\u001b[0m\n",
      "\u001b[34m#metrics {\"StartTime\": 1733347358.9371676, \"EndTime\": 1733347358.9371758, \"Dimensions\": {\"Algorithm\": \"Linear Learner\", \"Host\": \"algo-1\", \"Operation\": \"training\", \"epoch\": 6, \"model\": 22}, \"Metrics\": {\"train_absolute_loss_objective\": {\"sum\": 0.39985301464796064, \"count\": 1, \"min\": 0.39985301464796064, \"max\": 0.39985301464796064}}}\u001b[0m\n",
      "\u001b[34m#metrics {\"StartTime\": 1733347358.9372087, \"EndTime\": 1733347358.9372177, \"Dimensions\": {\"Algorithm\": \"Linear Learner\", \"Host\": \"algo-1\", \"Operation\": \"training\", \"epoch\": 6, \"model\": 23}, \"Metrics\": {\"train_absolute_loss_objective\": {\"sum\": 0.4538820251822472, \"count\": 1, \"min\": 0.4538820251822472, \"max\": 0.4538820251822472}}}\u001b[0m\n",
      "\u001b[34m#metrics {\"StartTime\": 1733347358.9372492, \"EndTime\": 1733347358.9372582, \"Dimensions\": {\"Algorithm\": \"Linear Learner\", \"Host\": \"algo-1\", \"Operation\": \"training\", \"epoch\": 6, \"model\": 24}, \"Metrics\": {\"train_absolute_loss_objective\": {\"sum\": 0.7866970431804657, \"count\": 1, \"min\": 0.7866970431804657, \"max\": 0.7866970431804657}}}\u001b[0m\n",
      "\u001b[34m#metrics {\"StartTime\": 1733347358.9372876, \"EndTime\": 1733347358.9372966, \"Dimensions\": {\"Algorithm\": \"Linear Learner\", \"Host\": \"algo-1\", \"Operation\": \"training\", \"epoch\": 6, \"model\": 25}, \"Metrics\": {\"train_absolute_loss_objective\": {\"sum\": 0.7885978710651398, \"count\": 1, \"min\": 0.7885978710651398, \"max\": 0.7885978710651398}}}\u001b[0m\n",
      "\u001b[34m#metrics {\"StartTime\": 1733347358.93733, \"EndTime\": 1733347358.9373386, \"Dimensions\": {\"Algorithm\": \"Linear Learner\", \"Host\": \"algo-1\", \"Operation\": \"training\", \"epoch\": 6, \"model\": 26}, \"Metrics\": {\"train_absolute_loss_objective\": {\"sum\": 0.7866857805848122, \"count\": 1, \"min\": 0.7866857805848122, \"max\": 0.7866857805848122}}}\u001b[0m\n",
      "\u001b[34m#metrics {\"StartTime\": 1733347358.937369, \"EndTime\": 1733347358.9373777, \"Dimensions\": {\"Algorithm\": \"Linear Learner\", \"Host\": \"algo-1\", \"Operation\": \"training\", \"epoch\": 6, \"model\": 27}, \"Metrics\": {\"train_absolute_loss_objective\": {\"sum\": 0.7886234840750694, \"count\": 1, \"min\": 0.7886234840750694, \"max\": 0.7886234840750694}}}\u001b[0m\n",
      "\u001b[34m#metrics {\"StartTime\": 1733347358.9374068, \"EndTime\": 1733347358.9374168, \"Dimensions\": {\"Algorithm\": \"Linear Learner\", \"Host\": \"algo-1\", \"Operation\": \"training\", \"epoch\": 6, \"model\": 28}, \"Metrics\": {\"train_absolute_loss_objective\": {\"sum\": 0.8388979557156563, \"count\": 1, \"min\": 0.8388979557156563, \"max\": 0.8388979557156563}}}\u001b[0m\n",
      "\u001b[34m#metrics {\"StartTime\": 1733347358.9374504, \"EndTime\": 1733347358.9374602, \"Dimensions\": {\"Algorithm\": \"Linear Learner\", \"Host\": \"algo-1\", \"Operation\": \"training\", \"epoch\": 6, \"model\": 29}, \"Metrics\": {\"train_absolute_loss_objective\": {\"sum\": 0.8659349575638771, \"count\": 1, \"min\": 0.8659349575638771, \"max\": 0.8659349575638771}}}\u001b[0m\n",
      "\u001b[34m#metrics {\"StartTime\": 1733347358.937491, \"EndTime\": 1733347358.9375002, \"Dimensions\": {\"Algorithm\": \"Linear Learner\", \"Host\": \"algo-1\", \"Operation\": \"training\", \"epoch\": 6, \"model\": 30}, \"Metrics\": {\"train_absolute_loss_objective\": {\"sum\": 0.8246224376559258, \"count\": 1, \"min\": 0.8246224376559258, \"max\": 0.8246224376559258}}}\u001b[0m\n",
      "\u001b[34m#metrics {\"StartTime\": 1733347358.9375317, \"EndTime\": 1733347358.9375415, \"Dimensions\": {\"Algorithm\": \"Linear Learner\", \"Host\": \"algo-1\", \"Operation\": \"training\", \"epoch\": 6, \"model\": 31}, \"Metrics\": {\"train_absolute_loss_objective\": {\"sum\": 0.8709067532420158, \"count\": 1, \"min\": 0.8709067532420158, \"max\": 0.8709067532420158}}}\u001b[0m\n",
      "\u001b[34m[12/04/2024 21:22:38 INFO 139730080646976] #quality_metric: host=algo-1, epoch=6, train absolute_loss_objective <loss>=0.12078396406024694\u001b[0m\n",
      "\u001b[34m[12/04/2024 21:22:38 INFO 139730080646976] #early_stopping_criteria_metric: host=algo-1, epoch=6, criteria=absolute_loss_objective, value=0.12046132806688548\u001b[0m\n",
      "\u001b[34m[12/04/2024 21:22:38 INFO 139730080646976] Saving model for epoch: 6\u001b[0m\n",
      "\u001b[34m[12/04/2024 21:22:38 INFO 139730080646976] Saved checkpoint to \"/tmp/tmpurzi0pl3/mx-mod-0000.params\"\u001b[0m\n",
      "\u001b[34m[12/04/2024 21:22:38 INFO 139730080646976] #progress_metric: host=algo-1, completed 70.0 % of epochs\u001b[0m\n",
      "\u001b[34m#metrics {\"StartTime\": 1733347357.8149173, \"EndTime\": 1733347358.9445984, \"Dimensions\": {\"Algorithm\": \"Linear Learner\", \"Host\": \"algo-1\", \"Operation\": \"training\", \"epoch\": 6, \"Meta\": \"training_data_iter\"}, \"Metrics\": {\"Total Records Seen\": {\"sum\": 3205.0, \"count\": 1, \"min\": 3205, \"max\": 3205}, \"Total Batches Seen\": {\"sum\": 641.0, \"count\": 1, \"min\": 641, \"max\": 641}, \"Max Records Seen Between Resets\": {\"sum\": 400.0, \"count\": 1, \"min\": 400, \"max\": 400}, \"Max Batches Seen Between Resets\": {\"sum\": 80.0, \"count\": 1, \"min\": 80, \"max\": 80}, \"Reset Count\": {\"sum\": 9.0, \"count\": 1, \"min\": 9, \"max\": 9}, \"Number of Records Since Last Reset\": {\"sum\": 400.0, \"count\": 1, \"min\": 400, \"max\": 400}, \"Number of Batches Since Last Reset\": {\"sum\": 80.0, \"count\": 1, \"min\": 80, \"max\": 80}}}\u001b[0m\n",
      "\u001b[34m[12/04/2024 21:22:38 INFO 139730080646976] #throughput_metric: host=algo-1, train throughput=354.04478882197685 records/second\u001b[0m\n",
      "\u001b[34m[2024-12-04 21:22:40.076] [tensorio] [info] epoch_stats={\"data_pipeline\": \"/opt/ml/input/data/train\", \"epoch\": 18, \"duration\": 1131, \"num_examples\": 80, \"num_bytes\": 19200}\u001b[0m\n",
      "\u001b[34m#metrics {\"StartTime\": 1733347360.0762358, \"EndTime\": 1733347360.0762985, \"Dimensions\": {\"Algorithm\": \"Linear Learner\", \"Host\": \"algo-1\", \"Operation\": \"training\", \"epoch\": 7, \"model\": 0}, \"Metrics\": {\"train_absolute_loss_objective\": {\"sum\": 0.12093131441622973, \"count\": 1, \"min\": 0.12093131441622973, \"max\": 0.12093131441622973}}}\u001b[0m\n",
      "\u001b[34m#metrics {\"StartTime\": 1733347360.0763679, \"EndTime\": 1733347360.0763783, \"Dimensions\": {\"Algorithm\": \"Linear Learner\", \"Host\": \"algo-1\", \"Operation\": \"training\", \"epoch\": 7, \"model\": 1}, \"Metrics\": {\"train_absolute_loss_objective\": {\"sum\": 0.1203213557228446, \"count\": 1, \"min\": 0.1203213557228446, \"max\": 0.1203213557228446}}}\u001b[0m\n",
      "\u001b[34m#metrics {\"StartTime\": 1733347360.0764089, \"EndTime\": 1733347360.076416, \"Dimensions\": {\"Algorithm\": \"Linear Learner\", \"Host\": \"algo-1\", \"Operation\": \"training\", \"epoch\": 7, \"model\": 2}, \"Metrics\": {\"train_absolute_loss_objective\": {\"sum\": 0.12057106003165245, \"count\": 1, \"min\": 0.12057106003165245, \"max\": 0.12057106003165245}}}\u001b[0m\n",
      "\u001b[34m#metrics {\"StartTime\": 1733347360.0764396, \"EndTime\": 1733347360.076446, \"Dimensions\": {\"Algorithm\": \"Linear Learner\", \"Host\": \"algo-1\", \"Operation\": \"training\", \"epoch\": 7, \"model\": 3}, \"Metrics\": {\"train_absolute_loss_objective\": {\"sum\": 0.1213233382254839, \"count\": 1, \"min\": 0.1213233382254839, \"max\": 0.1213233382254839}}}\u001b[0m\n",
      "\u001b[34m#metrics {\"StartTime\": 1733347360.0764685, \"EndTime\": 1733347360.076475, \"Dimensions\": {\"Algorithm\": \"Linear Learner\", \"Host\": \"algo-1\", \"Operation\": \"training\", \"epoch\": 7, \"model\": 4}, \"Metrics\": {\"train_absolute_loss_objective\": {\"sum\": 0.16050310827791692, \"count\": 1, \"min\": 0.16050310827791692, \"max\": 0.16050310827791692}}}\u001b[0m\n",
      "\u001b[34m#metrics {\"StartTime\": 1733347360.0764968, \"EndTime\": 1733347360.0765033, \"Dimensions\": {\"Algorithm\": \"Linear Learner\", \"Host\": \"algo-1\", \"Operation\": \"training\", \"epoch\": 7, \"model\": 5}, \"Metrics\": {\"train_absolute_loss_objective\": {\"sum\": 0.16860748663544656, \"count\": 1, \"min\": 0.16860748663544656, \"max\": 0.16860748663544656}}}\u001b[0m\n",
      "\u001b[34m#metrics {\"StartTime\": 1733347360.0765276, \"EndTime\": 1733347360.076534, \"Dimensions\": {\"Algorithm\": \"Linear Learner\", \"Host\": \"algo-1\", \"Operation\": \"training\", \"epoch\": 7, \"model\": 6}, \"Metrics\": {\"train_absolute_loss_objective\": {\"sum\": 0.14315949514508247, \"count\": 1, \"min\": 0.14315949514508247, \"max\": 0.14315949514508247}}}\u001b[0m\n",
      "\u001b[34m#metrics {\"StartTime\": 1733347360.0765615, \"EndTime\": 1733347360.0765676, \"Dimensions\": {\"Algorithm\": \"Linear Learner\", \"Host\": \"algo-1\", \"Operation\": \"training\", \"epoch\": 7, \"model\": 7}, \"Metrics\": {\"train_absolute_loss_objective\": {\"sum\": 0.19935805026441814, \"count\": 1, \"min\": 0.19935805026441814, \"max\": 0.19935805026441814}}}\u001b[0m\n",
      "\u001b[34m#metrics {\"StartTime\": 1733347360.0765913, \"EndTime\": 1733347360.0765977, \"Dimensions\": {\"Algorithm\": \"Linear Learner\", \"Host\": \"algo-1\", \"Operation\": \"training\", \"epoch\": 7, \"model\": 8}, \"Metrics\": {\"train_absolute_loss_objective\": {\"sum\": 0.12166193388402462, \"count\": 1, \"min\": 0.12166193388402462, \"max\": 0.12166193388402462}}}\u001b[0m\n",
      "\u001b[34m#metrics {\"StartTime\": 1733347360.0766215, \"EndTime\": 1733347360.0766277, \"Dimensions\": {\"Algorithm\": \"Linear Learner\", \"Host\": \"algo-1\", \"Operation\": \"training\", \"epoch\": 7, \"model\": 9}, \"Metrics\": {\"train_absolute_loss_objective\": {\"sum\": 0.12308186497539282, \"count\": 1, \"min\": 0.12308186497539282, \"max\": 0.12308186497539282}}}\u001b[0m\n",
      "\u001b[34m#metrics {\"StartTime\": 1733347360.0766492, \"EndTime\": 1733347360.0766554, \"Dimensions\": {\"Algorithm\": \"Linear Learner\", \"Host\": \"algo-1\", \"Operation\": \"training\", \"epoch\": 7, \"model\": 10}, \"Metrics\": {\"train_absolute_loss_objective\": {\"sum\": 0.12098984215408563, \"count\": 1, \"min\": 0.12098984215408563, \"max\": 0.12098984215408563}}}\u001b[0m\n",
      "\u001b[34m#metrics {\"StartTime\": 1733347360.0766788, \"EndTime\": 1733347360.076685, \"Dimensions\": {\"Algorithm\": \"Linear Learner\", \"Host\": \"algo-1\", \"Operation\": \"training\", \"epoch\": 7, \"model\": 11}, \"Metrics\": {\"train_absolute_loss_objective\": {\"sum\": 0.12286452185362577, \"count\": 1, \"min\": 0.12286452185362577, \"max\": 0.12286452185362577}}}\u001b[0m\n",
      "\u001b[34m#metrics {\"StartTime\": 1733347360.0767083, \"EndTime\": 1733347360.0767145, \"Dimensions\": {\"Algorithm\": \"Linear Learner\", \"Host\": \"algo-1\", \"Operation\": \"training\", \"epoch\": 7, \"model\": 12}, \"Metrics\": {\"train_absolute_loss_objective\": {\"sum\": 0.13449934028089047, \"count\": 1, \"min\": 0.13449934028089047, \"max\": 0.13449934028089047}}}\u001b[0m\n",
      "\u001b[34m#metrics {\"StartTime\": 1733347360.0767355, \"EndTime\": 1733347360.0767417, \"Dimensions\": {\"Algorithm\": \"Linear Learner\", \"Host\": \"algo-1\", \"Operation\": \"training\", \"epoch\": 7, \"model\": 13}, \"Metrics\": {\"train_absolute_loss_objective\": {\"sum\": 0.134702974781394, \"count\": 1, \"min\": 0.134702974781394, \"max\": 0.134702974781394}}}\u001b[0m\n",
      "\u001b[34m#metrics {\"StartTime\": 1733347360.0767622, \"EndTime\": 1733347360.076768, \"Dimensions\": {\"Algorithm\": \"Linear Learner\", \"Host\": \"algo-1\", \"Operation\": \"training\", \"epoch\": 7, \"model\": 14}, \"Metrics\": {\"train_absolute_loss_objective\": {\"sum\": 0.15791906759142876, \"count\": 1, \"min\": 0.15791906759142876, \"max\": 0.15791906759142876}}}\u001b[0m\n",
      "\u001b[34m#metrics {\"StartTime\": 1733347360.0767913, \"EndTime\": 1733347360.0767975, \"Dimensions\": {\"Algorithm\": \"Linear Learner\", \"Host\": \"algo-1\", \"Operation\": \"training\", \"epoch\": 7, \"model\": 15}, \"Metrics\": {\"train_absolute_loss_objective\": {\"sum\": 0.15569863304495812, \"count\": 1, \"min\": 0.15569863304495812, \"max\": 0.15569863304495812}}}\u001b[0m\n",
      "\u001b[34m#metrics {\"StartTime\": 1733347360.0768244, \"EndTime\": 1733347360.0768306, \"Dimensions\": {\"Algorithm\": \"Linear Learner\", \"Host\": \"algo-1\", \"Operation\": \"training\", \"epoch\": 7, \"model\": 16}, \"Metrics\": {\"train_absolute_loss_objective\": {\"sum\": 0.2637434379756451, \"count\": 1, \"min\": 0.2637434379756451, \"max\": 0.2637434379756451}}}\u001b[0m\n",
      "\u001b[34m#metrics {\"StartTime\": 1733347360.0768526, \"EndTime\": 1733347360.0768583, \"Dimensions\": {\"Algorithm\": \"Linear Learner\", \"Host\": \"algo-1\", \"Operation\": \"training\", \"epoch\": 7, \"model\": 17}, \"Metrics\": {\"train_absolute_loss_objective\": {\"sum\": 0.26588279515504837, \"count\": 1, \"min\": 0.26588279515504837, \"max\": 0.26588279515504837}}}\u001b[0m\n",
      "\u001b[34m#metrics {\"StartTime\": 1733347360.0768805, \"EndTime\": 1733347360.0768862, \"Dimensions\": {\"Algorithm\": \"Linear Learner\", \"Host\": \"algo-1\", \"Operation\": \"training\", \"epoch\": 7, \"model\": 18}, \"Metrics\": {\"train_absolute_loss_objective\": {\"sum\": 0.2644651408493519, \"count\": 1, \"min\": 0.2644651408493519, \"max\": 0.2644651408493519}}}\u001b[0m\n",
      "\u001b[34m#metrics {\"StartTime\": 1733347360.0769098, \"EndTime\": 1733347360.076916, \"Dimensions\": {\"Algorithm\": \"Linear Learner\", \"Host\": \"algo-1\", \"Operation\": \"training\", \"epoch\": 7, \"model\": 19}, \"Metrics\": {\"train_absolute_loss_objective\": {\"sum\": 0.2657219475507736, \"count\": 1, \"min\": 0.2657219475507736, \"max\": 0.2657219475507736}}}\u001b[0m\n",
      "\u001b[34m#metrics {\"StartTime\": 1733347360.0769367, \"EndTime\": 1733347360.0769427, \"Dimensions\": {\"Algorithm\": \"Linear Learner\", \"Host\": \"algo-1\", \"Operation\": \"training\", \"epoch\": 7, \"model\": 20}, \"Metrics\": {\"train_absolute_loss_objective\": {\"sum\": 0.3373679169267416, \"count\": 1, \"min\": 0.3373679169267416, \"max\": 0.3373679169267416}}}\u001b[0m\n",
      "\u001b[34m#metrics {\"StartTime\": 1733347360.0769632, \"EndTime\": 1733347360.076969, \"Dimensions\": {\"Algorithm\": \"Linear Learner\", \"Host\": \"algo-1\", \"Operation\": \"training\", \"epoch\": 7, \"model\": 21}, \"Metrics\": {\"train_absolute_loss_objective\": {\"sum\": 0.4205518943071365, \"count\": 1, \"min\": 0.4205518943071365, \"max\": 0.4205518943071365}}}\u001b[0m\n",
      "\u001b[34m#metrics {\"StartTime\": 1733347360.07699, \"EndTime\": 1733347360.076996, \"Dimensions\": {\"Algorithm\": \"Linear Learner\", \"Host\": \"algo-1\", \"Operation\": \"training\", \"epoch\": 7, \"model\": 22}, \"Metrics\": {\"train_absolute_loss_objective\": {\"sum\": 0.3365609209239483, \"count\": 1, \"min\": 0.3365609209239483, \"max\": 0.3365609209239483}}}\u001b[0m\n",
      "\u001b[34m#metrics {\"StartTime\": 1733347360.0770166, \"EndTime\": 1733347360.0770226, \"Dimensions\": {\"Algorithm\": \"Linear Learner\", \"Host\": \"algo-1\", \"Operation\": \"training\", \"epoch\": 7, \"model\": 23}, \"Metrics\": {\"train_absolute_loss_objective\": {\"sum\": 0.4154693430662155, \"count\": 1, \"min\": 0.4154693430662155, \"max\": 0.4154693430662155}}}\u001b[0m\n",
      "\u001b[34m#metrics {\"StartTime\": 1733347360.0770454, \"EndTime\": 1733347360.0770516, \"Dimensions\": {\"Algorithm\": \"Linear Learner\", \"Host\": \"algo-1\", \"Operation\": \"training\", \"epoch\": 7, \"model\": 24}, \"Metrics\": {\"train_absolute_loss_objective\": {\"sum\": 0.7864807587862015, \"count\": 1, \"min\": 0.7864807587862015, \"max\": 0.7864807587862015}}}\u001b[0m\n",
      "\u001b[34m#metrics {\"StartTime\": 1733347360.0770748, \"EndTime\": 1733347360.0770807, \"Dimensions\": {\"Algorithm\": \"Linear Learner\", \"Host\": \"algo-1\", \"Operation\": \"training\", \"epoch\": 7, \"model\": 25}, \"Metrics\": {\"train_absolute_loss_objective\": {\"sum\": 0.7885715720057488, \"count\": 1, \"min\": 0.7885715720057488, \"max\": 0.7885715720057488}}}\u001b[0m\n",
      "\u001b[34m#metrics {\"StartTime\": 1733347360.0771015, \"EndTime\": 1733347360.0771077, \"Dimensions\": {\"Algorithm\": \"Linear Learner\", \"Host\": \"algo-1\", \"Operation\": \"training\", \"epoch\": 7, \"model\": 26}, \"Metrics\": {\"train_absolute_loss_objective\": {\"sum\": 0.7864664971828461, \"count\": 1, \"min\": 0.7864664971828461, \"max\": 0.7864664971828461}}}\u001b[0m\n",
      "\u001b[34m#metrics {\"StartTime\": 1733347360.0771282, \"EndTime\": 1733347360.0771341, \"Dimensions\": {\"Algorithm\": \"Linear Learner\", \"Host\": \"algo-1\", \"Operation\": \"training\", \"epoch\": 7, \"model\": 27}, \"Metrics\": {\"train_absolute_loss_objective\": {\"sum\": 0.7885938453674316, \"count\": 1, \"min\": 0.7885938453674316, \"max\": 0.7885938453674316}}}\u001b[0m\n",
      "\u001b[34m#metrics {\"StartTime\": 1733347360.0771544, \"EndTime\": 1733347360.0771601, \"Dimensions\": {\"Algorithm\": \"Linear Learner\", \"Host\": \"algo-1\", \"Operation\": \"training\", \"epoch\": 7, \"model\": 28}, \"Metrics\": {\"train_absolute_loss_objective\": {\"sum\": 0.8429973408579826, \"count\": 1, \"min\": 0.8429973408579826, \"max\": 0.8429973408579826}}}\u001b[0m\n",
      "\u001b[34m#metrics {\"StartTime\": 1733347360.0771806, \"EndTime\": 1733347360.0771866, \"Dimensions\": {\"Algorithm\": \"Linear Learner\", \"Host\": \"algo-1\", \"Operation\": \"training\", \"epoch\": 7, \"model\": 29}, \"Metrics\": {\"train_absolute_loss_objective\": {\"sum\": 0.8814525699615479, \"count\": 1, \"min\": 0.8814525699615479, \"max\": 0.8814525699615479}}}\u001b[0m\n",
      "\u001b[34m#metrics {\"StartTime\": 1733347360.077207, \"EndTime\": 1733347360.0772128, \"Dimensions\": {\"Algorithm\": \"Linear Learner\", \"Host\": \"algo-1\", \"Operation\": \"training\", \"epoch\": 7, \"model\": 30}, \"Metrics\": {\"train_absolute_loss_objective\": {\"sum\": 0.8531331291794777, \"count\": 1, \"min\": 0.8531331291794777, \"max\": 0.8531331291794777}}}\u001b[0m\n",
      "\u001b[34m#metrics {\"StartTime\": 1733347360.0772333, \"EndTime\": 1733347360.0772393, \"Dimensions\": {\"Algorithm\": \"Linear Learner\", \"Host\": \"algo-1\", \"Operation\": \"training\", \"epoch\": 7, \"model\": 31}, \"Metrics\": {\"train_absolute_loss_objective\": {\"sum\": 0.8705449080467225, \"count\": 1, \"min\": 0.8705449080467225, \"max\": 0.8705449080467225}}}\u001b[0m\n",
      "\u001b[34m[12/04/2024 21:22:40 INFO 139730080646976] #quality_metric: host=algo-1, epoch=7, train absolute_loss_objective <loss>=0.12093131441622973\u001b[0m\n",
      "\u001b[34m[12/04/2024 21:22:40 INFO 139730080646976] #early_stopping_criteria_metric: host=algo-1, epoch=7, criteria=absolute_loss_objective, value=0.1203213557228446\u001b[0m\n",
      "\u001b[34m[12/04/2024 21:22:40 INFO 139730080646976] Saving model for epoch: 7\u001b[0m\n",
      "\u001b[34m[12/04/2024 21:22:40 INFO 139730080646976] Saved checkpoint to \"/tmp/tmpjumm7jio/mx-mod-0000.params\"\u001b[0m\n",
      "\u001b[34m[12/04/2024 21:22:40 INFO 139730080646976] #progress_metric: host=algo-1, completed 80.0 % of epochs\u001b[0m\n",
      "\u001b[34m#metrics {\"StartTime\": 1733347358.9448519, \"EndTime\": 1733347360.0852258, \"Dimensions\": {\"Algorithm\": \"Linear Learner\", \"Host\": \"algo-1\", \"Operation\": \"training\", \"epoch\": 7, \"Meta\": \"training_data_iter\"}, \"Metrics\": {\"Total Records Seen\": {\"sum\": 3605.0, \"count\": 1, \"min\": 3605, \"max\": 3605}, \"Total Batches Seen\": {\"sum\": 721.0, \"count\": 1, \"min\": 721, \"max\": 721}, \"Max Records Seen Between Resets\": {\"sum\": 400.0, \"count\": 1, \"min\": 400, \"max\": 400}, \"Max Batches Seen Between Resets\": {\"sum\": 80.0, \"count\": 1, \"min\": 80, \"max\": 80}, \"Reset Count\": {\"sum\": 10.0, \"count\": 1, \"min\": 10, \"max\": 10}, \"Number of Records Since Last Reset\": {\"sum\": 400.0, \"count\": 1, \"min\": 400, \"max\": 400}, \"Number of Batches Since Last Reset\": {\"sum\": 80.0, \"count\": 1, \"min\": 80, \"max\": 80}}}\u001b[0m\n",
      "\u001b[34m[12/04/2024 21:22:40 INFO 139730080646976] #throughput_metric: host=algo-1, train throughput=350.72906471084303 records/second\u001b[0m\n",
      "\u001b[34m[2024-12-04 21:22:41.180] [tensorio] [info] epoch_stats={\"data_pipeline\": \"/opt/ml/input/data/train\", \"epoch\": 20, \"duration\": 1094, \"num_examples\": 80, \"num_bytes\": 19200}\u001b[0m\n",
      "\u001b[34m#metrics {\"StartTime\": 1733347361.1804025, \"EndTime\": 1733347361.180464, \"Dimensions\": {\"Algorithm\": \"Linear Learner\", \"Host\": \"algo-1\", \"Operation\": \"training\", \"epoch\": 8, \"model\": 0}, \"Metrics\": {\"train_absolute_loss_objective\": {\"sum\": 0.12005150452256202, \"count\": 1, \"min\": 0.12005150452256202, \"max\": 0.12005150452256202}}}\u001b[0m\n",
      "\u001b[34m#metrics {\"StartTime\": 1733347361.1805363, \"EndTime\": 1733347361.1805468, \"Dimensions\": {\"Algorithm\": \"Linear Learner\", \"Host\": \"algo-1\", \"Operation\": \"training\", \"epoch\": 8, \"model\": 1}, \"Metrics\": {\"train_absolute_loss_objective\": {\"sum\": 0.12151684541255235, \"count\": 1, \"min\": 0.12151684541255235, \"max\": 0.12151684541255235}}}\u001b[0m\n",
      "\u001b[34m#metrics {\"StartTime\": 1733347361.1805742, \"EndTime\": 1733347361.180581, \"Dimensions\": {\"Algorithm\": \"Linear Learner\", \"Host\": \"algo-1\", \"Operation\": \"training\", \"epoch\": 8, \"model\": 2}, \"Metrics\": {\"train_absolute_loss_objective\": {\"sum\": 0.1193734959885478, \"count\": 1, \"min\": 0.1193734959885478, \"max\": 0.1193734959885478}}}\u001b[0m\n",
      "\u001b[34m#metrics {\"StartTime\": 1733347361.1806042, \"EndTime\": 1733347361.180611, \"Dimensions\": {\"Algorithm\": \"Linear Learner\", \"Host\": \"algo-1\", \"Operation\": \"training\", \"epoch\": 8, \"model\": 3}, \"Metrics\": {\"train_absolute_loss_objective\": {\"sum\": 0.12064577654004097, \"count\": 1, \"min\": 0.12064577654004097, \"max\": 0.12064577654004097}}}\u001b[0m\n",
      "\u001b[34m#metrics {\"StartTime\": 1733347361.1806328, \"EndTime\": 1733347361.1806393, \"Dimensions\": {\"Algorithm\": \"Linear Learner\", \"Host\": \"algo-1\", \"Operation\": \"training\", \"epoch\": 8, \"model\": 4}, \"Metrics\": {\"train_absolute_loss_objective\": {\"sum\": 0.17137696370482444, \"count\": 1, \"min\": 0.17137696370482444, \"max\": 0.17137696370482444}}}\u001b[0m\n",
      "\u001b[34m#metrics {\"StartTime\": 1733347361.1806612, \"EndTime\": 1733347361.1806674, \"Dimensions\": {\"Algorithm\": \"Linear Learner\", \"Host\": \"algo-1\", \"Operation\": \"training\", \"epoch\": 8, \"model\": 5}, \"Metrics\": {\"train_absolute_loss_objective\": {\"sum\": 0.1918494050949812, \"count\": 1, \"min\": 0.1918494050949812, \"max\": 0.1918494050949812}}}\u001b[0m\n",
      "\u001b[34m#metrics {\"StartTime\": 1733347361.1806943, \"EndTime\": 1733347361.1807003, \"Dimensions\": {\"Algorithm\": \"Linear Learner\", \"Host\": \"algo-1\", \"Operation\": \"training\", \"epoch\": 8, \"model\": 6}, \"Metrics\": {\"train_absolute_loss_objective\": {\"sum\": 0.17636504359543323, \"count\": 1, \"min\": 0.17636504359543323, \"max\": 0.17636504359543323}}}\u001b[0m\n",
      "\u001b[34m#metrics {\"StartTime\": 1733347361.1807265, \"EndTime\": 1733347361.1807327, \"Dimensions\": {\"Algorithm\": \"Linear Learner\", \"Host\": \"algo-1\", \"Operation\": \"training\", \"epoch\": 8, \"model\": 7}, \"Metrics\": {\"train_absolute_loss_objective\": {\"sum\": 0.14912320338189602, \"count\": 1, \"min\": 0.14912320338189602, \"max\": 0.14912320338189602}}}\u001b[0m\n",
      "\u001b[34m#metrics {\"StartTime\": 1733347361.1807544, \"EndTime\": 1733347361.1807606, \"Dimensions\": {\"Algorithm\": \"Linear Learner\", \"Host\": \"algo-1\", \"Operation\": \"training\", \"epoch\": 8, \"model\": 8}, \"Metrics\": {\"train_absolute_loss_objective\": {\"sum\": 0.11929578471928835, \"count\": 1, \"min\": 0.11929578471928835, \"max\": 0.11929578471928835}}}\u001b[0m\n",
      "\u001b[34m#metrics {\"StartTime\": 1733347361.1807816, \"EndTime\": 1733347361.1807876, \"Dimensions\": {\"Algorithm\": \"Linear Learner\", \"Host\": \"algo-1\", \"Operation\": \"training\", \"epoch\": 8, \"model\": 9}, \"Metrics\": {\"train_absolute_loss_objective\": {\"sum\": 0.12096969354897738, \"count\": 1, \"min\": 0.12096969354897738, \"max\": 0.12096969354897738}}}\u001b[0m\n",
      "\u001b[34m#metrics {\"StartTime\": 1733347361.1808085, \"EndTime\": 1733347361.1808145, \"Dimensions\": {\"Algorithm\": \"Linear Learner\", \"Host\": \"algo-1\", \"Operation\": \"training\", \"epoch\": 8, \"model\": 10}, \"Metrics\": {\"train_absolute_loss_objective\": {\"sum\": 0.11995275877416134, \"count\": 1, \"min\": 0.11995275877416134, \"max\": 0.11995275877416134}}}\u001b[0m\n",
      "\u001b[34m#metrics {\"StartTime\": 1733347361.1808357, \"EndTime\": 1733347361.1808417, \"Dimensions\": {\"Algorithm\": \"Linear Learner\", \"Host\": \"algo-1\", \"Operation\": \"training\", \"epoch\": 8, \"model\": 11}, \"Metrics\": {\"train_absolute_loss_objective\": {\"sum\": 0.1212239721417427, \"count\": 1, \"min\": 0.1212239721417427, \"max\": 0.1212239721417427}}}\u001b[0m\n",
      "\u001b[34m#metrics {\"StartTime\": 1733347361.1808627, \"EndTime\": 1733347361.1808686, \"Dimensions\": {\"Algorithm\": \"Linear Learner\", \"Host\": \"algo-1\", \"Operation\": \"training\", \"epoch\": 8, \"model\": 12}, \"Metrics\": {\"train_absolute_loss_objective\": {\"sum\": 0.16228825256228446, \"count\": 1, \"min\": 0.16228825256228446, \"max\": 0.16228825256228446}}}\u001b[0m\n",
      "\u001b[34m#metrics {\"StartTime\": 1733347361.1808898, \"EndTime\": 1733347361.1808958, \"Dimensions\": {\"Algorithm\": \"Linear Learner\", \"Host\": \"algo-1\", \"Operation\": \"training\", \"epoch\": 8, \"model\": 13}, \"Metrics\": {\"train_absolute_loss_objective\": {\"sum\": 0.175968650393188, \"count\": 1, \"min\": 0.175968650393188, \"max\": 0.175968650393188}}}\u001b[0m\n",
      "\u001b[34m#metrics {\"StartTime\": 1733347361.1809165, \"EndTime\": 1733347361.1809225, \"Dimensions\": {\"Algorithm\": \"Linear Learner\", \"Host\": \"algo-1\", \"Operation\": \"training\", \"epoch\": 8, \"model\": 14}, \"Metrics\": {\"train_absolute_loss_objective\": {\"sum\": 0.13648434791713954, \"count\": 1, \"min\": 0.13648434791713954, \"max\": 0.13648434791713954}}}\u001b[0m\n",
      "\u001b[34m#metrics {\"StartTime\": 1733347361.1809437, \"EndTime\": 1733347361.1809494, \"Dimensions\": {\"Algorithm\": \"Linear Learner\", \"Host\": \"algo-1\", \"Operation\": \"training\", \"epoch\": 8, \"model\": 15}, \"Metrics\": {\"train_absolute_loss_objective\": {\"sum\": 0.1557333615422249, \"count\": 1, \"min\": 0.1557333615422249, \"max\": 0.1557333615422249}}}\u001b[0m\n",
      "\u001b[34m#metrics {\"StartTime\": 1733347361.1809702, \"EndTime\": 1733347361.1809764, \"Dimensions\": {\"Algorithm\": \"Linear Learner\", \"Host\": \"algo-1\", \"Operation\": \"training\", \"epoch\": 8, \"model\": 16}, \"Metrics\": {\"train_absolute_loss_objective\": {\"sum\": 0.26245434284210206, \"count\": 1, \"min\": 0.26245434284210206, \"max\": 0.26245434284210206}}}\u001b[0m\n",
      "\u001b[34m#metrics {\"StartTime\": 1733347361.1809974, \"EndTime\": 1733347361.1810036, \"Dimensions\": {\"Algorithm\": \"Linear Learner\", \"Host\": \"algo-1\", \"Operation\": \"training\", \"epoch\": 8, \"model\": 17}, \"Metrics\": {\"train_absolute_loss_objective\": {\"sum\": 0.2654828333854675, \"count\": 1, \"min\": 0.2654828333854675, \"max\": 0.2654828333854675}}}\u001b[0m\n",
      "\u001b[34m#metrics {\"StartTime\": 1733347361.1810243, \"EndTime\": 1733347361.18103, \"Dimensions\": {\"Algorithm\": \"Linear Learner\", \"Host\": \"algo-1\", \"Operation\": \"training\", \"epoch\": 8, \"model\": 18}, \"Metrics\": {\"train_absolute_loss_objective\": {\"sum\": 0.26261260867118835, \"count\": 1, \"min\": 0.26261260867118835, \"max\": 0.26261260867118835}}}\u001b[0m\n",
      "\u001b[34m#metrics {\"StartTime\": 1733347361.1810513, \"EndTime\": 1733347361.181057, \"Dimensions\": {\"Algorithm\": \"Linear Learner\", \"Host\": \"algo-1\", \"Operation\": \"training\", \"epoch\": 8, \"model\": 19}, \"Metrics\": {\"train_absolute_loss_objective\": {\"sum\": 0.2654456487298012, \"count\": 1, \"min\": 0.2654456487298012, \"max\": 0.2654456487298012}}}\u001b[0m\n",
      "\u001b[34m#metrics {\"StartTime\": 1733347361.1810782, \"EndTime\": 1733347361.1810844, \"Dimensions\": {\"Algorithm\": \"Linear Learner\", \"Host\": \"algo-1\", \"Operation\": \"training\", \"epoch\": 8, \"model\": 20}, \"Metrics\": {\"train_absolute_loss_objective\": {\"sum\": 0.34599405750632284, \"count\": 1, \"min\": 0.34599405750632284, \"max\": 0.34599405750632284}}}\u001b[0m\n",
      "\u001b[34m#metrics {\"StartTime\": 1733347361.1811104, \"EndTime\": 1733347361.1811166, \"Dimensions\": {\"Algorithm\": \"Linear Learner\", \"Host\": \"algo-1\", \"Operation\": \"training\", \"epoch\": 8, \"model\": 21}, \"Metrics\": {\"train_absolute_loss_objective\": {\"sum\": 0.5477841356396675, \"count\": 1, \"min\": 0.5477841356396675, \"max\": 0.5477841356396675}}}\u001b[0m\n",
      "\u001b[34m#metrics {\"StartTime\": 1733347361.1811402, \"EndTime\": 1733347361.1811464, \"Dimensions\": {\"Algorithm\": \"Linear Learner\", \"Host\": \"algo-1\", \"Operation\": \"training\", \"epoch\": 8, \"model\": 22}, \"Metrics\": {\"train_absolute_loss_objective\": {\"sum\": 0.34321234583854676, \"count\": 1, \"min\": 0.34321234583854676, \"max\": 0.34321234583854676}}}\u001b[0m\n",
      "\u001b[34m#metrics {\"StartTime\": 1733347361.1811743, \"EndTime\": 1733347361.1811807, \"Dimensions\": {\"Algorithm\": \"Linear Learner\", \"Host\": \"algo-1\", \"Operation\": \"training\", \"epoch\": 8, \"model\": 23}, \"Metrics\": {\"train_absolute_loss_objective\": {\"sum\": 0.43512821540236474, \"count\": 1, \"min\": 0.43512821540236474, \"max\": 0.43512821540236474}}}\u001b[0m\n",
      "\u001b[34m#metrics {\"StartTime\": 1733347361.1812065, \"EndTime\": 1733347361.181213, \"Dimensions\": {\"Algorithm\": \"Linear Learner\", \"Host\": \"algo-1\", \"Operation\": \"training\", \"epoch\": 8, \"model\": 24}, \"Metrics\": {\"train_absolute_loss_objective\": {\"sum\": 0.7863851353526116, \"count\": 1, \"min\": 0.7863851353526116, \"max\": 0.7863851353526116}}}\u001b[0m\n",
      "\u001b[34m#metrics {\"StartTime\": 1733347361.181239, \"EndTime\": 1733347361.1812449, \"Dimensions\": {\"Algorithm\": \"Linear Learner\", \"Host\": \"algo-1\", \"Operation\": \"training\", \"epoch\": 8, \"model\": 25}, \"Metrics\": {\"train_absolute_loss_objective\": {\"sum\": 0.7885349830985069, \"count\": 1, \"min\": 0.7885349830985069, \"max\": 0.7885349830985069}}}\u001b[0m\n",
      "\u001b[34m#metrics {\"StartTime\": 1733347361.181271, \"EndTime\": 1733347361.1812775, \"Dimensions\": {\"Algorithm\": \"Linear Learner\", \"Host\": \"algo-1\", \"Operation\": \"training\", \"epoch\": 8, \"model\": 26}, \"Metrics\": {\"train_absolute_loss_objective\": {\"sum\": 0.786366965174675, \"count\": 1, \"min\": 0.786366965174675, \"max\": 0.786366965174675}}}\u001b[0m\n",
      "\u001b[34m#metrics {\"StartTime\": 1733347361.1813016, \"EndTime\": 1733347361.1813076, \"Dimensions\": {\"Algorithm\": \"Linear Learner\", \"Host\": \"algo-1\", \"Operation\": \"training\", \"epoch\": 8, \"model\": 27}, \"Metrics\": {\"train_absolute_loss_objective\": {\"sum\": 0.7885548752546311, \"count\": 1, \"min\": 0.7885548752546311, \"max\": 0.7885548752546311}}}\u001b[0m\n",
      "\u001b[34m#metrics {\"StartTime\": 1733347361.1813335, \"EndTime\": 1733347361.18134, \"Dimensions\": {\"Algorithm\": \"Linear Learner\", \"Host\": \"algo-1\", \"Operation\": \"training\", \"epoch\": 8, \"model\": 28}, \"Metrics\": {\"train_absolute_loss_objective\": {\"sum\": 0.8283491683006287, \"count\": 1, \"min\": 0.8283491683006287, \"max\": 0.8283491683006287}}}\u001b[0m\n",
      "\u001b[34m#metrics {\"StartTime\": 1733347361.1813655, \"EndTime\": 1733347361.181372, \"Dimensions\": {\"Algorithm\": \"Linear Learner\", \"Host\": \"algo-1\", \"Operation\": \"training\", \"epoch\": 8, \"model\": 29}, \"Metrics\": {\"train_absolute_loss_objective\": {\"sum\": 0.8780663377046585, \"count\": 1, \"min\": 0.8780663377046585, \"max\": 0.8780663377046585}}}\u001b[0m\n",
      "\u001b[34m#metrics {\"StartTime\": 1733347361.1813974, \"EndTime\": 1733347361.1814036, \"Dimensions\": {\"Algorithm\": \"Linear Learner\", \"Host\": \"algo-1\", \"Operation\": \"training\", \"epoch\": 8, \"model\": 30}, \"Metrics\": {\"train_absolute_loss_objective\": {\"sum\": 0.8459265947341919, \"count\": 1, \"min\": 0.8459265947341919, \"max\": 0.8459265947341919}}}\u001b[0m\n",
      "\u001b[34m#metrics {\"StartTime\": 1733347361.1814253, \"EndTime\": 1733347361.1814313, \"Dimensions\": {\"Algorithm\": \"Linear Learner\", \"Host\": \"algo-1\", \"Operation\": \"training\", \"epoch\": 8, \"model\": 31}, \"Metrics\": {\"train_absolute_loss_objective\": {\"sum\": 0.8671795243024826, \"count\": 1, \"min\": 0.8671795243024826, \"max\": 0.8671795243024826}}}\u001b[0m\n",
      "\u001b[34m[12/04/2024 21:22:41 INFO 139730080646976] #quality_metric: host=algo-1, epoch=8, train absolute_loss_objective <loss>=0.12005150452256202\u001b[0m\n",
      "\u001b[34m[12/04/2024 21:22:41 INFO 139730080646976] #early_stopping_criteria_metric: host=algo-1, epoch=8, criteria=absolute_loss_objective, value=0.11929578471928835\u001b[0m\n",
      "\u001b[34m[12/04/2024 21:22:41 INFO 139730080646976] Saving model for epoch: 8\u001b[0m\n",
      "\u001b[34m[12/04/2024 21:22:41 INFO 139730080646976] Saved checkpoint to \"/tmp/tmpabtfqpwg/mx-mod-0000.params\"\u001b[0m\n",
      "\u001b[34m[12/04/2024 21:22:41 INFO 139730080646976] Early stop condition met. Stopping training.\u001b[0m\n",
      "\u001b[34m[12/04/2024 21:22:41 INFO 139730080646976] #progress_metric: host=algo-1, completed 100 % epochs\u001b[0m\n",
      "\u001b[34m#metrics {\"StartTime\": 1733347360.085411, \"EndTime\": 1733347361.1891804, \"Dimensions\": {\"Algorithm\": \"Linear Learner\", \"Host\": \"algo-1\", \"Operation\": \"training\", \"epoch\": 8, \"Meta\": \"training_data_iter\"}, \"Metrics\": {\"Total Records Seen\": {\"sum\": 4005.0, \"count\": 1, \"min\": 4005, \"max\": 4005}, \"Total Batches Seen\": {\"sum\": 801.0, \"count\": 1, \"min\": 801, \"max\": 801}, \"Max Records Seen Between Resets\": {\"sum\": 400.0, \"count\": 1, \"min\": 400, \"max\": 400}, \"Max Batches Seen Between Resets\": {\"sum\": 80.0, \"count\": 1, \"min\": 80, \"max\": 80}, \"Reset Count\": {\"sum\": 11.0, \"count\": 1, \"min\": 11, \"max\": 11}, \"Number of Records Since Last Reset\": {\"sum\": 400.0, \"count\": 1, \"min\": 400, \"max\": 400}, \"Number of Batches Since Last Reset\": {\"sum\": 80.0, \"count\": 1, \"min\": 80, \"max\": 80}}}\u001b[0m\n",
      "\u001b[34m[12/04/2024 21:22:41 INFO 139730080646976] #throughput_metric: host=algo-1, train throughput=362.36012910627767 records/second\u001b[0m\n",
      "\u001b[34m[12/04/2024 21:22:41 WARNING 139730080646976] wait_for_all_workers will not sync workers since the kv store is not running distributed\u001b[0m\n",
      "\u001b[34m[12/04/2024 21:22:41 WARNING 139730080646976] wait_for_all_workers will not sync workers since the kv store is not running distributed\u001b[0m\n",
      "\u001b[34m[2024-12-04 21:22:41.190] [tensorio] [info] epoch_stats={\"data_pipeline\": \"/opt/ml/input/data/train\", \"epoch\": 22, \"duration\": 0, \"num_examples\": 1, \"num_bytes\": 240}\u001b[0m\n",
      "\u001b[34m[2024-12-04 21:22:41.284] [tensorio] [info] epoch_stats={\"data_pipeline\": \"/opt/ml/input/data/train\", \"epoch\": 24, \"duration\": 91, \"num_examples\": 80, \"num_bytes\": 19200}\u001b[0m\n",
      "\u001b[34m[12/04/2024 21:22:41 INFO 139730080646976] #train_score (algo-1) : ('absolute_loss_objective', 20.96660672187805)\u001b[0m\n",
      "\u001b[34m[12/04/2024 21:22:41 INFO 139730080646976] #train_score (algo-1) : ('mse', 705.4845690917969)\u001b[0m\n",
      "\u001b[34m[12/04/2024 21:22:41 INFO 139730080646976] #train_score (algo-1) : ('absolute_loss', 20.96660672187805)\u001b[0m\n",
      "\u001b[34m[12/04/2024 21:22:41 INFO 139730080646976] #train_score (algo-1) : ('rmse', 26.560959491174202)\u001b[0m\n",
      "\u001b[34m[12/04/2024 21:22:41 INFO 139730080646976] #train_score (algo-1) : ('r2', 0.9772545366562395)\u001b[0m\n",
      "\u001b[34m[12/04/2024 21:22:41 INFO 139730080646976] #train_score (algo-1) : ('mae', 20.96660672187805)\u001b[0m\n",
      "\u001b[34m[12/04/2024 21:22:41 INFO 139730080646976] #quality_metric: host=algo-1, train absolute_loss_objective <loss>=20.96660672187805\u001b[0m\n",
      "\u001b[34m[12/04/2024 21:22:41 INFO 139730080646976] #quality_metric: host=algo-1, train mse <loss>=705.4845690917969\u001b[0m\n",
      "\u001b[34m[12/04/2024 21:22:41 INFO 139730080646976] #quality_metric: host=algo-1, train absolute_loss <loss>=20.96660672187805\u001b[0m\n",
      "\u001b[34m[12/04/2024 21:22:41 INFO 139730080646976] #quality_metric: host=algo-1, train rmse <loss>=26.560959491174202\u001b[0m\n",
      "\u001b[34m[12/04/2024 21:22:41 INFO 139730080646976] #quality_metric: host=algo-1, train r2 <loss>=0.9772545366562395\u001b[0m\n",
      "\u001b[34m[12/04/2024 21:22:41 INFO 139730080646976] #quality_metric: host=algo-1, train mae <loss>=20.96660672187805\u001b[0m\n",
      "\u001b[34m[12/04/2024 21:22:41 INFO 139730080646976] Best model found for hyperparameters: {\"optimizer\": \"adam\", \"learning_rate\": 0.005, \"wd\": 0.0001, \"l1\": 0.0, \"lr_scheduler_step\": 10, \"lr_scheduler_factor\": 0.99, \"lr_scheduler_minimum_lr\": 0.0001}\u001b[0m\n",
      "\u001b[34m[12/04/2024 21:22:41 INFO 139730080646976] Saved checkpoint to \"/tmp/tmpflnncr4o/mx-mod-0000.params\"\u001b[0m\n",
      "\u001b[34m[12/04/2024 21:22:41 INFO 139730080646976] Test data is not provided.\u001b[0m\n",
      "\u001b[34m#metrics {\"StartTime\": 1733347349.7232678, \"EndTime\": 1733347361.291258, \"Dimensions\": {\"Algorithm\": \"Linear Learner\", \"Host\": \"algo-1\", \"Operation\": \"training\"}, \"Metrics\": {\"initialize.time\": {\"sum\": 496.8712329864502, \"count\": 1, \"min\": 496.8712329864502, \"max\": 496.8712329864502}, \"epochs\": {\"sum\": 10.0, \"count\": 1, \"min\": 10, \"max\": 10}, \"check_early_stopping.time\": {\"sum\": 5.697965621948242, \"count\": 9, \"min\": 0.19025802612304688, \"max\": 1.107931137084961}, \"update.time\": {\"sum\": 10941.14875793457, \"count\": 9, \"min\": 1101.4955043792725, \"max\": 1384.4177722930908}, \"finalize.time\": {\"sum\": 97.32341766357422, \"count\": 1, \"min\": 97.32341766357422, \"max\": 97.32341766357422}, \"setuptime\": {\"sum\": 2.004861831665039, \"count\": 1, \"min\": 2.004861831665039, \"max\": 2.004861831665039}, \"totaltime\": {\"sum\": 11685.325384140015, \"count\": 1, \"min\": 11685.325384140015, \"max\": 11685.325384140015}}}\u001b[0m\n",
      "\n",
      "2024-12-04 21:23:01 Uploading - Uploading generated training model\n",
      "2024-12-04 21:23:01 Completed - Training job completed\n",
      "Training seconds: 156\n",
      "Billable seconds: 156\n"
     ]
    }
   ],
   "source": [
    "# More epochs and additional number of models\n",
    "linear = sagemaker.estimator.Estimator(container,\n",
    "                                       role, \n",
    "                                       instance_count = 1, \n",
    "                                       instance_type = 'ml.m4.xlarge',\n",
    "                                       output_path = output_location,\n",
    "                                       sagemaker_session = sagemaker_session)\n",
    "\n",
    "linear.set_hyperparameters(feature_dim = 1,\n",
    "                           predictor_type = 'regressor',\n",
    "                           mini_batch_size = 5,\n",
    "                           epochs = 10,\n",
    "                           num_models = 32,\n",
    "                           loss = 'absolute_loss')\n",
    "\n",
    "# Now we are ready to pass in the training data from S3 to train the linear learner model\n",
    "\n",
    "linear.fit({'train': s3_train_data})"
   ]
  },
  {
   "cell_type": "code",
   "execution_count": 65,
   "metadata": {
    "tags": []
   },
   "outputs": [
    {
     "name": "stderr",
     "output_type": "stream",
     "text": [
      "INFO:sagemaker:Creating model with name: linear-learner-2024-12-04-21-23-54-408\n",
      "INFO:sagemaker:Creating endpoint-config with name linear-learner-2024-12-04-21-23-54-408\n",
      "INFO:sagemaker:Creating endpoint with name linear-learner-2024-12-04-21-23-54-408\n"
     ]
    },
    {
     "name": "stdout",
     "output_type": "stream",
     "text": [
      "-----------!"
     ]
    }
   ],
   "source": [
    "from sagemaker.deserializers import JSONDeserializer\n",
    "from sagemaker.serializers import CSVSerializer\n",
    "\n",
    "\n",
    "linear_regressor = linear.deploy(initial_instance_count = 1,\n",
    "                                 instance_type = 'ml.m4.xlarge',\n",
    "                                 serializer = CSVSerializer(),\n",
    "                                 deserializer = JSONDeserializer())"
   ]
  },
  {
   "cell_type": "code",
   "execution_count": 66,
   "metadata": {
    "tags": []
   },
   "outputs": [],
   "source": [
    "result = linear_regressor.predict(X_test)"
   ]
  },
  {
   "cell_type": "code",
   "execution_count": 67,
   "metadata": {
    "tags": []
   },
   "outputs": [],
   "source": [
    "predictions = np.array([r['score'] for r in result['predictions']])"
   ]
  },
  {
   "cell_type": "code",
   "execution_count": 68,
   "metadata": {
    "tags": []
   },
   "outputs": [
    {
     "data": {
      "text/plain": [
       "array([ 665.26501465,  787.02685547,  272.95019531,  597.43609619,\n",
       "        895.52893066,  473.38140869,  418.25161743,  428.57546997,\n",
       "        245.23461914,  574.21148682,  292.64733887,  833.39935303,\n",
       "        350.1081543 ,  184.61386108,  857.26568604,  614.74377441,\n",
       "        300.21273804,  249.99786377,  411.80569458,  292.16708374,\n",
       "        690.36791992,  189.56184387,  521.61108398,  639.11529541,\n",
       "        757.80706787,  556.50128174,  868.81890869,   30.3381958 ,\n",
       "        558.8614502 ,  598.36120605,  145.54330444,  420.98260498,\n",
       "        702.46838379,  675.41027832,  739.03985596,  488.96838379,\n",
       "        433.02130127,  346.18777466,  936.92657471,  618.9576416 ,\n",
       "        464.81515503,  476.68035889,  627.61633301,  686.47143555,\n",
       "        500.92349243,  465.54885864,  405.83584595,  403.67016602,\n",
       "        799.6998291 ,  445.22042847,  441.72286987,  597.3470459 ,\n",
       "        464.08764648,  632.06158447,  486.73858643,  581.24768066,\n",
       "        553.74951172,  629.40533447,  220.39660645,  628.16583252,\n",
       "        375.82666016,  403.44262695,  655.32440186,  402.2237854 ,\n",
       "        221.22792053,  703.88464355,  447.15914917,  619.21099854,\n",
       "        683.28027344, 1007.11114502,  440.76712036,  358.16320801,\n",
       "        505.64532471,  670.84503174,  448.80230713,  678.91485596,\n",
       "        499.42025757,  572.74066162,  706.69989014,  783.06219482,\n",
       "        484.00747681,  836.22088623,  602.52142334,  797.23974609,\n",
       "        561.80926514,  869.67272949,  657.64770508,  293.48114014,\n",
       "        282.02224731,  409.22109985,  483.92160034,  905.17443848,\n",
       "        606.20489502,  888.01330566,  516.51019287,  232.40745544,\n",
       "        453.49237061,  512.75817871,  440.3041687 ,  502.49053955,\n",
       "        424.50332642,  353.02282715,  656.11883545,  580.22711182,\n",
       "        432.08187866,  518.35131836,  683.36932373,  399.29550171,\n",
       "        622.50274658,  135.95718384,  538.41766357,  297.35784912,\n",
       "        738.66918945,  392.91311646,  615.62530518,  547.48352051,\n",
       "        778.59338379,  530.79785156,  354.44244385,  575.42236328,\n",
       "        513.83862305,  744.31787109,  303.57754517,  515.73797607,\n",
       "        658.89672852])"
      ]
     },
     "execution_count": 68,
     "metadata": {},
     "output_type": "execute_result"
    }
   ],
   "source": [
    "predictions"
   ]
  },
  {
   "cell_type": "code",
   "execution_count": 69,
   "metadata": {
    "tags": []
   },
   "outputs": [
    {
     "data": {
      "text/plain": [
       "(125,)"
      ]
     },
     "execution_count": 69,
     "metadata": {},
     "output_type": "execute_result"
    }
   ],
   "source": [
    "predictions.shape"
   ]
  },
  {
   "cell_type": "code",
   "execution_count": 70,
   "metadata": {
    "tags": []
   },
   "outputs": [
    {
     "data": {
      "image/png": "[encoded data removed]",
      "text/plain": [
       "<Figure size 1000x600 with 1 Axes>"
      ]
     },
     "metadata": {},
     "output_type": "display_data"
    }
   ],
   "source": [
    "plt.figure(figsize = (10, 6))\n",
    "plt.scatter(X_test, y_test, color = 'blue')\n",
    "plt.plot(X_test, predictions, color = 'red')\n",
    "plt.xlabel('Temperature [DegC]')\n",
    "plt.ylabel('Revenue [$]')\n",
    "plt.title('Temperature vs. Revenue (Testing Dataset)')\n",
    "plt.grid()"
   ]
  },
  {
   "cell_type": "code",
   "execution_count": 71,
   "metadata": {
    "tags": []
   },
   "outputs": [
    {
     "name": "stdout",
     "output_type": "stream",
     "text": [
      "{'predictions': [{'score': 247.39886474609375}]}\n",
      "{'predictions': [{'score': 790.050537109375}]}\n"
     ]
    }
   ],
   "source": [
    "temperature = [[10]]\n",
    "revenue = linear_regressor.predict(temperature)\n",
    "print(revenue)\n",
    "\n",
    "temperature = [[35]] \n",
    "revenue = linear_regressor.predict(temperature)\n",
    "print(revenue)"
   ]
  },
  {
   "cell_type": "code",
   "execution_count": 72,
   "metadata": {
    "tags": []
   },
   "outputs": [
    {
     "name": "stderr",
     "output_type": "stream",
     "text": [
      "INFO:sagemaker:Deleting endpoint configuration with name: linear-learner-2024-12-04-21-23-54-408\n",
      "INFO:sagemaker:Deleting endpoint with name: linear-learner-2024-12-04-21-23-54-408\n"
     ]
    }
   ],
   "source": [
    "linear_regressor.delete_endpoint()"
   ]
  },
  {
   "cell_type": "code",
   "execution_count": null,
   "metadata": {},
   "outputs": [],
   "source": []
  },
  {
   "cell_type": "code",
   "execution_count": null,
   "metadata": {},
   "outputs": [],
   "source": []
  }
 ],
 "metadata": {
  "availableInstances": [
   {
    "_defaultOrder": 0,
    "_isFastLaunch": true,
    "category": "General purpose",
    "gpuNum": 0,
    "hideHardwareSpecs": false,
    "memoryGiB": 4,
    "name": "ml.t3.medium",
    "vcpuNum": 2
   },
   {
    "_defaultOrder": 1,
    "_isFastLaunch": false,
    "category": "General purpose",
    "gpuNum": 0,
    "hideHardwareSpecs": false,
    "memoryGiB": 8,
    "name": "ml.t3.large",
    "vcpuNum": 2
   },
   {
    "_defaultOrder": 2,
    "_isFastLaunch": false,
    "category": "General purpose",
    "gpuNum": 0,
    "hideHardwareSpecs": false,
    "memoryGiB": 16,
    "name": "ml.t3.xlarge",
    "vcpuNum": 4
   },
   {
    "_defaultOrder": 3,
    "_isFastLaunch": false,
    "category": "General purpose",
    "gpuNum": 0,
    "hideHardwareSpecs": false,
    "memoryGiB": 32,
    "name": "ml.t3.2xlarge",
    "vcpuNum": 8
   },
   {
    "_defaultOrder": 4,
    "_isFastLaunch": true,
    "category": "General purpose",
    "gpuNum": 0,
    "hideHardwareSpecs": false,
    "memoryGiB": 8,
    "name": "ml.m5.large",
    "vcpuNum": 2
   },
   {
    "_defaultOrder": 5,
    "_isFastLaunch": false,
    "category": "General purpose",
    "gpuNum": 0,
    "hideHardwareSpecs": false,
    "memoryGiB": 16,
    "name": "ml.m5.xlarge",
    "vcpuNum": 4
   },
   {
    "_defaultOrder": 6,
    "_isFastLaunch": false,
    "category": "General purpose",
    "gpuNum": 0,
    "hideHardwareSpecs": false,
    "memoryGiB": 32,
    "name": "ml.m5.2xlarge",
    "vcpuNum": 8
   },
   {
    "_defaultOrder": 7,
    "_isFastLaunch": false,
    "category": "General purpose",
    "gpuNum": 0,
    "hideHardwareSpecs": false,
    "memoryGiB": 64,
    "name": "ml.m5.4xlarge",
    "vcpuNum": 16
   },
   {
    "_defaultOrder": 8,
    "_isFastLaunch": false,
    "category": "General purpose",
    "gpuNum": 0,
    "hideHardwareSpecs": false,
    "memoryGiB": 128,
    "name": "ml.m5.8xlarge",
    "vcpuNum": 32
   },
   {
    "_defaultOrder": 9,
    "_isFastLaunch": false,
    "category": "General purpose",
    "gpuNum": 0,
    "hideHardwareSpecs": false,
    "memoryGiB": 192,
    "name": "ml.m5.12xlarge",
    "vcpuNum": 48
   },
   {
    "_defaultOrder": 10,
    "_isFastLaunch": false,
    "category": "General purpose",
    "gpuNum": 0,
    "hideHardwareSpecs": false,
    "memoryGiB": 256,
    "name": "ml.m5.16xlarge",
    "vcpuNum": 64
   },
   {
    "_defaultOrder": 11,
    "_isFastLaunch": false,
    "category": "General purpose",
    "gpuNum": 0,
    "hideHardwareSpecs": false,
    "memoryGiB": 384,
    "name": "ml.m5.24xlarge",
    "vcpuNum": 96
   },
   {
    "_defaultOrder": 12,
    "_isFastLaunch": false,
    "category": "General purpose",
    "gpuNum": 0,
    "hideHardwareSpecs": false,
    "memoryGiB": 8,
    "name": "ml.m5d.large",
    "vcpuNum": 2
   },
   {
    "_defaultOrder": 13,
    "_isFastLaunch": false,
    "category": "General purpose",
    "gpuNum": 0,
    "hideHardwareSpecs": false,
    "memoryGiB": 16,
    "name": "ml.m5d.xlarge",
    "vcpuNum": 4
   },
   {
    "_defaultOrder": 14,
    "_isFastLaunch": false,
    "category": "General purpose",
    "gpuNum": 0,
    "hideHardwareSpecs": false,
    "memoryGiB": 32,
    "name": "ml.m5d.2xlarge",
    "vcpuNum": 8
   },
   {
    "_defaultOrder": 15,
    "_isFastLaunch": false,
    "category": "General purpose",
    "gpuNum": 0,
    "hideHardwareSpecs": false,
    "memoryGiB": 64,
    "name": "ml.m5d.4xlarge",
    "vcpuNum": 16
   },
   {
    "_defaultOrder": 16,
    "_isFastLaunch": false,
    "category": "General purpose",
    "gpuNum": 0,
    "hideHardwareSpecs": false,
    "memoryGiB": 128,
    "name": "ml.m5d.8xlarge",
    "vcpuNum": 32
   },
   {
    "_defaultOrder": 17,
    "_isFastLaunch": false,
    "category": "General purpose",
    "gpuNum": 0,
    "hideHardwareSpecs": false,
    "memoryGiB": 192,
    "name": "ml.m5d.12xlarge",
    "vcpuNum": 48
   },
   {
    "_defaultOrder": 18,
    "_isFastLaunch": false,
    "category": "General purpose",
    "gpuNum": 0,
    "hideHardwareSpecs": false,
    "memoryGiB": 256,
    "name": "ml.m5d.16xlarge",
    "vcpuNum": 64
   },
   {
    "_defaultOrder": 19,
    "_isFastLaunch": false,
    "category": "General purpose",
    "gpuNum": 0,
    "hideHardwareSpecs": false,
    "memoryGiB": 384,
    "name": "ml.m5d.24xlarge",
    "vcpuNum": 96
   },
   {
    "_defaultOrder": 20,
    "_isFastLaunch": false,
    "category": "General purpose",
    "gpuNum": 0,
    "hideHardwareSpecs": true,
    "memoryGiB": 0,
    "name": "ml.geospatial.interactive",
    "supportedImageNames": [
     "sagemaker-geospatial-v1-0"
    ],
    "vcpuNum": 0
   },
   {
    "_defaultOrder": 21,
    "_isFastLaunch": true,
    "category": "Compute optimized",
    "gpuNum": 0,
    "hideHardwareSpecs": false,
    "memoryGiB": 4,
    "name": "ml.c5.large",
    "vcpuNum": 2
   },
   {
    "_defaultOrder": 22,
    "_isFastLaunch": false,
    "category": "Compute optimized",
    "gpuNum": 0,
    "hideHardwareSpecs": false,
    "memoryGiB": 8,
    "name": "ml.c5.xlarge",
    "vcpuNum": 4
   },
   {
    "_defaultOrder": 23,
    "_isFastLaunch": false,
    "category": "Compute optimized",
    "gpuNum": 0,
    "hideHardwareSpecs": false,
    "memoryGiB": 16,
    "name": "ml.c5.2xlarge",
    "vcpuNum": 8
   },
   {
    "_defaultOrder": 24,
    "_isFastLaunch": false,
    "category": "Compute optimized",
    "gpuNum": 0,
    "hideHardwareSpecs": false,
    "memoryGiB": 32,
    "name": "ml.c5.4xlarge",
    "vcpuNum": 16
   },
   {
    "_defaultOrder": 25,
    "_isFastLaunch": false,
    "category": "Compute optimized",
    "gpuNum": 0,
    "hideHardwareSpecs": false,
    "memoryGiB": 72,
    "name": "ml.c5.9xlarge",
    "vcpuNum": 36
   },
   {
    "_defaultOrder": 26,
    "_isFastLaunch": false,
    "category": "Compute optimized",
    "gpuNum": 0,
    "hideHardwareSpecs": false,
    "memoryGiB": 96,
    "name": "ml.c5.12xlarge",
    "vcpuNum": 48
   },
   {
    "_defaultOrder": 27,
    "_isFastLaunch": false,
    "category": "Compute optimized",
    "gpuNum": 0,
    "hideHardwareSpecs": false,
    "memoryGiB": 144,
    "name": "ml.c5.18xlarge",
    "vcpuNum": 72
   },
   {
    "_defaultOrder": 28,
    "_isFastLaunch": false,
    "category": "Compute optimized",
    "gpuNum": 0,
    "hideHardwareSpecs": false,
    "memoryGiB": 192,
    "name": "ml.c5.24xlarge",
    "vcpuNum": 96
   },
   {
    "_defaultOrder": 29,
    "_isFastLaunch": true,
    "category": "Accelerated computing",
    "gpuNum": 1,
    "hideHardwareSpecs": false,
    "memoryGiB": 16,
    "name": "ml.g4dn.xlarge",
    "vcpuNum": 4
   },
   {
    "_defaultOrder": 30,
    "_isFastLaunch": false,
    "category": "Accelerated computing",
    "gpuNum": 1,
    "hideHardwareSpecs": false,
    "memoryGiB": 32,
    "name": "ml.g4dn.2xlarge",
    "vcpuNum": 8
   },
   {
    "_defaultOrder": 31,
    "_isFastLaunch": false,
    "category": "Accelerated computing",
    "gpuNum": 1,
    "hideHardwareSpecs": false,
    "memoryGiB": 64,
    "name": "ml.g4dn.4xlarge",
    "vcpuNum": 16
   },
   {
    "_defaultOrder": 32,
    "_isFastLaunch": false,
    "category": "Accelerated computing",
    "gpuNum": 1,
    "hideHardwareSpecs": false,
    "memoryGiB": 128,
    "name": "ml.g4dn.8xlarge",
    "vcpuNum": 32
   },
   {
    "_defaultOrder": 33,
    "_isFastLaunch": false,
    "category": "Accelerated computing",
    "gpuNum": 4,
    "hideHardwareSpecs": false,
    "memoryGiB": 192,
    "name": "ml.g4dn.12xlarge",
    "vcpuNum": 48
   },
   {
    "_defaultOrder": 34,
    "_isFastLaunch": false,
    "category": "Accelerated computing",
    "gpuNum": 1,
    "hideHardwareSpecs": false,
    "memoryGiB": 256,
    "name": "ml.g4dn.16xlarge",
    "vcpuNum": 64
   },
   {
    "_defaultOrder": 35,
    "_isFastLaunch": false,
    "category": "Accelerated computing",
    "gpuNum": 1,
    "hideHardwareSpecs": false,
    "memoryGiB": 61,
    "name": "ml.p3.2xlarge",
    "vcpuNum": 8
   },
   {
    "_defaultOrder": 36,
    "_isFastLaunch": false,
    "category": "Accelerated computing",
    "gpuNum": 4,
    "hideHardwareSpecs": false,
    "memoryGiB": 244,
    "name": "ml.p3.8xlarge",
    "vcpuNum": 32
   },
   {
    "_defaultOrder": 37,
    "_isFastLaunch": false,
    "category": "Accelerated computing",
    "gpuNum": 8,
    "hideHardwareSpecs": false,
    "memoryGiB": 488,
    "name": "ml.p3.16xlarge",
    "vcpuNum": 64
   },
   {
    "_defaultOrder": 38,
    "_isFastLaunch": false,
    "category": "Accelerated computing",
    "gpuNum": 8,
    "hideHardwareSpecs": false,
    "memoryGiB": 768,
    "name": "ml.p3dn.24xlarge",
    "vcpuNum": 96
   },
   {
    "_defaultOrder": 39,
    "_isFastLaunch": false,
    "category": "Memory Optimized",
    "gpuNum": 0,
    "hideHardwareSpecs": false,
    "memoryGiB": 16,
    "name": "ml.r5.large",
    "vcpuNum": 2
   },
   {
    "_defaultOrder": 40,
    "_isFastLaunch": false,
    "category": "Memory Optimized",
    "gpuNum": 0,
    "hideHardwareSpecs": false,
    "memoryGiB": 32,
    "name": "ml.r5.xlarge",
    "vcpuNum": 4
   },
   {
    "_defaultOrder": 41,
    "_isFastLaunch": false,
    "category": "Memory Optimized",
    "gpuNum": 0,
    "hideHardwareSpecs": false,
    "memoryGiB": 64,
    "name": "ml.r5.2xlarge",
    "vcpuNum": 8
   },
   {
    "_defaultOrder": 42,
    "_isFastLaunch": false,
    "category": "Memory Optimized",
    "gpuNum": 0,
    "hideHardwareSpecs": false,
    "memoryGiB": 128,
    "name": "ml.r5.4xlarge",
    "vcpuNum": 16
   },
   {
    "_defaultOrder": 43,
    "_isFastLaunch": false,
    "category": "Memory Optimized",
    "gpuNum": 0,
    "hideHardwareSpecs": false,
    "memoryGiB": 256,
    "name": "ml.r5.8xlarge",
    "vcpuNum": 32
   },
   {
    "_defaultOrder": 44,
    "_isFastLaunch": false,
    "category": "Memory Optimized",
    "gpuNum": 0,
    "hideHardwareSpecs": false,
    "memoryGiB": 384,
    "name": "ml.r5.12xlarge",
    "vcpuNum": 48
   },
   {
    "_defaultOrder": 45,
    "_isFastLaunch": false,
    "category": "Memory Optimized",
    "gpuNum": 0,
    "hideHardwareSpecs": false,
    "memoryGiB": 512,
    "name": "ml.r5.16xlarge",
    "vcpuNum": 64
   },
   {
    "_defaultOrder": 46,
    "_isFastLaunch": false,
    "category": "Memory Optimized",
    "gpuNum": 0,
    "hideHardwareSpecs": false,
    "memoryGiB": 768,
    "name": "ml.r5.24xlarge",
    "vcpuNum": 96
   },
   {
    "_defaultOrder": 47,
    "_isFastLaunch": false,
    "category": "Accelerated computing",
    "gpuNum": 1,
    "hideHardwareSpecs": false,
    "memoryGiB": 16,
    "name": "ml.g5.xlarge",
    "vcpuNum": 4
   },
   {
    "_defaultOrder": 48,
    "_isFastLaunch": false,
    "category": "Accelerated computing",
    "gpuNum": 1,
    "hideHardwareSpecs": false,
    "memoryGiB": 32,
    "name": "ml.g5.2xlarge",
    "vcpuNum": 8
   },
   {
    "_defaultOrder": 49,
    "_isFastLaunch": false,
    "category": "Accelerated computing",
    "gpuNum": 1,
    "hideHardwareSpecs": false,
    "memoryGiB": 64,
    "name": "ml.g5.4xlarge",
    "vcpuNum": 16
   },
   {
    "_defaultOrder": 50,
    "_isFastLaunch": false,
    "category": "Accelerated computing",
    "gpuNum": 1,
    "hideHardwareSpecs": false,
    "memoryGiB": 128,
    "name": "ml.g5.8xlarge",
    "vcpuNum": 32
   },
   {
    "_defaultOrder": 51,
    "_isFastLaunch": false,
    "category": "Accelerated computing",
    "gpuNum": 1,
    "hideHardwareSpecs": false,
    "memoryGiB": 256,
    "name": "ml.g5.16xlarge",
    "vcpuNum": 64
   },
   {
    "_defaultOrder": 52,
    "_isFastLaunch": false,
    "category": "Accelerated computing",
    "gpuNum": 4,
    "hideHardwareSpecs": false,
    "memoryGiB": 192,
    "name": "ml.g5.12xlarge",
    "vcpuNum": 48
   },
   {
    "_defaultOrder": 53,
    "_isFastLaunch": false,
    "category": "Accelerated computing",
    "gpuNum": 4,
    "hideHardwareSpecs": false,
    "memoryGiB": 384,
    "name": "ml.g5.24xlarge",
    "vcpuNum": 96
   },
   {
    "_defaultOrder": 54,
    "_isFastLaunch": false,
    "category": "Accelerated computing",
    "gpuNum": 8,
    "hideHardwareSpecs": false,
    "memoryGiB": 768,
    "name": "ml.g5.48xlarge",
    "vcpuNum": 192
   },
   {
    "_defaultOrder": 55,
    "_isFastLaunch": false,
    "category": "Accelerated computing",
    "gpuNum": 8,
    "hideHardwareSpecs": false,
    "memoryGiB": 1152,
    "name": "ml.p4d.24xlarge",
    "vcpuNum": 96
   },
   {
    "_defaultOrder": 56,
    "_isFastLaunch": false,
    "category": "Accelerated computing",
    "gpuNum": 8,
    "hideHardwareSpecs": false,
    "memoryGiB": 1152,
    "name": "ml.p4de.24xlarge",
    "vcpuNum": 96
   },
   {
    "_defaultOrder": 57,
    "_isFastLaunch": false,
    "category": "Accelerated computing",
    "gpuNum": 0,
    "hideHardwareSpecs": false,
    "memoryGiB": 32,
    "name": "ml.trn1.2xlarge",
    "vcpuNum": 8
   },
   {
    "_defaultOrder": 58,
    "_isFastLaunch": false,
    "category": "Accelerated computing",
    "gpuNum": 0,
    "hideHardwareSpecs": false,
    "memoryGiB": 512,
    "name": "ml.trn1.32xlarge",
    "vcpuNum": 128
   },
   {
    "_defaultOrder": 59,
    "_isFastLaunch": false,
    "category": "Accelerated computing",
    "gpuNum": 0,
    "hideHardwareSpecs": false,
    "memoryGiB": 512,
    "name": "ml.trn1n.32xlarge",
    "vcpuNum": 128
   }
  ],
  "colab": {
   "collapsed_sections": [],
   "name": "Graduate_Admission_Prediction.ipynb",
   "provenance": [],
   "toc_visible": true
  },
  "instance_type": "ml.t3.medium",
  "kernelspec": {
   "display_name": "Python 3 (Data Science 4.0)",
   "language": "python",
   "name": "python3__SAGEMAKER_INTERNAL__arn:aws:sagemaker:us-east-1:081325390199:image/sagemaker-data-science-311-v1"
  },
  "language_info": {
   "codemirror_mode": {
    "name": "ipython",
    "version": 3
   },
   "file_extension": ".py",
   "mimetype": "text/x-python",
   "name": "python",
   "nbconvert_exporter": "python",
   "pygments_lexer": "ipython3",
   "version": "3.11.9"
  }
 },
 "nbformat": 4,
 "nbformat_minor": 4
}
