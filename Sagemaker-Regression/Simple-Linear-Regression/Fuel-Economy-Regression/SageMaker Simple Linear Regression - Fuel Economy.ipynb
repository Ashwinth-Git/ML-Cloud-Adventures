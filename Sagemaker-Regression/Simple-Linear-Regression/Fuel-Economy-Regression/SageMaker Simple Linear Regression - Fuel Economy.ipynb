{
 "cells": [
  {
   "cell_type": "markdown",
   "metadata": {
    "colab_type": "text",
    "id": "zKmFmyaGunc7"
   },
   "source": [
    "# IMPORT KEY LIBRARIES/DATASETS AND PREPARE THE DATA FOR TRAINING"
   ]
  },
  {
   "cell_type": "code",
   "execution_count": 2,
   "metadata": {
    "tags": []
   },
   "outputs": [
    {
     "name": "stdout",
     "output_type": "stream",
     "text": [
      "Requirement already satisfied: Seaborn in /opt/conda/lib/python3.11/site-packages (0.13.2)\n",
      "Requirement already satisfied: numpy!=1.24.0,>=1.20 in /opt/conda/lib/python3.11/site-packages (from Seaborn) (2.1.3)\n",
      "Requirement already satisfied: pandas>=1.2 in /opt/conda/lib/python3.11/site-packages (from Seaborn) (2.2.3)\n",
      "Requirement already satisfied: matplotlib!=3.6.1,>=3.4 in /opt/conda/lib/python3.11/site-packages (from Seaborn) (3.8.4)\n",
      "Requirement already satisfied: contourpy>=1.0.1 in /opt/conda/lib/python3.11/site-packages (from matplotlib!=3.6.1,>=3.4->Seaborn) (1.2.1)\n",
      "Requirement already satisfied: cycler>=0.10 in /opt/conda/lib/python3.11/site-packages (from matplotlib!=3.6.1,>=3.4->Seaborn) (0.12.1)\n",
      "Requirement already satisfied: fonttools>=4.22.0 in /opt/conda/lib/python3.11/site-packages (from matplotlib!=3.6.1,>=3.4->Seaborn) (4.53.0)\n",
      "Requirement already satisfied: kiwisolver>=1.3.1 in /opt/conda/lib/python3.11/site-packages (from matplotlib!=3.6.1,>=3.4->Seaborn) (1.4.5)\n",
      "Requirement already satisfied: packaging>=20.0 in /opt/conda/lib/python3.11/site-packages (from matplotlib!=3.6.1,>=3.4->Seaborn) (23.2)\n",
      "Requirement already satisfied: pillow>=8 in /opt/conda/lib/python3.11/site-packages (from matplotlib!=3.6.1,>=3.4->Seaborn) (10.3.0)\n",
      "Requirement already satisfied: pyparsing>=2.3.1 in /opt/conda/lib/python3.11/site-packages (from matplotlib!=3.6.1,>=3.4->Seaborn) (3.1.2)\n",
      "Requirement already satisfied: python-dateutil>=2.7 in /opt/conda/lib/python3.11/site-packages (from matplotlib!=3.6.1,>=3.4->Seaborn) (2.9.0)\n",
      "Requirement already satisfied: pytz>=2020.1 in /opt/conda/lib/python3.11/site-packages (from pandas>=1.2->Seaborn) (2024.1)\n",
      "Requirement already satisfied: tzdata>=2022.7 in /opt/conda/lib/python3.11/site-packages (from pandas>=1.2->Seaborn) (2024.1)\n",
      "Requirement already satisfied: six>=1.5 in /opt/conda/lib/python3.11/site-packages (from python-dateutil>=2.7->matplotlib!=3.6.1,>=3.4->Seaborn) (1.16.0)\n",
      "\u001b[33mWARNING: Running pip as the 'root' user can result in broken permissions and conflicting behaviour with the system package manager. It is recommended to use a virtual environment instead: https://pip.pypa.io/warnings/venv\u001b[0m\u001b[33m\n",
      "\u001b[0m"
     ]
    }
   ],
   "source": [
    "# Install seaborn library\n",
    "!pip install --upgrade Seaborn\n",
    "\n",
    "# Import necessary libraries\n",
    "import pandas as pd\n",
    "import numpy as np\n",
    "import seaborn as sns\n",
    "import matplotlib.pyplot as plt\n"
   ]
  },
  {
   "cell_type": "code",
   "execution_count": 3,
   "metadata": {
    "colab": {},
    "colab_type": "code",
    "id": "tjIiJdM4u1IE",
    "tags": []
   },
   "outputs": [],
   "source": [
    "# Read the data using Pandas \n",
    "fuel_economy_df = pd.read_csv('FuelEconomy.csv')"
   ]
  },
  {
   "cell_type": "code",
   "execution_count": 4,
   "metadata": {
    "colab": {
     "base_uri": "https://localhost:8080/",
     "height": 204
    },
    "colab_type": "code",
    "id": "q4_wPDKCu5Uc",
    "outputId": "886d2aaf-0205-4f46-96a7-629d0f367d2f",
    "tags": []
   },
   "outputs": [
    {
     "data": {
      "text/html": [
       "<div>\n",
       "<style scoped>\n",
       "    .dataframe tbody tr th:only-of-type {\n",
       "        vertical-align: middle;\n",
       "    }\n",
       "\n",
       "    .dataframe tbody tr th {\n",
       "        vertical-align: top;\n",
       "    }\n",
       "\n",
       "    .dataframe thead th {\n",
       "        text-align: right;\n",
       "    }\n",
       "</style>\n",
       "<table border=\"1\" class=\"dataframe\">\n",
       "  <thead>\n",
       "    <tr style=\"text-align: right;\">\n",
       "      <th></th>\n",
       "      <th>Horse Power</th>\n",
       "      <th>Fuel Economy (MPG)</th>\n",
       "    </tr>\n",
       "  </thead>\n",
       "  <tbody>\n",
       "    <tr>\n",
       "      <th>0</th>\n",
       "      <td>118.770799</td>\n",
       "      <td>29.344195</td>\n",
       "    </tr>\n",
       "    <tr>\n",
       "      <th>1</th>\n",
       "      <td>176.326567</td>\n",
       "      <td>24.695934</td>\n",
       "    </tr>\n",
       "    <tr>\n",
       "      <th>2</th>\n",
       "      <td>219.262465</td>\n",
       "      <td>23.952010</td>\n",
       "    </tr>\n",
       "    <tr>\n",
       "      <th>3</th>\n",
       "      <td>187.310009</td>\n",
       "      <td>23.384546</td>\n",
       "    </tr>\n",
       "    <tr>\n",
       "      <th>4</th>\n",
       "      <td>218.594340</td>\n",
       "      <td>23.426739</td>\n",
       "    </tr>\n",
       "    <tr>\n",
       "      <th>...</th>\n",
       "      <td>...</td>\n",
       "      <td>...</td>\n",
       "    </tr>\n",
       "    <tr>\n",
       "      <th>95</th>\n",
       "      <td>162.810542</td>\n",
       "      <td>27.418661</td>\n",
       "    </tr>\n",
       "    <tr>\n",
       "      <th>96</th>\n",
       "      <td>266.869640</td>\n",
       "      <td>15.989945</td>\n",
       "    </tr>\n",
       "    <tr>\n",
       "      <th>97</th>\n",
       "      <td>243.831211</td>\n",
       "      <td>19.253375</td>\n",
       "    </tr>\n",
       "    <tr>\n",
       "      <th>98</th>\n",
       "      <td>140.959803</td>\n",
       "      <td>29.515593</td>\n",
       "    </tr>\n",
       "    <tr>\n",
       "      <th>99</th>\n",
       "      <td>184.123053</td>\n",
       "      <td>25.196097</td>\n",
       "    </tr>\n",
       "  </tbody>\n",
       "</table>\n",
       "<p>100 rows × 2 columns</p>\n",
       "</div>"
      ],
      "text/plain": [
       "    Horse Power  Fuel Economy (MPG)\n",
       "0    118.770799           29.344195\n",
       "1    176.326567           24.695934\n",
       "2    219.262465           23.952010\n",
       "3    187.310009           23.384546\n",
       "4    218.594340           23.426739\n",
       "..          ...                 ...\n",
       "95   162.810542           27.418661\n",
       "96   266.869640           15.989945\n",
       "97   243.831211           19.253375\n",
       "98   140.959803           29.515593\n",
       "99   184.123053           25.196097\n",
       "\n",
       "[100 rows x 2 columns]"
      ]
     },
     "execution_count": 4,
     "metadata": {},
     "output_type": "execute_result"
    }
   ],
   "source": [
    "# View the DataFrame\n",
    "fuel_economy_df"
   ]
  },
  {
   "cell_type": "code",
   "execution_count": 5,
   "metadata": {
    "colab": {},
    "colab_type": "code",
    "id": "4OXZB2F21e4H",
    "tags": []
   },
   "outputs": [],
   "source": [
    "# Separate the data into input X and Output y\n",
    "X = fuel_economy_df[['Horse Power']]\n",
    "y = fuel_economy_df[['Fuel Economy (MPG)']]"
   ]
  },
  {
   "cell_type": "code",
   "execution_count": 6,
   "metadata": {
    "scrolled": true,
    "tags": []
   },
   "outputs": [
    {
     "data": {
      "text/html": [
       "<div>\n",
       "<style scoped>\n",
       "    .dataframe tbody tr th:only-of-type {\n",
       "        vertical-align: middle;\n",
       "    }\n",
       "\n",
       "    .dataframe tbody tr th {\n",
       "        vertical-align: top;\n",
       "    }\n",
       "\n",
       "    .dataframe thead th {\n",
       "        text-align: right;\n",
       "    }\n",
       "</style>\n",
       "<table border=\"1\" class=\"dataframe\">\n",
       "  <thead>\n",
       "    <tr style=\"text-align: right;\">\n",
       "      <th></th>\n",
       "      <th>Horse Power</th>\n",
       "    </tr>\n",
       "  </thead>\n",
       "  <tbody>\n",
       "    <tr>\n",
       "      <th>0</th>\n",
       "      <td>118.770799</td>\n",
       "    </tr>\n",
       "    <tr>\n",
       "      <th>1</th>\n",
       "      <td>176.326567</td>\n",
       "    </tr>\n",
       "    <tr>\n",
       "      <th>2</th>\n",
       "      <td>219.262465</td>\n",
       "    </tr>\n",
       "    <tr>\n",
       "      <th>3</th>\n",
       "      <td>187.310009</td>\n",
       "    </tr>\n",
       "    <tr>\n",
       "      <th>4</th>\n",
       "      <td>218.594340</td>\n",
       "    </tr>\n",
       "    <tr>\n",
       "      <th>...</th>\n",
       "      <td>...</td>\n",
       "    </tr>\n",
       "    <tr>\n",
       "      <th>95</th>\n",
       "      <td>162.810542</td>\n",
       "    </tr>\n",
       "    <tr>\n",
       "      <th>96</th>\n",
       "      <td>266.869640</td>\n",
       "    </tr>\n",
       "    <tr>\n",
       "      <th>97</th>\n",
       "      <td>243.831211</td>\n",
       "    </tr>\n",
       "    <tr>\n",
       "      <th>98</th>\n",
       "      <td>140.959803</td>\n",
       "    </tr>\n",
       "    <tr>\n",
       "      <th>99</th>\n",
       "      <td>184.123053</td>\n",
       "    </tr>\n",
       "  </tbody>\n",
       "</table>\n",
       "<p>100 rows × 1 columns</p>\n",
       "</div>"
      ],
      "text/plain": [
       "    Horse Power\n",
       "0    118.770799\n",
       "1    176.326567\n",
       "2    219.262465\n",
       "3    187.310009\n",
       "4    218.594340\n",
       "..          ...\n",
       "95   162.810542\n",
       "96   266.869640\n",
       "97   243.831211\n",
       "98   140.959803\n",
       "99   184.123053\n",
       "\n",
       "[100 rows x 1 columns]"
      ]
     },
     "execution_count": 6,
     "metadata": {},
     "output_type": "execute_result"
    }
   ],
   "source": [
    "X"
   ]
  },
  {
   "cell_type": "code",
   "execution_count": 7,
   "metadata": {
    "tags": []
   },
   "outputs": [
    {
     "data": {
      "text/html": [
       "<div>\n",
       "<style scoped>\n",
       "    .dataframe tbody tr th:only-of-type {\n",
       "        vertical-align: middle;\n",
       "    }\n",
       "\n",
       "    .dataframe tbody tr th {\n",
       "        vertical-align: top;\n",
       "    }\n",
       "\n",
       "    .dataframe thead th {\n",
       "        text-align: right;\n",
       "    }\n",
       "</style>\n",
       "<table border=\"1\" class=\"dataframe\">\n",
       "  <thead>\n",
       "    <tr style=\"text-align: right;\">\n",
       "      <th></th>\n",
       "      <th>Fuel Economy (MPG)</th>\n",
       "    </tr>\n",
       "  </thead>\n",
       "  <tbody>\n",
       "    <tr>\n",
       "      <th>0</th>\n",
       "      <td>29.344195</td>\n",
       "    </tr>\n",
       "    <tr>\n",
       "      <th>1</th>\n",
       "      <td>24.695934</td>\n",
       "    </tr>\n",
       "    <tr>\n",
       "      <th>2</th>\n",
       "      <td>23.952010</td>\n",
       "    </tr>\n",
       "    <tr>\n",
       "      <th>3</th>\n",
       "      <td>23.384546</td>\n",
       "    </tr>\n",
       "    <tr>\n",
       "      <th>4</th>\n",
       "      <td>23.426739</td>\n",
       "    </tr>\n",
       "    <tr>\n",
       "      <th>...</th>\n",
       "      <td>...</td>\n",
       "    </tr>\n",
       "    <tr>\n",
       "      <th>95</th>\n",
       "      <td>27.418661</td>\n",
       "    </tr>\n",
       "    <tr>\n",
       "      <th>96</th>\n",
       "      <td>15.989945</td>\n",
       "    </tr>\n",
       "    <tr>\n",
       "      <th>97</th>\n",
       "      <td>19.253375</td>\n",
       "    </tr>\n",
       "    <tr>\n",
       "      <th>98</th>\n",
       "      <td>29.515593</td>\n",
       "    </tr>\n",
       "    <tr>\n",
       "      <th>99</th>\n",
       "      <td>25.196097</td>\n",
       "    </tr>\n",
       "  </tbody>\n",
       "</table>\n",
       "<p>100 rows × 1 columns</p>\n",
       "</div>"
      ],
      "text/plain": [
       "    Fuel Economy (MPG)\n",
       "0            29.344195\n",
       "1            24.695934\n",
       "2            23.952010\n",
       "3            23.384546\n",
       "4            23.426739\n",
       "..                 ...\n",
       "95           27.418661\n",
       "96           15.989945\n",
       "97           19.253375\n",
       "98           29.515593\n",
       "99           25.196097\n",
       "\n",
       "[100 rows x 1 columns]"
      ]
     },
     "execution_count": 7,
     "metadata": {},
     "output_type": "execute_result"
    }
   ],
   "source": [
    "y"
   ]
  },
  {
   "cell_type": "code",
   "execution_count": 8,
   "metadata": {
    "colab": {
     "base_uri": "https://localhost:8080/",
     "height": 34
    },
    "colab_type": "code",
    "id": "XpGU63Ne1e9P",
    "outputId": "e16c74ca-dc1c-416c-dc44-7f927bb99bc6",
    "tags": []
   },
   "outputs": [
    {
     "data": {
      "text/plain": [
       "(100, 1)"
      ]
     },
     "execution_count": 8,
     "metadata": {},
     "output_type": "execute_result"
    }
   ],
   "source": [
    "# Check out the shape of the input\n",
    "X.shape"
   ]
  },
  {
   "cell_type": "code",
   "execution_count": 9,
   "metadata": {
    "colab": {
     "base_uri": "https://localhost:8080/",
     "height": 34
    },
    "colab_type": "code",
    "id": "OjGj0RALA0qZ",
    "outputId": "26559a6c-880b-45b4-a1e8-3c4b92bea889",
    "tags": []
   },
   "outputs": [
    {
     "data": {
      "text/plain": [
       "(100, 1)"
      ]
     },
     "execution_count": 9,
     "metadata": {},
     "output_type": "execute_result"
    }
   ],
   "source": [
    "# Check out the shape of the output\n",
    "y.shape"
   ]
  },
  {
   "cell_type": "code",
   "execution_count": 10,
   "metadata": {
    "colab": {},
    "colab_type": "code",
    "id": "jIeiK1maA6mm",
    "tags": []
   },
   "outputs": [],
   "source": [
    "# Convert the datatype to float32\n",
    "X = np.array(X).astype('float32')\n",
    "y = np.array(y).astype('float32')"
   ]
  },
  {
   "cell_type": "code",
   "execution_count": 11,
   "metadata": {
    "colab": {},
    "colab_type": "code",
    "id": "GoReLFfnA6uF",
    "tags": []
   },
   "outputs": [],
   "source": [
    "# Split the data into training and testing(20%) using SkLearn Library\n",
    "from sklearn.model_selection import train_test_split\n",
    "X_train, X_test, y_train, y_test = train_test_split(X, y, test_size = 0.2)"
   ]
  },
  {
   "cell_type": "markdown",
   "metadata": {},
   "source": [
    "# TRAIN A LINEAR LEARNER MODEL USING AWS SAGEMAKER"
   ]
  },
  {
   "cell_type": "code",
   "execution_count": 12,
   "metadata": {
    "tags": []
   },
   "outputs": [
    {
     "name": "stdout",
     "output_type": "stream",
     "text": [
      "sagemaker.config INFO - Not applying SDK defaults from location: /etc/xdg/sagemaker/config.yaml\n",
      "sagemaker.config INFO - Not applying SDK defaults from location: /root/.config/sagemaker/config.yaml\n",
      "arn:aws:iam::588738589118:role/service-role/AmazonSageMaker-ExecutionRole-20241129T190553\n"
     ]
    }
   ],
   "source": [
    "import sagemaker\n",
    "import boto3\n",
    "\n",
    "# Create a Sagemaker session\n",
    "sagemaker_session = sagemaker.Session()\n",
    "\n",
    "# Defining the S3 bucket and prefix that we want to use in this session\n",
    "bucket = 'ml-lab-sagemaker' # bucket need to be created beforehand\n",
    "prefix = 'linear_learner_fuel_economy' # prefix is the subfolder within the bucket\n",
    "\n",
    "# Creating the sagemaker execution role\n",
    "role = sagemaker.get_execution_role()\n",
    "print(role)"
   ]
  },
  {
   "cell_type": "code",
   "execution_count": 13,
   "metadata": {
    "tags": []
   },
   "outputs": [
    {
     "data": {
      "text/plain": [
       "(80, 1)"
      ]
     },
     "execution_count": 13,
     "metadata": {},
     "output_type": "execute_result"
    }
   ],
   "source": [
    "X_train.shape"
   ]
  },
  {
   "cell_type": "code",
   "execution_count": 16,
   "metadata": {
    "tags": []
   },
   "outputs": [],
   "source": [
    "# Make sure that the target label is a vector\n",
    "y_train = y_train[:,0]"
   ]
  },
  {
   "cell_type": "code",
   "execution_count": 17,
   "metadata": {
    "tags": []
   },
   "outputs": [
    {
     "data": {
      "text/plain": [
       "(80,)"
      ]
     },
     "execution_count": 17,
     "metadata": {},
     "output_type": "execute_result"
    }
   ],
   "source": [
    "y_train.shape"
   ]
  },
  {
   "cell_type": "code",
   "execution_count": 18,
   "metadata": {
    "tags": []
   },
   "outputs": [
    {
     "data": {
      "text/plain": [
       "0"
      ]
     },
     "execution_count": 18,
     "metadata": {},
     "output_type": "execute_result"
    }
   ],
   "source": [
    "import io # The io module allows for dealing with various types of I/O (text I/O, binary I/O and raw I/O). \n",
    "import numpy as np\n",
    "import sagemaker.amazon.common as smac # sagemaker common libary\n",
    "\n",
    "# Code below converts the data in numpy array format to RecordIO format\n",
    "# This is the format required by Sagemaker Linear Learner \n",
    "\n",
    "buf = io.BytesIO() # create an in-memory byte array (buf is a buffer I will be writing to)\n",
    "smac.write_numpy_to_dense_tensor(buf, X_train, y_train)\n",
    "buf.seek(0) \n",
    "# When you write to in-memory byte arrays, it increments 1 every time you write to it\n",
    "# Let's reset that back to zero \n"
   ]
  },
  {
   "cell_type": "code",
   "execution_count": 19,
   "metadata": {
    "tags": []
   },
   "outputs": [
    {
     "name": "stdout",
     "output_type": "stream",
     "text": [
      "uploaded training data location: s3://ml-lab-sagemaker/linear_learner_fuel_economy/train/linear-train-data\n"
     ]
    }
   ],
   "source": [
    "import os\n",
    "\n",
    "# Code to upload RecordIO data to S3\n",
    " \n",
    "# Key refers to the name of the file    \n",
    "key = 'linear-train-data'\n",
    "\n",
    "# The following code uploads the data in record-io format to S3 bucket to be accessed later for training\n",
    "boto3.resource('s3').Bucket(bucket).Object(os.path.join(prefix, 'train', key)).upload_fileobj(buf)\n",
    "\n",
    "# Let's print out the training data location in s3\n",
    "s3_train_data = 's3://{}/{}/train/{}'.format(bucket, prefix, key)\n",
    "print('uploaded training data location: {}'.format(s3_train_data))"
   ]
  },
  {
   "cell_type": "code",
   "execution_count": 20,
   "metadata": {
    "tags": []
   },
   "outputs": [
    {
     "data": {
      "text/plain": [
       "(20, 1)"
      ]
     },
     "execution_count": 20,
     "metadata": {},
     "output_type": "execute_result"
    }
   ],
   "source": [
    "X_test.shape"
   ]
  },
  {
   "cell_type": "code",
   "execution_count": 21,
   "metadata": {
    "tags": []
   },
   "outputs": [
    {
     "data": {
      "text/plain": [
       "(20, 1)"
      ]
     },
     "execution_count": 21,
     "metadata": {},
     "output_type": "execute_result"
    }
   ],
   "source": [
    "y_test.shape"
   ]
  },
  {
   "cell_type": "code",
   "execution_count": 22,
   "metadata": {
    "tags": []
   },
   "outputs": [],
   "source": [
    "# Make sure that the target label is a vector\n",
    "y_test = y_test[:,0]\n"
   ]
  },
  {
   "cell_type": "code",
   "execution_count": 23,
   "metadata": {
    "tags": []
   },
   "outputs": [
    {
     "data": {
      "text/plain": [
       "0"
      ]
     },
     "execution_count": 23,
     "metadata": {},
     "output_type": "execute_result"
    }
   ],
   "source": [
    "# Code to upload RecordIO data to S3\n",
    "\n",
    "buf = io.BytesIO() # create an in-memory byte array (buf is a buffer I will be writing to)\n",
    "smac.write_numpy_to_dense_tensor(buf, X_test, y_test)\n",
    "buf.seek(0) \n",
    "# When you write to in-memory byte arrays, it increments 1 every time you write to it\n",
    "# Let's reset that back to zero \n"
   ]
  },
  {
   "cell_type": "code",
   "execution_count": 24,
   "metadata": {
    "tags": []
   },
   "outputs": [
    {
     "name": "stdout",
     "output_type": "stream",
     "text": [
      "uploaded training data location: s3://ml-lab-sagemaker/linear_learner_fuel_economy/test/linear-test-data\n"
     ]
    }
   ],
   "source": [
    "# Key refers to the name of the file    \n",
    "key = 'linear-test-data'\n",
    "\n",
    "# The following code uploads the data in record-io format to S3 bucket to be accessed later for training\n",
    "boto3.resource('s3').Bucket(bucket).Object(os.path.join(prefix, 'test', key)).upload_fileobj(buf)\n",
    "\n",
    "# Let's print out the testing data location in s3\n",
    "s3_test_data = 's3://{}/{}/test/{}'.format(bucket, prefix, key)\n",
    "print('uploaded training data location: {}'.format(s3_test_data))"
   ]
  },
  {
   "cell_type": "code",
   "execution_count": 25,
   "metadata": {
    "tags": []
   },
   "outputs": [
    {
     "name": "stdout",
     "output_type": "stream",
     "text": [
      "Training artifacts will be uploaded to: s3://ml-lab-sagemaker/linear_learner_fuel_economy/output\n"
     ]
    }
   ],
   "source": [
    "# create an output placeholder in S3 bucket to store the linear learner output\n",
    "\n",
    "output_location = 's3://{}/{}/output'.format(bucket, prefix)\n",
    "print('Training artifacts will be uploaded to: {}'.format(output_location))"
   ]
  },
  {
   "cell_type": "code",
   "execution_count": 26,
   "metadata": {
    "tags": []
   },
   "outputs": [],
   "source": [
    "# Obtain a reference to the linearLearner container image\n",
    "\n",
    "container = sagemaker.image_uris.retrieve(\"linear-learner\", boto3.Session().region_name)"
   ]
  },
  {
   "cell_type": "code",
   "execution_count": 29,
   "metadata": {
    "tags": []
   },
   "outputs": [
    {
     "name": "stderr",
     "output_type": "stream",
     "text": [
      "INFO:sagemaker:Creating training-job with name: linear-learner-2024-12-04-21-40-35-610\n"
     ]
    },
    {
     "name": "stdout",
     "output_type": "stream",
     "text": [
      "2024-12-04 21:40:35 Starting - Starting the training job...\n",
      "2024-12-04 21:40:53 Starting - Preparing the instances for training...\n",
      "2024-12-04 21:41:23 Downloading - Downloading input data...\n",
      "2024-12-04 21:41:44 Downloading - Downloading the training image......\n",
      "2024-12-04 21:42:55 Training - Training image download completed. Training in progress..\u001b[34mDocker entrypoint called with argument(s): train\u001b[0m\n",
      "\u001b[34mRunning default environment configuration script\u001b[0m\n",
      "\u001b[34m[12/04/2024 21:43:04 INFO 139926935496512] Reading default configuration from /opt/amazon/lib/python3.8/site-packages/algorithm/resources/default-input.json: {'mini_batch_size': '1000', 'epochs': '15', 'feature_dim': 'auto', 'use_bias': 'true', 'binary_classifier_model_selection_criteria': 'accuracy', 'f_beta': '1.0', 'target_recall': '0.8', 'target_precision': '0.8', 'num_models': 'auto', 'num_calibration_samples': '10000000', 'init_method': 'uniform', 'init_scale': '0.07', 'init_sigma': '0.01', 'init_bias': '0.0', 'optimizer': 'auto', 'loss': 'auto', 'margin': '1.0', 'quantile': '0.5', 'loss_insensitivity': '0.01', 'huber_delta': '1.0', 'num_classes': '1', 'accuracy_top_k': '3', 'wd': 'auto', 'l1': 'auto', 'momentum': 'auto', 'learning_rate': 'auto', 'beta_1': 'auto', 'beta_2': 'auto', 'bias_lr_mult': 'auto', 'bias_wd_mult': 'auto', 'use_lr_scheduler': 'true', 'lr_scheduler_step': 'auto', 'lr_scheduler_factor': 'auto', 'lr_scheduler_minimum_lr': 'auto', 'positive_example_weight_mult': '1.0', 'balance_multiclass_weights': 'false', 'normalize_data': 'true', 'normalize_label': 'auto', 'unbias_data': 'auto', 'unbias_label': 'auto', 'num_point_for_scaler': '10000', '_kvstore': 'auto', '_num_gpus': 'auto', '_num_kv_servers': 'auto', '_log_level': 'info', '_tuning_objective_metric': '', 'early_stopping_patience': '3', 'early_stopping_tolerance': '0.001', '_enable_profiler': 'false'}\u001b[0m\n",
      "\u001b[34m[12/04/2024 21:43:04 INFO 139926935496512] Merging with provided configuration from /opt/ml/input/config/hyperparameters.json: {'epochs': '10', 'feature_dim': '1', 'loss': 'absolute_loss', 'mini_batch_size': '10', 'num_models': '32', 'predictor_type': 'regressor'}\u001b[0m\n",
      "\u001b[34m[12/04/2024 21:43:04 INFO 139926935496512] Final configuration: {'mini_batch_size': '10', 'epochs': '10', 'feature_dim': '1', 'use_bias': 'true', 'binary_classifier_model_selection_criteria': 'accuracy', 'f_beta': '1.0', 'target_recall': '0.8', 'target_precision': '0.8', 'num_models': '32', 'num_calibration_samples': '10000000', 'init_method': 'uniform', 'init_scale': '0.07', 'init_sigma': '0.01', 'init_bias': '0.0', 'optimizer': 'auto', 'loss': 'absolute_loss', 'margin': '1.0', 'quantile': '0.5', 'loss_insensitivity': '0.01', 'huber_delta': '1.0', 'num_classes': '1', 'accuracy_top_k': '3', 'wd': 'auto', 'l1': 'auto', 'momentum': 'auto', 'learning_rate': 'auto', 'beta_1': 'auto', 'beta_2': 'auto', 'bias_lr_mult': 'auto', 'bias_wd_mult': 'auto', 'use_lr_scheduler': 'true', 'lr_scheduler_step': 'auto', 'lr_scheduler_factor': 'auto', 'lr_scheduler_minimum_lr': 'auto', 'positive_example_weight_mult': '1.0', 'balance_multiclass_weights': 'false', 'normalize_data': 'true', 'normalize_label': 'auto', 'unbias_data': 'auto', 'unbias_label': 'auto', 'num_point_for_scaler': '10000', '_kvstore': 'auto', '_num_gpus': 'auto', '_num_kv_servers': 'auto', '_log_level': 'info', '_tuning_objective_metric': '', 'early_stopping_patience': '3', 'early_stopping_tolerance': '0.001', '_enable_profiler': 'false', 'predictor_type': 'regressor'}\u001b[0m\n",
      "\u001b[34m/opt/amazon/lib/python3.8/site-packages/mxnet/model.py:97: SyntaxWarning: \"is\" with a literal. Did you mean \"==\"?\n",
      "  if num_device is 1 and 'dist' not in kvstore:\u001b[0m\n",
      "\u001b[34m/opt/amazon/lib/python3.8/site-packages/scipy/optimize/_shgo.py:495: SyntaxWarning: \"is\" with a literal. Did you mean \"==\"?\n",
      "  if cons['type'] is 'ineq':\u001b[0m\n",
      "\u001b[34m/opt/amazon/lib/python3.8/site-packages/scipy/optimize/_shgo.py:743: SyntaxWarning: \"is not\" with a literal. Did you mean \"!=\"?\n",
      "  if len(self.X_min) is not 0:\u001b[0m\n",
      "\u001b[34m[12/04/2024 21:43:07 WARNING 139926935496512] Loggers have already been setup.\u001b[0m\n",
      "\u001b[34m[12/04/2024 21:43:07 INFO 139926935496512] Final configuration: {'mini_batch_size': '10', 'epochs': '10', 'feature_dim': '1', 'use_bias': 'true', 'binary_classifier_model_selection_criteria': 'accuracy', 'f_beta': '1.0', 'target_recall': '0.8', 'target_precision': '0.8', 'num_models': '32', 'num_calibration_samples': '10000000', 'init_method': 'uniform', 'init_scale': '0.07', 'init_sigma': '0.01', 'init_bias': '0.0', 'optimizer': 'auto', 'loss': 'absolute_loss', 'margin': '1.0', 'quantile': '0.5', 'loss_insensitivity': '0.01', 'huber_delta': '1.0', 'num_classes': '1', 'accuracy_top_k': '3', 'wd': 'auto', 'l1': 'auto', 'momentum': 'auto', 'learning_rate': 'auto', 'beta_1': 'auto', 'beta_2': 'auto', 'bias_lr_mult': 'auto', 'bias_wd_mult': 'auto', 'use_lr_scheduler': 'true', 'lr_scheduler_step': 'auto', 'lr_scheduler_factor': 'auto', 'lr_scheduler_minimum_lr': 'auto', 'positive_example_weight_mult': '1.0', 'balance_multiclass_weights': 'false', 'normalize_data': 'true', 'normalize_label': 'auto', 'unbias_data': 'auto', 'unbias_label': 'auto', 'num_point_for_scaler': '10000', '_kvstore': 'auto', '_num_gpus': 'auto', '_num_kv_servers': 'auto', '_log_level': 'info', '_tuning_objective_metric': '', 'early_stopping_patience': '3', 'early_stopping_tolerance': '0.001', '_enable_profiler': 'false', 'predictor_type': 'regressor'}\u001b[0m\n",
      "\u001b[34m[12/04/2024 21:43:07 WARNING 139926935496512] Loggers have already been setup.\u001b[0m\n",
      "\u001b[34mProcess 7 is a worker.\u001b[0m\n",
      "\u001b[34m[12/04/2024 21:43:07 INFO 139926935496512] Using default worker.\u001b[0m\n",
      "\u001b[34m[12/04/2024 21:43:07 INFO 139926935496512] Checkpoint loading and saving are disabled.\u001b[0m\n",
      "\u001b[34m[2024-12-04 21:43:07.647] [tensorio] [info] epoch_stats={\"data_pipeline\": \"/opt/ml/input/data/train\", \"epoch\": 0, \"duration\": 11, \"num_examples\": 1, \"num_bytes\": 480}\u001b[0m\n",
      "\u001b[34m[12/04/2024 21:43:07 INFO 139926935496512] Create Store: local\u001b[0m\n",
      "\u001b[34m[2024-12-04 21:43:07.689] [tensorio] [info] epoch_stats={\"data_pipeline\": \"/opt/ml/input/data/train\", \"epoch\": 1, \"duration\": 41, \"num_examples\": 8, \"num_bytes\": 3840}\u001b[0m\n",
      "\u001b[34m[12/04/2024 21:43:07 INFO 139926935496512] Scaler algorithm parameters\n",
      " <algorithm.scaler.ScalerAlgorithmStable object at 0x7f42b74194c0>\u001b[0m\n",
      "\u001b[34m[12/04/2024 21:43:07 INFO 139926935496512] Scaling model computed with parameters:\n",
      " {'stdev_label': \u001b[0m\n",
      "\u001b[34m[4.666398]\u001b[0m\n",
      "\u001b[34m<NDArray 1 @cpu(0)>, 'stdev_weight': \u001b[0m\n",
      "\u001b[34m[60.83881]\u001b[0m\n",
      "\u001b[34m<NDArray 1 @cpu(0)>, 'mean_label': \u001b[0m\n",
      "\u001b[34m[22.811836]\u001b[0m\n",
      "\u001b[34m<NDArray 1 @cpu(0)>, 'mean_weight': \u001b[0m\n",
      "\u001b[34m[218.4261]\u001b[0m\n",
      "\u001b[34m<NDArray 1 @cpu(0)>}\u001b[0m\n",
      "\u001b[34m/opt/amazon/python3.8/lib/python3.8/subprocess.py:848: RuntimeWarning: line buffering (buffering=1) isn't supported in binary mode, the default buffer size will be used\n",
      "  self.stdout = io.open(c2pread, 'rb', bufsize)\u001b[0m\n",
      "\u001b[34m[12/04/2024 21:43:07 INFO 139926935496512] nvidia-smi: took 0.032 seconds to run.\u001b[0m\n",
      "\u001b[34m[12/04/2024 21:43:07 INFO 139926935496512] nvidia-smi identified 0 GPUs.\u001b[0m\n",
      "\u001b[34m[12/04/2024 21:43:07 INFO 139926935496512] Number of GPUs being used: 0\u001b[0m\n",
      "\u001b[34m#metrics {\"StartTime\": 1733348587.7821326, \"EndTime\": 1733348587.7821693, \"Dimensions\": {\"Algorithm\": \"Linear Learner\", \"Host\": \"algo-1\", \"Operation\": \"training\", \"Meta\": \"init_train_data_iter\"}, \"Metrics\": {\"Total Records Seen\": {\"sum\": 90.0, \"count\": 1, \"min\": 90, \"max\": 90}, \"Total Batches Seen\": {\"sum\": 9.0, \"count\": 1, \"min\": 9, \"max\": 9}, \"Max Records Seen Between Resets\": {\"sum\": 80.0, \"count\": 1, \"min\": 80, \"max\": 80}, \"Max Batches Seen Between Resets\": {\"sum\": 8.0, \"count\": 1, \"min\": 8, \"max\": 8}, \"Reset Count\": {\"sum\": 2.0, \"count\": 1, \"min\": 2, \"max\": 2}, \"Number of Records Since Last Reset\": {\"sum\": 0.0, \"count\": 1, \"min\": 0, \"max\": 0}, \"Number of Batches Since Last Reset\": {\"sum\": 0.0, \"count\": 1, \"min\": 0, \"max\": 0}}}\u001b[0m\n",
      "\u001b[34m[2024-12-04 21:43:07.892] [tensorio] [info] epoch_stats={\"data_pipeline\": \"/opt/ml/input/data/train\", \"epoch\": 4, \"duration\": 109, \"num_examples\": 8, \"num_bytes\": 3840}\u001b[0m\n",
      "\u001b[34m#metrics {\"StartTime\": 1733348587.8923428, \"EndTime\": 1733348587.892408, \"Dimensions\": {\"Algorithm\": \"Linear Learner\", \"Host\": \"algo-1\", \"Operation\": \"training\", \"epoch\": 0, \"model\": 0}, \"Metrics\": {\"train_absolute_loss_objective\": {\"sum\": 0.7819531083106994, \"count\": 1, \"min\": 0.7819531083106994, \"max\": 0.7819531083106994}}}\u001b[0m\n",
      "\u001b[34m#metrics {\"StartTime\": 1733348587.892488, \"EndTime\": 1733348587.892499, \"Dimensions\": {\"Algorithm\": \"Linear Learner\", \"Host\": \"algo-1\", \"Operation\": \"training\", \"epoch\": 0, \"model\": 1}, \"Metrics\": {\"train_absolute_loss_objective\": {\"sum\": 0.7650332033634186, \"count\": 1, \"min\": 0.7650332033634186, \"max\": 0.7650332033634186}}}\u001b[0m\n",
      "\u001b[34m#metrics {\"StartTime\": 1733348587.892535, \"EndTime\": 1733348587.8925436, \"Dimensions\": {\"Algorithm\": \"Linear Learner\", \"Host\": \"algo-1\", \"Operation\": \"training\", \"epoch\": 0, \"model\": 2}, \"Metrics\": {\"train_absolute_loss_objective\": {\"sum\": 0.7799035131931304, \"count\": 1, \"min\": 0.7799035131931304, \"max\": 0.7799035131931304}}}\u001b[0m\n",
      "\u001b[34m#metrics {\"StartTime\": 1733348587.8925736, \"EndTime\": 1733348587.8925803, \"Dimensions\": {\"Algorithm\": \"Linear Learner\", \"Host\": \"algo-1\", \"Operation\": \"training\", \"epoch\": 0, \"model\": 3}, \"Metrics\": {\"train_absolute_loss_objective\": {\"sum\": 0.7658978879451752, \"count\": 1, \"min\": 0.7658978879451752, \"max\": 0.7658978879451752}}}\u001b[0m\n",
      "\u001b[34m#metrics {\"StartTime\": 1733348587.892606, \"EndTime\": 1733348587.8926136, \"Dimensions\": {\"Algorithm\": \"Linear Learner\", \"Host\": \"algo-1\", \"Operation\": \"training\", \"epoch\": 0, \"model\": 4}, \"Metrics\": {\"train_absolute_loss_objective\": {\"sum\": 0.8012357413768768, \"count\": 1, \"min\": 0.8012357413768768, \"max\": 0.8012357413768768}}}\u001b[0m\n",
      "\u001b[34m#metrics {\"StartTime\": 1733348587.8926458, \"EndTime\": 1733348587.8926544, \"Dimensions\": {\"Algorithm\": \"Linear Learner\", \"Host\": \"algo-1\", \"Operation\": \"training\", \"epoch\": 0, \"model\": 5}, \"Metrics\": {\"train_absolute_loss_objective\": {\"sum\": 0.7945105314254761, \"count\": 1, \"min\": 0.7945105314254761, \"max\": 0.7945105314254761}}}\u001b[0m\n",
      "\u001b[34m#metrics {\"StartTime\": 1733348587.8926835, \"EndTime\": 1733348587.8926919, \"Dimensions\": {\"Algorithm\": \"Linear Learner\", \"Host\": \"algo-1\", \"Operation\": \"training\", \"epoch\": 0, \"model\": 6}, \"Metrics\": {\"train_absolute_loss_objective\": {\"sum\": 0.7351214468479157, \"count\": 1, \"min\": 0.7351214468479157, \"max\": 0.7351214468479157}}}\u001b[0m\n",
      "\u001b[34m#metrics {\"StartTime\": 1733348587.8927217, \"EndTime\": 1733348587.892729, \"Dimensions\": {\"Algorithm\": \"Linear Learner\", \"Host\": \"algo-1\", \"Operation\": \"training\", \"epoch\": 0, \"model\": 7}, \"Metrics\": {\"train_absolute_loss_objective\": {\"sum\": 0.754855889081955, \"count\": 1, \"min\": 0.754855889081955, \"max\": 0.754855889081955}}}\u001b[0m\n",
      "\u001b[34m#metrics {\"StartTime\": 1733348587.8927584, \"EndTime\": 1733348587.892767, \"Dimensions\": {\"Algorithm\": \"Linear Learner\", \"Host\": \"algo-1\", \"Operation\": \"training\", \"epoch\": 0, \"model\": 8}, \"Metrics\": {\"train_absolute_loss_objective\": {\"sum\": 0.7344468533992767, \"count\": 1, \"min\": 0.7344468533992767, \"max\": 0.7344468533992767}}}\u001b[0m\n",
      "\u001b[34m#metrics {\"StartTime\": 1733348587.892797, \"EndTime\": 1733348587.8928053, \"Dimensions\": {\"Algorithm\": \"Linear Learner\", \"Host\": \"algo-1\", \"Operation\": \"training\", \"epoch\": 0, \"model\": 9}, \"Metrics\": {\"train_absolute_loss_objective\": {\"sum\": 0.7921770572662353, \"count\": 1, \"min\": 0.7921770572662353, \"max\": 0.7921770572662353}}}\u001b[0m\n",
      "\u001b[34m#metrics {\"StartTime\": 1733348587.8928392, \"EndTime\": 1733348587.892847, \"Dimensions\": {\"Algorithm\": \"Linear Learner\", \"Host\": \"algo-1\", \"Operation\": \"training\", \"epoch\": 0, \"model\": 10}, \"Metrics\": {\"train_absolute_loss_objective\": {\"sum\": 0.7864839971065521, \"count\": 1, \"min\": 0.7864839971065521, \"max\": 0.7864839971065521}}}\u001b[0m\n",
      "\u001b[34m#metrics {\"StartTime\": 1733348587.8928807, \"EndTime\": 1733348587.8928888, \"Dimensions\": {\"Algorithm\": \"Linear Learner\", \"Host\": \"algo-1\", \"Operation\": \"training\", \"epoch\": 0, \"model\": 11}, \"Metrics\": {\"train_absolute_loss_objective\": {\"sum\": 0.800930792093277, \"count\": 1, \"min\": 0.800930792093277, \"max\": 0.800930792093277}}}\u001b[0m\n",
      "\u001b[34m#metrics {\"StartTime\": 1733348587.8929229, \"EndTime\": 1733348587.8929303, \"Dimensions\": {\"Algorithm\": \"Linear Learner\", \"Host\": \"algo-1\", \"Operation\": \"training\", \"epoch\": 0, \"model\": 12}, \"Metrics\": {\"train_absolute_loss_objective\": {\"sum\": 0.7952087879180908, \"count\": 1, \"min\": 0.7952087879180908, \"max\": 0.7952087879180908}}}\u001b[0m\n",
      "\u001b[34m#metrics {\"StartTime\": 1733348587.8929563, \"EndTime\": 1733348587.8929636, \"Dimensions\": {\"Algorithm\": \"Linear Learner\", \"Host\": \"algo-1\", \"Operation\": \"training\", \"epoch\": 0, \"model\": 13}, \"Metrics\": {\"train_absolute_loss_objective\": {\"sum\": 0.7770786225795746, \"count\": 1, \"min\": 0.7770786225795746, \"max\": 0.7770786225795746}}}\u001b[0m\n",
      "\u001b[34m#metrics {\"StartTime\": 1733348587.892996, \"EndTime\": 1733348587.8930047, \"Dimensions\": {\"Algorithm\": \"Linear Learner\", \"Host\": \"algo-1\", \"Operation\": \"training\", \"epoch\": 0, \"model\": 14}, \"Metrics\": {\"train_absolute_loss_objective\": {\"sum\": 0.7962357819080352, \"count\": 1, \"min\": 0.7962357819080352, \"max\": 0.7962357819080352}}}\u001b[0m\n",
      "\u001b[34m#metrics {\"StartTime\": 1733348587.8930354, \"EndTime\": 1733348587.8930435, \"Dimensions\": {\"Algorithm\": \"Linear Learner\", \"Host\": \"algo-1\", \"Operation\": \"training\", \"epoch\": 0, \"model\": 15}, \"Metrics\": {\"train_absolute_loss_objective\": {\"sum\": 0.7703263640403748, \"count\": 1, \"min\": 0.7703263640403748, \"max\": 0.7703263640403748}}}\u001b[0m\n",
      "\u001b[34m#metrics {\"StartTime\": 1733348587.8930724, \"EndTime\": 1733348587.8930793, \"Dimensions\": {\"Algorithm\": \"Linear Learner\", \"Host\": \"algo-1\", \"Operation\": \"training\", \"epoch\": 0, \"model\": 16}, \"Metrics\": {\"train_absolute_loss_objective\": {\"sum\": 0.8147933065891266, \"count\": 1, \"min\": 0.8147933065891266, \"max\": 0.8147933065891266}}}\u001b[0m\n",
      "\u001b[34m#metrics {\"StartTime\": 1733348587.8931077, \"EndTime\": 1733348587.893115, \"Dimensions\": {\"Algorithm\": \"Linear Learner\", \"Host\": \"algo-1\", \"Operation\": \"training\", \"epoch\": 0, \"model\": 17}, \"Metrics\": {\"train_absolute_loss_objective\": {\"sum\": 0.7691069841384888, \"count\": 1, \"min\": 0.7691069841384888, \"max\": 0.7691069841384888}}}\u001b[0m\n",
      "\u001b[34m#metrics {\"StartTime\": 1733348587.8931506, \"EndTime\": 1733348587.893159, \"Dimensions\": {\"Algorithm\": \"Linear Learner\", \"Host\": \"algo-1\", \"Operation\": \"training\", \"epoch\": 0, \"model\": 18}, \"Metrics\": {\"train_absolute_loss_objective\": {\"sum\": 0.789652407169342, \"count\": 1, \"min\": 0.789652407169342, \"max\": 0.789652407169342}}}\u001b[0m\n",
      "\u001b[34m#metrics {\"StartTime\": 1733348587.8931935, \"EndTime\": 1733348587.893202, \"Dimensions\": {\"Algorithm\": \"Linear Learner\", \"Host\": \"algo-1\", \"Operation\": \"training\", \"epoch\": 0, \"model\": 19}, \"Metrics\": {\"train_absolute_loss_objective\": {\"sum\": 0.7919475615024567, \"count\": 1, \"min\": 0.7919475615024567, \"max\": 0.7919475615024567}}}\u001b[0m\n",
      "\u001b[34m#metrics {\"StartTime\": 1733348587.8932347, \"EndTime\": 1733348587.8932626, \"Dimensions\": {\"Algorithm\": \"Linear Learner\", \"Host\": \"algo-1\", \"Operation\": \"training\", \"epoch\": 0, \"model\": 20}, \"Metrics\": {\"train_absolute_loss_objective\": {\"sum\": 0.780452561378479, \"count\": 1, \"min\": 0.780452561378479, \"max\": 0.780452561378479}}}\u001b[0m\n",
      "\u001b[34m#metrics {\"StartTime\": 1733348587.8932965, \"EndTime\": 1733348587.8933046, \"Dimensions\": {\"Algorithm\": \"Linear Learner\", \"Host\": \"algo-1\", \"Operation\": \"training\", \"epoch\": 0, \"model\": 21}, \"Metrics\": {\"train_absolute_loss_objective\": {\"sum\": 0.771708506345749, \"count\": 1, \"min\": 0.771708506345749, \"max\": 0.771708506345749}}}\u001b[0m\n",
      "\u001b[34m#metrics {\"StartTime\": 1733348587.8933392, \"EndTime\": 1733348587.8933475, \"Dimensions\": {\"Algorithm\": \"Linear Learner\", \"Host\": \"algo-1\", \"Operation\": \"training\", \"epoch\": 0, \"model\": 22}, \"Metrics\": {\"train_absolute_loss_objective\": {\"sum\": 0.8127098500728607, \"count\": 1, \"min\": 0.8127098500728607, \"max\": 0.8127098500728607}}}\u001b[0m\n",
      "\u001b[34m#metrics {\"StartTime\": 1733348587.8933814, \"EndTime\": 1733348587.8933904, \"Dimensions\": {\"Algorithm\": \"Linear Learner\", \"Host\": \"algo-1\", \"Operation\": \"training\", \"epoch\": 0, \"model\": 23}, \"Metrics\": {\"train_absolute_loss_objective\": {\"sum\": 0.7570275962352753, \"count\": 1, \"min\": 0.7570275962352753, \"max\": 0.7570275962352753}}}\u001b[0m\n",
      "\u001b[34m#metrics {\"StartTime\": 1733348587.8934238, \"EndTime\": 1733348587.8934326, \"Dimensions\": {\"Algorithm\": \"Linear Learner\", \"Host\": \"algo-1\", \"Operation\": \"training\", \"epoch\": 0, \"model\": 24}, \"Metrics\": {\"train_absolute_loss_objective\": {\"sum\": 0.8269120275974273, \"count\": 1, \"min\": 0.8269120275974273, \"max\": 0.8269120275974273}}}\u001b[0m\n",
      "\u001b[34m#metrics {\"StartTime\": 1733348587.8934686, \"EndTime\": 1733348587.8934777, \"Dimensions\": {\"Algorithm\": \"Linear Learner\", \"Host\": \"algo-1\", \"Operation\": \"training\", \"epoch\": 0, \"model\": 25}, \"Metrics\": {\"train_absolute_loss_objective\": {\"sum\": 0.779040789604187, \"count\": 1, \"min\": 0.779040789604187, \"max\": 0.779040789604187}}}\u001b[0m\n",
      "\u001b[34m#metrics {\"StartTime\": 1733348587.8935118, \"EndTime\": 1733348587.8935204, \"Dimensions\": {\"Algorithm\": \"Linear Learner\", \"Host\": \"algo-1\", \"Operation\": \"training\", \"epoch\": 0, \"model\": 26}, \"Metrics\": {\"train_absolute_loss_objective\": {\"sum\": 0.7859369158744812, \"count\": 1, \"min\": 0.7859369158744812, \"max\": 0.7859369158744812}}}\u001b[0m\n",
      "\u001b[34m#metrics {\"StartTime\": 1733348587.893554, \"EndTime\": 1733348587.893562, \"Dimensions\": {\"Algorithm\": \"Linear Learner\", \"Host\": \"algo-1\", \"Operation\": \"training\", \"epoch\": 0, \"model\": 27}, \"Metrics\": {\"train_absolute_loss_objective\": {\"sum\": 0.7849987506866455, \"count\": 1, \"min\": 0.7849987506866455, \"max\": 0.7849987506866455}}}\u001b[0m\n",
      "\u001b[34m#metrics {\"StartTime\": 1733348587.8935978, \"EndTime\": 1733348587.893607, \"Dimensions\": {\"Algorithm\": \"Linear Learner\", \"Host\": \"algo-1\", \"Operation\": \"training\", \"epoch\": 0, \"model\": 28}, \"Metrics\": {\"train_absolute_loss_objective\": {\"sum\": 0.9767081677913666, \"count\": 1, \"min\": 0.9767081677913666, \"max\": 0.9767081677913666}}}\u001b[0m\n",
      "\u001b[34m#metrics {\"StartTime\": 1733348587.8936393, \"EndTime\": 1733348587.8936484, \"Dimensions\": {\"Algorithm\": \"Linear Learner\", \"Host\": \"algo-1\", \"Operation\": \"training\", \"epoch\": 0, \"model\": 29}, \"Metrics\": {\"train_absolute_loss_objective\": {\"sum\": 0.9768737077713012, \"count\": 1, \"min\": 0.9768737077713012, \"max\": 0.9768737077713012}}}\u001b[0m\n",
      "\u001b[34m#metrics {\"StartTime\": 1733348587.8936827, \"EndTime\": 1733348587.893691, \"Dimensions\": {\"Algorithm\": \"Linear Learner\", \"Host\": \"algo-1\", \"Operation\": \"training\", \"epoch\": 0, \"model\": 30}, \"Metrics\": {\"train_absolute_loss_objective\": {\"sum\": 0.9818651080131531, \"count\": 1, \"min\": 0.9818651080131531, \"max\": 0.9818651080131531}}}\u001b[0m\n",
      "\u001b[34m#metrics {\"StartTime\": 1733348587.8937275, \"EndTime\": 1733348587.893736, \"Dimensions\": {\"Algorithm\": \"Linear Learner\", \"Host\": \"algo-1\", \"Operation\": \"training\", \"epoch\": 0, \"model\": 31}, \"Metrics\": {\"train_absolute_loss_objective\": {\"sum\": 0.9790345788002014, \"count\": 1, \"min\": 0.9790345788002014, \"max\": 0.9790345788002014}}}\u001b[0m\n",
      "\u001b[34m[12/04/2024 21:43:07 INFO 139926935496512] #quality_metric: host=algo-1, epoch=0, train absolute_loss_objective <loss>=0.7819531083106994\u001b[0m\n",
      "\u001b[34m[12/04/2024 21:43:07 INFO 139926935496512] #early_stopping_criteria_metric: host=algo-1, epoch=0, criteria=absolute_loss_objective, value=0.7344468533992767\u001b[0m\n",
      "\u001b[34m[12/04/2024 21:43:07 INFO 139926935496512] Epoch 0: Loss improved. Updating best model\u001b[0m\n",
      "\u001b[34m[12/04/2024 21:43:07 INFO 139926935496512] Saving model for epoch: 0\u001b[0m\n",
      "\u001b[34m[12/04/2024 21:43:07 INFO 139926935496512] Saved checkpoint to \"/tmp/tmpxm0_ua6k/mx-mod-0000.params\"\u001b[0m\n",
      "\u001b[34m[12/04/2024 21:43:07 INFO 139926935496512] #progress_metric: host=algo-1, completed 10.0 % of epochs\u001b[0m\n",
      "\u001b[34m#metrics {\"StartTime\": 1733348587.7824152, \"EndTime\": 1733348587.9019516, \"Dimensions\": {\"Algorithm\": \"Linear Learner\", \"Host\": \"algo-1\", \"Operation\": \"training\", \"epoch\": 0, \"Meta\": \"training_data_iter\"}, \"Metrics\": {\"Total Records Seen\": {\"sum\": 170.0, \"count\": 1, \"min\": 170, \"max\": 170}, \"Total Batches Seen\": {\"sum\": 17.0, \"count\": 1, \"min\": 17, \"max\": 17}, \"Max Records Seen Between Resets\": {\"sum\": 80.0, \"count\": 1, \"min\": 80, \"max\": 80}, \"Max Batches Seen Between Resets\": {\"sum\": 8.0, \"count\": 1, \"min\": 8, \"max\": 8}, \"Reset Count\": {\"sum\": 3.0, \"count\": 1, \"min\": 3, \"max\": 3}, \"Number of Records Since Last Reset\": {\"sum\": 80.0, \"count\": 1, \"min\": 80, \"max\": 80}, \"Number of Batches Since Last Reset\": {\"sum\": 8.0, \"count\": 1, \"min\": 8, \"max\": 8}}}\u001b[0m\n",
      "\u001b[34m[12/04/2024 21:43:07 INFO 139926935496512] #throughput_metric: host=algo-1, train throughput=668.6747242454738 records/second\u001b[0m\n",
      "\u001b[34m[2024-12-04 21:43:08.010] [tensorio] [info] epoch_stats={\"data_pipeline\": \"/opt/ml/input/data/train\", \"epoch\": 6, \"duration\": 107, \"num_examples\": 8, \"num_bytes\": 3840}\u001b[0m\n",
      "\u001b[34m#metrics {\"StartTime\": 1733348588.0103002, \"EndTime\": 1733348588.0103617, \"Dimensions\": {\"Algorithm\": \"Linear Learner\", \"Host\": \"algo-1\", \"Operation\": \"training\", \"epoch\": 1, \"model\": 0}, \"Metrics\": {\"train_absolute_loss_objective\": {\"sum\": 0.7468484222888947, \"count\": 1, \"min\": 0.7468484222888947, \"max\": 0.7468484222888947}}}\u001b[0m\n",
      "\u001b[34m#metrics {\"StartTime\": 1733348588.0104368, \"EndTime\": 1733348588.0104482, \"Dimensions\": {\"Algorithm\": \"Linear Learner\", \"Host\": \"algo-1\", \"Operation\": \"training\", \"epoch\": 1, \"model\": 1}, \"Metrics\": {\"train_absolute_loss_objective\": {\"sum\": 0.729566776752472, \"count\": 1, \"min\": 0.729566776752472, \"max\": 0.729566776752472}}}\u001b[0m\n",
      "\u001b[34m#metrics {\"StartTime\": 1733348588.010481, \"EndTime\": 1733348588.0104885, \"Dimensions\": {\"Algorithm\": \"Linear Learner\", \"Host\": \"algo-1\", \"Operation\": \"training\", \"epoch\": 1, \"model\": 2}, \"Metrics\": {\"train_absolute_loss_objective\": {\"sum\": 0.7447541236877442, \"count\": 1, \"min\": 0.7447541236877442, \"max\": 0.7447541236877442}}}\u001b[0m\n",
      "\u001b[34m#metrics {\"StartTime\": 1733348588.0105193, \"EndTime\": 1733348588.0105264, \"Dimensions\": {\"Algorithm\": \"Linear Learner\", \"Host\": \"algo-1\", \"Operation\": \"training\", \"epoch\": 1, \"model\": 3}, \"Metrics\": {\"train_absolute_loss_objective\": {\"sum\": 0.7304409563541412, \"count\": 1, \"min\": 0.7304409563541412, \"max\": 0.7304409563541412}}}\u001b[0m\n",
      "\u001b[34m#metrics {\"StartTime\": 1733348588.0105538, \"EndTime\": 1733348588.0105608, \"Dimensions\": {\"Algorithm\": \"Linear Learner\", \"Host\": \"algo-1\", \"Operation\": \"training\", \"epoch\": 1, \"model\": 4}, \"Metrics\": {\"train_absolute_loss_objective\": {\"sum\": 0.35020577609539033, \"count\": 1, \"min\": 0.35020577609539033, \"max\": 0.35020577609539033}}}\u001b[0m\n",
      "\u001b[34m#metrics {\"StartTime\": 1733348588.0105932, \"EndTime\": 1733348588.0106015, \"Dimensions\": {\"Algorithm\": \"Linear Learner\", \"Host\": \"algo-1\", \"Operation\": \"training\", \"epoch\": 1, \"model\": 5}, \"Metrics\": {\"train_absolute_loss_objective\": {\"sum\": 0.3531172811985016, \"count\": 1, \"min\": 0.3531172811985016, \"max\": 0.3531172811985016}}}\u001b[0m\n",
      "\u001b[34m#metrics {\"StartTime\": 1733348588.010634, \"EndTime\": 1733348588.0106428, \"Dimensions\": {\"Algorithm\": \"Linear Learner\", \"Host\": \"algo-1\", \"Operation\": \"training\", \"epoch\": 1, \"model\": 6}, \"Metrics\": {\"train_absolute_loss_objective\": {\"sum\": 0.37617450058460233, \"count\": 1, \"min\": 0.37617450058460233, \"max\": 0.37617450058460233}}}\u001b[0m\n",
      "\u001b[34m#metrics {\"StartTime\": 1733348588.0106776, \"EndTime\": 1733348588.010686, \"Dimensions\": {\"Algorithm\": \"Linear Learner\", \"Host\": \"algo-1\", \"Operation\": \"training\", \"epoch\": 1, \"model\": 7}, \"Metrics\": {\"train_absolute_loss_objective\": {\"sum\": 0.3901299238204956, \"count\": 1, \"min\": 0.3901299238204956, \"max\": 0.3901299238204956}}}\u001b[0m\n",
      "\u001b[34m#metrics {\"StartTime\": 1733348588.0107188, \"EndTime\": 1733348588.0107274, \"Dimensions\": {\"Algorithm\": \"Linear Learner\", \"Host\": \"algo-1\", \"Operation\": \"training\", \"epoch\": 1, \"model\": 8}, \"Metrics\": {\"train_absolute_loss_objective\": {\"sum\": 0.6986578404903412, \"count\": 1, \"min\": 0.6986578404903412, \"max\": 0.6986578404903412}}}\u001b[0m\n",
      "\u001b[34m#metrics {\"StartTime\": 1733348588.0107608, \"EndTime\": 1733348588.0107694, \"Dimensions\": {\"Algorithm\": \"Linear Learner\", \"Host\": \"algo-1\", \"Operation\": \"training\", \"epoch\": 1, \"model\": 9}, \"Metrics\": {\"train_absolute_loss_objective\": {\"sum\": 0.7572277069091797, \"count\": 1, \"min\": 0.7572277069091797, \"max\": 0.7572277069091797}}}\u001b[0m\n",
      "\u001b[34m#metrics {\"StartTime\": 1733348588.0108025, \"EndTime\": 1733348588.0108113, \"Dimensions\": {\"Algorithm\": \"Linear Learner\", \"Host\": \"algo-1\", \"Operation\": \"training\", \"epoch\": 1, \"model\": 10}, \"Metrics\": {\"train_absolute_loss_objective\": {\"sum\": 0.7514793038368225, \"count\": 1, \"min\": 0.7514793038368225, \"max\": 0.7514793038368225}}}\u001b[0m\n",
      "\u001b[34m#metrics {\"StartTime\": 1733348588.0108442, \"EndTime\": 1733348588.0108523, \"Dimensions\": {\"Algorithm\": \"Linear Learner\", \"Host\": \"algo-1\", \"Operation\": \"training\", \"epoch\": 1, \"model\": 11}, \"Metrics\": {\"train_absolute_loss_objective\": {\"sum\": 0.7632722795009613, \"count\": 1, \"min\": 0.7632722795009613, \"max\": 0.7632722795009613}}}\u001b[0m\n",
      "\u001b[34m#metrics {\"StartTime\": 1733348588.0108852, \"EndTime\": 1733348588.0108936, \"Dimensions\": {\"Algorithm\": \"Linear Learner\", \"Host\": \"algo-1\", \"Operation\": \"training\", \"epoch\": 1, \"model\": 12}, \"Metrics\": {\"train_absolute_loss_objective\": {\"sum\": 0.35098094642162325, \"count\": 1, \"min\": 0.35098094642162325, \"max\": 0.35098094642162325}}}\u001b[0m\n",
      "\u001b[34m#metrics {\"StartTime\": 1733348588.0109203, \"EndTime\": 1733348588.010927, \"Dimensions\": {\"Algorithm\": \"Linear Learner\", \"Host\": \"algo-1\", \"Operation\": \"training\", \"epoch\": 1, \"model\": 13}, \"Metrics\": {\"train_absolute_loss_objective\": {\"sum\": 0.36355003118515017, \"count\": 1, \"min\": 0.36355003118515017, \"max\": 0.36355003118515017}}}\u001b[0m\n",
      "\u001b[34m#metrics {\"StartTime\": 1733348588.0109575, \"EndTime\": 1733348588.010965, \"Dimensions\": {\"Algorithm\": \"Linear Learner\", \"Host\": \"algo-1\", \"Operation\": \"training\", \"epoch\": 1, \"model\": 14}, \"Metrics\": {\"train_absolute_loss_objective\": {\"sum\": 0.3506948441267014, \"count\": 1, \"min\": 0.3506948441267014, \"max\": 0.3506948441267014}}}\u001b[0m\n",
      "\u001b[34m#metrics {\"StartTime\": 1733348588.010999, \"EndTime\": 1733348588.0110059, \"Dimensions\": {\"Algorithm\": \"Linear Learner\", \"Host\": \"algo-1\", \"Operation\": \"training\", \"epoch\": 1, \"model\": 15}, \"Metrics\": {\"train_absolute_loss_objective\": {\"sum\": 0.37974139153957365, \"count\": 1, \"min\": 0.37974139153957365, \"max\": 0.37974139153957365}}}\u001b[0m\n",
      "\u001b[34m#metrics {\"StartTime\": 1733348588.0110314, \"EndTime\": 1733348588.0110385, \"Dimensions\": {\"Algorithm\": \"Linear Learner\", \"Host\": \"algo-1\", \"Operation\": \"training\", \"epoch\": 1, \"model\": 16}, \"Metrics\": {\"train_absolute_loss_objective\": {\"sum\": 0.7773277282714843, \"count\": 1, \"min\": 0.7773277282714843, \"max\": 0.7773277282714843}}}\u001b[0m\n",
      "\u001b[34m#metrics {\"StartTime\": 1733348588.0110667, \"EndTime\": 1733348588.011074, \"Dimensions\": {\"Algorithm\": \"Linear Learner\", \"Host\": \"algo-1\", \"Operation\": \"training\", \"epoch\": 1, \"model\": 17}, \"Metrics\": {\"train_absolute_loss_objective\": {\"sum\": 0.7338954627513885, \"count\": 1, \"min\": 0.7338954627513885, \"max\": 0.7338954627513885}}}\u001b[0m\n",
      "\u001b[34m#metrics {\"StartTime\": 1733348588.0111127, \"EndTime\": 1733348588.011122, \"Dimensions\": {\"Algorithm\": \"Linear Learner\", \"Host\": \"algo-1\", \"Operation\": \"training\", \"epoch\": 1, \"model\": 18}, \"Metrics\": {\"train_absolute_loss_objective\": {\"sum\": 0.7548383116722107, \"count\": 1, \"min\": 0.7548383116722107, \"max\": 0.7548383116722107}}}\u001b[0m\n",
      "\u001b[34m#metrics {\"StartTime\": 1733348588.0111487, \"EndTime\": 1733348588.0111563, \"Dimensions\": {\"Algorithm\": \"Linear Learner\", \"Host\": \"algo-1\", \"Operation\": \"training\", \"epoch\": 1, \"model\": 19}, \"Metrics\": {\"train_absolute_loss_objective\": {\"sum\": 0.7571067750453949, \"count\": 1, \"min\": 0.7571067750453949, \"max\": 0.7571067750453949}}}\u001b[0m\n",
      "\u001b[34m#metrics {\"StartTime\": 1733348588.0111854, \"EndTime\": 1733348588.0111935, \"Dimensions\": {\"Algorithm\": \"Linear Learner\", \"Host\": \"algo-1\", \"Operation\": \"training\", \"epoch\": 1, \"model\": 20}, \"Metrics\": {\"train_absolute_loss_objective\": {\"sum\": 0.3861446678638458, \"count\": 1, \"min\": 0.3861446678638458, \"max\": 0.3861446678638458}}}\u001b[0m\n",
      "\u001b[34m#metrics {\"StartTime\": 1733348588.011218, \"EndTime\": 1733348588.0112267, \"Dimensions\": {\"Algorithm\": \"Linear Learner\", \"Host\": \"algo-1\", \"Operation\": \"training\", \"epoch\": 1, \"model\": 21}, \"Metrics\": {\"train_absolute_loss_objective\": {\"sum\": 0.38666701018810273, \"count\": 1, \"min\": 0.38666701018810273, \"max\": 0.38666701018810273}}}\u001b[0m\n",
      "\u001b[34m#metrics {\"StartTime\": 1733348588.011261, \"EndTime\": 1733348588.011268, \"Dimensions\": {\"Algorithm\": \"Linear Learner\", \"Host\": \"algo-1\", \"Operation\": \"training\", \"epoch\": 1, \"model\": 22}, \"Metrics\": {\"train_absolute_loss_objective\": {\"sum\": 0.4070170849561691, \"count\": 1, \"min\": 0.4070170849561691, \"max\": 0.4070170849561691}}}\u001b[0m\n",
      "\u001b[34m#metrics {\"StartTime\": 1733348588.0112953, \"EndTime\": 1733348588.011303, \"Dimensions\": {\"Algorithm\": \"Linear Learner\", \"Host\": \"algo-1\", \"Operation\": \"training\", \"epoch\": 1, \"model\": 23}, \"Metrics\": {\"train_absolute_loss_objective\": {\"sum\": 0.3878991812467575, \"count\": 1, \"min\": 0.3878991812467575, \"max\": 0.3878991812467575}}}\u001b[0m\n",
      "\u001b[34m#metrics {\"StartTime\": 1733348588.0113313, \"EndTime\": 1733348588.0113392, \"Dimensions\": {\"Algorithm\": \"Linear Learner\", \"Host\": \"algo-1\", \"Operation\": \"training\", \"epoch\": 1, \"model\": 24}, \"Metrics\": {\"train_absolute_loss_objective\": {\"sum\": 0.7913962066173553, \"count\": 1, \"min\": 0.7913962066173553, \"max\": 0.7913962066173553}}}\u001b[0m\n",
      "\u001b[34m#metrics {\"StartTime\": 1733348588.0113683, \"EndTime\": 1733348588.011376, \"Dimensions\": {\"Algorithm\": \"Linear Learner\", \"Host\": \"algo-1\", \"Operation\": \"training\", \"epoch\": 1, \"model\": 25}, \"Metrics\": {\"train_absolute_loss_objective\": {\"sum\": 0.7852383255958557, \"count\": 1, \"min\": 0.7852383255958557, \"max\": 0.7852383255958557}}}\u001b[0m\n",
      "\u001b[34m#metrics {\"StartTime\": 1733348588.011401, \"EndTime\": 1733348588.0114088, \"Dimensions\": {\"Algorithm\": \"Linear Learner\", \"Host\": \"algo-1\", \"Operation\": \"training\", \"epoch\": 1, \"model\": 26}, \"Metrics\": {\"train_absolute_loss_objective\": {\"sum\": 0.77684086561203, \"count\": 1, \"min\": 0.77684086561203, \"max\": 0.77684086561203}}}\u001b[0m\n",
      "\u001b[34m#metrics {\"StartTime\": 1733348588.011436, \"EndTime\": 1733348588.0114436, \"Dimensions\": {\"Algorithm\": \"Linear Learner\", \"Host\": \"algo-1\", \"Operation\": \"training\", \"epoch\": 1, \"model\": 27}, \"Metrics\": {\"train_absolute_loss_objective\": {\"sum\": 0.7786604046821595, \"count\": 1, \"min\": 0.7786604046821595, \"max\": 0.7786604046821595}}}\u001b[0m\n",
      "\u001b[34m#metrics {\"StartTime\": 1733348588.011471, \"EndTime\": 1733348588.0114794, \"Dimensions\": {\"Algorithm\": \"Linear Learner\", \"Host\": \"algo-1\", \"Operation\": \"training\", \"epoch\": 1, \"model\": 28}, \"Metrics\": {\"train_absolute_loss_objective\": {\"sum\": 0.8173374831676483, \"count\": 1, \"min\": 0.8173374831676483, \"max\": 0.8173374831676483}}}\u001b[0m\n",
      "\u001b[34m#metrics {\"StartTime\": 1733348588.011509, \"EndTime\": 1733348588.0115173, \"Dimensions\": {\"Algorithm\": \"Linear Learner\", \"Host\": \"algo-1\", \"Operation\": \"training\", \"epoch\": 1, \"model\": 29}, \"Metrics\": {\"train_absolute_loss_objective\": {\"sum\": 0.8172562837600708, \"count\": 1, \"min\": 0.8172562837600708, \"max\": 0.8172562837600708}}}\u001b[0m\n",
      "\u001b[34m#metrics {\"StartTime\": 1733348588.0115466, \"EndTime\": 1733348588.011554, \"Dimensions\": {\"Algorithm\": \"Linear Learner\", \"Host\": \"algo-1\", \"Operation\": \"training\", \"epoch\": 1, \"model\": 30}, \"Metrics\": {\"train_absolute_loss_objective\": {\"sum\": 0.8098298192024231, \"count\": 1, \"min\": 0.8098298192024231, \"max\": 0.8098298192024231}}}\u001b[0m\n",
      "\u001b[34m#metrics {\"StartTime\": 1733348588.0115817, \"EndTime\": 1733348588.011589, \"Dimensions\": {\"Algorithm\": \"Linear Learner\", \"Host\": \"algo-1\", \"Operation\": \"training\", \"epoch\": 1, \"model\": 31}, \"Metrics\": {\"train_absolute_loss_objective\": {\"sum\": 0.8153374135494232, \"count\": 1, \"min\": 0.8153374135494232, \"max\": 0.8153374135494232}}}\u001b[0m\n",
      "\u001b[34m[12/04/2024 21:43:08 INFO 139926935496512] #quality_metric: host=algo-1, epoch=1, train absolute_loss_objective <loss>=0.7468484222888947\u001b[0m\n",
      "\u001b[34m[12/04/2024 21:43:08 INFO 139926935496512] #early_stopping_criteria_metric: host=algo-1, epoch=1, criteria=absolute_loss_objective, value=0.35020577609539033\u001b[0m\n",
      "\u001b[34m[12/04/2024 21:43:08 INFO 139926935496512] Epoch 1: Loss improved. Updating best model\u001b[0m\n",
      "\u001b[34m[12/04/2024 21:43:08 INFO 139926935496512] Saving model for epoch: 1\u001b[0m\n",
      "\u001b[34m[12/04/2024 21:43:08 INFO 139926935496512] Saved checkpoint to \"/tmp/tmpv6at9l4l/mx-mod-0000.params\"\u001b[0m\n",
      "\u001b[34m[12/04/2024 21:43:08 INFO 139926935496512] #progress_metric: host=algo-1, completed 20.0 % of epochs\u001b[0m\n",
      "\u001b[34m#metrics {\"StartTime\": 1733348587.9021955, \"EndTime\": 1733348588.0186071, \"Dimensions\": {\"Algorithm\": \"Linear Learner\", \"Host\": \"algo-1\", \"Operation\": \"training\", \"epoch\": 1, \"Meta\": \"training_data_iter\"}, \"Metrics\": {\"Total Records Seen\": {\"sum\": 250.0, \"count\": 1, \"min\": 250, \"max\": 250}, \"Total Batches Seen\": {\"sum\": 25.0, \"count\": 1, \"min\": 25, \"max\": 25}, \"Max Records Seen Between Resets\": {\"sum\": 80.0, \"count\": 1, \"min\": 80, \"max\": 80}, \"Max Batches Seen Between Resets\": {\"sum\": 8.0, \"count\": 1, \"min\": 8, \"max\": 8}, \"Reset Count\": {\"sum\": 4.0, \"count\": 1, \"min\": 4, \"max\": 4}, \"Number of Records Since Last Reset\": {\"sum\": 80.0, \"count\": 1, \"min\": 80, \"max\": 80}, \"Number of Batches Since Last Reset\": {\"sum\": 8.0, \"count\": 1, \"min\": 8, \"max\": 8}}}\u001b[0m\n",
      "\u001b[34m[12/04/2024 21:43:08 INFO 139926935496512] #throughput_metric: host=algo-1, train throughput=686.486532933703 records/second\u001b[0m\n",
      "\u001b[34m[2024-12-04 21:43:08.121] [tensorio] [info] epoch_stats={\"data_pipeline\": \"/opt/ml/input/data/train\", \"epoch\": 8, \"duration\": 102, \"num_examples\": 8, \"num_bytes\": 3840}\u001b[0m\n",
      "\u001b[34m#metrics {\"StartTime\": 1733348588.1218379, \"EndTime\": 1733348588.1219034, \"Dimensions\": {\"Algorithm\": \"Linear Learner\", \"Host\": \"algo-1\", \"Operation\": \"training\", \"epoch\": 2, \"model\": 0}, \"Metrics\": {\"train_absolute_loss_objective\": {\"sum\": 0.7193773806095123, \"count\": 1, \"min\": 0.7193773806095123, \"max\": 0.7193773806095123}}}\u001b[0m\n",
      "\u001b[34m#metrics {\"StartTime\": 1733348588.1219678, \"EndTime\": 1733348588.12198, \"Dimensions\": {\"Algorithm\": \"Linear Learner\", \"Host\": \"algo-1\", \"Operation\": \"training\", \"epoch\": 2, \"model\": 1}, \"Metrics\": {\"train_absolute_loss_objective\": {\"sum\": 0.7017704844474792, \"count\": 1, \"min\": 0.7017704844474792, \"max\": 0.7017704844474792}}}\u001b[0m\n",
      "\u001b[34m#metrics {\"StartTime\": 1733348588.1220214, \"EndTime\": 1733348588.12203, \"Dimensions\": {\"Algorithm\": \"Linear Learner\", \"Host\": \"algo-1\", \"Operation\": \"training\", \"epoch\": 2, \"model\": 2}, \"Metrics\": {\"train_absolute_loss_objective\": {\"sum\": 0.7173394620418548, \"count\": 1, \"min\": 0.7173394620418548, \"max\": 0.7173394620418548}}}\u001b[0m\n",
      "\u001b[34m#metrics {\"StartTime\": 1733348588.1220565, \"EndTime\": 1733348588.122064, \"Dimensions\": {\"Algorithm\": \"Linear Learner\", \"Host\": \"algo-1\", \"Operation\": \"training\", \"epoch\": 2, \"model\": 3}, \"Metrics\": {\"train_absolute_loss_objective\": {\"sum\": 0.7026302218437195, \"count\": 1, \"min\": 0.7026302218437195, \"max\": 0.7026302218437195}}}\u001b[0m\n",
      "\u001b[34m#metrics {\"StartTime\": 1733348588.122093, \"EndTime\": 1733348588.1221008, \"Dimensions\": {\"Algorithm\": \"Linear Learner\", \"Host\": \"algo-1\", \"Operation\": \"training\", \"epoch\": 2, \"model\": 4}, \"Metrics\": {\"train_absolute_loss_objective\": {\"sum\": 0.30045557022094727, \"count\": 1, \"min\": 0.30045557022094727, \"max\": 0.30045557022094727}}}\u001b[0m\n",
      "\u001b[34m#metrics {\"StartTime\": 1733348588.1221344, \"EndTime\": 1733348588.1221433, \"Dimensions\": {\"Algorithm\": \"Linear Learner\", \"Host\": \"algo-1\", \"Operation\": \"training\", \"epoch\": 2, \"model\": 5}, \"Metrics\": {\"train_absolute_loss_objective\": {\"sum\": 0.3048722714185715, \"count\": 1, \"min\": 0.3048722714185715, \"max\": 0.3048722714185715}}}\u001b[0m\n",
      "\u001b[34m#metrics {\"StartTime\": 1733348588.1221707, \"EndTime\": 1733348588.1221776, \"Dimensions\": {\"Algorithm\": \"Linear Learner\", \"Host\": \"algo-1\", \"Operation\": \"training\", \"epoch\": 2, \"model\": 6}, \"Metrics\": {\"train_absolute_loss_objective\": {\"sum\": 0.2980696320533752, \"count\": 1, \"min\": 0.2980696320533752, \"max\": 0.2980696320533752}}}\u001b[0m\n",
      "\u001b[34m#metrics {\"StartTime\": 1733348588.1222026, \"EndTime\": 1733348588.122209, \"Dimensions\": {\"Algorithm\": \"Linear Learner\", \"Host\": \"algo-1\", \"Operation\": \"training\", \"epoch\": 2, \"model\": 7}, \"Metrics\": {\"train_absolute_loss_objective\": {\"sum\": 0.31558101177215575, \"count\": 1, \"min\": 0.31558101177215575, \"max\": 0.31558101177215575}}}\u001b[0m\n",
      "\u001b[34m#metrics {\"StartTime\": 1733348588.1222374, \"EndTime\": 1733348588.1222456, \"Dimensions\": {\"Algorithm\": \"Linear Learner\", \"Host\": \"algo-1\", \"Operation\": \"training\", \"epoch\": 2, \"model\": 8}, \"Metrics\": {\"train_absolute_loss_objective\": {\"sum\": 0.6713625431060791, \"count\": 1, \"min\": 0.6713625431060791, \"max\": 0.6713625431060791}}}\u001b[0m\n",
      "\u001b[34m#metrics {\"StartTime\": 1733348588.1222718, \"EndTime\": 1733348588.1222794, \"Dimensions\": {\"Algorithm\": \"Linear Learner\", \"Host\": \"algo-1\", \"Operation\": \"training\", \"epoch\": 2, \"model\": 9}, \"Metrics\": {\"train_absolute_loss_objective\": {\"sum\": 0.7291962623596191, \"count\": 1, \"min\": 0.7291962623596191, \"max\": 0.7291962623596191}}}\u001b[0m\n",
      "\u001b[34m#metrics {\"StartTime\": 1733348588.1223075, \"EndTime\": 1733348588.122316, \"Dimensions\": {\"Algorithm\": \"Linear Learner\", \"Host\": \"algo-1\", \"Operation\": \"training\", \"epoch\": 2, \"model\": 10}, \"Metrics\": {\"train_absolute_loss_objective\": {\"sum\": 0.7238880217075347, \"count\": 1, \"min\": 0.7238880217075347, \"max\": 0.7238880217075347}}}\u001b[0m\n",
      "\u001b[34m#metrics {\"StartTime\": 1733348588.1223447, \"EndTime\": 1733348588.1223528, \"Dimensions\": {\"Algorithm\": \"Linear Learner\", \"Host\": \"algo-1\", \"Operation\": \"training\", \"epoch\": 2, \"model\": 11}, \"Metrics\": {\"train_absolute_loss_objective\": {\"sum\": 0.7358458578586579, \"count\": 1, \"min\": 0.7358458578586579, \"max\": 0.7358458578586579}}}\u001b[0m\n",
      "\u001b[34m#metrics {\"StartTime\": 1733348588.1223826, \"EndTime\": 1733348588.12239, \"Dimensions\": {\"Algorithm\": \"Linear Learner\", \"Host\": \"algo-1\", \"Operation\": \"training\", \"epoch\": 2, \"model\": 12}, \"Metrics\": {\"train_absolute_loss_objective\": {\"sum\": 0.29907322227954863, \"count\": 1, \"min\": 0.29907322227954863, \"max\": 0.29907322227954863}}}\u001b[0m\n",
      "\u001b[34m#metrics {\"StartTime\": 1733348588.1224205, \"EndTime\": 1733348588.122429, \"Dimensions\": {\"Algorithm\": \"Linear Learner\", \"Host\": \"algo-1\", \"Operation\": \"training\", \"epoch\": 2, \"model\": 13}, \"Metrics\": {\"train_absolute_loss_objective\": {\"sum\": 0.31861572265625, \"count\": 1, \"min\": 0.31861572265625, \"max\": 0.31861572265625}}}\u001b[0m\n",
      "\u001b[34m#metrics {\"StartTime\": 1733348588.1224577, \"EndTime\": 1733348588.1224666, \"Dimensions\": {\"Algorithm\": \"Linear Learner\", \"Host\": \"algo-1\", \"Operation\": \"training\", \"epoch\": 2, \"model\": 14}, \"Metrics\": {\"train_absolute_loss_objective\": {\"sum\": 0.2985590577125549, \"count\": 1, \"min\": 0.2985590577125549, \"max\": 0.2985590577125549}}}\u001b[0m\n",
      "\u001b[34m#metrics {\"StartTime\": 1733348588.1224952, \"EndTime\": 1733348588.1225026, \"Dimensions\": {\"Algorithm\": \"Linear Learner\", \"Host\": \"algo-1\", \"Operation\": \"training\", \"epoch\": 2, \"model\": 15}, \"Metrics\": {\"train_absolute_loss_objective\": {\"sum\": 0.3197308719158173, \"count\": 1, \"min\": 0.3197308719158173, \"max\": 0.3197308719158173}}}\u001b[0m\n",
      "\u001b[34m#metrics {\"StartTime\": 1733348588.1225336, \"EndTime\": 1733348588.122542, \"Dimensions\": {\"Algorithm\": \"Linear Learner\", \"Host\": \"algo-1\", \"Operation\": \"training\", \"epoch\": 2, \"model\": 16}, \"Metrics\": {\"train_absolute_loss_objective\": {\"sum\": 0.7504880428314209, \"count\": 1, \"min\": 0.7504880428314209, \"max\": 0.7504880428314209}}}\u001b[0m\n",
      "\u001b[34m#metrics {\"StartTime\": 1733348588.1225708, \"EndTime\": 1733348588.1225789, \"Dimensions\": {\"Algorithm\": \"Linear Learner\", \"Host\": \"algo-1\", \"Operation\": \"training\", \"epoch\": 2, \"model\": 17}, \"Metrics\": {\"train_absolute_loss_objective\": {\"sum\": 0.7065912544727325, \"count\": 1, \"min\": 0.7065912544727325, \"max\": 0.7065912544727325}}}\u001b[0m\n",
      "\u001b[34m#metrics {\"StartTime\": 1733348588.1226132, \"EndTime\": 1733348588.1226223, \"Dimensions\": {\"Algorithm\": \"Linear Learner\", \"Host\": \"algo-1\", \"Operation\": \"training\", \"epoch\": 2, \"model\": 18}, \"Metrics\": {\"train_absolute_loss_objective\": {\"sum\": 0.7276115953922272, \"count\": 1, \"min\": 0.7276115953922272, \"max\": 0.7276115953922272}}}\u001b[0m\n",
      "\u001b[34m#metrics {\"StartTime\": 1733348588.122652, \"EndTime\": 1733348588.1226602, \"Dimensions\": {\"Algorithm\": \"Linear Learner\", \"Host\": \"algo-1\", \"Operation\": \"training\", \"epoch\": 2, \"model\": 19}, \"Metrics\": {\"train_absolute_loss_objective\": {\"sum\": 0.7295316755771637, \"count\": 1, \"min\": 0.7295316755771637, \"max\": 0.7295316755771637}}}\u001b[0m\n",
      "\u001b[34m#metrics {\"StartTime\": 1733348588.12269, \"EndTime\": 1733348588.122698, \"Dimensions\": {\"Algorithm\": \"Linear Learner\", \"Host\": \"algo-1\", \"Operation\": \"training\", \"epoch\": 2, \"model\": 20}, \"Metrics\": {\"train_absolute_loss_objective\": {\"sum\": 0.45585623383522034, \"count\": 1, \"min\": 0.45585623383522034, \"max\": 0.45585623383522034}}}\u001b[0m\n",
      "\u001b[34m#metrics {\"StartTime\": 1733348588.1227272, \"EndTime\": 1733348588.122735, \"Dimensions\": {\"Algorithm\": \"Linear Learner\", \"Host\": \"algo-1\", \"Operation\": \"training\", \"epoch\": 2, \"model\": 21}, \"Metrics\": {\"train_absolute_loss_objective\": {\"sum\": 0.4634383350610733, \"count\": 1, \"min\": 0.4634383350610733, \"max\": 0.4634383350610733}}}\u001b[0m\n",
      "\u001b[34m#metrics {\"StartTime\": 1733348588.122766, \"EndTime\": 1733348588.1227741, \"Dimensions\": {\"Algorithm\": \"Linear Learner\", \"Host\": \"algo-1\", \"Operation\": \"training\", \"epoch\": 2, \"model\": 22}, \"Metrics\": {\"train_absolute_loss_objective\": {\"sum\": 0.5507877856492996, \"count\": 1, \"min\": 0.5507877856492996, \"max\": 0.5507877856492996}}}\u001b[0m\n",
      "\u001b[34m#metrics {\"StartTime\": 1733348588.122803, \"EndTime\": 1733348588.1228108, \"Dimensions\": {\"Algorithm\": \"Linear Learner\", \"Host\": \"algo-1\", \"Operation\": \"training\", \"epoch\": 2, \"model\": 23}, \"Metrics\": {\"train_absolute_loss_objective\": {\"sum\": 0.4952054530382156, \"count\": 1, \"min\": 0.4952054530382156, \"max\": 0.4952054530382156}}}\u001b[0m\n",
      "\u001b[34m#metrics {\"StartTime\": 1733348588.1228395, \"EndTime\": 1733348588.1228476, \"Dimensions\": {\"Algorithm\": \"Linear Learner\", \"Host\": \"algo-1\", \"Operation\": \"training\", \"epoch\": 2, \"model\": 24}, \"Metrics\": {\"train_absolute_loss_objective\": {\"sum\": 0.774077308177948, \"count\": 1, \"min\": 0.774077308177948, \"max\": 0.774077308177948}}}\u001b[0m\n",
      "\u001b[34m#metrics {\"StartTime\": 1733348588.1228778, \"EndTime\": 1733348588.122886, \"Dimensions\": {\"Algorithm\": \"Linear Learner\", \"Host\": \"algo-1\", \"Operation\": \"training\", \"epoch\": 2, \"model\": 25}, \"Metrics\": {\"train_absolute_loss_objective\": {\"sum\": 0.7782005369663239, \"count\": 1, \"min\": 0.7782005369663239, \"max\": 0.7782005369663239}}}\u001b[0m\n",
      "\u001b[34m#metrics {\"StartTime\": 1733348588.1229155, \"EndTime\": 1733348588.1229236, \"Dimensions\": {\"Algorithm\": \"Linear Learner\", \"Host\": \"algo-1\", \"Operation\": \"training\", \"epoch\": 2, \"model\": 26}, \"Metrics\": {\"train_absolute_loss_objective\": {\"sum\": 0.7805974423885346, \"count\": 1, \"min\": 0.7805974423885346, \"max\": 0.7805974423885346}}}\u001b[0m\n",
      "\u001b[34m#metrics {\"StartTime\": 1733348588.1229556, \"EndTime\": 1733348588.1229644, \"Dimensions\": {\"Algorithm\": \"Linear Learner\", \"Host\": \"algo-1\", \"Operation\": \"training\", \"epoch\": 2, \"model\": 27}, \"Metrics\": {\"train_absolute_loss_objective\": {\"sum\": 0.779802393913269, \"count\": 1, \"min\": 0.779802393913269, \"max\": 0.779802393913269}}}\u001b[0m\n",
      "\u001b[34m#metrics {\"StartTime\": 1733348588.1229951, \"EndTime\": 1733348588.1230037, \"Dimensions\": {\"Algorithm\": \"Linear Learner\", \"Host\": \"algo-1\", \"Operation\": \"training\", \"epoch\": 2, \"model\": 28}, \"Metrics\": {\"train_absolute_loss_objective\": {\"sum\": 0.8049371600151062, \"count\": 1, \"min\": 0.8049371600151062, \"max\": 0.8049371600151062}}}\u001b[0m\n",
      "\u001b[34m#metrics {\"StartTime\": 1733348588.1230268, \"EndTime\": 1733348588.123035, \"Dimensions\": {\"Algorithm\": \"Linear Learner\", \"Host\": \"algo-1\", \"Operation\": \"training\", \"epoch\": 2, \"model\": 29}, \"Metrics\": {\"train_absolute_loss_objective\": {\"sum\": 0.8054413139820099, \"count\": 1, \"min\": 0.8054413139820099, \"max\": 0.8054413139820099}}}\u001b[0m\n",
      "\u001b[34m#metrics {\"StartTime\": 1733348588.1230679, \"EndTime\": 1733348588.1230755, \"Dimensions\": {\"Algorithm\": \"Linear Learner\", \"Host\": \"algo-1\", \"Operation\": \"training\", \"epoch\": 2, \"model\": 30}, \"Metrics\": {\"train_absolute_loss_objective\": {\"sum\": 0.8025378465652466, \"count\": 1, \"min\": 0.8025378465652466, \"max\": 0.8025378465652466}}}\u001b[0m\n",
      "\u001b[34m#metrics {\"StartTime\": 1733348588.1231158, \"EndTime\": 1733348588.1231241, \"Dimensions\": {\"Algorithm\": \"Linear Learner\", \"Host\": \"algo-1\", \"Operation\": \"training\", \"epoch\": 2, \"model\": 31}, \"Metrics\": {\"train_absolute_loss_objective\": {\"sum\": 0.8014327228069306, \"count\": 1, \"min\": 0.8014327228069306, \"max\": 0.8014327228069306}}}\u001b[0m\n",
      "\u001b[34m[12/04/2024 21:43:08 INFO 139926935496512] #quality_metric: host=algo-1, epoch=2, train absolute_loss_objective <loss>=0.7193773806095123\u001b[0m\n",
      "\u001b[34m[12/04/2024 21:43:08 INFO 139926935496512] #early_stopping_criteria_metric: host=algo-1, epoch=2, criteria=absolute_loss_objective, value=0.2980696320533752\u001b[0m\n",
      "\u001b[34m[12/04/2024 21:43:08 INFO 139926935496512] Epoch 2: Loss improved. Updating best model\u001b[0m\n",
      "\u001b[34m[12/04/2024 21:43:08 INFO 139926935496512] Saving model for epoch: 2\u001b[0m\n",
      "\u001b[34m[12/04/2024 21:43:08 INFO 139926935496512] Saved checkpoint to \"/tmp/tmp0e6ezngs/mx-mod-0000.params\"\u001b[0m\n",
      "\u001b[34m[12/04/2024 21:43:08 INFO 139926935496512] #progress_metric: host=algo-1, completed 30.0 % of epochs\u001b[0m\n",
      "\u001b[34m#metrics {\"StartTime\": 1733348588.0188534, \"EndTime\": 1733348588.133721, \"Dimensions\": {\"Algorithm\": \"Linear Learner\", \"Host\": \"algo-1\", \"Operation\": \"training\", \"epoch\": 2, \"Meta\": \"training_data_iter\"}, \"Metrics\": {\"Total Records Seen\": {\"sum\": 330.0, \"count\": 1, \"min\": 330, \"max\": 330}, \"Total Batches Seen\": {\"sum\": 33.0, \"count\": 1, \"min\": 33, \"max\": 33}, \"Max Records Seen Between Resets\": {\"sum\": 80.0, \"count\": 1, \"min\": 80, \"max\": 80}, \"Max Batches Seen Between Resets\": {\"sum\": 8.0, \"count\": 1, \"min\": 8, \"max\": 8}, \"Reset Count\": {\"sum\": 5.0, \"count\": 1, \"min\": 5, \"max\": 5}, \"Number of Records Since Last Reset\": {\"sum\": 80.0, \"count\": 1, \"min\": 80, \"max\": 80}, \"Number of Batches Since Last Reset\": {\"sum\": 8.0, \"count\": 1, \"min\": 8, \"max\": 8}}}\u001b[0m\n",
      "\u001b[34m[12/04/2024 21:43:08 INFO 139926935496512] #throughput_metric: host=algo-1, train throughput=695.6939433898108 records/second\u001b[0m\n",
      "\u001b[34m[2024-12-04 21:43:08.228] [tensorio] [info] epoch_stats={\"data_pipeline\": \"/opt/ml/input/data/train\", \"epoch\": 10, \"duration\": 93, \"num_examples\": 8, \"num_bytes\": 3840}\u001b[0m\n",
      "\u001b[34m#metrics {\"StartTime\": 1733348588.2292953, \"EndTime\": 1733348588.2293818, \"Dimensions\": {\"Algorithm\": \"Linear Learner\", \"Host\": \"algo-1\", \"Operation\": \"training\", \"epoch\": 3, \"model\": 0}, \"Metrics\": {\"train_absolute_loss_objective\": {\"sum\": 0.6910788416862488, \"count\": 1, \"min\": 0.6910788416862488, \"max\": 0.6910788416862488}}}\u001b[0m\n",
      "\u001b[34m#metrics {\"StartTime\": 1733348588.229749, \"EndTime\": 1733348588.2297726, \"Dimensions\": {\"Algorithm\": \"Linear Learner\", \"Host\": \"algo-1\", \"Operation\": \"training\", \"epoch\": 3, \"model\": 1}, \"Metrics\": {\"train_absolute_loss_objective\": {\"sum\": 0.6733434319496154, \"count\": 1, \"min\": 0.6733434319496154, \"max\": 0.6733434319496154}}}\u001b[0m\n",
      "\u001b[34m#metrics {\"StartTime\": 1733348588.2300417, \"EndTime\": 1733348588.2300644, \"Dimensions\": {\"Algorithm\": \"Linear Learner\", \"Host\": \"algo-1\", \"Operation\": \"training\", \"epoch\": 3, \"model\": 2}, \"Metrics\": {\"train_absolute_loss_objective\": {\"sum\": 0.6890632510185242, \"count\": 1, \"min\": 0.6890632510185242, \"max\": 0.6890632510185242}}}\u001b[0m\n",
      "\u001b[34m#metrics {\"StartTime\": 1733348588.230283, \"EndTime\": 1733348588.2303145, \"Dimensions\": {\"Algorithm\": \"Linear Learner\", \"Host\": \"algo-1\", \"Operation\": \"training\", \"epoch\": 3, \"model\": 3}, \"Metrics\": {\"train_absolute_loss_objective\": {\"sum\": 0.6742031574249268, \"count\": 1, \"min\": 0.6742031574249268, \"max\": 0.6742031574249268}}}\u001b[0m\n",
      "\u001b[34m#metrics {\"StartTime\": 1733348588.2303934, \"EndTime\": 1733348588.230407, \"Dimensions\": {\"Algorithm\": \"Linear Learner\", \"Host\": \"algo-1\", \"Operation\": \"training\", \"epoch\": 3, \"model\": 4}, \"Metrics\": {\"train_absolute_loss_objective\": {\"sum\": 0.2699421733617783, \"count\": 1, \"min\": 0.2699421733617783, \"max\": 0.2699421733617783}}}\u001b[0m\n",
      "\u001b[34m#metrics {\"StartTime\": 1733348588.2304714, \"EndTime\": 1733348588.2304833, \"Dimensions\": {\"Algorithm\": \"Linear Learner\", \"Host\": \"algo-1\", \"Operation\": \"training\", \"epoch\": 3, \"model\": 5}, \"Metrics\": {\"train_absolute_loss_objective\": {\"sum\": 0.27411058098077773, \"count\": 1, \"min\": 0.27411058098077773, \"max\": 0.27411058098077773}}}\u001b[0m\n",
      "\u001b[34m#metrics {\"StartTime\": 1733348588.2305455, \"EndTime\": 1733348588.2305574, \"Dimensions\": {\"Algorithm\": \"Linear Learner\", \"Host\": \"algo-1\", \"Operation\": \"training\", \"epoch\": 3, \"model\": 6}, \"Metrics\": {\"train_absolute_loss_objective\": {\"sum\": 0.27319009602069855, \"count\": 1, \"min\": 0.27319009602069855, \"max\": 0.27319009602069855}}}\u001b[0m\n",
      "\u001b[34m#metrics {\"StartTime\": 1733348588.2306218, \"EndTime\": 1733348588.2306323, \"Dimensions\": {\"Algorithm\": \"Linear Learner\", \"Host\": \"algo-1\", \"Operation\": \"training\", \"epoch\": 3, \"model\": 7}, \"Metrics\": {\"train_absolute_loss_objective\": {\"sum\": 0.2751891270279884, \"count\": 1, \"min\": 0.2751891270279884, \"max\": 0.2751891270279884}}}\u001b[0m\n",
      "\u001b[34m#metrics {\"StartTime\": 1733348588.2306902, \"EndTime\": 1733348588.230701, \"Dimensions\": {\"Algorithm\": \"Linear Learner\", \"Host\": \"algo-1\", \"Operation\": \"training\", \"epoch\": 3, \"model\": 8}, \"Metrics\": {\"train_absolute_loss_objective\": {\"sum\": 0.643868750333786, \"count\": 1, \"min\": 0.643868750333786, \"max\": 0.643868750333786}}}\u001b[0m\n",
      "\u001b[34m#metrics {\"StartTime\": 1733348588.2307718, \"EndTime\": 1733348588.2307847, \"Dimensions\": {\"Algorithm\": \"Linear Learner\", \"Host\": \"algo-1\", \"Operation\": \"training\", \"epoch\": 3, \"model\": 9}, \"Metrics\": {\"train_absolute_loss_objective\": {\"sum\": 0.7002859354019165, \"count\": 1, \"min\": 0.7002859354019165, \"max\": 0.7002859354019165}}}\u001b[0m\n",
      "\u001b[34m#metrics {\"StartTime\": 1733348588.2308545, \"EndTime\": 1733348588.2308662, \"Dimensions\": {\"Algorithm\": \"Linear Learner\", \"Host\": \"algo-1\", \"Operation\": \"training\", \"epoch\": 3, \"model\": 10}, \"Metrics\": {\"train_absolute_loss_objective\": {\"sum\": 0.6955493927001953, \"count\": 1, \"min\": 0.6955493927001953, \"max\": 0.6955493927001953}}}\u001b[0m\n",
      "\u001b[34m#metrics {\"StartTime\": 1733348588.2309346, \"EndTime\": 1733348588.2309458, \"Dimensions\": {\"Algorithm\": \"Linear Learner\", \"Host\": \"algo-1\", \"Operation\": \"training\", \"epoch\": 3, \"model\": 11}, \"Metrics\": {\"train_absolute_loss_objective\": {\"sum\": 0.7077153503894806, \"count\": 1, \"min\": 0.7077153503894806, \"max\": 0.7077153503894806}}}\u001b[0m\n",
      "\u001b[34m#metrics {\"StartTime\": 1733348588.2310157, \"EndTime\": 1733348588.2310288, \"Dimensions\": {\"Algorithm\": \"Linear Learner\", \"Host\": \"algo-1\", \"Operation\": \"training\", \"epoch\": 3, \"model\": 12}, \"Metrics\": {\"train_absolute_loss_objective\": {\"sum\": 0.27341355085372926, \"count\": 1, \"min\": 0.27341355085372926, \"max\": 0.27341355085372926}}}\u001b[0m\n",
      "\u001b[34m#metrics {\"StartTime\": 1733348588.231107, \"EndTime\": 1733348588.2311199, \"Dimensions\": {\"Algorithm\": \"Linear Learner\", \"Host\": \"algo-1\", \"Operation\": \"training\", \"epoch\": 3, \"model\": 13}, \"Metrics\": {\"train_absolute_loss_objective\": {\"sum\": 0.28905240893363954, \"count\": 1, \"min\": 0.28905240893363954, \"max\": 0.28905240893363954}}}\u001b[0m\n",
      "\u001b[34m#metrics {\"StartTime\": 1733348588.2312248, \"EndTime\": 1733348588.2312388, \"Dimensions\": {\"Algorithm\": \"Linear Learner\", \"Host\": \"algo-1\", \"Operation\": \"training\", \"epoch\": 3, \"model\": 14}, \"Metrics\": {\"train_absolute_loss_objective\": {\"sum\": 0.26948984861373904, \"count\": 1, \"min\": 0.26948984861373904, \"max\": 0.26948984861373904}}}\u001b[0m\n",
      "\u001b[34m#metrics {\"StartTime\": 1733348588.2312808, \"EndTime\": 1733348588.2312915, \"Dimensions\": {\"Algorithm\": \"Linear Learner\", \"Host\": \"algo-1\", \"Operation\": \"training\", \"epoch\": 3, \"model\": 15}, \"Metrics\": {\"train_absolute_loss_objective\": {\"sum\": 0.283131343126297, \"count\": 1, \"min\": 0.283131343126297, \"max\": 0.283131343126297}}}\u001b[0m\n",
      "\u001b[34m#metrics {\"StartTime\": 1733348588.231327, \"EndTime\": 1733348588.2313354, \"Dimensions\": {\"Algorithm\": \"Linear Learner\", \"Host\": \"algo-1\", \"Operation\": \"training\", \"epoch\": 3, \"model\": 16}, \"Metrics\": {\"train_absolute_loss_objective\": {\"sum\": 0.7233385860919952, \"count\": 1, \"min\": 0.7233385860919952, \"max\": 0.7233385860919952}}}\u001b[0m\n",
      "\u001b[34m#metrics {\"StartTime\": 1733348588.23137, \"EndTime\": 1733348588.2313783, \"Dimensions\": {\"Algorithm\": \"Linear Learner\", \"Host\": \"algo-1\", \"Operation\": \"training\", \"epoch\": 3, \"model\": 17}, \"Metrics\": {\"train_absolute_loss_objective\": {\"sum\": 0.6793090045452118, \"count\": 1, \"min\": 0.6793090045452118, \"max\": 0.6793090045452118}}}\u001b[0m\n",
      "\u001b[34m#metrics {\"StartTime\": 1733348588.2314553, \"EndTime\": 1733348588.2314682, \"Dimensions\": {\"Algorithm\": \"Linear Learner\", \"Host\": \"algo-1\", \"Operation\": \"training\", \"epoch\": 3, \"model\": 18}, \"Metrics\": {\"train_absolute_loss_objective\": {\"sum\": 0.7002168595790863, \"count\": 1, \"min\": 0.7002168595790863, \"max\": 0.7002168595790863}}}\u001b[0m\n",
      "\u001b[34m#metrics {\"StartTime\": 1733348588.2315495, \"EndTime\": 1733348588.2315614, \"Dimensions\": {\"Algorithm\": \"Linear Learner\", \"Host\": \"algo-1\", \"Operation\": \"training\", \"epoch\": 3, \"model\": 19}, \"Metrics\": {\"train_absolute_loss_objective\": {\"sum\": 0.7016175210475921, \"count\": 1, \"min\": 0.7016175210475921, \"max\": 0.7016175210475921}}}\u001b[0m\n",
      "\u001b[34m#metrics {\"StartTime\": 1733348588.231668, \"EndTime\": 1733348588.2316792, \"Dimensions\": {\"Algorithm\": \"Linear Learner\", \"Host\": \"algo-1\", \"Operation\": \"training\", \"epoch\": 3, \"model\": 20}, \"Metrics\": {\"train_absolute_loss_objective\": {\"sum\": 0.4553286641836166, \"count\": 1, \"min\": 0.4553286641836166, \"max\": 0.4553286641836166}}}\u001b[0m\n",
      "\u001b[34m#metrics {\"StartTime\": 1733348588.231741, \"EndTime\": 1733348588.2317512, \"Dimensions\": {\"Algorithm\": \"Linear Learner\", \"Host\": \"algo-1\", \"Operation\": \"training\", \"epoch\": 3, \"model\": 21}, \"Metrics\": {\"train_absolute_loss_objective\": {\"sum\": 0.4554329037666321, \"count\": 1, \"min\": 0.4554329037666321, \"max\": 0.4554329037666321}}}\u001b[0m\n",
      "\u001b[34m#metrics {\"StartTime\": 1733348588.2317898, \"EndTime\": 1733348588.2318, \"Dimensions\": {\"Algorithm\": \"Linear Learner\", \"Host\": \"algo-1\", \"Operation\": \"training\", \"epoch\": 3, \"model\": 22}, \"Metrics\": {\"train_absolute_loss_objective\": {\"sum\": 0.49764093160629275, \"count\": 1, \"min\": 0.49764093160629275, \"max\": 0.49764093160629275}}}\u001b[0m\n",
      "\u001b[34m#metrics {\"StartTime\": 1733348588.2318356, \"EndTime\": 1733348588.2318447, \"Dimensions\": {\"Algorithm\": \"Linear Learner\", \"Host\": \"algo-1\", \"Operation\": \"training\", \"epoch\": 3, \"model\": 23}, \"Metrics\": {\"train_absolute_loss_objective\": {\"sum\": 0.45681754052639006, \"count\": 1, \"min\": 0.45681754052639006, \"max\": 0.45681754052639006}}}\u001b[0m\n",
      "\u001b[34m#metrics {\"StartTime\": 1733348588.2318778, \"EndTime\": 1733348588.2318869, \"Dimensions\": {\"Algorithm\": \"Linear Learner\", \"Host\": \"algo-1\", \"Operation\": \"training\", \"epoch\": 3, \"model\": 24}, \"Metrics\": {\"train_absolute_loss_objective\": {\"sum\": 0.7691297233104706, \"count\": 1, \"min\": 0.7691297233104706, \"max\": 0.7691297233104706}}}\u001b[0m\n",
      "\u001b[34m#metrics {\"StartTime\": 1733348588.2319217, \"EndTime\": 1733348588.23193, \"Dimensions\": {\"Algorithm\": \"Linear Learner\", \"Host\": \"algo-1\", \"Operation\": \"training\", \"epoch\": 3, \"model\": 25}, \"Metrics\": {\"train_absolute_loss_objective\": {\"sum\": 0.7772612750530243, \"count\": 1, \"min\": 0.7772612750530243, \"max\": 0.7772612750530243}}}\u001b[0m\n",
      "\u001b[34m#metrics {\"StartTime\": 1733348588.2320113, \"EndTime\": 1733348588.232024, \"Dimensions\": {\"Algorithm\": \"Linear Learner\", \"Host\": \"algo-1\", \"Operation\": \"training\", \"epoch\": 3, \"model\": 26}, \"Metrics\": {\"train_absolute_loss_objective\": {\"sum\": 0.7789197266101837, \"count\": 1, \"min\": 0.7789197266101837, \"max\": 0.7789197266101837}}}\u001b[0m\n",
      "\u001b[34m#metrics {\"StartTime\": 1733348588.2321498, \"EndTime\": 1733348588.2321649, \"Dimensions\": {\"Algorithm\": \"Linear Learner\", \"Host\": \"algo-1\", \"Operation\": \"training\", \"epoch\": 3, \"model\": 27}, \"Metrics\": {\"train_absolute_loss_objective\": {\"sum\": 0.7792884588241578, \"count\": 1, \"min\": 0.7792884588241578, \"max\": 0.7792884588241578}}}\u001b[0m\n",
      "\u001b[34m#metrics {\"StartTime\": 1733348588.2322037, \"EndTime\": 1733348588.232213, \"Dimensions\": {\"Algorithm\": \"Linear Learner\", \"Host\": \"algo-1\", \"Operation\": \"training\", \"epoch\": 3, \"model\": 28}, \"Metrics\": {\"train_absolute_loss_objective\": {\"sum\": 0.7982578158378602, \"count\": 1, \"min\": 0.7982578158378602, \"max\": 0.7982578158378602}}}\u001b[0m\n",
      "\u001b[34m#metrics {\"StartTime\": 1733348588.2322452, \"EndTime\": 1733348588.232253, \"Dimensions\": {\"Algorithm\": \"Linear Learner\", \"Host\": \"algo-1\", \"Operation\": \"training\", \"epoch\": 3, \"model\": 29}, \"Metrics\": {\"train_absolute_loss_objective\": {\"sum\": 0.7984105587005615, \"count\": 1, \"min\": 0.7984105587005615, \"max\": 0.7984105587005615}}}\u001b[0m\n",
      "\u001b[34m#metrics {\"StartTime\": 1733348588.2322867, \"EndTime\": 1733348588.232296, \"Dimensions\": {\"Algorithm\": \"Linear Learner\", \"Host\": \"algo-1\", \"Operation\": \"training\", \"epoch\": 3, \"model\": 30}, \"Metrics\": {\"train_absolute_loss_objective\": {\"sum\": 0.8046825289726257, \"count\": 1, \"min\": 0.8046825289726257, \"max\": 0.8046825289726257}}}\u001b[0m\n",
      "\u001b[34m#metrics {\"StartTime\": 1733348588.232328, \"EndTime\": 1733348588.232337, \"Dimensions\": {\"Algorithm\": \"Linear Learner\", \"Host\": \"algo-1\", \"Operation\": \"training\", \"epoch\": 3, \"model\": 31}, \"Metrics\": {\"train_absolute_loss_objective\": {\"sum\": 0.8002065479755401, \"count\": 1, \"min\": 0.8002065479755401, \"max\": 0.8002065479755401}}}\u001b[0m\n",
      "\u001b[34m[12/04/2024 21:43:08 INFO 139926935496512] #quality_metric: host=algo-1, epoch=3, train absolute_loss_objective <loss>=0.6910788416862488\u001b[0m\n",
      "\u001b[34m[12/04/2024 21:43:08 INFO 139926935496512] #early_stopping_criteria_metric: host=algo-1, epoch=3, criteria=absolute_loss_objective, value=0.26948984861373904\u001b[0m\n",
      "\u001b[34m[12/04/2024 21:43:08 INFO 139926935496512] Epoch 3: Loss improved. Updating best model\u001b[0m\n",
      "\u001b[34m[12/04/2024 21:43:08 INFO 139926935496512] Saving model for epoch: 3\u001b[0m\n",
      "\u001b[34m[12/04/2024 21:43:08 INFO 139926935496512] Saved checkpoint to \"/tmp/tmpkesyah29/mx-mod-0000.params\"\u001b[0m\n",
      "\u001b[34m[12/04/2024 21:43:08 INFO 139926935496512] #progress_metric: host=algo-1, completed 40.0 % of epochs\u001b[0m\n",
      "\u001b[34m#metrics {\"StartTime\": 1733348588.1339903, \"EndTime\": 1733348588.2421486, \"Dimensions\": {\"Algorithm\": \"Linear Learner\", \"Host\": \"algo-1\", \"Operation\": \"training\", \"epoch\": 3, \"Meta\": \"training_data_iter\"}, \"Metrics\": {\"Total Records Seen\": {\"sum\": 410.0, \"count\": 1, \"min\": 410, \"max\": 410}, \"Total Batches Seen\": {\"sum\": 41.0, \"count\": 1, \"min\": 41, \"max\": 41}, \"Max Records Seen Between Resets\": {\"sum\": 80.0, \"count\": 1, \"min\": 80, \"max\": 80}, \"Max Batches Seen Between Resets\": {\"sum\": 8.0, \"count\": 1, \"min\": 8, \"max\": 8}, \"Reset Count\": {\"sum\": 6.0, \"count\": 1, \"min\": 6, \"max\": 6}, \"Number of Records Since Last Reset\": {\"sum\": 80.0, \"count\": 1, \"min\": 80, \"max\": 80}, \"Number of Batches Since Last Reset\": {\"sum\": 8.0, \"count\": 1, \"min\": 8, \"max\": 8}}}\u001b[0m\n",
      "\u001b[34m[12/04/2024 21:43:08 INFO 139926935496512] #throughput_metric: host=algo-1, train throughput=738.7134214535431 records/second\u001b[0m\n",
      "\u001b[34m[2024-12-04 21:43:08.357] [tensorio] [info] epoch_stats={\"data_pipeline\": \"/opt/ml/input/data/train\", \"epoch\": 12, \"duration\": 115, \"num_examples\": 8, \"num_bytes\": 3840}\u001b[0m\n",
      "\u001b[34m#metrics {\"StartTime\": 1733348588.3577492, \"EndTime\": 1733348588.357813, \"Dimensions\": {\"Algorithm\": \"Linear Learner\", \"Host\": \"algo-1\", \"Operation\": \"training\", \"epoch\": 4, \"model\": 0}, \"Metrics\": {\"train_absolute_loss_objective\": {\"sum\": 0.6632035970687866, \"count\": 1, \"min\": 0.6632035970687866, \"max\": 0.6632035970687866}}}\u001b[0m\n",
      "\u001b[34m#metrics {\"StartTime\": 1733348588.35789, \"EndTime\": 1733348588.3578994, \"Dimensions\": {\"Algorithm\": \"Linear Learner\", \"Host\": \"algo-1\", \"Operation\": \"training\", \"epoch\": 4, \"model\": 1}, \"Metrics\": {\"train_absolute_loss_objective\": {\"sum\": 0.645070606470108, \"count\": 1, \"min\": 0.645070606470108, \"max\": 0.645070606470108}}}\u001b[0m\n",
      "\u001b[34m#metrics {\"StartTime\": 1733348588.3579302, \"EndTime\": 1733348588.3579369, \"Dimensions\": {\"Algorithm\": \"Linear Learner\", \"Host\": \"algo-1\", \"Operation\": \"training\", \"epoch\": 4, \"model\": 2}, \"Metrics\": {\"train_absolute_loss_objective\": {\"sum\": 0.6611879885196685, \"count\": 1, \"min\": 0.6611879885196685, \"max\": 0.6611879885196685}}}\u001b[0m\n",
      "\u001b[34m#metrics {\"StartTime\": 1733348588.3579626, \"EndTime\": 1733348588.3579683, \"Dimensions\": {\"Algorithm\": \"Linear Learner\", \"Host\": \"algo-1\", \"Operation\": \"training\", \"epoch\": 4, \"model\": 3}, \"Metrics\": {\"train_absolute_loss_objective\": {\"sum\": 0.6459303259849548, \"count\": 1, \"min\": 0.6459303259849548, \"max\": 0.6459303259849548}}}\u001b[0m\n",
      "\u001b[34m#metrics {\"StartTime\": 1733348588.3579895, \"EndTime\": 1733348588.357995, \"Dimensions\": {\"Algorithm\": \"Linear Learner\", \"Host\": \"algo-1\", \"Operation\": \"training\", \"epoch\": 4, \"model\": 4}, \"Metrics\": {\"train_absolute_loss_objective\": {\"sum\": 0.26991462111473086, \"count\": 1, \"min\": 0.26991462111473086, \"max\": 0.26991462111473086}}}\u001b[0m\n",
      "\u001b[34m#metrics {\"StartTime\": 1733348588.3580194, \"EndTime\": 1733348588.3580244, \"Dimensions\": {\"Algorithm\": \"Linear Learner\", \"Host\": \"algo-1\", \"Operation\": \"training\", \"epoch\": 4, \"model\": 5}, \"Metrics\": {\"train_absolute_loss_objective\": {\"sum\": 0.2778955638408661, \"count\": 1, \"min\": 0.2778955638408661, \"max\": 0.2778955638408661}}}\u001b[0m\n",
      "\u001b[34m#metrics {\"StartTime\": 1733348588.358047, \"EndTime\": 1733348588.358052, \"Dimensions\": {\"Algorithm\": \"Linear Learner\", \"Host\": \"algo-1\", \"Operation\": \"training\", \"epoch\": 4, \"model\": 6}, \"Metrics\": {\"train_absolute_loss_objective\": {\"sum\": 0.29322896897792816, \"count\": 1, \"min\": 0.29322896897792816, \"max\": 0.29322896897792816}}}\u001b[0m\n",
      "\u001b[34m#metrics {\"StartTime\": 1733348588.358073, \"EndTime\": 1733348588.3580782, \"Dimensions\": {\"Algorithm\": \"Linear Learner\", \"Host\": \"algo-1\", \"Operation\": \"training\", \"epoch\": 4, \"model\": 7}, \"Metrics\": {\"train_absolute_loss_objective\": {\"sum\": 0.29712908864021303, \"count\": 1, \"min\": 0.29712908864021303, \"max\": 0.29712908864021303}}}\u001b[0m\n",
      "\u001b[34m#metrics {\"StartTime\": 1733348588.3581028, \"EndTime\": 1733348588.358108, \"Dimensions\": {\"Algorithm\": \"Linear Learner\", \"Host\": \"algo-1\", \"Operation\": \"training\", \"epoch\": 4, \"model\": 8}, \"Metrics\": {\"train_absolute_loss_objective\": {\"sum\": 0.6164833128452301, \"count\": 1, \"min\": 0.6164833128452301, \"max\": 0.6164833128452301}}}\u001b[0m\n",
      "\u001b[34m#metrics {\"StartTime\": 1733348588.3581285, \"EndTime\": 1733348588.358134, \"Dimensions\": {\"Algorithm\": \"Linear Learner\", \"Host\": \"algo-1\", \"Operation\": \"training\", \"epoch\": 4, \"model\": 9}, \"Metrics\": {\"train_absolute_loss_objective\": {\"sum\": 0.6716723799705505, \"count\": 1, \"min\": 0.6716723799705505, \"max\": 0.6716723799705505}}}\u001b[0m\n",
      "\u001b[34m#metrics {\"StartTime\": 1733348588.3581562, \"EndTime\": 1733348588.3581612, \"Dimensions\": {\"Algorithm\": \"Linear Learner\", \"Host\": \"algo-1\", \"Operation\": \"training\", \"epoch\": 4, \"model\": 10}, \"Metrics\": {\"train_absolute_loss_objective\": {\"sum\": 0.6676893055438995, \"count\": 1, \"min\": 0.6676893055438995, \"max\": 0.6676893055438995}}}\u001b[0m\n",
      "\u001b[34m#metrics {\"StartTime\": 1733348588.3581839, \"EndTime\": 1733348588.3581889, \"Dimensions\": {\"Algorithm\": \"Linear Learner\", \"Host\": \"algo-1\", \"Operation\": \"training\", \"epoch\": 4, \"model\": 11}, \"Metrics\": {\"train_absolute_loss_objective\": {\"sum\": 0.6792828917503357, \"count\": 1, \"min\": 0.6792828917503357, \"max\": 0.6792828917503357}}}\u001b[0m\n",
      "\u001b[34m#metrics {\"StartTime\": 1733348588.3582091, \"EndTime\": 1733348588.3582141, \"Dimensions\": {\"Algorithm\": \"Linear Learner\", \"Host\": \"algo-1\", \"Operation\": \"training\", \"epoch\": 4, \"model\": 12}, \"Metrics\": {\"train_absolute_loss_objective\": {\"sum\": 0.2752353012561798, \"count\": 1, \"min\": 0.2752353012561798, \"max\": 0.2752353012561798}}}\u001b[0m\n",
      "\u001b[34m#metrics {\"StartTime\": 1733348588.358236, \"EndTime\": 1733348588.3582413, \"Dimensions\": {\"Algorithm\": \"Linear Learner\", \"Host\": \"algo-1\", \"Operation\": \"training\", \"epoch\": 4, \"model\": 13}, \"Metrics\": {\"train_absolute_loss_objective\": {\"sum\": 0.31630576848983766, \"count\": 1, \"min\": 0.31630576848983766, \"max\": 0.31630576848983766}}}\u001b[0m\n",
      "\u001b[34m#metrics {\"StartTime\": 1733348588.3582652, \"EndTime\": 1733348588.3582702, \"Dimensions\": {\"Algorithm\": \"Linear Learner\", \"Host\": \"algo-1\", \"Operation\": \"training\", \"epoch\": 4, \"model\": 14}, \"Metrics\": {\"train_absolute_loss_objective\": {\"sum\": 0.28698755204677584, \"count\": 1, \"min\": 0.28698755204677584, \"max\": 0.28698755204677584}}}\u001b[0m\n",
      "\u001b[34m#metrics {\"StartTime\": 1733348588.3582923, \"EndTime\": 1733348588.3582973, \"Dimensions\": {\"Algorithm\": \"Linear Learner\", \"Host\": \"algo-1\", \"Operation\": \"training\", \"epoch\": 4, \"model\": 15}, \"Metrics\": {\"train_absolute_loss_objective\": {\"sum\": 0.3050413355231285, \"count\": 1, \"min\": 0.3050413355231285, \"max\": 0.3050413355231285}}}\u001b[0m\n",
      "\u001b[34m#metrics {\"StartTime\": 1733348588.3583202, \"EndTime\": 1733348588.3583252, \"Dimensions\": {\"Algorithm\": \"Linear Learner\", \"Host\": \"algo-1\", \"Operation\": \"training\", \"epoch\": 4, \"model\": 16}, \"Metrics\": {\"train_absolute_loss_objective\": {\"sum\": 0.6969412922859192, \"count\": 1, \"min\": 0.6969412922859192, \"max\": 0.6969412922859192}}}\u001b[0m\n",
      "\u001b[34m#metrics {\"StartTime\": 1733348588.3583457, \"EndTime\": 1733348588.3583508, \"Dimensions\": {\"Algorithm\": \"Linear Learner\", \"Host\": \"algo-1\", \"Operation\": \"training\", \"epoch\": 4, \"model\": 17}, \"Metrics\": {\"train_absolute_loss_objective\": {\"sum\": 0.6529122114181518, \"count\": 1, \"min\": 0.6529122114181518, \"max\": 0.6529122114181518}}}\u001b[0m\n",
      "\u001b[34m#metrics {\"StartTime\": 1733348588.3583739, \"EndTime\": 1733348588.3583794, \"Dimensions\": {\"Algorithm\": \"Linear Learner\", \"Host\": \"algo-1\", \"Operation\": \"training\", \"epoch\": 4, \"model\": 18}, \"Metrics\": {\"train_absolute_loss_objective\": {\"sum\": 0.674003130197525, \"count\": 1, \"min\": 0.674003130197525, \"max\": 0.674003130197525}}}\u001b[0m\n",
      "\u001b[34m#metrics {\"StartTime\": 1733348588.3584015, \"EndTime\": 1733348588.358407, \"Dimensions\": {\"Algorithm\": \"Linear Learner\", \"Host\": \"algo-1\", \"Operation\": \"training\", \"epoch\": 4, \"model\": 19}, \"Metrics\": {\"train_absolute_loss_objective\": {\"sum\": 0.6747015953063965, \"count\": 1, \"min\": 0.6747015953063965, \"max\": 0.6747015953063965}}}\u001b[0m\n",
      "\u001b[34m#metrics {\"StartTime\": 1733348588.3584318, \"EndTime\": 1733348588.3584368, \"Dimensions\": {\"Algorithm\": \"Linear Learner\", \"Host\": \"algo-1\", \"Operation\": \"training\", \"epoch\": 4, \"model\": 20}, \"Metrics\": {\"train_absolute_loss_objective\": {\"sum\": 0.40095781087875365, \"count\": 1, \"min\": 0.40095781087875365, \"max\": 0.40095781087875365}}}\u001b[0m\n",
      "\u001b[34m#metrics {\"StartTime\": 1733348588.3584604, \"EndTime\": 1733348588.3584654, \"Dimensions\": {\"Algorithm\": \"Linear Learner\", \"Host\": \"algo-1\", \"Operation\": \"training\", \"epoch\": 4, \"model\": 21}, \"Metrics\": {\"train_absolute_loss_objective\": {\"sum\": 0.4059415638446808, \"count\": 1, \"min\": 0.4059415638446808, \"max\": 0.4059415638446808}}}\u001b[0m\n",
      "\u001b[34m#metrics {\"StartTime\": 1733348588.3584886, \"EndTime\": 1733348588.3584938, \"Dimensions\": {\"Algorithm\": \"Linear Learner\", \"Host\": \"algo-1\", \"Operation\": \"training\", \"epoch\": 4, \"model\": 22}, \"Metrics\": {\"train_absolute_loss_objective\": {\"sum\": 0.3854846000671387, \"count\": 1, \"min\": 0.3854846000671387, \"max\": 0.3854846000671387}}}\u001b[0m\n",
      "\u001b[34m#metrics {\"StartTime\": 1733348588.3585145, \"EndTime\": 1733348588.3585196, \"Dimensions\": {\"Algorithm\": \"Linear Learner\", \"Host\": \"algo-1\", \"Operation\": \"training\", \"epoch\": 4, \"model\": 23}, \"Metrics\": {\"train_absolute_loss_objective\": {\"sum\": 0.3951627969741821, \"count\": 1, \"min\": 0.3951627969741821, \"max\": 0.3951627969741821}}}\u001b[0m\n",
      "\u001b[34m#metrics {\"StartTime\": 1733348588.3585434, \"EndTime\": 1733348588.3585484, \"Dimensions\": {\"Algorithm\": \"Linear Learner\", \"Host\": \"algo-1\", \"Operation\": \"training\", \"epoch\": 4, \"model\": 24}, \"Metrics\": {\"train_absolute_loss_objective\": {\"sum\": 0.7733725309371948, \"count\": 1, \"min\": 0.7733725309371948, \"max\": 0.7733725309371948}}}\u001b[0m\n",
      "\u001b[34m#metrics {\"StartTime\": 1733348588.3585694, \"EndTime\": 1733348588.3585744, \"Dimensions\": {\"Algorithm\": \"Linear Learner\", \"Host\": \"algo-1\", \"Operation\": \"training\", \"epoch\": 4, \"model\": 25}, \"Metrics\": {\"train_absolute_loss_objective\": {\"sum\": 0.7802526772022247, \"count\": 1, \"min\": 0.7802526772022247, \"max\": 0.7802526772022247}}}\u001b[0m\n",
      "\u001b[34m#metrics {\"StartTime\": 1733348588.3585982, \"EndTime\": 1733348588.3586032, \"Dimensions\": {\"Algorithm\": \"Linear Learner\", \"Host\": \"algo-1\", \"Operation\": \"training\", \"epoch\": 4, \"model\": 26}, \"Metrics\": {\"train_absolute_loss_objective\": {\"sum\": 0.7787890136241913, \"count\": 1, \"min\": 0.7787890136241913, \"max\": 0.7787890136241913}}}\u001b[0m\n",
      "\u001b[34m#metrics {\"StartTime\": 1733348588.3586237, \"EndTime\": 1733348588.3586285, \"Dimensions\": {\"Algorithm\": \"Linear Learner\", \"Host\": \"algo-1\", \"Operation\": \"training\", \"epoch\": 4, \"model\": 27}, \"Metrics\": {\"train_absolute_loss_objective\": {\"sum\": 0.7787516951560974, \"count\": 1, \"min\": 0.7787516951560974, \"max\": 0.7787516951560974}}}\u001b[0m\n",
      "\u001b[34m#metrics {\"StartTime\": 1733348588.3586507, \"EndTime\": 1733348588.3586555, \"Dimensions\": {\"Algorithm\": \"Linear Learner\", \"Host\": \"algo-1\", \"Operation\": \"training\", \"epoch\": 4, \"model\": 28}, \"Metrics\": {\"train_absolute_loss_objective\": {\"sum\": 0.8052620530128479, \"count\": 1, \"min\": 0.8052620530128479, \"max\": 0.8052620530128479}}}\u001b[0m\n",
      "\u001b[34m#metrics {\"StartTime\": 1733348588.3586793, \"EndTime\": 1733348588.3586843, \"Dimensions\": {\"Algorithm\": \"Linear Learner\", \"Host\": \"algo-1\", \"Operation\": \"training\", \"epoch\": 4, \"model\": 29}, \"Metrics\": {\"train_absolute_loss_objective\": {\"sum\": 0.8057497024536133, \"count\": 1, \"min\": 0.8057497024536133, \"max\": 0.8057497024536133}}}\u001b[0m\n",
      "\u001b[34m#metrics {\"StartTime\": 1733348588.3587067, \"EndTime\": 1733348588.3587117, \"Dimensions\": {\"Algorithm\": \"Linear Learner\", \"Host\": \"algo-1\", \"Operation\": \"training\", \"epoch\": 4, \"model\": 30}, \"Metrics\": {\"train_absolute_loss_objective\": {\"sum\": 0.8044160783290863, \"count\": 1, \"min\": 0.8044160783290863, \"max\": 0.8044160783290863}}}\u001b[0m\n",
      "\u001b[34m#metrics {\"StartTime\": 1733348588.358734, \"EndTime\": 1733348588.358739, \"Dimensions\": {\"Algorithm\": \"Linear Learner\", \"Host\": \"algo-1\", \"Operation\": \"training\", \"epoch\": 4, \"model\": 31}, \"Metrics\": {\"train_absolute_loss_objective\": {\"sum\": 0.8059082329273224, \"count\": 1, \"min\": 0.8059082329273224, \"max\": 0.8059082329273224}}}\u001b[0m\n",
      "\u001b[34m[12/04/2024 21:43:08 INFO 139926935496512] #quality_metric: host=algo-1, epoch=4, train absolute_loss_objective <loss>=0.6632035970687866\u001b[0m\n",
      "\u001b[34m[12/04/2024 21:43:08 INFO 139926935496512] #early_stopping_criteria_metric: host=algo-1, epoch=4, criteria=absolute_loss_objective, value=0.26991462111473086\u001b[0m\n",
      "\u001b[34m[12/04/2024 21:43:08 INFO 139926935496512] Saving model for epoch: 4\u001b[0m\n",
      "\u001b[34m[12/04/2024 21:43:08 INFO 139926935496512] Saved checkpoint to \"/tmp/tmp4hqiixlc/mx-mod-0000.params\"\u001b[0m\n",
      "\u001b[34m[12/04/2024 21:43:08 INFO 139926935496512] #progress_metric: host=algo-1, completed 50.0 % of epochs\u001b[0m\n",
      "\u001b[34m#metrics {\"StartTime\": 1733348588.242467, \"EndTime\": 1733348588.365798, \"Dimensions\": {\"Algorithm\": \"Linear Learner\", \"Host\": \"algo-1\", \"Operation\": \"training\", \"epoch\": 4, \"Meta\": \"training_data_iter\"}, \"Metrics\": {\"Total Records Seen\": {\"sum\": 490.0, \"count\": 1, \"min\": 490, \"max\": 490}, \"Total Batches Seen\": {\"sum\": 49.0, \"count\": 1, \"min\": 49, \"max\": 49}, \"Max Records Seen Between Resets\": {\"sum\": 80.0, \"count\": 1, \"min\": 80, \"max\": 80}, \"Max Batches Seen Between Resets\": {\"sum\": 8.0, \"count\": 1, \"min\": 8, \"max\": 8}, \"Reset Count\": {\"sum\": 7.0, \"count\": 1, \"min\": 7, \"max\": 7}, \"Number of Records Since Last Reset\": {\"sum\": 80.0, \"count\": 1, \"min\": 80, \"max\": 80}, \"Number of Batches Since Last Reset\": {\"sum\": 8.0, \"count\": 1, \"min\": 8, \"max\": 8}}}\u001b[0m\n",
      "\u001b[34m[12/04/2024 21:43:08 INFO 139926935496512] #throughput_metric: host=algo-1, train throughput=648.0592079850435 records/second\u001b[0m\n",
      "\u001b[34m[2024-12-04 21:43:08.491] [tensorio] [info] epoch_stats={\"data_pipeline\": \"/opt/ml/input/data/train\", \"epoch\": 14, \"duration\": 125, \"num_examples\": 8, \"num_bytes\": 3840}\u001b[0m\n",
      "\u001b[34m#metrics {\"StartTime\": 1733348588.4916444, \"EndTime\": 1733348588.491957, \"Dimensions\": {\"Algorithm\": \"Linear Learner\", \"Host\": \"algo-1\", \"Operation\": \"training\", \"epoch\": 5, \"model\": 0}, \"Metrics\": {\"train_absolute_loss_objective\": {\"sum\": 0.6360732585191726, \"count\": 1, \"min\": 0.6360732585191726, \"max\": 0.6360732585191726}}}\u001b[0m\n",
      "\u001b[34m#metrics {\"StartTime\": 1733348588.492047, \"EndTime\": 1733348588.492061, \"Dimensions\": {\"Algorithm\": \"Linear Learner\", \"Host\": \"algo-1\", \"Operation\": \"training\", \"epoch\": 5, \"model\": 1}, \"Metrics\": {\"train_absolute_loss_objective\": {\"sum\": 0.6168625622987747, \"count\": 1, \"min\": 0.6168625622987747, \"max\": 0.6168625622987747}}}\u001b[0m\n",
      "\u001b[34m#metrics {\"StartTime\": 1733348588.492102, \"EndTime\": 1733348588.4921114, \"Dimensions\": {\"Algorithm\": \"Linear Learner\", \"Host\": \"algo-1\", \"Operation\": \"training\", \"epoch\": 5, \"model\": 2}, \"Metrics\": {\"train_absolute_loss_objective\": {\"sum\": 0.6340353548526764, \"count\": 1, \"min\": 0.6340353548526764, \"max\": 0.6340353548526764}}}\u001b[0m\n",
      "\u001b[34m#metrics {\"StartTime\": 1733348588.492146, \"EndTime\": 1733348588.4921553, \"Dimensions\": {\"Algorithm\": \"Linear Learner\", \"Host\": \"algo-1\", \"Operation\": \"training\", \"epoch\": 5, \"model\": 3}, \"Metrics\": {\"train_absolute_loss_objective\": {\"sum\": 0.6177128702402115, \"count\": 1, \"min\": 0.6177128702402115, \"max\": 0.6177128702402115}}}\u001b[0m\n",
      "\u001b[34m#metrics {\"StartTime\": 1733348588.4921882, \"EndTime\": 1733348588.4921958, \"Dimensions\": {\"Algorithm\": \"Linear Learner\", \"Host\": \"algo-1\", \"Operation\": \"training\", \"epoch\": 5, \"model\": 4}, \"Metrics\": {\"train_absolute_loss_objective\": {\"sum\": 0.3021012991666794, \"count\": 1, \"min\": 0.3021012991666794, \"max\": 0.3021012991666794}}}\u001b[0m\n",
      "\u001b[34m#metrics {\"StartTime\": 1733348588.4922237, \"EndTime\": 1733348588.4922328, \"Dimensions\": {\"Algorithm\": \"Linear Learner\", \"Host\": \"algo-1\", \"Operation\": \"training\", \"epoch\": 5, \"model\": 5}, \"Metrics\": {\"train_absolute_loss_objective\": {\"sum\": 0.31703388392925264, \"count\": 1, \"min\": 0.31703388392925264, \"max\": 0.31703388392925264}}}\u001b[0m\n",
      "\u001b[34m#metrics {\"StartTime\": 1733348588.4922633, \"EndTime\": 1733348588.4922724, \"Dimensions\": {\"Algorithm\": \"Linear Learner\", \"Host\": \"algo-1\", \"Operation\": \"training\", \"epoch\": 5, \"model\": 6}, \"Metrics\": {\"train_absolute_loss_objective\": {\"sum\": 0.2881988525390625, \"count\": 1, \"min\": 0.2881988525390625, \"max\": 0.2881988525390625}}}\u001b[0m\n",
      "\u001b[34m#metrics {\"StartTime\": 1733348588.4923065, \"EndTime\": 1733348588.4923146, \"Dimensions\": {\"Algorithm\": \"Linear Learner\", \"Host\": \"algo-1\", \"Operation\": \"training\", \"epoch\": 5, \"model\": 7}, \"Metrics\": {\"train_absolute_loss_objective\": {\"sum\": 0.2934781491756439, \"count\": 1, \"min\": 0.2934781491756439, \"max\": 0.2934781491756439}}}\u001b[0m\n",
      "\u001b[34m#metrics {\"StartTime\": 1733348588.492343, \"EndTime\": 1733348588.4923513, \"Dimensions\": {\"Algorithm\": \"Linear Learner\", \"Host\": \"algo-1\", \"Operation\": \"training\", \"epoch\": 5, \"model\": 8}, \"Metrics\": {\"train_absolute_loss_objective\": {\"sum\": 0.5892711341381073, \"count\": 1, \"min\": 0.5892711341381073, \"max\": 0.5892711341381073}}}\u001b[0m\n",
      "\u001b[34m#metrics {\"StartTime\": 1733348588.4923825, \"EndTime\": 1733348588.4923894, \"Dimensions\": {\"Algorithm\": \"Linear Learner\", \"Host\": \"algo-1\", \"Operation\": \"training\", \"epoch\": 5, \"model\": 9}, \"Metrics\": {\"train_absolute_loss_objective\": {\"sum\": 0.6437117755413055, \"count\": 1, \"min\": 0.6437117755413055, \"max\": 0.6437117755413055}}}\u001b[0m\n",
      "\u001b[34m#metrics {\"StartTime\": 1733348588.4924173, \"EndTime\": 1733348588.4924247, \"Dimensions\": {\"Algorithm\": \"Linear Learner\", \"Host\": \"algo-1\", \"Operation\": \"training\", \"epoch\": 5, \"model\": 10}, \"Metrics\": {\"train_absolute_loss_objective\": {\"sum\": 0.6406302690505982, \"count\": 1, \"min\": 0.6406302690505982, \"max\": 0.6406302690505982}}}\u001b[0m\n",
      "\u001b[34m#metrics {\"StartTime\": 1733348588.4924598, \"EndTime\": 1733348588.4924688, \"Dimensions\": {\"Algorithm\": \"Linear Learner\", \"Host\": \"algo-1\", \"Operation\": \"training\", \"epoch\": 5, \"model\": 11}, \"Metrics\": {\"train_absolute_loss_objective\": {\"sum\": 0.6509080618619919, \"count\": 1, \"min\": 0.6509080618619919, \"max\": 0.6509080618619919}}}\u001b[0m\n",
      "\u001b[34m#metrics {\"StartTime\": 1733348588.4925034, \"EndTime\": 1733348588.492511, \"Dimensions\": {\"Algorithm\": \"Linear Learner\", \"Host\": \"algo-1\", \"Operation\": \"training\", \"epoch\": 5, \"model\": 12}, \"Metrics\": {\"train_absolute_loss_objective\": {\"sum\": 0.33568658530712125, \"count\": 1, \"min\": 0.33568658530712125, \"max\": 0.33568658530712125}}}\u001b[0m\n",
      "\u001b[34m#metrics {\"StartTime\": 1733348588.4925392, \"EndTime\": 1733348588.492547, \"Dimensions\": {\"Algorithm\": \"Linear Learner\", \"Host\": \"algo-1\", \"Operation\": \"training\", \"epoch\": 5, \"model\": 13}, \"Metrics\": {\"train_absolute_loss_objective\": {\"sum\": 0.29395284950733186, \"count\": 1, \"min\": 0.29395284950733186, \"max\": 0.29395284950733186}}}\u001b[0m\n",
      "\u001b[34m#metrics {\"StartTime\": 1733348588.4925814, \"EndTime\": 1733348588.4925897, \"Dimensions\": {\"Algorithm\": \"Linear Learner\", \"Host\": \"algo-1\", \"Operation\": \"training\", \"epoch\": 5, \"model\": 14}, \"Metrics\": {\"train_absolute_loss_objective\": {\"sum\": 0.3349068373441696, \"count\": 1, \"min\": 0.3349068373441696, \"max\": 0.3349068373441696}}}\u001b[0m\n",
      "\u001b[34m#metrics {\"StartTime\": 1733348588.4926207, \"EndTime\": 1733348588.4926288, \"Dimensions\": {\"Algorithm\": \"Linear Learner\", \"Host\": \"algo-1\", \"Operation\": \"training\", \"epoch\": 5, \"model\": 15}, \"Metrics\": {\"train_absolute_loss_objective\": {\"sum\": 0.29146420359611513, \"count\": 1, \"min\": 0.29146420359611513, \"max\": 0.29146420359611513}}}\u001b[0m\n",
      "\u001b[34m#metrics {\"StartTime\": 1733348588.4926605, \"EndTime\": 1733348588.4926682, \"Dimensions\": {\"Algorithm\": \"Linear Learner\", \"Host\": \"algo-1\", \"Operation\": \"training\", \"epoch\": 5, \"model\": 16}, \"Metrics\": {\"train_absolute_loss_objective\": {\"sum\": 0.6717009663581848, \"count\": 1, \"min\": 0.6717009663581848, \"max\": 0.6717009663581848}}}\u001b[0m\n",
      "\u001b[34m#metrics {\"StartTime\": 1733348588.4927025, \"EndTime\": 1733348588.4927104, \"Dimensions\": {\"Algorithm\": \"Linear Learner\", \"Host\": \"algo-1\", \"Operation\": \"training\", \"epoch\": 5, \"model\": 17}, \"Metrics\": {\"train_absolute_loss_objective\": {\"sum\": 0.6273155689239502, \"count\": 1, \"min\": 0.6273155689239502, \"max\": 0.6273155689239502}}}\u001b[0m\n",
      "\u001b[34m#metrics {\"StartTime\": 1733348588.4927394, \"EndTime\": 1733348588.4927475, \"Dimensions\": {\"Algorithm\": \"Linear Learner\", \"Host\": \"algo-1\", \"Operation\": \"training\", \"epoch\": 5, \"model\": 18}, \"Metrics\": {\"train_absolute_loss_objective\": {\"sum\": 0.6494043052196503, \"count\": 1, \"min\": 0.6494043052196503, \"max\": 0.6494043052196503}}}\u001b[0m\n",
      "\u001b[34m#metrics {\"StartTime\": 1733348588.4927804, \"EndTime\": 1733348588.492789, \"Dimensions\": {\"Algorithm\": \"Linear Learner\", \"Host\": \"algo-1\", \"Operation\": \"training\", \"epoch\": 5, \"model\": 19}, \"Metrics\": {\"train_absolute_loss_objective\": {\"sum\": 0.6492739140987396, \"count\": 1, \"min\": 0.6492739140987396, \"max\": 0.6492739140987396}}}\u001b[0m\n",
      "\u001b[34m#metrics {\"StartTime\": 1733348588.4928186, \"EndTime\": 1733348588.4928265, \"Dimensions\": {\"Algorithm\": \"Linear Learner\", \"Host\": \"algo-1\", \"Operation\": \"training\", \"epoch\": 5, \"model\": 20}, \"Metrics\": {\"train_absolute_loss_objective\": {\"sum\": 0.3683464050292969, \"count\": 1, \"min\": 0.3683464050292969, \"max\": 0.3683464050292969}}}\u001b[0m\n",
      "\u001b[34m#metrics {\"StartTime\": 1733348588.4928582, \"EndTime\": 1733348588.492866, \"Dimensions\": {\"Algorithm\": \"Linear Learner\", \"Host\": \"algo-1\", \"Operation\": \"training\", \"epoch\": 5, \"model\": 21}, \"Metrics\": {\"train_absolute_loss_objective\": {\"sum\": 0.3773311495780945, \"count\": 1, \"min\": 0.3773311495780945, \"max\": 0.3773311495780945}}}\u001b[0m\n",
      "\u001b[34m#metrics {\"StartTime\": 1733348588.4928982, \"EndTime\": 1733348588.4929066, \"Dimensions\": {\"Algorithm\": \"Linear Learner\", \"Host\": \"algo-1\", \"Operation\": \"training\", \"epoch\": 5, \"model\": 22}, \"Metrics\": {\"train_absolute_loss_objective\": {\"sum\": 0.384280800819397, \"count\": 1, \"min\": 0.384280800819397, \"max\": 0.384280800819397}}}\u001b[0m\n",
      "\u001b[34m#metrics {\"StartTime\": 1733348588.4929388, \"EndTime\": 1733348588.4929461, \"Dimensions\": {\"Algorithm\": \"Linear Learner\", \"Host\": \"algo-1\", \"Operation\": \"training\", \"epoch\": 5, \"model\": 23}, \"Metrics\": {\"train_absolute_loss_objective\": {\"sum\": 0.39051305055618285, \"count\": 1, \"min\": 0.39051305055618285, \"max\": 0.39051305055618285}}}\u001b[0m\n",
      "\u001b[34m#metrics {\"StartTime\": 1733348588.4929745, \"EndTime\": 1733348588.4929833, \"Dimensions\": {\"Algorithm\": \"Linear Learner\", \"Host\": \"algo-1\", \"Operation\": \"training\", \"epoch\": 5, \"model\": 24}, \"Metrics\": {\"train_absolute_loss_objective\": {\"sum\": 0.7793464243412018, \"count\": 1, \"min\": 0.7793464243412018, \"max\": 0.7793464243412018}}}\u001b[0m\n",
      "\u001b[34m#metrics {\"StartTime\": 1733348588.4930158, \"EndTime\": 1733348588.4930246, \"Dimensions\": {\"Algorithm\": \"Linear Learner\", \"Host\": \"algo-1\", \"Operation\": \"training\", \"epoch\": 5, \"model\": 25}, \"Metrics\": {\"train_absolute_loss_objective\": {\"sum\": 0.7786647737026214, \"count\": 1, \"min\": 0.7786647737026214, \"max\": 0.7786647737026214}}}\u001b[0m\n",
      "\u001b[34m#metrics {\"StartTime\": 1733348588.493058, \"EndTime\": 1733348588.4930658, \"Dimensions\": {\"Algorithm\": \"Linear Learner\", \"Host\": \"algo-1\", \"Operation\": \"training\", \"epoch\": 5, \"model\": 26}, \"Metrics\": {\"train_absolute_loss_objective\": {\"sum\": 0.7786346077919006, \"count\": 1, \"min\": 0.7786346077919006, \"max\": 0.7786346077919006}}}\u001b[0m\n",
      "\u001b[34m#metrics {\"StartTime\": 1733348588.493097, \"EndTime\": 1733348588.4931056, \"Dimensions\": {\"Algorithm\": \"Linear Learner\", \"Host\": \"algo-1\", \"Operation\": \"training\", \"epoch\": 5, \"model\": 27}, \"Metrics\": {\"train_absolute_loss_objective\": {\"sum\": 0.7787083208560943, \"count\": 1, \"min\": 0.7787083208560943, \"max\": 0.7787083208560943}}}\u001b[0m\n",
      "\u001b[34m#metrics {\"StartTime\": 1733348588.4931347, \"EndTime\": 1733348588.4931428, \"Dimensions\": {\"Algorithm\": \"Linear Learner\", \"Host\": \"algo-1\", \"Operation\": \"training\", \"epoch\": 5, \"model\": 28}, \"Metrics\": {\"train_absolute_loss_objective\": {\"sum\": 0.7974698841571808, \"count\": 1, \"min\": 0.7974698841571808, \"max\": 0.7974698841571808}}}\u001b[0m\n",
      "\u001b[34m#metrics {\"StartTime\": 1733348588.4931755, \"EndTime\": 1733348588.4931827, \"Dimensions\": {\"Algorithm\": \"Linear Learner\", \"Host\": \"algo-1\", \"Operation\": \"training\", \"epoch\": 5, \"model\": 29}, \"Metrics\": {\"train_absolute_loss_objective\": {\"sum\": 0.7990448176860809, \"count\": 1, \"min\": 0.7990448176860809, \"max\": 0.7990448176860809}}}\u001b[0m\n",
      "\u001b[34m#metrics {\"StartTime\": 1733348588.493212, \"EndTime\": 1733348588.4932191, \"Dimensions\": {\"Algorithm\": \"Linear Learner\", \"Host\": \"algo-1\", \"Operation\": \"training\", \"epoch\": 5, \"model\": 30}, \"Metrics\": {\"train_absolute_loss_objective\": {\"sum\": 0.795475322008133, \"count\": 1, \"min\": 0.795475322008133, \"max\": 0.795475322008133}}}\u001b[0m\n",
      "\u001b[34m#metrics {\"StartTime\": 1733348588.4932766, \"EndTime\": 1733348588.4932864, \"Dimensions\": {\"Algorithm\": \"Linear Learner\", \"Host\": \"algo-1\", \"Operation\": \"training\", \"epoch\": 5, \"model\": 31}, \"Metrics\": {\"train_absolute_loss_objective\": {\"sum\": 0.7970427870750427, \"count\": 1, \"min\": 0.7970427870750427, \"max\": 0.7970427870750427}}}\u001b[0m\n",
      "\u001b[34m[12/04/2024 21:43:08 INFO 139926935496512] #quality_metric: host=algo-1, epoch=5, train absolute_loss_objective <loss>=0.6360732585191726\u001b[0m\n",
      "\u001b[34m[12/04/2024 21:43:08 INFO 139926935496512] #early_stopping_criteria_metric: host=algo-1, epoch=5, criteria=absolute_loss_objective, value=0.2881988525390625\u001b[0m\n",
      "\u001b[34m[12/04/2024 21:43:08 INFO 139926935496512] Saving model for epoch: 5\u001b[0m\n",
      "\u001b[34m[12/04/2024 21:43:08 INFO 139926935496512] Saved checkpoint to \"/tmp/tmph5ysvkds/mx-mod-0000.params\"\u001b[0m\n",
      "\u001b[34m[12/04/2024 21:43:08 INFO 139926935496512] #progress_metric: host=algo-1, completed 60.0 % of epochs\u001b[0m\n",
      "\u001b[34m#metrics {\"StartTime\": 1733348588.3659973, \"EndTime\": 1733348588.5007098, \"Dimensions\": {\"Algorithm\": \"Linear Learner\", \"Host\": \"algo-1\", \"Operation\": \"training\", \"epoch\": 5, \"Meta\": \"training_data_iter\"}, \"Metrics\": {\"Total Records Seen\": {\"sum\": 570.0, \"count\": 1, \"min\": 570, \"max\": 570}, \"Total Batches Seen\": {\"sum\": 57.0, \"count\": 1, \"min\": 57, \"max\": 57}, \"Max Records Seen Between Resets\": {\"sum\": 80.0, \"count\": 1, \"min\": 80, \"max\": 80}, \"Max Batches Seen Between Resets\": {\"sum\": 8.0, \"count\": 1, \"min\": 8, \"max\": 8}, \"Reset Count\": {\"sum\": 8.0, \"count\": 1, \"min\": 8, \"max\": 8}, \"Number of Records Since Last Reset\": {\"sum\": 80.0, \"count\": 1, \"min\": 80, \"max\": 80}, \"Number of Batches Since Last Reset\": {\"sum\": 8.0, \"count\": 1, \"min\": 8, \"max\": 8}}}\u001b[0m\n",
      "\u001b[34m[12/04/2024 21:43:08 INFO 139926935496512] #throughput_metric: host=algo-1, train throughput=593.319835837443 records/second\u001b[0m\n",
      "\u001b[34m[2024-12-04 21:43:08.607] [tensorio] [info] epoch_stats={\"data_pipeline\": \"/opt/ml/input/data/train\", \"epoch\": 16, \"duration\": 106, \"num_examples\": 8, \"num_bytes\": 3840}\u001b[0m\n",
      "\u001b[34m#metrics {\"StartTime\": 1733348588.6072884, \"EndTime\": 1733348588.607355, \"Dimensions\": {\"Algorithm\": \"Linear Learner\", \"Host\": \"algo-1\", \"Operation\": \"training\", \"epoch\": 6, \"model\": 0}, \"Metrics\": {\"train_absolute_loss_objective\": {\"sum\": 0.6093928188085556, \"count\": 1, \"min\": 0.6093928188085556, \"max\": 0.6093928188085556}}}\u001b[0m\n",
      "\u001b[34m#metrics {\"StartTime\": 1733348588.60743, \"EndTime\": 1733348588.607444, \"Dimensions\": {\"Algorithm\": \"Linear Learner\", \"Host\": \"algo-1\", \"Operation\": \"training\", \"epoch\": 6, \"model\": 1}, \"Metrics\": {\"train_absolute_loss_objective\": {\"sum\": 0.5883165955543518, \"count\": 1, \"min\": 0.5883165955543518, \"max\": 0.5883165955543518}}}\u001b[0m\n",
      "\u001b[34m#metrics {\"StartTime\": 1733348588.6074803, \"EndTime\": 1733348588.6074905, \"Dimensions\": {\"Algorithm\": \"Linear Learner\", \"Host\": \"algo-1\", \"Operation\": \"training\", \"epoch\": 6, \"model\": 2}, \"Metrics\": {\"train_absolute_loss_objective\": {\"sum\": 0.6073548913002014, \"count\": 1, \"min\": 0.6073548913002014, \"max\": 0.6073548913002014}}}\u001b[0m\n",
      "\u001b[34m#metrics {\"StartTime\": 1733348588.6075275, \"EndTime\": 1733348588.6075373, \"Dimensions\": {\"Algorithm\": \"Linear Learner\", \"Host\": \"algo-1\", \"Operation\": \"training\", \"epoch\": 6, \"model\": 3}, \"Metrics\": {\"train_absolute_loss_objective\": {\"sum\": 0.5891669273376465, \"count\": 1, \"min\": 0.5891669273376465, \"max\": 0.5891669273376465}}}\u001b[0m\n",
      "\u001b[34m#metrics {\"StartTime\": 1733348588.6075668, \"EndTime\": 1733348588.6075745, \"Dimensions\": {\"Algorithm\": \"Linear Learner\", \"Host\": \"algo-1\", \"Operation\": \"training\", \"epoch\": 6, \"model\": 4}, \"Metrics\": {\"train_absolute_loss_objective\": {\"sum\": 0.2981492578983307, \"count\": 1, \"min\": 0.2981492578983307, \"max\": 0.2981492578983307}}}\u001b[0m\n",
      "\u001b[34m#metrics {\"StartTime\": 1733348588.6076028, \"EndTime\": 1733348588.6076107, \"Dimensions\": {\"Algorithm\": \"Linear Learner\", \"Host\": \"algo-1\", \"Operation\": \"training\", \"epoch\": 6, \"model\": 5}, \"Metrics\": {\"train_absolute_loss_objective\": {\"sum\": 0.2873674303293228, \"count\": 1, \"min\": 0.2873674303293228, \"max\": 0.2873674303293228}}}\u001b[0m\n",
      "\u001b[34m#metrics {\"StartTime\": 1733348588.6076422, \"EndTime\": 1733348588.6076508, \"Dimensions\": {\"Algorithm\": \"Linear Learner\", \"Host\": \"algo-1\", \"Operation\": \"training\", \"epoch\": 6, \"model\": 6}, \"Metrics\": {\"train_absolute_loss_objective\": {\"sum\": 0.28236985504627227, \"count\": 1, \"min\": 0.28236985504627227, \"max\": 0.28236985504627227}}}\u001b[0m\n",
      "\u001b[34m#metrics {\"StartTime\": 1733348588.6076748, \"EndTime\": 1733348588.607681, \"Dimensions\": {\"Algorithm\": \"Linear Learner\", \"Host\": \"algo-1\", \"Operation\": \"training\", \"epoch\": 6, \"model\": 7}, \"Metrics\": {\"train_absolute_loss_objective\": {\"sum\": 0.28539792001247405, \"count\": 1, \"min\": 0.28539792001247405, \"max\": 0.28539792001247405}}}\u001b[0m\n",
      "\u001b[34m#metrics {\"StartTime\": 1733348588.6077065, \"EndTime\": 1733348588.607714, \"Dimensions\": {\"Algorithm\": \"Linear Learner\", \"Host\": \"algo-1\", \"Operation\": \"training\", \"epoch\": 6, \"model\": 8}, \"Metrics\": {\"train_absolute_loss_objective\": {\"sum\": 0.562051522731781, \"count\": 1, \"min\": 0.562051522731781, \"max\": 0.562051522731781}}}\u001b[0m\n",
      "\u001b[34m#metrics {\"StartTime\": 1733348588.6077456, \"EndTime\": 1733348588.6077533, \"Dimensions\": {\"Algorithm\": \"Linear Learner\", \"Host\": \"algo-1\", \"Operation\": \"training\", \"epoch\": 6, \"model\": 9}, \"Metrics\": {\"train_absolute_loss_objective\": {\"sum\": 0.6158968418836593, \"count\": 1, \"min\": 0.6158968418836593, \"max\": 0.6158968418836593}}}\u001b[0m\n",
      "\u001b[34m#metrics {\"StartTime\": 1733348588.6077795, \"EndTime\": 1733348588.6077878, \"Dimensions\": {\"Algorithm\": \"Linear Learner\", \"Host\": \"algo-1\", \"Operation\": \"training\", \"epoch\": 6, \"model\": 10}, \"Metrics\": {\"train_absolute_loss_objective\": {\"sum\": 0.6139779180288315, \"count\": 1, \"min\": 0.6139779180288315, \"max\": 0.6139779180288315}}}\u001b[0m\n",
      "\u001b[34m#metrics {\"StartTime\": 1733348588.6078162, \"EndTime\": 1733348588.6078243, \"Dimensions\": {\"Algorithm\": \"Linear Learner\", \"Host\": \"algo-1\", \"Operation\": \"training\", \"epoch\": 6, \"model\": 11}, \"Metrics\": {\"train_absolute_loss_objective\": {\"sum\": 0.6226638823747634, \"count\": 1, \"min\": 0.6226638823747634, \"max\": 0.6226638823747634}}}\u001b[0m\n",
      "\u001b[34m#metrics {\"StartTime\": 1733348588.6078568, \"EndTime\": 1733348588.6078644, \"Dimensions\": {\"Algorithm\": \"Linear Learner\", \"Host\": \"algo-1\", \"Operation\": \"training\", \"epoch\": 6, \"model\": 12}, \"Metrics\": {\"train_absolute_loss_objective\": {\"sum\": 0.302685472369194, \"count\": 1, \"min\": 0.302685472369194, \"max\": 0.302685472369194}}}\u001b[0m\n",
      "\u001b[34m#metrics {\"StartTime\": 1733348588.6078951, \"EndTime\": 1733348588.6079032, \"Dimensions\": {\"Algorithm\": \"Linear Learner\", \"Host\": \"algo-1\", \"Operation\": \"training\", \"epoch\": 6, \"model\": 13}, \"Metrics\": {\"train_absolute_loss_objective\": {\"sum\": 0.26927435100078584, \"count\": 1, \"min\": 0.26927435100078584, \"max\": 0.26927435100078584}}}\u001b[0m\n",
      "\u001b[34m#metrics {\"StartTime\": 1733348588.6079326, \"EndTime\": 1733348588.607941, \"Dimensions\": {\"Algorithm\": \"Linear Learner\", \"Host\": \"algo-1\", \"Operation\": \"training\", \"epoch\": 6, \"model\": 14}, \"Metrics\": {\"train_absolute_loss_objective\": {\"sum\": 0.30251927971839904, \"count\": 1, \"min\": 0.30251927971839904, \"max\": 0.30251927971839904}}}\u001b[0m\n",
      "\u001b[34m#metrics {\"StartTime\": 1733348588.6079726, \"EndTime\": 1733348588.607981, \"Dimensions\": {\"Algorithm\": \"Linear Learner\", \"Host\": \"algo-1\", \"Operation\": \"training\", \"epoch\": 6, \"model\": 15}, \"Metrics\": {\"train_absolute_loss_objective\": {\"sum\": 0.2700386166572571, \"count\": 1, \"min\": 0.2700386166572571, \"max\": 0.2700386166572571}}}\u001b[0m\n",
      "\u001b[34m#metrics {\"StartTime\": 1733348588.6080115, \"EndTime\": 1733348588.6080194, \"Dimensions\": {\"Algorithm\": \"Linear Learner\", \"Host\": \"algo-1\", \"Operation\": \"training\", \"epoch\": 6, \"model\": 16}, \"Metrics\": {\"train_absolute_loss_objective\": {\"sum\": 0.6478545814752579, \"count\": 1, \"min\": 0.6478545814752579, \"max\": 0.6478545814752579}}}\u001b[0m\n",
      "\u001b[34m#metrics {\"StartTime\": 1733348588.6080499, \"EndTime\": 1733348588.6080577, \"Dimensions\": {\"Algorithm\": \"Linear Learner\", \"Host\": \"algo-1\", \"Operation\": \"training\", \"epoch\": 6, \"model\": 17}, \"Metrics\": {\"train_absolute_loss_objective\": {\"sum\": 0.6023840814828872, \"count\": 1, \"min\": 0.6023840814828872, \"max\": 0.6023840814828872}}}\u001b[0m\n",
      "\u001b[34m#metrics {\"StartTime\": 1733348588.6080866, \"EndTime\": 1733348588.6080947, \"Dimensions\": {\"Algorithm\": \"Linear Learner\", \"Host\": \"algo-1\", \"Operation\": \"training\", \"epoch\": 6, \"model\": 18}, \"Metrics\": {\"train_absolute_loss_objective\": {\"sum\": 0.6259000986814499, \"count\": 1, \"min\": 0.6259000986814499, \"max\": 0.6259000986814499}}}\u001b[0m\n",
      "\u001b[34m#metrics {\"StartTime\": 1733348588.608127, \"EndTime\": 1733348588.6081357, \"Dimensions\": {\"Algorithm\": \"Linear Learner\", \"Host\": \"algo-1\", \"Operation\": \"training\", \"epoch\": 6, \"model\": 19}, \"Metrics\": {\"train_absolute_loss_objective\": {\"sum\": 0.6247969150543213, \"count\": 1, \"min\": 0.6247969150543213, \"max\": 0.6247969150543213}}}\u001b[0m\n",
      "\u001b[34m#metrics {\"StartTime\": 1733348588.6081672, \"EndTime\": 1733348588.6081753, \"Dimensions\": {\"Algorithm\": \"Linear Learner\", \"Host\": \"algo-1\", \"Operation\": \"training\", \"epoch\": 6, \"model\": 20}, \"Metrics\": {\"train_absolute_loss_objective\": {\"sum\": 0.4126799464225769, \"count\": 1, \"min\": 0.4126799464225769, \"max\": 0.4126799464225769}}}\u001b[0m\n",
      "\u001b[34m#metrics {\"StartTime\": 1733348588.6082048, \"EndTime\": 1733348588.608213, \"Dimensions\": {\"Algorithm\": \"Linear Learner\", \"Host\": \"algo-1\", \"Operation\": \"training\", \"epoch\": 6, \"model\": 21}, \"Metrics\": {\"train_absolute_loss_objective\": {\"sum\": 0.407477992773056, \"count\": 1, \"min\": 0.407477992773056, \"max\": 0.407477992773056}}}\u001b[0m\n",
      "\u001b[34m#metrics {\"StartTime\": 1733348588.6082492, \"EndTime\": 1733348588.6082575, \"Dimensions\": {\"Algorithm\": \"Linear Learner\", \"Host\": \"algo-1\", \"Operation\": \"training\", \"epoch\": 6, \"model\": 22}, \"Metrics\": {\"train_absolute_loss_objective\": {\"sum\": 0.4149474263191223, \"count\": 1, \"min\": 0.4149474263191223, \"max\": 0.4149474263191223}}}\u001b[0m\n",
      "\u001b[34m#metrics {\"StartTime\": 1733348588.6082895, \"EndTime\": 1733348588.6082978, \"Dimensions\": {\"Algorithm\": \"Linear Learner\", \"Host\": \"algo-1\", \"Operation\": \"training\", \"epoch\": 6, \"model\": 23}, \"Metrics\": {\"train_absolute_loss_objective\": {\"sum\": 0.4594557285308838, \"count\": 1, \"min\": 0.4594557285308838, \"max\": 0.4594557285308838}}}\u001b[0m\n",
      "\u001b[34m#metrics {\"StartTime\": 1733348588.6083288, \"EndTime\": 1733348588.6083372, \"Dimensions\": {\"Algorithm\": \"Linear Learner\", \"Host\": \"algo-1\", \"Operation\": \"training\", \"epoch\": 6, \"model\": 24}, \"Metrics\": {\"train_absolute_loss_objective\": {\"sum\": 0.7815178811550141, \"count\": 1, \"min\": 0.7815178811550141, \"max\": 0.7815178811550141}}}\u001b[0m\n",
      "\u001b[34m#metrics {\"StartTime\": 1733348588.6083684, \"EndTime\": 1733348588.6083763, \"Dimensions\": {\"Algorithm\": \"Linear Learner\", \"Host\": \"algo-1\", \"Operation\": \"training\", \"epoch\": 6, \"model\": 25}, \"Metrics\": {\"train_absolute_loss_objective\": {\"sum\": 0.778130567073822, \"count\": 1, \"min\": 0.778130567073822, \"max\": 0.778130567073822}}}\u001b[0m\n",
      "\u001b[34m#metrics {\"StartTime\": 1733348588.6084082, \"EndTime\": 1733348588.608416, \"Dimensions\": {\"Algorithm\": \"Linear Learner\", \"Host\": \"algo-1\", \"Operation\": \"training\", \"epoch\": 6, \"model\": 26}, \"Metrics\": {\"train_absolute_loss_objective\": {\"sum\": 0.7787698149681092, \"count\": 1, \"min\": 0.7787698149681092, \"max\": 0.7787698149681092}}}\u001b[0m\n",
      "\u001b[34m#metrics {\"StartTime\": 1733348588.6084442, \"EndTime\": 1733348588.6084518, \"Dimensions\": {\"Algorithm\": \"Linear Learner\", \"Host\": \"algo-1\", \"Operation\": \"training\", \"epoch\": 6, \"model\": 27}, \"Metrics\": {\"train_absolute_loss_objective\": {\"sum\": 0.7788225769996643, \"count\": 1, \"min\": 0.7788225769996643, \"max\": 0.7788225769996643}}}\u001b[0m\n",
      "\u001b[34m#metrics {\"StartTime\": 1733348588.6084871, \"EndTime\": 1733348588.608495, \"Dimensions\": {\"Algorithm\": \"Linear Learner\", \"Host\": \"algo-1\", \"Operation\": \"training\", \"epoch\": 6, \"model\": 28}, \"Metrics\": {\"train_absolute_loss_objective\": {\"sum\": 0.8051338255405426, \"count\": 1, \"min\": 0.8051338255405426, \"max\": 0.8051338255405426}}}\u001b[0m\n",
      "\u001b[34m#metrics {\"StartTime\": 1733348588.6085272, \"EndTime\": 1733348588.6085348, \"Dimensions\": {\"Algorithm\": \"Linear Learner\", \"Host\": \"algo-1\", \"Operation\": \"training\", \"epoch\": 6, \"model\": 29}, \"Metrics\": {\"train_absolute_loss_objective\": {\"sum\": 0.8020235061645508, \"count\": 1, \"min\": 0.8020235061645508, \"max\": 0.8020235061645508}}}\u001b[0m\n",
      "\u001b[34m#metrics {\"StartTime\": 1733348588.6085637, \"EndTime\": 1733348588.6085725, \"Dimensions\": {\"Algorithm\": \"Linear Learner\", \"Host\": \"algo-1\", \"Operation\": \"training\", \"epoch\": 6, \"model\": 30}, \"Metrics\": {\"train_absolute_loss_objective\": {\"sum\": 0.8053964257240296, \"count\": 1, \"min\": 0.8053964257240296, \"max\": 0.8053964257240296}}}\u001b[0m\n",
      "\u001b[34m#metrics {\"StartTime\": 1733348588.608607, \"EndTime\": 1733348588.6086154, \"Dimensions\": {\"Algorithm\": \"Linear Learner\", \"Host\": \"algo-1\", \"Operation\": \"training\", \"epoch\": 6, \"model\": 31}, \"Metrics\": {\"train_absolute_loss_objective\": {\"sum\": 0.8060996890068054, \"count\": 1, \"min\": 0.8060996890068054, \"max\": 0.8060996890068054}}}\u001b[0m\n",
      "\u001b[34m[12/04/2024 21:43:08 INFO 139926935496512] #quality_metric: host=algo-1, epoch=6, train absolute_loss_objective <loss>=0.6093928188085556\u001b[0m\n",
      "\u001b[34m[12/04/2024 21:43:08 INFO 139926935496512] #early_stopping_criteria_metric: host=algo-1, epoch=6, criteria=absolute_loss_objective, value=0.26927435100078584\u001b[0m\n",
      "\u001b[34m[12/04/2024 21:43:08 INFO 139926935496512] Saving model for epoch: 6\u001b[0m\n",
      "\u001b[34m[12/04/2024 21:43:08 INFO 139926935496512] Saved checkpoint to \"/tmp/tmpu29978a3/mx-mod-0000.params\"\u001b[0m\n",
      "\u001b[34m[12/04/2024 21:43:08 INFO 139926935496512] #progress_metric: host=algo-1, completed 70.0 % of epochs\u001b[0m\n",
      "\u001b[34m#metrics {\"StartTime\": 1733348588.500961, \"EndTime\": 1733348588.6148415, \"Dimensions\": {\"Algorithm\": \"Linear Learner\", \"Host\": \"algo-1\", \"Operation\": \"training\", \"epoch\": 6, \"Meta\": \"training_data_iter\"}, \"Metrics\": {\"Total Records Seen\": {\"sum\": 650.0, \"count\": 1, \"min\": 650, \"max\": 650}, \"Total Batches Seen\": {\"sum\": 65.0, \"count\": 1, \"min\": 65, \"max\": 65}, \"Max Records Seen Between Resets\": {\"sum\": 80.0, \"count\": 1, \"min\": 80, \"max\": 80}, \"Max Batches Seen Between Resets\": {\"sum\": 8.0, \"count\": 1, \"min\": 8, \"max\": 8}, \"Reset Count\": {\"sum\": 9.0, \"count\": 1, \"min\": 9, \"max\": 9}, \"Number of Records Since Last Reset\": {\"sum\": 80.0, \"count\": 1, \"min\": 80, \"max\": 80}, \"Number of Batches Since Last Reset\": {\"sum\": 8.0, \"count\": 1, \"min\": 8, \"max\": 8}}}\u001b[0m\n",
      "\u001b[34m[12/04/2024 21:43:08 INFO 139926935496512] #throughput_metric: host=algo-1, train throughput=701.7362698494028 records/second\u001b[0m\n",
      "\u001b[34m[2024-12-04 21:43:08.719] [tensorio] [info] epoch_stats={\"data_pipeline\": \"/opt/ml/input/data/train\", \"epoch\": 18, \"duration\": 104, \"num_examples\": 8, \"num_bytes\": 3840}\u001b[0m\n",
      "\u001b[34m#metrics {\"StartTime\": 1733348588.7195406, \"EndTime\": 1733348588.719616, \"Dimensions\": {\"Algorithm\": \"Linear Learner\", \"Host\": \"algo-1\", \"Operation\": \"training\", \"epoch\": 7, \"model\": 0}, \"Metrics\": {\"train_absolute_loss_objective\": {\"sum\": 0.582589989900589, \"count\": 1, \"min\": 0.582589989900589, \"max\": 0.582589989900589}}}\u001b[0m\n",
      "\u001b[34m#metrics {\"StartTime\": 1733348588.719694, \"EndTime\": 1733348588.7197075, \"Dimensions\": {\"Algorithm\": \"Linear Learner\", \"Host\": \"algo-1\", \"Operation\": \"training\", \"epoch\": 7, \"model\": 1}, \"Metrics\": {\"train_absolute_loss_objective\": {\"sum\": 0.5602724403142929, \"count\": 1, \"min\": 0.5602724403142929, \"max\": 0.5602724403142929}}}\u001b[0m\n",
      "\u001b[34m#metrics {\"StartTime\": 1733348588.7197404, \"EndTime\": 1733348588.7197485, \"Dimensions\": {\"Algorithm\": \"Linear Learner\", \"Host\": \"algo-1\", \"Operation\": \"training\", \"epoch\": 7, \"model\": 2}, \"Metrics\": {\"train_absolute_loss_objective\": {\"sum\": 0.5805743604898452, \"count\": 1, \"min\": 0.5805743604898452, \"max\": 0.5805743604898452}}}\u001b[0m\n",
      "\u001b[34m#metrics {\"StartTime\": 1733348588.7197752, \"EndTime\": 1733348588.7197826, \"Dimensions\": {\"Algorithm\": \"Linear Learner\", \"Host\": \"algo-1\", \"Operation\": \"training\", \"epoch\": 7, \"model\": 3}, \"Metrics\": {\"train_absolute_loss_objective\": {\"sum\": 0.5611321955919266, \"count\": 1, \"min\": 0.5611321955919266, \"max\": 0.5611321955919266}}}\u001b[0m\n",
      "\u001b[34m#metrics {\"StartTime\": 1733348588.719812, \"EndTime\": 1733348588.7198203, \"Dimensions\": {\"Algorithm\": \"Linear Learner\", \"Host\": \"algo-1\", \"Operation\": \"training\", \"epoch\": 7, \"model\": 4}, \"Metrics\": {\"train_absolute_loss_objective\": {\"sum\": 0.31613774597644806, \"count\": 1, \"min\": 0.31613774597644806, \"max\": 0.31613774597644806}}}\u001b[0m\n",
      "\u001b[34m#metrics {\"StartTime\": 1733348588.7198517, \"EndTime\": 1733348588.7198603, \"Dimensions\": {\"Algorithm\": \"Linear Learner\", \"Host\": \"algo-1\", \"Operation\": \"training\", \"epoch\": 7, \"model\": 5}, \"Metrics\": {\"train_absolute_loss_objective\": {\"sum\": 0.3016530513763428, \"count\": 1, \"min\": 0.3016530513763428, \"max\": 0.3016530513763428}}}\u001b[0m\n",
      "\u001b[34m#metrics {\"StartTime\": 1733348588.7198954, \"EndTime\": 1733348588.719904, \"Dimensions\": {\"Algorithm\": \"Linear Learner\", \"Host\": \"algo-1\", \"Operation\": \"training\", \"epoch\": 7, \"model\": 6}, \"Metrics\": {\"train_absolute_loss_objective\": {\"sum\": 0.2799439400434494, \"count\": 1, \"min\": 0.2799439400434494, \"max\": 0.2799439400434494}}}\u001b[0m\n",
      "\u001b[34m#metrics {\"StartTime\": 1733348588.7199368, \"EndTime\": 1733348588.7199452, \"Dimensions\": {\"Algorithm\": \"Linear Learner\", \"Host\": \"algo-1\", \"Operation\": \"training\", \"epoch\": 7, \"model\": 7}, \"Metrics\": {\"train_absolute_loss_objective\": {\"sum\": 0.28470333516597746, \"count\": 1, \"min\": 0.28470333516597746, \"max\": 0.28470333516597746}}}\u001b[0m\n",
      "\u001b[34m#metrics {\"StartTime\": 1733348588.7199748, \"EndTime\": 1733348588.7199824, \"Dimensions\": {\"Algorithm\": \"Linear Learner\", \"Host\": \"algo-1\", \"Operation\": \"training\", \"epoch\": 7, \"model\": 8}, \"Metrics\": {\"train_absolute_loss_objective\": {\"sum\": 0.5354340344667434, \"count\": 1, \"min\": 0.5354340344667434, \"max\": 0.5354340344667434}}}\u001b[0m\n",
      "\u001b[34m#metrics {\"StartTime\": 1733348588.7200122, \"EndTime\": 1733348588.7200215, \"Dimensions\": {\"Algorithm\": \"Linear Learner\", \"Host\": \"algo-1\", \"Operation\": \"training\", \"epoch\": 7, \"model\": 9}, \"Metrics\": {\"train_absolute_loss_objective\": {\"sum\": 0.5876439660787582, \"count\": 1, \"min\": 0.5876439660787582, \"max\": 0.5876439660787582}}}\u001b[0m\n",
      "\u001b[34m#metrics {\"StartTime\": 1733348588.720052, \"EndTime\": 1733348588.72006, \"Dimensions\": {\"Algorithm\": \"Linear Learner\", \"Host\": \"algo-1\", \"Operation\": \"training\", \"epoch\": 7, \"model\": 10}, \"Metrics\": {\"train_absolute_loss_objective\": {\"sum\": 0.5871592998504639, \"count\": 1, \"min\": 0.5871592998504639, \"max\": 0.5871592998504639}}}\u001b[0m\n",
      "\u001b[34m#metrics {\"StartTime\": 1733348588.7200882, \"EndTime\": 1733348588.7200963, \"Dimensions\": {\"Algorithm\": \"Linear Learner\", \"Host\": \"algo-1\", \"Operation\": \"training\", \"epoch\": 7, \"model\": 11}, \"Metrics\": {\"train_absolute_loss_objective\": {\"sum\": 0.5948821723461151, \"count\": 1, \"min\": 0.5948821723461151, \"max\": 0.5948821723461151}}}\u001b[0m\n",
      "\u001b[34m#metrics {\"StartTime\": 1733348588.7201302, \"EndTime\": 1733348588.7201393, \"Dimensions\": {\"Algorithm\": \"Linear Learner\", \"Host\": \"algo-1\", \"Operation\": \"training\", \"epoch\": 7, \"model\": 12}, \"Metrics\": {\"train_absolute_loss_objective\": {\"sum\": 0.3081793263554573, \"count\": 1, \"min\": 0.3081793263554573, \"max\": 0.3081793263554573}}}\u001b[0m\n",
      "\u001b[34m#metrics {\"StartTime\": 1733348588.7201707, \"EndTime\": 1733348588.7201796, \"Dimensions\": {\"Algorithm\": \"Linear Learner\", \"Host\": \"algo-1\", \"Operation\": \"training\", \"epoch\": 7, \"model\": 13}, \"Metrics\": {\"train_absolute_loss_objective\": {\"sum\": 0.27406142354011537, \"count\": 1, \"min\": 0.27406142354011537, \"max\": 0.27406142354011537}}}\u001b[0m\n",
      "\u001b[34m#metrics {\"StartTime\": 1733348588.7202084, \"EndTime\": 1733348588.720216, \"Dimensions\": {\"Algorithm\": \"Linear Learner\", \"Host\": \"algo-1\", \"Operation\": \"training\", \"epoch\": 7, \"model\": 14}, \"Metrics\": {\"train_absolute_loss_objective\": {\"sum\": 0.3065079763531685, \"count\": 1, \"min\": 0.3065079763531685, \"max\": 0.3065079763531685}}}\u001b[0m\n",
      "\u001b[34m#metrics {\"StartTime\": 1733348588.7202501, \"EndTime\": 1733348588.7202594, \"Dimensions\": {\"Algorithm\": \"Linear Learner\", \"Host\": \"algo-1\", \"Operation\": \"training\", \"epoch\": 7, \"model\": 15}, \"Metrics\": {\"train_absolute_loss_objective\": {\"sum\": 0.2709631651639938, \"count\": 1, \"min\": 0.2709631651639938, \"max\": 0.2709631651639938}}}\u001b[0m\n",
      "\u001b[34m#metrics {\"StartTime\": 1733348588.72029, \"EndTime\": 1733348588.7202985, \"Dimensions\": {\"Algorithm\": \"Linear Learner\", \"Host\": \"algo-1\", \"Operation\": \"training\", \"epoch\": 7, \"model\": 16}, \"Metrics\": {\"train_absolute_loss_objective\": {\"sum\": 0.6252498626708984, \"count\": 1, \"min\": 0.6252498626708984, \"max\": 0.6252498626708984}}}\u001b[0m\n",
      "\u001b[34m#metrics {\"StartTime\": 1733348588.7203267, \"EndTime\": 1733348588.7203345, \"Dimensions\": {\"Algorithm\": \"Linear Learner\", \"Host\": \"algo-1\", \"Operation\": \"training\", \"epoch\": 7, \"model\": 17}, \"Metrics\": {\"train_absolute_loss_objective\": {\"sum\": 0.5790877133607865, \"count\": 1, \"min\": 0.5790877133607865, \"max\": 0.5790877133607865}}}\u001b[0m\n",
      "\u001b[34m#metrics {\"StartTime\": 1733348588.7203693, \"EndTime\": 1733348588.7203777, \"Dimensions\": {\"Algorithm\": \"Linear Learner\", \"Host\": \"algo-1\", \"Operation\": \"training\", \"epoch\": 7, \"model\": 18}, \"Metrics\": {\"train_absolute_loss_objective\": {\"sum\": 0.6031944543123245, \"count\": 1, \"min\": 0.6031944543123245, \"max\": 0.6031944543123245}}}\u001b[0m\n",
      "\u001b[34m#metrics {\"StartTime\": 1733348588.7204103, \"EndTime\": 1733348588.7204182, \"Dimensions\": {\"Algorithm\": \"Linear Learner\", \"Host\": \"algo-1\", \"Operation\": \"training\", \"epoch\": 7, \"model\": 19}, \"Metrics\": {\"train_absolute_loss_objective\": {\"sum\": 0.6010057330131531, \"count\": 1, \"min\": 0.6010057330131531, \"max\": 0.6010057330131531}}}\u001b[0m\n",
      "\u001b[34m#metrics {\"StartTime\": 1733348588.7204478, \"EndTime\": 1733348588.720455, \"Dimensions\": {\"Algorithm\": \"Linear Learner\", \"Host\": \"algo-1\", \"Operation\": \"training\", \"epoch\": 7, \"model\": 20}, \"Metrics\": {\"train_absolute_loss_objective\": {\"sum\": 0.4277866780757904, \"count\": 1, \"min\": 0.4277866780757904, \"max\": 0.4277866780757904}}}\u001b[0m\n",
      "\u001b[34m#metrics {\"StartTime\": 1733348588.720483, \"EndTime\": 1733348588.720491, \"Dimensions\": {\"Algorithm\": \"Linear Learner\", \"Host\": \"algo-1\", \"Operation\": \"training\", \"epoch\": 7, \"model\": 21}, \"Metrics\": {\"train_absolute_loss_objective\": {\"sum\": 0.4280622065067291, \"count\": 1, \"min\": 0.4280622065067291, \"max\": 0.4280622065067291}}}\u001b[0m\n",
      "\u001b[34m#metrics {\"StartTime\": 1733348588.7205226, \"EndTime\": 1733348588.7205312, \"Dimensions\": {\"Algorithm\": \"Linear Learner\", \"Host\": \"algo-1\", \"Operation\": \"training\", \"epoch\": 7, \"model\": 22}, \"Metrics\": {\"train_absolute_loss_objective\": {\"sum\": 0.4110123008489609, \"count\": 1, \"min\": 0.4110123008489609, \"max\": 0.4110123008489609}}}\u001b[0m\n",
      "\u001b[34m#metrics {\"StartTime\": 1733348588.72056, \"EndTime\": 1733348588.7205684, \"Dimensions\": {\"Algorithm\": \"Linear Learner\", \"Host\": \"algo-1\", \"Operation\": \"training\", \"epoch\": 7, \"model\": 23}, \"Metrics\": {\"train_absolute_loss_objective\": {\"sum\": 0.41733044683933257, \"count\": 1, \"min\": 0.41733044683933257, \"max\": 0.41733044683933257}}}\u001b[0m\n",
      "\u001b[34m#metrics {\"StartTime\": 1733348588.7206, \"EndTime\": 1733348588.7206082, \"Dimensions\": {\"Algorithm\": \"Linear Learner\", \"Host\": \"algo-1\", \"Operation\": \"training\", \"epoch\": 7, \"model\": 24}, \"Metrics\": {\"train_absolute_loss_objective\": {\"sum\": 0.7798752784729004, \"count\": 1, \"min\": 0.7798752784729004, \"max\": 0.7798752784729004}}}\u001b[0m\n",
      "\u001b[34m#metrics {\"StartTime\": 1733348588.7206438, \"EndTime\": 1733348588.7206528, \"Dimensions\": {\"Algorithm\": \"Linear Learner\", \"Host\": \"algo-1\", \"Operation\": \"training\", \"epoch\": 7, \"model\": 25}, \"Metrics\": {\"train_absolute_loss_objective\": {\"sum\": 0.7792979717254639, \"count\": 1, \"min\": 0.7792979717254639, \"max\": 0.7792979717254639}}}\u001b[0m\n",
      "\u001b[34m#metrics {\"StartTime\": 1733348588.7206838, \"EndTime\": 1733348588.7206917, \"Dimensions\": {\"Algorithm\": \"Linear Learner\", \"Host\": \"algo-1\", \"Operation\": \"training\", \"epoch\": 7, \"model\": 26}, \"Metrics\": {\"train_absolute_loss_objective\": {\"sum\": 0.7787530601024628, \"count\": 1, \"min\": 0.7787530601024628, \"max\": 0.7787530601024628}}}\u001b[0m\n",
      "\u001b[34m#metrics {\"StartTime\": 1733348588.7207205, \"EndTime\": 1733348588.720729, \"Dimensions\": {\"Algorithm\": \"Linear Learner\", \"Host\": \"algo-1\", \"Operation\": \"training\", \"epoch\": 7, \"model\": 27}, \"Metrics\": {\"train_absolute_loss_objective\": {\"sum\": 0.7788415133953095, \"count\": 1, \"min\": 0.7788415133953095, \"max\": 0.7788415133953095}}}\u001b[0m\n",
      "\u001b[34m#metrics {\"StartTime\": 1733348588.7207575, \"EndTime\": 1733348588.720766, \"Dimensions\": {\"Algorithm\": \"Linear Learner\", \"Host\": \"algo-1\", \"Operation\": \"training\", \"epoch\": 7, \"model\": 28}, \"Metrics\": {\"train_absolute_loss_objective\": {\"sum\": 0.7969867706298828, \"count\": 1, \"min\": 0.7969867706298828, \"max\": 0.7969867706298828}}}\u001b[0m\n",
      "\u001b[34m#metrics {\"StartTime\": 1733348588.720799, \"EndTime\": 1733348588.720807, \"Dimensions\": {\"Algorithm\": \"Linear Learner\", \"Host\": \"algo-1\", \"Operation\": \"training\", \"epoch\": 7, \"model\": 29}, \"Metrics\": {\"train_absolute_loss_objective\": {\"sum\": 0.7991106688976288, \"count\": 1, \"min\": 0.7991106688976288, \"max\": 0.7991106688976288}}}\u001b[0m\n",
      "\u001b[34m#metrics {\"StartTime\": 1733348588.7208362, \"EndTime\": 1733348588.7208433, \"Dimensions\": {\"Algorithm\": \"Linear Learner\", \"Host\": \"algo-1\", \"Operation\": \"training\", \"epoch\": 7, \"model\": 30}, \"Metrics\": {\"train_absolute_loss_objective\": {\"sum\": 0.7977370917797089, \"count\": 1, \"min\": 0.7977370917797089, \"max\": 0.7977370917797089}}}\u001b[0m\n",
      "\u001b[34m#metrics {\"StartTime\": 1733348588.7208755, \"EndTime\": 1733348588.7208843, \"Dimensions\": {\"Algorithm\": \"Linear Learner\", \"Host\": \"algo-1\", \"Operation\": \"training\", \"epoch\": 7, \"model\": 31}, \"Metrics\": {\"train_absolute_loss_objective\": {\"sum\": 0.808383846282959, \"count\": 1, \"min\": 0.808383846282959, \"max\": 0.808383846282959}}}\u001b[0m\n",
      "\u001b[34m[12/04/2024 21:43:08 INFO 139926935496512] #quality_metric: host=algo-1, epoch=7, train absolute_loss_objective <loss>=0.582589989900589\u001b[0m\n",
      "\u001b[34m[12/04/2024 21:43:08 INFO 139926935496512] #early_stopping_criteria_metric: host=algo-1, epoch=7, criteria=absolute_loss_objective, value=0.2709631651639938\u001b[0m\n",
      "\u001b[34m[12/04/2024 21:43:08 INFO 139926935496512] Saving model for epoch: 7\u001b[0m\n",
      "\u001b[34m[12/04/2024 21:43:08 INFO 139926935496512] Saved checkpoint to \"/tmp/tmpue84s_rw/mx-mod-0000.params\"\u001b[0m\n",
      "\u001b[34m[12/04/2024 21:43:08 INFO 139926935496512] Early stop condition met. Stopping training.\u001b[0m\n",
      "\u001b[34m[12/04/2024 21:43:08 INFO 139926935496512] #progress_metric: host=algo-1, completed 100 % epochs\u001b[0m\n",
      "\u001b[34m#metrics {\"StartTime\": 1733348588.6150951, \"EndTime\": 1733348588.7279441, \"Dimensions\": {\"Algorithm\": \"Linear Learner\", \"Host\": \"algo-1\", \"Operation\": \"training\", \"epoch\": 7, \"Meta\": \"training_data_iter\"}, \"Metrics\": {\"Total Records Seen\": {\"sum\": 730.0, \"count\": 1, \"min\": 730, \"max\": 730}, \"Total Batches Seen\": {\"sum\": 73.0, \"count\": 1, \"min\": 73, \"max\": 73}, \"Max Records Seen Between Resets\": {\"sum\": 80.0, \"count\": 1, \"min\": 80, \"max\": 80}, \"Max Batches Seen Between Resets\": {\"sum\": 8.0, \"count\": 1, \"min\": 8, \"max\": 8}, \"Reset Count\": {\"sum\": 10.0, \"count\": 1, \"min\": 10, \"max\": 10}, \"Number of Records Since Last Reset\": {\"sum\": 80.0, \"count\": 1, \"min\": 80, \"max\": 80}, \"Number of Batches Since Last Reset\": {\"sum\": 8.0, \"count\": 1, \"min\": 8, \"max\": 8}}}\u001b[0m\n",
      "\u001b[34m[12/04/2024 21:43:08 INFO 139926935496512] #throughput_metric: host=algo-1, train throughput=708.0607395777942 records/second\u001b[0m\n",
      "\u001b[34m[12/04/2024 21:43:08 WARNING 139926935496512] wait_for_all_workers will not sync workers since the kv store is not running distributed\u001b[0m\n",
      "\u001b[34m[12/04/2024 21:43:08 WARNING 139926935496512] wait_for_all_workers will not sync workers since the kv store is not running distributed\u001b[0m\n",
      "\u001b[34m[2024-12-04 21:43:08.728] [tensorio] [info] epoch_stats={\"data_pipeline\": \"/opt/ml/input/data/train\", \"epoch\": 20, \"duration\": 0, \"num_examples\": 1, \"num_bytes\": 480}\u001b[0m\n",
      "\u001b[34m[2024-12-04 21:43:08.739] [tensorio] [info] epoch_stats={\"data_pipeline\": \"/opt/ml/input/data/train\", \"epoch\": 22, \"duration\": 8, \"num_examples\": 8, \"num_bytes\": 3840}\u001b[0m\n",
      "\u001b[34m[12/04/2024 21:43:08 INFO 139926935496512] #train_score (algo-1) : ('absolute_loss_objective', 1.3220701694488526)\u001b[0m\n",
      "\u001b[34m[12/04/2024 21:43:08 INFO 139926935496512] #train_score (algo-1) : ('mse', 2.813384401798248)\u001b[0m\n",
      "\u001b[34m[12/04/2024 21:43:08 INFO 139926935496512] #train_score (algo-1) : ('absolute_loss', 1.3220701694488526)\u001b[0m\n",
      "\u001b[34m[12/04/2024 21:43:08 INFO 139926935496512] #train_score (algo-1) : ('rmse', 1.6773146400715186)\u001b[0m\n",
      "\u001b[34m[12/04/2024 21:43:08 INFO 139926935496512] #train_score (algo-1) : ('r2', 0.8707991230676078)\u001b[0m\n",
      "\u001b[34m[12/04/2024 21:43:08 INFO 139926935496512] #train_score (algo-1) : ('mae', 1.3220701694488526)\u001b[0m\n",
      "\u001b[34m[12/04/2024 21:43:08 INFO 139926935496512] #quality_metric: host=algo-1, train absolute_loss_objective <loss>=1.3220701694488526\u001b[0m\n",
      "\u001b[34m[12/04/2024 21:43:08 INFO 139926935496512] #quality_metric: host=algo-1, train mse <loss>=2.813384401798248\u001b[0m\n",
      "\u001b[34m[12/04/2024 21:43:08 INFO 139926935496512] #quality_metric: host=algo-1, train absolute_loss <loss>=1.3220701694488526\u001b[0m\n",
      "\u001b[34m[12/04/2024 21:43:08 INFO 139926935496512] #quality_metric: host=algo-1, train rmse <loss>=1.6773146400715186\u001b[0m\n",
      "\u001b[34m[12/04/2024 21:43:08 INFO 139926935496512] #quality_metric: host=algo-1, train r2 <loss>=0.8707991230676078\u001b[0m\n",
      "\u001b[34m[12/04/2024 21:43:08 INFO 139926935496512] #quality_metric: host=algo-1, train mae <loss>=1.3220701694488526\u001b[0m\n",
      "\u001b[34m[12/04/2024 21:43:08 INFO 139926935496512] Best model found for hyperparameters: {\"optimizer\": \"adam\", \"learning_rate\": 0.1, \"wd\": 0.01, \"l1\": 0.0, \"lr_scheduler_step\": 10, \"lr_scheduler_factor\": 0.99, \"lr_scheduler_minimum_lr\": 0.0001}\u001b[0m\n",
      "\u001b[34m[12/04/2024 21:43:08 INFO 139926935496512] Saved checkpoint to \"/tmp/tmp9izvn7o0/mx-mod-0000.params\"\u001b[0m\n",
      "\u001b[34m[12/04/2024 21:43:08 INFO 139926935496512] Test data is not provided.\u001b[0m\n",
      "\u001b[34m#metrics {\"StartTime\": 1733348587.6355433, \"EndTime\": 1733348588.7459736, \"Dimensions\": {\"Algorithm\": \"Linear Learner\", \"Host\": \"algo-1\", \"Operation\": \"training\"}, \"Metrics\": {\"initialize.time\": {\"sum\": 145.79010009765625, \"count\": 1, \"min\": 145.79010009765625, \"max\": 145.79010009765625}, \"epochs\": {\"sum\": 10.0, \"count\": 1, \"min\": 10, \"max\": 10}, \"check_early_stopping.time\": {\"sum\": 4.760265350341797, \"count\": 8, \"min\": 0.18596649169921875, \"max\": 1.1599063873291016}, \"update.time\": {\"sum\": 922.9292869567871, \"count\": 8, \"min\": 105.24511337280273, \"max\": 132.60698318481445}, \"finalize.time\": {\"sum\": 13.314962387084961, \"count\": 1, \"min\": 13.314962387084961, \"max\": 13.314962387084961}, \"setuptime\": {\"sum\": 1.9893646240234375, \"count\": 1, \"min\": 1.9893646240234375, \"max\": 1.9893646240234375}, \"totaltime\": {\"sum\": 1217.3388004302979, \"count\": 1, \"min\": 1217.3388004302979, \"max\": 1217.3388004302979}}}\u001b[0m\n",
      "\n",
      "2024-12-04 21:43:23 Uploading - Uploading generated training model\n",
      "2024-12-04 21:43:23 Completed - Training job completed\n",
      "Training seconds: 120\n",
      "Billable seconds: 120\n"
     ]
    }
   ],
   "source": [
    "linear = sagemaker.estimator.Estimator(container,\n",
    "                                       role, \n",
    "                                       instance_count = 1, \n",
    "                                       instance_type = 'ml.m5.xlarge',\n",
    "                                       output_path = output_location,\n",
    "                                       sagemaker_session = sagemaker_session)\n",
    "\n",
    "linear.set_hyperparameters(feature_dim = 1,\n",
    "                           predictor_type = 'regressor',\n",
    "                           mini_batch_size = 10,\n",
    "                           epochs = 10,\n",
    "                           num_models = 32,\n",
    "                           loss = 'absolute_loss')\n",
    "\n",
    "# Now we are ready to pass in the training data from S3 to train the linear learner model\n",
    "\n",
    "linear.fit({'train': s3_train_data})"
   ]
  },
  {
   "cell_type": "markdown",
   "metadata": {},
   "source": [
    "# DEPLOY AND TEST TRAINED LINEAR LEARNER MODEL "
   ]
  },
  {
   "cell_type": "code",
   "execution_count": 30,
   "metadata": {
    "tags": []
   },
   "outputs": [
    {
     "name": "stderr",
     "output_type": "stream",
     "text": [
      "INFO:sagemaker:Creating model with name: linear-learner-2024-12-04-21-44-51-263\n",
      "INFO:sagemaker:Creating endpoint-config with name linear-learner-2024-12-04-21-44-51-263\n",
      "INFO:sagemaker:Creating endpoint with name linear-learner-2024-12-04-21-44-51-263\n"
     ]
    },
    {
     "name": "stdout",
     "output_type": "stream",
     "text": [
      "-------!"
     ]
    }
   ],
   "source": [
    "# Deploying the model to perform inference \n",
    "\n",
    "# Content type overrides the data that will be passed to the deployed model, since the deployed model expects data in text/csv format.\n",
    "# Serializer accepts a single argument, the input data, and returns a sequence of bytes in the specified content type\n",
    "# Deserializer accepts two arguments, the result data and the response content type, and return a sequence of bytes in the specified content type.\n",
    "\n",
    "from sagemaker.deserializers import JSONDeserializer\n",
    "from sagemaker.serializers import CSVSerializer\n",
    "\n",
    "\n",
    "linear_regressor = linear.deploy(initial_instance_count = 1,\n",
    "                                 instance_type = 'ml.m5.xlarge',\n",
    "                                 serializer=CSVSerializer(),\n",
    "                                 deserializer=JSONDeserializer())"
   ]
  },
  {
   "cell_type": "code",
   "execution_count": 31,
   "metadata": {
    "tags": []
   },
   "outputs": [],
   "source": [
    "# Making prediction on the test data\n",
    "result = linear_regressor.predict(X_test)"
   ]
  },
  {
   "cell_type": "code",
   "execution_count": 32,
   "metadata": {
    "tags": []
   },
   "outputs": [
    {
     "data": {
      "text/plain": [
       "{'predictions': [{'score': 22.368885040283203},\n",
       "  {'score': 21.541534423828125},\n",
       "  {'score': 21.120811462402344},\n",
       "  {'score': 20.69001579284668},\n",
       "  {'score': 22.733306884765625},\n",
       "  {'score': 30.64632225036621},\n",
       "  {'score': 25.734302520751953},\n",
       "  {'score': 27.1295166015625},\n",
       "  {'score': 26.36477279663086},\n",
       "  {'score': 23.969985961914062},\n",
       "  {'score': 31.055259704589844},\n",
       "  {'score': 26.480239868164062},\n",
       "  {'score': 21.163394927978516},\n",
       "  {'score': 20.658857345581055},\n",
       "  {'score': 28.576061248779297},\n",
       "  {'score': 29.764095306396484},\n",
       "  {'score': 24.369625091552734},\n",
       "  {'score': 16.928207397460938},\n",
       "  {'score': 23.075531005859375},\n",
       "  {'score': 25.62125015258789}]}"
      ]
     },
     "execution_count": 32,
     "metadata": {},
     "output_type": "execute_result"
    }
   ],
   "source": [
    "result "
   ]
  },
  {
   "cell_type": "code",
   "execution_count": 33,
   "metadata": {
    "tags": []
   },
   "outputs": [],
   "source": [
    "# Since the result is in json format, we access the scores by iterating through the scores in the predictions\n",
    "predictions = np.array([r['score'] for r in result['predictions']])"
   ]
  },
  {
   "cell_type": "code",
   "execution_count": 34,
   "metadata": {
    "tags": []
   },
   "outputs": [
    {
     "data": {
      "text/plain": [
       "array([22.36888504, 21.54153442, 21.12081146, 20.69001579, 22.73330688,\n",
       "       30.64632225, 25.73430252, 27.1295166 , 26.3647728 , 23.96998596,\n",
       "       31.0552597 , 26.48023987, 21.16339493, 20.65885735, 28.57606125,\n",
       "       29.76409531, 24.36962509, 16.9282074 , 23.07553101, 25.62125015])"
      ]
     },
     "execution_count": 34,
     "metadata": {},
     "output_type": "execute_result"
    }
   ],
   "source": [
    "predictions"
   ]
  },
  {
   "cell_type": "code",
   "execution_count": 35,
   "metadata": {
    "scrolled": true,
    "tags": []
   },
   "outputs": [
    {
     "data": {
      "text/plain": [
       "(20,)"
      ]
     },
     "execution_count": 35,
     "metadata": {},
     "output_type": "execute_result"
    }
   ],
   "source": [
    "predictions.shape"
   ]
  },
  {
   "cell_type": "code",
   "execution_count": null,
   "metadata": {
    "tags": []
   },
   "outputs": [],
   "source": [
    "# VISUALIZE TEST SET RESULTS\n",
    "plt.figure(figsize = (10, 6))\n",
    "plt.scatter(X_test, y_test, color = 'blue')\n",
    "plt.plot(X_test, predictions, color = 'red')\n",
    "plt.xlabel('HorsePower')\n",
    "plt.ylabel('Fuel Economy [MPG]')\n",
    "plt.title('HorsePower Vs. Fuel Economy')\n",
    "plt.grid()"
   ]
  },
  {
   "cell_type": "code",
   "execution_count": 47,
   "metadata": {
    "tags": []
   },
   "outputs": [
    {
     "name": "stdout",
     "output_type": "stream",
     "text": [
      "{'predictions': [{'score': 25.96426010131836}]}\n"
     ]
    }
   ],
   "source": [
    "# Testing the trained model\n",
    "horse_power = [[175]]\n",
    "fuel_economy = linear_regressor.predict(horse_power)\n",
    "print(fuel_economy)"
   ]
  },
  {
   "cell_type": "code",
   "execution_count": 48,
   "metadata": {
    "tags": []
   },
   "outputs": [
    {
     "name": "stderr",
     "output_type": "stream",
     "text": [
      "INFO:sagemaker:Deleting endpoint configuration with name: linear-learner-2024-12-02-12-03-52-191\n",
      "INFO:sagemaker:Deleting endpoint with name: linear-learner-2024-12-02-12-03-52-191\n"
     ]
    }
   ],
   "source": [
    "# Delete the end-point\n",
    "linear_regressor.delete_endpoint()"
   ]
  },
  {
   "cell_type": "code",
   "execution_count": null,
   "metadata": {},
   "outputs": [],
   "source": []
  }
 ],
 "metadata": {
  "availableInstances": [
   {
    "_defaultOrder": 0,
    "_isFastLaunch": true,
    "category": "General purpose",
    "gpuNum": 0,
    "hideHardwareSpecs": false,
    "memoryGiB": 4,
    "name": "ml.t3.medium",
    "vcpuNum": 2
   },
   {
    "_defaultOrder": 1,
    "_isFastLaunch": false,
    "category": "General purpose",
    "gpuNum": 0,
    "hideHardwareSpecs": false,
    "memoryGiB": 8,
    "name": "ml.t3.large",
    "vcpuNum": 2
   },
   {
    "_defaultOrder": 2,
    "_isFastLaunch": false,
    "category": "General purpose",
    "gpuNum": 0,
    "hideHardwareSpecs": false,
    "memoryGiB": 16,
    "name": "ml.t3.xlarge",
    "vcpuNum": 4
   },
   {
    "_defaultOrder": 3,
    "_isFastLaunch": false,
    "category": "General purpose",
    "gpuNum": 0,
    "hideHardwareSpecs": false,
    "memoryGiB": 32,
    "name": "ml.t3.2xlarge",
    "vcpuNum": 8
   },
   {
    "_defaultOrder": 4,
    "_isFastLaunch": true,
    "category": "General purpose",
    "gpuNum": 0,
    "hideHardwareSpecs": false,
    "memoryGiB": 8,
    "name": "ml.m5.large",
    "vcpuNum": 2
   },
   {
    "_defaultOrder": 5,
    "_isFastLaunch": false,
    "category": "General purpose",
    "gpuNum": 0,
    "hideHardwareSpecs": false,
    "memoryGiB": 16,
    "name": "ml.m5.xlarge",
    "vcpuNum": 4
   },
   {
    "_defaultOrder": 6,
    "_isFastLaunch": false,
    "category": "General purpose",
    "gpuNum": 0,
    "hideHardwareSpecs": false,
    "memoryGiB": 32,
    "name": "ml.m5.2xlarge",
    "vcpuNum": 8
   },
   {
    "_defaultOrder": 7,
    "_isFastLaunch": false,
    "category": "General purpose",
    "gpuNum": 0,
    "hideHardwareSpecs": false,
    "memoryGiB": 64,
    "name": "ml.m5.4xlarge",
    "vcpuNum": 16
   },
   {
    "_defaultOrder": 8,
    "_isFastLaunch": false,
    "category": "General purpose",
    "gpuNum": 0,
    "hideHardwareSpecs": false,
    "memoryGiB": 128,
    "name": "ml.m5.8xlarge",
    "vcpuNum": 32
   },
   {
    "_defaultOrder": 9,
    "_isFastLaunch": false,
    "category": "General purpose",
    "gpuNum": 0,
    "hideHardwareSpecs": false,
    "memoryGiB": 192,
    "name": "ml.m5.12xlarge",
    "vcpuNum": 48
   },
   {
    "_defaultOrder": 10,
    "_isFastLaunch": false,
    "category": "General purpose",
    "gpuNum": 0,
    "hideHardwareSpecs": false,
    "memoryGiB": 256,
    "name": "ml.m5.16xlarge",
    "vcpuNum": 64
   },
   {
    "_defaultOrder": 11,
    "_isFastLaunch": false,
    "category": "General purpose",
    "gpuNum": 0,
    "hideHardwareSpecs": false,
    "memoryGiB": 384,
    "name": "ml.m5.24xlarge",
    "vcpuNum": 96
   },
   {
    "_defaultOrder": 12,
    "_isFastLaunch": false,
    "category": "General purpose",
    "gpuNum": 0,
    "hideHardwareSpecs": false,
    "memoryGiB": 8,
    "name": "ml.m5d.large",
    "vcpuNum": 2
   },
   {
    "_defaultOrder": 13,
    "_isFastLaunch": false,
    "category": "General purpose",
    "gpuNum": 0,
    "hideHardwareSpecs": false,
    "memoryGiB": 16,
    "name": "ml.m5d.xlarge",
    "vcpuNum": 4
   },
   {
    "_defaultOrder": 14,
    "_isFastLaunch": false,
    "category": "General purpose",
    "gpuNum": 0,
    "hideHardwareSpecs": false,
    "memoryGiB": 32,
    "name": "ml.m5d.2xlarge",
    "vcpuNum": 8
   },
   {
    "_defaultOrder": 15,
    "_isFastLaunch": false,
    "category": "General purpose",
    "gpuNum": 0,
    "hideHardwareSpecs": false,
    "memoryGiB": 64,
    "name": "ml.m5d.4xlarge",
    "vcpuNum": 16
   },
   {
    "_defaultOrder": 16,
    "_isFastLaunch": false,
    "category": "General purpose",
    "gpuNum": 0,
    "hideHardwareSpecs": false,
    "memoryGiB": 128,
    "name": "ml.m5d.8xlarge",
    "vcpuNum": 32
   },
   {
    "_defaultOrder": 17,
    "_isFastLaunch": false,
    "category": "General purpose",
    "gpuNum": 0,
    "hideHardwareSpecs": false,
    "memoryGiB": 192,
    "name": "ml.m5d.12xlarge",
    "vcpuNum": 48
   },
   {
    "_defaultOrder": 18,
    "_isFastLaunch": false,
    "category": "General purpose",
    "gpuNum": 0,
    "hideHardwareSpecs": false,
    "memoryGiB": 256,
    "name": "ml.m5d.16xlarge",
    "vcpuNum": 64
   },
   {
    "_defaultOrder": 19,
    "_isFastLaunch": false,
    "category": "General purpose",
    "gpuNum": 0,
    "hideHardwareSpecs": false,
    "memoryGiB": 384,
    "name": "ml.m5d.24xlarge",
    "vcpuNum": 96
   },
   {
    "_defaultOrder": 20,
    "_isFastLaunch": false,
    "category": "General purpose",
    "gpuNum": 0,
    "hideHardwareSpecs": true,
    "memoryGiB": 0,
    "name": "ml.geospatial.interactive",
    "supportedImageNames": [
     "sagemaker-geospatial-v1-0"
    ],
    "vcpuNum": 0
   },
   {
    "_defaultOrder": 21,
    "_isFastLaunch": true,
    "category": "Compute optimized",
    "gpuNum": 0,
    "hideHardwareSpecs": false,
    "memoryGiB": 4,
    "name": "ml.c5.large",
    "vcpuNum": 2
   },
   {
    "_defaultOrder": 22,
    "_isFastLaunch": false,
    "category": "Compute optimized",
    "gpuNum": 0,
    "hideHardwareSpecs": false,
    "memoryGiB": 8,
    "name": "ml.c5.xlarge",
    "vcpuNum": 4
   },
   {
    "_defaultOrder": 23,
    "_isFastLaunch": false,
    "category": "Compute optimized",
    "gpuNum": 0,
    "hideHardwareSpecs": false,
    "memoryGiB": 16,
    "name": "ml.c5.2xlarge",
    "vcpuNum": 8
   },
   {
    "_defaultOrder": 24,
    "_isFastLaunch": false,
    "category": "Compute optimized",
    "gpuNum": 0,
    "hideHardwareSpecs": false,
    "memoryGiB": 32,
    "name": "ml.c5.4xlarge",
    "vcpuNum": 16
   },
   {
    "_defaultOrder": 25,
    "_isFastLaunch": false,
    "category": "Compute optimized",
    "gpuNum": 0,
    "hideHardwareSpecs": false,
    "memoryGiB": 72,
    "name": "ml.c5.9xlarge",
    "vcpuNum": 36
   },
   {
    "_defaultOrder": 26,
    "_isFastLaunch": false,
    "category": "Compute optimized",
    "gpuNum": 0,
    "hideHardwareSpecs": false,
    "memoryGiB": 96,
    "name": "ml.c5.12xlarge",
    "vcpuNum": 48
   },
   {
    "_defaultOrder": 27,
    "_isFastLaunch": false,
    "category": "Compute optimized",
    "gpuNum": 0,
    "hideHardwareSpecs": false,
    "memoryGiB": 144,
    "name": "ml.c5.18xlarge",
    "vcpuNum": 72
   },
   {
    "_defaultOrder": 28,
    "_isFastLaunch": false,
    "category": "Compute optimized",
    "gpuNum": 0,
    "hideHardwareSpecs": false,
    "memoryGiB": 192,
    "name": "ml.c5.24xlarge",
    "vcpuNum": 96
   },
   {
    "_defaultOrder": 29,
    "_isFastLaunch": true,
    "category": "Accelerated computing",
    "gpuNum": 1,
    "hideHardwareSpecs": false,
    "memoryGiB": 16,
    "name": "ml.g4dn.xlarge",
    "vcpuNum": 4
   },
   {
    "_defaultOrder": 30,
    "_isFastLaunch": false,
    "category": "Accelerated computing",
    "gpuNum": 1,
    "hideHardwareSpecs": false,
    "memoryGiB": 32,
    "name": "ml.g4dn.2xlarge",
    "vcpuNum": 8
   },
   {
    "_defaultOrder": 31,
    "_isFastLaunch": false,
    "category": "Accelerated computing",
    "gpuNum": 1,
    "hideHardwareSpecs": false,
    "memoryGiB": 64,
    "name": "ml.g4dn.4xlarge",
    "vcpuNum": 16
   },
   {
    "_defaultOrder": 32,
    "_isFastLaunch": false,
    "category": "Accelerated computing",
    "gpuNum": 1,
    "hideHardwareSpecs": false,
    "memoryGiB": 128,
    "name": "ml.g4dn.8xlarge",
    "vcpuNum": 32
   },
   {
    "_defaultOrder": 33,
    "_isFastLaunch": false,
    "category": "Accelerated computing",
    "gpuNum": 4,
    "hideHardwareSpecs": false,
    "memoryGiB": 192,
    "name": "ml.g4dn.12xlarge",
    "vcpuNum": 48
   },
   {
    "_defaultOrder": 34,
    "_isFastLaunch": false,
    "category": "Accelerated computing",
    "gpuNum": 1,
    "hideHardwareSpecs": false,
    "memoryGiB": 256,
    "name": "ml.g4dn.16xlarge",
    "vcpuNum": 64
   },
   {
    "_defaultOrder": 35,
    "_isFastLaunch": false,
    "category": "Accelerated computing",
    "gpuNum": 1,
    "hideHardwareSpecs": false,
    "memoryGiB": 61,
    "name": "ml.p3.2xlarge",
    "vcpuNum": 8
   },
   {
    "_defaultOrder": 36,
    "_isFastLaunch": false,
    "category": "Accelerated computing",
    "gpuNum": 4,
    "hideHardwareSpecs": false,
    "memoryGiB": 244,
    "name": "ml.p3.8xlarge",
    "vcpuNum": 32
   },
   {
    "_defaultOrder": 37,
    "_isFastLaunch": false,
    "category": "Accelerated computing",
    "gpuNum": 8,
    "hideHardwareSpecs": false,
    "memoryGiB": 488,
    "name": "ml.p3.16xlarge",
    "vcpuNum": 64
   },
   {
    "_defaultOrder": 38,
    "_isFastLaunch": false,
    "category": "Accelerated computing",
    "gpuNum": 8,
    "hideHardwareSpecs": false,
    "memoryGiB": 768,
    "name": "ml.p3dn.24xlarge",
    "vcpuNum": 96
   },
   {
    "_defaultOrder": 39,
    "_isFastLaunch": false,
    "category": "Memory Optimized",
    "gpuNum": 0,
    "hideHardwareSpecs": false,
    "memoryGiB": 16,
    "name": "ml.r5.large",
    "vcpuNum": 2
   },
   {
    "_defaultOrder": 40,
    "_isFastLaunch": false,
    "category": "Memory Optimized",
    "gpuNum": 0,
    "hideHardwareSpecs": false,
    "memoryGiB": 32,
    "name": "ml.r5.xlarge",
    "vcpuNum": 4
   },
   {
    "_defaultOrder": 41,
    "_isFastLaunch": false,
    "category": "Memory Optimized",
    "gpuNum": 0,
    "hideHardwareSpecs": false,
    "memoryGiB": 64,
    "name": "ml.r5.2xlarge",
    "vcpuNum": 8
   },
   {
    "_defaultOrder": 42,
    "_isFastLaunch": false,
    "category": "Memory Optimized",
    "gpuNum": 0,
    "hideHardwareSpecs": false,
    "memoryGiB": 128,
    "name": "ml.r5.4xlarge",
    "vcpuNum": 16
   },
   {
    "_defaultOrder": 43,
    "_isFastLaunch": false,
    "category": "Memory Optimized",
    "gpuNum": 0,
    "hideHardwareSpecs": false,
    "memoryGiB": 256,
    "name": "ml.r5.8xlarge",
    "vcpuNum": 32
   },
   {
    "_defaultOrder": 44,
    "_isFastLaunch": false,
    "category": "Memory Optimized",
    "gpuNum": 0,
    "hideHardwareSpecs": false,
    "memoryGiB": 384,
    "name": "ml.r5.12xlarge",
    "vcpuNum": 48
   },
   {
    "_defaultOrder": 45,
    "_isFastLaunch": false,
    "category": "Memory Optimized",
    "gpuNum": 0,
    "hideHardwareSpecs": false,
    "memoryGiB": 512,
    "name": "ml.r5.16xlarge",
    "vcpuNum": 64
   },
   {
    "_defaultOrder": 46,
    "_isFastLaunch": false,
    "category": "Memory Optimized",
    "gpuNum": 0,
    "hideHardwareSpecs": false,
    "memoryGiB": 768,
    "name": "ml.r5.24xlarge",
    "vcpuNum": 96
   },
   {
    "_defaultOrder": 47,
    "_isFastLaunch": false,
    "category": "Accelerated computing",
    "gpuNum": 1,
    "hideHardwareSpecs": false,
    "memoryGiB": 16,
    "name": "ml.g5.xlarge",
    "vcpuNum": 4
   },
   {
    "_defaultOrder": 48,
    "_isFastLaunch": false,
    "category": "Accelerated computing",
    "gpuNum": 1,
    "hideHardwareSpecs": false,
    "memoryGiB": 32,
    "name": "ml.g5.2xlarge",
    "vcpuNum": 8
   },
   {
    "_defaultOrder": 49,
    "_isFastLaunch": false,
    "category": "Accelerated computing",
    "gpuNum": 1,
    "hideHardwareSpecs": false,
    "memoryGiB": 64,
    "name": "ml.g5.4xlarge",
    "vcpuNum": 16
   },
   {
    "_defaultOrder": 50,
    "_isFastLaunch": false,
    "category": "Accelerated computing",
    "gpuNum": 1,
    "hideHardwareSpecs": false,
    "memoryGiB": 128,
    "name": "ml.g5.8xlarge",
    "vcpuNum": 32
   },
   {
    "_defaultOrder": 51,
    "_isFastLaunch": false,
    "category": "Accelerated computing",
    "gpuNum": 1,
    "hideHardwareSpecs": false,
    "memoryGiB": 256,
    "name": "ml.g5.16xlarge",
    "vcpuNum": 64
   },
   {
    "_defaultOrder": 52,
    "_isFastLaunch": false,
    "category": "Accelerated computing",
    "gpuNum": 4,
    "hideHardwareSpecs": false,
    "memoryGiB": 192,
    "name": "ml.g5.12xlarge",
    "vcpuNum": 48
   },
   {
    "_defaultOrder": 53,
    "_isFastLaunch": false,
    "category": "Accelerated computing",
    "gpuNum": 4,
    "hideHardwareSpecs": false,
    "memoryGiB": 384,
    "name": "ml.g5.24xlarge",
    "vcpuNum": 96
   },
   {
    "_defaultOrder": 54,
    "_isFastLaunch": false,
    "category": "Accelerated computing",
    "gpuNum": 8,
    "hideHardwareSpecs": false,
    "memoryGiB": 768,
    "name": "ml.g5.48xlarge",
    "vcpuNum": 192
   },
   {
    "_defaultOrder": 55,
    "_isFastLaunch": false,
    "category": "Accelerated computing",
    "gpuNum": 8,
    "hideHardwareSpecs": false,
    "memoryGiB": 1152,
    "name": "ml.p4d.24xlarge",
    "vcpuNum": 96
   },
   {
    "_defaultOrder": 56,
    "_isFastLaunch": false,
    "category": "Accelerated computing",
    "gpuNum": 8,
    "hideHardwareSpecs": false,
    "memoryGiB": 1152,
    "name": "ml.p4de.24xlarge",
    "vcpuNum": 96
   },
   {
    "_defaultOrder": 57,
    "_isFastLaunch": false,
    "category": "Accelerated computing",
    "gpuNum": 0,
    "hideHardwareSpecs": false,
    "memoryGiB": 32,
    "name": "ml.trn1.2xlarge",
    "vcpuNum": 8
   },
   {
    "_defaultOrder": 58,
    "_isFastLaunch": false,
    "category": "Accelerated computing",
    "gpuNum": 0,
    "hideHardwareSpecs": false,
    "memoryGiB": 512,
    "name": "ml.trn1.32xlarge",
    "vcpuNum": 128
   },
   {
    "_defaultOrder": 59,
    "_isFastLaunch": false,
    "category": "Accelerated computing",
    "gpuNum": 0,
    "hideHardwareSpecs": false,
    "memoryGiB": 512,
    "name": "ml.trn1n.32xlarge",
    "vcpuNum": 128
   }
  ],
  "colab": {
   "collapsed_sections": [],
   "name": "Graduate_Admission_Prediction.ipynb",
   "provenance": [],
   "toc_visible": true
  },
  "instance_type": "ml.t3.medium",
  "kernelspec": {
   "display_name": "Python 3 (Data Science 4.0)",
   "language": "python",
   "name": "python3__SAGEMAKER_INTERNAL__arn:aws:sagemaker:us-east-1:081325390199:image/sagemaker-data-science-311-v1"
  },
  "language_info": {
   "codemirror_mode": {
    "name": "ipython",
    "version": 3
   },
   "file_extension": ".py",
   "mimetype": "text/x-python",
   "name": "python",
   "nbconvert_exporter": "python",
   "pygments_lexer": "ipython3",
   "version": "3.11.9"
  }
 },
 "nbformat": 4,
 "nbformat_minor": 4
}
