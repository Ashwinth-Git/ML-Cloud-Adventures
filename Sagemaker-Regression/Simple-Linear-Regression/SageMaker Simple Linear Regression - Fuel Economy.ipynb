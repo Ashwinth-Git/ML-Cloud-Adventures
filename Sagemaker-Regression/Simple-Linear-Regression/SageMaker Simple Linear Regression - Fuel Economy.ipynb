{
 "cells": [
  {
   "cell_type": "markdown",
   "metadata": {},
   "source": [
    "# PROJECT SOLUTION"
   ]
  },
  {
   "cell_type": "markdown",
   "metadata": {
    "colab_type": "text",
    "id": "zKmFmyaGunc7"
   },
   "source": [
    "# IMPORT KEY LIBRARIES/DATASETS AND PREPARE THE DATA FOR TRAINING"
   ]
  },
  {
   "cell_type": "code",
   "execution_count": 2,
   "metadata": {
    "tags": []
   },
   "outputs": [
    {
     "name": "stdout",
     "output_type": "stream",
     "text": [
      "Package                              Version\n",
      "------------------------------------ --------------\n",
      "ansicolors                           1.1.8\n",
      "anyio                                4.4.0\n",
      "archspec                             0.2.3\n",
      "argon2-cffi                          23.1.0\n",
      "argon2-cffi-bindings                 21.2.0\n",
      "arrow                                1.3.0\n",
      "asttokens                            2.4.1\n",
      "async-lru                            2.0.4\n",
      "attrs                                23.2.0\n",
      "autovizwidget                        0.20.4\n",
      "awscli                               1.33.13\n",
      "Babel                                2.14.0\n",
      "beautifulsoup4                       4.12.3\n",
      "bleach                               6.1.0\n",
      "boltons                              23.1.1\n",
      "boto3                                1.34.131\n",
      "botocore                             1.34.131\n",
      "Brotli                               1.1.0\n",
      "cached-property                      1.5.2\n",
      "certifi                              2024.6.2\n",
      "cffi                                 1.16.0\n",
      "charset-normalizer                   3.3.2\n",
      "click                                8.1.7\n",
      "cloudpickle                          2.2.1\n",
      "colorama                             0.4.6\n",
      "comm                                 0.2.2\n",
      "conda                                24.5.0\n",
      "conda-libmamba-solver                23.12.0\n",
      "conda-package-handling               2.2.0\n",
      "conda_package_streaming              0.9.0\n",
      "contourpy                            1.2.1\n",
      "cryptography                         42.0.8\n",
      "cycler                               0.12.1\n",
      "debugpy                              1.8.1\n",
      "decorator                            5.1.1\n",
      "defusedxml                           0.7.1\n",
      "dill                                 0.3.8\n",
      "distro                               1.8.0\n",
      "docker                               6.1.3\n",
      "docutils                             0.16\n",
      "entrypoints                          0.4\n",
      "exceptiongroup                       1.2.0\n",
      "executing                            2.0.1\n",
      "fastjsonschema                       2.20.0\n",
      "filelock                             3.15.3\n",
      "fonttools                            4.53.0\n",
      "fqdn                                 1.5.1\n",
      "frozendict                           2.4.4\n",
      "fsspec                               2024.6.0\n",
      "future                               1.0.0\n",
      "google-pasta                         0.2.0\n",
      "greenlet                             3.0.3\n",
      "gssapi                               1.8.3\n",
      "h11                                  0.14.0\n",
      "h2                                   4.1.0\n",
      "hdijupyterutils                      0.20.4\n",
      "hpack                                4.0.0\n",
      "httpcore                             1.0.5\n",
      "httpx                                0.27.0\n",
      "hyperframe                           6.0.1\n",
      "idna                                 3.7\n",
      "importlib-metadata                   6.11.0\n",
      "importlib_resources                  6.4.0\n",
      "ipykernel                            6.29.4\n",
      "ipython                              8.25.0\n",
      "ipython_genutils                     0.2.0\n",
      "ipywidgets                           7.8.0\n",
      "isoduration                          20.11.0\n",
      "jedi                                 0.19.1\n",
      "Jinja2                               3.1.4\n",
      "jmespath                             1.0.1\n",
      "joblib                               1.4.2\n",
      "json5                                0.9.25\n",
      "jsonpatch                            1.33\n",
      "jsonpointer                          3.0.0\n",
      "jsonschema                           4.22.0\n",
      "jsonschema-specifications            2023.12.1\n",
      "jupyter                              1.0.0\n",
      "jupyter_client                       7.4.9\n",
      "jupyter-console                      6.6.3\n",
      "jupyter_core                         5.7.2\n",
      "jupyter-events                       0.10.0\n",
      "jupyter-lsp                          2.2.5\n",
      "jupyter_server                       2.14.1\n",
      "jupyter_server_terminals             0.5.3\n",
      "jupyterlab                           4.2.2\n",
      "jupyterlab_pygments                  0.3.0\n",
      "jupyterlab_server                    2.27.2\n",
      "jupyterlab-widgets                   1.1.7\n",
      "kiwisolver                           1.4.5\n",
      "krb5                                 0.5.1\n",
      "libmambapy                           1.5.7\n",
      "mamba                                1.5.7\n",
      "MarkupSafe                           2.1.5\n",
      "matplotlib                           3.8.4\n",
      "matplotlib-inline                    0.1.7\n",
      "menuinst                             2.1.1\n",
      "mistune                              3.0.2\n",
      "multiprocess                         0.70.16\n",
      "munkres                              1.1.4\n",
      "nbclassic                            1.1.0\n",
      "nbclient                             0.10.0\n",
      "nbconvert                            7.16.4\n",
      "nbformat                             5.10.4\n",
      "nest-asyncio                         1.5.5\n",
      "notebook                             6.5.7\n",
      "notebook_shim                        0.2.4\n",
      "numpy                                1.26.4\n",
      "overrides                            7.7.0\n",
      "packaging                            23.2\n",
      "pandas                               2.2.2\n",
      "pandocfilters                        1.5.0\n",
      "papermill                            2.6.0\n",
      "parso                                0.8.4\n",
      "pathos                               0.3.2\n",
      "pexpect                              4.9.0\n",
      "pickleshare                          0.7.5\n",
      "pillow                               10.3.0\n",
      "pip                                  23.3.2\n",
      "pkgutil_resolve_name                 1.3.10\n",
      "platformdirs                         4.1.0\n",
      "plotly                               5.22.0\n",
      "pluggy                               1.3.0\n",
      "ply                                  3.11\n",
      "pox                                  0.3.4\n",
      "ppft                                 1.7.6.8\n",
      "prometheus_client                    0.20.0\n",
      "prompt_toolkit                       3.0.47\n",
      "protobuf                             4.25.3\n",
      "psutil                               5.9.8\n",
      "ptyprocess                           0.7.0\n",
      "pure-eval                            0.2.2\n",
      "pure-sasl                            0.6.2\n",
      "pyarrow                              16.1.0\n",
      "pyasn1                               0.6.0\n",
      "pycosat                              0.6.6\n",
      "pycparser                            2.21\n",
      "pyfunctional                         1.5.0\n",
      "Pygments                             2.18.0\n",
      "PyHive                               0.7.0\n",
      "pyparsing                            3.1.2\n",
      "PyQt5                                5.15.9\n",
      "PyQt5-sip                            12.12.2\n",
      "PySocks                              1.7.1\n",
      "pyspnego                             0.11.0\n",
      "python-dateutil                      2.9.0\n",
      "python-json-logger                   2.0.7\n",
      "pytz                                 2024.1\n",
      "PyYAML                               6.0.1\n",
      "pyzmq                                26.0.3\n",
      "qtconsole                            5.5.2\n",
      "QtPy                                 2.4.1\n",
      "referencing                          0.35.1\n",
      "requests                             2.31.0\n",
      "requests-kerberos                    0.14.0\n",
      "rfc3339-validator                    0.1.4\n",
      "rfc3986-validator                    0.1.1\n",
      "rpds-py                              0.18.1\n",
      "rsa                                  4.7.2\n",
      "ruamel.yaml                          0.18.6\n",
      "ruamel.yaml.clib                     0.2.8\n",
      "s3fs                                 0.4.2\n",
      "s3transfer                           0.10.1\n",
      "sagemaker                            2.224.1\n",
      "sagemaker-data-insights              0.4.0\n",
      "sagemaker-datawrangler               0.4.3\n",
      "sagemaker-headless-execution-driver  0.0.13\n",
      "sagemaker-scikit-learn-extension     2.5.0\n",
      "sagemaker-studio-analytics-extension 0.0.20\n",
      "sagemaker-studio-sparkmagic-lib      0.1.4\n",
      "schema                               0.7.7\n",
      "scikit-learn                         1.5.0\n",
      "scipy                                1.13.1\n",
      "Send2Trash                           1.8.3\n",
      "setuptools                           68.2.2\n",
      "sip                                  6.7.12\n",
      "six                                  1.16.0\n",
      "smclarify                            0.5\n",
      "smdebug-rulesconfig                  1.0.1\n",
      "sniffio                              1.3.1\n",
      "soupsieve                            2.5\n",
      "sparkmagic                           0.20.4\n",
      "SQLAlchemy                           2.0.31\n",
      "stack-data                           0.6.2\n",
      "tabulate                             0.9.0\n",
      "tblib                                3.0.0\n",
      "tenacity                             8.4.1\n",
      "terminado                            0.18.1\n",
      "threadpoolctl                        3.5.0\n",
      "thrift                               0.20.0\n",
      "thrift-sasl                          0.4.3\n",
      "tinycss2                             1.3.0\n",
      "toml                                 0.10.2\n",
      "tomli                                2.0.1\n",
      "tornado                              6.4.1\n",
      "tqdm                                 4.66.1\n",
      "traitlets                            5.14.3\n",
      "truststore                           0.8.0\n",
      "types-python-dateutil                2.9.0.20240316\n",
      "typing_extensions                    4.12.2\n",
      "typing-utils                         0.1.0\n",
      "tzdata                               2024.1\n",
      "uri-template                         1.3.0\n",
      "urllib3                              2.1.0\n",
      "wcwidth                              0.2.13\n",
      "webcolors                            24.6.0\n",
      "webencodings                         0.5.1\n",
      "websocket-client                     1.8.0\n",
      "wheel                                0.42.0\n",
      "widgetsnbextension                   3.6.6\n",
      "zipp                                 3.19.2\n",
      "zstandard                            0.22.0\n"
     ]
    }
   ],
   "source": [
    "!pip list"
   ]
  },
  {
   "cell_type": "code",
   "execution_count": 3,
   "metadata": {
    "tags": []
   },
   "outputs": [
    {
     "name": "stdout",
     "output_type": "stream",
     "text": [
      "Collecting Seaborn\n",
      "  Using cached seaborn-0.13.2-py3-none-any.whl.metadata (5.4 kB)\n",
      "Requirement already satisfied: numpy!=1.24.0,>=1.20 in /opt/conda/lib/python3.11/site-packages (from Seaborn) (1.26.4)\n",
      "Requirement already satisfied: pandas>=1.2 in /opt/conda/lib/python3.11/site-packages (from Seaborn) (2.2.2)\n",
      "Requirement already satisfied: matplotlib!=3.6.1,>=3.4 in /opt/conda/lib/python3.11/site-packages (from Seaborn) (3.8.4)\n",
      "Requirement already satisfied: contourpy>=1.0.1 in /opt/conda/lib/python3.11/site-packages (from matplotlib!=3.6.1,>=3.4->Seaborn) (1.2.1)\n",
      "Requirement already satisfied: cycler>=0.10 in /opt/conda/lib/python3.11/site-packages (from matplotlib!=3.6.1,>=3.4->Seaborn) (0.12.1)\n",
      "Requirement already satisfied: fonttools>=4.22.0 in /opt/conda/lib/python3.11/site-packages (from matplotlib!=3.6.1,>=3.4->Seaborn) (4.53.0)\n",
      "Requirement already satisfied: kiwisolver>=1.3.1 in /opt/conda/lib/python3.11/site-packages (from matplotlib!=3.6.1,>=3.4->Seaborn) (1.4.5)\n",
      "Requirement already satisfied: packaging>=20.0 in /opt/conda/lib/python3.11/site-packages (from matplotlib!=3.6.1,>=3.4->Seaborn) (23.2)\n",
      "Requirement already satisfied: pillow>=8 in /opt/conda/lib/python3.11/site-packages (from matplotlib!=3.6.1,>=3.4->Seaborn) (10.3.0)\n",
      "Requirement already satisfied: pyparsing>=2.3.1 in /opt/conda/lib/python3.11/site-packages (from matplotlib!=3.6.1,>=3.4->Seaborn) (3.1.2)\n",
      "Requirement already satisfied: python-dateutil>=2.7 in /opt/conda/lib/python3.11/site-packages (from matplotlib!=3.6.1,>=3.4->Seaborn) (2.9.0)\n",
      "Requirement already satisfied: pytz>=2020.1 in /opt/conda/lib/python3.11/site-packages (from pandas>=1.2->Seaborn) (2024.1)\n",
      "Requirement already satisfied: tzdata>=2022.7 in /opt/conda/lib/python3.11/site-packages (from pandas>=1.2->Seaborn) (2024.1)\n",
      "Requirement already satisfied: six>=1.5 in /opt/conda/lib/python3.11/site-packages (from python-dateutil>=2.7->matplotlib!=3.6.1,>=3.4->Seaborn) (1.16.0)\n",
      "Using cached seaborn-0.13.2-py3-none-any.whl (294 kB)\n",
      "Installing collected packages: Seaborn\n",
      "Successfully installed Seaborn-0.13.2\n",
      "\u001b[33mWARNING: Running pip as the 'root' user can result in broken permissions and conflicting behaviour with the system package manager. It is recommended to use a virtual environment instead: https://pip.pypa.io/warnings/venv\u001b[0m\u001b[33m\n",
      "\u001b[0m"
     ]
    }
   ],
   "source": [
    "# Install seaborn library\n",
    "!pip install --upgrade Seaborn\n",
    "\n",
    "# Import necessary libraries\n",
    "import pandas as pd\n",
    "import numpy as np\n",
    "import seaborn as sns\n",
    "import matplotlib.pyplot as plt\n"
   ]
  },
  {
   "cell_type": "code",
   "execution_count": 4,
   "metadata": {
    "colab": {},
    "colab_type": "code",
    "id": "tjIiJdM4u1IE",
    "tags": []
   },
   "outputs": [],
   "source": [
    "# Read the data using Pandas \n",
    "fuel_economy_df = pd.read_csv('FuelEconomy.csv')"
   ]
  },
  {
   "cell_type": "code",
   "execution_count": 5,
   "metadata": {
    "colab": {
     "base_uri": "https://localhost:8080/",
     "height": 204
    },
    "colab_type": "code",
    "id": "q4_wPDKCu5Uc",
    "outputId": "886d2aaf-0205-4f46-96a7-629d0f367d2f",
    "tags": []
   },
   "outputs": [
    {
     "data": {
      "text/html": [
       "<div>\n",
       "<style scoped>\n",
       "    .dataframe tbody tr th:only-of-type {\n",
       "        vertical-align: middle;\n",
       "    }\n",
       "\n",
       "    .dataframe tbody tr th {\n",
       "        vertical-align: top;\n",
       "    }\n",
       "\n",
       "    .dataframe thead th {\n",
       "        text-align: right;\n",
       "    }\n",
       "</style>\n",
       "<table border=\"1\" class=\"dataframe\">\n",
       "  <thead>\n",
       "    <tr style=\"text-align: right;\">\n",
       "      <th></th>\n",
       "      <th>Horse Power</th>\n",
       "      <th>Fuel Economy (MPG)</th>\n",
       "    </tr>\n",
       "  </thead>\n",
       "  <tbody>\n",
       "    <tr>\n",
       "      <th>0</th>\n",
       "      <td>118.770799</td>\n",
       "      <td>29.344195</td>\n",
       "    </tr>\n",
       "    <tr>\n",
       "      <th>1</th>\n",
       "      <td>176.326567</td>\n",
       "      <td>24.695934</td>\n",
       "    </tr>\n",
       "    <tr>\n",
       "      <th>2</th>\n",
       "      <td>219.262465</td>\n",
       "      <td>23.952010</td>\n",
       "    </tr>\n",
       "    <tr>\n",
       "      <th>3</th>\n",
       "      <td>187.310009</td>\n",
       "      <td>23.384546</td>\n",
       "    </tr>\n",
       "    <tr>\n",
       "      <th>4</th>\n",
       "      <td>218.594340</td>\n",
       "      <td>23.426739</td>\n",
       "    </tr>\n",
       "    <tr>\n",
       "      <th>...</th>\n",
       "      <td>...</td>\n",
       "      <td>...</td>\n",
       "    </tr>\n",
       "    <tr>\n",
       "      <th>95</th>\n",
       "      <td>162.810542</td>\n",
       "      <td>27.418661</td>\n",
       "    </tr>\n",
       "    <tr>\n",
       "      <th>96</th>\n",
       "      <td>266.869640</td>\n",
       "      <td>15.989945</td>\n",
       "    </tr>\n",
       "    <tr>\n",
       "      <th>97</th>\n",
       "      <td>243.831211</td>\n",
       "      <td>19.253375</td>\n",
       "    </tr>\n",
       "    <tr>\n",
       "      <th>98</th>\n",
       "      <td>140.959803</td>\n",
       "      <td>29.515593</td>\n",
       "    </tr>\n",
       "    <tr>\n",
       "      <th>99</th>\n",
       "      <td>184.123053</td>\n",
       "      <td>25.196097</td>\n",
       "    </tr>\n",
       "  </tbody>\n",
       "</table>\n",
       "<p>100 rows × 2 columns</p>\n",
       "</div>"
      ],
      "text/plain": [
       "    Horse Power  Fuel Economy (MPG)\n",
       "0    118.770799           29.344195\n",
       "1    176.326567           24.695934\n",
       "2    219.262465           23.952010\n",
       "3    187.310009           23.384546\n",
       "4    218.594340           23.426739\n",
       "..          ...                 ...\n",
       "95   162.810542           27.418661\n",
       "96   266.869640           15.989945\n",
       "97   243.831211           19.253375\n",
       "98   140.959803           29.515593\n",
       "99   184.123053           25.196097\n",
       "\n",
       "[100 rows x 2 columns]"
      ]
     },
     "execution_count": 5,
     "metadata": {},
     "output_type": "execute_result"
    }
   ],
   "source": [
    "# View the DataFrame\n",
    "fuel_economy_df"
   ]
  },
  {
   "cell_type": "code",
   "execution_count": 6,
   "metadata": {
    "tags": []
   },
   "outputs": [
    {
     "data": {
      "text/html": [
       "<div>\n",
       "<style scoped>\n",
       "    .dataframe tbody tr th:only-of-type {\n",
       "        vertical-align: middle;\n",
       "    }\n",
       "\n",
       "    .dataframe tbody tr th {\n",
       "        vertical-align: top;\n",
       "    }\n",
       "\n",
       "    .dataframe thead th {\n",
       "        text-align: right;\n",
       "    }\n",
       "</style>\n",
       "<table border=\"1\" class=\"dataframe\">\n",
       "  <thead>\n",
       "    <tr style=\"text-align: right;\">\n",
       "      <th></th>\n",
       "      <th>Horse Power</th>\n",
       "      <th>Fuel Economy (MPG)</th>\n",
       "    </tr>\n",
       "  </thead>\n",
       "  <tbody>\n",
       "    <tr>\n",
       "      <th>0</th>\n",
       "      <td>118.770799</td>\n",
       "      <td>29.344195</td>\n",
       "    </tr>\n",
       "    <tr>\n",
       "      <th>1</th>\n",
       "      <td>176.326567</td>\n",
       "      <td>24.695934</td>\n",
       "    </tr>\n",
       "    <tr>\n",
       "      <th>2</th>\n",
       "      <td>219.262465</td>\n",
       "      <td>23.952010</td>\n",
       "    </tr>\n",
       "    <tr>\n",
       "      <th>3</th>\n",
       "      <td>187.310009</td>\n",
       "      <td>23.384546</td>\n",
       "    </tr>\n",
       "    <tr>\n",
       "      <th>4</th>\n",
       "      <td>218.594340</td>\n",
       "      <td>23.426739</td>\n",
       "    </tr>\n",
       "  </tbody>\n",
       "</table>\n",
       "</div>"
      ],
      "text/plain": [
       "   Horse Power  Fuel Economy (MPG)\n",
       "0   118.770799           29.344195\n",
       "1   176.326567           24.695934\n",
       "2   219.262465           23.952010\n",
       "3   187.310009           23.384546\n",
       "4   218.594340           23.426739"
      ]
     },
     "execution_count": 6,
     "metadata": {},
     "output_type": "execute_result"
    }
   ],
   "source": [
    "fuel_economy_df.head()"
   ]
  },
  {
   "cell_type": "code",
   "execution_count": 7,
   "metadata": {
    "tags": []
   },
   "outputs": [
    {
     "data": {
      "text/html": [
       "<div>\n",
       "<style scoped>\n",
       "    .dataframe tbody tr th:only-of-type {\n",
       "        vertical-align: middle;\n",
       "    }\n",
       "\n",
       "    .dataframe tbody tr th {\n",
       "        vertical-align: top;\n",
       "    }\n",
       "\n",
       "    .dataframe thead th {\n",
       "        text-align: right;\n",
       "    }\n",
       "</style>\n",
       "<table border=\"1\" class=\"dataframe\">\n",
       "  <thead>\n",
       "    <tr style=\"text-align: right;\">\n",
       "      <th></th>\n",
       "      <th>Horse Power</th>\n",
       "      <th>Fuel Economy (MPG)</th>\n",
       "    </tr>\n",
       "  </thead>\n",
       "  <tbody>\n",
       "    <tr>\n",
       "      <th>95</th>\n",
       "      <td>162.810542</td>\n",
       "      <td>27.418661</td>\n",
       "    </tr>\n",
       "    <tr>\n",
       "      <th>96</th>\n",
       "      <td>266.869640</td>\n",
       "      <td>15.989945</td>\n",
       "    </tr>\n",
       "    <tr>\n",
       "      <th>97</th>\n",
       "      <td>243.831211</td>\n",
       "      <td>19.253375</td>\n",
       "    </tr>\n",
       "    <tr>\n",
       "      <th>98</th>\n",
       "      <td>140.959803</td>\n",
       "      <td>29.515593</td>\n",
       "    </tr>\n",
       "    <tr>\n",
       "      <th>99</th>\n",
       "      <td>184.123053</td>\n",
       "      <td>25.196097</td>\n",
       "    </tr>\n",
       "  </tbody>\n",
       "</table>\n",
       "</div>"
      ],
      "text/plain": [
       "    Horse Power  Fuel Economy (MPG)\n",
       "95   162.810542           27.418661\n",
       "96   266.869640           15.989945\n",
       "97   243.831211           19.253375\n",
       "98   140.959803           29.515593\n",
       "99   184.123053           25.196097"
      ]
     },
     "execution_count": 7,
     "metadata": {},
     "output_type": "execute_result"
    }
   ],
   "source": [
    "fuel_economy_df.tail()"
   ]
  },
  {
   "cell_type": "code",
   "execution_count": 8,
   "metadata": {
    "colab": {},
    "colab_type": "code",
    "id": "4OXZB2F21e4H",
    "tags": []
   },
   "outputs": [],
   "source": [
    "# Separate the data into input X and Output y\n",
    "X = fuel_economy_df[['Horse Power']]\n",
    "y = fuel_economy_df[['Fuel Economy (MPG)']]"
   ]
  },
  {
   "cell_type": "code",
   "execution_count": 9,
   "metadata": {
    "scrolled": true,
    "tags": []
   },
   "outputs": [
    {
     "data": {
      "text/html": [
       "<div>\n",
       "<style scoped>\n",
       "    .dataframe tbody tr th:only-of-type {\n",
       "        vertical-align: middle;\n",
       "    }\n",
       "\n",
       "    .dataframe tbody tr th {\n",
       "        vertical-align: top;\n",
       "    }\n",
       "\n",
       "    .dataframe thead th {\n",
       "        text-align: right;\n",
       "    }\n",
       "</style>\n",
       "<table border=\"1\" class=\"dataframe\">\n",
       "  <thead>\n",
       "    <tr style=\"text-align: right;\">\n",
       "      <th></th>\n",
       "      <th>Horse Power</th>\n",
       "    </tr>\n",
       "  </thead>\n",
       "  <tbody>\n",
       "    <tr>\n",
       "      <th>0</th>\n",
       "      <td>118.770799</td>\n",
       "    </tr>\n",
       "    <tr>\n",
       "      <th>1</th>\n",
       "      <td>176.326567</td>\n",
       "    </tr>\n",
       "    <tr>\n",
       "      <th>2</th>\n",
       "      <td>219.262465</td>\n",
       "    </tr>\n",
       "    <tr>\n",
       "      <th>3</th>\n",
       "      <td>187.310009</td>\n",
       "    </tr>\n",
       "    <tr>\n",
       "      <th>4</th>\n",
       "      <td>218.594340</td>\n",
       "    </tr>\n",
       "    <tr>\n",
       "      <th>...</th>\n",
       "      <td>...</td>\n",
       "    </tr>\n",
       "    <tr>\n",
       "      <th>95</th>\n",
       "      <td>162.810542</td>\n",
       "    </tr>\n",
       "    <tr>\n",
       "      <th>96</th>\n",
       "      <td>266.869640</td>\n",
       "    </tr>\n",
       "    <tr>\n",
       "      <th>97</th>\n",
       "      <td>243.831211</td>\n",
       "    </tr>\n",
       "    <tr>\n",
       "      <th>98</th>\n",
       "      <td>140.959803</td>\n",
       "    </tr>\n",
       "    <tr>\n",
       "      <th>99</th>\n",
       "      <td>184.123053</td>\n",
       "    </tr>\n",
       "  </tbody>\n",
       "</table>\n",
       "<p>100 rows × 1 columns</p>\n",
       "</div>"
      ],
      "text/plain": [
       "    Horse Power\n",
       "0    118.770799\n",
       "1    176.326567\n",
       "2    219.262465\n",
       "3    187.310009\n",
       "4    218.594340\n",
       "..          ...\n",
       "95   162.810542\n",
       "96   266.869640\n",
       "97   243.831211\n",
       "98   140.959803\n",
       "99   184.123053\n",
       "\n",
       "[100 rows x 1 columns]"
      ]
     },
     "execution_count": 9,
     "metadata": {},
     "output_type": "execute_result"
    }
   ],
   "source": [
    "X"
   ]
  },
  {
   "cell_type": "code",
   "execution_count": 10,
   "metadata": {
    "tags": []
   },
   "outputs": [
    {
     "data": {
      "text/html": [
       "<div>\n",
       "<style scoped>\n",
       "    .dataframe tbody tr th:only-of-type {\n",
       "        vertical-align: middle;\n",
       "    }\n",
       "\n",
       "    .dataframe tbody tr th {\n",
       "        vertical-align: top;\n",
       "    }\n",
       "\n",
       "    .dataframe thead th {\n",
       "        text-align: right;\n",
       "    }\n",
       "</style>\n",
       "<table border=\"1\" class=\"dataframe\">\n",
       "  <thead>\n",
       "    <tr style=\"text-align: right;\">\n",
       "      <th></th>\n",
       "      <th>Fuel Economy (MPG)</th>\n",
       "    </tr>\n",
       "  </thead>\n",
       "  <tbody>\n",
       "    <tr>\n",
       "      <th>0</th>\n",
       "      <td>29.344195</td>\n",
       "    </tr>\n",
       "    <tr>\n",
       "      <th>1</th>\n",
       "      <td>24.695934</td>\n",
       "    </tr>\n",
       "    <tr>\n",
       "      <th>2</th>\n",
       "      <td>23.952010</td>\n",
       "    </tr>\n",
       "    <tr>\n",
       "      <th>3</th>\n",
       "      <td>23.384546</td>\n",
       "    </tr>\n",
       "    <tr>\n",
       "      <th>4</th>\n",
       "      <td>23.426739</td>\n",
       "    </tr>\n",
       "    <tr>\n",
       "      <th>...</th>\n",
       "      <td>...</td>\n",
       "    </tr>\n",
       "    <tr>\n",
       "      <th>95</th>\n",
       "      <td>27.418661</td>\n",
       "    </tr>\n",
       "    <tr>\n",
       "      <th>96</th>\n",
       "      <td>15.989945</td>\n",
       "    </tr>\n",
       "    <tr>\n",
       "      <th>97</th>\n",
       "      <td>19.253375</td>\n",
       "    </tr>\n",
       "    <tr>\n",
       "      <th>98</th>\n",
       "      <td>29.515593</td>\n",
       "    </tr>\n",
       "    <tr>\n",
       "      <th>99</th>\n",
       "      <td>25.196097</td>\n",
       "    </tr>\n",
       "  </tbody>\n",
       "</table>\n",
       "<p>100 rows × 1 columns</p>\n",
       "</div>"
      ],
      "text/plain": [
       "    Fuel Economy (MPG)\n",
       "0            29.344195\n",
       "1            24.695934\n",
       "2            23.952010\n",
       "3            23.384546\n",
       "4            23.426739\n",
       "..                 ...\n",
       "95           27.418661\n",
       "96           15.989945\n",
       "97           19.253375\n",
       "98           29.515593\n",
       "99           25.196097\n",
       "\n",
       "[100 rows x 1 columns]"
      ]
     },
     "execution_count": 10,
     "metadata": {},
     "output_type": "execute_result"
    }
   ],
   "source": [
    "y"
   ]
  },
  {
   "cell_type": "code",
   "execution_count": 11,
   "metadata": {
    "colab": {
     "base_uri": "https://localhost:8080/",
     "height": 34
    },
    "colab_type": "code",
    "id": "XpGU63Ne1e9P",
    "outputId": "e16c74ca-dc1c-416c-dc44-7f927bb99bc6",
    "tags": []
   },
   "outputs": [
    {
     "data": {
      "text/plain": [
       "(100, 1)"
      ]
     },
     "execution_count": 11,
     "metadata": {},
     "output_type": "execute_result"
    }
   ],
   "source": [
    "# Check out the shape of the input\n",
    "X.shape"
   ]
  },
  {
   "cell_type": "code",
   "execution_count": 12,
   "metadata": {
    "colab": {
     "base_uri": "https://localhost:8080/",
     "height": 34
    },
    "colab_type": "code",
    "id": "OjGj0RALA0qZ",
    "outputId": "26559a6c-880b-45b4-a1e8-3c4b92bea889",
    "tags": []
   },
   "outputs": [
    {
     "data": {
      "text/plain": [
       "(100, 1)"
      ]
     },
     "execution_count": 12,
     "metadata": {},
     "output_type": "execute_result"
    }
   ],
   "source": [
    "# Check out the shape of the output\n",
    "y.shape"
   ]
  },
  {
   "cell_type": "code",
   "execution_count": 13,
   "metadata": {
    "colab": {},
    "colab_type": "code",
    "id": "jIeiK1maA6mm",
    "tags": []
   },
   "outputs": [],
   "source": [
    "# Convert the datatype to float32\n",
    "X = np.array(X).astype('float32')\n",
    "y = np.array(y).astype('float32')"
   ]
  },
  {
   "cell_type": "code",
   "execution_count": 14,
   "metadata": {
    "tags": []
   },
   "outputs": [
    {
     "data": {
      "text/plain": [
       "array([[118.7708  ],\n",
       "       [176.32657 ],\n",
       "       [219.26247 ],\n",
       "       [187.31001 ],\n",
       "       [218.59435 ],\n",
       "       [175.8381  ],\n",
       "       [271.44162 ],\n",
       "       [294.4259  ],\n",
       "       [126.211006],\n",
       "       [163.35034 ],\n",
       "       [321.84076 ],\n",
       "       [120.48424 ],\n",
       "       [155.41537 ],\n",
       "       [191.71481 ],\n",
       "       [211.72911 ],\n",
       "       [259.1832  ],\n",
       "       [236.57173 ],\n",
       "       [191.09897 ],\n",
       "       [123.8857  ],\n",
       "       [136.30646 ],\n",
       "       [212.73895 ],\n",
       "       [232.44995 ],\n",
       "       [122.04016 ],\n",
       "       [140.43231 ],\n",
       "       [243.34784 ],\n",
       "       [178.43028 ],\n",
       "       [258.42422 ],\n",
       "       [231.8549  ],\n",
       "       [ 91.44026 ],\n",
       "       [119.53666 ],\n",
       "       [350.      ],\n",
       "       [175.97922 ],\n",
       "       [312.49222 ],\n",
       "       [282.60425 ],\n",
       "       [138.26474 ],\n",
       "       [301.05417 ],\n",
       "       [227.8735  ],\n",
       "       [ 50.      ],\n",
       "       [152.34785 ],\n",
       "       [252.55238 ],\n",
       "       [218.10709 ],\n",
       "       [172.64366 ],\n",
       "       [243.73724 ],\n",
       "       [186.04004 ],\n",
       "       [227.67047 ],\n",
       "       [132.66957 ],\n",
       "       [196.85954 ],\n",
       "       [244.35834 ],\n",
       "       [161.41107 ],\n",
       "       [133.82306 ],\n",
       "       [150.50624 ],\n",
       "       [290.8872  ],\n",
       "       [245.8204  ],\n",
       "       [250.70929 ],\n",
       "       [272.90573 ],\n",
       "       [199.14764 ],\n",
       "       [251.4245  ],\n",
       "       [284.9286  ],\n",
       "       [201.62646 ],\n",
       "       [173.93932 ],\n",
       "       [230.46268 ],\n",
       "       [289.49    ],\n",
       "       [220.72095 ],\n",
       "       [212.08304 ],\n",
       "       [188.50523 ],\n",
       "       [181.06793 ],\n",
       "       [245.55965 ],\n",
       "       [ 84.57199 ],\n",
       "       [311.75745 ],\n",
       "       [315.8175  ],\n",
       "       [223.17964 ],\n",
       "       [299.53046 ],\n",
       "       [175.3489  ],\n",
       "       [261.8521  ],\n",
       "       [258.30835 ],\n",
       "       [220.09859 ],\n",
       "       [214.4845  ],\n",
       "       [320.95135 ],\n",
       "       [258.65988 ],\n",
       "       [236.46445 ],\n",
       "       [198.95831 ],\n",
       "       [249.884   ],\n",
       "       [216.2812  ],\n",
       "       [232.21661 ],\n",
       "       [224.34207 ],\n",
       "       [238.83649 ],\n",
       "       [331.6986  ],\n",
       "       [106.25756 ],\n",
       "       [203.57166 ],\n",
       "       [342.90625 ],\n",
       "       [237.67308 ],\n",
       "       [205.0468  ],\n",
       "       [227.38013 ],\n",
       "       [131.54211 ],\n",
       "       [260.67444 ],\n",
       "       [162.81055 ],\n",
       "       [266.86963 ],\n",
       "       [243.8312  ],\n",
       "       [140.95981 ],\n",
       "       [184.12305 ]], dtype=float32)"
      ]
     },
     "execution_count": 14,
     "metadata": {},
     "output_type": "execute_result"
    }
   ],
   "source": [
    "# Only take the numerical variables and scale them\n",
    "X "
   ]
  },
  {
   "cell_type": "code",
   "execution_count": 15,
   "metadata": {
    "tags": []
   },
   "outputs": [
    {
     "data": {
      "text/plain": [
       "array([[29.344194],\n",
       "       [24.695934],\n",
       "       [23.95201 ],\n",
       "       [23.384546],\n",
       "       [23.426739],\n",
       "       [24.17357 ],\n",
       "       [17.163584],\n",
       "       [17.274218],\n",
       "       [28.71821 ],\n",
       "       [28.289516],\n",
       "       [17.300629],\n",
       "       [29.678637],\n",
       "       [27.29493 ],\n",
       "       [23.556728],\n",
       "       [25.341892],\n",
       "       [20.467373],\n",
       "       [23.18528 ],\n",
       "       [24.98963 ],\n",
       "       [29.39333 ],\n",
       "       [31.497429],\n",
       "       [23.204744],\n",
       "       [22.313051],\n",
       "       [31.796612],\n",
       "       [28.882082],\n",
       "       [21.62337 ],\n",
       "       [23.719584],\n",
       "       [21.167343],\n",
       "       [24.829824],\n",
       "       [31.806707],\n",
       "       [30.392612],\n",
       "       [14.589079],\n",
       "       [26.188478],\n",
       "       [15.618957],\n",
       "       [15.676315],\n",
       "       [27.473415],\n",
       "       [15.72565 ],\n",
       "       [23.488811],\n",
       "       [35.      ],\n",
       "       [27.094412],\n",
       "       [20.40757 ],\n",
       "       [23.299372],\n",
       "       [27.387012],\n",
       "       [21.442703],\n",
       "       [26.897066],\n",
       "       [21.205986],\n",
       "       [26.778149],\n",
       "       [24.35585 ],\n",
       "       [19.53677 ],\n",
       "       [27.544626],\n",
       "       [30.674803],\n",
       "       [25.345633],\n",
       "       [17.873266],\n",
       "       [22.84971 ],\n",
       "       [20.291765],\n",
       "       [20.898079],\n",
       "       [23.011194],\n",
       "       [22.965773],\n",
       "       [18.87835 ],\n",
       "       [22.937653],\n",
       "       [25.12965 ],\n",
       "       [20.715721],\n",
       "       [20.450163],\n",
       "       [23.05918 ],\n",
       "       [21.726252],\n",
       "       [23.11416 ],\n",
       "       [25.575085],\n",
       "       [19.14    ],\n",
       "       [34.114025],\n",
       "       [17.62748 ],\n",
       "       [16.831188],\n",
       "       [23.307192],\n",
       "       [16.693369],\n",
       "       [26.057085],\n",
       "       [21.0504  ],\n",
       "       [21.261778],\n",
       "       [21.582644],\n",
       "       [22.183092],\n",
       "       [15.441711],\n",
       "       [20.470676],\n",
       "       [19.367336],\n",
       "       [23.172222],\n",
       "       [21.13943 ],\n",
       "       [21.595627],\n",
       "       [21.21636 ],\n",
       "       [21.701202],\n",
       "       [19.674093],\n",
       "       [15.837969],\n",
       "       [31.722565],\n",
       "       [24.826199],\n",
       "       [10.      ],\n",
       "       [19.723461],\n",
       "       [25.286955],\n",
       "       [24.181108],\n",
       "       [29.397568],\n",
       "       [17.802706],\n",
       "       [27.418661],\n",
       "       [15.989944],\n",
       "       [19.253376],\n",
       "       [29.515593],\n",
       "       [25.196098]], dtype=float32)"
      ]
     },
     "execution_count": 15,
     "metadata": {},
     "output_type": "execute_result"
    }
   ],
   "source": [
    "y"
   ]
  },
  {
   "cell_type": "code",
   "execution_count": 25,
   "metadata": {
    "colab": {},
    "colab_type": "code",
    "id": "GoReLFfnA6uF",
    "tags": []
   },
   "outputs": [],
   "source": [
    "# Split the data into training and testing(20%) using SkLearn Library\n",
    "from sklearn.model_selection import train_test_split\n",
    "X_train, X_test, y_train, y_test = train_test_split(X, y, test_size = 0.2)"
   ]
  },
  {
   "cell_type": "markdown",
   "metadata": {},
   "source": [
    "# TASK #2: TRAIN A LINEAR LEARNER MODEL USING AWS SAGEMAKER (SDK 2.0)"
   ]
  },
  {
   "cell_type": "code",
   "execution_count": 26,
   "metadata": {
    "tags": []
   },
   "outputs": [
    {
     "name": "stdout",
     "output_type": "stream",
     "text": [
      "arn:aws:iam::588738589118:role/service-role/AmazonSageMaker-ExecutionRole-20241129T190553\n"
     ]
    }
   ],
   "source": [
    "# Boto3 is the Amazon Web Services (AWS) Software Development Kit (SDK) for Python\n",
    "# Boto3 allows Python developer to write software that makes use of services like Amazon S3 and Amazon EC2\n",
    "\n",
    "import sagemaker\n",
    "import boto3\n",
    "\n",
    "# Let's create a Sagemaker session\n",
    "sagemaker_session = sagemaker.Session()\n",
    "\n",
    "# Let's define the S3 bucket and prefix that we want to use in this session\n",
    "bucket = 'ml-lab-sagemaker' # bucket need to be created beforehand\n",
    "prefix = 'linear_learner_fuel_economy' # prefix is the subfolder within the bucket.\n",
    "\n",
    "# Let's get the execution role for the notebook instance. \n",
    "# This is the IAM role that you created when you created your notebook instance. You pass the role to the training job.\n",
    "# Note that AWS Identity and Access Management (IAM) role that Amazon SageMaker can assume to perform tasks on your behalf (for example, reading training results, called model artifacts, from the S3 bucket and writing training results to Amazon S3). \n",
    "role = sagemaker.get_execution_role()\n",
    "print(role)"
   ]
  },
  {
   "cell_type": "code",
   "execution_count": 27,
   "metadata": {
    "tags": []
   },
   "outputs": [
    {
     "data": {
      "text/plain": [
       "(80, 1)"
      ]
     },
     "execution_count": 27,
     "metadata": {},
     "output_type": "execute_result"
    }
   ],
   "source": [
    "X_train.shape"
   ]
  },
  {
   "cell_type": "code",
   "execution_count": 28,
   "metadata": {
    "tags": []
   },
   "outputs": [],
   "source": [
    "y_train = y_train[:,0]"
   ]
  },
  {
   "cell_type": "code",
   "execution_count": 29,
   "metadata": {
    "tags": []
   },
   "outputs": [
    {
     "data": {
      "text/plain": [
       "(80,)"
      ]
     },
     "execution_count": 29,
     "metadata": {},
     "output_type": "execute_result"
    }
   ],
   "source": [
    "y_train.shape"
   ]
  },
  {
   "cell_type": "code",
   "execution_count": 30,
   "metadata": {
    "tags": []
   },
   "outputs": [
    {
     "data": {
      "text/plain": [
       "0"
      ]
     },
     "execution_count": 30,
     "metadata": {},
     "output_type": "execute_result"
    }
   ],
   "source": [
    "import io # The io module allows for dealing with various types of I/O (text I/O, binary I/O and raw I/O). \n",
    "import numpy as np\n",
    "import sagemaker.amazon.common as smac # sagemaker common libary\n",
    "\n",
    "# Code below converts the data in numpy array format to RecordIO format\n",
    "# This is the format required by Sagemaker Linear Learner \n",
    "\n",
    "buf = io.BytesIO() # create an in-memory byte array (buf is a buffer I will be writing to)\n",
    "smac.write_numpy_to_dense_tensor(buf, X_train, y_train)\n",
    "buf.seek(0) \n",
    "# When you write to in-memory byte arrays, it increments 1 every time you write to it\n",
    "# Let's reset that back to zero \n"
   ]
  },
  {
   "cell_type": "code",
   "execution_count": 31,
   "metadata": {
    "tags": []
   },
   "outputs": [
    {
     "name": "stdout",
     "output_type": "stream",
     "text": [
      "uploaded training data location: s3://ml-lab-sagemaker/linear_learner_fuel_economy/train/linear-train-data\n"
     ]
    }
   ],
   "source": [
    "import os\n",
    "\n",
    "# Code to upload RecordIO data to S3\n",
    " \n",
    "# Key refers to the name of the file    \n",
    "key = 'linear-train-data'\n",
    "\n",
    "# The following code uploads the data in record-io format to S3 bucket to be accessed later for training\n",
    "boto3.resource('s3').Bucket(bucket).Object(os.path.join(prefix, 'train', key)).upload_fileobj(buf)\n",
    "\n",
    "# Let's print out the training data location in s3\n",
    "s3_train_data = 's3://{}/{}/train/{}'.format(bucket, prefix, key)\n",
    "print('uploaded training data location: {}'.format(s3_train_data))"
   ]
  },
  {
   "cell_type": "code",
   "execution_count": 32,
   "metadata": {
    "tags": []
   },
   "outputs": [
    {
     "data": {
      "text/plain": [
       "(20, 1)"
      ]
     },
     "execution_count": 32,
     "metadata": {},
     "output_type": "execute_result"
    }
   ],
   "source": [
    "X_test.shape"
   ]
  },
  {
   "cell_type": "code",
   "execution_count": 33,
   "metadata": {
    "tags": []
   },
   "outputs": [
    {
     "data": {
      "text/plain": [
       "(20, 1)"
      ]
     },
     "execution_count": 33,
     "metadata": {},
     "output_type": "execute_result"
    }
   ],
   "source": [
    "y_test.shape"
   ]
  },
  {
   "cell_type": "code",
   "execution_count": 34,
   "metadata": {
    "tags": []
   },
   "outputs": [],
   "source": [
    "# Make sure that the target label is a vector\n",
    "y_test = y_test[:,0]\n"
   ]
  },
  {
   "cell_type": "code",
   "execution_count": 35,
   "metadata": {
    "tags": []
   },
   "outputs": [
    {
     "data": {
      "text/plain": [
       "0"
      ]
     },
     "execution_count": 35,
     "metadata": {},
     "output_type": "execute_result"
    }
   ],
   "source": [
    "# Code to upload RecordIO data to S3\n",
    "\n",
    "buf = io.BytesIO() # create an in-memory byte array (buf is a buffer I will be writing to)\n",
    "smac.write_numpy_to_dense_tensor(buf, X_test, y_test)\n",
    "buf.seek(0) \n",
    "# When you write to in-memory byte arrays, it increments 1 every time you write to it\n",
    "# Let's reset that back to zero \n"
   ]
  },
  {
   "cell_type": "code",
   "execution_count": 36,
   "metadata": {
    "tags": []
   },
   "outputs": [
    {
     "name": "stdout",
     "output_type": "stream",
     "text": [
      "uploaded training data location: s3://ml-lab-sagemaker/linear_learner_fuel_economy/test/linear-test-data\n"
     ]
    }
   ],
   "source": [
    "# Key refers to the name of the file    \n",
    "key = 'linear-test-data'\n",
    "\n",
    "# The following code uploads the data in record-io format to S3 bucket to be accessed later for training\n",
    "boto3.resource('s3').Bucket(bucket).Object(os.path.join(prefix, 'test', key)).upload_fileobj(buf)\n",
    "\n",
    "# Let's print out the testing data location in s3\n",
    "s3_test_data = 's3://{}/{}/test/{}'.format(bucket, prefix, key)\n",
    "print('uploaded training data location: {}'.format(s3_test_data))"
   ]
  },
  {
   "cell_type": "code",
   "execution_count": 37,
   "metadata": {
    "tags": []
   },
   "outputs": [
    {
     "name": "stdout",
     "output_type": "stream",
     "text": [
      "Training artifacts will be uploaded to: s3://ml-lab-sagemaker/linear_learner_fuel_economy/output\n"
     ]
    }
   ],
   "source": [
    "# create an output placeholder in S3 bucket to store the linear learner output\n",
    "\n",
    "output_location = 's3://{}/{}/output'.format(bucket, prefix)\n",
    "print('Training artifacts will be uploaded to: {}'.format(output_location))"
   ]
  },
  {
   "cell_type": "code",
   "execution_count": 38,
   "metadata": {
    "tags": []
   },
   "outputs": [],
   "source": [
    "# Note that this code leverages the new SageMaker SDK 2.0\n",
    "# Check this for the list of changes from AWS SageMaker SDK 1.0 to 2.0: https://sagemaker.readthedocs.io/en/stable/v2.html\n",
    "\n",
    "# This code is used to get the training container of sagemaker built-in algorithms\n",
    "# all we have to do is to specify the name of the algorithm that we want to use\n",
    "\n",
    "# Let's obtain a reference to the linearLearner container image\n",
    "# Note that all regression models are named estimators\n",
    "# You don't have to specify (hardcode) the region, get_image_uri will get the current region name using boto3.Session\n",
    "container = sagemaker.image_uris.retrieve(\"linear-learner\", boto3.Session().region_name)\n",
    "\n",
    "\n",
    "# This is using the old AWS SageMAker SDK 1.0 (You need to use get_image_uri and note that attribute order is different as well)\n",
    "# from sagemaker.amazon.amazon_estimator import get_image_uri\n",
    "# container = get_image_uri(boto3.Session().region_name, 'linear-learner')"
   ]
  },
  {
   "cell_type": "code",
   "execution_count": 39,
   "metadata": {
    "tags": []
   },
   "outputs": [
    {
     "name": "stderr",
     "output_type": "stream",
     "text": [
      "INFO:sagemaker:Creating training-job with name: linear-learner-2024-12-02-11-59-58-429\n"
     ]
    },
    {
     "name": "stdout",
     "output_type": "stream",
     "text": [
      "2024-12-02 11:59:58 Starting - Starting the training job...\n",
      "2024-12-02 12:00:16 Starting - Preparing the instances for training...\n",
      "2024-12-02 12:00:40 Downloading - Downloading input data...\n",
      "2024-12-02 12:01:11 Downloading - Downloading the training image......\n",
      "2024-12-02 12:02:22 Training - Training image download completed. Training in progress....\n",
      "2024-12-02 12:02:57 Uploading - Uploading generated training model\u001b[34mDocker entrypoint called with argument(s): train\u001b[0m\n",
      "\u001b[34mRunning default environment configuration script\u001b[0m\n",
      "\u001b[34m[12/02/2024 12:02:44 INFO 140555045136192] Reading default configuration from /opt/amazon/lib/python3.8/site-packages/algorithm/resources/default-input.json: {'mini_batch_size': '1000', 'epochs': '15', 'feature_dim': 'auto', 'use_bias': 'true', 'binary_classifier_model_selection_criteria': 'accuracy', 'f_beta': '1.0', 'target_recall': '0.8', 'target_precision': '0.8', 'num_models': 'auto', 'num_calibration_samples': '10000000', 'init_method': 'uniform', 'init_scale': '0.07', 'init_sigma': '0.01', 'init_bias': '0.0', 'optimizer': 'auto', 'loss': 'auto', 'margin': '1.0', 'quantile': '0.5', 'loss_insensitivity': '0.01', 'huber_delta': '1.0', 'num_classes': '1', 'accuracy_top_k': '3', 'wd': 'auto', 'l1': 'auto', 'momentum': 'auto', 'learning_rate': 'auto', 'beta_1': 'auto', 'beta_2': 'auto', 'bias_lr_mult': 'auto', 'bias_wd_mult': 'auto', 'use_lr_scheduler': 'true', 'lr_scheduler_step': 'auto', 'lr_scheduler_factor': 'auto', 'lr_scheduler_minimum_lr': 'auto', 'positive_example_weight_mult': '1.0', 'balance_multiclass_weights': 'false', 'normalize_data': 'true', 'normalize_label': 'auto', 'unbias_data': 'auto', 'unbias_label': 'auto', 'num_point_for_scaler': '10000', '_kvstore': 'auto', '_num_gpus': 'auto', '_num_kv_servers': 'auto', '_log_level': 'info', '_tuning_objective_metric': '', 'early_stopping_patience': '3', 'early_stopping_tolerance': '0.001', '_enable_profiler': 'false'}\u001b[0m\n",
      "\u001b[34m[12/02/2024 12:02:44 INFO 140555045136192] Merging with provided configuration from /opt/ml/input/config/hyperparameters.json: {'epochs': '5', 'feature_dim': '1', 'loss': 'absolute_loss', 'mini_batch_size': '5', 'num_models': '32', 'predictor_type': 'regressor'}\u001b[0m\n",
      "\u001b[34m[12/02/2024 12:02:44 INFO 140555045136192] Final configuration: {'mini_batch_size': '5', 'epochs': '5', 'feature_dim': '1', 'use_bias': 'true', 'binary_classifier_model_selection_criteria': 'accuracy', 'f_beta': '1.0', 'target_recall': '0.8', 'target_precision': '0.8', 'num_models': '32', 'num_calibration_samples': '10000000', 'init_method': 'uniform', 'init_scale': '0.07', 'init_sigma': '0.01', 'init_bias': '0.0', 'optimizer': 'auto', 'loss': 'absolute_loss', 'margin': '1.0', 'quantile': '0.5', 'loss_insensitivity': '0.01', 'huber_delta': '1.0', 'num_classes': '1', 'accuracy_top_k': '3', 'wd': 'auto', 'l1': 'auto', 'momentum': 'auto', 'learning_rate': 'auto', 'beta_1': 'auto', 'beta_2': 'auto', 'bias_lr_mult': 'auto', 'bias_wd_mult': 'auto', 'use_lr_scheduler': 'true', 'lr_scheduler_step': 'auto', 'lr_scheduler_factor': 'auto', 'lr_scheduler_minimum_lr': 'auto', 'positive_example_weight_mult': '1.0', 'balance_multiclass_weights': 'false', 'normalize_data': 'true', 'normalize_label': 'auto', 'unbias_data': 'auto', 'unbias_label': 'auto', 'num_point_for_scaler': '10000', '_kvstore': 'auto', '_num_gpus': 'auto', '_num_kv_servers': 'auto', '_log_level': 'info', '_tuning_objective_metric': '', 'early_stopping_patience': '3', 'early_stopping_tolerance': '0.001', '_enable_profiler': 'false', 'predictor_type': 'regressor'}\u001b[0m\n",
      "\u001b[34m/opt/amazon/lib/python3.8/site-packages/mxnet/model.py:97: SyntaxWarning: \"is\" with a literal. Did you mean \"==\"?\n",
      "  if num_device is 1 and 'dist' not in kvstore:\u001b[0m\n",
      "\u001b[34m/opt/amazon/lib/python3.8/site-packages/scipy/optimize/_shgo.py:495: SyntaxWarning: \"is\" with a literal. Did you mean \"==\"?\n",
      "  if cons['type'] is 'ineq':\u001b[0m\n",
      "\u001b[34m/opt/amazon/lib/python3.8/site-packages/scipy/optimize/_shgo.py:743: SyntaxWarning: \"is not\" with a literal. Did you mean \"!=\"?\n",
      "  if len(self.X_min) is not 0:\u001b[0m\n",
      "\u001b[34m[12/02/2024 12:02:47 WARNING 140555045136192] Loggers have already been setup.\u001b[0m\n",
      "\u001b[34m[12/02/2024 12:02:47 INFO 140555045136192] Final configuration: {'mini_batch_size': '5', 'epochs': '5', 'feature_dim': '1', 'use_bias': 'true', 'binary_classifier_model_selection_criteria': 'accuracy', 'f_beta': '1.0', 'target_recall': '0.8', 'target_precision': '0.8', 'num_models': '32', 'num_calibration_samples': '10000000', 'init_method': 'uniform', 'init_scale': '0.07', 'init_sigma': '0.01', 'init_bias': '0.0', 'optimizer': 'auto', 'loss': 'absolute_loss', 'margin': '1.0', 'quantile': '0.5', 'loss_insensitivity': '0.01', 'huber_delta': '1.0', 'num_classes': '1', 'accuracy_top_k': '3', 'wd': 'auto', 'l1': 'auto', 'momentum': 'auto', 'learning_rate': 'auto', 'beta_1': 'auto', 'beta_2': 'auto', 'bias_lr_mult': 'auto', 'bias_wd_mult': 'auto', 'use_lr_scheduler': 'true', 'lr_scheduler_step': 'auto', 'lr_scheduler_factor': 'auto', 'lr_scheduler_minimum_lr': 'auto', 'positive_example_weight_mult': '1.0', 'balance_multiclass_weights': 'false', 'normalize_data': 'true', 'normalize_label': 'auto', 'unbias_data': 'auto', 'unbias_label': 'auto', 'num_point_for_scaler': '10000', '_kvstore': 'auto', '_num_gpus': 'auto', '_num_kv_servers': 'auto', '_log_level': 'info', '_tuning_objective_metric': '', 'early_stopping_patience': '3', 'early_stopping_tolerance': '0.001', '_enable_profiler': 'false', 'predictor_type': 'regressor'}\u001b[0m\n",
      "\u001b[34m[12/02/2024 12:02:47 WARNING 140555045136192] Loggers have already been setup.\u001b[0m\n",
      "\u001b[34mProcess 7 is a worker.\u001b[0m\n",
      "\u001b[34m[12/02/2024 12:02:47 INFO 140555045136192] Using default worker.\u001b[0m\n",
      "\u001b[34m[12/02/2024 12:02:47 INFO 140555045136192] Checkpoint loading and saving are disabled.\u001b[0m\n",
      "\u001b[34m[2024-12-02 12:02:47.525] [tensorio] [info] epoch_stats={\"data_pipeline\": \"/opt/ml/input/data/train\", \"epoch\": 0, \"duration\": 12, \"num_examples\": 1, \"num_bytes\": 240}\u001b[0m\n",
      "\u001b[34m[12/02/2024 12:02:47 INFO 140555045136192] Create Store: local\u001b[0m\n",
      "\u001b[34m[2024-12-02 12:02:47.609] [tensorio] [info] epoch_stats={\"data_pipeline\": \"/opt/ml/input/data/train\", \"epoch\": 1, \"duration\": 83, \"num_examples\": 16, \"num_bytes\": 3840}\u001b[0m\n",
      "\u001b[34m[12/02/2024 12:02:47 INFO 140555045136192] Scaler algorithm parameters\n",
      " <algorithm.scaler.ScalerAlgorithmStable object at 0x7fd4f52f3490>\u001b[0m\n",
      "\u001b[34m[12/02/2024 12:02:47 INFO 140555045136192] Scaling model computed with parameters:\n",
      " {'stdev_label': \u001b[0m\n",
      "\u001b[34m[4.5513105]\u001b[0m\n",
      "\u001b[34m<NDArray 1 @cpu(0)>, 'stdev_weight': \u001b[0m\n",
      "\u001b[34m[57.713295]\u001b[0m\n",
      "\u001b[34m<NDArray 1 @cpu(0)>, 'mean_label': \u001b[0m\n",
      "\u001b[34m[23.034124]\u001b[0m\n",
      "\u001b[34m<NDArray 1 @cpu(0)>, 'mean_weight': \u001b[0m\n",
      "\u001b[34m[215.19124]\u001b[0m\n",
      "\u001b[34m<NDArray 1 @cpu(0)>}\u001b[0m\n",
      "\u001b[34m/opt/amazon/python3.8/lib/python3.8/subprocess.py:848: RuntimeWarning: line buffering (buffering=1) isn't supported in binary mode, the default buffer size will be used\n",
      "  self.stdout = io.open(c2pread, 'rb', bufsize)\u001b[0m\n",
      "\u001b[34m[12/02/2024 12:02:47 INFO 140555045136192] nvidia-smi: took 0.032 seconds to run.\u001b[0m\n",
      "\u001b[34m[12/02/2024 12:02:47 INFO 140555045136192] nvidia-smi identified 0 GPUs.\u001b[0m\n",
      "\u001b[34m[12/02/2024 12:02:47 INFO 140555045136192] Number of GPUs being used: 0\u001b[0m\n",
      "\u001b[34m#metrics {\"StartTime\": 1733140967.7052417, \"EndTime\": 1733140967.7052782, \"Dimensions\": {\"Algorithm\": \"Linear Learner\", \"Host\": \"algo-1\", \"Operation\": \"training\", \"Meta\": \"init_train_data_iter\"}, \"Metrics\": {\"Total Records Seen\": {\"sum\": 85.0, \"count\": 1, \"min\": 85, \"max\": 85}, \"Total Batches Seen\": {\"sum\": 17.0, \"count\": 1, \"min\": 17, \"max\": 17}, \"Max Records Seen Between Resets\": {\"sum\": 80.0, \"count\": 1, \"min\": 80, \"max\": 80}, \"Max Batches Seen Between Resets\": {\"sum\": 16.0, \"count\": 1, \"min\": 16, \"max\": 16}, \"Reset Count\": {\"sum\": 2.0, \"count\": 1, \"min\": 2, \"max\": 2}, \"Number of Records Since Last Reset\": {\"sum\": 0.0, \"count\": 1, \"min\": 0, \"max\": 0}, \"Number of Batches Since Last Reset\": {\"sum\": 0.0, \"count\": 1, \"min\": 0, \"max\": 0}}}\u001b[0m\n",
      "\u001b[34m[2024-12-02 12:02:47.938] [tensorio] [info] epoch_stats={\"data_pipeline\": \"/opt/ml/input/data/train\", \"epoch\": 4, \"duration\": 233, \"num_examples\": 16, \"num_bytes\": 3840}\u001b[0m\n",
      "\u001b[34m#metrics {\"StartTime\": 1733140967.9393494, \"EndTime\": 1733140967.939418, \"Dimensions\": {\"Algorithm\": \"Linear Learner\", \"Host\": \"algo-1\", \"Operation\": \"training\", \"epoch\": 0, \"model\": 0}, \"Metrics\": {\"train_absolute_loss_objective\": {\"sum\": 0.7736807152628898, \"count\": 1, \"min\": 0.7736807152628898, \"max\": 0.7736807152628898}}}\u001b[0m\n",
      "\u001b[34m#metrics {\"StartTime\": 1733140967.9394863, \"EndTime\": 1733140967.9394956, \"Dimensions\": {\"Algorithm\": \"Linear Learner\", \"Host\": \"algo-1\", \"Operation\": \"training\", \"epoch\": 0, \"model\": 1}, \"Metrics\": {\"train_absolute_loss_objective\": {\"sum\": 0.7564200818538666, \"count\": 1, \"min\": 0.7564200818538666, \"max\": 0.7564200818538666}}}\u001b[0m\n",
      "\u001b[34m#metrics {\"StartTime\": 1733140967.939522, \"EndTime\": 1733140967.939529, \"Dimensions\": {\"Algorithm\": \"Linear Learner\", \"Host\": \"algo-1\", \"Operation\": \"training\", \"epoch\": 0, \"model\": 2}, \"Metrics\": {\"train_absolute_loss_objective\": {\"sum\": 0.7715972393751145, \"count\": 1, \"min\": 0.7715972393751145, \"max\": 0.7715972393751145}}}\u001b[0m\n",
      "\u001b[34m#metrics {\"StartTime\": 1733140967.9395516, \"EndTime\": 1733140967.9395576, \"Dimensions\": {\"Algorithm\": \"Linear Learner\", \"Host\": \"algo-1\", \"Operation\": \"training\", \"epoch\": 0, \"model\": 3}, \"Metrics\": {\"train_absolute_loss_objective\": {\"sum\": 0.7572990491986274, \"count\": 1, \"min\": 0.7572990491986274, \"max\": 0.7572990491986274}}}\u001b[0m\n",
      "\u001b[34m#metrics {\"StartTime\": 1733140967.9395792, \"EndTime\": 1733140967.939585, \"Dimensions\": {\"Algorithm\": \"Linear Learner\", \"Host\": \"algo-1\", \"Operation\": \"training\", \"epoch\": 0, \"model\": 4}, \"Metrics\": {\"train_absolute_loss_objective\": {\"sum\": 0.6538726672530174, \"count\": 1, \"min\": 0.6538726672530174, \"max\": 0.6538726672530174}}}\u001b[0m\n",
      "\u001b[34m#metrics {\"StartTime\": 1733140967.9396057, \"EndTime\": 1733140967.9396117, \"Dimensions\": {\"Algorithm\": \"Linear Learner\", \"Host\": \"algo-1\", \"Operation\": \"training\", \"epoch\": 0, \"model\": 5}, \"Metrics\": {\"train_absolute_loss_objective\": {\"sum\": 0.650960884988308, \"count\": 1, \"min\": 0.650960884988308, \"max\": 0.650960884988308}}}\u001b[0m\n",
      "\u001b[34m#metrics {\"StartTime\": 1733140967.9396327, \"EndTime\": 1733140967.9396386, \"Dimensions\": {\"Algorithm\": \"Linear Learner\", \"Host\": \"algo-1\", \"Operation\": \"training\", \"epoch\": 0, \"model\": 6}, \"Metrics\": {\"train_absolute_loss_objective\": {\"sum\": 0.621995460987091, \"count\": 1, \"min\": 0.621995460987091, \"max\": 0.621995460987091}}}\u001b[0m\n",
      "\u001b[34m#metrics {\"StartTime\": 1733140967.9396586, \"EndTime\": 1733140967.9396646, \"Dimensions\": {\"Algorithm\": \"Linear Learner\", \"Host\": \"algo-1\", \"Operation\": \"training\", \"epoch\": 0, \"model\": 7}, \"Metrics\": {\"train_absolute_loss_objective\": {\"sum\": 0.6323588103055954, \"count\": 1, \"min\": 0.6323588103055954, \"max\": 0.6323588103055954}}}\u001b[0m\n",
      "\u001b[34m#metrics {\"StartTime\": 1733140967.9396849, \"EndTime\": 1733140967.9396908, \"Dimensions\": {\"Algorithm\": \"Linear Learner\", \"Host\": \"algo-1\", \"Operation\": \"training\", \"epoch\": 0, \"model\": 8}, \"Metrics\": {\"train_absolute_loss_objective\": {\"sum\": 0.7253936894237996, \"count\": 1, \"min\": 0.7253936894237996, \"max\": 0.7253936894237996}}}\u001b[0m\n",
      "\u001b[34m#metrics {\"StartTime\": 1733140967.9397113, \"EndTime\": 1733140967.9397168, \"Dimensions\": {\"Algorithm\": \"Linear Learner\", \"Host\": \"algo-1\", \"Operation\": \"training\", \"epoch\": 0, \"model\": 9}, \"Metrics\": {\"train_absolute_loss_objective\": {\"sum\": 0.7840129598975182, \"count\": 1, \"min\": 0.7840129598975182, \"max\": 0.7840129598975182}}}\u001b[0m\n",
      "\u001b[34m#metrics {\"StartTime\": 1733140967.939737, \"EndTime\": 1733140967.9397428, \"Dimensions\": {\"Algorithm\": \"Linear Learner\", \"Host\": \"algo-1\", \"Operation\": \"training\", \"epoch\": 0, \"model\": 10}, \"Metrics\": {\"train_absolute_loss_objective\": {\"sum\": 0.7782873198390007, \"count\": 1, \"min\": 0.7782873198390007, \"max\": 0.7782873198390007}}}\u001b[0m\n",
      "\u001b[34m#metrics {\"StartTime\": 1733140967.9397633, \"EndTime\": 1733140967.9397688, \"Dimensions\": {\"Algorithm\": \"Linear Learner\", \"Host\": \"algo-1\", \"Operation\": \"training\", \"epoch\": 0, \"model\": 11}, \"Metrics\": {\"train_absolute_loss_objective\": {\"sum\": 0.7910224586725235, \"count\": 1, \"min\": 0.7910224586725235, \"max\": 0.7910224586725235}}}\u001b[0m\n",
      "\u001b[34m#metrics {\"StartTime\": 1733140967.9397953, \"EndTime\": 1733140967.939803, \"Dimensions\": {\"Algorithm\": \"Linear Learner\", \"Host\": \"algo-1\", \"Operation\": \"training\", \"epoch\": 0, \"model\": 12}, \"Metrics\": {\"train_absolute_loss_objective\": {\"sum\": 0.6510414391756058, \"count\": 1, \"min\": 0.6510414391756058, \"max\": 0.6510414391756058}}}\u001b[0m\n",
      "\u001b[34m#metrics {\"StartTime\": 1733140967.9398372, \"EndTime\": 1733140967.9398453, \"Dimensions\": {\"Algorithm\": \"Linear Learner\", \"Host\": \"algo-1\", \"Operation\": \"training\", \"epoch\": 0, \"model\": 13}, \"Metrics\": {\"train_absolute_loss_objective\": {\"sum\": 0.6424896121025085, \"count\": 1, \"min\": 0.6424896121025085, \"max\": 0.6424896121025085}}}\u001b[0m\n",
      "\u001b[34m#metrics {\"StartTime\": 1733140967.9398777, \"EndTime\": 1733140967.9398875, \"Dimensions\": {\"Algorithm\": \"Linear Learner\", \"Host\": \"algo-1\", \"Operation\": \"training\", \"epoch\": 0, \"model\": 14}, \"Metrics\": {\"train_absolute_loss_objective\": {\"sum\": 0.6515500470995903, \"count\": 1, \"min\": 0.6515500470995903, \"max\": 0.6515500470995903}}}\u001b[0m\n",
      "\u001b[34m#metrics {\"StartTime\": 1733140967.9399219, \"EndTime\": 1733140967.9399307, \"Dimensions\": {\"Algorithm\": \"Linear Learner\", \"Host\": \"algo-1\", \"Operation\": \"training\", \"epoch\": 0, \"model\": 15}, \"Metrics\": {\"train_absolute_loss_objective\": {\"sum\": 0.6403377339243889, \"count\": 1, \"min\": 0.6403377339243889, \"max\": 0.6403377339243889}}}\u001b[0m\n",
      "\u001b[34m#metrics {\"StartTime\": 1733140967.9399674, \"EndTime\": 1733140967.939977, \"Dimensions\": {\"Algorithm\": \"Linear Learner\", \"Host\": \"algo-1\", \"Operation\": \"training\", \"epoch\": 0, \"model\": 16}, \"Metrics\": {\"train_absolute_loss_objective\": {\"sum\": 0.8047982096672058, \"count\": 1, \"min\": 0.8047982096672058, \"max\": 0.8047982096672058}}}\u001b[0m\n",
      "\u001b[34m#metrics {\"StartTime\": 1733140967.9400122, \"EndTime\": 1733140967.940022, \"Dimensions\": {\"Algorithm\": \"Linear Learner\", \"Host\": \"algo-1\", \"Operation\": \"training\", \"epoch\": 0, \"model\": 17}, \"Metrics\": {\"train_absolute_loss_objective\": {\"sum\": 0.7607724502682686, \"count\": 1, \"min\": 0.7607724502682686, \"max\": 0.7607724502682686}}}\u001b[0m\n",
      "\u001b[34m#metrics {\"StartTime\": 1733140967.9400456, \"EndTime\": 1733140967.9400527, \"Dimensions\": {\"Algorithm\": \"Linear Learner\", \"Host\": \"algo-1\", \"Operation\": \"training\", \"epoch\": 0, \"model\": 18}, \"Metrics\": {\"train_absolute_loss_objective\": {\"sum\": 0.7815735563635826, \"count\": 1, \"min\": 0.7815735563635826, \"max\": 0.7815735563635826}}}\u001b[0m\n",
      "\u001b[34m#metrics {\"StartTime\": 1733140967.9400795, \"EndTime\": 1733140967.9400887, \"Dimensions\": {\"Algorithm\": \"Linear Learner\", \"Host\": \"algo-1\", \"Operation\": \"training\", \"epoch\": 0, \"model\": 19}, \"Metrics\": {\"train_absolute_loss_objective\": {\"sum\": 0.7838305115699769, \"count\": 1, \"min\": 0.7838305115699769, \"max\": 0.7838305115699769}}}\u001b[0m\n",
      "\u001b[34m#metrics {\"StartTime\": 1733140967.9401166, \"EndTime\": 1733140967.9401248, \"Dimensions\": {\"Algorithm\": \"Linear Learner\", \"Host\": \"algo-1\", \"Operation\": \"training\", \"epoch\": 0, \"model\": 20}, \"Metrics\": {\"train_absolute_loss_objective\": {\"sum\": 0.6656773641705513, \"count\": 1, \"min\": 0.6656773641705513, \"max\": 0.6656773641705513}}}\u001b[0m\n",
      "\u001b[34m#metrics {\"StartTime\": 1733140967.9401543, \"EndTime\": 1733140967.9401639, \"Dimensions\": {\"Algorithm\": \"Linear Learner\", \"Host\": \"algo-1\", \"Operation\": \"training\", \"epoch\": 0, \"model\": 21}, \"Metrics\": {\"train_absolute_loss_objective\": {\"sum\": 0.6631693810224533, \"count\": 1, \"min\": 0.6631693810224533, \"max\": 0.6631693810224533}}}\u001b[0m\n",
      "\u001b[34m#metrics {\"StartTime\": 1733140967.9401941, \"EndTime\": 1733140967.9402037, \"Dimensions\": {\"Algorithm\": \"Linear Learner\", \"Host\": \"algo-1\", \"Operation\": \"training\", \"epoch\": 0, \"model\": 22}, \"Metrics\": {\"train_absolute_loss_objective\": {\"sum\": 0.6945284575223922, \"count\": 1, \"min\": 0.6945284575223922, \"max\": 0.6945284575223922}}}\u001b[0m\n",
      "\u001b[34m#metrics {\"StartTime\": 1733140967.9402356, \"EndTime\": 1733140967.9402435, \"Dimensions\": {\"Algorithm\": \"Linear Learner\", \"Host\": \"algo-1\", \"Operation\": \"training\", \"epoch\": 0, \"model\": 23}, \"Metrics\": {\"train_absolute_loss_objective\": {\"sum\": 0.6751932665705681, \"count\": 1, \"min\": 0.6751932665705681, \"max\": 0.6751932665705681}}}\u001b[0m\n",
      "\u001b[34m#metrics {\"StartTime\": 1733140967.9402752, \"EndTime\": 1733140967.9402843, \"Dimensions\": {\"Algorithm\": \"Linear Learner\", \"Host\": \"algo-1\", \"Operation\": \"training\", \"epoch\": 0, \"model\": 24}, \"Metrics\": {\"train_absolute_loss_objective\": {\"sum\": 0.8160464584827423, \"count\": 1, \"min\": 0.8160464584827423, \"max\": 0.8160464584827423}}}\u001b[0m\n",
      "\u001b[34m#metrics {\"StartTime\": 1733140967.940313, \"EndTime\": 1733140967.9403217, \"Dimensions\": {\"Algorithm\": \"Linear Learner\", \"Host\": \"algo-1\", \"Operation\": \"training\", \"epoch\": 0, \"model\": 25}, \"Metrics\": {\"train_absolute_loss_objective\": {\"sum\": 0.7894684448838234, \"count\": 1, \"min\": 0.7894684448838234, \"max\": 0.7894684448838234}}}\u001b[0m\n",
      "\u001b[34m#metrics {\"StartTime\": 1733140967.9403632, \"EndTime\": 1733140967.9403722, \"Dimensions\": {\"Algorithm\": \"Linear Learner\", \"Host\": \"algo-1\", \"Operation\": \"training\", \"epoch\": 0, \"model\": 26}, \"Metrics\": {\"train_absolute_loss_objective\": {\"sum\": 0.7882717162370682, \"count\": 1, \"min\": 0.7882717162370682, \"max\": 0.7882717162370682}}}\u001b[0m\n",
      "\u001b[34m#metrics {\"StartTime\": 1733140967.940404, \"EndTime\": 1733140967.9404128, \"Dimensions\": {\"Algorithm\": \"Linear Learner\", \"Host\": \"algo-1\", \"Operation\": \"training\", \"epoch\": 0, \"model\": 27}, \"Metrics\": {\"train_absolute_loss_objective\": {\"sum\": 0.7899650424718857, \"count\": 1, \"min\": 0.7899650424718857, \"max\": 0.7899650424718857}}}\u001b[0m\n",
      "\u001b[34m#metrics {\"StartTime\": 1733140967.9404442, \"EndTime\": 1733140967.9404528, \"Dimensions\": {\"Algorithm\": \"Linear Learner\", \"Host\": \"algo-1\", \"Operation\": \"training\", \"epoch\": 0, \"model\": 28}, \"Metrics\": {\"train_absolute_loss_objective\": {\"sum\": 0.9062945723533631, \"count\": 1, \"min\": 0.9062945723533631, \"max\": 0.9062945723533631}}}\u001b[0m\n",
      "\u001b[34m#metrics {\"StartTime\": 1733140967.940489, \"EndTime\": 1733140967.9404993, \"Dimensions\": {\"Algorithm\": \"Linear Learner\", \"Host\": \"algo-1\", \"Operation\": \"training\", \"epoch\": 0, \"model\": 29}, \"Metrics\": {\"train_absolute_loss_objective\": {\"sum\": 0.9066464930772782, \"count\": 1, \"min\": 0.9066464930772782, \"max\": 0.9066464930772782}}}\u001b[0m\n",
      "\u001b[34m#metrics {\"StartTime\": 1733140967.9405355, \"EndTime\": 1733140967.9405444, \"Dimensions\": {\"Algorithm\": \"Linear Learner\", \"Host\": \"algo-1\", \"Operation\": \"training\", \"epoch\": 0, \"model\": 30}, \"Metrics\": {\"train_absolute_loss_objective\": {\"sum\": 0.9011319875717163, \"count\": 1, \"min\": 0.9011319875717163, \"max\": 0.9011319875717163}}}\u001b[0m\n",
      "\u001b[34m#metrics {\"StartTime\": 1733140967.940577, \"EndTime\": 1733140967.9405863, \"Dimensions\": {\"Algorithm\": \"Linear Learner\", \"Host\": \"algo-1\", \"Operation\": \"training\", \"epoch\": 0, \"model\": 31}, \"Metrics\": {\"train_absolute_loss_objective\": {\"sum\": 0.9041374772787094, \"count\": 1, \"min\": 0.9041374772787094, \"max\": 0.9041374772787094}}}\u001b[0m\n",
      "\u001b[34m[12/02/2024 12:02:47 INFO 140555045136192] #quality_metric: host=algo-1, epoch=0, train absolute_loss_objective <loss>=0.7736807152628898\u001b[0m\n",
      "\u001b[34m[12/02/2024 12:02:47 INFO 140555045136192] #early_stopping_criteria_metric: host=algo-1, epoch=0, criteria=absolute_loss_objective, value=0.621995460987091\u001b[0m\n",
      "\u001b[34m[12/02/2024 12:02:47 INFO 140555045136192] Epoch 0: Loss improved. Updating best model\u001b[0m\n",
      "\u001b[34m[12/02/2024 12:02:47 INFO 140555045136192] Saving model for epoch: 0\u001b[0m\n",
      "\u001b[34m[12/02/2024 12:02:47 INFO 140555045136192] Saved checkpoint to \"/tmp/tmpr49hsflv/mx-mod-0000.params\"\u001b[0m\n",
      "\u001b[34m[12/02/2024 12:02:47 INFO 140555045136192] #progress_metric: host=algo-1, completed 20.0 % of epochs\u001b[0m\n",
      "\u001b[34m#metrics {\"StartTime\": 1733140967.705514, \"EndTime\": 1733140967.9494321, \"Dimensions\": {\"Algorithm\": \"Linear Learner\", \"Host\": \"algo-1\", \"Operation\": \"training\", \"epoch\": 0, \"Meta\": \"training_data_iter\"}, \"Metrics\": {\"Total Records Seen\": {\"sum\": 165.0, \"count\": 1, \"min\": 165, \"max\": 165}, \"Total Batches Seen\": {\"sum\": 33.0, \"count\": 1, \"min\": 33, \"max\": 33}, \"Max Records Seen Between Resets\": {\"sum\": 80.0, \"count\": 1, \"min\": 80, \"max\": 80}, \"Max Batches Seen Between Resets\": {\"sum\": 16.0, \"count\": 1, \"min\": 16, \"max\": 16}, \"Reset Count\": {\"sum\": 3.0, \"count\": 1, \"min\": 3, \"max\": 3}, \"Number of Records Since Last Reset\": {\"sum\": 80.0, \"count\": 1, \"min\": 80, \"max\": 80}, \"Number of Batches Since Last Reset\": {\"sum\": 16.0, \"count\": 1, \"min\": 16, \"max\": 16}}}\u001b[0m\n",
      "\u001b[34m[12/02/2024 12:02:47 INFO 140555045136192] #throughput_metric: host=algo-1, train throughput=327.84232036760386 records/second\u001b[0m\n",
      "\u001b[34m[2024-12-02 12:02:48.169] [tensorio] [info] epoch_stats={\"data_pipeline\": \"/opt/ml/input/data/train\", \"epoch\": 6, \"duration\": 220, \"num_examples\": 16, \"num_bytes\": 3840}\u001b[0m\n",
      "\u001b[34m#metrics {\"StartTime\": 1733140968.169828, \"EndTime\": 1733140968.1698902, \"Dimensions\": {\"Algorithm\": \"Linear Learner\", \"Host\": \"algo-1\", \"Operation\": \"training\", \"epoch\": 1, \"model\": 0}, \"Metrics\": {\"train_absolute_loss_objective\": {\"sum\": 0.7004828572273254, \"count\": 1, \"min\": 0.7004828572273254, \"max\": 0.7004828572273254}}}\u001b[0m\n",
      "\u001b[34m#metrics {\"StartTime\": 1733140968.1699731, \"EndTime\": 1733140968.1699858, \"Dimensions\": {\"Algorithm\": \"Linear Learner\", \"Host\": \"algo-1\", \"Operation\": \"training\", \"epoch\": 1, \"model\": 1}, \"Metrics\": {\"train_absolute_loss_objective\": {\"sum\": 0.6833924934267998, \"count\": 1, \"min\": 0.6833924934267998, \"max\": 0.6833924934267998}}}\u001b[0m\n",
      "\u001b[34m#metrics {\"StartTime\": 1733140968.1700175, \"EndTime\": 1733140968.1700273, \"Dimensions\": {\"Algorithm\": \"Linear Learner\", \"Host\": \"algo-1\", \"Operation\": \"training\", \"epoch\": 1, \"model\": 2}, \"Metrics\": {\"train_absolute_loss_objective\": {\"sum\": 0.6984723642468452, \"count\": 1, \"min\": 0.6984723642468452, \"max\": 0.6984723642468452}}}\u001b[0m\n",
      "\u001b[34m#metrics {\"StartTime\": 1733140968.170062, \"EndTime\": 1733140968.1700723, \"Dimensions\": {\"Algorithm\": \"Linear Learner\", \"Host\": \"algo-1\", \"Operation\": \"training\", \"epoch\": 1, \"model\": 3}, \"Metrics\": {\"train_absolute_loss_objective\": {\"sum\": 0.6842264577746391, \"count\": 1, \"min\": 0.6842264577746391, \"max\": 0.6842264577746391}}}\u001b[0m\n",
      "\u001b[34m#metrics {\"StartTime\": 1733140968.1701035, \"EndTime\": 1733140968.1701126, \"Dimensions\": {\"Algorithm\": \"Linear Learner\", \"Host\": \"algo-1\", \"Operation\": \"training\", \"epoch\": 1, \"model\": 4}, \"Metrics\": {\"train_absolute_loss_objective\": {\"sum\": 0.3743371069431305, \"count\": 1, \"min\": 0.3743371069431305, \"max\": 0.3743371069431305}}}\u001b[0m\n",
      "\u001b[34m#metrics {\"StartTime\": 1733140968.1701403, \"EndTime\": 1733140968.1701474, \"Dimensions\": {\"Algorithm\": \"Linear Learner\", \"Host\": \"algo-1\", \"Operation\": \"training\", \"epoch\": 1, \"model\": 5}, \"Metrics\": {\"train_absolute_loss_objective\": {\"sum\": 0.3817689150571823, \"count\": 1, \"min\": 0.3817689150571823, \"max\": 0.3817689150571823}}}\u001b[0m\n",
      "\u001b[34m#metrics {\"StartTime\": 1733140968.1701849, \"EndTime\": 1733140968.1701906, \"Dimensions\": {\"Algorithm\": \"Linear Learner\", \"Host\": \"algo-1\", \"Operation\": \"training\", \"epoch\": 1, \"model\": 6}, \"Metrics\": {\"train_absolute_loss_objective\": {\"sum\": 0.41234453916549685, \"count\": 1, \"min\": 0.41234453916549685, \"max\": 0.41234453916549685}}}\u001b[0m\n",
      "\u001b[34m#metrics {\"StartTime\": 1733140968.1702082, \"EndTime\": 1733140968.1702132, \"Dimensions\": {\"Algorithm\": \"Linear Learner\", \"Host\": \"algo-1\", \"Operation\": \"training\", \"epoch\": 1, \"model\": 7}, \"Metrics\": {\"train_absolute_loss_objective\": {\"sum\": 0.39021451845765115, \"count\": 1, \"min\": 0.39021451845765115, \"max\": 0.39021451845765115}}}\u001b[0m\n",
      "\u001b[34m#metrics {\"StartTime\": 1733140968.17023, \"EndTime\": 1733140968.1702347, \"Dimensions\": {\"Algorithm\": \"Linear Learner\", \"Host\": \"algo-1\", \"Operation\": \"training\", \"epoch\": 1, \"model\": 8}, \"Metrics\": {\"train_absolute_loss_objective\": {\"sum\": 0.654526698589325, \"count\": 1, \"min\": 0.654526698589325, \"max\": 0.654526698589325}}}\u001b[0m\n",
      "\u001b[34m#metrics {\"StartTime\": 1733140968.1702507, \"EndTime\": 1733140968.1702554, \"Dimensions\": {\"Algorithm\": \"Linear Learner\", \"Host\": \"algo-1\", \"Operation\": \"training\", \"epoch\": 1, \"model\": 9}, \"Metrics\": {\"train_absolute_loss_objective\": {\"sum\": 0.7098183497786522, \"count\": 1, \"min\": 0.7098183497786522, \"max\": 0.7098183497786522}}}\u001b[0m\n",
      "\u001b[34m#metrics {\"StartTime\": 1733140968.1702714, \"EndTime\": 1733140968.1702762, \"Dimensions\": {\"Algorithm\": \"Linear Learner\", \"Host\": \"algo-1\", \"Operation\": \"training\", \"epoch\": 1, \"model\": 10}, \"Metrics\": {\"train_absolute_loss_objective\": {\"sum\": 0.7049382701516151, \"count\": 1, \"min\": 0.7049382701516151, \"max\": 0.7049382701516151}}}\u001b[0m\n",
      "\u001b[34m#metrics {\"StartTime\": 1733140968.1702921, \"EndTime\": 1733140968.170297, \"Dimensions\": {\"Algorithm\": \"Linear Learner\", \"Host\": \"algo-1\", \"Operation\": \"training\", \"epoch\": 1, \"model\": 11}, \"Metrics\": {\"train_absolute_loss_objective\": {\"sum\": 0.7165812820196151, \"count\": 1, \"min\": 0.7165812820196151, \"max\": 0.7165812820196151}}}\u001b[0m\n",
      "\u001b[34m#metrics {\"StartTime\": 1733140968.1703131, \"EndTime\": 1733140968.170318, \"Dimensions\": {\"Algorithm\": \"Linear Learner\", \"Host\": \"algo-1\", \"Operation\": \"training\", \"epoch\": 1, \"model\": 12}, \"Metrics\": {\"train_absolute_loss_objective\": {\"sum\": 0.37277081832289694, \"count\": 1, \"min\": 0.37277081832289694, \"max\": 0.37277081832289694}}}\u001b[0m\n",
      "\u001b[34m#metrics {\"StartTime\": 1733140968.1703339, \"EndTime\": 1733140968.1703386, \"Dimensions\": {\"Algorithm\": \"Linear Learner\", \"Host\": \"algo-1\", \"Operation\": \"training\", \"epoch\": 1, \"model\": 13}, \"Metrics\": {\"train_absolute_loss_objective\": {\"sum\": 0.3833973839879036, \"count\": 1, \"min\": 0.3833973839879036, \"max\": 0.3833973839879036}}}\u001b[0m\n",
      "\u001b[34m#metrics {\"StartTime\": 1733140968.1703546, \"EndTime\": 1733140968.1703594, \"Dimensions\": {\"Algorithm\": \"Linear Learner\", \"Host\": \"algo-1\", \"Operation\": \"training\", \"epoch\": 1, \"model\": 14}, \"Metrics\": {\"train_absolute_loss_objective\": {\"sum\": 0.3726028263568878, \"count\": 1, \"min\": 0.3726028263568878, \"max\": 0.3726028263568878}}}\u001b[0m\n",
      "\u001b[34m#metrics {\"StartTime\": 1733140968.170375, \"EndTime\": 1733140968.1703799, \"Dimensions\": {\"Algorithm\": \"Linear Learner\", \"Host\": \"algo-1\", \"Operation\": \"training\", \"epoch\": 1, \"model\": 15}, \"Metrics\": {\"train_absolute_loss_objective\": {\"sum\": 0.38466024696826934, \"count\": 1, \"min\": 0.38466024696826934, \"max\": 0.38466024696826934}}}\u001b[0m\n",
      "\u001b[34m#metrics {\"StartTime\": 1733140968.170398, \"EndTime\": 1733140968.1704023, \"Dimensions\": {\"Algorithm\": \"Linear Learner\", \"Host\": \"algo-1\", \"Operation\": \"training\", \"epoch\": 1, \"model\": 16}, \"Metrics\": {\"train_absolute_loss_objective\": {\"sum\": 0.7312010243535042, \"count\": 1, \"min\": 0.7312010243535042, \"max\": 0.7312010243535042}}}\u001b[0m\n",
      "\u001b[34m#metrics {\"StartTime\": 1733140968.170419, \"EndTime\": 1733140968.1704233, \"Dimensions\": {\"Algorithm\": \"Linear Learner\", \"Host\": \"algo-1\", \"Operation\": \"training\", \"epoch\": 1, \"model\": 17}, \"Metrics\": {\"train_absolute_loss_objective\": {\"sum\": 0.6888835951685905, \"count\": 1, \"min\": 0.6888835951685905, \"max\": 0.6888835951685905}}}\u001b[0m\n",
      "\u001b[34m#metrics {\"StartTime\": 1733140968.1704395, \"EndTime\": 1733140968.170444, \"Dimensions\": {\"Algorithm\": \"Linear Learner\", \"Host\": \"algo-1\", \"Operation\": \"training\", \"epoch\": 1, \"model\": 18}, \"Metrics\": {\"train_absolute_loss_objective\": {\"sum\": 0.7091343715786934, \"count\": 1, \"min\": 0.7091343715786934, \"max\": 0.7091343715786934}}}\u001b[0m\n",
      "\u001b[34m#metrics {\"StartTime\": 1733140968.17046, \"EndTime\": 1733140968.1704643, \"Dimensions\": {\"Algorithm\": \"Linear Learner\", \"Host\": \"algo-1\", \"Operation\": \"training\", \"epoch\": 1, \"model\": 19}, \"Metrics\": {\"train_absolute_loss_objective\": {\"sum\": 0.7106538072228432, \"count\": 1, \"min\": 0.7106538072228432, \"max\": 0.7106538072228432}}}\u001b[0m\n",
      "\u001b[34m#metrics {\"StartTime\": 1733140968.1704805, \"EndTime\": 1733140968.1704848, \"Dimensions\": {\"Algorithm\": \"Linear Learner\", \"Host\": \"algo-1\", \"Operation\": \"training\", \"epoch\": 1, \"model\": 20}, \"Metrics\": {\"train_absolute_loss_objective\": {\"sum\": 0.3942422091960907, \"count\": 1, \"min\": 0.3942422091960907, \"max\": 0.3942422091960907}}}\u001b[0m\n",
      "\u001b[34m#metrics {\"StartTime\": 1733140968.1705015, \"EndTime\": 1733140968.1705084, \"Dimensions\": {\"Algorithm\": \"Linear Learner\", \"Host\": \"algo-1\", \"Operation\": \"training\", \"epoch\": 1, \"model\": 21}, \"Metrics\": {\"train_absolute_loss_objective\": {\"sum\": 0.3974654167890549, \"count\": 1, \"min\": 0.3974654167890549, \"max\": 0.3974654167890549}}}\u001b[0m\n",
      "\u001b[34m#metrics {\"StartTime\": 1733140968.1705346, \"EndTime\": 1733140968.170542, \"Dimensions\": {\"Algorithm\": \"Linear Learner\", \"Host\": \"algo-1\", \"Operation\": \"training\", \"epoch\": 1, \"model\": 22}, \"Metrics\": {\"train_absolute_loss_objective\": {\"sum\": 0.3946728318929672, \"count\": 1, \"min\": 0.3946728318929672, \"max\": 0.3946728318929672}}}\u001b[0m\n",
      "\u001b[34m#metrics {\"StartTime\": 1733140968.1705685, \"EndTime\": 1733140968.1705766, \"Dimensions\": {\"Algorithm\": \"Linear Learner\", \"Host\": \"algo-1\", \"Operation\": \"training\", \"epoch\": 1, \"model\": 23}, \"Metrics\": {\"train_absolute_loss_objective\": {\"sum\": 0.3984540432691574, \"count\": 1, \"min\": 0.3984540432691574, \"max\": 0.3984540432691574}}}\u001b[0m\n",
      "\u001b[34m#metrics {\"StartTime\": 1733140968.170608, \"EndTime\": 1733140968.1706166, \"Dimensions\": {\"Algorithm\": \"Linear Learner\", \"Host\": \"algo-1\", \"Operation\": \"training\", \"epoch\": 1, \"model\": 24}, \"Metrics\": {\"train_absolute_loss_objective\": {\"sum\": 0.7613160312175751, \"count\": 1, \"min\": 0.7613160312175751, \"max\": 0.7613160312175751}}}\u001b[0m\n",
      "\u001b[34m#metrics {\"StartTime\": 1733140968.1706443, \"EndTime\": 1733140968.1706529, \"Dimensions\": {\"Algorithm\": \"Linear Learner\", \"Host\": \"algo-1\", \"Operation\": \"training\", \"epoch\": 1, \"model\": 25}, \"Metrics\": {\"train_absolute_loss_objective\": {\"sum\": 0.7666479289531708, \"count\": 1, \"min\": 0.7666479289531708, \"max\": 0.7666479289531708}}}\u001b[0m\n",
      "\u001b[34m#metrics {\"StartTime\": 1733140968.170681, \"EndTime\": 1733140968.1706905, \"Dimensions\": {\"Algorithm\": \"Linear Learner\", \"Host\": \"algo-1\", \"Operation\": \"training\", \"epoch\": 1, \"model\": 26}, \"Metrics\": {\"train_absolute_loss_objective\": {\"sum\": 0.7688154309988022, \"count\": 1, \"min\": 0.7688154309988022, \"max\": 0.7688154309988022}}}\u001b[0m\n",
      "\u001b[34m#metrics {\"StartTime\": 1733140968.1707227, \"EndTime\": 1733140968.1707315, \"Dimensions\": {\"Algorithm\": \"Linear Learner\", \"Host\": \"algo-1\", \"Operation\": \"training\", \"epoch\": 1, \"model\": 27}, \"Metrics\": {\"train_absolute_loss_objective\": {\"sum\": 0.7684796988964081, \"count\": 1, \"min\": 0.7684796988964081, \"max\": 0.7684796988964081}}}\u001b[0m\n",
      "\u001b[34m#metrics {\"StartTime\": 1733140968.170764, \"EndTime\": 1733140968.1707728, \"Dimensions\": {\"Algorithm\": \"Linear Learner\", \"Host\": \"algo-1\", \"Operation\": \"training\", \"epoch\": 1, \"model\": 28}, \"Metrics\": {\"train_absolute_loss_objective\": {\"sum\": 0.8108527898788452, \"count\": 1, \"min\": 0.8108527898788452, \"max\": 0.8108527898788452}}}\u001b[0m\n",
      "\u001b[34m#metrics {\"StartTime\": 1733140968.1708016, \"EndTime\": 1733140968.1708097, \"Dimensions\": {\"Algorithm\": \"Linear Learner\", \"Host\": \"algo-1\", \"Operation\": \"training\", \"epoch\": 1, \"model\": 29}, \"Metrics\": {\"train_absolute_loss_objective\": {\"sum\": 0.8122213661670685, \"count\": 1, \"min\": 0.8122213661670685, \"max\": 0.8122213661670685}}}\u001b[0m\n",
      "\u001b[34m#metrics {\"StartTime\": 1733140968.1708415, \"EndTime\": 1733140968.1708498, \"Dimensions\": {\"Algorithm\": \"Linear Learner\", \"Host\": \"algo-1\", \"Operation\": \"training\", \"epoch\": 1, \"model\": 30}, \"Metrics\": {\"train_absolute_loss_objective\": {\"sum\": 0.8236682385206222, \"count\": 1, \"min\": 0.8236682385206222, \"max\": 0.8236682385206222}}}\u001b[0m\n",
      "\u001b[34m#metrics {\"StartTime\": 1733140968.1708784, \"EndTime\": 1733140968.1708872, \"Dimensions\": {\"Algorithm\": \"Linear Learner\", \"Host\": \"algo-1\", \"Operation\": \"training\", \"epoch\": 1, \"model\": 31}, \"Metrics\": {\"train_absolute_loss_objective\": {\"sum\": 0.8130236774682998, \"count\": 1, \"min\": 0.8130236774682998, \"max\": 0.8130236774682998}}}\u001b[0m\n",
      "\u001b[34m[12/02/2024 12:02:48 INFO 140555045136192] #quality_metric: host=algo-1, epoch=1, train absolute_loss_objective <loss>=0.7004828572273254\u001b[0m\n",
      "\u001b[34m[12/02/2024 12:02:48 INFO 140555045136192] #early_stopping_criteria_metric: host=algo-1, epoch=1, criteria=absolute_loss_objective, value=0.3726028263568878\u001b[0m\n",
      "\u001b[34m[12/02/2024 12:02:48 INFO 140555045136192] Epoch 1: Loss improved. Updating best model\u001b[0m\n",
      "\u001b[34m[12/02/2024 12:02:48 INFO 140555045136192] Saving model for epoch: 1\u001b[0m\n",
      "\u001b[34m[12/02/2024 12:02:48 INFO 140555045136192] Saved checkpoint to \"/tmp/tmpcb8g0075/mx-mod-0000.params\"\u001b[0m\n",
      "\u001b[34m[12/02/2024 12:02:48 INFO 140555045136192] #progress_metric: host=algo-1, completed 40.0 % of epochs\u001b[0m\n",
      "\u001b[34m#metrics {\"StartTime\": 1733140967.9496593, \"EndTime\": 1733140968.179637, \"Dimensions\": {\"Algorithm\": \"Linear Learner\", \"Host\": \"algo-1\", \"Operation\": \"training\", \"epoch\": 1, \"Meta\": \"training_data_iter\"}, \"Metrics\": {\"Total Records Seen\": {\"sum\": 245.0, \"count\": 1, \"min\": 245, \"max\": 245}, \"Total Batches Seen\": {\"sum\": 49.0, \"count\": 1, \"min\": 49, \"max\": 49}, \"Max Records Seen Between Resets\": {\"sum\": 80.0, \"count\": 1, \"min\": 80, \"max\": 80}, \"Max Batches Seen Between Resets\": {\"sum\": 16.0, \"count\": 1, \"min\": 16, \"max\": 16}, \"Reset Count\": {\"sum\": 4.0, \"count\": 1, \"min\": 4, \"max\": 4}, \"Number of Records Since Last Reset\": {\"sum\": 80.0, \"count\": 1, \"min\": 80, \"max\": 80}, \"Number of Batches Since Last Reset\": {\"sum\": 16.0, \"count\": 1, \"min\": 16, \"max\": 16}}}\u001b[0m\n",
      "\u001b[34m[12/02/2024 12:02:48 INFO 140555045136192] #throughput_metric: host=algo-1, train throughput=347.6898208209162 records/second\u001b[0m\n",
      "\u001b[34m[2024-12-02 12:02:48.409] [tensorio] [info] epoch_stats={\"data_pipeline\": \"/opt/ml/input/data/train\", \"epoch\": 8, \"duration\": 229, \"num_examples\": 16, \"num_bytes\": 3840}\u001b[0m\n",
      "\u001b[34m#metrics {\"StartTime\": 1733140968.4094532, \"EndTime\": 1733140968.409512, \"Dimensions\": {\"Algorithm\": \"Linear Learner\", \"Host\": \"algo-1\", \"Operation\": \"training\", \"epoch\": 2, \"model\": 0}, \"Metrics\": {\"train_absolute_loss_objective\": {\"sum\": 0.650516253709793, \"count\": 1, \"min\": 0.650516253709793, \"max\": 0.650516253709793}}}\u001b[0m\n",
      "\u001b[34m#metrics {\"StartTime\": 1733140968.4095712, \"EndTime\": 1733140968.4095836, \"Dimensions\": {\"Algorithm\": \"Linear Learner\", \"Host\": \"algo-1\", \"Operation\": \"training\", \"epoch\": 2, \"model\": 1}, \"Metrics\": {\"train_absolute_loss_objective\": {\"sum\": 0.633336041867733, \"count\": 1, \"min\": 0.633336041867733, \"max\": 0.633336041867733}}}\u001b[0m\n",
      "\u001b[34m#metrics {\"StartTime\": 1733140968.4096246, \"EndTime\": 1733140968.4096355, \"Dimensions\": {\"Algorithm\": \"Linear Learner\", \"Host\": \"algo-1\", \"Operation\": \"training\", \"epoch\": 2, \"model\": 2}, \"Metrics\": {\"train_absolute_loss_objective\": {\"sum\": 0.6485965549945831, \"count\": 1, \"min\": 0.6485965549945831, \"max\": 0.6485965549945831}}}\u001b[0m\n",
      "\u001b[34m#metrics {\"StartTime\": 1733140968.409674, \"EndTime\": 1733140968.4096842, \"Dimensions\": {\"Algorithm\": \"Linear Learner\", \"Host\": \"algo-1\", \"Operation\": \"training\", \"epoch\": 2, \"model\": 3}, \"Metrics\": {\"train_absolute_loss_objective\": {\"sum\": 0.6341646537184715, \"count\": 1, \"min\": 0.6341646537184715, \"max\": 0.6341646537184715}}}\u001b[0m\n",
      "\u001b[34m#metrics {\"StartTime\": 1733140968.4097126, \"EndTime\": 1733140968.4097207, \"Dimensions\": {\"Algorithm\": \"Linear Learner\", \"Host\": \"algo-1\", \"Operation\": \"training\", \"epoch\": 2, \"model\": 4}, \"Metrics\": {\"train_absolute_loss_objective\": {\"sum\": 0.3383980542421341, \"count\": 1, \"min\": 0.3383980542421341, \"max\": 0.3383980542421341}}}\u001b[0m\n",
      "\u001b[34m#metrics {\"StartTime\": 1733140968.4097502, \"EndTime\": 1733140968.4097595, \"Dimensions\": {\"Algorithm\": \"Linear Learner\", \"Host\": \"algo-1\", \"Operation\": \"training\", \"epoch\": 2, \"model\": 5}, \"Metrics\": {\"train_absolute_loss_objective\": {\"sum\": 0.34015885591506956, \"count\": 1, \"min\": 0.34015885591506956, \"max\": 0.34015885591506956}}}\u001b[0m\n",
      "\u001b[34m#metrics {\"StartTime\": 1733140968.4097946, \"EndTime\": 1733140968.4098036, \"Dimensions\": {\"Algorithm\": \"Linear Learner\", \"Host\": \"algo-1\", \"Operation\": \"training\", \"epoch\": 2, \"model\": 6}, \"Metrics\": {\"train_absolute_loss_objective\": {\"sum\": 0.38887184113264084, \"count\": 1, \"min\": 0.38887184113264084, \"max\": 0.38887184113264084}}}\u001b[0m\n",
      "\u001b[34m#metrics {\"StartTime\": 1733140968.4098403, \"EndTime\": 1733140968.4098494, \"Dimensions\": {\"Algorithm\": \"Linear Learner\", \"Host\": \"algo-1\", \"Operation\": \"training\", \"epoch\": 2, \"model\": 7}, \"Metrics\": {\"train_absolute_loss_objective\": {\"sum\": 0.385695481300354, \"count\": 1, \"min\": 0.385695481300354, \"max\": 0.385695481300354}}}\u001b[0m\n",
      "\u001b[34m#metrics {\"StartTime\": 1733140968.409885, \"EndTime\": 1733140968.4098947, \"Dimensions\": {\"Algorithm\": \"Linear Learner\", \"Host\": \"algo-1\", \"Operation\": \"training\", \"epoch\": 2, \"model\": 8}, \"Metrics\": {\"train_absolute_loss_objective\": {\"sum\": 0.6057927489280701, \"count\": 1, \"min\": 0.6057927489280701, \"max\": 0.6057927489280701}}}\u001b[0m\n",
      "\u001b[34m#metrics {\"StartTime\": 1733140968.4099495, \"EndTime\": 1733140968.4099603, \"Dimensions\": {\"Algorithm\": \"Linear Learner\", \"Host\": \"algo-1\", \"Operation\": \"training\", \"epoch\": 2, \"model\": 9}, \"Metrics\": {\"train_absolute_loss_objective\": {\"sum\": 0.6592234015464783, \"count\": 1, \"min\": 0.6592234015464783, \"max\": 0.6592234015464783}}}\u001b[0m\n",
      "\u001b[34m#metrics {\"StartTime\": 1733140968.4099987, \"EndTime\": 1733140968.410009, \"Dimensions\": {\"Algorithm\": \"Linear Learner\", \"Host\": \"algo-1\", \"Operation\": \"training\", \"epoch\": 2, \"model\": 10}, \"Metrics\": {\"train_absolute_loss_objective\": {\"sum\": 0.6553850024938583, \"count\": 1, \"min\": 0.6553850024938583, \"max\": 0.6553850024938583}}}\u001b[0m\n",
      "\u001b[34m#metrics {\"StartTime\": 1733140968.4100447, \"EndTime\": 1733140968.4100542, \"Dimensions\": {\"Algorithm\": \"Linear Learner\", \"Host\": \"algo-1\", \"Operation\": \"training\", \"epoch\": 2, \"model\": 11}, \"Metrics\": {\"train_absolute_loss_objective\": {\"sum\": 0.6659538760781288, \"count\": 1, \"min\": 0.6659538760781288, \"max\": 0.6659538760781288}}}\u001b[0m\n",
      "\u001b[34m#metrics {\"StartTime\": 1733140968.4100876, \"EndTime\": 1733140968.4100978, \"Dimensions\": {\"Algorithm\": \"Linear Learner\", \"Host\": \"algo-1\", \"Operation\": \"training\", \"epoch\": 2, \"model\": 12}, \"Metrics\": {\"train_absolute_loss_objective\": {\"sum\": 0.31715143397450446, \"count\": 1, \"min\": 0.31715143397450446, \"max\": 0.31715143397450446}}}\u001b[0m\n",
      "\u001b[34m#metrics {\"StartTime\": 1733140968.4101312, \"EndTime\": 1733140968.4101405, \"Dimensions\": {\"Algorithm\": \"Linear Learner\", \"Host\": \"algo-1\", \"Operation\": \"training\", \"epoch\": 2, \"model\": 13}, \"Metrics\": {\"train_absolute_loss_objective\": {\"sum\": 0.34519541412591936, \"count\": 1, \"min\": 0.34519541412591936, \"max\": 0.34519541412591936}}}\u001b[0m\n",
      "\u001b[34m#metrics {\"StartTime\": 1733140968.4101777, \"EndTime\": 1733140968.4101882, \"Dimensions\": {\"Algorithm\": \"Linear Learner\", \"Host\": \"algo-1\", \"Operation\": \"training\", \"epoch\": 2, \"model\": 14}, \"Metrics\": {\"train_absolute_loss_objective\": {\"sum\": 0.31722926199436186, \"count\": 1, \"min\": 0.31722926199436186, \"max\": 0.31722926199436186}}}\u001b[0m\n",
      "\u001b[34m#metrics {\"StartTime\": 1733140968.4102206, \"EndTime\": 1733140968.41023, \"Dimensions\": {\"Algorithm\": \"Linear Learner\", \"Host\": \"algo-1\", \"Operation\": \"training\", \"epoch\": 2, \"model\": 15}, \"Metrics\": {\"train_absolute_loss_objective\": {\"sum\": 0.34397031366825104, \"count\": 1, \"min\": 0.34397031366825104, \"max\": 0.34397031366825104}}}\u001b[0m\n",
      "\u001b[34m#metrics {\"StartTime\": 1733140968.4102612, \"EndTime\": 1733140968.41027, \"Dimensions\": {\"Algorithm\": \"Linear Learner\", \"Host\": \"algo-1\", \"Operation\": \"training\", \"epoch\": 2, \"model\": 16}, \"Metrics\": {\"train_absolute_loss_objective\": {\"sum\": 0.684301783144474, \"count\": 1, \"min\": 0.684301783144474, \"max\": 0.684301783144474}}}\u001b[0m\n",
      "\u001b[34m#metrics {\"StartTime\": 1733140968.4103036, \"EndTime\": 1733140968.4103124, \"Dimensions\": {\"Algorithm\": \"Linear Learner\", \"Host\": \"algo-1\", \"Operation\": \"training\", \"epoch\": 2, \"model\": 17}, \"Metrics\": {\"train_absolute_loss_objective\": {\"sum\": 0.6427064031362534, \"count\": 1, \"min\": 0.6427064031362534, \"max\": 0.6427064031362534}}}\u001b[0m\n",
      "\u001b[34m#metrics {\"StartTime\": 1733140968.4103453, \"EndTime\": 1733140968.4103544, \"Dimensions\": {\"Algorithm\": \"Linear Learner\", \"Host\": \"algo-1\", \"Operation\": \"training\", \"epoch\": 2, \"model\": 18}, \"Metrics\": {\"train_absolute_loss_objective\": {\"sum\": 0.6627482041716576, \"count\": 1, \"min\": 0.6627482041716576, \"max\": 0.6627482041716576}}}\u001b[0m\n",
      "\u001b[34m#metrics {\"StartTime\": 1733140968.410387, \"EndTime\": 1733140968.4103963, \"Dimensions\": {\"Algorithm\": \"Linear Learner\", \"Host\": \"algo-1\", \"Operation\": \"training\", \"epoch\": 2, \"model\": 19}, \"Metrics\": {\"train_absolute_loss_objective\": {\"sum\": 0.6633373141288758, \"count\": 1, \"min\": 0.6633373141288758, \"max\": 0.6633373141288758}}}\u001b[0m\n",
      "\u001b[34m#metrics {\"StartTime\": 1733140968.4104295, \"EndTime\": 1733140968.410439, \"Dimensions\": {\"Algorithm\": \"Linear Learner\", \"Host\": \"algo-1\", \"Operation\": \"training\", \"epoch\": 2, \"model\": 20}, \"Metrics\": {\"train_absolute_loss_objective\": {\"sum\": 0.4685091398656368, \"count\": 1, \"min\": 0.4685091398656368, \"max\": 0.4685091398656368}}}\u001b[0m\n",
      "\u001b[34m#metrics {\"StartTime\": 1733140968.4104686, \"EndTime\": 1733140968.4104776, \"Dimensions\": {\"Algorithm\": \"Linear Learner\", \"Host\": \"algo-1\", \"Operation\": \"training\", \"epoch\": 2, \"model\": 21}, \"Metrics\": {\"train_absolute_loss_objective\": {\"sum\": 0.46987150311470033, \"count\": 1, \"min\": 0.46987150311470033, \"max\": 0.46987150311470033}}}\u001b[0m\n",
      "\u001b[34m#metrics {\"StartTime\": 1733140968.4105103, \"EndTime\": 1733140968.4105196, \"Dimensions\": {\"Algorithm\": \"Linear Learner\", \"Host\": \"algo-1\", \"Operation\": \"training\", \"epoch\": 2, \"model\": 22}, \"Metrics\": {\"train_absolute_loss_objective\": {\"sum\": 0.4276363983750343, \"count\": 1, \"min\": 0.4276363983750343, \"max\": 0.4276363983750343}}}\u001b[0m\n",
      "\u001b[34m#metrics {\"StartTime\": 1733140968.410552, \"EndTime\": 1733140968.4105613, \"Dimensions\": {\"Algorithm\": \"Linear Learner\", \"Host\": \"algo-1\", \"Operation\": \"training\", \"epoch\": 2, \"model\": 23}, \"Metrics\": {\"train_absolute_loss_objective\": {\"sum\": 0.42406430691480634, \"count\": 1, \"min\": 0.42406430691480634, \"max\": 0.42406430691480634}}}\u001b[0m\n",
      "\u001b[34m#metrics {\"StartTime\": 1733140968.4105933, \"EndTime\": 1733140968.4106023, \"Dimensions\": {\"Algorithm\": \"Linear Learner\", \"Host\": \"algo-1\", \"Operation\": \"training\", \"epoch\": 2, \"model\": 24}, \"Metrics\": {\"train_absolute_loss_objective\": {\"sum\": 0.7680718302726746, \"count\": 1, \"min\": 0.7680718302726746, \"max\": 0.7680718302726746}}}\u001b[0m\n",
      "\u001b[34m#metrics {\"StartTime\": 1733140968.4106283, \"EndTime\": 1733140968.4106357, \"Dimensions\": {\"Algorithm\": \"Linear Learner\", \"Host\": \"algo-1\", \"Operation\": \"training\", \"epoch\": 2, \"model\": 25}, \"Metrics\": {\"train_absolute_loss_objective\": {\"sum\": 0.7716153413057327, \"count\": 1, \"min\": 0.7716153413057327, \"max\": 0.7716153413057327}}}\u001b[0m\n",
      "\u001b[34m#metrics {\"StartTime\": 1733140968.410664, \"EndTime\": 1733140968.4106734, \"Dimensions\": {\"Algorithm\": \"Linear Learner\", \"Host\": \"algo-1\", \"Operation\": \"training\", \"epoch\": 2, \"model\": 26}, \"Metrics\": {\"train_absolute_loss_objective\": {\"sum\": 0.7708876073360443, \"count\": 1, \"min\": 0.7708876073360443, \"max\": 0.7708876073360443}}}\u001b[0m\n",
      "\u001b[34m#metrics {\"StartTime\": 1733140968.4107056, \"EndTime\": 1733140968.4107146, \"Dimensions\": {\"Algorithm\": \"Linear Learner\", \"Host\": \"algo-1\", \"Operation\": \"training\", \"epoch\": 2, \"model\": 27}, \"Metrics\": {\"train_absolute_loss_objective\": {\"sum\": 0.770927706360817, \"count\": 1, \"min\": 0.770927706360817, \"max\": 0.770927706360817}}}\u001b[0m\n",
      "\u001b[34m#metrics {\"StartTime\": 1733140968.4107485, \"EndTime\": 1733140968.4107575, \"Dimensions\": {\"Algorithm\": \"Linear Learner\", \"Host\": \"algo-1\", \"Operation\": \"training\", \"epoch\": 2, \"model\": 28}, \"Metrics\": {\"train_absolute_loss_objective\": {\"sum\": 0.8443408131599426, \"count\": 1, \"min\": 0.8443408131599426, \"max\": 0.8443408131599426}}}\u001b[0m\n",
      "\u001b[34m#metrics {\"StartTime\": 1733140968.4111824, \"EndTime\": 1733140968.4111972, \"Dimensions\": {\"Algorithm\": \"Linear Learner\", \"Host\": \"algo-1\", \"Operation\": \"training\", \"epoch\": 2, \"model\": 29}, \"Metrics\": {\"train_absolute_loss_objective\": {\"sum\": 0.8483474448323249, \"count\": 1, \"min\": 0.8483474448323249, \"max\": 0.8483474448323249}}}\u001b[0m\n",
      "\u001b[34m#metrics {\"StartTime\": 1733140968.4112322, \"EndTime\": 1733140968.4112415, \"Dimensions\": {\"Algorithm\": \"Linear Learner\", \"Host\": \"algo-1\", \"Operation\": \"training\", \"epoch\": 2, \"model\": 30}, \"Metrics\": {\"train_absolute_loss_objective\": {\"sum\": 0.8691767424345016, \"count\": 1, \"min\": 0.8691767424345016, \"max\": 0.8691767424345016}}}\u001b[0m\n",
      "\u001b[34m#metrics {\"StartTime\": 1733140968.411274, \"EndTime\": 1733140968.4112828, \"Dimensions\": {\"Algorithm\": \"Linear Learner\", \"Host\": \"algo-1\", \"Operation\": \"training\", \"epoch\": 2, \"model\": 31}, \"Metrics\": {\"train_absolute_loss_objective\": {\"sum\": 0.8384369991719722, \"count\": 1, \"min\": 0.8384369991719722, \"max\": 0.8384369991719722}}}\u001b[0m\n",
      "\u001b[34m[12/02/2024 12:02:48 INFO 140555045136192] #quality_metric: host=algo-1, epoch=2, train absolute_loss_objective <loss>=0.650516253709793\u001b[0m\n",
      "\u001b[34m[12/02/2024 12:02:48 INFO 140555045136192] #early_stopping_criteria_metric: host=algo-1, epoch=2, criteria=absolute_loss_objective, value=0.31715143397450446\u001b[0m\n",
      "\u001b[34m[12/02/2024 12:02:48 INFO 140555045136192] Epoch 2: Loss improved. Updating best model\u001b[0m\n",
      "\u001b[34m[12/02/2024 12:02:48 INFO 140555045136192] Saving model for epoch: 2\u001b[0m\n",
      "\u001b[34m[12/02/2024 12:02:48 INFO 140555045136192] Saved checkpoint to \"/tmp/tmpbwy21r1x/mx-mod-0000.params\"\u001b[0m\n",
      "\u001b[34m[12/02/2024 12:02:48 INFO 140555045136192] #progress_metric: host=algo-1, completed 60.0 % of epochs\u001b[0m\n",
      "\u001b[34m#metrics {\"StartTime\": 1733140968.179886, \"EndTime\": 1733140968.4176705, \"Dimensions\": {\"Algorithm\": \"Linear Learner\", \"Host\": \"algo-1\", \"Operation\": \"training\", \"epoch\": 2, \"Meta\": \"training_data_iter\"}, \"Metrics\": {\"Total Records Seen\": {\"sum\": 325.0, \"count\": 1, \"min\": 325, \"max\": 325}, \"Total Batches Seen\": {\"sum\": 65.0, \"count\": 1, \"min\": 65, \"max\": 65}, \"Max Records Seen Between Resets\": {\"sum\": 80.0, \"count\": 1, \"min\": 80, \"max\": 80}, \"Max Batches Seen Between Resets\": {\"sum\": 16.0, \"count\": 1, \"min\": 16, \"max\": 16}, \"Reset Count\": {\"sum\": 5.0, \"count\": 1, \"min\": 5, \"max\": 5}, \"Number of Records Since Last Reset\": {\"sum\": 80.0, \"count\": 1, \"min\": 80, \"max\": 80}, \"Number of Batches Since Last Reset\": {\"sum\": 16.0, \"count\": 1, \"min\": 16, \"max\": 16}}}\u001b[0m\n",
      "\u001b[34m[12/02/2024 12:02:48 INFO 140555045136192] #throughput_metric: host=algo-1, train throughput=336.30841271368547 records/second\u001b[0m\n",
      "\u001b[34m[2024-12-02 12:02:48.640] [tensorio] [info] epoch_stats={\"data_pipeline\": \"/opt/ml/input/data/train\", \"epoch\": 10, \"duration\": 222, \"num_examples\": 16, \"num_bytes\": 3840}\u001b[0m\n",
      "\u001b[34m#metrics {\"StartTime\": 1733140968.6409552, \"EndTime\": 1733140968.6410167, \"Dimensions\": {\"Algorithm\": \"Linear Learner\", \"Host\": \"algo-1\", \"Operation\": \"training\", \"epoch\": 3, \"model\": 0}, \"Metrics\": {\"train_absolute_loss_objective\": {\"sum\": 0.6028140231966972, \"count\": 1, \"min\": 0.6028140231966972, \"max\": 0.6028140231966972}}}\u001b[0m\n",
      "\u001b[34m#metrics {\"StartTime\": 1733140968.6410806, \"EndTime\": 1733140968.6410947, \"Dimensions\": {\"Algorithm\": \"Linear Learner\", \"Host\": \"algo-1\", \"Operation\": \"training\", \"epoch\": 3, \"model\": 1}, \"Metrics\": {\"train_absolute_loss_objective\": {\"sum\": 0.5820840075612068, \"count\": 1, \"min\": 0.5820840075612068, \"max\": 0.5820840075612068}}}\u001b[0m\n",
      "\u001b[34m#metrics {\"StartTime\": 1733140968.6411285, \"EndTime\": 1733140968.641137, \"Dimensions\": {\"Algorithm\": \"Linear Learner\", \"Host\": \"algo-1\", \"Operation\": \"training\", \"epoch\": 3, \"model\": 2}, \"Metrics\": {\"train_absolute_loss_objective\": {\"sum\": 0.6008499011397361, \"count\": 1, \"min\": 0.6008499011397361, \"max\": 0.6008499011397361}}}\u001b[0m\n",
      "\u001b[34m#metrics {\"StartTime\": 1733140968.6411674, \"EndTime\": 1733140968.6411762, \"Dimensions\": {\"Algorithm\": \"Linear Learner\", \"Host\": \"algo-1\", \"Operation\": \"training\", \"epoch\": 3, \"model\": 3}, \"Metrics\": {\"train_absolute_loss_objective\": {\"sum\": 0.5828910514712333, \"count\": 1, \"min\": 0.5828910514712333, \"max\": 0.5828910514712333}}}\u001b[0m\n",
      "\u001b[34m#metrics {\"StartTime\": 1733140968.6412072, \"EndTime\": 1733140968.6412175, \"Dimensions\": {\"Algorithm\": \"Linear Learner\", \"Host\": \"algo-1\", \"Operation\": \"training\", \"epoch\": 3, \"model\": 4}, \"Metrics\": {\"train_absolute_loss_objective\": {\"sum\": 0.2661594398319721, \"count\": 1, \"min\": 0.2661594398319721, \"max\": 0.2661594398319721}}}\u001b[0m\n",
      "\u001b[34m#metrics {\"StartTime\": 1733140968.6412454, \"EndTime\": 1733140968.641255, \"Dimensions\": {\"Algorithm\": \"Linear Learner\", \"Host\": \"algo-1\", \"Operation\": \"training\", \"epoch\": 3, \"model\": 5}, \"Metrics\": {\"train_absolute_loss_objective\": {\"sum\": 0.2689954414963722, \"count\": 1, \"min\": 0.2689954414963722, \"max\": 0.2689954414963722}}}\u001b[0m\n",
      "\u001b[34m#metrics {\"StartTime\": 1733140968.6412828, \"EndTime\": 1733140968.6412907, \"Dimensions\": {\"Algorithm\": \"Linear Learner\", \"Host\": \"algo-1\", \"Operation\": \"training\", \"epoch\": 3, \"model\": 6}, \"Metrics\": {\"train_absolute_loss_objective\": {\"sum\": 0.28128859102725984, \"count\": 1, \"min\": 0.28128859102725984, \"max\": 0.28128859102725984}}}\u001b[0m\n",
      "\u001b[34m#metrics {\"StartTime\": 1733140968.6413178, \"EndTime\": 1733140968.6413264, \"Dimensions\": {\"Algorithm\": \"Linear Learner\", \"Host\": \"algo-1\", \"Operation\": \"training\", \"epoch\": 3, \"model\": 7}, \"Metrics\": {\"train_absolute_loss_objective\": {\"sum\": 0.2843305662274361, \"count\": 1, \"min\": 0.2843305662274361, \"max\": 0.2843305662274361}}}\u001b[0m\n",
      "\u001b[34m#metrics {\"StartTime\": 1733140968.6413558, \"EndTime\": 1733140968.6413655, \"Dimensions\": {\"Algorithm\": \"Linear Learner\", \"Host\": \"algo-1\", \"Operation\": \"training\", \"epoch\": 3, \"model\": 8}, \"Metrics\": {\"train_absolute_loss_objective\": {\"sum\": 0.5574619054794312, \"count\": 1, \"min\": 0.5574619054794312, \"max\": 0.5574619054794312}}}\u001b[0m\n",
      "\u001b[34m#metrics {\"StartTime\": 1733140968.6413922, \"EndTime\": 1733140968.6414015, \"Dimensions\": {\"Algorithm\": \"Linear Learner\", \"Host\": \"algo-1\", \"Operation\": \"training\", \"epoch\": 3, \"model\": 9}, \"Metrics\": {\"train_absolute_loss_objective\": {\"sum\": 0.6065842673182488, \"count\": 1, \"min\": 0.6065842673182488, \"max\": 0.6065842673182488}}}\u001b[0m\n",
      "\u001b[34m#metrics {\"StartTime\": 1733140968.6414273, \"EndTime\": 1733140968.6414347, \"Dimensions\": {\"Algorithm\": \"Linear Learner\", \"Host\": \"algo-1\", \"Operation\": \"training\", \"epoch\": 3, \"model\": 10}, \"Metrics\": {\"train_absolute_loss_objective\": {\"sum\": 0.6051149293780327, \"count\": 1, \"min\": 0.6051149293780327, \"max\": 0.6051149293780327}}}\u001b[0m\n",
      "\u001b[34m#metrics {\"StartTime\": 1733140968.6414678, \"EndTime\": 1733140968.6414769, \"Dimensions\": {\"Algorithm\": \"Linear Learner\", \"Host\": \"algo-1\", \"Operation\": \"training\", \"epoch\": 3, \"model\": 11}, \"Metrics\": {\"train_absolute_loss_objective\": {\"sum\": 0.6133194878697396, \"count\": 1, \"min\": 0.6133194878697396, \"max\": 0.6133194878697396}}}\u001b[0m\n",
      "\u001b[34m#metrics {\"StartTime\": 1733140968.6415126, \"EndTime\": 1733140968.6415226, \"Dimensions\": {\"Algorithm\": \"Linear Learner\", \"Host\": \"algo-1\", \"Operation\": \"training\", \"epoch\": 3, \"model\": 12}, \"Metrics\": {\"train_absolute_loss_objective\": {\"sum\": 0.2693000763654709, \"count\": 1, \"min\": 0.2693000763654709, \"max\": 0.2693000763654709}}}\u001b[0m\n",
      "\u001b[34m#metrics {\"StartTime\": 1733140968.6415496, \"EndTime\": 1733140968.6415577, \"Dimensions\": {\"Algorithm\": \"Linear Learner\", \"Host\": \"algo-1\", \"Operation\": \"training\", \"epoch\": 3, \"model\": 13}, \"Metrics\": {\"train_absolute_loss_objective\": {\"sum\": 0.267200917750597, \"count\": 1, \"min\": 0.267200917750597, \"max\": 0.267200917750597}}}\u001b[0m\n",
      "\u001b[34m#metrics {\"StartTime\": 1733140968.6415875, \"EndTime\": 1733140968.6415954, \"Dimensions\": {\"Algorithm\": \"Linear Learner\", \"Host\": \"algo-1\", \"Operation\": \"training\", \"epoch\": 3, \"model\": 14}, \"Metrics\": {\"train_absolute_loss_objective\": {\"sum\": 0.2691731497645378, \"count\": 1, \"min\": 0.2691731497645378, \"max\": 0.2691731497645378}}}\u001b[0m\n",
      "\u001b[34m#metrics {\"StartTime\": 1733140968.641624, \"EndTime\": 1733140968.641633, \"Dimensions\": {\"Algorithm\": \"Linear Learner\", \"Host\": \"algo-1\", \"Operation\": \"training\", \"epoch\": 3, \"model\": 15}, \"Metrics\": {\"train_absolute_loss_objective\": {\"sum\": 0.27142423838377, \"count\": 1, \"min\": 0.27142423838377, \"max\": 0.27142423838377}}}\u001b[0m\n",
      "\u001b[34m#metrics {\"StartTime\": 1733140968.641667, \"EndTime\": 1733140968.6416757, \"Dimensions\": {\"Algorithm\": \"Linear Learner\", \"Host\": \"algo-1\", \"Operation\": \"training\", \"epoch\": 3, \"model\": 16}, \"Metrics\": {\"train_absolute_loss_objective\": {\"sum\": 0.6391446277499199, \"count\": 1, \"min\": 0.6391446277499199, \"max\": 0.6391446277499199}}}\u001b[0m\n",
      "\u001b[34m#metrics {\"StartTime\": 1733140968.6417098, \"EndTime\": 1733140968.64172, \"Dimensions\": {\"Algorithm\": \"Linear Learner\", \"Host\": \"algo-1\", \"Operation\": \"training\", \"epoch\": 3, \"model\": 17}, \"Metrics\": {\"train_absolute_loss_objective\": {\"sum\": 0.598268286883831, \"count\": 1, \"min\": 0.598268286883831, \"max\": 0.598268286883831}}}\u001b[0m\n",
      "\u001b[34m#metrics {\"StartTime\": 1733140968.6417449, \"EndTime\": 1733140968.6417537, \"Dimensions\": {\"Algorithm\": \"Linear Learner\", \"Host\": \"algo-1\", \"Operation\": \"training\", \"epoch\": 3, \"model\": 18}, \"Metrics\": {\"train_absolute_loss_objective\": {\"sum\": 0.6186285153031349, \"count\": 1, \"min\": 0.6186285153031349, \"max\": 0.6186285153031349}}}\u001b[0m\n",
      "\u001b[34m#metrics {\"StartTime\": 1733140968.6417863, \"EndTime\": 1733140968.641796, \"Dimensions\": {\"Algorithm\": \"Linear Learner\", \"Host\": \"algo-1\", \"Operation\": \"training\", \"epoch\": 3, \"model\": 19}, \"Metrics\": {\"train_absolute_loss_objective\": {\"sum\": 0.6172596767544747, \"count\": 1, \"min\": 0.6172596767544747, \"max\": 0.6172596767544747}}}\u001b[0m\n",
      "\u001b[34m#metrics {\"StartTime\": 1733140968.6418266, \"EndTime\": 1733140968.6418355, \"Dimensions\": {\"Algorithm\": \"Linear Learner\", \"Host\": \"algo-1\", \"Operation\": \"training\", \"epoch\": 3, \"model\": 20}, \"Metrics\": {\"train_absolute_loss_objective\": {\"sum\": 0.3995623864233494, \"count\": 1, \"min\": 0.3995623864233494, \"max\": 0.3995623864233494}}}\u001b[0m\n",
      "\u001b[34m#metrics {\"StartTime\": 1733140968.6418645, \"EndTime\": 1733140968.6418738, \"Dimensions\": {\"Algorithm\": \"Linear Learner\", \"Host\": \"algo-1\", \"Operation\": \"training\", \"epoch\": 3, \"model\": 21}, \"Metrics\": {\"train_absolute_loss_objective\": {\"sum\": 0.44828453883528707, \"count\": 1, \"min\": 0.44828453883528707, \"max\": 0.44828453883528707}}}\u001b[0m\n",
      "\u001b[34m#metrics {\"StartTime\": 1733140968.641902, \"EndTime\": 1733140968.6419263, \"Dimensions\": {\"Algorithm\": \"Linear Learner\", \"Host\": \"algo-1\", \"Operation\": \"training\", \"epoch\": 3, \"model\": 22}, \"Metrics\": {\"train_absolute_loss_objective\": {\"sum\": 0.4110164031386375, \"count\": 1, \"min\": 0.4110164031386375, \"max\": 0.4110164031386375}}}\u001b[0m\n",
      "\u001b[34m#metrics {\"StartTime\": 1733140968.6419568, \"EndTime\": 1733140968.6419668, \"Dimensions\": {\"Algorithm\": \"Linear Learner\", \"Host\": \"algo-1\", \"Operation\": \"training\", \"epoch\": 3, \"model\": 23}, \"Metrics\": {\"train_absolute_loss_objective\": {\"sum\": 0.40207237005233765, \"count\": 1, \"min\": 0.40207237005233765, \"max\": 0.40207237005233765}}}\u001b[0m\n",
      "\u001b[34m#metrics {\"StartTime\": 1733140968.6419947, \"EndTime\": 1733140968.6420043, \"Dimensions\": {\"Algorithm\": \"Linear Learner\", \"Host\": \"algo-1\", \"Operation\": \"training\", \"epoch\": 3, \"model\": 24}, \"Metrics\": {\"train_absolute_loss_objective\": {\"sum\": 0.7767474159598351, \"count\": 1, \"min\": 0.7767474159598351, \"max\": 0.7767474159598351}}}\u001b[0m\n",
      "\u001b[34m#metrics {\"StartTime\": 1733140968.6420493, \"EndTime\": 1733140968.6420588, \"Dimensions\": {\"Algorithm\": \"Linear Learner\", \"Host\": \"algo-1\", \"Operation\": \"training\", \"epoch\": 3, \"model\": 25}, \"Metrics\": {\"train_absolute_loss_objective\": {\"sum\": 0.7750287935137748, \"count\": 1, \"min\": 0.7750287935137748, \"max\": 0.7750287935137748}}}\u001b[0m\n",
      "\u001b[34m#metrics {\"StartTime\": 1733140968.6420887, \"EndTime\": 1733140968.6420984, \"Dimensions\": {\"Algorithm\": \"Linear Learner\", \"Host\": \"algo-1\", \"Operation\": \"training\", \"epoch\": 3, \"model\": 26}, \"Metrics\": {\"train_absolute_loss_objective\": {\"sum\": 0.7748783692717552, \"count\": 1, \"min\": 0.7748783692717552, \"max\": 0.7748783692717552}}}\u001b[0m\n",
      "\u001b[34m#metrics {\"StartTime\": 1733140968.6421297, \"EndTime\": 1733140968.6421387, \"Dimensions\": {\"Algorithm\": \"Linear Learner\", \"Host\": \"algo-1\", \"Operation\": \"training\", \"epoch\": 3, \"model\": 27}, \"Metrics\": {\"train_absolute_loss_objective\": {\"sum\": 0.7751889556646347, \"count\": 1, \"min\": 0.7751889556646347, \"max\": 0.7751889556646347}}}\u001b[0m\n",
      "\u001b[34m#metrics {\"StartTime\": 1733140968.6421664, \"EndTime\": 1733140968.6421747, \"Dimensions\": {\"Algorithm\": \"Linear Learner\", \"Host\": \"algo-1\", \"Operation\": \"training\", \"epoch\": 3, \"model\": 28}, \"Metrics\": {\"train_absolute_loss_objective\": {\"sum\": 0.8311953343451023, \"count\": 1, \"min\": 0.8311953343451023, \"max\": 0.8311953343451023}}}\u001b[0m\n",
      "\u001b[34m#metrics {\"StartTime\": 1733140968.6422029, \"EndTime\": 1733140968.6422114, \"Dimensions\": {\"Algorithm\": \"Linear Learner\", \"Host\": \"algo-1\", \"Operation\": \"training\", \"epoch\": 3, \"model\": 29}, \"Metrics\": {\"train_absolute_loss_objective\": {\"sum\": 0.8359467305243016, \"count\": 1, \"min\": 0.8359467305243016, \"max\": 0.8359467305243016}}}\u001b[0m\n",
      "\u001b[34m#metrics {\"StartTime\": 1733140968.6422405, \"EndTime\": 1733140968.642249, \"Dimensions\": {\"Algorithm\": \"Linear Learner\", \"Host\": \"algo-1\", \"Operation\": \"training\", \"epoch\": 3, \"model\": 30}, \"Metrics\": {\"train_absolute_loss_objective\": {\"sum\": 0.8202844083309173, \"count\": 1, \"min\": 0.8202844083309173, \"max\": 0.8202844083309173}}}\u001b[0m\n",
      "\u001b[34m#metrics {\"StartTime\": 1733140968.642282, \"EndTime\": 1733140968.6422915, \"Dimensions\": {\"Algorithm\": \"Linear Learner\", \"Host\": \"algo-1\", \"Operation\": \"training\", \"epoch\": 3, \"model\": 31}, \"Metrics\": {\"train_absolute_loss_objective\": {\"sum\": 0.8451522089540958, \"count\": 1, \"min\": 0.8451522089540958, \"max\": 0.8451522089540958}}}\u001b[0m\n",
      "\u001b[34m[12/02/2024 12:02:48 INFO 140555045136192] #quality_metric: host=algo-1, epoch=3, train absolute_loss_objective <loss>=0.6028140231966972\u001b[0m\n",
      "\u001b[34m[12/02/2024 12:02:48 INFO 140555045136192] #early_stopping_criteria_metric: host=algo-1, epoch=3, criteria=absolute_loss_objective, value=0.2661594398319721\u001b[0m\n",
      "\u001b[34m[12/02/2024 12:02:48 INFO 140555045136192] Epoch 3: Loss improved. Updating best model\u001b[0m\n",
      "\u001b[34m[12/02/2024 12:02:48 INFO 140555045136192] Saving model for epoch: 3\u001b[0m\n",
      "\u001b[34m[12/02/2024 12:02:48 INFO 140555045136192] Saved checkpoint to \"/tmp/tmpx32r4814/mx-mod-0000.params\"\u001b[0m\n",
      "\u001b[34m[12/02/2024 12:02:48 INFO 140555045136192] #progress_metric: host=algo-1, completed 80.0 % of epochs\u001b[0m\n",
      "\u001b[34m#metrics {\"StartTime\": 1733140968.4178598, \"EndTime\": 1733140968.6503618, \"Dimensions\": {\"Algorithm\": \"Linear Learner\", \"Host\": \"algo-1\", \"Operation\": \"training\", \"epoch\": 3, \"Meta\": \"training_data_iter\"}, \"Metrics\": {\"Total Records Seen\": {\"sum\": 405.0, \"count\": 1, \"min\": 405, \"max\": 405}, \"Total Batches Seen\": {\"sum\": 81.0, \"count\": 1, \"min\": 81, \"max\": 81}, \"Max Records Seen Between Resets\": {\"sum\": 80.0, \"count\": 1, \"min\": 80, \"max\": 80}, \"Max Batches Seen Between Resets\": {\"sum\": 16.0, \"count\": 1, \"min\": 16, \"max\": 16}, \"Reset Count\": {\"sum\": 6.0, \"count\": 1, \"min\": 6, \"max\": 6}, \"Number of Records Since Last Reset\": {\"sum\": 80.0, \"count\": 1, \"min\": 80, \"max\": 80}, \"Number of Batches Since Last Reset\": {\"sum\": 16.0, \"count\": 1, \"min\": 16, \"max\": 16}}}\u001b[0m\n",
      "\u001b[34m[12/02/2024 12:02:48 INFO 140555045136192] #throughput_metric: host=algo-1, train throughput=343.939187693216 records/second\u001b[0m\n",
      "\u001b[34m[2024-12-02 12:02:48.869] [tensorio] [info] epoch_stats={\"data_pipeline\": \"/opt/ml/input/data/train\", \"epoch\": 12, \"duration\": 219, \"num_examples\": 16, \"num_bytes\": 3840}\u001b[0m\n",
      "\u001b[34m#metrics {\"StartTime\": 1733140968.869765, \"EndTime\": 1733140968.8698273, \"Dimensions\": {\"Algorithm\": \"Linear Learner\", \"Host\": \"algo-1\", \"Operation\": \"training\", \"epoch\": 4, \"model\": 0}, \"Metrics\": {\"train_absolute_loss_objective\": {\"sum\": 0.5534270010888577, \"count\": 1, \"min\": 0.5534270010888577, \"max\": 0.5534270010888577}}}\u001b[0m\n",
      "\u001b[34m#metrics {\"StartTime\": 1733140968.8698967, \"EndTime\": 1733140968.8699086, \"Dimensions\": {\"Algorithm\": \"Linear Learner\", \"Host\": \"algo-1\", \"Operation\": \"training\", \"epoch\": 4, \"model\": 1}, \"Metrics\": {\"train_absolute_loss_objective\": {\"sum\": 0.5320455491542816, \"count\": 1, \"min\": 0.5320455491542816, \"max\": 0.5320455491542816}}}\u001b[0m\n",
      "\u001b[34m#metrics {\"StartTime\": 1733140968.869972, \"EndTime\": 1733140968.8699832, \"Dimensions\": {\"Algorithm\": \"Linear Learner\", \"Host\": \"algo-1\", \"Operation\": \"training\", \"epoch\": 4, \"model\": 2}, \"Metrics\": {\"train_absolute_loss_objective\": {\"sum\": 0.5515139795839786, \"count\": 1, \"min\": 0.5515139795839786, \"max\": 0.5515139795839786}}}\u001b[0m\n",
      "\u001b[34m#metrics {\"StartTime\": 1733140968.8700068, \"EndTime\": 1733140968.870015, \"Dimensions\": {\"Algorithm\": \"Linear Learner\", \"Host\": \"algo-1\", \"Operation\": \"training\", \"epoch\": 4, \"model\": 3}, \"Metrics\": {\"train_absolute_loss_objective\": {\"sum\": 0.5328525647521019, \"count\": 1, \"min\": 0.5328525647521019, \"max\": 0.5328525647521019}}}\u001b[0m\n",
      "\u001b[34m#metrics {\"StartTime\": 1733140968.8700454, \"EndTime\": 1733140968.8700535, \"Dimensions\": {\"Algorithm\": \"Linear Learner\", \"Host\": \"algo-1\", \"Operation\": \"training\", \"epoch\": 4, \"model\": 4}, \"Metrics\": {\"train_absolute_loss_objective\": {\"sum\": 0.27454125210642816, \"count\": 1, \"min\": 0.27454125210642816, \"max\": 0.27454125210642816}}}\u001b[0m\n",
      "\u001b[34m#metrics {\"StartTime\": 1733140968.8700879, \"EndTime\": 1733140968.8700979, \"Dimensions\": {\"Algorithm\": \"Linear Learner\", \"Host\": \"algo-1\", \"Operation\": \"training\", \"epoch\": 4, \"model\": 5}, \"Metrics\": {\"train_absolute_loss_objective\": {\"sum\": 0.27716670408844946, \"count\": 1, \"min\": 0.27716670408844946, \"max\": 0.27716670408844946}}}\u001b[0m\n",
      "\u001b[34m#metrics {\"StartTime\": 1733140968.8701317, \"EndTime\": 1733140968.8701408, \"Dimensions\": {\"Algorithm\": \"Linear Learner\", \"Host\": \"algo-1\", \"Operation\": \"training\", \"epoch\": 4, \"model\": 6}, \"Metrics\": {\"train_absolute_loss_objective\": {\"sum\": 0.2821662649512291, \"count\": 1, \"min\": 0.2821662649512291, \"max\": 0.2821662649512291}}}\u001b[0m\n",
      "\u001b[34m#metrics {\"StartTime\": 1733140968.8701842, \"EndTime\": 1733140968.8701906, \"Dimensions\": {\"Algorithm\": \"Linear Learner\", \"Host\": \"algo-1\", \"Operation\": \"training\", \"epoch\": 4, \"model\": 7}, \"Metrics\": {\"train_absolute_loss_objective\": {\"sum\": 0.2872194707393646, \"count\": 1, \"min\": 0.2872194707393646, \"max\": 0.2872194707393646}}}\u001b[0m\n",
      "\u001b[34m#metrics {\"StartTime\": 1733140968.870211, \"EndTime\": 1733140968.870216, \"Dimensions\": {\"Algorithm\": \"Linear Learner\", \"Host\": \"algo-1\", \"Operation\": \"training\", \"epoch\": 4, \"model\": 8}, \"Metrics\": {\"train_absolute_loss_objective\": {\"sum\": 0.5108005411922931, \"count\": 1, \"min\": 0.5108005411922931, \"max\": 0.5108005411922931}}}\u001b[0m\n",
      "\u001b[34m#metrics {\"StartTime\": 1733140968.8702326, \"EndTime\": 1733140968.870237, \"Dimensions\": {\"Algorithm\": \"Linear Learner\", \"Host\": \"algo-1\", \"Operation\": \"training\", \"epoch\": 4, \"model\": 9}, \"Metrics\": {\"train_absolute_loss_objective\": {\"sum\": 0.5567813783884048, \"count\": 1, \"min\": 0.5567813783884048, \"max\": 0.5567813783884048}}}\u001b[0m\n",
      "\u001b[34m#metrics {\"StartTime\": 1733140968.8702536, \"EndTime\": 1733140968.870258, \"Dimensions\": {\"Algorithm\": \"Linear Learner\", \"Host\": \"algo-1\", \"Operation\": \"training\", \"epoch\": 4, \"model\": 10}, \"Metrics\": {\"train_absolute_loss_objective\": {\"sum\": 0.5581323340535164, \"count\": 1, \"min\": 0.5581323340535164, \"max\": 0.5581323340535164}}}\u001b[0m\n",
      "\u001b[34m#metrics {\"StartTime\": 1733140968.8702745, \"EndTime\": 1733140968.870279, \"Dimensions\": {\"Algorithm\": \"Linear Learner\", \"Host\": \"algo-1\", \"Operation\": \"training\", \"epoch\": 4, \"model\": 11}, \"Metrics\": {\"train_absolute_loss_objective\": {\"sum\": 0.5631746888160706, \"count\": 1, \"min\": 0.5631746888160706, \"max\": 0.5631746888160706}}}\u001b[0m\n",
      "\u001b[34m#metrics {\"StartTime\": 1733140968.870295, \"EndTime\": 1733140968.8702996, \"Dimensions\": {\"Algorithm\": \"Linear Learner\", \"Host\": \"algo-1\", \"Operation\": \"training\", \"epoch\": 4, \"model\": 12}, \"Metrics\": {\"train_absolute_loss_objective\": {\"sum\": 0.26539877727627753, \"count\": 1, \"min\": 0.26539877727627753, \"max\": 0.26539877727627753}}}\u001b[0m\n",
      "\u001b[34m#metrics {\"StartTime\": 1733140968.870316, \"EndTime\": 1733140968.8703206, \"Dimensions\": {\"Algorithm\": \"Linear Learner\", \"Host\": \"algo-1\", \"Operation\": \"training\", \"epoch\": 4, \"model\": 13}, \"Metrics\": {\"train_absolute_loss_objective\": {\"sum\": 0.35789565816521646, \"count\": 1, \"min\": 0.35789565816521646, \"max\": 0.35789565816521646}}}\u001b[0m\n",
      "\u001b[34m#metrics {\"StartTime\": 1733140968.8703368, \"EndTime\": 1733140968.8703413, \"Dimensions\": {\"Algorithm\": \"Linear Learner\", \"Host\": \"algo-1\", \"Operation\": \"training\", \"epoch\": 4, \"model\": 14}, \"Metrics\": {\"train_absolute_loss_objective\": {\"sum\": 0.26554719656705855, \"count\": 1, \"min\": 0.26554719656705855, \"max\": 0.26554719656705855}}}\u001b[0m\n",
      "\u001b[34m#metrics {\"StartTime\": 1733140968.8703578, \"EndTime\": 1733140968.8703623, \"Dimensions\": {\"Algorithm\": \"Linear Learner\", \"Host\": \"algo-1\", \"Operation\": \"training\", \"epoch\": 4, \"model\": 15}, \"Metrics\": {\"train_absolute_loss_objective\": {\"sum\": 0.3524747177958488, \"count\": 1, \"min\": 0.3524747177958488, \"max\": 0.3524747177958488}}}\u001b[0m\n",
      "\u001b[34m#metrics {\"StartTime\": 1733140968.8703783, \"EndTime\": 1733140968.8703828, \"Dimensions\": {\"Algorithm\": \"Linear Learner\", \"Host\": \"algo-1\", \"Operation\": \"training\", \"epoch\": 4, \"model\": 16}, \"Metrics\": {\"train_absolute_loss_objective\": {\"sum\": 0.5994009807705879, \"count\": 1, \"min\": 0.5994009807705879, \"max\": 0.5994009807705879}}}\u001b[0m\n",
      "\u001b[34m#metrics {\"StartTime\": 1733140968.870399, \"EndTime\": 1733140968.8704035, \"Dimensions\": {\"Algorithm\": \"Linear Learner\", \"Host\": \"algo-1\", \"Operation\": \"training\", \"epoch\": 4, \"model\": 17}, \"Metrics\": {\"train_absolute_loss_objective\": {\"sum\": 0.5589814513921738, \"count\": 1, \"min\": 0.5589814513921738, \"max\": 0.5589814513921738}}}\u001b[0m\n",
      "\u001b[34m#metrics {\"StartTime\": 1733140968.8704195, \"EndTime\": 1733140968.870424, \"Dimensions\": {\"Algorithm\": \"Linear Learner\", \"Host\": \"algo-1\", \"Operation\": \"training\", \"epoch\": 4, \"model\": 18}, \"Metrics\": {\"train_absolute_loss_objective\": {\"sum\": 0.5800377905368805, \"count\": 1, \"min\": 0.5800377905368805, \"max\": 0.5800377905368805}}}\u001b[0m\n",
      "\u001b[34m#metrics {\"StartTime\": 1733140968.8704417, \"EndTime\": 1733140968.8704464, \"Dimensions\": {\"Algorithm\": \"Linear Learner\", \"Host\": \"algo-1\", \"Operation\": \"training\", \"epoch\": 4, \"model\": 19}, \"Metrics\": {\"train_absolute_loss_objective\": {\"sum\": 0.5767076447606087, \"count\": 1, \"min\": 0.5767076447606087, \"max\": 0.5767076447606087}}}\u001b[0m\n",
      "\u001b[34m#metrics {\"StartTime\": 1733140968.8704624, \"EndTime\": 1733140968.8704672, \"Dimensions\": {\"Algorithm\": \"Linear Learner\", \"Host\": \"algo-1\", \"Operation\": \"training\", \"epoch\": 4, \"model\": 20}, \"Metrics\": {\"train_absolute_loss_objective\": {\"sum\": 0.40064200162887575, \"count\": 1, \"min\": 0.40064200162887575, \"max\": 0.40064200162887575}}}\u001b[0m\n",
      "\u001b[34m#metrics {\"StartTime\": 1733140968.8704832, \"EndTime\": 1733140968.8704877, \"Dimensions\": {\"Algorithm\": \"Linear Learner\", \"Host\": \"algo-1\", \"Operation\": \"training\", \"epoch\": 4, \"model\": 21}, \"Metrics\": {\"train_absolute_loss_objective\": {\"sum\": 0.45221967697143556, \"count\": 1, \"min\": 0.45221967697143556, \"max\": 0.45221967697143556}}}\u001b[0m\n",
      "\u001b[34m#metrics {\"StartTime\": 1733140968.8705037, \"EndTime\": 1733140968.8705082, \"Dimensions\": {\"Algorithm\": \"Linear Learner\", \"Host\": \"algo-1\", \"Operation\": \"training\", \"epoch\": 4, \"model\": 22}, \"Metrics\": {\"train_absolute_loss_objective\": {\"sum\": 0.41981748640537264, \"count\": 1, \"min\": 0.41981748640537264, \"max\": 0.41981748640537264}}}\u001b[0m\n",
      "\u001b[34m#metrics {\"StartTime\": 1733140968.8705242, \"EndTime\": 1733140968.8705287, \"Dimensions\": {\"Algorithm\": \"Linear Learner\", \"Host\": \"algo-1\", \"Operation\": \"training\", \"epoch\": 4, \"model\": 23}, \"Metrics\": {\"train_absolute_loss_objective\": {\"sum\": 0.4082706592977047, \"count\": 1, \"min\": 0.4082706592977047, \"max\": 0.4082706592977047}}}\u001b[0m\n",
      "\u001b[34m#metrics {\"StartTime\": 1733140968.8705444, \"EndTime\": 1733140968.870549, \"Dimensions\": {\"Algorithm\": \"Linear Learner\", \"Host\": \"algo-1\", \"Operation\": \"training\", \"epoch\": 4, \"model\": 24}, \"Metrics\": {\"train_absolute_loss_objective\": {\"sum\": 0.7676183134317398, \"count\": 1, \"min\": 0.7676183134317398, \"max\": 0.7676183134317398}}}\u001b[0m\n",
      "\u001b[34m#metrics {\"StartTime\": 1733140968.8705652, \"EndTime\": 1733140968.8705697, \"Dimensions\": {\"Algorithm\": \"Linear Learner\", \"Host\": \"algo-1\", \"Operation\": \"training\", \"epoch\": 4, \"model\": 25}, \"Metrics\": {\"train_absolute_loss_objective\": {\"sum\": 0.7703440815210343, \"count\": 1, \"min\": 0.7703440815210343, \"max\": 0.7703440815210343}}}\u001b[0m\n",
      "\u001b[34m#metrics {\"StartTime\": 1733140968.8705957, \"EndTime\": 1733140968.8706038, \"Dimensions\": {\"Algorithm\": \"Linear Learner\", \"Host\": \"algo-1\", \"Operation\": \"training\", \"epoch\": 4, \"model\": 26}, \"Metrics\": {\"train_absolute_loss_objective\": {\"sum\": 0.7682720482349396, \"count\": 1, \"min\": 0.7682720482349396, \"max\": 0.7682720482349396}}}\u001b[0m\n",
      "\u001b[34m#metrics {\"StartTime\": 1733140968.870639, \"EndTime\": 1733140968.8706484, \"Dimensions\": {\"Algorithm\": \"Linear Learner\", \"Host\": \"algo-1\", \"Operation\": \"training\", \"epoch\": 4, \"model\": 27}, \"Metrics\": {\"train_absolute_loss_objective\": {\"sum\": 0.7705005228519439, \"count\": 1, \"min\": 0.7705005228519439, \"max\": 0.7705005228519439}}}\u001b[0m\n",
      "\u001b[34m#metrics {\"StartTime\": 1733140968.8706825, \"EndTime\": 1733140968.8706915, \"Dimensions\": {\"Algorithm\": \"Linear Learner\", \"Host\": \"algo-1\", \"Operation\": \"training\", \"epoch\": 4, \"model\": 28}, \"Metrics\": {\"train_absolute_loss_objective\": {\"sum\": 0.8427636712789536, \"count\": 1, \"min\": 0.8427636712789536, \"max\": 0.8427636712789536}}}\u001b[0m\n",
      "\u001b[34m#metrics {\"StartTime\": 1733140968.870723, \"EndTime\": 1733140968.8707314, \"Dimensions\": {\"Algorithm\": \"Linear Learner\", \"Host\": \"algo-1\", \"Operation\": \"training\", \"epoch\": 4, \"model\": 29}, \"Metrics\": {\"train_absolute_loss_objective\": {\"sum\": 0.8451844364404678, \"count\": 1, \"min\": 0.8451844364404678, \"max\": 0.8451844364404678}}}\u001b[0m\n",
      "\u001b[34m#metrics {\"StartTime\": 1733140968.870763, \"EndTime\": 1733140968.8707721, \"Dimensions\": {\"Algorithm\": \"Linear Learner\", \"Host\": \"algo-1\", \"Operation\": \"training\", \"epoch\": 4, \"model\": 30}, \"Metrics\": {\"train_absolute_loss_objective\": {\"sum\": 0.8061619341373444, \"count\": 1, \"min\": 0.8061619341373444, \"max\": 0.8061619341373444}}}\u001b[0m\n",
      "\u001b[34m#metrics {\"StartTime\": 1733140968.870807, \"EndTime\": 1733140968.8708162, \"Dimensions\": {\"Algorithm\": \"Linear Learner\", \"Host\": \"algo-1\", \"Operation\": \"training\", \"epoch\": 4, \"model\": 31}, \"Metrics\": {\"train_absolute_loss_objective\": {\"sum\": 0.8361083023250103, \"count\": 1, \"min\": 0.8361083023250103, \"max\": 0.8361083023250103}}}\u001b[0m\n",
      "\u001b[34m[12/02/2024 12:02:48 INFO 140555045136192] #quality_metric: host=algo-1, epoch=4, train absolute_loss_objective <loss>=0.5534270010888577\u001b[0m\n",
      "\u001b[34m[12/02/2024 12:02:48 INFO 140555045136192] #early_stopping_criteria_metric: host=algo-1, epoch=4, criteria=absolute_loss_objective, value=0.26539877727627753\u001b[0m\n",
      "\u001b[34m[12/02/2024 12:02:48 INFO 140555045136192] Epoch 4: Loss improved. Updating best model\u001b[0m\n",
      "\u001b[34m[12/02/2024 12:02:48 INFO 140555045136192] Saving model for epoch: 4\u001b[0m\n",
      "\u001b[34m[12/02/2024 12:02:48 INFO 140555045136192] Saved checkpoint to \"/tmp/tmp7jjh11jt/mx-mod-0000.params\"\u001b[0m\n",
      "\u001b[34m[12/02/2024 12:02:48 INFO 140555045136192] #progress_metric: host=algo-1, completed 100.0 % of epochs\u001b[0m\n",
      "\u001b[34m#metrics {\"StartTime\": 1733140968.6505437, \"EndTime\": 1733140968.8808675, \"Dimensions\": {\"Algorithm\": \"Linear Learner\", \"Host\": \"algo-1\", \"Operation\": \"training\", \"epoch\": 4, \"Meta\": \"training_data_iter\"}, \"Metrics\": {\"Total Records Seen\": {\"sum\": 485.0, \"count\": 1, \"min\": 485, \"max\": 485}, \"Total Batches Seen\": {\"sum\": 97.0, \"count\": 1, \"min\": 97, \"max\": 97}, \"Max Records Seen Between Resets\": {\"sum\": 80.0, \"count\": 1, \"min\": 80, \"max\": 80}, \"Max Batches Seen Between Resets\": {\"sum\": 16.0, \"count\": 1, \"min\": 16, \"max\": 16}, \"Reset Count\": {\"sum\": 7.0, \"count\": 1, \"min\": 7, \"max\": 7}, \"Number of Records Since Last Reset\": {\"sum\": 80.0, \"count\": 1, \"min\": 80, \"max\": 80}, \"Number of Batches Since Last Reset\": {\"sum\": 16.0, \"count\": 1, \"min\": 16, \"max\": 16}}}\u001b[0m\n",
      "\u001b[34m[12/02/2024 12:02:48 INFO 140555045136192] #throughput_metric: host=algo-1, train throughput=347.1980215948305 records/second\u001b[0m\n",
      "\u001b[34m[12/02/2024 12:02:48 WARNING 140555045136192] wait_for_all_workers will not sync workers since the kv store is not running distributed\u001b[0m\n",
      "\u001b[34m[12/02/2024 12:02:48 WARNING 140555045136192] wait_for_all_workers will not sync workers since the kv store is not running distributed\u001b[0m\n",
      "\u001b[34m[2024-12-02 12:02:48.881] [tensorio] [info] epoch_stats={\"data_pipeline\": \"/opt/ml/input/data/train\", \"epoch\": 14, \"duration\": 0, \"num_examples\": 1, \"num_bytes\": 240}\u001b[0m\n",
      "\u001b[34m[2024-12-02 12:02:48.912] [tensorio] [info] epoch_stats={\"data_pipeline\": \"/opt/ml/input/data/train\", \"epoch\": 16, \"duration\": 28, \"num_examples\": 16, \"num_bytes\": 3840}\u001b[0m\n",
      "\u001b[34m[12/02/2024 12:02:48 INFO 140555045136192] #train_score (algo-1) : ('absolute_loss_objective', 1.2228931427001952)\u001b[0m\n",
      "\u001b[34m[12/02/2024 12:02:48 INFO 140555045136192] #train_score (algo-1) : ('mse', 2.0659130454063415)\u001b[0m\n",
      "\u001b[34m[12/02/2024 12:02:48 INFO 140555045136192] #train_score (algo-1) : ('absolute_loss', 1.2228931427001952)\u001b[0m\n",
      "\u001b[34m[12/02/2024 12:02:48 INFO 140555045136192] #train_score (algo-1) : ('rmse', 1.437328440338652)\u001b[0m\n",
      "\u001b[34m[12/02/2024 12:02:48 INFO 140555045136192] #train_score (algo-1) : ('r2', 0.9002669443821628)\u001b[0m\n",
      "\u001b[34m[12/02/2024 12:02:48 INFO 140555045136192] #train_score (algo-1) : ('mae', 1.2228931427001952)\u001b[0m\n",
      "\u001b[34m[12/02/2024 12:02:48 INFO 140555045136192] #quality_metric: host=algo-1, train absolute_loss_objective <loss>=1.2228931427001952\u001b[0m\n",
      "\u001b[34m[12/02/2024 12:02:48 INFO 140555045136192] #quality_metric: host=algo-1, train mse <loss>=2.0659130454063415\u001b[0m\n",
      "\u001b[34m[12/02/2024 12:02:48 INFO 140555045136192] #quality_metric: host=algo-1, train absolute_loss <loss>=1.2228931427001952\u001b[0m\n",
      "\u001b[34m[12/02/2024 12:02:48 INFO 140555045136192] #quality_metric: host=algo-1, train rmse <loss>=1.437328440338652\u001b[0m\n",
      "\u001b[34m[12/02/2024 12:02:48 INFO 140555045136192] #quality_metric: host=algo-1, train r2 <loss>=0.9002669443821628\u001b[0m\n",
      "\u001b[34m[12/02/2024 12:02:48 INFO 140555045136192] #quality_metric: host=algo-1, train mae <loss>=1.2228931427001952\u001b[0m\n",
      "\u001b[34m[12/02/2024 12:02:48 INFO 140555045136192] Best model found for hyperparameters: {\"optimizer\": \"adam\", \"learning_rate\": 0.1, \"wd\": 0.01, \"l1\": 0.0, \"lr_scheduler_step\": 10, \"lr_scheduler_factor\": 0.99, \"lr_scheduler_minimum_lr\": 1e-05}\u001b[0m\n",
      "\u001b[34m[12/02/2024 12:02:48 INFO 140555045136192] Saved checkpoint to \"/tmp/tmpy16saacu/mx-mod-0000.params\"\u001b[0m\n",
      "\u001b[34m[12/02/2024 12:02:48 INFO 140555045136192] Test data is not provided.\u001b[0m\n",
      "\u001b[34m#metrics {\"StartTime\": 1733140967.512455, \"EndTime\": 1733140968.9213312, \"Dimensions\": {\"Algorithm\": \"Linear Learner\", \"Host\": \"algo-1\", \"Operation\": \"training\"}, \"Metrics\": {\"initialize.time\": {\"sum\": 192.02184677124023, \"count\": 1, \"min\": 192.02184677124023, \"max\": 192.02184677124023}, \"epochs\": {\"sum\": 5.0, \"count\": 1, \"min\": 5, \"max\": 5}, \"check_early_stopping.time\": {\"sum\": 4.296302795410156, \"count\": 5, \"min\": 0.7190704345703125, \"max\": 1.1353492736816406}, \"update.time\": {\"sum\": 1158.4248542785645, \"count\": 5, \"min\": 225.2035140991211, \"max\": 241.5177822113037}, \"finalize.time\": {\"sum\": 33.763885498046875, \"count\": 1, \"min\": 33.763885498046875, \"max\": 33.763885498046875}, \"setuptime\": {\"sum\": 1.8906593322753906, \"count\": 1, \"min\": 1.8906593322753906, \"max\": 1.8906593322753906}, \"totaltime\": {\"sum\": 1515.7215595245361, \"count\": 1, \"min\": 1515.7215595245361, \"max\": 1515.7215595245361}}}\u001b[0m\n",
      "\n",
      "2024-12-02 12:03:10 Completed - Training job completed\n",
      "Training seconds: 150\n",
      "Billable seconds: 150\n"
     ]
    }
   ],
   "source": [
    "# Note that this code leverages the new SageMaker SDK 2.0\n",
    "# Check this for the list of changes from AWS SageMaker SDK 1.0 to 2.0: https://sagemaker.readthedocs.io/en/stable/v2.html\n",
    "\n",
    "\n",
    "# We have pass in the container, the type of instance that we would like to use for training \n",
    "# output path and sagemaker session into the Estimator. \n",
    "# We can also specify how many instances we would like to use for training\n",
    "\n",
    "linear = sagemaker.estimator.Estimator(container,\n",
    "                                       role, \n",
    "                                       instance_count = 1, \n",
    "                                       instance_type = 'ml.m4.xlarge',\n",
    "                                       output_path = output_location,\n",
    "                                       sagemaker_session = sagemaker_session)\n",
    "\n",
    "\n",
    "# We can tune parameters like the number of features that we are passing in, type of predictor like 'regressor' or 'classifier', mini batch size, epochs\n",
    "# Train 32 different versions of the model and will get the best out of them (built-in parameters optimization!)\n",
    "\n",
    "linear.set_hyperparameters(feature_dim = 1,\n",
    "                           predictor_type = 'regressor',\n",
    "                           mini_batch_size = 5,\n",
    "                           epochs = 5,\n",
    "                           num_models = 32,\n",
    "                           loss = 'absolute_loss')\n",
    "\n",
    "# Now we are ready to pass in the training data from S3 to train the linear learner model\n",
    "\n",
    "linear.fit({'train': s3_train_data})\n",
    "\n",
    "# Let's see the progress using cloudwatch logs"
   ]
  },
  {
   "cell_type": "markdown",
   "metadata": {},
   "source": [
    "# DEPLOY AND TEST TRAINED LINEAR LEARNER MODEL "
   ]
  },
  {
   "cell_type": "code",
   "execution_count": 40,
   "metadata": {
    "tags": []
   },
   "outputs": [
    {
     "name": "stderr",
     "output_type": "stream",
     "text": [
      "INFO:sagemaker:Creating model with name: linear-learner-2024-12-02-12-03-52-191\n",
      "INFO:sagemaker:Creating endpoint-config with name linear-learner-2024-12-02-12-03-52-191\n",
      "INFO:sagemaker:Creating endpoint with name linear-learner-2024-12-02-12-03-52-191\n"
     ]
    },
    {
     "name": "stdout",
     "output_type": "stream",
     "text": [
      "-------!"
     ]
    }
   ],
   "source": [
    "# Deploying the model to perform inference \n",
    "\n",
    "# Content type overrides the data that will be passed to the deployed model, since the deployed model expects data in text/csv format.\n",
    "# Serializer accepts a single argument, the input data, and returns a sequence of bytes in the specified content type\n",
    "# Deserializer accepts two arguments, the result data and the response content type, and return a sequence of bytes in the specified content type.\n",
    "\n",
    "from sagemaker.deserializers import JSONDeserializer\n",
    "from sagemaker.serializers import CSVSerializer\n",
    "\n",
    "\n",
    "linear_regressor = linear.deploy(initial_instance_count = 1,\n",
    "                                 instance_type = 'ml.m4.xlarge',\n",
    "                                 serializer=CSVSerializer(),\n",
    "                                 deserializer=JSONDeserializer())"
   ]
  },
  {
   "cell_type": "code",
   "execution_count": 41,
   "metadata": {
    "tags": []
   },
   "outputs": [],
   "source": [
    "# Making prediction on the test data\n",
    "result = linear_regressor.predict(X_test)"
   ]
  },
  {
   "cell_type": "code",
   "execution_count": 42,
   "metadata": {
    "tags": []
   },
   "outputs": [
    {
     "data": {
      "text/plain": [
       "{'predictions': [{'score': 19.994606018066406},\n",
       "  {'score': 20.452720642089844},\n",
       "  {'score': 27.733661651611328},\n",
       "  {'score': 25.860641479492188},\n",
       "  {'score': 29.270767211914062},\n",
       "  {'score': 29.956892013549805},\n",
       "  {'score': 24.909343719482422},\n",
       "  {'score': 14.494264602661133},\n",
       "  {'score': 28.83371925354004},\n",
       "  {'score': 16.236963272094727},\n",
       "  {'score': 21.49496841430664},\n",
       "  {'score': 24.706741333007812},\n",
       "  {'score': 15.281890869140625},\n",
       "  {'score': 33.02775573730469},\n",
       "  {'score': 19.388559341430664},\n",
       "  {'score': 31.333858489990234},\n",
       "  {'score': 13.724250793457031},\n",
       "  {'score': 18.316667556762695},\n",
       "  {'score': 30.29660415649414},\n",
       "  {'score': 23.016403198242188}]}"
      ]
     },
     "execution_count": 42,
     "metadata": {},
     "output_type": "execute_result"
    }
   ],
   "source": [
    "result "
   ]
  },
  {
   "cell_type": "code",
   "execution_count": 43,
   "metadata": {
    "tags": []
   },
   "outputs": [],
   "source": [
    "# Since the result is in json format, we access the scores by iterating through the scores in the predictions\n",
    "\n",
    "predictions = np.array([r['score'] for r in result['predictions']])"
   ]
  },
  {
   "cell_type": "code",
   "execution_count": 44,
   "metadata": {
    "tags": []
   },
   "outputs": [
    {
     "data": {
      "text/plain": [
       "array([19.99460602, 20.45272064, 27.73366165, 25.86064148, 29.27076721,\n",
       "       29.95689201, 24.90934372, 14.4942646 , 28.83371925, 16.23696327,\n",
       "       21.49496841, 24.70674133, 15.28189087, 33.02775574, 19.38855934,\n",
       "       31.33385849, 13.72425079, 18.31666756, 30.29660416, 23.0164032 ])"
      ]
     },
     "execution_count": 44,
     "metadata": {},
     "output_type": "execute_result"
    }
   ],
   "source": [
    "predictions"
   ]
  },
  {
   "cell_type": "code",
   "execution_count": 45,
   "metadata": {
    "scrolled": true,
    "tags": []
   },
   "outputs": [
    {
     "data": {
      "text/plain": [
       "(20,)"
      ]
     },
     "execution_count": 45,
     "metadata": {},
     "output_type": "execute_result"
    }
   ],
   "source": [
    "predictions.shape"
   ]
  },
  {
   "cell_type": "code",
   "execution_count": 46,
   "metadata": {
    "tags": []
   },
   "outputs": [
    {
     "data": {
      "image/png": "[encoded data removed]",
      "text/plain": [
       "<Figure size 1000x600 with 1 Axes>"
      ]
     },
     "metadata": {},
     "output_type": "display_data"
    }
   ],
   "source": [
    "# VISUALIZE TEST SET RESULTS\n",
    "plt.figure(figsize = (10, 6))\n",
    "plt.scatter(X_test, y_test, color = 'blue')\n",
    "plt.plot(X_test, predictions, color = 'red')\n",
    "plt.xlabel('HorsePower')\n",
    "plt.ylabel('Fuel Economy [MPG]')\n",
    "plt.title('HorsePower Vs. Fuel Economy')\n",
    "plt.grid()"
   ]
  },
  {
   "cell_type": "code",
   "execution_count": 47,
   "metadata": {
    "tags": []
   },
   "outputs": [
    {
     "name": "stdout",
     "output_type": "stream",
     "text": [
      "{'predictions': [{'score': 25.96426010131836}]}\n"
     ]
    }
   ],
   "source": [
    "# Testing the trained model\n",
    "horse_power = [[175]]\n",
    "fuel_economy = linear_regressor.predict(horse_power)\n",
    "print(fuel_economy)"
   ]
  },
  {
   "cell_type": "code",
   "execution_count": 48,
   "metadata": {
    "tags": []
   },
   "outputs": [
    {
     "name": "stderr",
     "output_type": "stream",
     "text": [
      "INFO:sagemaker:Deleting endpoint configuration with name: linear-learner-2024-12-02-12-03-52-191\n",
      "INFO:sagemaker:Deleting endpoint with name: linear-learner-2024-12-02-12-03-52-191\n"
     ]
    }
   ],
   "source": [
    "# Delete the end-point\n",
    "linear_regressor.delete_endpoint()"
   ]
  },
  {
   "cell_type": "code",
   "execution_count": null,
   "metadata": {},
   "outputs": [],
   "source": []
  }
 ],
 "metadata": {
  "availableInstances": [
   {
    "_defaultOrder": 0,
    "_isFastLaunch": true,
    "category": "General purpose",
    "gpuNum": 0,
    "hideHardwareSpecs": false,
    "memoryGiB": 4,
    "name": "ml.t3.medium",
    "vcpuNum": 2
   },
   {
    "_defaultOrder": 1,
    "_isFastLaunch": false,
    "category": "General purpose",
    "gpuNum": 0,
    "hideHardwareSpecs": false,
    "memoryGiB": 8,
    "name": "ml.t3.large",
    "vcpuNum": 2
   },
   {
    "_defaultOrder": 2,
    "_isFastLaunch": false,
    "category": "General purpose",
    "gpuNum": 0,
    "hideHardwareSpecs": false,
    "memoryGiB": 16,
    "name": "ml.t3.xlarge",
    "vcpuNum": 4
   },
   {
    "_defaultOrder": 3,
    "_isFastLaunch": false,
    "category": "General purpose",
    "gpuNum": 0,
    "hideHardwareSpecs": false,
    "memoryGiB": 32,
    "name": "ml.t3.2xlarge",
    "vcpuNum": 8
   },
   {
    "_defaultOrder": 4,
    "_isFastLaunch": true,
    "category": "General purpose",
    "gpuNum": 0,
    "hideHardwareSpecs": false,
    "memoryGiB": 8,
    "name": "ml.m5.large",
    "vcpuNum": 2
   },
   {
    "_defaultOrder": 5,
    "_isFastLaunch": false,
    "category": "General purpose",
    "gpuNum": 0,
    "hideHardwareSpecs": false,
    "memoryGiB": 16,
    "name": "ml.m5.xlarge",
    "vcpuNum": 4
   },
   {
    "_defaultOrder": 6,
    "_isFastLaunch": false,
    "category": "General purpose",
    "gpuNum": 0,
    "hideHardwareSpecs": false,
    "memoryGiB": 32,
    "name": "ml.m5.2xlarge",
    "vcpuNum": 8
   },
   {
    "_defaultOrder": 7,
    "_isFastLaunch": false,
    "category": "General purpose",
    "gpuNum": 0,
    "hideHardwareSpecs": false,
    "memoryGiB": 64,
    "name": "ml.m5.4xlarge",
    "vcpuNum": 16
   },
   {
    "_defaultOrder": 8,
    "_isFastLaunch": false,
    "category": "General purpose",
    "gpuNum": 0,
    "hideHardwareSpecs": false,
    "memoryGiB": 128,
    "name": "ml.m5.8xlarge",
    "vcpuNum": 32
   },
   {
    "_defaultOrder": 9,
    "_isFastLaunch": false,
    "category": "General purpose",
    "gpuNum": 0,
    "hideHardwareSpecs": false,
    "memoryGiB": 192,
    "name": "ml.m5.12xlarge",
    "vcpuNum": 48
   },
   {
    "_defaultOrder": 10,
    "_isFastLaunch": false,
    "category": "General purpose",
    "gpuNum": 0,
    "hideHardwareSpecs": false,
    "memoryGiB": 256,
    "name": "ml.m5.16xlarge",
    "vcpuNum": 64
   },
   {
    "_defaultOrder": 11,
    "_isFastLaunch": false,
    "category": "General purpose",
    "gpuNum": 0,
    "hideHardwareSpecs": false,
    "memoryGiB": 384,
    "name": "ml.m5.24xlarge",
    "vcpuNum": 96
   },
   {
    "_defaultOrder": 12,
    "_isFastLaunch": false,
    "category": "General purpose",
    "gpuNum": 0,
    "hideHardwareSpecs": false,
    "memoryGiB": 8,
    "name": "ml.m5d.large",
    "vcpuNum": 2
   },
   {
    "_defaultOrder": 13,
    "_isFastLaunch": false,
    "category": "General purpose",
    "gpuNum": 0,
    "hideHardwareSpecs": false,
    "memoryGiB": 16,
    "name": "ml.m5d.xlarge",
    "vcpuNum": 4
   },
   {
    "_defaultOrder": 14,
    "_isFastLaunch": false,
    "category": "General purpose",
    "gpuNum": 0,
    "hideHardwareSpecs": false,
    "memoryGiB": 32,
    "name": "ml.m5d.2xlarge",
    "vcpuNum": 8
   },
   {
    "_defaultOrder": 15,
    "_isFastLaunch": false,
    "category": "General purpose",
    "gpuNum": 0,
    "hideHardwareSpecs": false,
    "memoryGiB": 64,
    "name": "ml.m5d.4xlarge",
    "vcpuNum": 16
   },
   {
    "_defaultOrder": 16,
    "_isFastLaunch": false,
    "category": "General purpose",
    "gpuNum": 0,
    "hideHardwareSpecs": false,
    "memoryGiB": 128,
    "name": "ml.m5d.8xlarge",
    "vcpuNum": 32
   },
   {
    "_defaultOrder": 17,
    "_isFastLaunch": false,
    "category": "General purpose",
    "gpuNum": 0,
    "hideHardwareSpecs": false,
    "memoryGiB": 192,
    "name": "ml.m5d.12xlarge",
    "vcpuNum": 48
   },
   {
    "_defaultOrder": 18,
    "_isFastLaunch": false,
    "category": "General purpose",
    "gpuNum": 0,
    "hideHardwareSpecs": false,
    "memoryGiB": 256,
    "name": "ml.m5d.16xlarge",
    "vcpuNum": 64
   },
   {
    "_defaultOrder": 19,
    "_isFastLaunch": false,
    "category": "General purpose",
    "gpuNum": 0,
    "hideHardwareSpecs": false,
    "memoryGiB": 384,
    "name": "ml.m5d.24xlarge",
    "vcpuNum": 96
   },
   {
    "_defaultOrder": 20,
    "_isFastLaunch": false,
    "category": "General purpose",
    "gpuNum": 0,
    "hideHardwareSpecs": true,
    "memoryGiB": 0,
    "name": "ml.geospatial.interactive",
    "supportedImageNames": [
     "sagemaker-geospatial-v1-0"
    ],
    "vcpuNum": 0
   },
   {
    "_defaultOrder": 21,
    "_isFastLaunch": true,
    "category": "Compute optimized",
    "gpuNum": 0,
    "hideHardwareSpecs": false,
    "memoryGiB": 4,
    "name": "ml.c5.large",
    "vcpuNum": 2
   },
   {
    "_defaultOrder": 22,
    "_isFastLaunch": false,
    "category": "Compute optimized",
    "gpuNum": 0,
    "hideHardwareSpecs": false,
    "memoryGiB": 8,
    "name": "ml.c5.xlarge",
    "vcpuNum": 4
   },
   {
    "_defaultOrder": 23,
    "_isFastLaunch": false,
    "category": "Compute optimized",
    "gpuNum": 0,
    "hideHardwareSpecs": false,
    "memoryGiB": 16,
    "name": "ml.c5.2xlarge",
    "vcpuNum": 8
   },
   {
    "_defaultOrder": 24,
    "_isFastLaunch": false,
    "category": "Compute optimized",
    "gpuNum": 0,
    "hideHardwareSpecs": false,
    "memoryGiB": 32,
    "name": "ml.c5.4xlarge",
    "vcpuNum": 16
   },
   {
    "_defaultOrder": 25,
    "_isFastLaunch": false,
    "category": "Compute optimized",
    "gpuNum": 0,
    "hideHardwareSpecs": false,
    "memoryGiB": 72,
    "name": "ml.c5.9xlarge",
    "vcpuNum": 36
   },
   {
    "_defaultOrder": 26,
    "_isFastLaunch": false,
    "category": "Compute optimized",
    "gpuNum": 0,
    "hideHardwareSpecs": false,
    "memoryGiB": 96,
    "name": "ml.c5.12xlarge",
    "vcpuNum": 48
   },
   {
    "_defaultOrder": 27,
    "_isFastLaunch": false,
    "category": "Compute optimized",
    "gpuNum": 0,
    "hideHardwareSpecs": false,
    "memoryGiB": 144,
    "name": "ml.c5.18xlarge",
    "vcpuNum": 72
   },
   {
    "_defaultOrder": 28,
    "_isFastLaunch": false,
    "category": "Compute optimized",
    "gpuNum": 0,
    "hideHardwareSpecs": false,
    "memoryGiB": 192,
    "name": "ml.c5.24xlarge",
    "vcpuNum": 96
   },
   {
    "_defaultOrder": 29,
    "_isFastLaunch": true,
    "category": "Accelerated computing",
    "gpuNum": 1,
    "hideHardwareSpecs": false,
    "memoryGiB": 16,
    "name": "ml.g4dn.xlarge",
    "vcpuNum": 4
   },
   {
    "_defaultOrder": 30,
    "_isFastLaunch": false,
    "category": "Accelerated computing",
    "gpuNum": 1,
    "hideHardwareSpecs": false,
    "memoryGiB": 32,
    "name": "ml.g4dn.2xlarge",
    "vcpuNum": 8
   },
   {
    "_defaultOrder": 31,
    "_isFastLaunch": false,
    "category": "Accelerated computing",
    "gpuNum": 1,
    "hideHardwareSpecs": false,
    "memoryGiB": 64,
    "name": "ml.g4dn.4xlarge",
    "vcpuNum": 16
   },
   {
    "_defaultOrder": 32,
    "_isFastLaunch": false,
    "category": "Accelerated computing",
    "gpuNum": 1,
    "hideHardwareSpecs": false,
    "memoryGiB": 128,
    "name": "ml.g4dn.8xlarge",
    "vcpuNum": 32
   },
   {
    "_defaultOrder": 33,
    "_isFastLaunch": false,
    "category": "Accelerated computing",
    "gpuNum": 4,
    "hideHardwareSpecs": false,
    "memoryGiB": 192,
    "name": "ml.g4dn.12xlarge",
    "vcpuNum": 48
   },
   {
    "_defaultOrder": 34,
    "_isFastLaunch": false,
    "category": "Accelerated computing",
    "gpuNum": 1,
    "hideHardwareSpecs": false,
    "memoryGiB": 256,
    "name": "ml.g4dn.16xlarge",
    "vcpuNum": 64
   },
   {
    "_defaultOrder": 35,
    "_isFastLaunch": false,
    "category": "Accelerated computing",
    "gpuNum": 1,
    "hideHardwareSpecs": false,
    "memoryGiB": 61,
    "name": "ml.p3.2xlarge",
    "vcpuNum": 8
   },
   {
    "_defaultOrder": 36,
    "_isFastLaunch": false,
    "category": "Accelerated computing",
    "gpuNum": 4,
    "hideHardwareSpecs": false,
    "memoryGiB": 244,
    "name": "ml.p3.8xlarge",
    "vcpuNum": 32
   },
   {
    "_defaultOrder": 37,
    "_isFastLaunch": false,
    "category": "Accelerated computing",
    "gpuNum": 8,
    "hideHardwareSpecs": false,
    "memoryGiB": 488,
    "name": "ml.p3.16xlarge",
    "vcpuNum": 64
   },
   {
    "_defaultOrder": 38,
    "_isFastLaunch": false,
    "category": "Accelerated computing",
    "gpuNum": 8,
    "hideHardwareSpecs": false,
    "memoryGiB": 768,
    "name": "ml.p3dn.24xlarge",
    "vcpuNum": 96
   },
   {
    "_defaultOrder": 39,
    "_isFastLaunch": false,
    "category": "Memory Optimized",
    "gpuNum": 0,
    "hideHardwareSpecs": false,
    "memoryGiB": 16,
    "name": "ml.r5.large",
    "vcpuNum": 2
   },
   {
    "_defaultOrder": 40,
    "_isFastLaunch": false,
    "category": "Memory Optimized",
    "gpuNum": 0,
    "hideHardwareSpecs": false,
    "memoryGiB": 32,
    "name": "ml.r5.xlarge",
    "vcpuNum": 4
   },
   {
    "_defaultOrder": 41,
    "_isFastLaunch": false,
    "category": "Memory Optimized",
    "gpuNum": 0,
    "hideHardwareSpecs": false,
    "memoryGiB": 64,
    "name": "ml.r5.2xlarge",
    "vcpuNum": 8
   },
   {
    "_defaultOrder": 42,
    "_isFastLaunch": false,
    "category": "Memory Optimized",
    "gpuNum": 0,
    "hideHardwareSpecs": false,
    "memoryGiB": 128,
    "name": "ml.r5.4xlarge",
    "vcpuNum": 16
   },
   {
    "_defaultOrder": 43,
    "_isFastLaunch": false,
    "category": "Memory Optimized",
    "gpuNum": 0,
    "hideHardwareSpecs": false,
    "memoryGiB": 256,
    "name": "ml.r5.8xlarge",
    "vcpuNum": 32
   },
   {
    "_defaultOrder": 44,
    "_isFastLaunch": false,
    "category": "Memory Optimized",
    "gpuNum": 0,
    "hideHardwareSpecs": false,
    "memoryGiB": 384,
    "name": "ml.r5.12xlarge",
    "vcpuNum": 48
   },
   {
    "_defaultOrder": 45,
    "_isFastLaunch": false,
    "category": "Memory Optimized",
    "gpuNum": 0,
    "hideHardwareSpecs": false,
    "memoryGiB": 512,
    "name": "ml.r5.16xlarge",
    "vcpuNum": 64
   },
   {
    "_defaultOrder": 46,
    "_isFastLaunch": false,
    "category": "Memory Optimized",
    "gpuNum": 0,
    "hideHardwareSpecs": false,
    "memoryGiB": 768,
    "name": "ml.r5.24xlarge",
    "vcpuNum": 96
   },
   {
    "_defaultOrder": 47,
    "_isFastLaunch": false,
    "category": "Accelerated computing",
    "gpuNum": 1,
    "hideHardwareSpecs": false,
    "memoryGiB": 16,
    "name": "ml.g5.xlarge",
    "vcpuNum": 4
   },
   {
    "_defaultOrder": 48,
    "_isFastLaunch": false,
    "category": "Accelerated computing",
    "gpuNum": 1,
    "hideHardwareSpecs": false,
    "memoryGiB": 32,
    "name": "ml.g5.2xlarge",
    "vcpuNum": 8
   },
   {
    "_defaultOrder": 49,
    "_isFastLaunch": false,
    "category": "Accelerated computing",
    "gpuNum": 1,
    "hideHardwareSpecs": false,
    "memoryGiB": 64,
    "name": "ml.g5.4xlarge",
    "vcpuNum": 16
   },
   {
    "_defaultOrder": 50,
    "_isFastLaunch": false,
    "category": "Accelerated computing",
    "gpuNum": 1,
    "hideHardwareSpecs": false,
    "memoryGiB": 128,
    "name": "ml.g5.8xlarge",
    "vcpuNum": 32
   },
   {
    "_defaultOrder": 51,
    "_isFastLaunch": false,
    "category": "Accelerated computing",
    "gpuNum": 1,
    "hideHardwareSpecs": false,
    "memoryGiB": 256,
    "name": "ml.g5.16xlarge",
    "vcpuNum": 64
   },
   {
    "_defaultOrder": 52,
    "_isFastLaunch": false,
    "category": "Accelerated computing",
    "gpuNum": 4,
    "hideHardwareSpecs": false,
    "memoryGiB": 192,
    "name": "ml.g5.12xlarge",
    "vcpuNum": 48
   },
   {
    "_defaultOrder": 53,
    "_isFastLaunch": false,
    "category": "Accelerated computing",
    "gpuNum": 4,
    "hideHardwareSpecs": false,
    "memoryGiB": 384,
    "name": "ml.g5.24xlarge",
    "vcpuNum": 96
   },
   {
    "_defaultOrder": 54,
    "_isFastLaunch": false,
    "category": "Accelerated computing",
    "gpuNum": 8,
    "hideHardwareSpecs": false,
    "memoryGiB": 768,
    "name": "ml.g5.48xlarge",
    "vcpuNum": 192
   },
   {
    "_defaultOrder": 55,
    "_isFastLaunch": false,
    "category": "Accelerated computing",
    "gpuNum": 8,
    "hideHardwareSpecs": false,
    "memoryGiB": 1152,
    "name": "ml.p4d.24xlarge",
    "vcpuNum": 96
   },
   {
    "_defaultOrder": 56,
    "_isFastLaunch": false,
    "category": "Accelerated computing",
    "gpuNum": 8,
    "hideHardwareSpecs": false,
    "memoryGiB": 1152,
    "name": "ml.p4de.24xlarge",
    "vcpuNum": 96
   },
   {
    "_defaultOrder": 57,
    "_isFastLaunch": false,
    "category": "Accelerated computing",
    "gpuNum": 0,
    "hideHardwareSpecs": false,
    "memoryGiB": 32,
    "name": "ml.trn1.2xlarge",
    "vcpuNum": 8
   },
   {
    "_defaultOrder": 58,
    "_isFastLaunch": false,
    "category": "Accelerated computing",
    "gpuNum": 0,
    "hideHardwareSpecs": false,
    "memoryGiB": 512,
    "name": "ml.trn1.32xlarge",
    "vcpuNum": 128
   },
   {
    "_defaultOrder": 59,
    "_isFastLaunch": false,
    "category": "Accelerated computing",
    "gpuNum": 0,
    "hideHardwareSpecs": false,
    "memoryGiB": 512,
    "name": "ml.trn1n.32xlarge",
    "vcpuNum": 128
   }
  ],
  "colab": {
   "collapsed_sections": [],
   "name": "Graduate_Admission_Prediction.ipynb",
   "provenance": [],
   "toc_visible": true
  },
  "instance_type": "ml.t3.medium",
  "kernelspec": {
   "display_name": "Python 3 (Data Science 4.0)",
   "language": "python",
   "name": "python3__SAGEMAKER_INTERNAL__arn:aws:sagemaker:us-east-1:081325390199:image/sagemaker-data-science-311-v1"
  },
  "language_info": {
   "codemirror_mode": {
    "name": "ipython",
    "version": 3
   },
   "file_extension": ".py",
   "mimetype": "text/x-python",
   "name": "python",
   "nbconvert_exporter": "python",
   "pygments_lexer": "ipython3",
   "version": "3.11.9"
  }
 },
 "nbformat": 4,
 "nbformat_minor": 4
}
